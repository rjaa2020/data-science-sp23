{
 "cells": [
  {
   "cell_type": "markdown",
   "metadata": {},
   "source": [
    "#  Homework 1 (HW1)\n",
    "Deadline: February 27 at 11:59pm\n",
    "\n",
    "Hand in: the homework must be handed in through the Moodle system. \n",
    "\n",
    "<span style=\"color:red\">Provide a written answer if requested in the exercise! These questions are marked in red.</span>"
   ]
  },
  {
   "cell_type": "markdown",
   "metadata": {},
   "source": [
    "---"
   ]
  },
  {
   "cell_type": "markdown",
   "metadata": {},
   "source": [
    "## Exercise 1 (HW1/1)"
   ]
  },
  {
   "cell_type": "markdown",
   "metadata": {},
   "source": [
    "In this exercise we will investigate income inequality and life expectancy indicators for different countries and regions. We will use data from the gapminder website (http://www.gapminder.org/data/). (50%)"
   ]
  },
  {
   "cell_type": "markdown",
   "metadata": {},
   "source": [
    "**a)** Download the *countries.csv* file from Moodle and save it into a *Data* folder in the same directory as this notebook. Use the relative path to load it as a pandas DataFrame named *countries* using the read_csv() function. From Gapminder import the *Income per person (GDP/capita, PPP$ inflation-adjusted)* and *Life expentancy (years)* data. Name them *income* and *life_exp* respectively. You can read in the data without dowloading it to your computer using this code:\n",
    "\n",
    "<code>pd.read_excel('https://docs.google.com/spreadsheets/d/1gZZ28UiWCVue-tFHMEVOvSO58x7x-w20E23l1wZTR3E/export?format=xlsx', sheet_name='data-GDP-per-capita-in-columns')</code><br>\n",
    "<br><code>pd.read_excel('https://github.com/Gapminder-Indicators/lex/raw/master/lex-by-gapminder.xlsx', sheet_name='countries_and_territories')</code><br>"
   ]
  },
  {
   "cell_type": "code",
   "execution_count": 51,
   "outputs": [],
   "source": [
    "import pandas as pd\n",
    "import numpy as np\n",
    "\n",
    "countries = pd.read_csv('data/countries.csv')\n",
    "\n",
    "\n",
    "income = pd.read_excel('https://docs.google.com/spreadsheets/d/1gZZ28UiWCVue-tFHMEVOvSO58x7x-w20E23l1wZTR3E/export'\n",
    "                      '?format=xlsx', sheet_name='data-GDP-per-capita-in-columns')\n",
    "income.columns = income.iloc[2]\n",
    "income = income.iloc[3:]\n",
    "income.reset_index(inplace=True)\n",
    "income.drop('index', axis=1)\n",
    "\n",
    "\n",
    "life_exp = pd.read_excel('https://github.com/Gapminder-Indicators/lex/raw/master/lex-by-gapminder.xlsx',\n",
    "                         sheet_name='countries_and_territories')"
   ],
   "metadata": {
    "collapsed": false
   }
  },
  {
   "cell_type": "code",
   "execution_count": 52,
   "outputs": [
    {
     "data": {
      "text/plain": "    Country  Region\n0   Algeria  AFRICA\n1    Angola  AFRICA\n2     Benin  AFRICA\n3  Botswana  AFRICA\n4   Burkina  AFRICA",
      "text/html": "<div>\n<style scoped>\n    .dataframe tbody tr th:only-of-type {\n        vertical-align: middle;\n    }\n\n    .dataframe tbody tr th {\n        vertical-align: top;\n    }\n\n    .dataframe thead th {\n        text-align: right;\n    }\n</style>\n<table border=\"1\" class=\"dataframe\">\n  <thead>\n    <tr style=\"text-align: right;\">\n      <th></th>\n      <th>Country</th>\n      <th>Region</th>\n    </tr>\n  </thead>\n  <tbody>\n    <tr>\n      <th>0</th>\n      <td>Algeria</td>\n      <td>AFRICA</td>\n    </tr>\n    <tr>\n      <th>1</th>\n      <td>Angola</td>\n      <td>AFRICA</td>\n    </tr>\n    <tr>\n      <th>2</th>\n      <td>Benin</td>\n      <td>AFRICA</td>\n    </tr>\n    <tr>\n      <th>3</th>\n      <td>Botswana</td>\n      <td>AFRICA</td>\n    </tr>\n    <tr>\n      <th>4</th>\n      <td>Burkina</td>\n      <td>AFRICA</td>\n    </tr>\n  </tbody>\n</table>\n</div>"
     },
     "execution_count": 52,
     "metadata": {},
     "output_type": "execute_result"
    }
   ],
   "source": [
    "countries.head()"
   ],
   "metadata": {
    "collapsed": false
   }
  },
  {
   "cell_type": "code",
   "execution_count": 53,
   "outputs": [
    {
     "data": {
      "text/plain": "2  index  geo Country Name  1800.0  1801.0  1802.0  1803.0  1804.0  1805.0  \\\n0      3  afg  Afghanistan   674.0   674.0   674.0   674.0   674.0   674.0   \n1      4  alb      Albania   746.0   746.0   746.0   746.0   746.0   747.0   \n2      5  dza      Algeria   788.0   788.0   788.0   788.0   788.0   788.0   \n3      6  and      Andorra  1338.0  1341.0  1343.0  1346.0  1348.0  1351.0   \n4      7  ago       Angola   691.0   693.0   697.0   700.0   702.0   705.0   \n\n2  1806.0  ...    2041.0    2042.0    2043.0    2044.0    2045.0    2046.0  \\\n0   674.0  ...    2880.0    2942.0    3004.0    3068.0    3133.0    3200.0   \n1   747.0  ...   24470.0   24990.0   25520.0   26062.0   26615.0   27181.0   \n2   788.0  ...   13237.0   13518.0   13805.0   14098.0   14398.0   14703.0   \n3  1353.0  ...  108493.0  110796.0  113148.0  115551.0  118004.0  120509.0   \n4   709.0  ...    8044.0    8215.0    8389.0    8567.0    8749.0    8935.0   \n\n2    2047.0    2048.0    2049.0    2050.0  \n0    3267.0    3337.0    3408.0    3480.0  \n1   27758.0   28347.0   28949.0   29563.0  \n2   15015.0   15334.0   15660.0   15992.0  \n3  123067.0  125680.0  128348.0  131073.0  \n4    9124.0    9318.0    9516.0    9718.0  \n\n[5 rows x 254 columns]",
      "text/html": "<div>\n<style scoped>\n    .dataframe tbody tr th:only-of-type {\n        vertical-align: middle;\n    }\n\n    .dataframe tbody tr th {\n        vertical-align: top;\n    }\n\n    .dataframe thead th {\n        text-align: right;\n    }\n</style>\n<table border=\"1\" class=\"dataframe\">\n  <thead>\n    <tr style=\"text-align: right;\">\n      <th>2</th>\n      <th>index</th>\n      <th>geo</th>\n      <th>Country Name</th>\n      <th>1800.0</th>\n      <th>1801.0</th>\n      <th>1802.0</th>\n      <th>1803.0</th>\n      <th>1804.0</th>\n      <th>1805.0</th>\n      <th>1806.0</th>\n      <th>...</th>\n      <th>2041.0</th>\n      <th>2042.0</th>\n      <th>2043.0</th>\n      <th>2044.0</th>\n      <th>2045.0</th>\n      <th>2046.0</th>\n      <th>2047.0</th>\n      <th>2048.0</th>\n      <th>2049.0</th>\n      <th>2050.0</th>\n    </tr>\n  </thead>\n  <tbody>\n    <tr>\n      <th>0</th>\n      <td>3</td>\n      <td>afg</td>\n      <td>Afghanistan</td>\n      <td>674.0</td>\n      <td>674.0</td>\n      <td>674.0</td>\n      <td>674.0</td>\n      <td>674.0</td>\n      <td>674.0</td>\n      <td>674.0</td>\n      <td>...</td>\n      <td>2880.0</td>\n      <td>2942.0</td>\n      <td>3004.0</td>\n      <td>3068.0</td>\n      <td>3133.0</td>\n      <td>3200.0</td>\n      <td>3267.0</td>\n      <td>3337.0</td>\n      <td>3408.0</td>\n      <td>3480.0</td>\n    </tr>\n    <tr>\n      <th>1</th>\n      <td>4</td>\n      <td>alb</td>\n      <td>Albania</td>\n      <td>746.0</td>\n      <td>746.0</td>\n      <td>746.0</td>\n      <td>746.0</td>\n      <td>746.0</td>\n      <td>747.0</td>\n      <td>747.0</td>\n      <td>...</td>\n      <td>24470.0</td>\n      <td>24990.0</td>\n      <td>25520.0</td>\n      <td>26062.0</td>\n      <td>26615.0</td>\n      <td>27181.0</td>\n      <td>27758.0</td>\n      <td>28347.0</td>\n      <td>28949.0</td>\n      <td>29563.0</td>\n    </tr>\n    <tr>\n      <th>2</th>\n      <td>5</td>\n      <td>dza</td>\n      <td>Algeria</td>\n      <td>788.0</td>\n      <td>788.0</td>\n      <td>788.0</td>\n      <td>788.0</td>\n      <td>788.0</td>\n      <td>788.0</td>\n      <td>788.0</td>\n      <td>...</td>\n      <td>13237.0</td>\n      <td>13518.0</td>\n      <td>13805.0</td>\n      <td>14098.0</td>\n      <td>14398.0</td>\n      <td>14703.0</td>\n      <td>15015.0</td>\n      <td>15334.0</td>\n      <td>15660.0</td>\n      <td>15992.0</td>\n    </tr>\n    <tr>\n      <th>3</th>\n      <td>6</td>\n      <td>and</td>\n      <td>Andorra</td>\n      <td>1338.0</td>\n      <td>1341.0</td>\n      <td>1343.0</td>\n      <td>1346.0</td>\n      <td>1348.0</td>\n      <td>1351.0</td>\n      <td>1353.0</td>\n      <td>...</td>\n      <td>108493.0</td>\n      <td>110796.0</td>\n      <td>113148.0</td>\n      <td>115551.0</td>\n      <td>118004.0</td>\n      <td>120509.0</td>\n      <td>123067.0</td>\n      <td>125680.0</td>\n      <td>128348.0</td>\n      <td>131073.0</td>\n    </tr>\n    <tr>\n      <th>4</th>\n      <td>7</td>\n      <td>ago</td>\n      <td>Angola</td>\n      <td>691.0</td>\n      <td>693.0</td>\n      <td>697.0</td>\n      <td>700.0</td>\n      <td>702.0</td>\n      <td>705.0</td>\n      <td>709.0</td>\n      <td>...</td>\n      <td>8044.0</td>\n      <td>8215.0</td>\n      <td>8389.0</td>\n      <td>8567.0</td>\n      <td>8749.0</td>\n      <td>8935.0</td>\n      <td>9124.0</td>\n      <td>9318.0</td>\n      <td>9516.0</td>\n      <td>9718.0</td>\n    </tr>\n  </tbody>\n</table>\n<p>5 rows × 254 columns</p>\n</div>"
     },
     "execution_count": 53,
     "metadata": {},
     "output_type": "execute_result"
    }
   ],
   "source": [
    "income.head()"
   ],
   "metadata": {
    "collapsed": false
   }
  },
  {
   "cell_type": "markdown",
   "source": [],
   "metadata": {
    "collapsed": false
   }
  },
  {
   "cell_type": "code",
   "execution_count": 54,
   "outputs": [
    {
     "data": {
      "text/plain": "                geo.name   indicator.name        geo indicator   1800   1801  \\\n0               Abkhazia  Life expectancy       abkh       lex    NaN    NaN   \n1            Afghanistan  Life expectancy        afg       lex  28.21  28.20   \n2  Akrotiri and Dhekelia  Life expectancy  akr_a_dhe       lex    NaN    NaN   \n3                Albania  Life expectancy        alb       lex  35.40  35.40   \n4                Algeria  Life expectancy        dza       lex  28.82  28.82   \n\n    1802   1803   1804   1805  ...   2091   2092   2093   2094   2095   2096  \\\n0    NaN    NaN    NaN    NaN  ...    NaN    NaN    NaN    NaN    NaN    NaN   \n1  28.19  28.18  28.17  28.16  ...  69.95  70.07  70.19  70.31  70.44  70.57   \n2    NaN    NaN    NaN    NaN  ...    NaN    NaN    NaN    NaN    NaN    NaN   \n3  35.40  35.40  35.40  35.40  ...  88.29  88.40  88.51  88.62  88.73  88.84   \n4  28.82  28.82  28.82  28.82  ...  89.37  89.49  89.61  89.73  89.85  89.97   \n\n    2097   2098   2099   2100  \n0    NaN    NaN    NaN    NaN  \n1  70.70  70.83  70.96  71.09  \n2    NaN    NaN    NaN    NaN  \n3  88.95  89.06  89.17  89.28  \n4  90.09  90.21  90.33  90.45  \n\n[5 rows x 305 columns]",
      "text/html": "<div>\n<style scoped>\n    .dataframe tbody tr th:only-of-type {\n        vertical-align: middle;\n    }\n\n    .dataframe tbody tr th {\n        vertical-align: top;\n    }\n\n    .dataframe thead th {\n        text-align: right;\n    }\n</style>\n<table border=\"1\" class=\"dataframe\">\n  <thead>\n    <tr style=\"text-align: right;\">\n      <th></th>\n      <th>geo.name</th>\n      <th>indicator.name</th>\n      <th>geo</th>\n      <th>indicator</th>\n      <th>1800</th>\n      <th>1801</th>\n      <th>1802</th>\n      <th>1803</th>\n      <th>1804</th>\n      <th>1805</th>\n      <th>...</th>\n      <th>2091</th>\n      <th>2092</th>\n      <th>2093</th>\n      <th>2094</th>\n      <th>2095</th>\n      <th>2096</th>\n      <th>2097</th>\n      <th>2098</th>\n      <th>2099</th>\n      <th>2100</th>\n    </tr>\n  </thead>\n  <tbody>\n    <tr>\n      <th>0</th>\n      <td>Abkhazia</td>\n      <td>Life expectancy</td>\n      <td>abkh</td>\n      <td>lex</td>\n      <td>NaN</td>\n      <td>NaN</td>\n      <td>NaN</td>\n      <td>NaN</td>\n      <td>NaN</td>\n      <td>NaN</td>\n      <td>...</td>\n      <td>NaN</td>\n      <td>NaN</td>\n      <td>NaN</td>\n      <td>NaN</td>\n      <td>NaN</td>\n      <td>NaN</td>\n      <td>NaN</td>\n      <td>NaN</td>\n      <td>NaN</td>\n      <td>NaN</td>\n    </tr>\n    <tr>\n      <th>1</th>\n      <td>Afghanistan</td>\n      <td>Life expectancy</td>\n      <td>afg</td>\n      <td>lex</td>\n      <td>28.21</td>\n      <td>28.20</td>\n      <td>28.19</td>\n      <td>28.18</td>\n      <td>28.17</td>\n      <td>28.16</td>\n      <td>...</td>\n      <td>69.95</td>\n      <td>70.07</td>\n      <td>70.19</td>\n      <td>70.31</td>\n      <td>70.44</td>\n      <td>70.57</td>\n      <td>70.70</td>\n      <td>70.83</td>\n      <td>70.96</td>\n      <td>71.09</td>\n    </tr>\n    <tr>\n      <th>2</th>\n      <td>Akrotiri and Dhekelia</td>\n      <td>Life expectancy</td>\n      <td>akr_a_dhe</td>\n      <td>lex</td>\n      <td>NaN</td>\n      <td>NaN</td>\n      <td>NaN</td>\n      <td>NaN</td>\n      <td>NaN</td>\n      <td>NaN</td>\n      <td>...</td>\n      <td>NaN</td>\n      <td>NaN</td>\n      <td>NaN</td>\n      <td>NaN</td>\n      <td>NaN</td>\n      <td>NaN</td>\n      <td>NaN</td>\n      <td>NaN</td>\n      <td>NaN</td>\n      <td>NaN</td>\n    </tr>\n    <tr>\n      <th>3</th>\n      <td>Albania</td>\n      <td>Life expectancy</td>\n      <td>alb</td>\n      <td>lex</td>\n      <td>35.40</td>\n      <td>35.40</td>\n      <td>35.40</td>\n      <td>35.40</td>\n      <td>35.40</td>\n      <td>35.40</td>\n      <td>...</td>\n      <td>88.29</td>\n      <td>88.40</td>\n      <td>88.51</td>\n      <td>88.62</td>\n      <td>88.73</td>\n      <td>88.84</td>\n      <td>88.95</td>\n      <td>89.06</td>\n      <td>89.17</td>\n      <td>89.28</td>\n    </tr>\n    <tr>\n      <th>4</th>\n      <td>Algeria</td>\n      <td>Life expectancy</td>\n      <td>dza</td>\n      <td>lex</td>\n      <td>28.82</td>\n      <td>28.82</td>\n      <td>28.82</td>\n      <td>28.82</td>\n      <td>28.82</td>\n      <td>28.82</td>\n      <td>...</td>\n      <td>89.37</td>\n      <td>89.49</td>\n      <td>89.61</td>\n      <td>89.73</td>\n      <td>89.85</td>\n      <td>89.97</td>\n      <td>90.09</td>\n      <td>90.21</td>\n      <td>90.33</td>\n      <td>90.45</td>\n    </tr>\n  </tbody>\n</table>\n<p>5 rows × 305 columns</p>\n</div>"
     },
     "execution_count": 54,
     "metadata": {},
     "output_type": "execute_result"
    }
   ],
   "source": [
    "life_exp.head()"
   ],
   "metadata": {
    "collapsed": false
   }
  },
  {
   "cell_type": "markdown",
   "metadata": {},
   "source": [
    "**b)** Represent the distribution of income per capita (across countries) for a given year (for example: 2007) with a histogram! (Hint: use the *.hist()* function on the desired data column)"
   ]
  },
  {
   "cell_type": "code",
   "execution_count": 55,
   "outputs": [
    {
     "data": {
      "text/plain": "<AxesSubplot:>"
     },
     "execution_count": 55,
     "metadata": {},
     "output_type": "execute_result"
    },
    {
     "data": {
      "text/plain": "<Figure size 432x288 with 1 Axes>",
      "image/png": "[encoded data removed]"
     },
     "metadata": {
      "needs_background": "light"
     },
     "output_type": "display_data"
    }
   ],
   "source": [
    "income[2007].hist()"
   ],
   "metadata": {
    "collapsed": false
   }
  },
  {
   "cell_type": "markdown",
   "metadata": {},
   "source": [
    "**c)** Write a function that merges the  *countries*, *income* and *life_exp* DataFrames for a given year. The year should be the function's input. (Hint: Use the *pd.merge()* function!)"
   ]
  },
  {
   "cell_type": "code",
   "execution_count": 56,
   "outputs": [
    {
     "data": {
      "text/plain": "       Country         Region  Income in 2007  Life Expectancy in 2007\n0      Algeria         AFRICA         10718.0                    75.87\n1       Angola         AFRICA          6921.0                    57.84\n2        Benin         AFRICA          2685.0                    60.27\n3     Botswana         AFRICA         14052.0                    51.13\n4      Burundi         AFRICA           816.0                    55.42\n..         ...            ...             ...                      ...\n171   Paraguay  SOUTH AMERICA          9192.0                    74.13\n172       Peru  SOUTH AMERICA          8629.0                    77.70\n173   Suriname  SOUTH AMERICA         15554.0                    69.74\n174    Uruguay  SOUTH AMERICA         14828.0                    75.81\n175  Venezuela  SOUTH AMERICA         19997.0                    74.97\n\n[176 rows x 4 columns]",
      "text/html": "<div>\n<style scoped>\n    .dataframe tbody tr th:only-of-type {\n        vertical-align: middle;\n    }\n\n    .dataframe tbody tr th {\n        vertical-align: top;\n    }\n\n    .dataframe thead th {\n        text-align: right;\n    }\n</style>\n<table border=\"1\" class=\"dataframe\">\n  <thead>\n    <tr style=\"text-align: right;\">\n      <th></th>\n      <th>Country</th>\n      <th>Region</th>\n      <th>Income in 2007</th>\n      <th>Life Expectancy in 2007</th>\n    </tr>\n  </thead>\n  <tbody>\n    <tr>\n      <th>0</th>\n      <td>Algeria</td>\n      <td>AFRICA</td>\n      <td>10718.0</td>\n      <td>75.87</td>\n    </tr>\n    <tr>\n      <th>1</th>\n      <td>Angola</td>\n      <td>AFRICA</td>\n      <td>6921.0</td>\n      <td>57.84</td>\n    </tr>\n    <tr>\n      <th>2</th>\n      <td>Benin</td>\n      <td>AFRICA</td>\n      <td>2685.0</td>\n      <td>60.27</td>\n    </tr>\n    <tr>\n      <th>3</th>\n      <td>Botswana</td>\n      <td>AFRICA</td>\n      <td>14052.0</td>\n      <td>51.13</td>\n    </tr>\n    <tr>\n      <th>4</th>\n      <td>Burundi</td>\n      <td>AFRICA</td>\n      <td>816.0</td>\n      <td>55.42</td>\n    </tr>\n    <tr>\n      <th>...</th>\n      <td>...</td>\n      <td>...</td>\n      <td>...</td>\n      <td>...</td>\n    </tr>\n    <tr>\n      <th>171</th>\n      <td>Paraguay</td>\n      <td>SOUTH AMERICA</td>\n      <td>9192.0</td>\n      <td>74.13</td>\n    </tr>\n    <tr>\n      <th>172</th>\n      <td>Peru</td>\n      <td>SOUTH AMERICA</td>\n      <td>8629.0</td>\n      <td>77.70</td>\n    </tr>\n    <tr>\n      <th>173</th>\n      <td>Suriname</td>\n      <td>SOUTH AMERICA</td>\n      <td>15554.0</td>\n      <td>69.74</td>\n    </tr>\n    <tr>\n      <th>174</th>\n      <td>Uruguay</td>\n      <td>SOUTH AMERICA</td>\n      <td>14828.0</td>\n      <td>75.81</td>\n    </tr>\n    <tr>\n      <th>175</th>\n      <td>Venezuela</td>\n      <td>SOUTH AMERICA</td>\n      <td>19997.0</td>\n      <td>74.97</td>\n    </tr>\n  </tbody>\n</table>\n<p>176 rows × 4 columns</p>\n</div>"
     },
     "execution_count": 56,
     "metadata": {},
     "output_type": "execute_result"
    }
   ],
   "source": [
    "def merge_dfs(year=2023):\n",
    "    merged_df = pd.merge(countries, income, left_on='Country', right_on='Country Name')[\n",
    "        ['Country','Region',year]\n",
    "    ].rename(columns={year: f'Income in {year}'})\n",
    "    merged_df = pd.merge(merged_df, life_exp, left_on='Country', right_on='geo.name')[\n",
    "        ['Country', 'Region', f'Income in {year}', year]\n",
    "    ].rename(columns={year: f'Life Expectancy in {year}'})\n",
    "\n",
    "    return merged_df\n",
    "\n",
    "merge_dfs(2007)"
   ],
   "metadata": {
    "collapsed": false
   }
  },
  {
   "cell_type": "markdown",
   "metadata": {},
   "source": [
    "**d)** Using the dataframe created in part c), present a [boxplot](https://pandas.pydata.org/pandas-docs/stable/reference/api/pandas.DataFrame.boxplot.html) of the distribution of income per capita (across countries) for the years 1950 and 2010 grouped by region (continent). <span style=\"color:red\">What changed in 60 years?</span>\n",
    "(Hints: 1. Use the *pd.boxplot* function! 2. Use a logarithmic scale for the income axis!)"
   ]
  },
  {
   "cell_type": "code",
   "execution_count": 57,
   "outputs": [],
   "source": [
    "nineteen_fifty = merge_dfs(1950)\n",
    "twenty_ten = merge_dfs(2010)"
   ],
   "metadata": {
    "collapsed": false
   }
  },
  {
   "cell_type": "code",
   "execution_count": 58,
   "outputs": [
    {
     "data": {
      "text/plain": "<AxesSubplot:>"
     },
     "execution_count": 58,
     "metadata": {},
     "output_type": "execute_result"
    },
    {
     "data": {
      "text/plain": "<Figure size 432x288 with 1 Axes>",
      "image/png": "[encoded data removed]"
     },
     "metadata": {
      "needs_background": "light"
     },
     "output_type": "display_data"
    }
   ],
   "source": [
    "pd.DataFrame.boxplot(np.log(nineteen_fifty['Income in 1950']))"
   ],
   "metadata": {
    "collapsed": false
   }
  },
  {
   "cell_type": "code",
   "execution_count": 59,
   "outputs": [
    {
     "data": {
      "text/plain": "<AxesSubplot:>"
     },
     "execution_count": 59,
     "metadata": {},
     "output_type": "execute_result"
    },
    {
     "data": {
      "text/plain": "<Figure size 432x288 with 1 Axes>",
      "image/png": "[encoded data removed]"
     },
     "metadata": {
      "needs_background": "light"
     },
     "output_type": "display_data"
    }
   ],
   "source": [
    "pd.DataFrame.boxplot(np.log(twenty_ten['Income in 2010']))"
   ],
   "metadata": {
    "collapsed": false
   }
  },
  {
   "cell_type": "code",
   "execution_count": 60,
   "outputs": [],
   "source": [
    "# it looks like the overall center (i.e. median in this case) has grown, while spread of the data has shrunk.\n",
    "# This means that the overall income level has become better with time."
   ],
   "metadata": {
    "collapsed": false
   }
  },
  {
   "cell_type": "markdown",
   "metadata": {},
   "source": [
    "**e)** Represent the relationship between income per capita and life expectancy for a given year using a [scatter plot](https://pandas.pydata.org/pandas-docs/version/0.23/generated/pandas.DataFrame.plot.scatter.html) based on the dataframe created in point c). <span style=\"color:red\">What can you conclude from the plot?</span> (Hint: choose a year where there aren't many missing values!)"
   ]
  },
  {
   "cell_type": "code",
   "execution_count": 61,
   "outputs": [
    {
     "data": {
      "text/plain": "<AxesSubplot:xlabel='Income in 2010', ylabel='Life Expectancy in 2010'>"
     },
     "execution_count": 61,
     "metadata": {},
     "output_type": "execute_result"
    },
    {
     "data": {
      "text/plain": "<Figure size 432x288 with 1 Axes>",
      "image/png": "[encoded data removed]"
     },
     "metadata": {
      "needs_background": "light"
     },
     "output_type": "display_data"
    }
   ],
   "source": [
    "year = 2010\n",
    "df = merge_dfs(year)\n",
    "\n",
    "# We generally see that in 2010 there is an exponentially decaying effect of income to life expectancy, but only to\n",
    "# about 80 years old\n",
    "# we can model this with a function like:\n",
    "# [Life Expectancy] = -1/[Income] + 80\n",
    "df.plot.scatter(x=f'Income in {year}', y=f'Life Expectancy in {year}')"
   ],
   "metadata": {
    "collapsed": false
   }
  },
  {
   "cell_type": "markdown",
   "metadata": {},
   "source": [
    "## Exercise 2 (HW1/2)"
   ]
  },
  {
   "cell_type": "markdown",
   "metadata": {},
   "source": [
    "The [Round University Ranking (RUR)](https://roundranking.com/ranking/world-university-rankings.html#world-2021) evaluates the performance of 867 world’s leading higher education institutions by 20 indicators grouped into 4 key areas of university activity: Teaching, Research, International Diversity, Financial Sustainability. The top 100 universities are placed in the diamond league, the next 100 in the gold league and so on... (50%)"
   ]
  },
  {
   "cell_type": "markdown",
   "metadata": {},
   "source": [
    "**a)**  Using the scraping techniques covered in class, scrape the following data fields about the universities (from the website linked above): The name of the University, in which country the University is located, their score and league given by the RUR ranking. Then load the data into a Pandas DataFrame called *df* with the following column names: <font style='font-style : oblique'>University</font>, <font style='font-style : oblique'>Country</font>, <font style='font-style : oblique'>Score</font> and <font style='font-style : oblique'>League</font>. (Hints: look for the 'table' tag, find the rows of the table with the 'tr' tag, and then loop through them extracting the requested elements).\n",
    "\n",
    "IMPORTANT: You should not re-scrape the data every time you work on the homework, because we don't want the RUR servers to get overloaded. Instead, scrape the data once and then save it to a local file on your computer (Hint: use the *pd.to_csv()* function), then load the data from this file instead of re-scraping the website."
   ]
  },
  {
   "cell_type": "code",
   "execution_count": 105,
   "outputs": [
    {
     "name": "stdout",
     "output_type": "stream",
     "text": [
      "successfully read in rankings.csv!\n",
      "  Unnamed: 0 Rank                                    University   Score  \\\n",
      "0          0    1                            Harvard University   100.0   \n",
      "1          1    2  California Institute of Technology (Caltech)  99.636   \n",
      "2          2    3                           Stanford University   97.05   \n",
      "3          3    4                       Imperial College London  96.742   \n",
      "4          4    5                          Karolinska Institute  96.609   \n",
      "\n",
      "  Country Flag          League     Unnamed: 6  \n",
      "0     USA  NaN  Diamond League  North America  \n",
      "1     USA  NaN  Diamond League  North America  \n",
      "2     USA  NaN  Diamond League  North America  \n",
      "3      UK  NaN  Diamond League         Europe  \n",
      "4  Sweden  NaN  Diamond League         Europe  \n"
     ]
    }
   ],
   "source": [
    "from selenium import webdriver\n",
    "from selenium.webdriver.chrome.service import Service\n",
    "from webdriver_manager.chrome import ChromeDriverManager\n",
    "\n",
    "try:\n",
    "    csv_name = 'rankings.csv'\n",
    "    df = pd.read_csv('./data/' + csv_name, dtype='object')\n",
    "    print(f'successfully read in {csv_name}!')\n",
    "    print(df.head())\n",
    "\n",
    "except Exception as e:\n",
    "    url = 'https://roundranking.com/ranking/world-university-rankings.html#world-2021'\n",
    "    print(f'error: {e}\\nscraping {url}')\n",
    "\n",
    "    driver = webdriver.Chrome(service=Service(ChromeDriverManager().install()))\n",
    "    driver.get(url)\n",
    "    source = driver.page_source\n",
    "\n",
    "    df = pd.read_html(source)[0]\n",
    "    df.to_csv('./data/rankings.csv')"
   ],
   "metadata": {
    "collapsed": false
   }
  },
  {
   "cell_type": "markdown",
   "metadata": {},
   "source": [
    "**b)** Filter the data as follows:\n",
    "- Filter out the US universities. (The analysis aims to find out which universities rank high outside the USA to help US students in choosing a study abroad program.)\n",
    "- Only keep the universities in the Diamond, Gold, Silver and Bronze league.\n",
    "- Sort the dataframe by score. <span style=\"color:red\">Which are the top 5 ranking universities?</span>"
   ]
  },
  {
   "cell_type": "markdown",
   "metadata": {},
   "source": [
    "**c)** Create a stacked barplot showing what portion of each country's universities are in each league. Country should be on the y axis, number of universities on the x axis, and there should be a legend with the leagues. If you have done everything as written above, then the following code snippet creates the necessary crosstable:\n",
    "\n",
    "<code>df2 = pd.crosstab(df.Country, df.League, values=df.University, aggfunc=len)[['Bronze League', 'Silver League', 'Golden League', 'Diamond League']].fillna(0)</code><br>\n",
    "\n",
    "- Only keep the countries, which have at least 10 universities in the DataFrame.\n",
    "- Sort the countries based on how many universities they have in the DataFrame.\n",
    "- The labels on the y axis should be the countries, and the x axis should indicate the number of universities in the bronze, silver, gold and diamond leagues for the given country. \n",
    "\n",
    "Hint: This plot can be created in a very simple way by using the .plot.barh(stacked=True) method on the crosstable created in the code snippit above.\n",
    "\n",
    "The barplot should look something like this:\n",
    "\n",
    "<div>\n",
    "<img src=\"https://media.licdn.com/dms/image/C4D22AQFjbmzYD8jo2w/feedshare-shrink_800/0/1676140611085?e=1678924800&v=beta&t=E5Xlq-u78bQVFzi-v5ye8Pyt4SazJi7cIFuAJaNqI1s\" width=\"400\"/>\n",
    "</div>"
   ]
  },
  {
   "cell_type": "markdown",
   "metadata": {},
   "source": [
    "**d)** In the last exercise you have to create a word cloud from the Mission Statements of the top Universities. We have already scraped these statements for you. You can find the scraped data [here](https://math.bme.hu/~pinterj/BevAdat1/Adatok/wordcloud.txt)! <br>\n",
    "- Load the text data from this site into a string variable! (Hint: You can load the data with *urlopen* as shown in Notebook1)\n",
    "- Omit the word \"university\" from the data!\n",
    "- Create a word cloud, then <span style=\"color:red\">describe what you see in 2-3 sentences!</span>\n",
    "\n",
    "(Hint: You can find more information on how to create a Word Cloud at https://www.datacamp.com/community/tutorials/wordcloud-python)"
   ]
  },
  {
   "cell_type": "code",
   "execution_count": 62,
   "metadata": {},
   "outputs": [],
   "source": []
  }
 ],
 "metadata": {
  "kernelspec": {
   "display_name": "Python 3 (ipykernel)",
   "language": "python",
   "name": "python3"
  },
  "language_info": {
   "codemirror_mode": {
    "name": "ipython",
    "version": 3
   },
   "file_extension": ".py",
   "mimetype": "text/x-python",
   "name": "python",
   "nbconvert_exporter": "python",
   "pygments_lexer": "ipython3",
   "version": "3.10.9"
  }
 },
 "nbformat": 4,
 "nbformat_minor": 2
}

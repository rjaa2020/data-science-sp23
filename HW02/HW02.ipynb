{
 "cells": [
  {
   "cell_type": "markdown",
   "metadata": {},
   "source": [
    "#  Homework 2\n",
    "\n",
    "Deadline: March 13th 11:59pm\n",
    "\n",
    "Hand in: the homework must be handed in through the Moodle system. \n",
    "\n",
    "<span style=\"color:red\">Provide a written answer if requested in the exercise! These questions are marked in red.</span>"
   ]
  },
  {
   "cell_type": "markdown",
   "metadata": {},
   "source": [
    "---"
   ]
  },
  {
   "cell_type": "markdown",
   "metadata": {},
   "source": [
    "## Exercise 1 "
   ]
  },
  {
   "cell_type": "markdown",
   "metadata": {},
   "source": [
    "Exploratory data analysis (EDA) plays a very important role in data science projects. It helps us understand the data and explore the hidden relations between variables. Moreover, it helps us in the selection of the appropriate statistical and machine learning tools and techniques. In this problem we are going to perform an exploratory data analysis on 120 years of Olympics data. (65%)"
   ]
  },
  {
   "cell_type": "markdown",
   "metadata": {},
   "source": [
    "**a)** Download the data from [this Kaggle data repository](https://www.kaggle.com/heesoo37/120-years-of-olympic-history-athletes-and-results?select=athlete_events.csv) and load the athlete_event.csv file into a pandas DataFrame called olympics120. Filter the DataFrame so that it only contains data about the Summer season. **Hint:** one way to do this is with pandas query() function."
   ]
  },
  {
   "cell_type": "code",
   "execution_count": 39,
   "outputs": [
    {
     "data": {
      "text/plain": "                  ID            Age         Height        Weight  \\\ncount  222552.000000  213363.000000  170695.000000  168698.00000   \nmean    67998.925712      25.674053     175.515551      70.68906   \nstd     39139.038228       6.699839      10.914725      14.80394   \nmin         1.000000      10.000000     127.000000      25.00000   \n25%     34000.750000      21.000000     168.000000      60.00000   \n50%     68302.500000      24.000000     175.000000      70.00000   \n75%    101881.000000      28.000000     183.000000      79.00000   \nmax    135568.000000      97.000000     226.000000     214.00000   \n\n                Year  \ncount  222552.000000  \nmean     1976.317094  \nstd        30.942802  \nmin      1896.000000  \n25%      1956.000000  \n50%      1984.000000  \n75%      2000.000000  \nmax      2016.000000  ",
      "text/html": "<div>\n<style scoped>\n    .dataframe tbody tr th:only-of-type {\n        vertical-align: middle;\n    }\n\n    .dataframe tbody tr th {\n        vertical-align: top;\n    }\n\n    .dataframe thead th {\n        text-align: right;\n    }\n</style>\n<table border=\"1\" class=\"dataframe\">\n  <thead>\n    <tr style=\"text-align: right;\">\n      <th></th>\n      <th>ID</th>\n      <th>Age</th>\n      <th>Height</th>\n      <th>Weight</th>\n      <th>Year</th>\n    </tr>\n  </thead>\n  <tbody>\n    <tr>\n      <th>count</th>\n      <td>222552.000000</td>\n      <td>213363.000000</td>\n      <td>170695.000000</td>\n      <td>168698.00000</td>\n      <td>222552.000000</td>\n    </tr>\n    <tr>\n      <th>mean</th>\n      <td>67998.925712</td>\n      <td>25.674053</td>\n      <td>175.515551</td>\n      <td>70.68906</td>\n      <td>1976.317094</td>\n    </tr>\n    <tr>\n      <th>std</th>\n      <td>39139.038228</td>\n      <td>6.699839</td>\n      <td>10.914725</td>\n      <td>14.80394</td>\n      <td>30.942802</td>\n    </tr>\n    <tr>\n      <th>min</th>\n      <td>1.000000</td>\n      <td>10.000000</td>\n      <td>127.000000</td>\n      <td>25.00000</td>\n      <td>1896.000000</td>\n    </tr>\n    <tr>\n      <th>25%</th>\n      <td>34000.750000</td>\n      <td>21.000000</td>\n      <td>168.000000</td>\n      <td>60.00000</td>\n      <td>1956.000000</td>\n    </tr>\n    <tr>\n      <th>50%</th>\n      <td>68302.500000</td>\n      <td>24.000000</td>\n      <td>175.000000</td>\n      <td>70.00000</td>\n      <td>1984.000000</td>\n    </tr>\n    <tr>\n      <th>75%</th>\n      <td>101881.000000</td>\n      <td>28.000000</td>\n      <td>183.000000</td>\n      <td>79.00000</td>\n      <td>2000.000000</td>\n    </tr>\n    <tr>\n      <th>max</th>\n      <td>135568.000000</td>\n      <td>97.000000</td>\n      <td>226.000000</td>\n      <td>214.00000</td>\n      <td>2016.000000</td>\n    </tr>\n  </tbody>\n</table>\n</div>"
     },
     "execution_count": 39,
     "metadata": {},
     "output_type": "execute_result"
    }
   ],
   "source": [
    "import pandas as pd\n",
    "\n",
    "olympics120 = pd.read_csv('../Data/olympics120/athlete_events.csv').query(\"Season == 'Summer'\")\n",
    "olympics120.describe()"
   ],
   "metadata": {
    "collapsed": false
   }
  },
  {
   "cell_type": "markdown",
   "metadata": {},
   "source": [
    "**b)** Retrieve some basic descriptive statistics about the dataset using the .describe() method of pandas DataFrames. Now, try to guess which sports have the shortest, tallest (height column), heaviest, lightest (weight column), youngest and oldest (age column) athletes in the Olympics. Then, check your guess based on the data! Print out which sport has the tallest, shortest, heaviest, lightest, youngest and oldest athletes."
   ]
  },
  {
   "cell_type": "code",
   "execution_count": 40,
   "outputs": [
    {
     "name": "stdout",
     "output_type": "stream",
     "text": [
      "Height\n",
      "max - Wrestling: 190.87\n",
      "min - Archery: 162.94\n",
      "\n",
      "Weight\n",
      "max - Wrestling: 95.62\n",
      "min - Archery: 48.76\n",
      "\n",
      "Age\n",
      "max - Wrestling: 53.33\n",
      "min - Aeronautics: 18.74\n",
      "\n"
     ]
    }
   ],
   "source": [
    "from math import isnan\n",
    "\n",
    "sports = {}\n",
    "categories = ['Height', 'Weight', 'Age']\n",
    "\n",
    "for sport in set(olympics120['Sport']):\n",
    "\tsports[sport] = olympics120.query(\"Sport == @sport\").describe().loc['mean']\n",
    "\n",
    "for category in categories:\n",
    "\tcat = {}\n",
    "\n",
    "\tfor sport in sports:\n",
    "\t\tcat[sport] = sports[sport][category]\n",
    "\n",
    "\tcat = {k: cat[k] for k in cat if not isnan(cat[k])}\n",
    "\n",
    "\tprint(f'{category}'\n",
    "\t\t  f'\\nmax - {max(cat)}: '\n",
    "\t\t  \t\tf'{round(max(cat.values()),2)}'\n",
    "\t\t  f'\\nmin - {min(cat)}: '\n",
    "\t\t  \t\tf'{round(min(cat.values()),2)}'\n",
    "\t\t  f'\\n')"
   ],
   "metadata": {
    "collapsed": false
   }
  },
  {
   "cell_type": "markdown",
   "metadata": {},
   "source": [
    "**c)** Consider only the male athletes of the following sports: Basketball, Gymnastics, Wrestling. Make a scatter plot in which the x axis shows the athletes' weights and the y axis shows the athletes' heights. Each sport should be represented by a different color point on the plot. Make one scatter plot like this for the 2012 London Olympics, and another for the 1960 Rome Olympics. **Hints:** You can create the scatterplots with the .scatterplot() function of the seaborn package. You can place the scatterplots next to each other with the help of the .subplot() function of the matplotlib.pyplot package. You can fix the scales of the axes with the matplotlib.pyplot.xlim([lower, upper]) function. It is not required to use these hints, but seaborn and matplotlib are good libraries to explore for plotting:) \n",
    "\n",
    "<span style=\"color:red\">What is the relationship between the heights and weights of athletes in these sports? How do these data differ for the 1960 and 2012 Olympics?</span>"
   ]
  },
  {
   "cell_type": "code",
   "execution_count": 41,
   "outputs": [],
   "source": [
    "london_2012 = olympics120.query(\"Year == 2012 & City == 'London'\")\n",
    "rome_1960 = olympics120.query(\"Year == 1960 & City == 'Roma'\")\n",
    "\n",
    "sports = ['Basketball', 'Gymnastics', 'Wrestling']\n",
    "sex = 'M'\n",
    "\n",
    "lon_2012 = london_2012.loc[\n",
    "\t(london_2012['Sex'] == sex)\n",
    "\t &\n",
    "\t(london_2012['Sport'].isin(sports))\n",
    "]\n",
    "r_1960 = rome_1960.loc[\n",
    "\t(rome_1960['Sex'] == sex)\n",
    "\t&\n",
    "\t(rome_1960['Sport'].isin(sports))\n",
    "\t]\n",
    "\n",
    "names = ['London 2012 Olympics', 'Roma 1960 Olympics']\n",
    "datasets = [lon_2012, r_1960]"
   ],
   "metadata": {
    "collapsed": false
   }
  },
  {
   "cell_type": "code",
   "execution_count": 42,
   "outputs": [
    {
     "data": {
      "text/plain": "<Figure size 432x288 with 2 Axes>",
      "image/png": "[encoded data removed]"
     },
     "metadata": {
      "needs_background": "light"
     },
     "output_type": "display_data"
    }
   ],
   "source": [
    "import matplotlib.pyplot as plt\n",
    "\n",
    "plots = len(datasets)\n",
    "\n",
    "fig, ax = plt.subplots(1,plots, sharex = True, sharey = True)\n",
    "\n",
    "for i in range(plots):\n",
    "\tfor sport in sports[::-1]:\n",
    "\t\tsport_data = datasets[i].query('Sport == @sport')\n",
    "\t\tax[i].scatter(sport_data['Weight'], sport_data['Height'], label=sport)\n",
    "\n",
    "\tax[i].set_title(names[i])\n",
    "\tax[i].legend()\n",
    "\tax[i].grid(True)"
   ],
   "metadata": {
    "collapsed": false
   }
  },
  {
   "cell_type": "markdown",
   "metadata": {},
   "source": [
    "**d)** We are curious about which countries have the most gold medals per 1 million people. <br>\n",
    "- Calculate how many gold medals the each country won per year at the Summer Olympics. **Hints:** You can filter the data with the query() function, keeping only the rows with gold medals. Then you can groupby() the country name and year attributes, and use .apply(lambda x: len(pd.unique(x))) on the Events column: <br> <br> gold_medals=DataFramegolds.groupby(['NOC', 'Year']).Event.apply(lambda x: len(pd.unique(x))) <br> <br> \n",
    "<span style=\"color:red\">Describe what the above line of code is doing</span>\n",
    "\n",
    "\n",
    "- Store this information in a new data frame containing the countries, year and number of gold metals. **Hints:** What is the type of the \"gold_medals\" variable you calculated in the last step? Try turning this object into lists using for example, list(gold_medals) and list(gold_medals.index). Now can you store the data from those lists in a new DataFrame? The new DataFrame should look something like this:\n",
    "<table><tr><th></th><th>NOC</th><th>YEAR</th><th>GOLDMEDALS</th></tr><tr><td>1</td><td>ALG</td><td>1992</td><td>1</td></tr><tr><td>2</td><td>ALG</td><td>1996</td><td>2</td></tr></table>\n",
    "- Using this dataframe, sum the number of gold metals per country across all years. **Hints:** You can groupby country and then call the .sum() function on the gold medals column. Update your dataframe to contain only the country names and the gold medals, something like this:\n",
    "<table><tr><th></th><th>NOC</th><th>GOLDMEDALS</th></tr><tr><td>1</td><td>ALG</td><td>1</td></tr><tr><td>2</td><td>ANZ</td><td>3</td></tr></table>\n",
    "- Load the population data from https://math.bme.hu/~pinterj/BevAdat1/Adatok/OlympicsPopulation.xlsx into a pandas DataFrame without downloading the file, then merge the two tables.\n",
    "- Add a new column to the data frame which shows the number of gold medals per capita by dividing the number of gold medals by the country's population. Multiply this result by 1,000,000 to instead show the number of gold metals per one million people.\n",
    "- Which countries have the most gold medals per one million people? **Hint:** You can use the pandas sort_values() function."
   ]
  },
  {
   "cell_type": "markdown",
   "metadata": {},
   "source": [
    "---"
   ]
  },
  {
   "cell_type": "code",
   "execution_count": 43,
   "outputs": [
    {
     "data": {
      "text/plain": "    NOC    POPULATION  Event  Golds Per Mil\n32  FIN  5.530719e+06    104      18.804065\n42  HUN  9.749763e+06    178      18.256854\n10  BAH  3.932480e+05      6      15.257547\n80  SWE  1.035344e+07    150      14.487936\n64  NOR  5.379475e+06     56      10.409938\n..  ...           ...    ...            ...\n43  INA  2.735236e+08      7       0.025592\n62  NGR  2.061396e+08      3       0.014553\n66  PAK  2.208923e+08      3       0.013581\n93  VIE  9.733858e+07      1       0.010273\n44  IND  1.380004e+09      9       0.006522\n\n[97 rows x 4 columns]",
      "text/html": "<div>\n<style scoped>\n    .dataframe tbody tr th:only-of-type {\n        vertical-align: middle;\n    }\n\n    .dataframe tbody tr th {\n        vertical-align: top;\n    }\n\n    .dataframe thead th {\n        text-align: right;\n    }\n</style>\n<table border=\"1\" class=\"dataframe\">\n  <thead>\n    <tr style=\"text-align: right;\">\n      <th></th>\n      <th>NOC</th>\n      <th>POPULATION</th>\n      <th>Event</th>\n      <th>Golds Per Mil</th>\n    </tr>\n  </thead>\n  <tbody>\n    <tr>\n      <th>32</th>\n      <td>FIN</td>\n      <td>5.530719e+06</td>\n      <td>104</td>\n      <td>18.804065</td>\n    </tr>\n    <tr>\n      <th>42</th>\n      <td>HUN</td>\n      <td>9.749763e+06</td>\n      <td>178</td>\n      <td>18.256854</td>\n    </tr>\n    <tr>\n      <th>10</th>\n      <td>BAH</td>\n      <td>3.932480e+05</td>\n      <td>6</td>\n      <td>15.257547</td>\n    </tr>\n    <tr>\n      <th>80</th>\n      <td>SWE</td>\n      <td>1.035344e+07</td>\n      <td>150</td>\n      <td>14.487936</td>\n    </tr>\n    <tr>\n      <th>64</th>\n      <td>NOR</td>\n      <td>5.379475e+06</td>\n      <td>56</td>\n      <td>10.409938</td>\n    </tr>\n    <tr>\n      <th>...</th>\n      <td>...</td>\n      <td>...</td>\n      <td>...</td>\n      <td>...</td>\n    </tr>\n    <tr>\n      <th>43</th>\n      <td>INA</td>\n      <td>2.735236e+08</td>\n      <td>7</td>\n      <td>0.025592</td>\n    </tr>\n    <tr>\n      <th>62</th>\n      <td>NGR</td>\n      <td>2.061396e+08</td>\n      <td>3</td>\n      <td>0.014553</td>\n    </tr>\n    <tr>\n      <th>66</th>\n      <td>PAK</td>\n      <td>2.208923e+08</td>\n      <td>3</td>\n      <td>0.013581</td>\n    </tr>\n    <tr>\n      <th>93</th>\n      <td>VIE</td>\n      <td>9.733858e+07</td>\n      <td>1</td>\n      <td>0.010273</td>\n    </tr>\n    <tr>\n      <th>44</th>\n      <td>IND</td>\n      <td>1.380004e+09</td>\n      <td>9</td>\n      <td>0.006522</td>\n    </tr>\n  </tbody>\n</table>\n<p>97 rows × 4 columns</p>\n</div>"
     },
     "execution_count": 43,
     "metadata": {},
     "output_type": "execute_result"
    }
   ],
   "source": [
    "# the line below creates a list of how many gold medals a country won each year\n",
    "df_golds = olympics120.query(\"Medal == 'Gold'\").groupby(\n",
    "\t[\"NOC\", \"Year\"]).Event.apply(lambda x: len(pd.unique(x)))\n",
    "noc_golds = df_golds.groupby([\"NOC\"]).sum()\n",
    "\n",
    "df_pop = pd.read_excel('https://math.bme.hu/~pinterj/BevAdat1/Adatok/OlympicsPopulation.xlsx')\n",
    "\n",
    "merged_df = df_pop.merge(noc_golds, how='inner', on='NOC')\n",
    "merged_df['Golds Per Mil'] = 1000000*merged_df['Event']/merged_df['POPULATION']\n",
    "merged_df.sort_values(by='Golds Per Mil', ascending=False)"
   ],
   "metadata": {
    "collapsed": false
   }
  },
  {
   "cell_type": "markdown",
   "metadata": {},
   "source": [
    "## Exercise 2"
   ]
  },
  {
   "cell_type": "markdown",
   "metadata": {},
   "source": [
    "Let's improve on the model used in class: decision tree on the bank dataset. (35%) "
   ]
  },
  {
   "cell_type": "markdown",
   "metadata": {},
   "source": [
    "**a)** In class we solved a classification problem on the *bank.csv* dataset using the kNN algorithm. The classifier performed poorly. Repeat the analysis carried out in class (based on the Notebook02), but now use a decision tree, set the maximum depth to be 6! **Hint:** Use the *tree.DecisionTreeClassifier* classifier!\n"
   ]
  },
  {
   "cell_type": "code",
   "execution_count": 47,
   "outputs": [
    {
     "data": {
      "text/plain": "   age  sex   income  married  children  car  save_acct  current_acct  \\\n0   48    1  17546.0        0         1    0          0             0   \n1   40    0  30085.1        1         3    1          0             1   \n2   51    1  16575.4        1         0    1          1             1   \n3   23    1  20375.4        1         3    0          0             1   \n4   57    1  50576.3        1         0    0          1             0   \n\n   mortgage  pep  INNER_CITY  RURAL  SUBURBAN  TOWN  \n0         0    1           1      0         0     0  \n1         1    0           0      0         0     1  \n2         0    0           1      0         0     0  \n3         0    0           0      0         0     1  \n4         0    0           0      1         0     0  ",
      "text/html": "<div>\n<style scoped>\n    .dataframe tbody tr th:only-of-type {\n        vertical-align: middle;\n    }\n\n    .dataframe tbody tr th {\n        vertical-align: top;\n    }\n\n    .dataframe thead th {\n        text-align: right;\n    }\n</style>\n<table border=\"1\" class=\"dataframe\">\n  <thead>\n    <tr style=\"text-align: right;\">\n      <th></th>\n      <th>age</th>\n      <th>sex</th>\n      <th>income</th>\n      <th>married</th>\n      <th>children</th>\n      <th>car</th>\n      <th>save_acct</th>\n      <th>current_acct</th>\n      <th>mortgage</th>\n      <th>pep</th>\n      <th>INNER_CITY</th>\n      <th>RURAL</th>\n      <th>SUBURBAN</th>\n      <th>TOWN</th>\n    </tr>\n  </thead>\n  <tbody>\n    <tr>\n      <th>0</th>\n      <td>48</td>\n      <td>1</td>\n      <td>17546.0</td>\n      <td>0</td>\n      <td>1</td>\n      <td>0</td>\n      <td>0</td>\n      <td>0</td>\n      <td>0</td>\n      <td>1</td>\n      <td>1</td>\n      <td>0</td>\n      <td>0</td>\n      <td>0</td>\n    </tr>\n    <tr>\n      <th>1</th>\n      <td>40</td>\n      <td>0</td>\n      <td>30085.1</td>\n      <td>1</td>\n      <td>3</td>\n      <td>1</td>\n      <td>0</td>\n      <td>1</td>\n      <td>1</td>\n      <td>0</td>\n      <td>0</td>\n      <td>0</td>\n      <td>0</td>\n      <td>1</td>\n    </tr>\n    <tr>\n      <th>2</th>\n      <td>51</td>\n      <td>1</td>\n      <td>16575.4</td>\n      <td>1</td>\n      <td>0</td>\n      <td>1</td>\n      <td>1</td>\n      <td>1</td>\n      <td>0</td>\n      <td>0</td>\n      <td>1</td>\n      <td>0</td>\n      <td>0</td>\n      <td>0</td>\n    </tr>\n    <tr>\n      <th>3</th>\n      <td>23</td>\n      <td>1</td>\n      <td>20375.4</td>\n      <td>1</td>\n      <td>3</td>\n      <td>0</td>\n      <td>0</td>\n      <td>1</td>\n      <td>0</td>\n      <td>0</td>\n      <td>0</td>\n      <td>0</td>\n      <td>0</td>\n      <td>1</td>\n    </tr>\n    <tr>\n      <th>4</th>\n      <td>57</td>\n      <td>1</td>\n      <td>50576.3</td>\n      <td>1</td>\n      <td>0</td>\n      <td>0</td>\n      <td>1</td>\n      <td>0</td>\n      <td>0</td>\n      <td>0</td>\n      <td>0</td>\n      <td>1</td>\n      <td>0</td>\n      <td>0</td>\n    </tr>\n  </tbody>\n</table>\n</div>"
     },
     "execution_count": 47,
     "metadata": {},
     "output_type": "execute_result"
    }
   ],
   "source": [
    "bank_data = pd.read_csv(\"../Data/bank.csv\", delimiter = \" \", names = ['age', 'sex', 'region', 'income', 'married', 'children', 'car','save_acct', 'current_acct', 'mortgage', 'pep'])\n",
    "\n",
    "numeric_data = bank_data.replace(['NO', 'YES', 'MALE', 'FEMALE'],[0,1,0,1])\n",
    "one_hot = pd.get_dummies(numeric_data['region'])\n",
    "numeric_data = numeric_data.drop('region', axis = 1)\n",
    "numeric_data = numeric_data.join(one_hot)\n",
    "numeric_data.head()"
   ],
   "metadata": {
    "collapsed": false
   }
  },
  {
   "cell_type": "code",
   "execution_count": 52,
   "outputs": [
    {
     "data": {
      "text/plain": "DecisionTreeClassifier(max_depth=6)"
     },
     "execution_count": 52,
     "metadata": {},
     "output_type": "execute_result"
    }
   ],
   "source": [
    "from sklearn.model_selection import train_test_split\n",
    "from sklearn import metrics\n",
    "from sklearn.tree import DecisionTreeClassifier\n",
    "\n",
    "bank_labels = numeric_data['pep']\n",
    "bank_attrs  = numeric_data.drop('pep', axis=1)\n",
    "bank_features_train, bank_features_test, bank_labels_train, bank_labels_test = train_test_split(bank_attrs, bank_labels, test_size=0.33, random_state=42)\n",
    "\n",
    "classifier = DecisionTreeClassifier(max_depth=6)\n",
    "classifier.fit(bank_features_train,bank_labels_train)"
   ],
   "metadata": {
    "collapsed": false
   }
  },
  {
   "cell_type": "markdown",
   "metadata": {},
   "source": [
    "**b)** Now fit the tree using different parameters! Plot the ROC curve of the decision tree obtained in part a) and the new tree in the same figure (with different colors). Also plot the *y=x* diagonal line!"
   ]
  },
  {
   "cell_type": "code",
   "execution_count": 53,
   "outputs": [
    {
     "data": {
      "text/plain": "DecisionTreeClassifier(max_depth=10)"
     },
     "execution_count": 53,
     "metadata": {},
     "output_type": "execute_result"
    }
   ],
   "source": [
    "classifier2 = DecisionTreeClassifier(max_depth=10)\n",
    "classifier2.fit(bank_features_train,bank_labels_train)"
   ],
   "metadata": {
    "collapsed": false
   }
  },
  {
   "cell_type": "markdown",
   "metadata": {},
   "source": [
    "**c)** Plot and interpret the decision tree. The easiest way to do this is with the sklearn.tree.plot_tree function. Here's a useful article: https://pythoninoffice.com/how-to-a-plot-decision-tree-in-python/.\n",
    "\n",
    "* If you would like, you can try plotting the decision tree using the graphviz package too. **Hints:** Visualize the decision tree trained in part a) using the *tree.export_graphviz* function. To present the tree use the *graphviz.Source* function or the *SVG* function of the *Ipython.display* package! If *graphviz* is not installed you can install it using the Anaconda Navigator or by using *pip install* or by installing with homebrew, *brew install graphviz*. If it doesn't seem to work you can also download it from this [link](https://graphviz.gitlab.io/download/) and inserting the following lines of codes (use the correct path for your downloaded file):<br><br>\n",
    "import os <br>\n",
    "os.environ[\"PATH\"] += os.pathsep + 'C:/Program Files (x86)/Graphviz2.38/bin') <br><br>\n",
    "\n",
    "* Briefly interpret the results! <span style=\"color:red\">According to what attribute did we split the tree first? Which were the usual splitting attributes? </span>"
   ]
  },
  {
   "cell_type": "code",
   "execution_count": 44,
   "metadata": {},
   "outputs": [],
   "source": []
  }
 ],
 "metadata": {
  "kernelspec": {
   "display_name": "Python 3 (ipykernel)",
   "language": "python",
   "name": "python3"
  },
  "language_info": {
   "codemirror_mode": {
    "name": "ipython",
    "version": 3
   },
   "file_extension": ".py",
   "mimetype": "text/x-python",
   "name": "python",
   "nbconvert_exporter": "python",
   "pygments_lexer": "ipython3",
   "version": "3.10.9"
  }
 },
 "nbformat": 4,
 "nbformat_minor": 2
}

{
 "cells": [
  {
   "cell_type": "markdown",
   "metadata": {
    "id": "W7Byik7WaOS4"
   },
   "source": [
    "# Data Science"
   ]
  },
  {
   "cell_type": "markdown",
   "metadata": {
    "id": "zim3zre7aOS6"
   },
   "source": [
    "## Notebook 4 (Character recognition with Keras)"
   ]
  },
  {
   "cell_type": "markdown",
   "metadata": {
    "id": "QuPzKD7AaOS7"
   },
   "source": [
    "### Character recoginition with Keras"
   ]
  },
  {
   "cell_type": "markdown",
   "metadata": {
    "id": "QrovEUCtaOS7"
   },
   "source": [
    "(Thanks to Róbert Pálovics and József Pintér)"
   ]
  },
  {
   "cell_type": "code",
   "execution_count": 1,
   "metadata": {
    "executionInfo": {
     "elapsed": 714,
     "status": "ok",
     "timestamp": 1636643797495,
     "user": {
      "displayName": "József Pintér",
      "photoUrl": "https://lh3.googleusercontent.com/a/default-user=s64",
      "userId": "01160179527333808444"
     },
     "user_tz": -60
    },
    "id": "tHhu7Y_xaOS8"
   },
   "outputs": [],
   "source": [
    "# imports for plotting and displaying the data\n",
    "from IPython.core.display import HTML\n",
    "HTML(\"<style>.container { width:100% !important; }</style>\")\n",
    "%matplotlib inline\n",
    "import matplotlib.pyplot as plt\n",
    "import seaborn as sns\n",
    "from PIL import Image\n",
    "from PIL import ImageOps\n",
    "import numpy as np\n",
    "from matplotlib.pyplot import imshow\n",
    "sns.set(font=\"Droid Sans\",font_scale = 1)\n",
    "sns.set_style(\"white\")\n",
    "sns.set_color_codes(\"dark\")"
   ]
  },
  {
   "cell_type": "code",
   "execution_count": 2,
   "metadata": {},
   "outputs": [
    {
     "ename": "FileNotFoundError",
     "evalue": "No such file or directory: 'architecture.jpg'",
     "output_type": "error",
     "traceback": [
      "\u001B[1;31m---------------------------------------------------------------------------\u001B[0m",
      "\u001B[1;31mTypeError\u001B[0m                                 Traceback (most recent call last)",
      "\u001B[1;32m~\\AppData\\Roaming\\Python\\Python39\\site-packages\\IPython\\core\\display.py\u001B[0m in \u001B[0;36m_data_and_metadata\u001B[1;34m(self, always_both)\u001B[0m\n\u001B[0;32m   1299\u001B[0m         \u001B[1;32mtry\u001B[0m\u001B[1;33m:\u001B[0m\u001B[1;33m\u001B[0m\u001B[1;33m\u001B[0m\u001B[0m\n\u001B[1;32m-> 1300\u001B[1;33m             \u001B[0mb64_data\u001B[0m \u001B[1;33m=\u001B[0m \u001B[0mb2a_base64\u001B[0m\u001B[1;33m(\u001B[0m\u001B[0mself\u001B[0m\u001B[1;33m.\u001B[0m\u001B[0mdata\u001B[0m\u001B[1;33m)\u001B[0m\u001B[1;33m.\u001B[0m\u001B[0mdecode\u001B[0m\u001B[1;33m(\u001B[0m\u001B[1;34m'ascii'\u001B[0m\u001B[1;33m)\u001B[0m\u001B[1;33m\u001B[0m\u001B[1;33m\u001B[0m\u001B[0m\n\u001B[0m\u001B[0;32m   1301\u001B[0m         \u001B[1;32mexcept\u001B[0m \u001B[0mTypeError\u001B[0m\u001B[1;33m:\u001B[0m\u001B[1;33m\u001B[0m\u001B[1;33m\u001B[0m\u001B[0m\n",
      "\u001B[1;31mTypeError\u001B[0m: a bytes-like object is required, not 'str'",
      "\nDuring handling of the above exception, another exception occurred:\n",
      "\u001B[1;31mFileNotFoundError\u001B[0m                         Traceback (most recent call last)",
      "\u001B[1;32m~\\AppData\\Roaming\\Python\\Python39\\site-packages\\IPython\\core\\formatters.py\u001B[0m in \u001B[0;36m__call__\u001B[1;34m(self, obj, include, exclude)\u001B[0m\n\u001B[0;32m    968\u001B[0m \u001B[1;33m\u001B[0m\u001B[0m\n\u001B[0;32m    969\u001B[0m             \u001B[1;32mif\u001B[0m \u001B[0mmethod\u001B[0m \u001B[1;32mis\u001B[0m \u001B[1;32mnot\u001B[0m \u001B[1;32mNone\u001B[0m\u001B[1;33m:\u001B[0m\u001B[1;33m\u001B[0m\u001B[1;33m\u001B[0m\u001B[0m\n\u001B[1;32m--> 970\u001B[1;33m                 \u001B[1;32mreturn\u001B[0m \u001B[0mmethod\u001B[0m\u001B[1;33m(\u001B[0m\u001B[0minclude\u001B[0m\u001B[1;33m=\u001B[0m\u001B[0minclude\u001B[0m\u001B[1;33m,\u001B[0m \u001B[0mexclude\u001B[0m\u001B[1;33m=\u001B[0m\u001B[0mexclude\u001B[0m\u001B[1;33m)\u001B[0m\u001B[1;33m\u001B[0m\u001B[1;33m\u001B[0m\u001B[0m\n\u001B[0m\u001B[0;32m    971\u001B[0m             \u001B[1;32mreturn\u001B[0m \u001B[1;32mNone\u001B[0m\u001B[1;33m\u001B[0m\u001B[1;33m\u001B[0m\u001B[0m\n\u001B[0;32m    972\u001B[0m         \u001B[1;32melse\u001B[0m\u001B[1;33m:\u001B[0m\u001B[1;33m\u001B[0m\u001B[1;33m\u001B[0m\u001B[0m\n",
      "\u001B[1;32m~\\AppData\\Roaming\\Python\\Python39\\site-packages\\IPython\\core\\display.py\u001B[0m in \u001B[0;36m_repr_mimebundle_\u001B[1;34m(self, include, exclude)\u001B[0m\n\u001B[0;32m   1288\u001B[0m         \u001B[1;32mif\u001B[0m \u001B[0mself\u001B[0m\u001B[1;33m.\u001B[0m\u001B[0membed\u001B[0m\u001B[1;33m:\u001B[0m\u001B[1;33m\u001B[0m\u001B[1;33m\u001B[0m\u001B[0m\n\u001B[0;32m   1289\u001B[0m             \u001B[0mmimetype\u001B[0m \u001B[1;33m=\u001B[0m \u001B[0mself\u001B[0m\u001B[1;33m.\u001B[0m\u001B[0m_mimetype\u001B[0m\u001B[1;33m\u001B[0m\u001B[1;33m\u001B[0m\u001B[0m\n\u001B[1;32m-> 1290\u001B[1;33m             \u001B[0mdata\u001B[0m\u001B[1;33m,\u001B[0m \u001B[0mmetadata\u001B[0m \u001B[1;33m=\u001B[0m \u001B[0mself\u001B[0m\u001B[1;33m.\u001B[0m\u001B[0m_data_and_metadata\u001B[0m\u001B[1;33m(\u001B[0m\u001B[0malways_both\u001B[0m\u001B[1;33m=\u001B[0m\u001B[1;32mTrue\u001B[0m\u001B[1;33m)\u001B[0m\u001B[1;33m\u001B[0m\u001B[1;33m\u001B[0m\u001B[0m\n\u001B[0m\u001B[0;32m   1291\u001B[0m             \u001B[1;32mif\u001B[0m \u001B[0mmetadata\u001B[0m\u001B[1;33m:\u001B[0m\u001B[1;33m\u001B[0m\u001B[1;33m\u001B[0m\u001B[0m\n\u001B[0;32m   1292\u001B[0m                 \u001B[0mmetadata\u001B[0m \u001B[1;33m=\u001B[0m \u001B[1;33m{\u001B[0m\u001B[0mmimetype\u001B[0m\u001B[1;33m:\u001B[0m \u001B[0mmetadata\u001B[0m\u001B[1;33m}\u001B[0m\u001B[1;33m\u001B[0m\u001B[1;33m\u001B[0m\u001B[0m\n",
      "\u001B[1;32m~\\AppData\\Roaming\\Python\\Python39\\site-packages\\IPython\\core\\display.py\u001B[0m in \u001B[0;36m_data_and_metadata\u001B[1;34m(self, always_both)\u001B[0m\n\u001B[0;32m   1300\u001B[0m             \u001B[0mb64_data\u001B[0m \u001B[1;33m=\u001B[0m \u001B[0mb2a_base64\u001B[0m\u001B[1;33m(\u001B[0m\u001B[0mself\u001B[0m\u001B[1;33m.\u001B[0m\u001B[0mdata\u001B[0m\u001B[1;33m)\u001B[0m\u001B[1;33m.\u001B[0m\u001B[0mdecode\u001B[0m\u001B[1;33m(\u001B[0m\u001B[1;34m'ascii'\u001B[0m\u001B[1;33m)\u001B[0m\u001B[1;33m\u001B[0m\u001B[1;33m\u001B[0m\u001B[0m\n\u001B[0;32m   1301\u001B[0m         \u001B[1;32mexcept\u001B[0m \u001B[0mTypeError\u001B[0m\u001B[1;33m:\u001B[0m\u001B[1;33m\u001B[0m\u001B[1;33m\u001B[0m\u001B[0m\n\u001B[1;32m-> 1302\u001B[1;33m             raise FileNotFoundError(\n\u001B[0m\u001B[0;32m   1303\u001B[0m                 \"No such file or directory: '%s'\" % (self.data))\n\u001B[0;32m   1304\u001B[0m         \u001B[0mmd\u001B[0m \u001B[1;33m=\u001B[0m \u001B[1;33m{\u001B[0m\u001B[1;33m}\u001B[0m\u001B[1;33m\u001B[0m\u001B[1;33m\u001B[0m\u001B[0m\n",
      "\u001B[1;31mFileNotFoundError\u001B[0m: No such file or directory: 'architecture.jpg'"
     ]
    },
    {
     "ename": "FileNotFoundError",
     "evalue": "No such file or directory: 'architecture.jpg'",
     "output_type": "error",
     "traceback": [
      "\u001B[1;31m---------------------------------------------------------------------------\u001B[0m",
      "\u001B[1;31mTypeError\u001B[0m                                 Traceback (most recent call last)",
      "\u001B[1;32m~\\AppData\\Roaming\\Python\\Python39\\site-packages\\IPython\\core\\display.py\u001B[0m in \u001B[0;36m_data_and_metadata\u001B[1;34m(self, always_both)\u001B[0m\n\u001B[0;32m   1299\u001B[0m         \u001B[1;32mtry\u001B[0m\u001B[1;33m:\u001B[0m\u001B[1;33m\u001B[0m\u001B[1;33m\u001B[0m\u001B[0m\n\u001B[1;32m-> 1300\u001B[1;33m             \u001B[0mb64_data\u001B[0m \u001B[1;33m=\u001B[0m \u001B[0mb2a_base64\u001B[0m\u001B[1;33m(\u001B[0m\u001B[0mself\u001B[0m\u001B[1;33m.\u001B[0m\u001B[0mdata\u001B[0m\u001B[1;33m)\u001B[0m\u001B[1;33m.\u001B[0m\u001B[0mdecode\u001B[0m\u001B[1;33m(\u001B[0m\u001B[1;34m'ascii'\u001B[0m\u001B[1;33m)\u001B[0m\u001B[1;33m\u001B[0m\u001B[1;33m\u001B[0m\u001B[0m\n\u001B[0m\u001B[0;32m   1301\u001B[0m         \u001B[1;32mexcept\u001B[0m \u001B[0mTypeError\u001B[0m\u001B[1;33m:\u001B[0m\u001B[1;33m\u001B[0m\u001B[1;33m\u001B[0m\u001B[0m\n",
      "\u001B[1;31mTypeError\u001B[0m: a bytes-like object is required, not 'str'",
      "\nDuring handling of the above exception, another exception occurred:\n",
      "\u001B[1;31mFileNotFoundError\u001B[0m                         Traceback (most recent call last)",
      "\u001B[1;32m~\\AppData\\Roaming\\Python\\Python39\\site-packages\\IPython\\core\\formatters.py\u001B[0m in \u001B[0;36m__call__\u001B[1;34m(self, obj)\u001B[0m\n\u001B[0;32m    343\u001B[0m             \u001B[0mmethod\u001B[0m \u001B[1;33m=\u001B[0m \u001B[0mget_real_method\u001B[0m\u001B[1;33m(\u001B[0m\u001B[0mobj\u001B[0m\u001B[1;33m,\u001B[0m \u001B[0mself\u001B[0m\u001B[1;33m.\u001B[0m\u001B[0mprint_method\u001B[0m\u001B[1;33m)\u001B[0m\u001B[1;33m\u001B[0m\u001B[1;33m\u001B[0m\u001B[0m\n\u001B[0;32m    344\u001B[0m             \u001B[1;32mif\u001B[0m \u001B[0mmethod\u001B[0m \u001B[1;32mis\u001B[0m \u001B[1;32mnot\u001B[0m \u001B[1;32mNone\u001B[0m\u001B[1;33m:\u001B[0m\u001B[1;33m\u001B[0m\u001B[1;33m\u001B[0m\u001B[0m\n\u001B[1;32m--> 345\u001B[1;33m                 \u001B[1;32mreturn\u001B[0m \u001B[0mmethod\u001B[0m\u001B[1;33m(\u001B[0m\u001B[1;33m)\u001B[0m\u001B[1;33m\u001B[0m\u001B[1;33m\u001B[0m\u001B[0m\n\u001B[0m\u001B[0;32m    346\u001B[0m             \u001B[1;32mreturn\u001B[0m \u001B[1;32mNone\u001B[0m\u001B[1;33m\u001B[0m\u001B[1;33m\u001B[0m\u001B[0m\n\u001B[0;32m    347\u001B[0m         \u001B[1;32melse\u001B[0m\u001B[1;33m:\u001B[0m\u001B[1;33m\u001B[0m\u001B[1;33m\u001B[0m\u001B[0m\n",
      "\u001B[1;32m~\\AppData\\Roaming\\Python\\Python39\\site-packages\\IPython\\core\\display.py\u001B[0m in \u001B[0;36m_repr_png_\u001B[1;34m(self)\u001B[0m\n\u001B[0;32m   1318\u001B[0m     \u001B[1;32mdef\u001B[0m \u001B[0m_repr_png_\u001B[0m\u001B[1;33m(\u001B[0m\u001B[0mself\u001B[0m\u001B[1;33m)\u001B[0m\u001B[1;33m:\u001B[0m\u001B[1;33m\u001B[0m\u001B[1;33m\u001B[0m\u001B[0m\n\u001B[0;32m   1319\u001B[0m         \u001B[1;32mif\u001B[0m \u001B[0mself\u001B[0m\u001B[1;33m.\u001B[0m\u001B[0membed\u001B[0m \u001B[1;32mand\u001B[0m \u001B[0mself\u001B[0m\u001B[1;33m.\u001B[0m\u001B[0mformat\u001B[0m \u001B[1;33m==\u001B[0m \u001B[0mself\u001B[0m\u001B[1;33m.\u001B[0m\u001B[0m_FMT_PNG\u001B[0m\u001B[1;33m:\u001B[0m\u001B[1;33m\u001B[0m\u001B[1;33m\u001B[0m\u001B[0m\n\u001B[1;32m-> 1320\u001B[1;33m             \u001B[1;32mreturn\u001B[0m \u001B[0mself\u001B[0m\u001B[1;33m.\u001B[0m\u001B[0m_data_and_metadata\u001B[0m\u001B[1;33m(\u001B[0m\u001B[1;33m)\u001B[0m\u001B[1;33m\u001B[0m\u001B[1;33m\u001B[0m\u001B[0m\n\u001B[0m\u001B[0;32m   1321\u001B[0m \u001B[1;33m\u001B[0m\u001B[0m\n\u001B[0;32m   1322\u001B[0m     \u001B[1;32mdef\u001B[0m \u001B[0m_repr_jpeg_\u001B[0m\u001B[1;33m(\u001B[0m\u001B[0mself\u001B[0m\u001B[1;33m)\u001B[0m\u001B[1;33m:\u001B[0m\u001B[1;33m\u001B[0m\u001B[1;33m\u001B[0m\u001B[0m\n",
      "\u001B[1;32m~\\AppData\\Roaming\\Python\\Python39\\site-packages\\IPython\\core\\display.py\u001B[0m in \u001B[0;36m_data_and_metadata\u001B[1;34m(self, always_both)\u001B[0m\n\u001B[0;32m   1300\u001B[0m             \u001B[0mb64_data\u001B[0m \u001B[1;33m=\u001B[0m \u001B[0mb2a_base64\u001B[0m\u001B[1;33m(\u001B[0m\u001B[0mself\u001B[0m\u001B[1;33m.\u001B[0m\u001B[0mdata\u001B[0m\u001B[1;33m)\u001B[0m\u001B[1;33m.\u001B[0m\u001B[0mdecode\u001B[0m\u001B[1;33m(\u001B[0m\u001B[1;34m'ascii'\u001B[0m\u001B[1;33m)\u001B[0m\u001B[1;33m\u001B[0m\u001B[1;33m\u001B[0m\u001B[0m\n\u001B[0;32m   1301\u001B[0m         \u001B[1;32mexcept\u001B[0m \u001B[0mTypeError\u001B[0m\u001B[1;33m:\u001B[0m\u001B[1;33m\u001B[0m\u001B[1;33m\u001B[0m\u001B[0m\n\u001B[1;32m-> 1302\u001B[1;33m             raise FileNotFoundError(\n\u001B[0m\u001B[0;32m   1303\u001B[0m                 \"No such file or directory: '%s'\" % (self.data))\n\u001B[0;32m   1304\u001B[0m         \u001B[0mmd\u001B[0m \u001B[1;33m=\u001B[0m \u001B[1;33m{\u001B[0m\u001B[1;33m}\u001B[0m\u001B[1;33m\u001B[0m\u001B[1;33m\u001B[0m\u001B[0m\n",
      "\u001B[1;31mFileNotFoundError\u001B[0m: No such file or directory: 'architecture.jpg'"
     ]
    },
    {
     "data": {
      "text/plain": "<IPython.core.display.Image object>"
     },
     "execution_count": 2,
     "metadata": {},
     "output_type": "execute_result"
    }
   ],
   "source": [
    "from IPython.display import Image\n",
    "Image(\"architecture.jpg\",width=700)"
   ]
  },
  {
   "cell_type": "markdown",
   "metadata": {
    "id": "M-KoszX6aOS9"
   },
   "source": [
    "#### MNIST Dataset\n",
    "* 70,000 pictures of handwritten digits \n",
    "* 28x28 pixel grayscale images, so there are 28x28 = 784 attributes each with values 0-255\n",
    "* <span style=\"color:red\">How many attributes would there be for a 28X28 RGB image?</span>\n",
    "* Possible labels: 0, 1, 2, 3, 4, 5, 6, 7, 8, 9 (multi-class classifcation)\n",
    "* <span style=\"color:red\">Is a neural net a good choice for this data? Why / what problems are neural nets best suited for?</span>"
   ]
  },
  {
   "cell_type": "code",
   "execution_count": 3,
   "metadata": {
    "executionInfo": {
     "elapsed": 2316,
     "status": "ok",
     "timestamp": 1636643799808,
     "user": {
      "displayName": "József Pintér",
      "photoUrl": "https://lh3.googleusercontent.com/a/default-user=s64",
      "userId": "01160179527333808444"
     },
     "user_tz": -60
    },
    "id": "AoA4glNoaOS9"
   },
   "outputs": [
    {
     "name": "stdout",
     "output_type": "stream",
     "text": [
      "Downloading data from https://storage.googleapis.com/tensorflow/tf-keras-datasets/mnist.npz\n",
      "11490434/11490434 [==============================] - 1s 0us/step\n"
     ]
    },
    {
     "data": {
      "text/plain": "(10000, 28, 28)"
     },
     "execution_count": 3,
     "metadata": {},
     "output_type": "execute_result"
    }
   ],
   "source": [
    "from tensorflow.keras.datasets import mnist\n",
    "\n",
    "(x_train, y_train), (x_test, y_test) = mnist.load_data()\n",
    "x_test.shape"
   ]
  },
  {
   "cell_type": "code",
   "execution_count": 4,
   "metadata": {
    "executionInfo": {
     "elapsed": 347,
     "status": "ok",
     "timestamp": 1636643800150,
     "user": {
      "displayName": "József Pintér",
      "photoUrl": "https://lh3.googleusercontent.com/a/default-user=s64",
      "userId": "01160179527333808444"
     },
     "user_tz": -60
    },
    "id": "o0nt-EjhaOS-"
   },
   "outputs": [
    {
     "data": {
      "text/plain": "(60000, 28, 28)"
     },
     "execution_count": 4,
     "metadata": {},
     "output_type": "execute_result"
    }
   ],
   "source": [
    "x_train.shape"
   ]
  },
  {
   "cell_type": "code",
   "execution_count": 5,
   "metadata": {},
   "outputs": [
    {
     "name": "stdout",
     "output_type": "stream",
     "text": [
      "0  0  0  0  0  0  0  0  0  0  0  0  0  0  0  0  0  0  0  0  0  0  0  0  0  0  0  0\n",
      "0  0  0  0  0  0  0  0  0  0  0  0  0  0  0  0  0  0  0  0  0  0  0  0  0  0  0  0\n",
      "0  0  0  0  0  0  0  0  0  0  0  0  0  0  0  0  0  0  0  0  0  0  0  0  0  0  0  0\n",
      "0  0  0  0  0  0  0  0  0  0  0  0  0  0  0  0  0  0  0  0  0  0  0  0  0  0  0  0\n",
      "0  0  0  0  0  0  0  0  0  0  0  0  0  0  0  0  0  0  0  0  0  0  0  0  0  0  0  0\n",
      "0  0  0  0  0  0  0  0  0  0  0  0  3  18  18  18  126  136  175  26  166  255  247  127  0  0  0  0\n",
      "0  0  0  0  0  0  0  0  30  36  94  154  170  253  253  253  253  253  225  172  253  242  195  64  0  0  0  0\n",
      "0  0  0  0  0  0  0  49  238  253  253  253  253  253  253  253  253  251  93  82  82  56  39  0  0  0  0  0\n",
      "0  0  0  0  0  0  0  18  219  253  253  253  253  253  198  182  247  241  0  0  0  0  0  0  0  0  0  0\n",
      "0  0  0  0  0  0  0  0  80  156  107  253  253  205  11  0  43  154  0  0  0  0  0  0  0  0  0  0\n",
      "0  0  0  0  0  0  0  0  0  14  1  154  253  90  0  0  0  0  0  0  0  0  0  0  0  0  0  0\n",
      "0  0  0  0  0  0  0  0  0  0  0  139  253  190  2  0  0  0  0  0  0  0  0  0  0  0  0  0\n",
      "0  0  0  0  0  0  0  0  0  0  0  11  190  253  70  0  0  0  0  0  0  0  0  0  0  0  0  0\n",
      "0  0  0  0  0  0  0  0  0  0  0  0  35  241  225  160  108  1  0  0  0  0  0  0  0  0  0  0\n",
      "0  0  0  0  0  0  0  0  0  0  0  0  0  81  240  253  253  119  25  0  0  0  0  0  0  0  0  0\n",
      "0  0  0  0  0  0  0  0  0  0  0  0  0  0  45  186  253  253  150  27  0  0  0  0  0  0  0  0\n",
      "0  0  0  0  0  0  0  0  0  0  0  0  0  0  0  16  93  252  253  187  0  0  0  0  0  0  0  0\n",
      "0  0  0  0  0  0  0  0  0  0  0  0  0  0  0  0  0  249  253  249  64  0  0  0  0  0  0  0\n",
      "0  0  0  0  0  0  0  0  0  0  0  0  0  0  46  130  183  253  253  207  2  0  0  0  0  0  0  0\n",
      "0  0  0  0  0  0  0  0  0  0  0  0  39  148  229  253  253  253  250  182  0  0  0  0  0  0  0  0\n",
      "0  0  0  0  0  0  0  0  0  0  24  114  221  253  253  253  253  201  78  0  0  0  0  0  0  0  0  0\n",
      "0  0  0  0  0  0  0  0  23  66  213  253  253  253  253  198  81  2  0  0  0  0  0  0  0  0  0  0\n",
      "0  0  0  0  0  0  18  171  219  253  253  253  253  195  80  9  0  0  0  0  0  0  0  0  0  0  0  0\n",
      "0  0  0  0  55  172  226  253  253  253  253  244  133  11  0  0  0  0  0  0  0  0  0  0  0  0  0  0\n",
      "0  0  0  0  136  253  253  253  212  135  132  16  0  0  0  0  0  0  0  0  0  0  0  0  0  0  0  0\n",
      "0  0  0  0  0  0  0  0  0  0  0  0  0  0  0  0  0  0  0  0  0  0  0  0  0  0  0  0\n",
      "0  0  0  0  0  0  0  0  0  0  0  0  0  0  0  0  0  0  0  0  0  0  0  0  0  0  0  0\n",
      "0  0  0  0  0  0  0  0  0  0  0  0  0  0  0  0  0  0  0  0  0  0  0  0  0  0  0  0\n"
     ]
    }
   ],
   "source": [
    "a = x_train[0]\n",
    "\n",
    "for line in a:\n",
    "    print ('  '.join(map(str, line)))"
   ]
  },
  {
   "cell_type": "code",
   "execution_count": 6,
   "metadata": {
    "colab": {
     "base_uri": "https://localhost:8080/",
     "height": 241
    },
    "executionInfo": {
     "elapsed": 4474,
     "status": "ok",
     "timestamp": 1636643804621,
     "user": {
      "displayName": "József Pintér",
      "photoUrl": "https://lh3.googleusercontent.com/a/default-user=s64",
      "userId": "01160179527333808444"
     },
     "user_tz": -60
    },
    "id": "065x84dkaOS-",
    "outputId": "5cc68b28-8419-4682-9553-5bb5a236d672"
   },
   "outputs": [
    {
     "data": {
      "text/plain": "<Figure size 1440x288 with 20 Axes>",
      "image/png": "[encoded data removed]"
     },
     "metadata": {},
     "output_type": "display_data"
    }
   ],
   "source": [
    "plt.figure(figsize=(20,4))\n",
    "for i in range(20):\n",
    "  plt.subplot(2,10,i+1)\n",
    "  plt.axis('off')\n",
    "  plt.imshow(x_train[i], cmap=plt.get_cmap('gray'))"
   ]
  },
  {
   "cell_type": "code",
   "execution_count": 7,
   "metadata": {},
   "outputs": [
    {
     "data": {
      "text/plain": "array([5, 0, 4, 1, 9, 2, 1, 3, 1, 4, 3, 5, 3, 6, 1, 7, 2, 8, 6, 9],\n      dtype=uint8)"
     },
     "execution_count": 7,
     "metadata": {},
     "output_type": "execute_result"
    }
   ],
   "source": [
    "y_train[0:20]"
   ]
  },
  {
   "cell_type": "markdown",
   "metadata": {},
   "source": [
    "#### Reformatting the data\n",
    "- Values between 0-1\n",
    "- Tensorflow takes in 4d data: the number of records, the height of the image, the width of the image, the number of channels (1 for grayscale images, 3 for RGB images). Use the -1 parameter for the number of records because it is dynamic.\n",
    "- Make sure data is all of the same type\n",
    "- Change label values 0-9 to len=10 arrays, <span style=\"color:red\">why?</span>"
   ]
  },
  {
   "cell_type": "code",
   "execution_count": 8,
   "metadata": {
    "executionInfo": {
     "elapsed": 14,
     "status": "ok",
     "timestamp": 1636643804623,
     "user": {
      "displayName": "József Pintér",
      "photoUrl": "https://lh3.googleusercontent.com/a/default-user=s64",
      "userId": "01160179527333808444"
     },
     "user_tz": -60
    },
    "id": "brqg_GEVaOTA"
   },
   "outputs": [],
   "source": [
    "# rescale the data to numbers between 0-1, by convention and to improve training efficiency\n",
    "x_train = x_train / 255\n",
    "x_test = x_test / 255\n",
    "\n",
    "# store the pictures in an appropriate tensor 28x28 pictures with only 1 channel \n",
    "# the -1 parameter indicates keras should infer the shape of the matrix (in this case 60000)\n",
    "x_train = x_train.reshape(-1,28,28,1) \n",
    "x_test = x_test.reshape(-1,28,28,1)\n",
    "\n",
    "# tensorflow will not perform the necessary operations if data is stored as different types\n",
    "x_train = x_train.astype(\"float32\")\n",
    "x_test = x_test.astype(\"float32\")\n",
    "\n",
    "\n",
    "# change target variable to categorical attribute (one-hot-encoding):\n",
    "from tensorflow.keras.utils import to_categorical\n",
    "y_train = to_categorical(y_train, 10)\n",
    "y_test = to_categorical(y_test, 10)"
   ]
  },
  {
   "cell_type": "code",
   "execution_count": 9,
   "metadata": {},
   "outputs": [
    {
     "data": {
      "text/plain": "array([0., 0., 0., 0., 0., 1., 0., 0., 0., 0.], dtype=float32)"
     },
     "execution_count": 9,
     "metadata": {},
     "output_type": "execute_result"
    }
   ],
   "source": [
    "y_train[0]"
   ]
  },
  {
   "cell_type": "code",
   "execution_count": 10,
   "metadata": {},
   "outputs": [
    {
     "name": "stdout",
     "output_type": "stream",
     "text": [
      "0000000000000000000000000000\n",
      "0000000000000000000000000000\n",
      "0000000000000000000000000000\n",
      "0000000000000000000000000000\n",
      "0000000000000000000000000000\n",
      "0000000000000000000001100000\n",
      "0000000000000111110010000000\n",
      "0000000001111111110000000000\n",
      "0000000001111100100000000000\n",
      "0000000000011000000000000000\n",
      "0000000000001000000000000000\n",
      "0000000000001000000000000000\n",
      "0000000000000100000000000000\n",
      "0000000000000000000000000000\n",
      "0000000000000001100000000000\n",
      "0000000000000000110000000000\n",
      "0000000000000000011000000000\n",
      "0000000000000000011100000000\n",
      "0000000000000000011000000000\n",
      "0000000000000001111000000000\n",
      "0000000000000111100000000000\n",
      "0000000000011110000000000000\n",
      "0000000001111000000000000000\n",
      "0000000111110000000000000000\n",
      "0000011100000000000000000000\n",
      "0000000000000000000000000000\n",
      "0000000000000000000000000000\n",
      "0000000000000000000000000000\n"
     ]
    }
   ],
   "source": [
    "a = np.round(x_train[0],decimals=1)\n",
    "p = \"\"\n",
    "for line in a:\n",
    "    for i in range(0,len(line)):\n",
    "        p += str(int(line[i][0]))#; p += \"\"\n",
    "    print(p); p = \"\""
   ]
  },
  {
   "cell_type": "markdown",
   "metadata": {
    "id": "hRPbBrowaOTA"
   },
   "source": [
    " #### Modeling"
   ]
  },
  {
   "cell_type": "markdown",
   "metadata": {
    "id": "9xywzawaaOTA"
   },
   "source": [
    "We are going to build the following model:"
   ]
  },
  {
   "cell_type": "markdown",
   "metadata": {
    "id": "AtFq-p2kaOTB"
   },
   "source": [
    "|                 | filters | filter_size/pool_size | stride length | activation | output dimention\n",
    "| --------------- | :-----------: | :--------------------: | :--------: | :--------: | :--------:\n",
    "| Conv2D          |      32       |          5x5           |     1       |    relu    |    24X24\n",
    "| Conv2D          |      64       |          5x5           |     1       |    relu    |    20X20\n",
    "| MaxPooling2D    |       -       |          2x2           |     2       |    -     |     ?\n",
    "| Flatten()       |       -       |           -            |     -       |    -      |    -\n",
    "| Dense (output) |       -       |           -            |      -       |'softmax'  |     ?"
   ]
  },
  {
   "cell_type": "markdown",
   "metadata": {},
   "source": [
    "#### Convolutional (feature mapping) layer\n",
    "Terminology: stride length, kernel/filter size, channels\n",
    "\n",
    "Function: w1 * in1 + w2 * in2 + w3 * in3 + w4 * in4 + b"
   ]
  },
  {
   "attachments": {
    "CNN_feature_mapping.webp": {
     "image/webp": "[encoded data removed]"
    }
   },
   "cell_type": "markdown",
   "metadata": {},
   "source": [
    "![CNN_feature_mapping.webp](attachment:CNN_feature_mapping.webp)"
   ]
  },
  {
   "cell_type": "markdown",
   "metadata": {},
   "source": [
    "#### Pooling (down sampling) layer\n",
    "Terminology: padding\n",
    "\n",
    "Function: max()"
   ]
  },
  {
   "attachments": {
    "CNN_pooling.webp": {
     "image/webp": "[encoded data removed]"
    }
   },
   "cell_type": "markdown",
   "metadata": {},
   "source": [
    "![CNN_pooling.webp](attachment:CNN_pooling.webp)"
   ]
  },
  {
   "cell_type": "markdown",
   "metadata": {},
   "source": [
    "#### Flatten\n",
    "The output of the covolution and pooling layers contain new high-level data features which describe the input image rather than the low-level pixel data we started with. These need to be \"flattened\" into a vector which becomes the input into the last fully-connected or \"dense\" layer of the CNN - like tagging a simple neural network classifier onto the end. Neural networks are good at dimention reduction and feature extraction, <span style=\"color:red\">can you see how our neural net does this?</span>"
   ]
  },
  {
   "cell_type": "code",
   "execution_count": 11,
   "metadata": {
    "executionInfo": {
     "elapsed": 14,
     "status": "ok",
     "timestamp": 1636643804625,
     "user": {
      "displayName": "József Pintér",
      "photoUrl": "https://lh3.googleusercontent.com/a/default-user=s64",
      "userId": "01160179527333808444"
     },
     "user_tz": -60
    },
    "id": "jASPMCBxaOTC"
   },
   "outputs": [],
   "source": [
    "from tensorflow.keras.models import Sequential\n",
    "from tensorflow.keras.layers import Dense, Conv2D, MaxPooling2D, Dropout, Flatten\n",
    "from tensorflow.keras.optimizers import SGD, Adam\n",
    "from tensorflow.keras.callbacks import EarlyStopping, ModelCheckpoint"
   ]
  },
  {
   "cell_type": "markdown",
   "metadata": {
    "id": "dUNN_bfhaOTC"
   },
   "source": [
    "Keras Sequential models can be constructed layer by layer. "
   ]
  },
  {
   "cell_type": "code",
   "execution_count": 12,
   "metadata": {
    "executionInfo": {
     "elapsed": 517,
     "status": "ok",
     "timestamp": 1636643805130,
     "user": {
      "displayName": "József Pintér",
      "photoUrl": "https://lh3.googleusercontent.com/a/default-user=s64",
      "userId": "01160179527333808444"
     },
     "user_tz": -60
    },
    "id": "XciALPLWaOTC"
   },
   "outputs": [],
   "source": [
    "#Initialize the Sequential model:\n",
    "model = Sequential() \n",
    "\n",
    "#Add a 2D convolutional layer: params (in order): number of filters, size of the kernel, the others are written there.\n",
    "model.add(Conv2D(32, (5, 5), strides=(1, 1), input_shape=(28, 28, 1), activation='relu', data_format=\"channels_last\")) \n",
    "\n",
    "#Another 2D convolutional layer: declaring the input shape is only necessary for the first layer\n",
    "model.add(Conv2D(64, (5, 5), activation='relu'))\n",
    "\n",
    "#Add a 2x2 MaxPool layer: how big will the outputs be?\n",
    "model.add(MaxPooling2D(pool_size=(2, 2), strides=(2, 2)))\n",
    "\n",
    "#Flatten the output, because the next layer will be a Dense (Fully Connected) layer, which accepts 1 dimensional inputs.\n",
    "model.add(Flatten())\n",
    "\n",
    "#Another Dense layer: Why do we use 10 output units? \n",
    "model.add(Dense(10, activation='softmax'))\n",
    "\n",
    "#Compiling the model, loss: categorical crossentropy, it is the most popular for these kind of problems,\n",
    "#optimizer: adam, a faster variant of the stochastic gradient method\n",
    "#metrics: accuracy (We want to know the accuracy after each epoch.)\n",
    "model.compile(loss='categorical_crossentropy', optimizer='adam', metrics=['accuracy'])"
   ]
  },
  {
   "cell_type": "code",
   "execution_count": 13,
   "metadata": {
    "colab": {
     "base_uri": "https://localhost:8080/"
    },
    "executionInfo": {
     "elapsed": 82038,
     "status": "ok",
     "timestamp": 1636643887163,
     "user": {
      "displayName": "József Pintér",
      "photoUrl": "https://lh3.googleusercontent.com/a/default-user=s64",
      "userId": "01160179527333808444"
     },
     "user_tz": -60
    },
    "id": "nF1-uJ21aOTD",
    "outputId": "49c24608-1110-4ab4-8b8e-fba2950cf74b"
   },
   "outputs": [
    {
     "name": "stdout",
     "output_type": "stream",
     "text": [
      "Epoch 1/100\n",
      "375/375 [==============================] - ETA: 0s - loss: 0.1998 - accuracy: 0.9413\n",
      "Epoch 1: val_loss improved from inf to 0.06502, saving model to weights.hdf5\n",
      "375/375 [==============================] - 58s 152ms/step - loss: 0.1998 - accuracy: 0.9413 - val_loss: 0.0650 - val_accuracy: 0.9811\n",
      "Epoch 2/100\n",
      "375/375 [==============================] - ETA: 0s - loss: 0.0553 - accuracy: 0.9830\n",
      "Epoch 2: val_loss improved from 0.06502 to 0.05116, saving model to weights.hdf5\n",
      "375/375 [==============================] - 56s 148ms/step - loss: 0.0553 - accuracy: 0.9830 - val_loss: 0.0512 - val_accuracy: 0.9847\n",
      "Epoch 3/100\n",
      "375/375 [==============================] - ETA: 0s - loss: 0.0388 - accuracy: 0.9879\n",
      "Epoch 3: val_loss improved from 0.05116 to 0.04866, saving model to weights.hdf5\n",
      "375/375 [==============================] - 63s 168ms/step - loss: 0.0388 - accuracy: 0.9879 - val_loss: 0.0487 - val_accuracy: 0.9858\n",
      "Epoch 4/100\n",
      "375/375 [==============================] - ETA: 0s - loss: 0.0301 - accuracy: 0.9908\n",
      "Epoch 4: val_loss improved from 0.04866 to 0.04742, saving model to weights.hdf5\n",
      "375/375 [==============================] - 61s 162ms/step - loss: 0.0301 - accuracy: 0.9908 - val_loss: 0.0474 - val_accuracy: 0.9858\n",
      "Epoch 5/100\n",
      "375/375 [==============================] - ETA: 0s - loss: 0.0229 - accuracy: 0.9929\n",
      "Epoch 5: val_loss improved from 0.04742 to 0.04624, saving model to weights.hdf5\n",
      "375/375 [==============================] - 65s 173ms/step - loss: 0.0229 - accuracy: 0.9929 - val_loss: 0.0462 - val_accuracy: 0.9867\n",
      "Epoch 6/100\n",
      "375/375 [==============================] - ETA: 0s - loss: 0.0186 - accuracy: 0.9942\n",
      "Epoch 6: val_loss improved from 0.04624 to 0.04604, saving model to weights.hdf5\n",
      "375/375 [==============================] - 58s 154ms/step - loss: 0.0186 - accuracy: 0.9942 - val_loss: 0.0460 - val_accuracy: 0.9881\n",
      "Epoch 7/100\n",
      "375/375 [==============================] - ETA: 0s - loss: 0.0157 - accuracy: 0.9947\n",
      "Epoch 7: val_loss improved from 0.04604 to 0.04078, saving model to weights.hdf5\n",
      "375/375 [==============================] - 57s 152ms/step - loss: 0.0157 - accuracy: 0.9947 - val_loss: 0.0408 - val_accuracy: 0.9883\n",
      "Epoch 8/100\n",
      "375/375 [==============================] - ETA: 0s - loss: 0.0113 - accuracy: 0.9965\n",
      "Epoch 8: val_loss did not improve from 0.04078\n",
      "375/375 [==============================] - 58s 156ms/step - loss: 0.0113 - accuracy: 0.9965 - val_loss: 0.0516 - val_accuracy: 0.9869\n",
      "Epoch 9/100\n",
      "375/375 [==============================] - ETA: 0s - loss: 0.0101 - accuracy: 0.9967\n",
      "Epoch 9: val_loss did not improve from 0.04078\n",
      "375/375 [==============================] - 60s 160ms/step - loss: 0.0101 - accuracy: 0.9967 - val_loss: 0.0468 - val_accuracy: 0.9895\n",
      "Epoch 10/100\n",
      "375/375 [==============================] - ETA: 0s - loss: 0.0087 - accuracy: 0.9970\n",
      "Epoch 10: val_loss did not improve from 0.04078\n",
      "375/375 [==============================] - 64s 170ms/step - loss: 0.0087 - accuracy: 0.9970 - val_loss: 0.0518 - val_accuracy: 0.9862\n",
      "Epoch 11/100\n",
      "375/375 [==============================] - ETA: 0s - loss: 0.0076 - accuracy: 0.9975\n",
      "Epoch 11: val_loss did not improve from 0.04078\n",
      "375/375 [==============================] - 67s 179ms/step - loss: 0.0076 - accuracy: 0.9975 - val_loss: 0.0485 - val_accuracy: 0.9887\n",
      "Epoch 12/100\n",
      "375/375 [==============================] - ETA: 0s - loss: 0.0057 - accuracy: 0.9981\n",
      "Epoch 12: val_loss did not improve from 0.04078\n",
      "375/375 [==============================] - 70s 187ms/step - loss: 0.0057 - accuracy: 0.9981 - val_loss: 0.0525 - val_accuracy: 0.9880\n",
      "Epoch 13/100\n",
      "375/375 [==============================] - ETA: 0s - loss: 0.0067 - accuracy: 0.9978\n",
      "Epoch 13: val_loss did not improve from 0.04078\n",
      "375/375 [==============================] - 70s 186ms/step - loss: 0.0067 - accuracy: 0.9978 - val_loss: 0.0500 - val_accuracy: 0.9884\n",
      "Epoch 14/100\n",
      "375/375 [==============================] - ETA: 0s - loss: 0.0032 - accuracy: 0.9992\n",
      "Epoch 14: val_loss did not improve from 0.04078\n",
      "375/375 [==============================] - 70s 187ms/step - loss: 0.0032 - accuracy: 0.9992 - val_loss: 0.0517 - val_accuracy: 0.9900\n",
      "Epoch 15/100\n",
      "375/375 [==============================] - ETA: 0s - loss: 0.0018 - accuracy: 0.9995\n",
      "Epoch 15: val_loss did not improve from 0.04078\n",
      "375/375 [==============================] - 71s 189ms/step - loss: 0.0018 - accuracy: 0.9995 - val_loss: 0.0594 - val_accuracy: 0.9893\n",
      "Epoch 16/100\n",
      "375/375 [==============================] - ETA: 0s - loss: 0.0066 - accuracy: 0.9980\n",
      "Epoch 16: val_loss did not improve from 0.04078\n",
      "375/375 [==============================] - 72s 193ms/step - loss: 0.0066 - accuracy: 0.9980 - val_loss: 0.0778 - val_accuracy: 0.9851\n",
      "Epoch 17/100\n",
      "375/375 [==============================] - ETA: 0s - loss: 0.0081 - accuracy: 0.9972\n",
      "Epoch 17: val_loss did not improve from 0.04078\n",
      "375/375 [==============================] - 76s 202ms/step - loss: 0.0081 - accuracy: 0.9972 - val_loss: 0.0551 - val_accuracy: 0.9886\n",
      "Epoch 17: early stopping\n"
     ]
    }
   ],
   "source": [
    "#We want to stop the training process, if the loss on the validation set did not improve since 10 epochs.\n",
    "early_stopping=EarlyStopping(patience=10, verbose=1)\n",
    "\n",
    "#We do not want to store the weights of the model after the last epoch, we want the weights of the best model!\n",
    "#We will store those weights in a file weights.hdf5\n",
    "checkpointer=ModelCheckpoint(filepath='weights.hdf5', save_best_only=True, verbose=1)\n",
    "\n",
    "#Fit with 100 epochs of 128 records each (batch_size) and 0.2 validation split\n",
    "#Specify which callbacks or 'plugins' to use.\n",
    "network_history = model.fit(x_train, y_train, batch_size=128, \n",
    "                            epochs=100, verbose=1, validation_split=0.2,\n",
    "                  callbacks=[checkpointer, early_stopping])"
   ]
  },
  {
   "cell_type": "markdown",
   "metadata": {
    "id": "mZ59ar-zbuBk"
   },
   "source": [
    "Before we can evaluate the results, we have to load the weights of the best model!"
   ]
  },
  {
   "cell_type": "code",
   "execution_count": 14,
   "metadata": {
    "colab": {
     "base_uri": "https://localhost:8080/"
    },
    "executionInfo": {
     "elapsed": 2224,
     "status": "ok",
     "timestamp": 1636643889381,
     "user": {
      "displayName": "József Pintér",
      "photoUrl": "https://lh3.googleusercontent.com/a/default-user=s64",
      "userId": "01160179527333808444"
     },
     "user_tz": -60
    },
    "id": "PwWFIozmaOTD",
    "outputId": "22cde762-c004-4ea3-f715-ab74798cb686"
   },
   "outputs": [
    {
     "name": "stdout",
     "output_type": "stream",
     "text": [
      "313/313 [==============================] - 6s 17ms/step - loss: 0.0375 - accuracy: 0.9893\n",
      "Loss on test set: 0.03745614364743233 Accuracy on test set: 0.989300012588501\n"
     ]
    }
   ],
   "source": [
    "from keras.models import load_model\n",
    "model = load_model(\"weights.hdf5\")\n",
    "test_err = model.evaluate(x_test,y_test)\n",
    "print(\"Loss on test set:\", test_err[0], \"Accuracy on test set:\", test_err[1])"
   ]
  },
  {
   "cell_type": "code",
   "execution_count": 15,
   "metadata": {
    "colab": {
     "base_uri": "https://localhost:8080/"
    },
    "executionInfo": {
     "elapsed": 1537,
     "status": "ok",
     "timestamp": 1636643890912,
     "user": {
      "displayName": "József Pintér",
      "photoUrl": "https://lh3.googleusercontent.com/a/default-user=s64",
      "userId": "01160179527333808444"
     },
     "user_tz": -60
    },
    "id": "a_OnFoNJcA3s",
    "outputId": "7ddbf40c-1e07-488d-fad2-d380e51bda0c"
   },
   "outputs": [
    {
     "name": "stdout",
     "output_type": "stream",
     "text": [
      "313/313 [==============================] - 5s 16ms/step\n",
      "Test accuracy: 0.9893\n",
      "Precision 0.9892326715226447\n",
      "Recall 0.9892419626348425\n",
      "f1_score 0.9892075867830842\n",
      "\n",
      " Confusion matrix \n",
      "[[ 976    0    1    1    0    0    1    0    1    0]\n",
      " [   0 1129    1    1    0    2    2    0    0    0]\n",
      " [   0    4 1023    0    3    0    0    2    0    0]\n",
      " [   1    0    4 1002    0    3    0    0    0    0]\n",
      " [   0    1    0    0  979    0    0    0    0    2]\n",
      " [   2    0    0    6    0  883    1    0    0    0]\n",
      " [   1    2    0    0    5    6  943    0    1    0]\n",
      " [   0    3    9    2    0    0    0 1012    1    1]\n",
      " [   7    0    2    1    0    2    0    2  959    1]\n",
      " [   4    0    0    1    6    8    0    3    0  987]]\n"
     ]
    }
   ],
   "source": [
    "from sklearn.metrics import accuracy_score, precision_score, recall_score, f1_score, roc_curve, confusion_matrix\n",
    "\n",
    "y_pred = model.predict(x_test)\n",
    "y_pred = np.argmax(y_pred,1)\n",
    "y_true = np.argmax(y_test,1)\n",
    "\n",
    "print(\"Test accuracy: %g\" %(accuracy_score(y_true, y_pred)))\n",
    "print(\"Precision\", precision_score(y_true, y_pred, average=\"macro\")) #one vs rest averages or global\n",
    "print(\"Recall\", recall_score(y_true, y_pred, average=\"macro\")) #macro calculates the average of the recall for each class\n",
    "print(\"f1_score\", f1_score(y_true, y_pred, average=\"macro\")) #macro is good for balanced data set, micro is good for imbalanced\n",
    "print(\"\\n Confusion matrix \")\n",
    "conf=confusion_matrix(y_true, y_pred)\n",
    "print(conf)"
   ]
  },
  {
   "cell_type": "markdown",
   "metadata": {
    "id": "-_e6Vf_PcGok"
   },
   "source": [
    "We can also plot the confusion matrix as a heatmap!"
   ]
  },
  {
   "cell_type": "code",
   "execution_count": 16,
   "metadata": {
    "colab": {
     "base_uri": "https://localhost:8080/",
     "height": 381
    },
    "executionInfo": {
     "elapsed": 2789,
     "status": "ok",
     "timestamp": 1636643893697,
     "user": {
      "displayName": "József Pintér",
      "photoUrl": "https://lh3.googleusercontent.com/a/default-user=s64",
      "userId": "01160179527333808444"
     },
     "user_tz": -60
    },
    "id": "MfRBg2WdcKBM",
    "outputId": "9e28d518-7575-4426-cf22-9fd04b7044af"
   },
   "outputs": [
    {
     "data": {
      "text/plain": "<Figure size 432x432 with 2 Axes>",
      "image/png": "[encoded data removed]"
     },
     "metadata": {},
     "output_type": "display_data"
    }
   ],
   "source": [
    "plt.figure(figsize=(6,6))\n",
    "sns.heatmap(conf, annot=True, fmt='d', vmax=20)\n",
    "plt.show()"
   ]
  },
  {
   "cell_type": "markdown",
   "metadata": {
    "id": "wH89l6DPaOTD"
   },
   "source": [
    "\n",
    "### Testing on own handwritten digits"
   ]
  },
  {
   "cell_type": "code",
   "execution_count": 17,
   "metadata": {},
   "outputs": [
    {
     "ename": "AttributeError",
     "evalue": "type object 'Image' has no attribute 'open'",
     "output_type": "error",
     "traceback": [
      "\u001B[1;31m---------------------------------------------------------------------------\u001B[0m",
      "\u001B[1;31mAttributeError\u001B[0m                            Traceback (most recent call last)",
      "\u001B[1;32m~\\AppData\\Local\\Temp\\ipykernel_3064\\644383599.py\u001B[0m in \u001B[0;36m<cell line: 16>\u001B[1;34m()\u001B[0m\n\u001B[0;32m     15\u001B[0m \u001B[0mplt\u001B[0m\u001B[1;33m.\u001B[0m\u001B[0mfigure\u001B[0m\u001B[1;33m(\u001B[0m \u001B[0mfigsize\u001B[0m \u001B[1;33m=\u001B[0m \u001B[1;33m(\u001B[0m \u001B[1;36m50\u001B[0m \u001B[1;33m,\u001B[0m \u001B[1;36m10\u001B[0m \u001B[1;33m)\u001B[0m \u001B[1;33m)\u001B[0m\u001B[1;33m\u001B[0m\u001B[1;33m\u001B[0m\u001B[0m\n\u001B[0;32m     16\u001B[0m \u001B[1;32mfor\u001B[0m \u001B[0mi\u001B[0m \u001B[1;32min\u001B[0m \u001B[0mrange\u001B[0m\u001B[1;33m(\u001B[0m \u001B[1;36m10\u001B[0m \u001B[1;33m)\u001B[0m\u001B[1;33m:\u001B[0m\u001B[1;33m\u001B[0m\u001B[1;33m\u001B[0m\u001B[0m\n\u001B[1;32m---> 17\u001B[1;33m     \u001B[0mimage\u001B[0m \u001B[1;33m=\u001B[0m \u001B[0mImage\u001B[0m\u001B[1;33m.\u001B[0m\u001B[0mopen\u001B[0m\u001B[1;33m(\u001B[0m\u001B[1;34m\"./digits.jpg\"\u001B[0m \u001B[1;33m)\u001B[0m\u001B[1;33m\u001B[0m\u001B[1;33m\u001B[0m\u001B[0m\n\u001B[0m\u001B[0;32m     18\u001B[0m     \u001B[0mwidth\u001B[0m\u001B[1;33m,\u001B[0m \u001B[0mheight\u001B[0m \u001B[1;33m=\u001B[0m \u001B[0mimage\u001B[0m\u001B[1;33m.\u001B[0m\u001B[0msize\u001B[0m\u001B[1;33m\u001B[0m\u001B[1;33m\u001B[0m\u001B[0m\n\u001B[0;32m     19\u001B[0m     \u001B[0mimage\u001B[0m \u001B[1;33m=\u001B[0m \u001B[0mimage\u001B[0m\u001B[1;33m.\u001B[0m\u001B[0mcrop\u001B[0m\u001B[1;33m(\u001B[0m \u001B[0mthresholds\u001B[0m\u001B[1;33m[\u001B[0m \u001B[0mi\u001B[0m \u001B[1;33m]\u001B[0m \u001B[1;33m)\u001B[0m\u001B[1;33m\u001B[0m\u001B[1;33m\u001B[0m\u001B[0m\n",
      "\u001B[1;31mAttributeError\u001B[0m: type object 'Image' has no attribute 'open'"
     ]
    },
    {
     "data": {
      "text/plain": "<Figure size 3600x720 with 0 Axes>"
     },
     "metadata": {},
     "output_type": "display_data"
    }
   ],
   "source": [
    "sns.set(font_scale = 2)\n",
    "# visualizing hand-written digits\n",
    "thresholds = {}\n",
    "thresholds[ 0 ] = ( 225 , 229 , 451 , 458 )\n",
    "thresholds[ 1 ] = ( 675 , 229 , 901 , 458 )\n",
    "thresholds[ 2 ] = ( 1126 , 229 , 1352 , 458 )\n",
    "thresholds[ 3 ] = ( 1576 , 229 , 1802 , 458 )\n",
    "thresholds[ 4 ] = ( 2027 , 229 , 2253 , 458 )\n",
    "thresholds[ 5 ] = ( 225 , 687 , 451 , 916 )\n",
    "thresholds[ 6 ] = ( 675 , 687 , 901 , 916 )\n",
    "thresholds[ 7 ] = ( 1126 , 687 , 1352 , 916 )\n",
    "thresholds[ 8 ] = ( 1576 , 687 , 1802 , 916 )\n",
    "thresholds[ 9 ] = ( 2027 , 687 , 2253 , 916 )\n",
    "\n",
    "plt.figure( figsize = ( 50 , 10 ) )\n",
    "for i in range( 10 ):\n",
    "    image = Image.open(\"./digits.jpg\" )\n",
    "    width, height = image.size\n",
    "    image = image.crop( thresholds[ i ] )\n",
    "    image = ImageOps.invert( image )\n",
    "    image.thumbnail( ( 28 , 28 ) )\n",
    "    image_data = np.asarray( image , dtype = np.uint8 )\n",
    "    image_data = image_data.sum( 2 ).astype( float )\n",
    "    image_data /= image_data.max()\n",
    "    plt.subplot( 2 , 5 , i + 1 )\n",
    "    plt.imshow( image_data, cmap = plt.cm.gray )"
   ]
  },
  {
   "cell_type": "code",
   "execution_count": null,
   "metadata": {
    "colab": {
     "base_uri": "https://localhost:8080/",
     "height": 367
    },
    "executionInfo": {
     "elapsed": 4236,
     "status": "ok",
     "timestamp": 1636643899407,
     "user": {
      "displayName": "József Pintér",
      "photoUrl": "https://lh3.googleusercontent.com/a/default-user=s64",
      "userId": "01160179527333808444"
     },
     "user_tz": -60
    },
    "id": "r_kvjjtUaOTE",
    "outputId": "156990be-7773-4e4e-853e-f44a526bf4b9"
   },
   "outputs": [],
   "source": [
    "# using the trained model to recognize hand-written digits\n",
    "plt.figure( figsize = ( 40 , 12 ) )\n",
    "for i in range( 10 ):\n",
    "    image = Image.open( \"./digits.jpg\" )\n",
    "    width, height = image.size\n",
    "    image = image.crop( thresholds[ i ] )\n",
    "    image = ImageOps.invert( image )\n",
    "    image.thumbnail( ( 28 , 28 ) )\n",
    "    image_data = np.asarray( image , dtype = np.uint8 )\n",
    "    image_data = image_data.sum( 2 ).astype( float )\n",
    "    image_data /= image_data.max()\n",
    "    image_data = image_data.reshape( -1 , 28 , 28 , 1 )\n",
    "    predictions = model.predict( image_data > 0.8 )\n",
    "    plt.subplot( 2 , 5 , i + 1 )\n",
    "    plt.bar( range( 10 ) , predictions[ 0 ] , 0.3 , color = \"b\" , alpha = 0.6 )\n",
    "    plt.title( i )\n",
    "    plt.grid()\n",
    "    plt.xticks( range( 10 ) )"
   ]
  },
  {
   "cell_type": "markdown",
   "metadata": {
    "id": "LNSQI8tKdbHt"
   },
   "source": [
    "### Visualize the output of the 2D convolutional layers."
   ]
  },
  {
   "cell_type": "code",
   "execution_count": null,
   "metadata": {
    "executionInfo": {
     "elapsed": 15,
     "status": "ok",
     "timestamp": 1636643899408,
     "user": {
      "displayName": "József Pintér",
      "photoUrl": "https://lh3.googleusercontent.com/a/default-user=s64",
      "userId": "01160179527333808444"
     },
     "user_tz": -60
    },
    "id": "tDa2R-HyaOTE"
   },
   "outputs": [],
   "source": [
    "from keras.models import Model\n",
    "\n",
    "# we will look at just the first two (convolutional) layers of our model\n",
    "layer_outputs = [layer.output for layer in model.layers[0:2]]\n",
    "activation_model = Model(inputs=model.input,outputs=layer_outputs)"
   ]
  },
  {
   "cell_type": "code",
   "execution_count": null,
   "metadata": {
    "colab": {
     "base_uri": "https://localhost:8080/"
    },
    "executionInfo": {
     "elapsed": 13,
     "status": "ok",
     "timestamp": 1636643899409,
     "user": {
      "displayName": "József Pintér",
      "photoUrl": "https://lh3.googleusercontent.com/a/default-user=s64",
      "userId": "01160179527333808444"
     },
     "user_tz": -60
    },
    "id": "wwLV0k96dwF9",
    "outputId": "c0050a4d-a0b6-401c-d0bb-2bb3a30ca826"
   },
   "outputs": [],
   "source": [
    "# first 4 pictures in the test set:\n",
    "img = x_test[0:4].reshape(-1,28,28,1)\n",
    "# with labels: 7,2,1,0\n",
    "np.argmax(y_test[0:4],axis=1)"
   ]
  },
  {
   "cell_type": "code",
   "execution_count": null,
   "metadata": {
    "colab": {
     "base_uri": "https://localhost:8080/",
     "height": 493
    },
    "executionInfo": {
     "elapsed": 2015,
     "status": "ok",
     "timestamp": 1636643901415,
     "user": {
      "displayName": "József Pintér",
      "photoUrl": "https://lh3.googleusercontent.com/a/default-user=s64",
      "userId": "01160179527333808444"
     },
     "user_tz": -60
    },
    "id": "lVsHNcmnd3Il",
    "outputId": "fa36b4b5-ec54-46d9-dc96-f4523de7dd62"
   },
   "outputs": [],
   "source": [
    "# we won't go through this one, check link 5 below for explanation.\n",
    "activations = activation_model.predict(img)\n",
    "layer_names = []\n",
    "for layer in model.layers[0:2]:\n",
    "    layer_names.append(layer.name)\n",
    "images_per_row = 32\n",
    "for layer_name, layer_activation in zip(layer_names, activations): # Displays the feature maps\n",
    "    n_features = layer_activation.shape[-1] # Number of features in the feature map\n",
    "    size = layer_activation.shape[1] #The feature map has shape (1, size, size, n_features).\n",
    "    n_cols = n_features // images_per_row # Tiles the activation channels in this matrix\n",
    "    ns= layer_activation.shape[0]\n",
    "    display_grid = np.zeros((size * n_cols*ns, images_per_row * size))\n",
    "    for s in range(ns):\n",
    "      for col in range(n_cols): # Tiles each filter into a big horizontal grid\n",
    "        for row in range(images_per_row):\n",
    "            channel_image = layer_activation[s,\n",
    "                                             :, :,\n",
    "                                             col * images_per_row + row]    \n",
    "            if False:                                             \n",
    "              channel_image -= channel_image.mean() \n",
    "              channel_image /= channel_image.std()\n",
    "              channel_image *= 64\n",
    "              channel_image += 128\n",
    "              channel_image = np.clip(channel_image, 0, 255).astype('uint8')\n",
    "            display_grid[(col) * size+ size * n_cols*s: (col + 1) * size+ size * n_cols*s, # Displays the grid\n",
    "                         row * size : (row + 1) * size] = channel_image\n",
    "    scale = 1. / size\n",
    "    plt.figure(figsize=(scale * display_grid.shape[1],\n",
    "                        scale * display_grid.shape[0]))\n",
    "    plt.title(layer_name)\n",
    "    plt.grid(False)\n",
    "    plt.imshow(display_grid, aspect='auto', cmap='viridis')"
   ]
  },
  {
   "cell_type": "markdown",
   "metadata": {},
   "source": [
    "References / Further reading:\n",
    "\n",
    "1. https://adventuresinmachinelearning.com/neural-networks-tutorial/\n",
    "2. https://adventuresinmachinelearning.com/python-tensorflow-tutorial/\n",
    "3. https://adventuresinmachinelearning.com/convolutional-neural-networks-tutorial-tensorflow/\n",
    "4. http://adventuresinmachinelearning.com/keras-tutorial-cnn-11-lines/\n",
    "5. https://towardsdatascience.com/visualizing-intermediate-activations-of-a-cnn-trained-on-the-mnist-dataset-2c34426416c8"
   ]
  },
  {
   "cell_type": "code",
   "execution_count": null,
   "metadata": {},
   "outputs": [],
   "source": []
  }
 ],
 "metadata": {
  "accelerator": "GPU",
  "colab": {
   "collapsed_sections": [],
   "name": "Notebook04AIT.ipynb",
   "provenance": []
  },
  "kernelspec": {
   "display_name": "Python 3 (ipykernel)",
   "language": "python",
   "name": "python3"
  },
  "language_info": {
   "codemirror_mode": {
    "name": "ipython",
    "version": 3
   },
   "file_extension": ".py",
   "mimetype": "text/x-python",
   "name": "python",
   "nbconvert_exporter": "python",
   "pygments_lexer": "ipython3",
   "version": "3.10.10"
  }
 },
 "nbformat": 4,
 "nbformat_minor": 1
}

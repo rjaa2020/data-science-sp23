{
 "cells": [
  {
   "cell_type": "markdown",
   "metadata": {},
   "source": [
    "# Introduction to Data Science"
   ]
  },
  {
   "cell_type": "markdown",
   "metadata": {},
   "source": [
    "## Notebook 3 (linear and polynomial regression, gradient method)"
   ]
  },
  {
   "cell_type": "markdown",
   "metadata": {},
   "source": [
    "### Linear regression"
   ]
  },
  {
   "cell_type": "code",
   "execution_count": 38,
   "metadata": {},
   "outputs": [],
   "source": [
    "%matplotlib inline \n",
    "\n",
    "import numpy as np\n",
    "import pandas as pd\n",
    "import scipy.stats as stats\n",
    "import matplotlib.pyplot as plt\n",
    "import sklearn"
   ]
  },
  {
   "cell_type": "markdown",
   "metadata": {},
   "source": [
    "We'll use Sklearn's california housing dataset from the 1990 US census. First load the dataset from sklearn, and notice that it is a dictionary like object. "
   ]
  },
  {
   "cell_type": "code",
   "execution_count": 39,
   "metadata": {},
   "outputs": [
    {
     "data": {
      "text/plain": "dict_keys(['data', 'target', 'frame', 'target_names', 'feature_names', 'DESCR'])"
     },
     "execution_count": 39,
     "metadata": {},
     "output_type": "execute_result"
    }
   ],
   "source": [
    "from sklearn.datasets import fetch_california_housing\n",
    "\n",
    "cali = fetch_california_housing()\n",
    "cali.keys()"
   ]
  },
  {
   "cell_type": "code",
   "execution_count": 40,
   "metadata": {},
   "outputs": [
    {
     "data": {
      "text/plain": "(20640, 8)"
     },
     "execution_count": 40,
     "metadata": {},
     "output_type": "execute_result"
    }
   ],
   "source": [
    "cali.data.shape"
   ]
  },
  {
   "cell_type": "code",
   "execution_count": 41,
   "metadata": {},
   "outputs": [
    {
     "name": "stdout",
     "output_type": "stream",
     "text": [
      "['MedInc', 'HouseAge', 'AveRooms', 'AveBedrms', 'Population', 'AveOccup', 'Latitude', 'Longitude']\n"
     ]
    }
   ],
   "source": [
    "print(cali.feature_names)"
   ]
  },
  {
   "cell_type": "code",
   "execution_count": 42,
   "metadata": {},
   "outputs": [
    {
     "name": "stdout",
     "output_type": "stream",
     "text": [
      ".. _california_housing_dataset:\n",
      "\n",
      "California Housing dataset\n",
      "--------------------------\n",
      "\n",
      "**Data Set Characteristics:**\n",
      "\n",
      "    :Number of Instances: 20640\n",
      "\n",
      "    :Number of Attributes: 8 numeric, predictive attributes and the target\n",
      "\n",
      "    :Attribute Information:\n",
      "        - MedInc        median income in block group\n",
      "        - HouseAge      median house age in block group\n",
      "        - AveRooms      average number of rooms per household\n",
      "        - AveBedrms     average number of bedrooms per household\n",
      "        - Population    block group population\n",
      "        - AveOccup      average number of household members\n",
      "        - Latitude      block group latitude\n",
      "        - Longitude     block group longitude\n",
      "\n",
      "    :Missing Attribute Values: None\n",
      "\n",
      "This dataset was obtained from the StatLib repository.\n",
      "https://www.dcc.fc.up.pt/~ltorgo/Regression/cal_housing.html\n",
      "\n",
      "The target variable is the median house value for California districts,\n",
      "expressed in hundreds of thousands of dollars ($100,000).\n",
      "\n",
      "This dataset was derived from the 1990 U.S. census, using one row per census\n",
      "block group. A block group is the smallest geographical unit for which the U.S.\n",
      "Census Bureau publishes sample data (a block group typically has a population\n",
      "of 600 to 3,000 people).\n",
      "\n",
      "An household is a group of people residing within a home. Since the average\n",
      "number of rooms and bedrooms in this dataset are provided per household, these\n",
      "columns may take surpinsingly large values for block groups with few households\n",
      "and many empty houses, such as vacation resorts.\n",
      "\n",
      "It can be downloaded/loaded using the\n",
      ":func:`sklearn.datasets.fetch_california_housing` function.\n",
      "\n",
      ".. topic:: References\n",
      "\n",
      "    - Pace, R. Kelley and Ronald Barry, Sparse Spatial Autoregressions,\n",
      "      Statistics and Probability Letters, 33 (1997) 291-297\n",
      "\n"
     ]
    }
   ],
   "source": [
    "print(cali.DESCR)"
   ]
  },
  {
   "cell_type": "markdown",
   "metadata": {},
   "source": [
    "Let's take a look at the data!"
   ]
  },
  {
   "cell_type": "code",
   "execution_count": 43,
   "metadata": {},
   "outputs": [
    {
     "data": {
      "text/plain": "        0     1         2         3       4         5      6       7\n0  8.3252  41.0  6.984127  1.023810   322.0  2.555556  37.88 -122.23\n1  8.3014  21.0  6.238137  0.971880  2401.0  2.109842  37.86 -122.22\n2  7.2574  52.0  8.288136  1.073446   496.0  2.802260  37.85 -122.24\n3  5.6431  52.0  5.817352  1.073059   558.0  2.547945  37.85 -122.25\n4  3.8462  52.0  6.281853  1.081081   565.0  2.181467  37.85 -122.25",
      "text/html": "<div>\n<style scoped>\n    .dataframe tbody tr th:only-of-type {\n        vertical-align: middle;\n    }\n\n    .dataframe tbody tr th {\n        vertical-align: top;\n    }\n\n    .dataframe thead th {\n        text-align: right;\n    }\n</style>\n<table border=\"1\" class=\"dataframe\">\n  <thead>\n    <tr style=\"text-align: right;\">\n      <th></th>\n      <th>0</th>\n      <th>1</th>\n      <th>2</th>\n      <th>3</th>\n      <th>4</th>\n      <th>5</th>\n      <th>6</th>\n      <th>7</th>\n    </tr>\n  </thead>\n  <tbody>\n    <tr>\n      <th>0</th>\n      <td>8.3252</td>\n      <td>41.0</td>\n      <td>6.984127</td>\n      <td>1.023810</td>\n      <td>322.0</td>\n      <td>2.555556</td>\n      <td>37.88</td>\n      <td>-122.23</td>\n    </tr>\n    <tr>\n      <th>1</th>\n      <td>8.3014</td>\n      <td>21.0</td>\n      <td>6.238137</td>\n      <td>0.971880</td>\n      <td>2401.0</td>\n      <td>2.109842</td>\n      <td>37.86</td>\n      <td>-122.22</td>\n    </tr>\n    <tr>\n      <th>2</th>\n      <td>7.2574</td>\n      <td>52.0</td>\n      <td>8.288136</td>\n      <td>1.073446</td>\n      <td>496.0</td>\n      <td>2.802260</td>\n      <td>37.85</td>\n      <td>-122.24</td>\n    </tr>\n    <tr>\n      <th>3</th>\n      <td>5.6431</td>\n      <td>52.0</td>\n      <td>5.817352</td>\n      <td>1.073059</td>\n      <td>558.0</td>\n      <td>2.547945</td>\n      <td>37.85</td>\n      <td>-122.25</td>\n    </tr>\n    <tr>\n      <th>4</th>\n      <td>3.8462</td>\n      <td>52.0</td>\n      <td>6.281853</td>\n      <td>1.081081</td>\n      <td>565.0</td>\n      <td>2.181467</td>\n      <td>37.85</td>\n      <td>-122.25</td>\n    </tr>\n  </tbody>\n</table>\n</div>"
     },
     "execution_count": 43,
     "metadata": {},
     "output_type": "execute_result"
    }
   ],
   "source": [
    "ca = pd.DataFrame(cali.data)\n",
    "ca.head()"
   ]
  },
  {
   "cell_type": "markdown",
   "metadata": {},
   "source": [
    "Adding column names"
   ]
  },
  {
   "cell_type": "code",
   "execution_count": 44,
   "metadata": {},
   "outputs": [
    {
     "data": {
      "text/plain": "   MedInc  HouseAge  AveRooms  AveBedrms  Population  AveOccup  Latitude  \\\n0  8.3252      41.0  6.984127   1.023810       322.0  2.555556     37.88   \n1  8.3014      21.0  6.238137   0.971880      2401.0  2.109842     37.86   \n2  7.2574      52.0  8.288136   1.073446       496.0  2.802260     37.85   \n3  5.6431      52.0  5.817352   1.073059       558.0  2.547945     37.85   \n4  3.8462      52.0  6.281853   1.081081       565.0  2.181467     37.85   \n\n   Longitude  \n0    -122.23  \n1    -122.22  \n2    -122.24  \n3    -122.25  \n4    -122.25  ",
      "text/html": "<div>\n<style scoped>\n    .dataframe tbody tr th:only-of-type {\n        vertical-align: middle;\n    }\n\n    .dataframe tbody tr th {\n        vertical-align: top;\n    }\n\n    .dataframe thead th {\n        text-align: right;\n    }\n</style>\n<table border=\"1\" class=\"dataframe\">\n  <thead>\n    <tr style=\"text-align: right;\">\n      <th></th>\n      <th>MedInc</th>\n      <th>HouseAge</th>\n      <th>AveRooms</th>\n      <th>AveBedrms</th>\n      <th>Population</th>\n      <th>AveOccup</th>\n      <th>Latitude</th>\n      <th>Longitude</th>\n    </tr>\n  </thead>\n  <tbody>\n    <tr>\n      <th>0</th>\n      <td>8.3252</td>\n      <td>41.0</td>\n      <td>6.984127</td>\n      <td>1.023810</td>\n      <td>322.0</td>\n      <td>2.555556</td>\n      <td>37.88</td>\n      <td>-122.23</td>\n    </tr>\n    <tr>\n      <th>1</th>\n      <td>8.3014</td>\n      <td>21.0</td>\n      <td>6.238137</td>\n      <td>0.971880</td>\n      <td>2401.0</td>\n      <td>2.109842</td>\n      <td>37.86</td>\n      <td>-122.22</td>\n    </tr>\n    <tr>\n      <th>2</th>\n      <td>7.2574</td>\n      <td>52.0</td>\n      <td>8.288136</td>\n      <td>1.073446</td>\n      <td>496.0</td>\n      <td>2.802260</td>\n      <td>37.85</td>\n      <td>-122.24</td>\n    </tr>\n    <tr>\n      <th>3</th>\n      <td>5.6431</td>\n      <td>52.0</td>\n      <td>5.817352</td>\n      <td>1.073059</td>\n      <td>558.0</td>\n      <td>2.547945</td>\n      <td>37.85</td>\n      <td>-122.25</td>\n    </tr>\n    <tr>\n      <th>4</th>\n      <td>3.8462</td>\n      <td>52.0</td>\n      <td>6.281853</td>\n      <td>1.081081</td>\n      <td>565.0</td>\n      <td>2.181467</td>\n      <td>37.85</td>\n      <td>-122.25</td>\n    </tr>\n  </tbody>\n</table>\n</div>"
     },
     "execution_count": 44,
     "metadata": {},
     "output_type": "execute_result"
    }
   ],
   "source": [
    "ca.columns = cali.feature_names\n",
    "ca.head()"
   ]
  },
  {
   "cell_type": "markdown",
   "metadata": {},
   "source": [
    "<span style=\"color:red;font-size:20px\">Add a feature called \"RoomRatio\" which is rooms per bedroom in the house.</span>"
   ]
  },
  {
   "cell_type": "code",
   "execution_count": 45,
   "metadata": {},
   "outputs": [],
   "source": [
    "ca['RoomRatio'] = ca.AveRooms/ca.AveBedrms"
   ]
  },
  {
   "cell_type": "code",
   "execution_count": 46,
   "metadata": {},
   "outputs": [
    {
     "data": {
      "text/plain": "   MedInc  HouseAge  AveRooms  AveBedrms  Population  AveOccup  Latitude  \\\n0  8.3252      41.0  6.984127   1.023810       322.0  2.555556     37.88   \n1  8.3014      21.0  6.238137   0.971880      2401.0  2.109842     37.86   \n2  7.2574      52.0  8.288136   1.073446       496.0  2.802260     37.85   \n3  5.6431      52.0  5.817352   1.073059       558.0  2.547945     37.85   \n4  3.8462      52.0  6.281853   1.081081       565.0  2.181467     37.85   \n\n   Longitude  RoomRatio  \n0    -122.23   6.821705  \n1    -122.22   6.418626  \n2    -122.24   7.721053  \n3    -122.25   5.421277  \n4    -122.25   5.810714  ",
      "text/html": "<div>\n<style scoped>\n    .dataframe tbody tr th:only-of-type {\n        vertical-align: middle;\n    }\n\n    .dataframe tbody tr th {\n        vertical-align: top;\n    }\n\n    .dataframe thead th {\n        text-align: right;\n    }\n</style>\n<table border=\"1\" class=\"dataframe\">\n  <thead>\n    <tr style=\"text-align: right;\">\n      <th></th>\n      <th>MedInc</th>\n      <th>HouseAge</th>\n      <th>AveRooms</th>\n      <th>AveBedrms</th>\n      <th>Population</th>\n      <th>AveOccup</th>\n      <th>Latitude</th>\n      <th>Longitude</th>\n      <th>RoomRatio</th>\n    </tr>\n  </thead>\n  <tbody>\n    <tr>\n      <th>0</th>\n      <td>8.3252</td>\n      <td>41.0</td>\n      <td>6.984127</td>\n      <td>1.023810</td>\n      <td>322.0</td>\n      <td>2.555556</td>\n      <td>37.88</td>\n      <td>-122.23</td>\n      <td>6.821705</td>\n    </tr>\n    <tr>\n      <th>1</th>\n      <td>8.3014</td>\n      <td>21.0</td>\n      <td>6.238137</td>\n      <td>0.971880</td>\n      <td>2401.0</td>\n      <td>2.109842</td>\n      <td>37.86</td>\n      <td>-122.22</td>\n      <td>6.418626</td>\n    </tr>\n    <tr>\n      <th>2</th>\n      <td>7.2574</td>\n      <td>52.0</td>\n      <td>8.288136</td>\n      <td>1.073446</td>\n      <td>496.0</td>\n      <td>2.802260</td>\n      <td>37.85</td>\n      <td>-122.24</td>\n      <td>7.721053</td>\n    </tr>\n    <tr>\n      <th>3</th>\n      <td>5.6431</td>\n      <td>52.0</td>\n      <td>5.817352</td>\n      <td>1.073059</td>\n      <td>558.0</td>\n      <td>2.547945</td>\n      <td>37.85</td>\n      <td>-122.25</td>\n      <td>5.421277</td>\n    </tr>\n    <tr>\n      <th>4</th>\n      <td>3.8462</td>\n      <td>52.0</td>\n      <td>6.281853</td>\n      <td>1.081081</td>\n      <td>565.0</td>\n      <td>2.181467</td>\n      <td>37.85</td>\n      <td>-122.25</td>\n      <td>5.810714</td>\n    </tr>\n  </tbody>\n</table>\n</div>"
     },
     "execution_count": 46,
     "metadata": {},
     "output_type": "execute_result"
    }
   ],
   "source": [
    "ca.head()"
   ]
  },
  {
   "cell_type": "markdown",
   "metadata": {},
   "source": [
    "Take a look at the target variable and add it to our data frame!"
   ]
  },
  {
   "cell_type": "code",
   "execution_count": 47,
   "metadata": {},
   "outputs": [
    {
     "name": "stdout",
     "output_type": "stream",
     "text": [
      "(20640,)\n"
     ]
    }
   ],
   "source": [
    "print(cali.target.shape)"
   ]
  },
  {
   "cell_type": "code",
   "execution_count": 48,
   "metadata": {},
   "outputs": [],
   "source": [
    "ca['PRICE'] = cali.target"
   ]
  },
  {
   "cell_type": "markdown",
   "metadata": {},
   "source": [
    "#### Some descriptive statistics - explanatory data analysis"
   ]
  },
  {
   "cell_type": "code",
   "execution_count": 49,
   "metadata": {},
   "outputs": [
    {
     "data": {
      "text/plain": "             MedInc      HouseAge      AveRooms     AveBedrms    Population  \\\ncount  20640.000000  20640.000000  20640.000000  20640.000000  20640.000000   \nmean       3.870671     28.639486      5.429000      1.096675   1425.476744   \nstd        1.899822     12.585558      2.474173      0.473911   1132.462122   \nmin        0.499900      1.000000      0.846154      0.333333      3.000000   \n25%        2.563400     18.000000      4.440716      1.006079    787.000000   \n50%        3.534800     29.000000      5.229129      1.048780   1166.000000   \n75%        4.743250     37.000000      6.052381      1.099526   1725.000000   \nmax       15.000100     52.000000    141.909091     34.066667  35682.000000   \n\n           AveOccup      Latitude     Longitude     RoomRatio         PRICE  \ncount  20640.000000  20640.000000  20640.000000  20640.000000  20640.000000  \nmean       3.070655     35.631861   -119.569704      4.984262      2.068558  \nstd       10.386050      2.135952      2.003532      1.171836      1.153956  \nmin        0.692308     32.540000   -124.350000      1.000000      0.149990  \n25%        2.429741     33.930000   -121.800000      4.169542      1.196000  \n50%        2.818116     34.260000   -118.490000      4.921728      1.797000  \n75%        3.282261     37.710000   -118.010000      5.700424      2.647250  \nmax     1243.333333     41.950000   -114.310000     10.000000      5.000010  ",
      "text/html": "<div>\n<style scoped>\n    .dataframe tbody tr th:only-of-type {\n        vertical-align: middle;\n    }\n\n    .dataframe tbody tr th {\n        vertical-align: top;\n    }\n\n    .dataframe thead th {\n        text-align: right;\n    }\n</style>\n<table border=\"1\" class=\"dataframe\">\n  <thead>\n    <tr style=\"text-align: right;\">\n      <th></th>\n      <th>MedInc</th>\n      <th>HouseAge</th>\n      <th>AveRooms</th>\n      <th>AveBedrms</th>\n      <th>Population</th>\n      <th>AveOccup</th>\n      <th>Latitude</th>\n      <th>Longitude</th>\n      <th>RoomRatio</th>\n      <th>PRICE</th>\n    </tr>\n  </thead>\n  <tbody>\n    <tr>\n      <th>count</th>\n      <td>20640.000000</td>\n      <td>20640.000000</td>\n      <td>20640.000000</td>\n      <td>20640.000000</td>\n      <td>20640.000000</td>\n      <td>20640.000000</td>\n      <td>20640.000000</td>\n      <td>20640.000000</td>\n      <td>20640.000000</td>\n      <td>20640.000000</td>\n    </tr>\n    <tr>\n      <th>mean</th>\n      <td>3.870671</td>\n      <td>28.639486</td>\n      <td>5.429000</td>\n      <td>1.096675</td>\n      <td>1425.476744</td>\n      <td>3.070655</td>\n      <td>35.631861</td>\n      <td>-119.569704</td>\n      <td>4.984262</td>\n      <td>2.068558</td>\n    </tr>\n    <tr>\n      <th>std</th>\n      <td>1.899822</td>\n      <td>12.585558</td>\n      <td>2.474173</td>\n      <td>0.473911</td>\n      <td>1132.462122</td>\n      <td>10.386050</td>\n      <td>2.135952</td>\n      <td>2.003532</td>\n      <td>1.171836</td>\n      <td>1.153956</td>\n    </tr>\n    <tr>\n      <th>min</th>\n      <td>0.499900</td>\n      <td>1.000000</td>\n      <td>0.846154</td>\n      <td>0.333333</td>\n      <td>3.000000</td>\n      <td>0.692308</td>\n      <td>32.540000</td>\n      <td>-124.350000</td>\n      <td>1.000000</td>\n      <td>0.149990</td>\n    </tr>\n    <tr>\n      <th>25%</th>\n      <td>2.563400</td>\n      <td>18.000000</td>\n      <td>4.440716</td>\n      <td>1.006079</td>\n      <td>787.000000</td>\n      <td>2.429741</td>\n      <td>33.930000</td>\n      <td>-121.800000</td>\n      <td>4.169542</td>\n      <td>1.196000</td>\n    </tr>\n    <tr>\n      <th>50%</th>\n      <td>3.534800</td>\n      <td>29.000000</td>\n      <td>5.229129</td>\n      <td>1.048780</td>\n      <td>1166.000000</td>\n      <td>2.818116</td>\n      <td>34.260000</td>\n      <td>-118.490000</td>\n      <td>4.921728</td>\n      <td>1.797000</td>\n    </tr>\n    <tr>\n      <th>75%</th>\n      <td>4.743250</td>\n      <td>37.000000</td>\n      <td>6.052381</td>\n      <td>1.099526</td>\n      <td>1725.000000</td>\n      <td>3.282261</td>\n      <td>37.710000</td>\n      <td>-118.010000</td>\n      <td>5.700424</td>\n      <td>2.647250</td>\n    </tr>\n    <tr>\n      <th>max</th>\n      <td>15.000100</td>\n      <td>52.000000</td>\n      <td>141.909091</td>\n      <td>34.066667</td>\n      <td>35682.000000</td>\n      <td>1243.333333</td>\n      <td>41.950000</td>\n      <td>-114.310000</td>\n      <td>10.000000</td>\n      <td>5.000010</td>\n    </tr>\n  </tbody>\n</table>\n</div>"
     },
     "execution_count": 49,
     "metadata": {},
     "output_type": "execute_result"
    }
   ],
   "source": [
    "ca.describe()"
   ]
  },
  {
   "cell_type": "markdown",
   "metadata": {},
   "source": [
    "##### Scatter plots"
   ]
  },
  {
   "cell_type": "code",
   "execution_count": 50,
   "metadata": {},
   "outputs": [
    {
     "data": {
      "text/plain": "<Figure size 432x288 with 1 Axes>",
      "image/png": "[encoded data removed]"
     },
     "metadata": {
      "needs_background": "light"
     },
     "output_type": "display_data"
    }
   ],
   "source": [
    "plt.scatter(ca.MedInc, ca.PRICE)\n",
    "plt.xlabel(\"Median income in region\")\n",
    "plt.ylabel(\"Housing Price\")\n",
    "plt.title(\"Relationship between MedInc and Price\")\n",
    "plt.show()"
   ]
  },
  {
   "cell_type": "code",
   "execution_count": 51,
   "metadata": {},
   "outputs": [
    {
     "data": {
      "text/plain": "<Figure size 432x288 with 1 Axes>",
      "image/png": "[encoded data removed]"
     },
     "metadata": {
      "needs_background": "light"
     },
     "output_type": "display_data"
    }
   ],
   "source": [
    "plt.scatter(ca.RoomRatio, ca.PRICE)\n",
    "plt.xlabel(\"Rooms per bedroom (AveRooms/AveBdroom)\")\n",
    "plt.ylabel(\"Housing Price\")\n",
    "plt.title(\"Relationship between Rooms and Price\")\n",
    "plt.show()"
   ]
  },
  {
   "cell_type": "code",
   "execution_count": 52,
   "metadata": {},
   "outputs": [
    {
     "data": {
      "text/plain": "<Figure size 432x288 with 1 Axes>",
      "image/png": "[encoded data removed]"
     },
     "metadata": {
      "needs_background": "light"
     },
     "output_type": "display_data"
    }
   ],
   "source": [
    "plt.scatter(ca.Latitude, ca.PRICE)\n",
    "plt.xlabel(\"Latitude\")\n",
    "plt.ylabel(\"Housing Price\")\n",
    "plt.title(\"Relationship between Latitude and Price\")\n",
    "plt.show()"
   ]
  },
  {
   "cell_type": "markdown",
   "metadata": {},
   "source": [
    "##### Histograms"
   ]
  },
  {
   "cell_type": "code",
   "execution_count": 53,
   "metadata": {},
   "outputs": [
    {
     "data": {
      "text/plain": "<Figure size 432x288 with 1 Axes>",
      "image/png": "[encoded data removed]"
     },
     "metadata": {
      "needs_background": "light"
     },
     "output_type": "display_data"
    }
   ],
   "source": [
    "plt.hist(ca.AveRooms,bins=100)\n",
    "plt.title(\"AveRooms Distribution\")\n",
    "plt.xlabel(\"Average Number of Rooms\")\n",
    "plt.ylabel(\"Frequency\")\n",
    "plt.show()"
   ]
  },
  {
   "cell_type": "code",
   "execution_count": 54,
   "metadata": {},
   "outputs": [
    {
     "data": {
      "text/plain": "<Figure size 432x288 with 1 Axes>",
      "image/png": "[encoded data removed]"
     },
     "metadata": {
      "needs_background": "light"
     },
     "output_type": "display_data"
    }
   ],
   "source": [
    "plt.hist(ca.RoomRatio,bins=100)\n",
    "plt.title(\"RoomRatio\")\n",
    "plt.xlabel(\"Average Rooms per Bedroom\")\n",
    "plt.ylabel(\"Frequency\")\n",
    "plt.show()"
   ]
  },
  {
   "cell_type": "code",
   "execution_count": 55,
   "metadata": {},
   "outputs": [
    {
     "data": {
      "text/plain": "<Figure size 432x288 with 1 Axes>",
      "image/png": "[encoded data removed]"
     },
     "metadata": {
      "needs_background": "light"
     },
     "output_type": "display_data"
    }
   ],
   "source": [
    "plt.hist(ca.PRICE,bins=100)\n",
    "plt.title('Housing Prices: $Y_i$')\n",
    "plt.xlabel('Price in $100,000')\n",
    "plt.ylabel('Frequency')\n",
    "plt.show()"
   ]
  },
  {
   "cell_type": "markdown",
   "metadata": {},
   "source": [
    "#### Fitting linear regression"
   ]
  },
  {
   "cell_type": "code",
   "execution_count": 56,
   "metadata": {},
   "outputs": [
    {
     "data": {
      "text/plain": "LinearRegression()"
     },
     "execution_count": 56,
     "metadata": {},
     "output_type": "execute_result"
    }
   ],
   "source": [
    "from sklearn.linear_model import LinearRegression\n",
    "\n",
    "X = ca.drop('PRICE', axis = 1)\n",
    "\n",
    "# This creates a LinearRegression object\n",
    "lm = LinearRegression()\n",
    "lm"
   ]
  },
  {
   "cell_type": "markdown",
   "metadata": {},
   "source": [
    "###### What can we do with a LinearRegression object? \n",
    "Y = mx + b"
   ]
  },
  {
   "cell_type": "code",
   "execution_count": 57,
   "metadata": {},
   "outputs": [
    {
     "data": {
      "text/plain": "' lm. '"
     },
     "execution_count": 57,
     "metadata": {},
     "output_type": "execute_result"
    }
   ],
   "source": [
    "# Look inside linear regression object\n",
    "# lm.<tab>\n",
    "''' lm. '''"
   ]
  },
  {
   "cell_type": "code",
   "execution_count": 58,
   "metadata": {},
   "outputs": [
    {
     "data": {
      "text/plain": "LinearRegression()"
     },
     "execution_count": 58,
     "metadata": {},
     "output_type": "execute_result"
    }
   ],
   "source": [
    "# Use all 13 predictors to fit linear regression model\n",
    "lm.fit(X, ca.PRICE)"
   ]
  },
  {
   "cell_type": "code",
   "execution_count": 59,
   "metadata": {},
   "outputs": [
    {
     "name": "stdout",
     "output_type": "stream",
     "text": [
      "Estimated intercept coefficient: -34.27680088156909\n"
     ]
    }
   ],
   "source": [
    "print('Estimated intercept coefficient:', lm.intercept_)"
   ]
  },
  {
   "cell_type": "markdown",
   "metadata": {},
   "source": [
    "<span style=\"color:red;font-size:20px\">How many coefficients do you expect the model to have?</span>"
   ]
  },
  {
   "cell_type": "code",
   "execution_count": 60,
   "metadata": {},
   "outputs": [
    {
     "name": "stdout",
     "output_type": "stream",
     "text": [
      "Number of coefficients: 9\n"
     ]
    }
   ],
   "source": [
    "print('Number of coefficients:', len(lm.coef_))"
   ]
  },
  {
   "cell_type": "code",
   "execution_count": 61,
   "metadata": {},
   "outputs": [
    {
     "data": {
      "text/plain": "      featues  estimatedCoefficients\n0      MedInc               0.474204\n1    HouseAge               0.009306\n2    AveRooms               0.108618\n3   AveBedrms              -0.359542\n4  Population              -0.000008\n5    AveOccup              -0.003991\n6    Latitude              -0.400516\n7   Longitude              -0.416902\n8   RoomRatio              -0.302304",
      "text/html": "<div>\n<style scoped>\n    .dataframe tbody tr th:only-of-type {\n        vertical-align: middle;\n    }\n\n    .dataframe tbody tr th {\n        vertical-align: top;\n    }\n\n    .dataframe thead th {\n        text-align: right;\n    }\n</style>\n<table border=\"1\" class=\"dataframe\">\n  <thead>\n    <tr style=\"text-align: right;\">\n      <th></th>\n      <th>featues</th>\n      <th>estimatedCoefficients</th>\n    </tr>\n  </thead>\n  <tbody>\n    <tr>\n      <th>0</th>\n      <td>MedInc</td>\n      <td>0.474204</td>\n    </tr>\n    <tr>\n      <th>1</th>\n      <td>HouseAge</td>\n      <td>0.009306</td>\n    </tr>\n    <tr>\n      <th>2</th>\n      <td>AveRooms</td>\n      <td>0.108618</td>\n    </tr>\n    <tr>\n      <th>3</th>\n      <td>AveBedrms</td>\n      <td>-0.359542</td>\n    </tr>\n    <tr>\n      <th>4</th>\n      <td>Population</td>\n      <td>-0.000008</td>\n    </tr>\n    <tr>\n      <th>5</th>\n      <td>AveOccup</td>\n      <td>-0.003991</td>\n    </tr>\n    <tr>\n      <th>6</th>\n      <td>Latitude</td>\n      <td>-0.400516</td>\n    </tr>\n    <tr>\n      <th>7</th>\n      <td>Longitude</td>\n      <td>-0.416902</td>\n    </tr>\n    <tr>\n      <th>8</th>\n      <td>RoomRatio</td>\n      <td>-0.302304</td>\n    </tr>\n  </tbody>\n</table>\n</div>"
     },
     "execution_count": 61,
     "metadata": {},
     "output_type": "execute_result"
    }
   ],
   "source": [
    "# The coefficients\n",
    "pd.DataFrame({'featues':X.columns, 'estimatedCoefficients':lm.coef_})"
   ]
  },
  {
   "cell_type": "code",
   "execution_count": 62,
   "metadata": {},
   "outputs": [
    {
     "data": {
      "text/plain": "array([4.15465528, 4.00664182, 3.61646798, 3.28267399, 2.3618279 ])"
     },
     "execution_count": 62,
     "metadata": {},
     "output_type": "execute_result"
    }
   ],
   "source": [
    "# first five predicted prices\n",
    "lm.predict(X)[0:5]"
   ]
  },
  {
   "cell_type": "code",
   "execution_count": 63,
   "metadata": {},
   "outputs": [
    {
     "data": {
      "text/plain": "Text(0, 0.5, 'Frequency')"
     },
     "execution_count": 63,
     "metadata": {},
     "output_type": "execute_result"
    },
    {
     "data": {
      "text/plain": "<Figure size 432x288 with 1 Axes>",
      "image/png": "[encoded data removed]"
     },
     "metadata": {
      "needs_background": "light"
     },
     "output_type": "display_data"
    }
   ],
   "source": [
    "plt.hist(lm.predict(X),bins=100)\n",
    "plt.title('Predicted Housing Prices (fitted values): $\\hat{Y}_i$')\n",
    "plt.xlabel('Price')\n",
    "plt.ylabel('Frequency')"
   ]
  },
  {
   "cell_type": "markdown",
   "metadata": {},
   "source": [
    "##### Predicted and actual values"
   ]
  },
  {
   "cell_type": "code",
   "execution_count": 64,
   "metadata": {},
   "outputs": [
    {
     "data": {
      "text/plain": "Text(0.5, 1.0, 'Prices vs Predicted Prices: $Y_i$ vs $\\\\hat{Y}_i$')"
     },
     "execution_count": 64,
     "metadata": {},
     "output_type": "execute_result"
    },
    {
     "data": {
      "text/plain": "<Figure size 432x288 with 1 Axes>",
      "image/png": "[encoded data removed]"
     },
     "metadata": {
      "needs_background": "light"
     },
     "output_type": "display_data"
    }
   ],
   "source": [
    "plt.scatter(ca.PRICE, lm.predict(X))\n",
    "plt.xlabel(\"Price in \\$100,000 increments: $Y_i$\")\n",
    "plt.ylabel(\"Predicted prices in \\$100,000 increments: $\\hat{Y}_i$\")\n",
    "plt.title(\"Prices vs Predicted Prices: $Y_i$ vs $\\hat{Y}_i$\")"
   ]
  },
  {
   "cell_type": "markdown",
   "metadata": {},
   "source": [
    "<span style=\"color:red;font-size:20px\"> How can we tell if our model fits the data well?</span>"
   ]
  },
  {
   "cell_type": "markdown",
   "metadata": {},
   "source": [
    "##### Sum Squared Error (SSE), Mean Squared Error (MSE)\n",
    "It is not as straight forward to interpret linear regression models (no ROC curve). If possible, we can compare our RSS and MSE results to a state of the art model. We can also compare them to a baseline model."
   ]
  },
  {
   "cell_type": "code",
   "execution_count": 65,
   "metadata": {},
   "outputs": [
    {
     "data": {
      "text/plain": "10619.873849003992"
     },
     "execution_count": 65,
     "metadata": {},
     "output_type": "execute_result"
    }
   ],
   "source": [
    "sse = np.sum((ca.PRICE - lm.predict(X)) ** 2)\n",
    "sse"
   ]
  },
  {
   "cell_type": "code",
   "execution_count": 66,
   "metadata": {},
   "outputs": [
    {
     "data": {
      "text/plain": "0.5145287717540692"
     },
     "execution_count": 66,
     "metadata": {},
     "output_type": "execute_result"
    }
   ],
   "source": [
    "mse = np.mean((ca.PRICE - lm.predict(X)) ** 2)\n",
    "mse"
   ]
  },
  {
   "cell_type": "markdown",
   "metadata": {},
   "source": [
    "#### Using only one explanatory variable"
   ]
  },
  {
   "cell_type": "code",
   "execution_count": 67,
   "metadata": {},
   "outputs": [
    {
     "data": {
      "text/plain": "LinearRegression()"
     },
     "execution_count": 67,
     "metadata": {},
     "output_type": "execute_result"
    }
   ],
   "source": [
    "lm = LinearRegression()\n",
    "lm.fit(X[['MedInc']], ca.PRICE)"
   ]
  },
  {
   "cell_type": "code",
   "execution_count": 68,
   "metadata": {},
   "outputs": [
    {
     "data": {
      "text/plain": "0.7011311502929489"
     },
     "execution_count": 68,
     "metadata": {},
     "output_type": "execute_result"
    }
   ],
   "source": [
    "mse_MedInc = np.mean((ca.PRICE - lm.predict(X[['MedInc']])) ** 2)\n",
    "mse_MedInc"
   ]
  },
  {
   "cell_type": "code",
   "execution_count": 69,
   "metadata": {},
   "outputs": [
    {
     "data": {
      "text/plain": "<Figure size 432x288 with 1 Axes>",
      "image/png": "[encoded data removed]"
     },
     "metadata": {
      "needs_background": "light"
     },
     "output_type": "display_data"
    }
   ],
   "source": [
    "plt.scatter(ca.MedInc, ca.PRICE)\n",
    "plt.xlabel(\"Region Median Income\")\n",
    "plt.ylabel(\"Housing Price\")\n",
    "plt.title(\"Relationship between MedInc and Price\")\n",
    "\n",
    "plt.plot(ca.MedInc, lm.predict(X[['MedInc']]), color='red', linewidth=3)\n",
    "plt.axis( [0, 16, 0, 5.15] )\n",
    "plt.show()"
   ]
  },
  {
   "cell_type": "markdown",
   "metadata": {},
   "source": [
    "#### Training and test set\n",
    "Why use a linear model? Sometimes the purpose is to see how well a linear model fits the data. The coefficients may tell us something about the importance of our features, whether there's a positive or negative relationship. Other times we build the model for prediction, in which case we'll use train-test split as we did in classification models."
   ]
  },
  {
   "cell_type": "code",
   "execution_count": 70,
   "metadata": {},
   "outputs": [
    {
     "name": "stdout",
     "output_type": "stream",
     "text": [
      "(13828, 9)\n",
      "(6812, 9)\n",
      "(13828,)\n",
      "(6812,)\n"
     ]
    }
   ],
   "source": [
    "from sklearn.model_selection import train_test_split\n",
    "\n",
    "X_train, X_test, Y_train, Y_test = train_test_split(X, ca.PRICE, test_size=0.33, random_state = 5)\n",
    "print(X_train.shape)\n",
    "print(X_test.shape)\n",
    "print(Y_train.shape)\n",
    "print(Y_test.shape)"
   ]
  },
  {
   "cell_type": "code",
   "execution_count": 71,
   "metadata": {},
   "outputs": [],
   "source": [
    "lm = LinearRegression()\n",
    "lm.fit(X_train, Y_train)\n",
    "pred_train = lm.predict(X_train)\n",
    "pred_test = lm.predict(X_test)"
   ]
  },
  {
   "cell_type": "markdown",
   "metadata": {},
   "source": [
    "##### Calculating the error"
   ]
  },
  {
   "cell_type": "code",
   "execution_count": 72,
   "metadata": {},
   "outputs": [
    {
     "name": "stdout",
     "output_type": "stream",
     "text": [
      "Fit a model X_train, and calculate MSE with Y_train: 0.509650253119637\n",
      "Fit a model X_train, and calculate MSE with X_test, Y_test: 0.5251513666367176\n"
     ]
    }
   ],
   "source": [
    "print(\"Fit a model X_train, and calculate MSE with Y_train:\", np.mean((Y_train - lm.predict(X_train)) ** 2))\n",
    "print(\"Fit a model X_train, and calculate MSE with X_test, Y_test:\", np.mean((Y_test - lm.predict(X_test)) ** 2))"
   ]
  },
  {
   "cell_type": "markdown",
   "metadata": {},
   "source": [
    "### Gradient method on a small example"
   ]
  },
  {
   "cell_type": "markdown",
   "metadata": {},
   "source": [
    "#### What is a linear regression model? Think: Y = mx + b\n",
    "\n",
    " $\\hat{Y} = w_0 + w_1 \\cdot x_1 + w_2 \\cdot x_2 + \\dots + w_n \\cdot x_n$ \n",
    " \n",
    "This can also be written as $\\hat{y}$ = w<sup>T</sup>x, where w is a vector of weights (or coefficients) and x is a nXd matrix of features. There are n records in the dataset and d features.\n",
    "\n",
    "<div>\n",
    "<img src=\"https://media.licdn.com/dms/image/D4D22AQGLrAWFrtpZwQ/feedshare-shrink_800/0/1681765115487?e=1684368000&v=beta&t=ZNKVKNPZW8ECKgBt2lAoOUta8Mn6iHVy9Bnh5xY5HGM\" width=\"200\"/>\n",
    "</div>"
   ]
  },
  {
   "cell_type": "markdown",
   "metadata": {},
   "source": [
    "#### Data\n",
    "The area of some flat ($m^2$) and their prices (million HUF):"
   ]
  },
  {
   "cell_type": "code",
   "execution_count": 73,
   "metadata": {},
   "outputs": [],
   "source": [
    "size = [26, 33, 49, 53, 120, 150]\n",
    "price = [9.8, 7.3, 14, 15, 45, 40]"
   ]
  },
  {
   "cell_type": "code",
   "execution_count": 74,
   "metadata": {},
   "outputs": [
    {
     "data": {
      "text/plain": "<Figure size 432x288 with 1 Axes>",
      "image/png": "[encoded data removed]"
     },
     "metadata": {
      "needs_background": "light"
     },
     "output_type": "display_data"
    }
   ],
   "source": [
    "plt.plot(size, price, 'ro')\n",
    "plt.axis( [0, 200, 0, 50] )\n",
    "plt.title(\"Toy Dataset, size vs. price of houses\")\n",
    "plt.show()"
   ]
  },
  {
   "cell_type": "markdown",
   "metadata": {},
   "source": [
    "#### Fitting a linear model"
   ]
  },
  {
   "cell_type": "markdown",
   "metadata": {},
   "source": [
    "First we define a function that calculates the sum of squared errors for a given $\\hat{Y} = w_1 \\cdot x_1$ model. We assume that the data is given so the error only depends on $w$."
   ]
  },
  {
   "cell_type": "code",
   "execution_count": 75,
   "metadata": {},
   "outputs": [],
   "source": [
    "def err(w):\n",
    "    return np.sum(np.power(np.add(np.multiply(w,size), np.multiply(-1, price)),2))"
   ]
  },
  {
   "cell_type": "markdown",
   "metadata": {},
   "source": [
    "We consider some simple linear models then we calculate their errors\n",
    "\n",
    "* Model 1 (blue): price = 0.3 * size\n",
    "* Model 2 (green): price = 0.4 * size\n",
    "* Model 3 (red): price = 0.5 * size"
   ]
  },
  {
   "cell_type": "code",
   "execution_count": 76,
   "metadata": {},
   "outputs": [
    {
     "data": {
      "text/plain": "<Figure size 432x288 with 1 Axes>",
      "image/png": "[encoded data removed]"
     },
     "metadata": {
      "needs_background": "light"
     },
     "output_type": "display_data"
    }
   ],
   "source": [
    "plt.plot(size, price, 'ro')\n",
    "plt.plot(size, np.multiply(0.3,size), 'b-')\n",
    "plt.plot(size, np.multiply(0.4,size), 'g-')\n",
    "plt.plot(size, np.multiply(0.5,size), 'r-')\n",
    "plt.legend([\"data\",\"w=0.3\",\"w=0.4\",\"w=0.5\"], loc=\"lower right\")\n",
    "plt.axis( [0, 200, 0, 80] )\n",
    "plt.show()"
   ]
  },
  {
   "cell_type": "code",
   "execution_count": 77,
   "metadata": {},
   "outputs": [
    {
     "data": {
      "text/plain": "118.06"
     },
     "execution_count": 77,
     "metadata": {},
     "output_type": "execute_result"
    }
   ],
   "source": [
    "err(0.3)"
   ]
  },
  {
   "cell_type": "code",
   "execution_count": 78,
   "metadata": {},
   "outputs": [
    {
     "data": {
      "text/plain": "513.97"
     },
     "execution_count": 78,
     "metadata": {},
     "output_type": "execute_result"
    }
   ],
   "source": [
    "err(0.4)"
   ]
  },
  {
   "cell_type": "code",
   "execution_count": 79,
   "metadata": {},
   "outputs": [
    {
     "data": {
      "text/plain": "1787.38"
     },
     "execution_count": 79,
     "metadata": {},
     "output_type": "execute_result"
    }
   ],
   "source": [
    "err(0.5)"
   ]
  },
  {
   "cell_type": "markdown",
   "metadata": {},
   "source": [
    "Let's plot the sum of squared errors against $w$!"
   ]
  },
  {
   "cell_type": "code",
   "execution_count": 80,
   "metadata": {},
   "outputs": [
    {
     "data": {
      "text/plain": "<Figure size 432x288 with 1 Axes>",
      "image/png": "[encoded data removed]"
     },
     "metadata": {
      "needs_background": "light"
     },
     "output_type": "display_data"
    }
   ],
   "source": [
    "weights = np.multiply(range(100), 0.01)\n",
    "errors  = []\n",
    "\n",
    "for w in weights:\n",
    "    errors.append(err(w))\n",
    "    \n",
    "plt.plot(weights, errors, 'r-')\n",
    "plt.title(\"Weight vs. sum of squared errors\")\n",
    "plt.show()"
   ]
  },
  {
   "cell_type": "markdown",
   "metadata": {},
   "source": [
    "We are looking for the w with smallest error. We'll apply the gradient method to find this:\n",
    "- $epsilon$ is the learning rate. <span style=\"color:red\">What happens when we change the learning rate?</span>\n",
    "- $w$ is the coefficient; we randomly assign an initial value for w; w is updated in each iteration\n",
    "- $e$ is the error (predicted label - actual label), in this case sum squared error"
   ]
  },
  {
   "cell_type": "code",
   "execution_count": 81,
   "metadata": {},
   "outputs": [],
   "source": [
    "eps = 1e-8  \n",
    "w   = 0.9      \n",
    "e   = []       \n",
    "for iteration in range(10000):\n",
    "    w = w - eps * ( 2*np.sum( np.multiply(np.multiply(size,size),w)) - 2*np.sum(np.multiply(size,price)) )\n",
    "    e.append(err(w))"
   ]
  },
  {
   "cell_type": "code",
   "execution_count": 82,
   "metadata": {},
   "outputs": [
    {
     "data": {
      "text/plain": "0.30497367247536933"
     },
     "execution_count": 82,
     "metadata": {},
     "output_type": "execute_result"
    }
   ],
   "source": [
    "w"
   ]
  },
  {
   "cell_type": "markdown",
   "metadata": {},
   "source": [
    "<span style=\"color:red;font-size:20px\">How the error changes with number of iterations?</span>"
   ]
  },
  {
   "cell_type": "code",
   "execution_count": 83,
   "metadata": {},
   "outputs": [
    {
     "data": {
      "text/plain": "<Figure size 432x288 with 1 Axes>",
      "image/png": "[encoded data removed]"
     },
     "metadata": {
      "needs_background": "light"
     },
     "output_type": "display_data"
    }
   ],
   "source": [
    "plt.plot(range(10000), e, 'r-')\n",
    "plt.title(\"Interation vs. sum squared error\")\n",
    "plt.show()"
   ]
  },
  {
   "cell_type": "markdown",
   "metadata": {},
   "source": [
    "#### Visualizing the model"
   ]
  },
  {
   "cell_type": "code",
   "execution_count": 84,
   "metadata": {},
   "outputs": [
    {
     "data": {
      "text/plain": "<Figure size 432x288 with 1 Axes>",
      "image/png": "[encoded data removed]"
     },
     "metadata": {
      "needs_background": "light"
     },
     "output_type": "display_data"
    }
   ],
   "source": [
    "plt.plot(size, price, 'ro')\n",
    "plt.plot(size, np.multiply(w,size), 'b-')\n",
    "plt.title(\"Linear model results\")\n",
    "plt.show()"
   ]
  },
  {
   "cell_type": "markdown",
   "metadata": {},
   "source": [
    "#### Polynomial regression"
   ]
  },
  {
   "cell_type": "markdown",
   "metadata": {},
   "source": [
    "As an example we will fit a polynomial of degree 6, namely we will fit the following model:\n",
    "\n",
    " $\\hat{Y} = w_0 + w_1 \\cdot x + w_2 \\cdot x^2 + \\dots + w_6 \\cdot x^6$\n",
    " \n",
    "We normalize the data. We create a data frame that contains the polynomial attrributes. <span style=\"color:red\">Why do we need a column of 1s?</span>"
   ]
  },
  {
   "cell_type": "code",
   "execution_count": 85,
   "metadata": {},
   "outputs": [],
   "source": [
    "import math\n",
    "\n",
    "size1 = np.multiply(np.add(size,-np.mean(size)), 1/math.sqrt(np.var(size)) )\n",
    "\n",
    "size2 = np.multiply(size1,size1)\n",
    "size3 = np.multiply(size2,size1)\n",
    "size4 = np.multiply(size3,size1)\n",
    "size5 = np.multiply(size4,size1)\n",
    "size6 = np.multiply(size5,size1)\n",
    "\n",
    "data = np.column_stack( (np.ones(6), size1, size2, size3, size4, size5, size6) )"
   ]
  },
  {
   "cell_type": "code",
   "execution_count": 86,
   "metadata": {},
   "outputs": [],
   "source": [
    "def err(w):\n",
    "    e0 = np.dot(data,w)-price\n",
    "    return sum(np.multiply(e0, e0))"
   ]
  },
  {
   "cell_type": "code",
   "execution_count": 87,
   "metadata": {},
   "outputs": [
    {
     "name": "stdout",
     "output_type": "stream",
     "text": [
      "4164.098764310749\n",
      "2062.8442686265234\n",
      "1871.46322192925\n",
      "1702.293912999091\n",
      "1552.1316869467626\n",
      "1418.3086751254334\n",
      "1298.5966834524784\n",
      "1191.1283357886914\n",
      "1094.33289486139\n",
      "1006.883987778075\n",
      "927.6569900924688\n",
      "855.6942489544485\n",
      "790.1766712256043\n",
      "730.4004820518353\n",
      "675.7581857818864\n",
      "625.7229444453183\n",
      "579.8357374618888\n",
      "537.6947864887883\n",
      "498.94682669847117\n",
      "463.27988466943816\n",
      "430.41728698692464\n",
      "400.1126754408851\n",
      "372.1458466823008\n",
      "346.3192682233456\n",
      "322.455150254298\n",
      "300.39297512417215\n",
      "279.9874044833535\n",
      "261.1064988175226\n",
      "243.63019606171653\n",
      "227.4490056976351\n",
      "212.46288263160528\n",
      "198.58025156989413\n",
      "185.71715783119288\n",
      "173.79652478935893\n",
      "162.74750160579723\n",
      "152.50488773865803\n",
      "143.0086230253022\n",
      "134.20333402279653\n",
      "126.03792883729002\n",
      "118.46523394099043\n",
      "111.44166751703735\n",
      "104.92694472976827\n",
      "98.88381102493355\n",
      "93.2778001489405\n",
      "88.077014060705\n",
      "83.2519223123884\n",
      "78.77517881107093\n",
      "74.62145415425029\n",
      "70.7672819678307\n",
      "67.19091787393585\n",
      "63.87220988395063\n",
      "60.79247915498163\n",
      "57.9344101697602\n",
      "55.28194950444938\n",
      "52.8202124387065\n",
      "50.53539674015016\n",
      "48.414703022981904\n",
      "46.446261139515535\n",
      "44.61906211515514\n",
      "42.922895182980405\n",
      "41.3482895144258\n",
      "39.88646027844506\n",
      "38.52925869350908\n",
      "37.269125765433024\n",
      "36.09904942977585\n",
      "35.01252484073104\n",
      "34.00351756940367\n",
      "33.06642949339044\n",
      "32.19606717683351\n",
      "31.38761255587934\n",
      "30.63659575882588\n",
      "29.938869903381157\n",
      "29.290587725494927\n",
      "28.68817990525692\n",
      "28.12833496550622\n",
      "27.607980628113207\n",
      "27.124266521493386\n",
      "26.674548140816878\n",
      "26.25637196968383\n",
      "25.86746167876606\n",
      "25.505705323142973\n",
      "25.169143465805238\n",
      "24.855958160117364\n",
      "24.56446272894571\n",
      "24.293092282710468\n",
      "24.040394922829144\n",
      "23.805023580919414\n",
      "23.585728447739108\n",
      "23.38134994918891\n",
      "23.190812229799548\n",
      "23.013117106998486\n",
      "22.847338462116728\n",
      "22.69261703655721\n",
      "22.54815560383878\n",
      "22.413214490349894\n",
      "22.287107419611544\n",
      "22.169197656673024\n",
      "22.05889443095635\n",
      "21.95564961743188\n",
      "21.85895465746398\n"
     ]
    }
   ],
   "source": [
    "eps = 1e-5\n",
    "w = [0,0,0,0,0,0,0]\n",
    "e = []\n",
    "\n",
    "for iteration in range(100000):\n",
    "    grad=[]\n",
    "    for k in range(len(w)):\n",
    "        grad.append(np.sum(np.multiply((np.dot(data,w)-price),data[:,k])))\n",
    "    for k in range(len(w)):\n",
    "        w[k] = w[k] - eps * grad[k]\n",
    "        \n",
    "    if iteration % 1000 == 0:  #Just to see what happens and to be able to plot the SSE as function of the iterations\n",
    "        e0 = err(w)\n",
    "        e.append(e0)\n",
    "        print(str(e0))"
   ]
  },
  {
   "cell_type": "markdown",
   "metadata": {},
   "source": [
    "#####  Visualizing the model"
   ]
  },
  {
   "cell_type": "code",
   "execution_count": 88,
   "metadata": {},
   "outputs": [],
   "source": [
    "# for any (normalized) house size, what price would this model predict?\n",
    "\n",
    "x = np.add(np.multiply(range(400),0.01),-2)"
   ]
  },
  {
   "cell_type": "code",
   "execution_count": 89,
   "metadata": {},
   "outputs": [],
   "source": [
    "def predict(size):\n",
    "    return np.dot(w, (1,size,size**2,size**3,size**4,size**5,size**6))"
   ]
  },
  {
   "cell_type": "code",
   "execution_count": 90,
   "metadata": {},
   "outputs": [],
   "source": [
    "predictions = []\n",
    "for i in x:\n",
    "    predictions = predictions + [predict(i)]"
   ]
  },
  {
   "cell_type": "code",
   "execution_count": 91,
   "metadata": {},
   "outputs": [
    {
     "data": {
      "text/plain": "<Figure size 432x288 with 1 Axes>",
      "image/png": "[encoded data removed]"
     },
     "metadata": {
      "needs_background": "light"
     },
     "output_type": "display_data"
    }
   ],
   "source": [
    "plt.plot(size1,price,'ro')\n",
    "plt.plot(x,predictions,'b-')\n",
    "plt.title(\"Polynomial model results\")\n",
    "plt.xlabel(\"Normalized home size\")\n",
    "plt.ylabel(\"Price\")\n",
    "plt.show()"
   ]
  },
  {
   "cell_type": "markdown",
   "metadata": {},
   "source": [
    "How the error changes with the number of iterations? (One unit corresponds to 1000 iterations on the $x$ axis.)"
   ]
  },
  {
   "cell_type": "code",
   "execution_count": 92,
   "metadata": {},
   "outputs": [
    {
     "data": {
      "text/plain": "<Figure size 432x288 with 1 Axes>",
      "image/png": "[encoded data removed]"
     },
     "metadata": {
      "needs_background": "light"
     },
     "output_type": "display_data"
    }
   ],
   "source": [
    "plt.plot(range(100), e, 'r-')\n",
    "plt.title(\"Interation vs. sum squared error\")\n",
    "plt.show()"
   ]
  },
  {
   "cell_type": "code",
   "execution_count": 92,
   "metadata": {},
   "outputs": [],
   "source": []
  }
 ],
 "metadata": {
  "kernelspec": {
   "display_name": "Python 3 (ipykernel)",
   "language": "python",
   "name": "python3"
  },
  "language_info": {
   "codemirror_mode": {
    "name": "ipython",
    "version": 3
   },
   "file_extension": ".py",
   "mimetype": "text/x-python",
   "name": "python",
   "nbconvert_exporter": "python",
   "pygments_lexer": "ipython3",
   "version": "3.10.10"
  }
 },
 "nbformat": 4,
 "nbformat_minor": 2
}

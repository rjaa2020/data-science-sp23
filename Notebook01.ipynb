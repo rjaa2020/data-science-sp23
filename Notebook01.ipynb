{
 "cells": [
  {
   "cell_type": "markdown",
   "metadata": {
    "slideshow": {
     "slide_type": "slide"
    }
   },
   "source": [
    "#  Data Science"
   ]
  },
  {
   "cell_type": "markdown",
   "metadata": {
    "slideshow": {
     "slide_type": "slide"
    }
   },
   "source": [
    "## Notebook 1. (introduction, explanatory analysis, web scraping)"
   ]
  },
  {
   "cell_type": "markdown",
   "metadata": {
    "slideshow": {
     "slide_type": "slide"
    }
   },
   "source": [
    "### IPython"
   ]
  },
  {
   "cell_type": "markdown",
   "metadata": {},
   "source": [
    "* IPython command shell for interactive computing in multiple programming languages, originally developed for Python.\n",
    "* Powerful interactive shells (terminal and Qt-based).\n",
    "* A browser-based notebook with support for code, text, mathematical expressions, inline plots and rich media.\n",
    "* Support for interactive data visualization and use of GUI toolkits.\n",
    "* Flexible, embeddable interpreters to load into one's own projects."
   ]
  },
  {
   "cell_type": "markdown",
   "metadata": {},
   "source": [
    "### Useful packages"
   ]
  },
  {
   "cell_type": "markdown",
   "metadata": {},
   "source": [
    "#### SciPy - A collection of packages:"
   ]
  },
  {
   "cell_type": "markdown",
   "metadata": {},
   "source": [
    "* NumPy - N-dimenional arrays\n",
    "* SciPy library - scientific computing\n",
    "* Matplotlib - for plotting\n",
    "* Sympy - symbolic math\n",
    "* pandas - data analysis"
   ]
  },
  {
   "cell_type": "code",
   "execution_count": 50,
   "metadata": {},
   "outputs": [],
   "source": [
    "from IPython.display import Image, display\n",
    "from IPython.display import HTML"
   ]
  },
  {
   "cell_type": "code",
   "execution_count": 51,
   "metadata": {},
   "outputs": [
    {
     "data": {
      "text/plain": "<IPython.core.display.HTML object>",
      "text/html": "<iframe src=http://www.scipy.org/ width=1000 height=350></iframe>"
     },
     "execution_count": 51,
     "metadata": {},
     "output_type": "execute_result"
    }
   ],
   "source": [
    "%%capture --no-display\n",
    "HTML('<iframe src=http://www.scipy.org/ width=1000 height=350></iframe>')"
   ]
  },
  {
   "cell_type": "markdown",
   "metadata": {},
   "source": [
    "#### Scikit- learn - machine learning in Python"
   ]
  },
  {
   "cell_type": "code",
   "execution_count": 52,
   "metadata": {},
   "outputs": [
    {
     "data": {
      "text/plain": "<IPython.core.display.HTML object>",
      "text/html": "<iframe src=http://scikit-learn.org/stable/ width=1000 height=400></iframe>"
     },
     "execution_count": 52,
     "metadata": {},
     "output_type": "execute_result"
    }
   ],
   "source": [
    "%%capture --no-display\n",
    "HTML('<iframe src=http://scikit-learn.org/stable/ width=1000 height=400></iframe>')"
   ]
  },
  {
   "cell_type": "markdown",
   "metadata": {},
   "source": [
    "### Data formats"
   ]
  },
  {
   "cell_type": "markdown",
   "metadata": {},
   "source": [
    "#### Possible data formats"
   ]
  },
  {
   "cell_type": "markdown",
   "metadata": {},
   "source": [
    "* Lists, dictionaries\n",
    "* NumPy arrays\n",
    "* DataFrame objects from Pandas package\n",
    "* ..."
   ]
  },
  {
   "cell_type": "markdown",
   "metadata": {},
   "source": [
    "Scikit-learn, Pandas, NumPy and Matplotlib are all interlinked and work well together.\n",
    "\n",
    "Transferring between data formats is not always so trivial!"
   ]
  },
  {
   "cell_type": "markdown",
   "metadata": {},
   "source": [
    "#### Simple lists"
   ]
  },
  {
   "cell_type": "code",
   "execution_count": 53,
   "metadata": {},
   "outputs": [],
   "source": [
    "data1 = [1,2,3]"
   ]
  },
  {
   "cell_type": "code",
   "execution_count": 54,
   "metadata": {},
   "outputs": [
    {
     "data": {
      "text/plain": "[1, 2, 3]"
     },
     "execution_count": 54,
     "metadata": {},
     "output_type": "execute_result"
    }
   ],
   "source": [
    "data1"
   ]
  },
  {
   "cell_type": "markdown",
   "metadata": {},
   "source": [
    "## Numpy array"
   ]
  },
  {
   "cell_type": "markdown",
   "metadata": {},
   "source": [
    "* an N-dimensional array\n",
    "* fast, flexible container for large data sets in Python"
   ]
  },
  {
   "cell_type": "markdown",
   "metadata": {},
   "source": [
    "Numpy documentation: https://docs.scipy.org/doc/numpy-dev/user/index.html"
   ]
  },
  {
   "cell_type": "markdown",
   "metadata": {},
   "source": [
    "Numpy cheat sheet"
   ]
  },
  {
   "cell_type": "code",
   "execution_count": 55,
   "metadata": {},
   "outputs": [
    {
     "data": {
      "text/plain": "<IPython.core.display.HTML object>",
      "text/html": "<iframe src=https://s3.amazonaws.com/assets.datacamp.com/blog_assets/Numpy_Python_Cheat_Sheet.pdf width=1000 height=400></iframe>"
     },
     "execution_count": 55,
     "metadata": {},
     "output_type": "execute_result"
    }
   ],
   "source": [
    "%%capture --no-display\n",
    "HTML('<iframe src=https://s3.amazonaws.com/assets.datacamp.com/blog_assets/Numpy_Python_Cheat_Sheet.pdf width=1000 height=400></iframe>')"
   ]
  },
  {
   "cell_type": "code",
   "execution_count": 56,
   "metadata": {},
   "outputs": [],
   "source": [
    "import numpy as np"
   ]
  },
  {
   "cell_type": "code",
   "execution_count": 57,
   "metadata": {},
   "outputs": [
    {
     "name": "stdout",
     "output_type": "stream",
     "text": [
      "Defaulting to user installation because normal site-packages is not writeable\n",
      "Requirement already satisfied: numpy in c:\\programdata\\anaconda3\\lib\\site-packages (1.21.5)\n"
     ]
    }
   ],
   "source": [
    "!pip3 install numpy"
   ]
  },
  {
   "cell_type": "code",
   "execution_count": 58,
   "metadata": {},
   "outputs": [],
   "source": [
    "array1 = np.array(data1)"
   ]
  },
  {
   "cell_type": "code",
   "execution_count": 59,
   "metadata": {},
   "outputs": [
    {
     "data": {
      "text/plain": "array([1, 2, 3])"
     },
     "execution_count": 59,
     "metadata": {},
     "output_type": "execute_result"
    }
   ],
   "source": [
    "array1"
   ]
  },
  {
   "cell_type": "markdown",
   "metadata": {},
   "source": [
    "Multidimensional arrays"
   ]
  },
  {
   "cell_type": "code",
   "execution_count": 60,
   "metadata": {},
   "outputs": [],
   "source": [
    "array2 = np.array([[1,2,3],[2,3,4]])"
   ]
  },
  {
   "cell_type": "code",
   "execution_count": 61,
   "metadata": {},
   "outputs": [
    {
     "data": {
      "text/plain": "array([[1, 2, 3],\n       [2, 3, 4]])"
     },
     "execution_count": 61,
     "metadata": {},
     "output_type": "execute_result"
    }
   ],
   "source": [
    "array2"
   ]
  },
  {
   "cell_type": "markdown",
   "metadata": {},
   "source": [
    "### Indexing"
   ]
  },
  {
   "cell_type": "code",
   "execution_count": 62,
   "metadata": {},
   "outputs": [
    {
     "data": {
      "text/plain": "array([[1, 2, 3],\n       [4, 5, 6],\n       [7, 8, 9]])"
     },
     "execution_count": 62,
     "metadata": {},
     "output_type": "execute_result"
    }
   ],
   "source": [
    "array3 = np.array([[1, 2, 3], [4, 5, 6], [7, 8, 9]])\n",
    "array3"
   ]
  },
  {
   "cell_type": "markdown",
   "metadata": {},
   "source": [
    "Fetch row"
   ]
  },
  {
   "cell_type": "code",
   "execution_count": 63,
   "metadata": {},
   "outputs": [
    {
     "data": {
      "text/plain": "array([7, 8, 9])"
     },
     "execution_count": 63,
     "metadata": {},
     "output_type": "execute_result"
    }
   ],
   "source": [
    "array3[2]"
   ]
  },
  {
   "cell_type": "markdown",
   "metadata": {},
   "source": [
    "<span style=\"color:red\">How can I fetch the value 5 from the array above?</span>"
   ]
  },
  {
   "cell_type": "code",
   "execution_count": 64,
   "metadata": {},
   "outputs": [
    {
     "data": {
      "text/plain": "7"
     },
     "execution_count": 64,
     "metadata": {},
     "output_type": "execute_result"
    }
   ],
   "source": [
    "array3[2][0]"
   ]
  },
  {
   "cell_type": "code",
   "execution_count": 65,
   "metadata": {},
   "outputs": [
    {
     "data": {
      "text/plain": "7"
     },
     "execution_count": 65,
     "metadata": {},
     "output_type": "execute_result"
    }
   ],
   "source": [
    "array3[2,0]"
   ]
  },
  {
   "cell_type": "markdown",
   "metadata": {},
   "source": [
    "Fetch columns"
   ]
  },
  {
   "cell_type": "code",
   "execution_count": 66,
   "metadata": {},
   "outputs": [
    {
     "data": {
      "text/plain": "array([1, 4, 7])"
     },
     "execution_count": 66,
     "metadata": {},
     "output_type": "execute_result"
    }
   ],
   "source": [
    "array3[:,0]"
   ]
  },
  {
   "cell_type": "markdown",
   "metadata": {},
   "source": [
    "Detailed description about arrays:\n",
    "\n",
    "http://docs.scipy.org/doc/numpy/reference/generated/numpy.array.html\n",
    "\n",
    "http://docs.scipy.org/doc/numpy/reference/arrays.html"
   ]
  },
  {
   "cell_type": "markdown",
   "metadata": {},
   "source": [
    "### Data types"
   ]
  },
  {
   "cell_type": "markdown",
   "metadata": {},
   "source": [
    "* Different attributes may have different types\n",
    "* Numpy (and pandas) will infer the type if none is specified\n",
    "* Incompatible types will lead to errors"
   ]
  },
  {
   "cell_type": "code",
   "execution_count": 67,
   "metadata": {},
   "outputs": [
    {
     "data": {
      "text/plain": "array(['1.25', 'hello', '42'], dtype='<U32')"
     },
     "execution_count": 67,
     "metadata": {},
     "output_type": "execute_result"
    }
   ],
   "source": [
    "array4 = np.array([1.25, 'hello', 42])\n",
    "array4"
   ]
  },
  {
   "cell_type": "markdown",
   "metadata": {},
   "source": [
    "U32 is a 32 character unicode string"
   ]
  },
  {
   "cell_type": "code",
   "execution_count": 68,
   "metadata": {},
   "outputs": [
    {
     "data": {
      "text/plain": "dtype('int32')"
     },
     "execution_count": 68,
     "metadata": {},
     "output_type": "execute_result"
    }
   ],
   "source": [
    "array5 = np.array([1, 2, 3, 4, 5])\n",
    "array5.dtype"
   ]
  },
  {
   "cell_type": "markdown",
   "metadata": {},
   "source": [
    "Numpy infers reasonable data types. For example, a string cannot be interpretted as an int but an int can be interpretted as a string. Information is lost when you cast a float as an int but not vice versa."
   ]
  },
  {
   "cell_type": "markdown",
   "metadata": {},
   "source": [
    "<span style=\"color:red\">What data type will numpy infer if I make one number a float, a string?</span>"
   ]
  },
  {
   "cell_type": "code",
   "execution_count": 69,
   "metadata": {},
   "outputs": [
    {
     "data": {
      "text/plain": "numpy.ndarray"
     },
     "execution_count": 69,
     "metadata": {},
     "output_type": "execute_result"
    }
   ],
   "source": [
    "type(array5)"
   ]
  },
  {
   "cell_type": "code",
   "execution_count": 70,
   "metadata": {},
   "outputs": [
    {
     "data": {
      "text/plain": "numpy.int32"
     },
     "execution_count": 70,
     "metadata": {},
     "output_type": "execute_result"
    }
   ],
   "source": [
    "type(array5[0])"
   ]
  },
  {
   "cell_type": "markdown",
   "metadata": {},
   "source": [
    "The data type can be set globally"
   ]
  },
  {
   "cell_type": "code",
   "execution_count": 71,
   "metadata": {},
   "outputs": [
    {
     "data": {
      "text/plain": "array([ 3, -1, -2,  0, 12, 10])"
     },
     "execution_count": 71,
     "metadata": {},
     "output_type": "execute_result"
    }
   ],
   "source": [
    "np.array([ 3, -1, -2, 0, 12.1, 10], dtype='int32')"
   ]
  },
  {
   "cell_type": "code",
   "execution_count": 72,
   "metadata": {},
   "outputs": [
    {
     "data": {
      "text/plain": "array(['1.25', '-9.6', '42'], dtype='<U4')"
     },
     "execution_count": 72,
     "metadata": {},
     "output_type": "execute_result"
    }
   ],
   "source": [
    "numeric_strings = np.array(['1.25', '-9.6', '42'], dtype=np.unicode_)\n",
    "numeric_strings"
   ]
  },
  {
   "cell_type": "markdown",
   "metadata": {},
   "source": [
    "Type casting in python and numpy"
   ]
  },
  {
   "cell_type": "code",
   "execution_count": 73,
   "metadata": {},
   "outputs": [
    {
     "data": {
      "text/plain": "1.25"
     },
     "execution_count": 73,
     "metadata": {},
     "output_type": "execute_result"
    }
   ],
   "source": [
    "float(numeric_strings[0])"
   ]
  },
  {
   "cell_type": "code",
   "execution_count": 74,
   "metadata": {},
   "outputs": [
    {
     "data": {
      "text/plain": "array([ 1.25, -9.6 , 42.  ])"
     },
     "execution_count": 74,
     "metadata": {},
     "output_type": "execute_result"
    }
   ],
   "source": [
    "numeric_strings.astype(float)"
   ]
  },
  {
   "cell_type": "markdown",
   "metadata": {},
   "source": [
    "<span style=\"color:red\">Why is it important to be aware of data types?</span>"
   ]
  },
  {
   "cell_type": "code",
   "execution_count": 75,
   "metadata": {},
   "outputs": [
    {
     "ename": "UFuncTypeError",
     "evalue": "ufunc 'add' did not contain a loop with signature matching types (dtype('<U4'), dtype('float64')) -> None",
     "output_type": "error",
     "traceback": [
      "\u001B[1;31m---------------------------------------------------------------------------\u001B[0m",
      "\u001B[1;31mUFuncTypeError\u001B[0m                            Traceback (most recent call last)",
      "\u001B[1;32m~\\AppData\\Local\\Temp\\ipykernel_31740\\859208807.py\u001B[0m in \u001B[0;36m<cell line: 3>\u001B[1;34m()\u001B[0m\n\u001B[0;32m      1\u001B[0m \u001B[0mnumeric_strings\u001B[0m \u001B[1;33m=\u001B[0m \u001B[0mnp\u001B[0m\u001B[1;33m.\u001B[0m\u001B[0marray\u001B[0m\u001B[1;33m(\u001B[0m\u001B[1;33m[\u001B[0m\u001B[1;34m'1.25'\u001B[0m\u001B[1;33m,\u001B[0m \u001B[1;34m'-9.6'\u001B[0m\u001B[1;33m,\u001B[0m \u001B[1;34m'42'\u001B[0m\u001B[1;33m]\u001B[0m\u001B[1;33m,\u001B[0m \u001B[0mdtype\u001B[0m\u001B[1;33m=\u001B[0m\u001B[0mnp\u001B[0m\u001B[1;33m.\u001B[0m\u001B[0municode_\u001B[0m\u001B[1;33m)\u001B[0m\u001B[1;33m\u001B[0m\u001B[1;33m\u001B[0m\u001B[0m\n\u001B[0;32m      2\u001B[0m \u001B[0mfloats\u001B[0m \u001B[1;33m=\u001B[0m \u001B[0mnp\u001B[0m\u001B[1;33m.\u001B[0m\u001B[0marray\u001B[0m\u001B[1;33m(\u001B[0m\u001B[1;33m[\u001B[0m\u001B[1;36m0\u001B[0m\u001B[1;33m,\u001B[0m \u001B[1;36m3.6\u001B[0m\u001B[1;33m,\u001B[0m \u001B[1;36m15.5\u001B[0m\u001B[1;33m]\u001B[0m\u001B[1;33m,\u001B[0m \u001B[0mdtype\u001B[0m\u001B[1;33m=\u001B[0m\u001B[0mfloat\u001B[0m\u001B[1;33m)\u001B[0m\u001B[1;33m\u001B[0m\u001B[1;33m\u001B[0m\u001B[0m\n\u001B[1;32m----> 3\u001B[1;33m \u001B[0mnumeric_strings\u001B[0m\u001B[1;33m[\u001B[0m\u001B[1;36m0\u001B[0m\u001B[1;33m]\u001B[0m \u001B[1;33m+\u001B[0m \u001B[0mfloats\u001B[0m\u001B[1;33m[\u001B[0m\u001B[1;36m2\u001B[0m\u001B[1;33m]\u001B[0m\u001B[1;33m\u001B[0m\u001B[1;33m\u001B[0m\u001B[0m\n\u001B[0m",
      "\u001B[1;31mUFuncTypeError\u001B[0m: ufunc 'add' did not contain a loop with signature matching types (dtype('<U4'), dtype('float64')) -> None"
     ]
    }
   ],
   "source": [
    "numeric_strings = np.array(['1.25', '-9.6', '42'], dtype=np.unicode_)\n",
    "floats = np.array([0, 3.6, 15.5], dtype=float)\n",
    "numeric_strings[0] + floats[2]"
   ]
  },
  {
   "cell_type": "markdown",
   "metadata": {},
   "source": [
    "Overview of numpy data types:\n",
    "\n",
    "http://docs.scipy.org/doc/numpy/reference/arrays.dtypes.html\n",
    "\n",
    "Pandas extends many numpy data types"
   ]
  },
  {
   "cell_type": "markdown",
   "metadata": {},
   "source": [
    "### Structured arrays"
   ]
  },
  {
   "cell_type": "code",
   "execution_count": 76,
   "metadata": {},
   "outputs": [
    {
     "data": {
      "text/plain": "array([(1, 2., 'Hello'), (2, 3., 'World')],\n      dtype=[('col0', '>i4'), ('col1', '>f4'), ('col2', '<U10')])"
     },
     "execution_count": 76,
     "metadata": {},
     "output_type": "execute_result"
    }
   ],
   "source": [
    "structured_array = np.array([(1, 2.0, 'Hello'), (2, 3.0, 'World')],dtype=[('col0', '>i4'), ('col1', '>f4'), ('col2', '|U10')])\n",
    "structured_array"
   ]
  },
  {
   "cell_type": "code",
   "execution_count": 77,
   "metadata": {},
   "outputs": [
    {
     "data": {
      "text/plain": "array([1, 2])"
     },
     "execution_count": 77,
     "metadata": {},
     "output_type": "execute_result"
    }
   ],
   "source": [
    "structured_array['col0']"
   ]
  },
  {
   "cell_type": "markdown",
   "metadata": {},
   "source": [
    "We have two records of three features:\n",
    "32-bit integer, 32-bit floating point number, 10-character string"
   ]
  },
  {
   "cell_type": "markdown",
   "metadata": {},
   "source": [
    "### Import data from file to NumPy array"
   ]
  },
  {
   "cell_type": "code",
   "execution_count": 78,
   "metadata": {},
   "outputs": [],
   "source": [
    "from io import StringIO   # StringIO behaves like a file object"
   ]
  },
  {
   "cell_type": "code",
   "execution_count": 79,
   "metadata": {},
   "outputs": [
    {
     "data": {
      "text/plain": "array([(b'M', 21, 72.), (b'F', 35, 58.), (b'F', 55, 66.)],\n      dtype=[('gender', 'S1'), ('age', '<i4'), ('weight', '<f4')])"
     },
     "execution_count": 79,
     "metadata": {},
     "output_type": "execute_result"
    }
   ],
   "source": [
    "d = StringIO('M 21 72\\n F 35 58\\n F 55 66')\n",
    "dat = np.loadtxt(d, dtype={'names': ('gender', 'age', 'weight'),\n",
    "                     'formats': ('S1', 'i4', 'f4')})\n",
    "dat"
   ]
  },
  {
   "cell_type": "markdown",
   "metadata": {},
   "source": [
    "The function np.loadtxt works in byte mode, in Python 2 this is the default string type. On the other hand, Python 3 uses unicode, and denotes byte-strings by b."
   ]
  },
  {
   "cell_type": "markdown",
   "metadata": {},
   "source": [
    "Selecting columns"
   ]
  },
  {
   "cell_type": "code",
   "execution_count": 80,
   "metadata": {},
   "outputs": [
    {
     "data": {
      "text/plain": "array([b'M', b'F', b'F'], dtype='|S1')"
     },
     "execution_count": 80,
     "metadata": {},
     "output_type": "execute_result"
    }
   ],
   "source": [
    "dat['gender']"
   ]
  },
  {
   "cell_type": "code",
   "execution_count": 81,
   "metadata": {},
   "outputs": [
    {
     "data": {
      "text/plain": "array([(b'M', 72.), (b'F', 58.), (b'F', 66.)],\n      dtype={'names':['gender','weight'], 'formats':['S1','<f4'], 'offsets':[0,5], 'itemsize':9})"
     },
     "execution_count": 81,
     "metadata": {},
     "output_type": "execute_result"
    }
   ],
   "source": [
    "dat[['gender','weight']]"
   ]
  },
  {
   "cell_type": "code",
   "execution_count": 82,
   "metadata": {},
   "outputs": [
    {
     "data": {
      "text/plain": "array([[1., 2.],\n       [3., 4.]])"
     },
     "execution_count": 82,
     "metadata": {},
     "output_type": "execute_result"
    }
   ],
   "source": [
    "c = StringIO(\"1,0,2\\n3,0,4\")\n",
    "x = np.loadtxt(c, delimiter=',', usecols=(0,2))\n",
    "x"
   ]
  },
  {
   "cell_type": "markdown",
   "metadata": {},
   "source": [
    "### Importing data from local files"
   ]
  },
  {
   "cell_type": "markdown",
   "metadata": {},
   "source": [
    "Importing data from file, we should pay attention to the access path of the file.\n",
    "\n",
    "We have to know in which folder the notebook is running and where is the file.\n",
    "\n",
    "Instead of absolute path, it is better to use relative paths, for more details [see here](https://www.computerhope.com/issues/ch001708.htm).\n",
    "\n",
    "* . : is the current directory\n",
    "\n",
    "* .. :  is the parent of the current directory.\n",
    "\n",
    "* / or \\: is the root of the current drive\n",
    "\n",
    "While doing the homework problems you should also use relative pathways while importing files, mimicking the folder structure given in this notebook."
   ]
  },
  {
   "cell_type": "code",
   "execution_count": 83,
   "metadata": {},
   "outputs": [
    {
     "ename": "FileNotFoundError",
     "evalue": "[Errno 2] No such file or directory: '../Data/bank.csv'",
     "output_type": "error",
     "traceback": [
      "\u001B[1;31m---------------------------------------------------------------------------\u001B[0m",
      "\u001B[1;31mFileNotFoundError\u001B[0m                         Traceback (most recent call last)",
      "\u001B[1;32m~\\AppData\\Local\\Temp\\ipykernel_31740\\1802131246.py\u001B[0m in \u001B[0;36m<cell line: 2>\u001B[1;34m()\u001B[0m\n\u001B[0;32m      1\u001B[0m \u001B[1;32mimport\u001B[0m \u001B[0msys\u001B[0m\u001B[1;33m\u001B[0m\u001B[1;33m\u001B[0m\u001B[0m\n\u001B[1;32m----> 2\u001B[1;33m \u001B[0mf\u001B[0m \u001B[1;33m=\u001B[0m \u001B[0mopen\u001B[0m\u001B[1;33m(\u001B[0m\u001B[1;34m\"../Data/bank.csv\"\u001B[0m\u001B[1;33m,\u001B[0m\u001B[1;34m'r'\u001B[0m\u001B[1;33m)\u001B[0m\u001B[1;33m\u001B[0m\u001B[1;33m\u001B[0m\u001B[0m\n\u001B[0m\u001B[0;32m      3\u001B[0m bank_data = np.loadtxt(f, dtype={'names': ('age', 'sex', 'region', 'income', 'married', 'children', 'car','save_acct', 'current_acct', 'mortgage', 'pep'),\n\u001B[0;32m      4\u001B[0m                                  'formats': ('i', 'S6', 'S10', 'f', 'S3', 'i2', 'S3', 'S3', 'S3', 'S3', 'S3')})\n\u001B[0;32m      5\u001B[0m \u001B[0mbank_data\u001B[0m\u001B[1;33m[\u001B[0m\u001B[1;36m0\u001B[0m\u001B[1;33m:\u001B[0m\u001B[1;36m10\u001B[0m\u001B[1;33m]\u001B[0m\u001B[1;33m\u001B[0m\u001B[1;33m\u001B[0m\u001B[0m\n",
      "\u001B[1;31mFileNotFoundError\u001B[0m: [Errno 2] No such file or directory: '../Data/bank.csv'"
     ]
    }
   ],
   "source": [
    "import sys\n",
    "f = open(\"../Data/bank.csv\",'r')\n",
    "bank_data = np.loadtxt(f, dtype={'names': ('age', 'sex', 'region', 'income', 'married', 'children', 'car','save_acct', 'current_acct', 'mortgage', 'pep'),\n",
    "                                 'formats': ('i', 'S6', 'S10', 'f', 'S3', 'i2', 'S3', 'S3', 'S3', 'S3', 'S3')})\n",
    "bank_data[0:10]"
   ]
  },
  {
   "cell_type": "markdown",
   "metadata": {},
   "source": [
    "#### Attributes of bank dataset"
   ]
  },
  {
   "cell_type": "markdown",
   "metadata": {},
   "source": [
    "* age: age of customer in years (numeric)\n",
    "* sex: MALE / FEMALE\n",
    "* region: inner_city/rural/suburban/town\n",
    "* income: income of customer (numeric)\n",
    "* married: is the customer married (YES/NO)\n",
    "* children: number of children (numeric)\n",
    "* car: does the customer own a car (YES/NO)\n",
    "* save_acct: does the customer have a saving account (YES/NO)\n",
    "* current_acct: does the customer have a current account (YES/NO)\n",
    "* mortgage: does the customer have a mortgage (YES/NO)\n",
    "* pep: did the customer buy a PEP (Personal Equity Plan) after the last mailing (YES/NO)"
   ]
  },
  {
   "cell_type": "markdown",
   "metadata": {},
   "source": [
    "#### A little visualization"
   ]
  },
  {
   "cell_type": "code",
   "execution_count": 84,
   "metadata": {},
   "outputs": [
    {
     "ename": "NameError",
     "evalue": "name 'bank_data' is not defined",
     "output_type": "error",
     "traceback": [
      "\u001B[1;31m---------------------------------------------------------------------------\u001B[0m",
      "\u001B[1;31mNameError\u001B[0m                                 Traceback (most recent call last)",
      "\u001B[1;32m~\\AppData\\Local\\Temp\\ipykernel_31740\\4059659803.py\u001B[0m in \u001B[0;36m<cell line: 1>\u001B[1;34m()\u001B[0m\n\u001B[1;32m----> 1\u001B[1;33m \u001B[0mx\u001B[0m \u001B[1;33m=\u001B[0m \u001B[0mbank_data\u001B[0m\u001B[1;33m[\u001B[0m\u001B[1;34m'age'\u001B[0m\u001B[1;33m]\u001B[0m\u001B[1;33m\u001B[0m\u001B[1;33m\u001B[0m\u001B[0m\n\u001B[0m\u001B[0;32m      2\u001B[0m \u001B[0my\u001B[0m \u001B[1;33m=\u001B[0m \u001B[0mbank_data\u001B[0m\u001B[1;33m[\u001B[0m\u001B[1;34m'income'\u001B[0m\u001B[1;33m]\u001B[0m\u001B[1;33m\u001B[0m\u001B[1;33m\u001B[0m\u001B[0m\n\u001B[0;32m      3\u001B[0m \u001B[1;33m\u001B[0m\u001B[0m\n\u001B[0;32m      4\u001B[0m \u001B[1;32mimport\u001B[0m \u001B[0mmatplotlib\u001B[0m\u001B[1;33m\u001B[0m\u001B[1;33m\u001B[0m\u001B[0m\n\u001B[0;32m      5\u001B[0m \u001B[1;32mimport\u001B[0m \u001B[0mmatplotlib\u001B[0m\u001B[1;33m.\u001B[0m\u001B[0mpyplot\u001B[0m \u001B[1;32mas\u001B[0m \u001B[0mplt\u001B[0m\u001B[1;33m\u001B[0m\u001B[1;33m\u001B[0m\u001B[0m\n",
      "\u001B[1;31mNameError\u001B[0m: name 'bank_data' is not defined"
     ]
    }
   ],
   "source": [
    "x = bank_data['age']\n",
    "y = bank_data['income']\n",
    "\n",
    "import matplotlib\n",
    "import matplotlib.pyplot as plt\n",
    "%matplotlib inline  \n",
    "\n",
    "plt.scatter(x,y)\n",
    "plt.xlabel('age (years)')\n",
    "plt.ylabel('income (dollars)')\n",
    "plt.show()"
   ]
  },
  {
   "cell_type": "markdown",
   "metadata": {},
   "source": [
    "Matplotlib documentation:\n",
    "    \n",
    "https://matplotlib.org/"
   ]
  },
  {
   "cell_type": "markdown",
   "metadata": {},
   "source": [
    "Matplotlib cheat sheet"
   ]
  },
  {
   "cell_type": "code",
   "execution_count": 85,
   "metadata": {},
   "outputs": [
    {
     "data": {
      "text/plain": "<IPython.core.display.HTML object>",
      "text/html": "<iframe src=https://matplotlib.org/cheatsheets/cheatsheets.pdf width=1000 height=400></iframe>"
     },
     "execution_count": 85,
     "metadata": {},
     "output_type": "execute_result"
    }
   ],
   "source": [
    "%%capture --no-display\n",
    "HTML('<iframe src=https://matplotlib.org/cheatsheets/cheatsheets.pdf width=1000 height=400></iframe>')"
   ]
  },
  {
   "cell_type": "markdown",
   "metadata": {},
   "source": [
    "### Pandas"
   ]
  },
  {
   "cell_type": "markdown",
   "metadata": {},
   "source": [
    "* A DataFrame is a 2-dimensional labeled data structure with columns of potentially different types. You can think of it like a spreadsheet or SQL table, or a dict of Series objects\n",
    "* One column of a DataFrame is a pandas series object. A series is a one-dimensional labeled array capable of holding any data type (integers, strings, floating point numbers, Python objects, etc.). The axis labels are collectively referred to as the index"
   ]
  },
  {
   "cell_type": "markdown",
   "metadata": {},
   "source": [
    "Pandas cheat sheet"
   ]
  },
  {
   "cell_type": "code",
   "execution_count": 86,
   "metadata": {},
   "outputs": [
    {
     "data": {
      "text/plain": "<IPython.core.display.HTML object>",
      "text/html": "<iframe src=https://s3.amazonaws.com/assets.datacamp.com/blog_assets/PandasPythonForDataScience.pdf width=1000 height=400></iframe>"
     },
     "execution_count": 86,
     "metadata": {},
     "output_type": "execute_result"
    }
   ],
   "source": [
    "%%capture --no-display\n",
    "HTML('<iframe src=https://s3.amazonaws.com/assets.datacamp.com/blog_assets/PandasPythonForDataScience.pdf width=1000 height=400></iframe>')"
   ]
  },
  {
   "cell_type": "code",
   "execution_count": 87,
   "metadata": {},
   "outputs": [],
   "source": [
    "import pandas as pd"
   ]
  },
  {
   "cell_type": "markdown",
   "metadata": {},
   "source": [
    "#### 3 MoviLens data files:\n",
    "* demographic information about the users (includes \"user_id\")\n",
    "* movie ratings (includes \"user_id\" and \"movie_id\")\n",
    "* information about the movies (includes \"movie_id\")"
   ]
  },
  {
   "cell_type": "markdown",
   "metadata": {},
   "source": [
    "Load the users data, using pandas read_csv() function. There is also read_json(), read_excel(), etc.\n",
    "\n",
    "We can take a look at the data file in the url.\n",
    "\n",
    "<span style=\"color:red\">What's the delimiter in this file?</span>"
   ]
  },
  {
   "cell_type": "code",
   "execution_count": 88,
   "metadata": {},
   "outputs": [
    {
     "data": {
      "text/plain": "   user_id  age sex     occupation zip_code\n0        1   24   M     technician    85711\n1        2   53   F          other    94043\n2        3   23   M         writer    32067\n3        4   24   M     technician    43537\n4        5   33   F          other    15213\n5        6   42   M      executive    98101\n6        7   57   M  administrator    91344\n7        8   36   M  administrator    05201\n8        9   29   M        student    01002\n9       10   53   M         lawyer    90703",
      "text/html": "<div>\n<style scoped>\n    .dataframe tbody tr th:only-of-type {\n        vertical-align: middle;\n    }\n\n    .dataframe tbody tr th {\n        vertical-align: top;\n    }\n\n    .dataframe thead th {\n        text-align: right;\n    }\n</style>\n<table border=\"1\" class=\"dataframe\">\n  <thead>\n    <tr style=\"text-align: right;\">\n      <th></th>\n      <th>user_id</th>\n      <th>age</th>\n      <th>sex</th>\n      <th>occupation</th>\n      <th>zip_code</th>\n    </tr>\n  </thead>\n  <tbody>\n    <tr>\n      <th>0</th>\n      <td>1</td>\n      <td>24</td>\n      <td>M</td>\n      <td>technician</td>\n      <td>85711</td>\n    </tr>\n    <tr>\n      <th>1</th>\n      <td>2</td>\n      <td>53</td>\n      <td>F</td>\n      <td>other</td>\n      <td>94043</td>\n    </tr>\n    <tr>\n      <th>2</th>\n      <td>3</td>\n      <td>23</td>\n      <td>M</td>\n      <td>writer</td>\n      <td>32067</td>\n    </tr>\n    <tr>\n      <th>3</th>\n      <td>4</td>\n      <td>24</td>\n      <td>M</td>\n      <td>technician</td>\n      <td>43537</td>\n    </tr>\n    <tr>\n      <th>4</th>\n      <td>5</td>\n      <td>33</td>\n      <td>F</td>\n      <td>other</td>\n      <td>15213</td>\n    </tr>\n    <tr>\n      <th>5</th>\n      <td>6</td>\n      <td>42</td>\n      <td>M</td>\n      <td>executive</td>\n      <td>98101</td>\n    </tr>\n    <tr>\n      <th>6</th>\n      <td>7</td>\n      <td>57</td>\n      <td>M</td>\n      <td>administrator</td>\n      <td>91344</td>\n    </tr>\n    <tr>\n      <th>7</th>\n      <td>8</td>\n      <td>36</td>\n      <td>M</td>\n      <td>administrator</td>\n      <td>05201</td>\n    </tr>\n    <tr>\n      <th>8</th>\n      <td>9</td>\n      <td>29</td>\n      <td>M</td>\n      <td>student</td>\n      <td>01002</td>\n    </tr>\n    <tr>\n      <th>9</th>\n      <td>10</td>\n      <td>53</td>\n      <td>M</td>\n      <td>lawyer</td>\n      <td>90703</td>\n    </tr>\n  </tbody>\n</table>\n</div>"
     },
     "execution_count": 88,
     "metadata": {},
     "output_type": "execute_result"
    }
   ],
   "source": [
    "# pass in column names for each CSV\n",
    "u_cols = ['user_id', 'age', 'sex', 'occupation', 'zip_code']\n",
    "\n",
    "users = pd.read_csv(\n",
    "    'http://files.grouplens.org/datasets/movielens/ml-100k/u.user', \n",
    "    sep='|', names=u_cols)\n",
    "\n",
    "users.head(10)"
   ]
  },
  {
   "cell_type": "code",
   "execution_count": 89,
   "metadata": {},
   "outputs": [
    {
     "data": {
      "text/plain": "Index(['user_id', 'age', 'sex', 'occupation', 'zip_code'], dtype='object')"
     },
     "execution_count": 89,
     "metadata": {},
     "output_type": "execute_result"
    }
   ],
   "source": [
    "users.columns"
   ]
  },
  {
   "cell_type": "markdown",
   "metadata": {},
   "source": [
    "You can see that pandas implements numpy behind the scenes, leveraging numpy's array computation capabilities. You can also easily move between pandas and numpy:"
   ]
  },
  {
   "cell_type": "code",
   "execution_count": 90,
   "metadata": {},
   "outputs": [
    {
     "data": {
      "text/plain": "array([[1, 24, 'M', 'technician', '85711'],\n       [2, 53, 'F', 'other', '94043'],\n       [3, 23, 'M', 'writer', '32067'],\n       ...,\n       [941, 20, 'M', 'student', '97229'],\n       [942, 48, 'F', 'librarian', '78209'],\n       [943, 22, 'M', 'student', '77841']], dtype=object)"
     },
     "execution_count": 90,
     "metadata": {},
     "output_type": "execute_result"
    }
   ],
   "source": [
    "numpy_users = users.to_numpy()\n",
    "numpy_users"
   ]
  },
  {
   "cell_type": "code",
   "execution_count": 91,
   "metadata": {},
   "outputs": [
    {
     "data": {
      "text/plain": "       0   1  2              3      4\n0      1  24  M     technician  85711\n1      2  53  F          other  94043\n2      3  23  M         writer  32067\n3      4  24  M     technician  43537\n4      5  33  F          other  15213\n..   ...  .. ..            ...    ...\n938  939  26  F        student  33319\n939  940  32  M  administrator  02215\n940  941  20  M        student  97229\n941  942  48  F      librarian  78209\n942  943  22  M        student  77841\n\n[943 rows x 5 columns]",
      "text/html": "<div>\n<style scoped>\n    .dataframe tbody tr th:only-of-type {\n        vertical-align: middle;\n    }\n\n    .dataframe tbody tr th {\n        vertical-align: top;\n    }\n\n    .dataframe thead th {\n        text-align: right;\n    }\n</style>\n<table border=\"1\" class=\"dataframe\">\n  <thead>\n    <tr style=\"text-align: right;\">\n      <th></th>\n      <th>0</th>\n      <th>1</th>\n      <th>2</th>\n      <th>3</th>\n      <th>4</th>\n    </tr>\n  </thead>\n  <tbody>\n    <tr>\n      <th>0</th>\n      <td>1</td>\n      <td>24</td>\n      <td>M</td>\n      <td>technician</td>\n      <td>85711</td>\n    </tr>\n    <tr>\n      <th>1</th>\n      <td>2</td>\n      <td>53</td>\n      <td>F</td>\n      <td>other</td>\n      <td>94043</td>\n    </tr>\n    <tr>\n      <th>2</th>\n      <td>3</td>\n      <td>23</td>\n      <td>M</td>\n      <td>writer</td>\n      <td>32067</td>\n    </tr>\n    <tr>\n      <th>3</th>\n      <td>4</td>\n      <td>24</td>\n      <td>M</td>\n      <td>technician</td>\n      <td>43537</td>\n    </tr>\n    <tr>\n      <th>4</th>\n      <td>5</td>\n      <td>33</td>\n      <td>F</td>\n      <td>other</td>\n      <td>15213</td>\n    </tr>\n    <tr>\n      <th>...</th>\n      <td>...</td>\n      <td>...</td>\n      <td>...</td>\n      <td>...</td>\n      <td>...</td>\n    </tr>\n    <tr>\n      <th>938</th>\n      <td>939</td>\n      <td>26</td>\n      <td>F</td>\n      <td>student</td>\n      <td>33319</td>\n    </tr>\n    <tr>\n      <th>939</th>\n      <td>940</td>\n      <td>32</td>\n      <td>M</td>\n      <td>administrator</td>\n      <td>02215</td>\n    </tr>\n    <tr>\n      <th>940</th>\n      <td>941</td>\n      <td>20</td>\n      <td>M</td>\n      <td>student</td>\n      <td>97229</td>\n    </tr>\n    <tr>\n      <th>941</th>\n      <td>942</td>\n      <td>48</td>\n      <td>F</td>\n      <td>librarian</td>\n      <td>78209</td>\n    </tr>\n    <tr>\n      <th>942</th>\n      <td>943</td>\n      <td>22</td>\n      <td>M</td>\n      <td>student</td>\n      <td>77841</td>\n    </tr>\n  </tbody>\n</table>\n<p>943 rows × 5 columns</p>\n</div>"
     },
     "execution_count": 91,
     "metadata": {},
     "output_type": "execute_result"
    }
   ],
   "source": [
    "pd.DataFrame(numpy_users)"
   ]
  },
  {
   "cell_type": "code",
   "execution_count": 92,
   "metadata": {},
   "outputs": [
    {
     "data": {
      "text/plain": "943"
     },
     "execution_count": 92,
     "metadata": {},
     "output_type": "execute_result"
    }
   ],
   "source": [
    "users.shape\n",
    "len(users)"
   ]
  },
  {
   "cell_type": "markdown",
   "metadata": {},
   "source": [
    "Load movie ratings data"
   ]
  },
  {
   "cell_type": "code",
   "execution_count": 93,
   "metadata": {},
   "outputs": [
    {
     "data": {
      "text/plain": "   user_id  movie_id  rating  unix_timestamp\n0      196       242       3       881250949\n1      186       302       3       891717742\n2       22       377       1       878887116\n3      244        51       2       880606923\n4      166       346       1       886397596",
      "text/html": "<div>\n<style scoped>\n    .dataframe tbody tr th:only-of-type {\n        vertical-align: middle;\n    }\n\n    .dataframe tbody tr th {\n        vertical-align: top;\n    }\n\n    .dataframe thead th {\n        text-align: right;\n    }\n</style>\n<table border=\"1\" class=\"dataframe\">\n  <thead>\n    <tr style=\"text-align: right;\">\n      <th></th>\n      <th>user_id</th>\n      <th>movie_id</th>\n      <th>rating</th>\n      <th>unix_timestamp</th>\n    </tr>\n  </thead>\n  <tbody>\n    <tr>\n      <th>0</th>\n      <td>196</td>\n      <td>242</td>\n      <td>3</td>\n      <td>881250949</td>\n    </tr>\n    <tr>\n      <th>1</th>\n      <td>186</td>\n      <td>302</td>\n      <td>3</td>\n      <td>891717742</td>\n    </tr>\n    <tr>\n      <th>2</th>\n      <td>22</td>\n      <td>377</td>\n      <td>1</td>\n      <td>878887116</td>\n    </tr>\n    <tr>\n      <th>3</th>\n      <td>244</td>\n      <td>51</td>\n      <td>2</td>\n      <td>880606923</td>\n    </tr>\n    <tr>\n      <th>4</th>\n      <td>166</td>\n      <td>346</td>\n      <td>1</td>\n      <td>886397596</td>\n    </tr>\n  </tbody>\n</table>\n</div>"
     },
     "execution_count": 93,
     "metadata": {},
     "output_type": "execute_result"
    }
   ],
   "source": [
    "r_cols = ['user_id', 'movie_id', 'rating', 'unix_timestamp']\n",
    "ratings = pd.read_csv(\n",
    "    'http://files.grouplens.org/datasets/movielens/ml-100k/u.data', \n",
    "    sep='\\t', names=r_cols)\n",
    "\n",
    "ratings.head()"
   ]
  },
  {
   "cell_type": "markdown",
   "metadata": {},
   "source": [
    "Load data about the movies"
   ]
  },
  {
   "cell_type": "code",
   "execution_count": 94,
   "metadata": {},
   "outputs": [
    {
     "data": {
      "text/plain": "   movie_id              title release_date  video_release_date  \\\n0         1   Toy Story (1995)  01-Jan-1995                 NaN   \n1         2   GoldenEye (1995)  01-Jan-1995                 NaN   \n2         3  Four Rooms (1995)  01-Jan-1995                 NaN   \n3         4  Get Shorty (1995)  01-Jan-1995                 NaN   \n4         5     Copycat (1995)  01-Jan-1995                 NaN   \n\n                                            imdb_url  \n0  http://us.imdb.com/M/title-exact?Toy%20Story%2...  \n1  http://us.imdb.com/M/title-exact?GoldenEye%20(...  \n2  http://us.imdb.com/M/title-exact?Four%20Rooms%...  \n3  http://us.imdb.com/M/title-exact?Get%20Shorty%...  \n4  http://us.imdb.com/M/title-exact?Copycat%20(1995)  ",
      "text/html": "<div>\n<style scoped>\n    .dataframe tbody tr th:only-of-type {\n        vertical-align: middle;\n    }\n\n    .dataframe tbody tr th {\n        vertical-align: top;\n    }\n\n    .dataframe thead th {\n        text-align: right;\n    }\n</style>\n<table border=\"1\" class=\"dataframe\">\n  <thead>\n    <tr style=\"text-align: right;\">\n      <th></th>\n      <th>movie_id</th>\n      <th>title</th>\n      <th>release_date</th>\n      <th>video_release_date</th>\n      <th>imdb_url</th>\n    </tr>\n  </thead>\n  <tbody>\n    <tr>\n      <th>0</th>\n      <td>1</td>\n      <td>Toy Story (1995)</td>\n      <td>01-Jan-1995</td>\n      <td>NaN</td>\n      <td>http://us.imdb.com/M/title-exact?Toy%20Story%2...</td>\n    </tr>\n    <tr>\n      <th>1</th>\n      <td>2</td>\n      <td>GoldenEye (1995)</td>\n      <td>01-Jan-1995</td>\n      <td>NaN</td>\n      <td>http://us.imdb.com/M/title-exact?GoldenEye%20(...</td>\n    </tr>\n    <tr>\n      <th>2</th>\n      <td>3</td>\n      <td>Four Rooms (1995)</td>\n      <td>01-Jan-1995</td>\n      <td>NaN</td>\n      <td>http://us.imdb.com/M/title-exact?Four%20Rooms%...</td>\n    </tr>\n    <tr>\n      <th>3</th>\n      <td>4</td>\n      <td>Get Shorty (1995)</td>\n      <td>01-Jan-1995</td>\n      <td>NaN</td>\n      <td>http://us.imdb.com/M/title-exact?Get%20Shorty%...</td>\n    </tr>\n    <tr>\n      <th>4</th>\n      <td>5</td>\n      <td>Copycat (1995)</td>\n      <td>01-Jan-1995</td>\n      <td>NaN</td>\n      <td>http://us.imdb.com/M/title-exact?Copycat%20(1995)</td>\n    </tr>\n  </tbody>\n</table>\n</div>"
     },
     "execution_count": 94,
     "metadata": {},
     "output_type": "execute_result"
    }
   ],
   "source": [
    "# let's only load the first five columns of the file with usecols\n",
    "m_cols = ['movie_id', 'title', 'release_date', \n",
    "            'video_release_date', 'imdb_url']\n",
    "\n",
    "movies = pd.read_csv(\n",
    "    'http://files.grouplens.org/datasets/movielens/ml-100k/u.item', \n",
    "    sep='|', names=m_cols, usecols=range(5), encoding='latin-1')\n",
    "\n",
    "movies.head()"
   ]
  },
  {
   "cell_type": "markdown",
   "metadata": {},
   "source": [
    "Some basic information about the data"
   ]
  },
  {
   "cell_type": "code",
   "execution_count": 95,
   "metadata": {},
   "outputs": [
    {
     "name": "stdout",
     "output_type": "stream",
     "text": [
      "movie_id                int64\n",
      "title                  object\n",
      "release_date           object\n",
      "video_release_date    float64\n",
      "imdb_url               object\n",
      "dtype: object\n",
      "          movie_id  video_release_date\n",
      "count  1682.000000                 0.0\n",
      "mean    841.500000                 NaN\n",
      "std     485.695893                 NaN\n",
      "min       1.000000                 NaN\n",
      "25%     421.250000                 NaN\n",
      "50%     841.500000                 NaN\n",
      "75%    1261.750000                 NaN\n",
      "max    1682.000000                 NaN\n"
     ]
    }
   ],
   "source": [
    "print(movies.dtypes)\n",
    "print(movies.describe())"
   ]
  },
  {
   "cell_type": "code",
   "execution_count": 96,
   "metadata": {},
   "outputs": [
    {
     "data": {
      "text/plain": "   movie_id             title release_date  \\\n0         1  Toy Story (1995)  01-Jan-1995   \n1         2  GoldenEye (1995)  01-Jan-1995   \n\n                                            imdb_url  \n0  http://us.imdb.com/M/title-exact?Toy%20Story%2...  \n1  http://us.imdb.com/M/title-exact?GoldenEye%20(...  ",
      "text/html": "<div>\n<style scoped>\n    .dataframe tbody tr th:only-of-type {\n        vertical-align: middle;\n    }\n\n    .dataframe tbody tr th {\n        vertical-align: top;\n    }\n\n    .dataframe thead th {\n        text-align: right;\n    }\n</style>\n<table border=\"1\" class=\"dataframe\">\n  <thead>\n    <tr style=\"text-align: right;\">\n      <th></th>\n      <th>movie_id</th>\n      <th>title</th>\n      <th>release_date</th>\n      <th>imdb_url</th>\n    </tr>\n  </thead>\n  <tbody>\n    <tr>\n      <th>0</th>\n      <td>1</td>\n      <td>Toy Story (1995)</td>\n      <td>01-Jan-1995</td>\n      <td>http://us.imdb.com/M/title-exact?Toy%20Story%2...</td>\n    </tr>\n    <tr>\n      <th>1</th>\n      <td>2</td>\n      <td>GoldenEye (1995)</td>\n      <td>01-Jan-1995</td>\n      <td>http://us.imdb.com/M/title-exact?GoldenEye%20(...</td>\n    </tr>\n  </tbody>\n</table>\n</div>"
     },
     "execution_count": 96,
     "metadata": {},
     "output_type": "execute_result"
    }
   ],
   "source": [
    "movies.drop(labels='video_release_date',axis=1,inplace=True)\n",
    "movies.head(2)"
   ]
  },
  {
   "cell_type": "markdown",
   "metadata": {},
   "source": [
    "Pandas users the same type casting syntax as numpy"
   ]
  },
  {
   "cell_type": "code",
   "execution_count": 97,
   "metadata": {},
   "outputs": [
    {
     "data": {
      "text/plain": "str"
     },
     "execution_count": 97,
     "metadata": {},
     "output_type": "execute_result"
    }
   ],
   "source": [
    "movies['title'] = movies['title'].astype(str)\n",
    "type(movies.at[0,'title']) "
   ]
  },
  {
   "cell_type": "markdown",
   "metadata": {},
   "source": [
    "Pandas extends the numpy \"datetime64\" data type"
   ]
  },
  {
   "cell_type": "code",
   "execution_count": 98,
   "metadata": {},
   "outputs": [],
   "source": [
    "movies['release_date'] = pd.to_datetime(movies['release_date'])"
   ]
  },
  {
   "cell_type": "markdown",
   "metadata": {},
   "source": [
    "#### Selecting, filtering, visualizing the data"
   ]
  },
  {
   "cell_type": "code",
   "execution_count": 99,
   "metadata": {},
   "outputs": [
    {
     "data": {
      "text/plain": "   user_id  age sex  occupation zip_code\n0        1   24   M  technician    85711\n1        2   53   F       other    94043\n2        3   23   M      writer    32067\n3        4   24   M  technician    43537\n4        5   33   F       other    15213",
      "text/html": "<div>\n<style scoped>\n    .dataframe tbody tr th:only-of-type {\n        vertical-align: middle;\n    }\n\n    .dataframe tbody tr th {\n        vertical-align: top;\n    }\n\n    .dataframe thead th {\n        text-align: right;\n    }\n</style>\n<table border=\"1\" class=\"dataframe\">\n  <thead>\n    <tr style=\"text-align: right;\">\n      <th></th>\n      <th>user_id</th>\n      <th>age</th>\n      <th>sex</th>\n      <th>occupation</th>\n      <th>zip_code</th>\n    </tr>\n  </thead>\n  <tbody>\n    <tr>\n      <th>0</th>\n      <td>1</td>\n      <td>24</td>\n      <td>M</td>\n      <td>technician</td>\n      <td>85711</td>\n    </tr>\n    <tr>\n      <th>1</th>\n      <td>2</td>\n      <td>53</td>\n      <td>F</td>\n      <td>other</td>\n      <td>94043</td>\n    </tr>\n    <tr>\n      <th>2</th>\n      <td>3</td>\n      <td>23</td>\n      <td>M</td>\n      <td>writer</td>\n      <td>32067</td>\n    </tr>\n    <tr>\n      <th>3</th>\n      <td>4</td>\n      <td>24</td>\n      <td>M</td>\n      <td>technician</td>\n      <td>43537</td>\n    </tr>\n    <tr>\n      <th>4</th>\n      <td>5</td>\n      <td>33</td>\n      <td>F</td>\n      <td>other</td>\n      <td>15213</td>\n    </tr>\n  </tbody>\n</table>\n</div>"
     },
     "execution_count": 99,
     "metadata": {},
     "output_type": "execute_result"
    }
   ],
   "source": [
    "users.head()"
   ]
  },
  {
   "cell_type": "markdown",
   "metadata": {},
   "source": [
    "Indexing into dataframe"
   ]
  },
  {
   "cell_type": "code",
   "execution_count": 100,
   "metadata": {},
   "outputs": [
    {
     "data": {
      "text/plain": "0    technician\n1         other\n2        writer\n3    technician\n4         other\nName: occupation, dtype: object"
     },
     "execution_count": 100,
     "metadata": {},
     "output_type": "execute_result"
    }
   ],
   "source": [
    "# two ways to select a column\n",
    "users_col = users['occupation']\n",
    "users.occupation.head()"
   ]
  },
  {
   "cell_type": "code",
   "execution_count": 101,
   "metadata": {},
   "outputs": [
    {
     "data": {
      "text/plain": "pandas.core.series.Series"
     },
     "execution_count": 101,
     "metadata": {},
     "output_type": "execute_result"
    }
   ],
   "source": [
    "type(users_col)"
   ]
  },
  {
   "cell_type": "code",
   "execution_count": 102,
   "metadata": {},
   "outputs": [
    {
     "data": {
      "text/plain": "array(['technician', 'other', 'writer', 'technician', 'other',\n       'executive', 'administrator', 'administrator', 'student', 'lawyer',\n       'other', 'other', 'educator', 'scientist', 'educator',\n       'entertainment', 'programmer', 'other', 'librarian', 'homemaker',\n       'writer', 'writer', 'artist', 'artist', 'engineer', 'engineer',\n       'librarian', 'writer', 'programmer', 'student', 'artist',\n       'student', 'student', 'administrator', 'homemaker', 'student',\n       'student', 'other', 'entertainment', 'scientist', 'engineer',\n       'administrator', 'librarian', 'technician', 'programmer',\n       'marketing', 'marketing', 'administrator', 'student', 'writer',\n       'educator', 'student', 'programmer', 'executive', 'programmer',\n       'librarian', 'none', 'programmer', 'educator', 'healthcare',\n       'engineer', 'administrator', 'marketing', 'educator', 'educator',\n       'student', 'student', 'student', 'engineer', 'engineer',\n       'scientist', 'administrator', 'student', 'scientist',\n       'entertainment', 'student', 'technician', 'administrator',\n       'administrator', 'administrator', 'student', 'programmer', 'other',\n       'executive', 'educator', 'administrator', 'administrator',\n       'librarian', 'administrator', 'educator', 'marketing',\n       'entertainment', 'executive', 'student', 'administrator', 'artist',\n       'artist', 'executive', 'student', 'executive', 'student',\n       'programmer', 'student', 'student', 'engineer', 'retired',\n       'scientist', 'educator', 'other', 'student', 'engineer',\n       'salesman', 'executive', 'programmer', 'engineer', 'healthcare',\n       'student', 'administrator', 'programmer', 'other', 'librarian',\n       'writer', 'artist', 'student', 'lawyer', 'lawyer', 'none',\n       'marketing', 'marketing', 'none', 'administrator', 'other',\n       'engineer', 'programmer', 'student', 'other', 'educator', 'doctor',\n       'student', 'student', 'programmer', 'other', 'technician',\n       'programmer', 'entertainment', 'artist', 'librarian', 'engineer',\n       'marketing', 'artist', 'administrator', 'educator', 'student',\n       'student', 'other', 'educator', 'engineer', 'educator', 'student',\n       'programmer', 'lawyer', 'artist', 'administrator', 'healthcare',\n       'other', 'educator', 'other', 'other', 'other', 'healthcare',\n       'educator', 'marketing', 'other', 'administrator', 'scientist',\n       'scientist', 'programmer', 'other', 'entertainment',\n       'administrator', 'executive', 'programmer', 'scientist',\n       'librarian', 'librarian', 'executive', 'educator', 'student',\n       'artist', 'administrator', 'administrator', 'educator', 'student',\n       'administrator', 'scientist', 'writer', 'technician', 'student',\n       'writer', 'programmer', 'writer', 'educator', 'student',\n       'librarian', 'lawyer', 'student', 'marketing', 'engineer',\n       'educator', 'engineer', 'salesman', 'educator', 'executive',\n       'librarian', 'programmer', 'engineer', 'other', 'administrator',\n       'programmer', 'librarian', 'student', 'programmer', 'student',\n       'educator', 'administrator', 'student', 'executive', 'student',\n       'librarian', 'student', 'librarian', 'scientist', 'engineer',\n       'retired', 'educator', 'writer', 'administrator', 'administrator',\n       'artist', 'educator', 'student', 'educator', 'educator',\n       'technician', 'student', 'student', 'engineer', 'student',\n       'student', 'executive', 'doctor', 'engineer', 'librarian',\n       'educator', 'entertainment', 'none', 'student', 'student',\n       'student', 'artist', 'administrator', 'student', 'programmer',\n       'writer', 'executive', 'administrator', 'engineer', 'engineer',\n       'librarian', 'student', 'engineer', 'scientist', 'other',\n       'student', 'engineer', 'student', 'administrator', 'librarian',\n       'programmer', 'librarian', 'student', 'administrator',\n       'programmer', 'executive', 'programmer', 'student', 'salesman',\n       'marketing', 'none', 'engineer', 'student', 'programmer', 'writer',\n       'technician', 'educator', 'administrator', 'educator', 'executive',\n       'doctor', 'programmer', 'student', 'educator', 'student',\n       'student', 'programmer', 'other', 'student', 'retired',\n       'scientist', 'educator', 'technician', 'other', 'marketing',\n       'student', 'educator', 'other', 'administrator', 'retired',\n       'programmer', 'student', 'educator', 'student', 'student',\n       'student', 'technician', 'administrator', 'student',\n       'administrator', 'educator', 'educator', 'entertainment',\n       'student', 'other', 'librarian', 'executive', 'salesman',\n       'scientist', 'librarian', 'lawyer', 'engineer', 'student', 'other',\n       'engineer', 'librarian', 'librarian', 'other', 'student',\n       'student', 'retired', 'student', 'educator', 'programmer',\n       'scientist', 'librarian', 'student', 'homemaker', 'executive',\n       'educator', 'student', 'other', 'student', 'homemaker', 'student',\n       'engineer', 'lawyer', 'student', 'student', 'student', 'student',\n       'writer', 'engineer', 'student', 'other', 'executive',\n       'entertainment', 'other', 'student', 'student', 'programmer',\n       'engineer', 'artist', 'engineer', 'administrator', 'programmer',\n       'writer', 'salesman', 'entertainment', 'other', 'writer', 'writer',\n       'student', 'writer', 'student', 'administrator', 'other',\n       'engineer', 'student', 'other', 'other', 'administrator',\n       'healthcare', 'engineer', 'other', 'programmer', 'healthcare',\n       'educator', 'engineer', 'student', 'administrator', 'artist',\n       'educator', 'educator', 'educator', 'programmer', 'educator',\n       'student', 'other', 'none', 'lawyer', 'educator', 'programmer',\n       'entertainment', 'other', 'marketing', 'student', 'educator',\n       'doctor', 'student', 'student', 'scientist', 'marketing',\n       'entertainment', 'artist', 'student', 'engineer', 'administrator',\n       'other', 'administrator', 'administrator', 'other', 'technician',\n       'student', 'salesman', 'lawyer', 'writer', 'educator',\n       'administrator', 'entertainment', 'librarian', 'educator',\n       'student', 'administrator', 'student', 'other', 'administrator',\n       'technician', 'salesman', 'technician', 'student', 'other',\n       'student', 'student', 'healthcare', 'writer', 'other', 'student',\n       'engineer', 'engineer', 'educator', 'programmer', 'student',\n       'student', 'student', 'executive', 'programmer', 'student',\n       'student', 'other', 'educator', 'retired', 'retired', 'student',\n       'scientist', 'student', 'educator', 'educator', 'engineer',\n       'technician', 'other', 'artist', 'writer', 'educator', 'engineer',\n       'administrator', 'engineer', 'student', 'student', 'writer',\n       'programmer', 'administrator', 'student', 'student', 'writer',\n       'writer', 'other', 'programmer', 'writer', 'marketing',\n       'administrator', 'other', 'student', 'other', 'administrator',\n       'programmer', 'marketing', 'librarian', 'student', 'writer',\n       'other', 'healthcare', 'student', 'engineer', 'administrator',\n       'educator', 'administrator', 'marketing', 'librarian', 'student',\n       'administrator', 'engineer', 'salesman', 'student', 'librarian',\n       'student', 'educator', 'engineer', 'engineer', 'scientist',\n       'administrator', 'engineer', 'student', 'student', 'scientist',\n       'other', 'technician', 'executive', 'educator', 'writer',\n       'scientist', 'student', 'programmer', 'other', 'educator',\n       'scientist', 'educator', 'educator', 'writer', 'writer',\n       'executive', 'student', 'engineer', 'administrator', 'librarian',\n       'retired', 'student', 'student', 'entertainment', 'educator',\n       'educator', 'educator', 'artist', 'educator', 'retired',\n       'educator', 'marketing', 'executive', 'student', 'administrator',\n       'educator', 'student', 'other', 'student', 'engineer', 'student',\n       'librarian', 'student', 'other', 'student', 'lawyer', 'educator',\n       'librarian', 'student', 'educator', 'educator', 'programmer',\n       'artist', 'other', 'marketing', 'student', 'programmer', 'artist',\n       'other', 'programmer', 'educator', 'engineer', 'programmer',\n       'healthcare', 'other', 'student', 'student', 'librarian',\n       'educator', 'marketing', 'educator', 'educator', 'scientist',\n       'writer', 'student', 'student', 'writer', 'student', 'programmer',\n       'educator', 'student', 'programmer', 'scientist', 'engineer',\n       'none', 'other', 'healthcare', 'student', 'student', 'programmer',\n       'engineer', 'other', 'educator', 'other', 'engineer', 'librarian',\n       'student', 'student', 'student', 'scientist', 'retired',\n       'programmer', 'student', 'educator', 'engineer', 'student',\n       'engineer', 'retired', 'other', 'executive', 'student',\n       'healthcare', 'educator', 'none', 'programmer', 'educator',\n       'student', 'programmer', 'librarian', 'other', 'engineer',\n       'administrator', 'administrator', 'librarian', 'writer', 'other',\n       'technician', 'programmer', 'administrator', 'educator', 'student',\n       'other', 'programmer', 'other', 'educator', 'student', 'lawyer',\n       'marketing', 'programmer', 'librarian', 'student', 'librarian',\n       'educator', 'healthcare', 'administrator', 'other', 'salesman',\n       'educator', 'engineer', 'healthcare', 'programmer', 'writer',\n       'other', 'other', 'programmer', 'other', 'student', 'librarian',\n       'other', 'educator', 'librarian', 'student', 'student',\n       'librarian', 'homemaker', 'other', 'student', 'student', 'student',\n       'other', 'engineer', 'technician', 'administrator', 'technician',\n       'technician', 'other', 'administrator', 'entertainment',\n       'homemaker', 'executive', 'executive', 'student', 'administrator',\n       'student', 'executive', 'student', 'scientist', 'educator',\n       'other', 'other', 'other', 'healthcare', 'writer', 'programmer',\n       'technician', 'technician', 'educator', 'writer', 'student',\n       'programmer', 'marketing', 'writer', 'engineer', 'other',\n       'administrator', 'other', 'administrator', 'other', 'retired',\n       'salesman', 'librarian', 'educator', 'none', 'student', 'student',\n       'student', 'other', 'student', 'administrator', 'scientist',\n       'educator', 'student', 'other', 'engineer', 'administrator',\n       'executive', 'student', 'student', 'writer', 'student', 'student',\n       'executive', 'librarian', 'programmer', 'student', 'student',\n       'programmer', 'student', 'artist', 'marketing', 'administrator',\n       'engineer', 'engineer', 'student', 'administrator', 'other',\n       'technician', 'educator', 'programmer', 'student', 'educator',\n       'programmer', 'writer', 'other', 'writer', 'administrator',\n       'programmer', 'writer', 'administrator', 'administrator',\n       'educator', 'other', 'marketing', 'healthcare', 'salesman',\n       'marketing', 'other', 'educator', 'technician', 'student', 'other',\n       'other', 'other', 'student', 'librarian', 'administrator',\n       'student', 'engineer', 'librarian', 'artist', 'other', 'engineer',\n       'artist', 'engineer', 'librarian', 'writer', 'programmer', 'other',\n       'technician', 'writer', 'other', 'executive', 'artist', 'artist',\n       'student', 'entertainment', 'artist', 'doctor', 'writer',\n       'librarian', 'engineer', 'doctor', 'lawyer', 'student', 'engineer',\n       'student', 'technician', 'other', 'administrator', 'writer',\n       'student', 'librarian', 'marketing', 'administrator', 'educator',\n       'other', 'retired', 'student', 'executive', 'student',\n       'programmer', 'artist', 'other', 'scientist', 'programmer',\n       'student', 'student', 'executive', 'student', 'administrator',\n       'scientist', 'student', 'other', 'other', 'educator',\n       'administrator', 'student', 'marketing', 'engineer', 'librarian',\n       'engineer', 'other', 'student', 'student', 'scientist',\n       'technician', 'student', 'administrator', 'other', 'student',\n       'educator', 'librarian', 'writer', 'other', 'homemaker', 'other',\n       'retired', 'executive', 'artist', 'educator', 'student', 'other',\n       'librarian', 'other', 'librarian', 'educator', 'healthcare',\n       'writer', 'other', 'student', 'other', 'entertainment', 'engineer',\n       'student', 'scientist', 'other', 'artist', 'student',\n       'administrator', 'student', 'other', 'salesman', 'entertainment',\n       'programmer', 'student', 'scientist', 'scientist', 'educator',\n       'educator', 'student', 'engineer', 'doctor', 'other', 'educator',\n       'technician', 'student', 'administrator', 'student', 'librarian',\n       'student'], dtype=object)"
     },
     "execution_count": 102,
     "metadata": {},
     "output_type": "execute_result"
    }
   ],
   "source": [
    "users_col.to_list()\n",
    "users_col.to_numpy()"
   ]
  },
  {
   "cell_type": "code",
   "execution_count": 103,
   "metadata": {},
   "outputs": [
    {
     "data": {
      "text/plain": "   occupation sex\n0  technician   M\n1       other   F\n2      writer   M\n3  technician   M\n4       other   F",
      "text/html": "<div>\n<style scoped>\n    .dataframe tbody tr th:only-of-type {\n        vertical-align: middle;\n    }\n\n    .dataframe tbody tr th {\n        vertical-align: top;\n    }\n\n    .dataframe thead th {\n        text-align: right;\n    }\n</style>\n<table border=\"1\" class=\"dataframe\">\n  <thead>\n    <tr style=\"text-align: right;\">\n      <th></th>\n      <th>occupation</th>\n      <th>sex</th>\n    </tr>\n  </thead>\n  <tbody>\n    <tr>\n      <th>0</th>\n      <td>technician</td>\n      <td>M</td>\n    </tr>\n    <tr>\n      <th>1</th>\n      <td>other</td>\n      <td>F</td>\n    </tr>\n    <tr>\n      <th>2</th>\n      <td>writer</td>\n      <td>M</td>\n    </tr>\n    <tr>\n      <th>3</th>\n      <td>technician</td>\n      <td>M</td>\n    </tr>\n    <tr>\n      <th>4</th>\n      <td>other</td>\n      <td>F</td>\n    </tr>\n  </tbody>\n</table>\n</div>"
     },
     "execution_count": 103,
     "metadata": {},
     "output_type": "execute_result"
    }
   ],
   "source": [
    "columns_you_want = ['occupation', 'sex']\n",
    "users[columns_you_want].head()"
   ]
  },
  {
   "cell_type": "code",
   "execution_count": 104,
   "metadata": {},
   "outputs": [
    {
     "data": {
      "text/plain": "'technician'"
     },
     "execution_count": 104,
     "metadata": {},
     "output_type": "execute_result"
    }
   ],
   "source": [
    "# select a single value, .loc and .iloc are two indexing methods\n",
    "users.at[0,'occupation']"
   ]
  },
  {
   "cell_type": "code",
   "execution_count": 105,
   "metadata": {},
   "outputs": [
    {
     "data": {
      "text/plain": "user_id                1\nage                   24\nsex                    M\noccupation    technician\nzip_code           85711\nName: 0, dtype: object"
     },
     "execution_count": 105,
     "metadata": {},
     "output_type": "execute_result"
    }
   ],
   "source": [
    "# select a row\n",
    "users.loc[0,:]"
   ]
  },
  {
   "cell_type": "markdown",
   "metadata": {},
   "source": [
    "Plotting with pandas\n",
    "\n",
    "Notice that pandas implements matplotlib behind the scenes too, so you can use commands such as plt.title() in combination with your pandas plots"
   ]
  },
  {
   "cell_type": "code",
   "execution_count": 106,
   "metadata": {},
   "outputs": [
    {
     "data": {
      "text/plain": "<Figure size 432x288 with 1 Axes>",
      "image/png": "[encoded data removed]"
     },
     "metadata": {
      "needs_background": "light"
     },
     "output_type": "display_data"
    }
   ],
   "source": [
    "users.age.hist()\n",
    "plt.title('Distribution of user age')\n",
    "plt.show()"
   ]
  },
  {
   "cell_type": "markdown",
   "metadata": {},
   "source": [
    "Selecting a slice of the dataframe based on certain criteria"
   ]
  },
  {
   "cell_type": "code",
   "execution_count": 107,
   "metadata": {},
   "outputs": [
    {
     "data": {
      "text/plain": "   user_id  age sex     occupation zip_code\n1        2   53   F          other    94043\n4        5   33   F          other    15213\n5        6   42   M      executive    98101\n6        7   57   M  administrator    91344\n7        8   36   M  administrator    05201",
      "text/html": "<div>\n<style scoped>\n    .dataframe tbody tr th:only-of-type {\n        vertical-align: middle;\n    }\n\n    .dataframe tbody tr th {\n        vertical-align: top;\n    }\n\n    .dataframe thead th {\n        text-align: right;\n    }\n</style>\n<table border=\"1\" class=\"dataframe\">\n  <thead>\n    <tr style=\"text-align: right;\">\n      <th></th>\n      <th>user_id</th>\n      <th>age</th>\n      <th>sex</th>\n      <th>occupation</th>\n      <th>zip_code</th>\n    </tr>\n  </thead>\n  <tbody>\n    <tr>\n      <th>1</th>\n      <td>2</td>\n      <td>53</td>\n      <td>F</td>\n      <td>other</td>\n      <td>94043</td>\n    </tr>\n    <tr>\n      <th>4</th>\n      <td>5</td>\n      <td>33</td>\n      <td>F</td>\n      <td>other</td>\n      <td>15213</td>\n    </tr>\n    <tr>\n      <th>5</th>\n      <td>6</td>\n      <td>42</td>\n      <td>M</td>\n      <td>executive</td>\n      <td>98101</td>\n    </tr>\n    <tr>\n      <th>6</th>\n      <td>7</td>\n      <td>57</td>\n      <td>M</td>\n      <td>administrator</td>\n      <td>91344</td>\n    </tr>\n    <tr>\n      <th>7</th>\n      <td>8</td>\n      <td>36</td>\n      <td>M</td>\n      <td>administrator</td>\n      <td>05201</td>\n    </tr>\n  </tbody>\n</table>\n</div>"
     },
     "execution_count": 107,
     "metadata": {},
     "output_type": "execute_result"
    }
   ],
   "source": [
    "users_over_25 = users[users.age > 25]\n",
    "users_over_25.head()"
   ]
  },
  {
   "cell_type": "code",
   "execution_count": 108,
   "metadata": {},
   "outputs": [
    {
     "data": {
      "text/plain": "     user_id  age sex  occupation zip_code\n18        19   40   M   librarian    02138\n82        83   40   M       other    44133\n115      116   40   M  healthcare    97232\n199      200   40   M  programmer    93402\n283      284   40   M   executive    92629",
      "text/html": "<div>\n<style scoped>\n    .dataframe tbody tr th:only-of-type {\n        vertical-align: middle;\n    }\n\n    .dataframe tbody tr th {\n        vertical-align: top;\n    }\n\n    .dataframe thead th {\n        text-align: right;\n    }\n</style>\n<table border=\"1\" class=\"dataframe\">\n  <thead>\n    <tr style=\"text-align: right;\">\n      <th></th>\n      <th>user_id</th>\n      <th>age</th>\n      <th>sex</th>\n      <th>occupation</th>\n      <th>zip_code</th>\n    </tr>\n  </thead>\n  <tbody>\n    <tr>\n      <th>18</th>\n      <td>19</td>\n      <td>40</td>\n      <td>M</td>\n      <td>librarian</td>\n      <td>02138</td>\n    </tr>\n    <tr>\n      <th>82</th>\n      <td>83</td>\n      <td>40</td>\n      <td>M</td>\n      <td>other</td>\n      <td>44133</td>\n    </tr>\n    <tr>\n      <th>115</th>\n      <td>116</td>\n      <td>40</td>\n      <td>M</td>\n      <td>healthcare</td>\n      <td>97232</td>\n    </tr>\n    <tr>\n      <th>199</th>\n      <td>200</td>\n      <td>40</td>\n      <td>M</td>\n      <td>programmer</td>\n      <td>93402</td>\n    </tr>\n    <tr>\n      <th>283</th>\n      <td>284</td>\n      <td>40</td>\n      <td>M</td>\n      <td>executive</td>\n      <td>92629</td>\n    </tr>\n  </tbody>\n</table>\n</div>"
     },
     "execution_count": 108,
     "metadata": {},
     "output_type": "execute_result"
    }
   ],
   "source": [
    "users[(users.age == 40) & (users.sex == 'M')].head()"
   ]
  },
  {
   "cell_type": "markdown",
   "metadata": {},
   "source": [
    "Use these techniques to answer questions such as, whats the average age of female programmers in this dataset?"
   ]
  },
  {
   "cell_type": "code",
   "execution_count": 109,
   "metadata": {},
   "outputs": [
    {
     "name": "stdout",
     "output_type": "stream",
     "text": [
      "          user_id        age\n",
      "count    6.000000   6.000000\n",
      "mean   411.166667  32.166667\n",
      "std    149.987222   5.115336\n",
      "min    292.000000  26.000000\n",
      "25%    313.000000  28.250000\n",
      "50%    378.000000  32.000000\n",
      "75%    416.750000  36.500000\n",
      "max    698.000000  38.000000\n",
      "32.166666666666664\n",
      "32.166666666666664\n"
     ]
    }
   ],
   "source": [
    "# select users who are both female and programmers\n",
    "selected_users = users[(users.sex == 'F') & \n",
    "                       (users.occupation == 'programmer')]\n",
    "\n",
    "# show statistic summary\n",
    "print(selected_users.describe())\n",
    "\n",
    "# or use the build in mean() function\n",
    "print(selected_users.age.mean())\n",
    "print(selected_users['age'].mean())"
   ]
  },
  {
   "cell_type": "markdown",
   "metadata": {},
   "source": [
    "##### Split-apply-combine"
   ]
  },
  {
   "cell_type": "markdown",
   "metadata": {},
   "source": [
    "* Splitting the data into groups based on some criteria.\n",
    "* Applying a function to each group independently.\n",
    "* Combining the results into a data structure."
   ]
  },
  {
   "cell_type": "markdown",
   "metadata": {},
   "source": [
    "##### Average rating of users "
   ]
  },
  {
   "cell_type": "code",
   "execution_count": 110,
   "metadata": {},
   "outputs": [
    {
     "data": {
      "text/plain": "user_id\n1    3.610294\n2    3.709677\n3    2.796296\n4    4.333333\n5    2.874286\nName: rating, dtype: float64"
     },
     "execution_count": 110,
     "metadata": {},
     "output_type": "execute_result"
    }
   ],
   "source": [
    "user_mean = ratings.groupby(['user_id'])['rating'].mean() #or sum(), count(), median(), etc.\n",
    "user_mean.head()"
   ]
  },
  {
   "cell_type": "markdown",
   "metadata": {},
   "source": [
    "<span style=\"color:red\">How many rows are there in \"user_mean\"?</span>\n",
    "<span style=\"color:red\">How many rows would there be if I grouped by \"movie_id\" instead?</span>"
   ]
  },
  {
   "cell_type": "code",
   "execution_count": 111,
   "metadata": {},
   "outputs": [
    {
     "data": {
      "text/plain": "1682"
     },
     "execution_count": 111,
     "metadata": {},
     "output_type": "execute_result"
    }
   ],
   "source": [
    "len(user_mean)\n",
    "len(movies)"
   ]
  },
  {
   "cell_type": "markdown",
   "metadata": {},
   "source": [
    "Another way using the apply() method to apply a function\n",
    "\n",
    "<span style=\"color:red\">What does x refer to?</span>\n",
    "\n",
    "<span style=\"color:red\">Why is this syntax useful?</span>"
   ]
  },
  {
   "cell_type": "code",
   "execution_count": 112,
   "metadata": {},
   "outputs": [
    {
     "data": {
      "text/plain": "movie_id\n1    3.878319\n2    3.206107\n3    3.033333\n4    3.550239\n5    3.302326\nName: rating, dtype: float64"
     },
     "execution_count": 112,
     "metadata": {},
     "output_type": "execute_result"
    }
   ],
   "source": [
    "movie_mean = ratings.groupby(['movie_id'])['rating']\n",
    "average_ratings = movie_mean.apply(lambda x: x.mean())\n",
    "average_ratings.head()"
   ]
  },
  {
   "cell_type": "markdown",
   "metadata": {},
   "source": [
    "What is the highest rated movie?"
   ]
  },
  {
   "cell_type": "code",
   "execution_count": 113,
   "metadata": {},
   "outputs": [
    {
     "data": {
      "text/plain": "movie_id\n814     5.0\n1599    5.0\n1201    5.0\n1122    5.0\n1653    5.0\n1293    5.0\n1500    5.0\n1189    5.0\n1536    5.0\nName: rating, dtype: float64"
     },
     "execution_count": 113,
     "metadata": {},
     "output_type": "execute_result"
    }
   ],
   "source": [
    "average_ratings.sort_values(ascending = False)[0:9]"
   ]
  },
  {
   "cell_type": "code",
   "execution_count": 114,
   "metadata": {},
   "outputs": [
    {
     "data": {
      "text/plain": "     movie_id                          title release_date  \\\n813       814  Great Day in Harlem, A (1994)   1994-01-01   \n\n                                              imdb_url  \n813  http://us.imdb.com/M/title-exact?Great%20Day%2...  ",
      "text/html": "<div>\n<style scoped>\n    .dataframe tbody tr th:only-of-type {\n        vertical-align: middle;\n    }\n\n    .dataframe tbody tr th {\n        vertical-align: top;\n    }\n\n    .dataframe thead th {\n        text-align: right;\n    }\n</style>\n<table border=\"1\" class=\"dataframe\">\n  <thead>\n    <tr style=\"text-align: right;\">\n      <th></th>\n      <th>movie_id</th>\n      <th>title</th>\n      <th>release_date</th>\n      <th>imdb_url</th>\n    </tr>\n  </thead>\n  <tbody>\n    <tr>\n      <th>813</th>\n      <td>814</td>\n      <td>Great Day in Harlem, A (1994)</td>\n      <td>1994-01-01</td>\n      <td>http://us.imdb.com/M/title-exact?Great%20Day%2...</td>\n    </tr>\n  </tbody>\n</table>\n</div>"
     },
     "execution_count": 114,
     "metadata": {},
     "output_type": "execute_result"
    }
   ],
   "source": [
    "# search df based on single value\n",
    "movies[movies['movie_id']==814]"
   ]
  },
  {
   "cell_type": "code",
   "execution_count": 115,
   "metadata": {},
   "outputs": [
    {
     "name": "stdout",
     "output_type": "stream",
     "text": [
      "<class 'pandas.core.series.Series'>\n"
     ]
    },
    {
     "data": {
      "text/plain": "      movie_id                                              title  \\\n813        814                      Great Day in Harlem, A (1994)   \n1598      1599                      Someone Else's America (1995)   \n1200      1201         Marlene Dietrich: Shadow and Light (1996)    \n1121      1122                     They Made Me a Criminal (1939)   \n1652      1653  Entertaining Angels: The Dorothy Day Story (1996)   \n\n     release_date                                           imdb_url  rating  \n813    1994-01-01  http://us.imdb.com/M/title-exact?Great%20Day%2...     5.0  \n1598   1996-05-10  http://us.imdb.com/M/title-exact?Someone%20Els...     5.0  \n1200   1996-04-02  http://us.imdb.com/M/title-exact?Marlene%20Die...     5.0  \n1121   1939-01-01  http://us.imdb.com/M/title-exact?They%20Made%2...     5.0  \n1652   1996-09-27  http://us.imdb.com/M/title-exact?Entertaining%...     5.0  ",
      "text/html": "<div>\n<style scoped>\n    .dataframe tbody tr th:only-of-type {\n        vertical-align: middle;\n    }\n\n    .dataframe tbody tr th {\n        vertical-align: top;\n    }\n\n    .dataframe thead th {\n        text-align: right;\n    }\n</style>\n<table border=\"1\" class=\"dataframe\">\n  <thead>\n    <tr style=\"text-align: right;\">\n      <th></th>\n      <th>movie_id</th>\n      <th>title</th>\n      <th>release_date</th>\n      <th>imdb_url</th>\n      <th>rating</th>\n    </tr>\n  </thead>\n  <tbody>\n    <tr>\n      <th>813</th>\n      <td>814</td>\n      <td>Great Day in Harlem, A (1994)</td>\n      <td>1994-01-01</td>\n      <td>http://us.imdb.com/M/title-exact?Great%20Day%2...</td>\n      <td>5.0</td>\n    </tr>\n    <tr>\n      <th>1598</th>\n      <td>1599</td>\n      <td>Someone Else's America (1995)</td>\n      <td>1996-05-10</td>\n      <td>http://us.imdb.com/M/title-exact?Someone%20Els...</td>\n      <td>5.0</td>\n    </tr>\n    <tr>\n      <th>1200</th>\n      <td>1201</td>\n      <td>Marlene Dietrich: Shadow and Light (1996)</td>\n      <td>1996-04-02</td>\n      <td>http://us.imdb.com/M/title-exact?Marlene%20Die...</td>\n      <td>5.0</td>\n    </tr>\n    <tr>\n      <th>1121</th>\n      <td>1122</td>\n      <td>They Made Me a Criminal (1939)</td>\n      <td>1939-01-01</td>\n      <td>http://us.imdb.com/M/title-exact?They%20Made%2...</td>\n      <td>5.0</td>\n    </tr>\n    <tr>\n      <th>1652</th>\n      <td>1653</td>\n      <td>Entertaining Angels: The Dorothy Day Story (1996)</td>\n      <td>1996-09-27</td>\n      <td>http://us.imdb.com/M/title-exact?Entertaining%...</td>\n      <td>5.0</td>\n    </tr>\n  </tbody>\n</table>\n</div>"
     },
     "execution_count": 115,
     "metadata": {},
     "output_type": "execute_result"
    }
   ],
   "source": [
    "# another way, use pd.merge() to join to dataframes\n",
    "\n",
    "print(type(average_ratings))\n",
    "avg_ratings_df = pd.DataFrame(average_ratings)\n",
    "merged = movies.merge(avg_ratings_df, on='movie_id')\n",
    "merged.sort_values(by='rating', ascending=False).head()"
   ]
  },
  {
   "cell_type": "markdown",
   "metadata": {},
   "source": [
    "## Web Scraping"
   ]
  },
  {
   "cell_type": "markdown",
   "metadata": {},
   "source": [
    "- Urllib: the most basic webscraping package \n",
    "- BeautifulSoup: Lightning fast static web page processing\n",
    "- Selenium: To manipulate, test and scrape dynamic HTML web pages. It is able to use the elements of the user interface, for example fill in forms, check the checkboxes and so on...\n",
    "\n",
    "**Strategy:** \n",
    "1. Extract the data from the dynamic html with Selenium \n",
    "2. Turn the data into a beautiful soup object to process the html with BeautifulSoup."
   ]
  },
  {
   "cell_type": "markdown",
   "metadata": {},
   "source": [
    "**Be careful and fair (copyright, license, media law, server overloading, etc.)!**\n",
    "- the robots.txt file, generally located at the root of a website, communicates to webcrawlers about what is off limits to scrape, protecting their intellectual property\n",
    "- it is not a legal requirement but a widely used convention"
   ]
  },
  {
   "cell_type": "markdown",
   "metadata": {},
   "source": [
    "For web scraping we should have a basic understanding of HTML tags!"
   ]
  },
  {
   "cell_type": "markdown",
   "metadata": {},
   "source": [
    "## HTML, just the basics "
   ]
  },
  {
   "cell_type": "markdown",
   "metadata": {},
   "source": [
    "### Tags, Elements, Attributes"
   ]
  },
  {
   "cell_type": "raw",
   "metadata": {},
   "source": [
    "Tag: < something between angle brackets > <br>\n",
    "Some important tags:\n",
    "- <div>                   sections\n",
    "- <h1> - <h6>             headings\n",
    "- <p>, <pre>              paragraphs\n",
    "- <ul>, <ol>, <li>        lists\n",
    "- <a>                     links\n",
    "- <img>                   images\n",
    "- <table>                 tables\n",
    "- <tr>                    rows within tables"
   ]
  },
  {
   "cell_type": "raw",
   "metadata": {},
   "source": [
    "Element: It begins with a tag, ends with a tag, and it contains the text between them aswell.\n",
    "for example:\n",
    "\n",
    "<html>\n",
    "\n",
    "    <head>\n",
    "    \n",
    "        <h1> Fake header on a fake website </h1>\n",
    "    \n",
    "        <p> color='red' This thing with it's tags is an element. </p>\n",
    "        \n",
    "    </head>\n",
    "    \n",
    "</html>"
   ]
  },
  {
   "cell_type": "raw",
   "metadata": {},
   "source": [
    "Attributes: Contains aditional information about the tags (in general they are in the opening of the tag).\n",
    "for example:\n",
    "\n",
    "- <img src=\"picture.png\"> src is an attribute with the value \"picture\"\n",
    "- <p color=\"red\"> color is an attribute\n",
    "- <div id=\"scrapeMe\"> id is an attribute\n",
    "- <a href='http://thisisalink.com' a>"
   ]
  },
  {
   "cell_type": "markdown",
   "metadata": {},
   "source": [
    "Learn more about HTML\n",
    "\n",
    "https://www.w3schools.com/html/html_basic.asp"
   ]
  },
  {
   "cell_type": "markdown",
   "metadata": {},
   "source": [
    "#### Most of the time when we scrape html pages we locate the information by it's tags and attributes. The most important tags in this manner are id and class."
   ]
  },
  {
   "cell_type": "markdown",
   "metadata": {},
   "source": [
    "### DOM tree (Document Object Model)"
   ]
  },
  {
   "cell_type": "markdown",
   "metadata": {},
   "source": [
    "![DomTree0](https://media.licdn.com/dms/image/C4D22AQH_rjlNORWwqQ/feedshare-shrink_2048_1536/0/1676362097908?e=1679529600&v=beta&t=xeHCbIrxWWkZ3Me-PiRuIA74GImkuTN1wyLN02VUPTw)"
   ]
  },
  {
   "cell_type": "markdown",
   "metadata": {},
   "source": [
    "![DomTree](https://media.licdn.com/dms/image/C4D22AQGc3tTlAY6x7Q/feedshare-shrink_2048_1536/0/1676362027964?e=1679529600&v=beta&t=Uf0oElJllBNmQv6N1XvtDzQrsAlhDlN36E7yIoEuPbY)"
   ]
  },
  {
   "cell_type": "markdown",
   "metadata": {},
   "source": [
    "#### The inner HTML of  the elements are of the same nature as the whole html page. We can use the same methods to locate an information for example in a div as we do in the html. "
   ]
  },
  {
   "cell_type": "markdown",
   "metadata": {},
   "source": [
    "### Scraping static webpages using Beautifulsoup and Urllib"
   ]
  },
  {
   "cell_type": "markdown",
   "metadata": {},
   "source": [
    "**Reading an entire webpage as a string using Urllib**"
   ]
  },
  {
   "cell_type": "code",
   "execution_count": 116,
   "metadata": {},
   "outputs": [
    {
     "name": "stderr",
     "output_type": "stream",
     "text": [
      "C:\\Users\\rahul\\AppData\\Roaming\\Python\\Python39\\site-packages\\IPython\\core\\display.py:724: UserWarning: Consider using IPython.display.IFrame instead\n",
      "  warnings.warn(\"Consider using IPython.display.IFrame instead\")\n"
     ]
    },
    {
     "data": {
      "text/plain": "<IPython.core.display.HTML object>",
      "text/html": "<iframe src=https://www.crummy.com/software/BeautifulSoup/ width=1000 height=400></iframe>"
     },
     "execution_count": 116,
     "metadata": {},
     "output_type": "execute_result"
    }
   ],
   "source": [
    "# the website we will scrape first\n",
    "# %%capture --no-display\n",
    "HTML('<iframe src=https://www.crummy.com/software/BeautifulSoup/ width=1000 height=400></iframe>')"
   ]
  },
  {
   "cell_type": "code",
   "execution_count": 117,
   "metadata": {},
   "outputs": [
    {
     "name": "stdout",
     "output_type": "stream",
     "text": [
      "<!DOCTYPE HTML PUBLIC \"-//W3C//DTD HTML 4.0 Transitional//EN\"\n",
      "\"http://www.w3.org/TR/REC-html40/transitional.dtd\">\n",
      "<html>\n",
      "<head>\n",
      "<meta http-equiv=\"Content-Type\" content=\"text/html; charset=utf-8\">\n",
      "<title>Beautiful Soup: We called him Tortoise because he taught us.</title>\n",
      "<link rev=\"made\" href=\"mailto:leonardr@segfault.org\">\n",
      "<link rel=\"stylesheet\" type=\"text/css\" href=\"/nb/themes/Default/nb.css\">\n",
      "<meta name=\"Description\" content=\"Beautiful Soup: a library designed for screen-scraping HTML and XML.\">\n",
      "<meta name=\"generator\" content=\"Markov Approximation 1.4 (module: leonardr)\">\n",
      "<meta name=\"author\" content=\"Leonard Richardson\">\n",
      "</head>\n",
      "<body bgcolor=\"white\" text=\"black\" link=\"blue\" vlink=\"660066\" alink=\"red\">\n",
      "<style>\n",
      "#tidelift { }\n",
      "\n",
      "#tidelift a {\n",
      " border: 1px solid #666666;\n",
      " margin-left: auto;\n",
      " padding: 10px;\n",
      " text-decoration: none;\n",
      "}\n",
      "\n",
      "#tidelift .cta {\n",
      " background: url(\"tidelift.svg\") no-repeat;\n",
      " padding-left: 30px;\n",
      "}\n",
      "</style>\t\t   \n",
      "\n",
      "<img align=\"right\" src=\"10.1.jpg\" width=\"250\"><br />\n",
      "\n",
      "<p>[ <a href=\"#Download\">Download</a> | <a\n",
      "href=\"bs4/doc/\">Documentation</a> | <a href=\"#HallOfFame\">Hall of Fame</a> | <a href=\"enterprise.html\">For enterprise</a> | <a href=\"https://code.launchpad.net/beautifulsoup\">Source</a> | <a href=\"https://bazaar.launchpad.net/%7Eleonardr/beautifulsoup/bs4/view/head:/CHANGELOG\">Changelog</a> | <a href=\"https://groups.google.com/forum/?fromgroups#!forum/beautifulsoup\">Discussion group</a>  | <a href=\"zine/\">Zine</a> ]</p>\n",
      "\n",
      "<div align=\"center\">\n",
      "\n",
      "<a href=\"bs4/download/\"><h1>Beautiful Soup</h1></a>\n",
      "\n",
      "</div>\n",
      "\n",
      "<p>You didn't write that awful page. You're just trying to get some\n",
      "data out of it. Beautiful Soup is here to help. Since 2004, it's been\n",
      "saving programmers hours or days of work on quick-turnaround\n",
      "screen scraping projects.</p>\n",
      "\n",
      "<p>Beautiful Soup is a Python library designed for quick turnaround\n",
      "projects like screen-scraping. Three features make it powerful:\n",
      "\n",
      "<ol>\n",
      "\n",
      "<li>Beautiful Soup provides a few simple methods and Pythonic idioms\n",
      "for navigating, searching, and modifying a parse tree: a toolkit for\n",
      "dissecting a document and extracting what you need. It doesn't take\n",
      "much code to write an application\n",
      "\n",
      "<li>Beautiful Soup automatically converts incoming documents to\n",
      "Unicode and outgoing documents to UTF-8. You don't have to think\n",
      "about encodings, unless the document doesn't specify an encoding and\n",
      "Beautiful Soup can't detect one. Then you just have to specify the\n",
      "original encoding.\n",
      "\n",
      "<li>Beautiful Soup sits on top of popular Python parsers like <a\n",
      "href=\"http://lxml.de/\">lxml</a> and <a\n",
      "href=\"http://code.google.com/p/html5lib/\">html5lib</a>, allowing you\n",
      "to try out different parsing strategies or trade speed for\n",
      "flexibility.\n",
      "\n",
      "</ol>\n",
      "\n",
      "<p>Beautiful Soup parses anything you give it, and does the tree\n",
      "traversal stuff for you. You can tell it \"Find all the links\", or\n",
      "\"Find all the links of class <tt>externalLink</tt>\", or \"Find all the\n",
      "links whose urls match \"foo.com\", or \"Find the table heading that's\n",
      "got bold text, then give me that text.\"\n",
      "\n",
      "<p>Valuable data that was once locked up in poorly-designed websites\n",
      "is now within your reach. Projects that would have taken hours take\n",
      "only minutes with Beautiful Soup.\n",
      "\n",
      "<p>Interested? <a href=\"bs4/doc/\">Read more.</a>\n",
      "\n",
      "<h3>Getting and giving support</h3>\n",
      "\n",
      "<div id=\"tidelift\" align=\"center\">\n",
      "<a href=\"https://tidelift.com/subscription/pkg/pypi-beautifulsoup4?utm_source=pypi-beautifulsoup4&utm_medium=referral&utm_campaign=enterprise\" target=\"_blank\">\n",
      " <span class=\"cta\">\n",
      "  Beautiful Soup for enterprise available via Tidelift\n",
      " </span>\n",
      "</a>\n",
      "</div>\n",
      "\n",
      "<p>If you have questions, send them to <a\n",
      "href=\"https://groups.google.com/forum/?fromgroups#!forum/beautifulsoup\">the discussion\n",
      "group</a>. If you find a bug, <a href=\"https://bugs.launchpad.net/beautifulsoup/\">file it on Launchpad</a>. If it's a security vulnerability, report it confidentially through <a href=\"https://tidelift.com/security\">Tidelift</a>.</p>\n",
      "\n",
      "<p>If you use Beautiful Soup as part of your work, please consider a <a href=\"https://tidelift.com/subscription/pkg/pypi-beautifulsoup4?utm_source=pypi-beautifulsoup4&utm_medium=referral&utm_campaign=website\">Tidelift subscription</a>. This will support many of the free software projects your organization depends on, not just Beautiful Soup.\n",
      "\n",
      "\n",
      "<p>If Beautiful Soup is useful to you on a personal level, you might like to read <a href=\"zine/\"><i>Tool Safety</i></a>, a short zine I wrote about what I learned about software development from working on Beautiful Soup. Thanks!</p>\n",
      "</div>\n",
      "\n",
      "\n",
      "<a name=\"Download\"><h2>Download Beautiful Soup</h2></a>\n",
      "\n",
      "<p>The current release is <a href=\"bs4/download/\">Beautiful Soup\n",
      "4.11.2</a> (January 31, 2023). You can install Beautiful Soup 4 with\n",
      "<code>pip install beautifulsoup4</code>.\n",
      "\n",
      "<p>In Debian and Ubuntu, Beautiful Soup is available as the\n",
      "<code>python-bs4</code> package (for Python 2) or the\n",
      "<code>python3-bs4</code> package (for Python 3). In Fedora it's\n",
      "available as the <code>python-beautifulsoup4</code> package.\n",
      "\n",
      "<p>Beautiful Soup is licensed under the MIT license, so you can also\n",
      "download the tarball, drop the <code>bs4/</code> directory into almost\n",
      "any Python application (or into your library path) and start using it\n",
      "immediately. (If you want to do this under Python 3, you will need to\n",
      "manually convert the code using <code>2to3</code>.)\n",
      "\n",
      "<p>Beautiful Soup 4 works on Python 3.6 and up. Support for Python 2 was discontinued on January 1,\n",
      "2021&mdash;one year after the Python 2 sunsetting date.\n",
      "\n",
      "<h3>Beautiful Soup 3</h3>\n",
      "\n",
      "<p>Beautiful Soup 3 was the official release line of Beautiful Soup\n",
      "from May 2006 to March 2012. It does not support Python 3 and was\n",
      "discontinued or January 1, 2021&mdash;one year after the Python 2\n",
      "sunsetting date. If you have any active projects using Beautiful Soup\n",
      "3, you should migrate to Beautiful Soup 4 as part of your Python 3\n",
      "conversion.\n",
      "\n",
      "<p><a\n",
      "href=\"http://www.crummy.com/software/BeautifulSoup/bs3/documentation.html\">Here's\n",
      "the Beautiful Soup 3 documentation.</a>\n",
      "\n",
      "<p>The current and hopefully final release of Beautiful Soup 3 is <a\n",
      "href=\"download/3.x/BeautifulSoup-3.2.2.tar.gz\">3.2.2</a> (October 5,\n",
      "2019). It's the <code>BeautifulSoup</code> package on pip. It's also\n",
      "available as <code>python-beautifulsoup</code> in Debian and Ubuntu,\n",
      "and as <code>python-BeautifulSoup</code> in Fedora.\n",
      "\n",
      "<p>Once Beautiful Soup 3 is discontinued, these package names will be available for use by a more recent version of Beautiful Soup.\n",
      "\n",
      "<p>Beautiful Soup 3, like Beautiful Soup 4, is <a href=\"https://tidelift.com/subscription/pkg/pypi-beautifulsoup?utm_source=pypi-beautifulsoup&utm_medium=referral&utm_campaign=website\">supported through Tidelift</a>.</p>\n",
      "\n",
      "<a name=\"HallOfFame\"><h2>Hall of Fame</h2></a>\n",
      "\n",
      "<p>Over the years, Beautiful Soup has been used in hundreds of\n",
      "different projects. There's no way I can list them all, but I want to\n",
      "highlight a few high-profile projects. Beautiful Soup isn't what makes\n",
      "these projects interesting, but it did make their completion easier:\n",
      "\n",
      "<ul>\n",
      "\n",
      "<li><a\n",
      " href=\"http://www.nytimes.com/2007/10/25/arts/design/25vide.html\">\"Movable\n",
      " Type\"</a>, a work of digital art on display in the lobby of the New\n",
      " York Times building, uses Beautiful Soup to scrape news feeds.\n",
      "\n",
      "<li>Jiabao Lin's <a\n",
      "href=\"https://github.com/BlankerL/DXY-COVID-19-Crawler\">DXY-COVID-19-Crawler</a>\n",
      "uses Beautiful Soup to scrape a Chinese medical site for information\n",
      "about COVID-19, making it easier for researchers to track the spread\n",
      "of the virus. (Source: <a href=\"https://blog.tidelift.com/how-open-source-software-is-fighting-covid-19\">\"How open source software is fighting COVID-19\"</a>)\n",
      "\n",
      "<li>Reddit uses Beautiful Soup to <a\n",
      "href=\"https://github.com/reddit/reddit/blob/85f9cff3e2ab9bb8f19b96acd8da4ebacc079f04/r2/r2/lib/media.py\">parse\n",
      "a page that's been linked to and find a representative image</a>.\n",
      "\n",
      "<li>Alexander Harrowell uses Beautiful Soup to <a\n",
      " href=\"http://www.harrowell.org.uk/viktormap.html\">track the business\n",
      " activities</a> of an arms merchant.\n",
      "\n",
      "<li>The developers of Python itself used Beautiful Soup to <a\n",
      "href=\"http://svn.python.org/view/tracker/importer/\">migrate the Python\n",
      "bug tracker from Sourceforge to Roundup</a>.\n",
      "\n",
      "<li>The <a href=\"http://www2.ljworld.com/\">Lawrence Journal-World</a>\n",
      "uses Beautiful Soup to <A\n",
      "href=\"http://www.b-list.org/weblog/2010/nov/02/news-done-broke/\">gather\n",
      "statewide election results</a>.\n",
      "\n",
      "<li>The <a href=\"http://esrl.noaa.gov/gsd/fab/\">NOAA's Forecast\n",
      "Applications Branch</a> uses Beautiful Soup in <a\n",
      "href=\"http://laps.noaa.gov/topograbber/\">TopoGrabber</a>, a script for\n",
      "downloading \"high resolution USGS datasets.\"\n",
      "\n",
      "</ul>\n",
      "\n",
      "<p>If you've used Beautiful Soup in a project you'd like me to know\n",
      "about, please do send email to me or <a\n",
      "href=\"http://groups.google.com/group/beautifulsoup/\">the discussion\n",
      "group</a>.\n",
      "\n",
      "<h2>Development</h2>\n",
      "\n",
      "<p>Development happens at <a\n",
      "href=\"https://launchpad.net/beautifulsoup\">Launchpad</a>. You can <a\n",
      "href=\"https://code.launchpad.net/beautifulsoup/\">get the source\n",
      "code</a> or <a href=\"https://bugs.launchpad.net/beautifulsoup/\">file\n",
      "bugs</a>.<hr><table><tr><td valign=\"top\">\n",
      "<p>This document (<a href=\"/source/software/BeautifulSoup/index.bhtml\">source</a>) is part of Crummy, the webspace of <a href=\"/self/\">Leonard Richardson</a> (<a href=\"/self/contact.html\">contact information</a>). It was last modified on Tuesday, January 31 2023, 18:01:14 Nowhere Standard Time and last built on Monday, February 27 2023, 11:00:01 Nowhere Standard Time.</p><p><table class=\"licenseText\"><tr><td><a href=\"http://creativecommons.org/licenses/by-sa/2.0/\"><img border=\"0\" src=\"/nb//resources/img/somerights20.jpg\"></a></td><td valign=\"top\">Crummy is &copy; 1996-2023 Leonard Richardson. Unless otherwise noted, all text licensed under a <a href=\"http://creativecommons.org/licenses/by-sa/2.0/\">Creative Commons License</a>.</td></tr></table></span><!--<rdf:RDF xmlns=\"http://web.resource.org/cc/\" xmlns:dc=\"http://purl.org/dc/elements/1.1/\" xmlns:rdf=\"http://www.w3.org/1999/02/22-rdf-syntax-ns#\"><Work rdf:about=\"http://www.crummy.com/\"><dc:title>Crummy: The Site</dc:title><dc:rights><Agent><dc:title>Crummy: the Site</dc:title></Agent></dc:rights><dc:format>text/html</dc:format><license rdf:resource=http://creativecommons.org/licenses/by-sa/2.0//></Work><License rdf:about=\"http://creativecommons.org/licenses/by-sa/2.0/\"></License></rdf:RDF>--></p></td><td valign=top><p><b>Document tree:</b>\n",
      "<dl><dd><a href=\"http://www.crummy.com/\">http://www.crummy.com/</a><dl><dd><a href=\"http://www.crummy.com/software/\">software/</a><dl><dd><a href=\"http://www.crummy.com/software/BeautifulSoup/\">BeautifulSoup/</a></dl>\n",
      "</dl>\n",
      "</dl>\n",
      "\n",
      "\n",
      "Site Search:\n",
      "\n",
      "<form method=\"get\" action=\"/search/\">\n",
      "        <input type=\"text\" name=\"q\" maxlength=\"255\" value=\"\"></input>\n",
      "        </form>\n",
      "        </td>\n",
      "\n",
      "</tr>\n",
      "\n",
      "</table>\n",
      "</body>\n",
      "</html>\n",
      "\n"
     ]
    }
   ],
   "source": [
    "    from urllib.request import urlopen\n",
    "\n",
    "url = 'https://www.crummy.com/software/BeautifulSoup/'\n",
    "source = urlopen(url).read().decode('utf-8') # read in html and decode bytes into string\n",
    "print(source)"
   ]
  },
  {
   "cell_type": "markdown",
   "metadata": {},
   "source": [
    "The scraped contents of the url are just a string so you can use all of the python string manipulation methods you're familiar with like find(), count() and replace()"
   ]
  },
  {
   "cell_type": "code",
   "execution_count": 118,
   "metadata": {},
   "outputs": [
    {
     "name": "stdout",
     "output_type": "stream",
     "text": [
      "<class 'str'>\n",
      "50\n"
     ]
    }
   ],
   "source": [
    "## count occurences of 'Soup'\n",
    "print(type(source))\n",
    "print(source.count('Soup'))"
   ]
  },
  {
   "cell_type": "code",
   "execution_count": 119,
   "metadata": {},
   "outputs": [
    {
     "name": "stdout",
     "output_type": "stream",
     "text": [
      "7608\n"
     ]
    }
   ],
   "source": [
    "## find index of 'Reddit uses Beautiful Soup'\n",
    "position =  source.find('Reddit uses Beautiful Soup')\n",
    "print(position)"
   ]
  },
  {
   "cell_type": "code",
   "execution_count": 120,
   "metadata": {},
   "outputs": [
    {
     "name": "stdout",
     "output_type": "stream",
     "text": [
      "Reddit uses Beautiful Soup\n"
     ]
    }
   ],
   "source": [
    "# test to see the substring\n",
    "print(source[position:position + len('Reddit uses Beautiful Soup')])"
   ]
  },
  {
   "cell_type": "code",
   "execution_count": 121,
   "metadata": {},
   "outputs": [
    {
     "name": "stdout",
     "output_type": "stream",
     "text": [
      "<!DOCTYPE HTML PUBLIC \"-//W3C//DTD HTML 4.0 Transitional//EN\" \"http://www.w3.org/TR/REC-html40/transitional.dtd\">\n",
      "<html>\n",
      "<head>\n",
      "<meta content=\"text/html; charset=utf-8\" http-equiv=\"Content-Type\"/>\n",
      "<title>Beautiful Soup: We called him Tortoise because he taught us.</title>\n",
      "<link href=\"mailto:leonardr@segfault.org\" rev=\"made\"/>\n",
      "<link href=\"/nb/themes/Default/nb.css\" rel=\"stylesheet\" type=\"text/css\"/>\n",
      "<meta content=\"Beautiful Soup: a library designed for screen-scraping HTML and XML.\" name=\"Description\"/>\n",
      "<meta content=\"Markov Approximation 1.4 (module: leonardr)\" name=\"generator\"/>\n",
      "<meta content=\"Leonard Richardson\" name=\"author\"/>\n",
      "</head>\n",
      "<body alink=\"red\" bgcolor=\"white\" link=\"blue\" text=\"black\" vlink=\"660066\">\n",
      "<style>\n",
      "#tidelift { }\n",
      "\n",
      "#tidelift a {\n",
      " border: 1px solid #666666;\n",
      " margin-left: auto;\n",
      " padding: 10px;\n",
      " text-decoration: none;\n",
      "}\n",
      "\n",
      "#tidelift .cta {\n",
      " background: url(\"tidelift.svg\") no-repeat;\n",
      " padding-left: 30px;\n",
      "}\n",
      "</style>\n",
      "<img align=\"right\" src=\"10.1.jpg\" width=\"250\"/><br/>\n",
      "<p>[ <a href=\"#Download\">Download</a> | <a href=\"bs4/doc/\">Documentation</a> | <a href=\"#HallOfFame\">Hall of Fame</a> | <a href=\"enterprise.html\">For enterprise</a> | <a href=\"https://code.launchpad.net/beautifulsoup\">Source</a> | <a href=\"https://bazaar.launchpad.net/%7Eleonardr/beautifulsoup/bs4/view/head:/CHANGELOG\">Changelog</a> | <a href=\"https://groups.google.com/forum/?fromgroups#!forum/beautifulsoup\">Discussion group</a>  | <a href=\"zine/\">Zine</a> ]</p>\n",
      "<div align=\"center\">\n",
      "<a href=\"bs4/download/\"><h1>Beautiful Soup</h1></a>\n",
      "</div>\n",
      "<p>You didn't write that awful page. You're just trying to get some\n",
      "data out of it. Beautiful Soup is here to help. Since 2004, it's been\n",
      "saving programmers hours or days of work on quick-turnaround\n",
      "screen scraping projects.</p>\n",
      "<p>Beautiful Soup is a Python library designed for quick turnaround\n",
      "projects like screen-scraping. Three features make it powerful:\n",
      "\n",
      "</p><ol>\n",
      "<li>Beautiful Soup provides a few simple methods and Pythonic idioms\n",
      "for navigating, searching, and modifying a parse tree: a toolkit for\n",
      "dissecting a document and extracting what you need. It doesn't take\n",
      "much code to write an application\n",
      "\n",
      "</li><li>Beautiful Soup automatically converts incoming documents to\n",
      "Unicode and outgoing documents to UTF-8. You don't have to think\n",
      "about encodings, unless the document doesn't specify an encoding and\n",
      "Beautiful Soup can't detect one. Then you just have to specify the\n",
      "original encoding.\n",
      "\n",
      "</li><li>Beautiful Soup sits on top of popular Python parsers like <a href=\"http://lxml.de/\">lxml</a> and <a href=\"http://code.google.com/p/html5lib/\">html5lib</a>, allowing you\n",
      "to try out different parsing strategies or trade speed for\n",
      "flexibility.\n",
      "\n",
      "</li></ol>\n",
      "<p>Beautiful Soup parses anything you give it, and does the tree\n",
      "traversal stuff for you. You can tell it \"Find all the links\", or\n",
      "\"Find all the links of class <tt>externalLink</tt>\", or \"Find all the\n",
      "links whose urls match \"foo.com\", or \"Find the table heading that's\n",
      "got bold text, then give me that text.\"\n",
      "\n",
      "</p><p>Valuable data that was once locked up in poorly-designed websites\n",
      "is now within your reach. Projects that would have taken hours take\n",
      "only minutes with Beautiful Soup.\n",
      "\n",
      "</p><p>Interested? <a href=\"bs4/doc/\">Read more.</a>\n",
      "</p><h3>Getting and giving support</h3>\n",
      "<div align=\"center\" id=\"tidelift\">\n",
      "<a href=\"https://tidelift.com/subscription/pkg/pypi-beautifulsoup4?utm_source=pypi-beautifulsoup4&amp;utm_medium=referral&amp;utm_campaign=enterprise\" target=\"_blank\">\n",
      "<span class=\"cta\">\n",
      "  Beautiful Soup for enterprise available via Tidelift\n",
      " </span>\n",
      "</a>\n",
      "</div>\n",
      "<p>If you have questions, send them to <a href=\"https://groups.google.com/forum/?fromgroups#!forum/beautifulsoup\">the discussion\n",
      "group</a>. If you find a bug, <a href=\"https://bugs.launchpad.net/beautifulsoup/\">file it on Launchpad</a>. If it's a security vulnerability, report it confidentially through <a href=\"https://tidelift.com/security\">Tidelift</a>.</p>\n",
      "<p>If you use Beautiful Soup as part of your work, please consider a <a href=\"https://tidelift.com/subscription/pkg/pypi-beautifulsoup4?utm_source=pypi-beautifulsoup4&amp;utm_medium=referral&amp;utm_campaign=website\">Tidelift subscription</a>. This will support many of the free software projects your organization depends on, not just Beautiful Soup.\n",
      "\n",
      "\n",
      "</p><p>If Beautiful Soup is useful to you on a personal level, you might like to read <a href=\"zine/\"><i>Tool Safety</i></a>, a short zine I wrote about what I learned about software development from working on Beautiful Soup. Thanks!</p>\n",
      "<a name=\"Download\"><h2>Download Beautiful Soup</h2></a>\n",
      "<p>The current release is <a href=\"bs4/download/\">Beautiful Soup\n",
      "4.11.2</a> (January 31, 2023). You can install Beautiful Soup 4 with\n",
      "<code>pip install beautifulsoup4</code>.\n",
      "\n",
      "</p><p>In Debian and Ubuntu, Beautiful Soup is available as the\n",
      "<code>python-bs4</code> package (for Python 2) or the\n",
      "<code>python3-bs4</code> package (for Python 3). In Fedora it's\n",
      "available as the <code>python-beautifulsoup4</code> package.\n",
      "\n",
      "</p><p>Beautiful Soup is licensed under the MIT license, so you can also\n",
      "download the tarball, drop the <code>bs4/</code> directory into almost\n",
      "any Python application (or into your library path) and start using it\n",
      "immediately. (If you want to do this under Python 3, you will need to\n",
      "manually convert the code using <code>2to3</code>.)\n",
      "\n",
      "</p><p>Beautiful Soup 4 works on Python 3.6 and up. Support for Python 2 was discontinued on January 1,\n",
      "2021—one year after the Python 2 sunsetting date.\n",
      "\n",
      "</p><h3>Beautiful Soup 3</h3>\n",
      "<p>Beautiful Soup 3 was the official release line of Beautiful Soup\n",
      "from May 2006 to March 2012. It does not support Python 3 and was\n",
      "discontinued or January 1, 2021—one year after the Python 2\n",
      "sunsetting date. If you have any active projects using Beautiful Soup\n",
      "3, you should migrate to Beautiful Soup 4 as part of your Python 3\n",
      "conversion.\n",
      "\n",
      "</p><p><a href=\"http://www.crummy.com/software/BeautifulSoup/bs3/documentation.html\">Here's\n",
      "the Beautiful Soup 3 documentation.</a>\n",
      "</p><p>The current and hopefully final release of Beautiful Soup 3 is <a href=\"download/3.x/BeautifulSoup-3.2.2.tar.gz\">3.2.2</a> (October 5,\n",
      "2019). It's the <code>BeautifulSoup</code> package on pip. It's also\n",
      "available as <code>python-beautifulsoup</code> in Debian and Ubuntu,\n",
      "and as <code>python-BeautifulSoup</code> in Fedora.\n",
      "\n",
      "</p><p>Once Beautiful Soup 3 is discontinued, these package names will be available for use by a more recent version of Beautiful Soup.\n",
      "\n",
      "</p><p>Beautiful Soup 3, like Beautiful Soup 4, is <a href=\"https://tidelift.com/subscription/pkg/pypi-beautifulsoup?utm_source=pypi-beautifulsoup&amp;utm_medium=referral&amp;utm_campaign=website\">supported through Tidelift</a>.</p>\n",
      "<a name=\"HallOfFame\"><h2>Hall of Fame</h2></a>\n",
      "<p>Over the years, Beautiful Soup has been used in hundreds of\n",
      "different projects. There's no way I can list them all, but I want to\n",
      "highlight a few high-profile projects. Beautiful Soup isn't what makes\n",
      "these projects interesting, but it did make their completion easier:\n",
      "\n",
      "</p><ul>\n",
      "<li><a href=\"http://www.nytimes.com/2007/10/25/arts/design/25vide.html\">\"Movable\n",
      " Type\"</a>, a work of digital art on display in the lobby of the New\n",
      " York Times building, uses Beautiful Soup to scrape news feeds.\n",
      "\n",
      "</li><li>Jiabao Lin's <a href=\"https://github.com/BlankerL/DXY-COVID-19-Crawler\">DXY-COVID-19-Crawler</a>\n",
      "uses Beautiful Soup to scrape a Chinese medical site for information\n",
      "about COVID-19, making it easier for researchers to track the spread\n",
      "of the virus. (Source: <a href=\"https://blog.tidelift.com/how-open-source-software-is-fighting-covid-19\">\"How open source software is fighting COVID-19\"</a>)\n",
      "\n",
      "</li><li>Reddit uses Beautiful Soup to <a href=\"https://github.com/reddit/reddit/blob/85f9cff3e2ab9bb8f19b96acd8da4ebacc079f04/r2/r2/lib/media.py\">parse\n",
      "a page that's been linked to and find a representative image</a>.\n",
      "\n",
      "</li><li>Alexander Harrowell uses Beautiful Soup to <a href=\"http://www.harrowell.org.uk/viktormap.html\">track the business\n",
      " activities</a> of an arms merchant.\n",
      "\n",
      "</li><li>The developers of Python itself used Beautiful Soup to <a href=\"http://svn.python.org/view/tracker/importer/\">migrate the Python\n",
      "bug tracker from Sourceforge to Roundup</a>.\n",
      "\n",
      "</li><li>The <a href=\"http://www2.ljworld.com/\">Lawrence Journal-World</a>\n",
      "uses Beautiful Soup to <a href=\"http://www.b-list.org/weblog/2010/nov/02/news-done-broke/\">gather\n",
      "statewide election results</a>.\n",
      "\n",
      "</li><li>The <a href=\"http://esrl.noaa.gov/gsd/fab/\">NOAA's Forecast\n",
      "Applications Branch</a> uses Beautiful Soup in <a href=\"http://laps.noaa.gov/topograbber/\">TopoGrabber</a>, a script for\n",
      "downloading \"high resolution USGS datasets.\"\n",
      "\n",
      "</li></ul>\n",
      "<p>If you've used Beautiful Soup in a project you'd like me to know\n",
      "about, please do send email to me or <a href=\"http://groups.google.com/group/beautifulsoup/\">the discussion\n",
      "group</a>.\n",
      "\n",
      "</p><h2>Development</h2>\n",
      "<p>Development happens at <a href=\"https://launchpad.net/beautifulsoup\">Launchpad</a>. You can <a href=\"https://code.launchpad.net/beautifulsoup/\">get the source\n",
      "code</a> or <a href=\"https://bugs.launchpad.net/beautifulsoup/\">file\n",
      "bugs</a>.</p><hr/><table><tr><td valign=\"top\">\n",
      "<p>This document (<a href=\"/source/software/BeautifulSoup/index.bhtml\">source</a>) is part of Crummy, the webspace of <a href=\"/self/\">Leonard Richardson</a> (<a href=\"/self/contact.html\">contact information</a>). It was last modified on Tuesday, January 31 2023, 18:01:14 Nowhere Standard Time and last built on Monday, February 27 2023, 11:00:01 Nowhere Standard Time.</p><p></p><table class=\"licenseText\"><tr><td><a href=\"http://creativecommons.org/licenses/by-sa/2.0/\"><img border=\"0\" src=\"/nb//resources/img/somerights20.jpg\"/></a></td><td valign=\"top\">Crummy is © 1996-2023 Leonard Richardson. Unless otherwise noted, all text licensed under a <a href=\"http://creativecommons.org/licenses/by-sa/2.0/\">Creative Commons License</a>.</td></tr></table><!--<rdf:RDF xmlns=\"http://web.resource.org/cc/\" xmlns:dc=\"http://purl.org/dc/elements/1.1/\" xmlns:rdf=\"http://www.w3.org/1999/02/22-rdf-syntax-ns#\"><Work rdf:about=\"http://www.crummy.com/\"><dc:title>Crummy: The Site</dc:title><dc:rights><Agent><dc:title>Crummy: the Site</dc:title></Agent></dc:rights><dc:format>text/html</dc:format><license rdf:resource=http://creativecommons.org/licenses/by-sa/2.0//></Work><License rdf:about=\"http://creativecommons.org/licenses/by-sa/2.0/\"></License></rdf:RDF>--></td><td valign=\"top\"><p><b>Document tree:</b>\n",
      "</p><dl><dd><a href=\"http://www.crummy.com/\">http://www.crummy.com/</a><dl><dd><a href=\"http://www.crummy.com/software/\">software/</a><dl><dd><a href=\"http://www.crummy.com/software/BeautifulSoup/\">BeautifulSoup/</a></dd></dl>\n",
      "</dd></dl>\n",
      "</dd></dl>\n",
      "\n",
      "\n",
      "Site Search:\n",
      "\n",
      "<form action=\"/search/\" method=\"get\">\n",
      "<input maxlength=\"255\" name=\"q\" type=\"text\" value=\"\"/>\n",
      "</form>\n",
      "</td>\n",
      "</tr>\n",
      "</table>\n",
      "</body>\n",
      "</html>\n",
      "\n"
     ]
    }
   ],
   "source": [
    "import bs4 #this is beautiful soup\n",
    "\n",
    "soup = bs4.BeautifulSoup(source, \"lxml\") # lxml is the parser library\n",
    "print(soup)"
   ]
  },
  {
   "cell_type": "code",
   "execution_count": 122,
   "metadata": {},
   "outputs": [
    {
     "name": "stdout",
     "output_type": "stream",
     "text": [
      "<class 'bs4.BeautifulSoup'>\n"
     ]
    }
   ],
   "source": [
    "print(type(soup))"
   ]
  },
  {
   "cell_type": "code",
   "execution_count": 123,
   "metadata": {},
   "outputs": [
    {
     "name": "stdout",
     "output_type": "stream",
     "text": [
      "<!DOCTYPE HTML PUBLIC \"-//W3C//DTD HTML 4.0 Transitional//EN\" \"http://www.w3.org/TR/REC-html40/transitional.dtd\">\n",
      "<html>\n",
      " <head>\n",
      "  <meta content=\"text/html; charset=utf-8\" http-equiv=\"Content-Type\"/>\n",
      "  <title>\n",
      "   Beautiful Soup: We called him Tortoise because he taught us.\n",
      "  </title>\n",
      "  <link href=\"mailto:leonardr@segfault.org\" rev=\"made\"/>\n",
      "  <link href=\"/nb/themes/Default/nb.css\" rel=\"stylesheet\" type=\"text/css\"/>\n",
      "  <meta content=\"Beautiful Soup: a library designed for screen-scraping HTML and XML.\" name=\"Description\"/>\n",
      "  <meta content=\"Markov Approximation 1.4 (module: leonardr)\" name=\"generator\"/>\n",
      "  <meta content=\"Leonard Richardson\" name=\"author\"/>\n",
      " </head>\n",
      " <body alink=\"red\" bgcolor=\"white\" link=\"blue\" text=\"black\" vlink=\"660066\">\n",
      "  <style>\n",
      "   #tidelift { }\n",
      "\n",
      "#tidelift a {\n",
      " border: 1px solid #666666;\n",
      " margin-left: auto;\n",
      " padding: 10px;\n",
      " text-decoration: none;\n",
      "}\n",
      "\n",
      "#tidelift .cta {\n",
      " background: url(\"tidelift.svg\") no-repeat;\n",
      " padding-left: 30px;\n",
      "}\n",
      "  </style>\n",
      "  <img align=\"right\" src=\"10.1.jpg\" width=\"250\"/>\n",
      "  <br/>\n",
      "  <p>\n",
      "   [\n",
      "   <a href=\"#Download\">\n",
      "    Download\n",
      "   </a>\n",
      "   |\n",
      "   <a href=\"bs4/doc/\">\n",
      "    Documentation\n",
      "   </a>\n",
      "   |\n",
      "   <a href=\"#HallOfFame\">\n",
      "    Hall of Fame\n",
      "   </a>\n",
      "   |\n",
      "   <a href=\"enterprise.html\">\n",
      "    For enterprise\n",
      "   </a>\n",
      "   |\n",
      "   <a href=\"https://code.launchpad.net/beautifulsoup\">\n",
      "    Source\n",
      "   </a>\n",
      "   |\n",
      "   <a href=\"https://bazaar.launchpad.net/%7Eleonardr/beautifulsoup/bs4/view/head:/CHANGELOG\">\n",
      "    Changelog\n",
      "   </a>\n",
      "   |\n",
      "   <a href=\"https://groups.google.com/forum/?fromgroups#!forum/beautifulsoup\">\n",
      "    Discussion group\n",
      "   </a>\n",
      "   |\n",
      "   <a href=\"zine/\">\n",
      "    Zine\n",
      "   </a>\n",
      "   ]\n",
      "  </p>\n",
      "  <div align=\"center\">\n",
      "   <a href=\"bs4/download/\">\n",
      "    <h1>\n",
      "     Beautiful Soup\n",
      "    </h1>\n",
      "   </a>\n",
      "  </div>\n",
      "  <p>\n",
      "   You didn't write that awful page. You're just trying to get some\n",
      "data out of it. Beautiful Soup is here to help. Since 2004, it's been\n",
      "saving programmers hours or days of work on quick-turnaround\n",
      "screen scraping projects.\n",
      "  </p>\n",
      "  <p>\n",
      "   Beautiful Soup is a Python library designed for quick turnaround\n",
      "projects like screen-scraping. Three features make it powerful:\n",
      "  </p>\n",
      "  <ol>\n",
      "   <li>\n",
      "    Beautiful Soup provides a few simple methods and Pythonic idioms\n",
      "for navigating, searching, and modifying a parse tree: a toolkit for\n",
      "dissecting a document and extracting what you need. It doesn't take\n",
      "much code to write an application\n",
      "   </li>\n",
      "   <li>\n",
      "    Beautiful Soup automatically converts incoming documents to\n",
      "Unicode and outgoing documents to UTF-8. You don't have to think\n",
      "about encodings, unless the document doesn't specify an encoding and\n",
      "Beautiful Soup can't detect one. Then you just have to specify the\n",
      "original encoding.\n",
      "   </li>\n",
      "   <li>\n",
      "    Beautiful Soup sits on top of popular Python parsers like\n",
      "    <a href=\"http://lxml.de/\">\n",
      "     lxml\n",
      "    </a>\n",
      "    and\n",
      "    <a href=\"http://code.google.com/p/html5lib/\">\n",
      "     html5lib\n",
      "    </a>\n",
      "    , allowing you\n",
      "to try out different parsing strategies or trade speed for\n",
      "flexibility.\n",
      "   </li>\n",
      "  </ol>\n",
      "  <p>\n",
      "   Beautiful Soup parses anything you give it, and does the tree\n",
      "traversal stuff for you. You can tell it \"Find all the links\", or\n",
      "\"Find all the links of class\n",
      "   <tt>\n",
      "    externalLink\n",
      "   </tt>\n",
      "   \", or \"Find all the\n",
      "links whose urls match \"foo.com\", or \"Find the table heading that's\n",
      "got bold text, then give me that text.\"\n",
      "  </p>\n",
      "  <p>\n",
      "   Valuable data that was once locked up in poorly-designed websites\n",
      "is now within your reach. Projects that would have taken hours take\n",
      "only minutes with Beautiful Soup.\n",
      "  </p>\n",
      "  <p>\n",
      "   Interested?\n",
      "   <a href=\"bs4/doc/\">\n",
      "    Read more.\n",
      "   </a>\n",
      "  </p>\n",
      "  <h3>\n",
      "   Getting and giving support\n",
      "  </h3>\n",
      "  <div align=\"center\" id=\"tidelift\">\n",
      "   <a href=\"https://tidelift.com/subscription/pkg/pypi-beautifulsoup4?utm_source=pypi-beautifulsoup4&amp;utm_medium=referral&amp;utm_campaign=enterprise\" target=\"_blank\">\n",
      "    <span class=\"cta\">\n",
      "     Beautiful Soup for enterprise available via Tidelift\n",
      "    </span>\n",
      "   </a>\n",
      "  </div>\n",
      "  <p>\n",
      "   If you have questions, send them to\n",
      "   <a href=\"https://groups.google.com/forum/?fromgroups#!forum/beautifulsoup\">\n",
      "    the discussion\n",
      "group\n",
      "   </a>\n",
      "   . If you find a bug,\n",
      "   <a href=\"https://bugs.launchpad.net/beautifulsoup/\">\n",
      "    file it on Launchpad\n",
      "   </a>\n",
      "   . If it's a security vulnerability, report it confidentially through\n",
      "   <a href=\"https://tidelift.com/security\">\n",
      "    Tidelift\n",
      "   </a>\n",
      "   .\n",
      "  </p>\n",
      "  <p>\n",
      "   If you use Beautiful Soup as part of your work, please consider a\n",
      "   <a href=\"https://tidelift.com/subscription/pkg/pypi-beautifulsoup4?utm_source=pypi-beautifulsoup4&amp;utm_medium=referral&amp;utm_campaign=website\">\n",
      "    Tidelift subscription\n",
      "   </a>\n",
      "   . This will support many of the free software projects your organization depends on, not just Beautiful Soup.\n",
      "  </p>\n",
      "  <p>\n",
      "   If Beautiful Soup is useful to you on a personal level, you might like to read\n",
      "   <a href=\"zine/\">\n",
      "    <i>\n",
      "     Tool Safety\n",
      "    </i>\n",
      "   </a>\n",
      "   , a short zine I wrote about what I learned about software development from working on Beautiful Soup. Thanks!\n",
      "  </p>\n",
      "  <a name=\"Download\">\n",
      "   <h2>\n",
      "    Download Beautiful Soup\n",
      "   </h2>\n",
      "  </a>\n",
      "  <p>\n",
      "   The current release is\n",
      "   <a href=\"bs4/download/\">\n",
      "    Beautiful Soup\n",
      "4.11.2\n",
      "   </a>\n",
      "   (January 31, 2023). You can install Beautiful Soup 4 with\n",
      "   <code>\n",
      "    pip install beautifulsoup4\n",
      "   </code>\n",
      "   .\n",
      "  </p>\n",
      "  <p>\n",
      "   In Debian and Ubuntu, Beautiful Soup is available as the\n",
      "   <code>\n",
      "    python-bs4\n",
      "   </code>\n",
      "   package (for Python 2) or the\n",
      "   <code>\n",
      "    python3-bs4\n",
      "   </code>\n",
      "   package (for Python 3). In Fedora it's\n",
      "available as the\n",
      "   <code>\n",
      "    python-beautifulsoup4\n",
      "   </code>\n",
      "   package.\n",
      "  </p>\n",
      "  <p>\n",
      "   Beautiful Soup is licensed under the MIT license, so you can also\n",
      "download the tarball, drop the\n",
      "   <code>\n",
      "    bs4/\n",
      "   </code>\n",
      "   directory into almost\n",
      "any Python application (or into your library path) and start using it\n",
      "immediately. (If you want to do this under Python 3, you will need to\n",
      "manually convert the code using\n",
      "   <code>\n",
      "    2to3\n",
      "   </code>\n",
      "   .)\n",
      "  </p>\n",
      "  <p>\n",
      "   Beautiful Soup 4 works on Python 3.6 and up. Support for Python 2 was discontinued on January 1,\n",
      "2021—one year after the Python 2 sunsetting date.\n",
      "  </p>\n",
      "  <h3>\n",
      "   Beautiful Soup 3\n",
      "  </h3>\n",
      "  <p>\n",
      "   Beautiful Soup 3 was the official release line of Beautiful Soup\n",
      "from May 2006 to March 2012. It does not support Python 3 and was\n",
      "discontinued or January 1, 2021—one year after the Python 2\n",
      "sunsetting date. If you have any active projects using Beautiful Soup\n",
      "3, you should migrate to Beautiful Soup 4 as part of your Python 3\n",
      "conversion.\n",
      "  </p>\n",
      "  <p>\n",
      "   <a href=\"http://www.crummy.com/software/BeautifulSoup/bs3/documentation.html\">\n",
      "    Here's\n",
      "the Beautiful Soup 3 documentation.\n",
      "   </a>\n",
      "  </p>\n",
      "  <p>\n",
      "   The current and hopefully final release of Beautiful Soup 3 is\n",
      "   <a href=\"download/3.x/BeautifulSoup-3.2.2.tar.gz\">\n",
      "    3.2.2\n",
      "   </a>\n",
      "   (October 5,\n",
      "2019). It's the\n",
      "   <code>\n",
      "    BeautifulSoup\n",
      "   </code>\n",
      "   package on pip. It's also\n",
      "available as\n",
      "   <code>\n",
      "    python-beautifulsoup\n",
      "   </code>\n",
      "   in Debian and Ubuntu,\n",
      "and as\n",
      "   <code>\n",
      "    python-BeautifulSoup\n",
      "   </code>\n",
      "   in Fedora.\n",
      "  </p>\n",
      "  <p>\n",
      "   Once Beautiful Soup 3 is discontinued, these package names will be available for use by a more recent version of Beautiful Soup.\n",
      "  </p>\n",
      "  <p>\n",
      "   Beautiful Soup 3, like Beautiful Soup 4, is\n",
      "   <a href=\"https://tidelift.com/subscription/pkg/pypi-beautifulsoup?utm_source=pypi-beautifulsoup&amp;utm_medium=referral&amp;utm_campaign=website\">\n",
      "    supported through Tidelift\n",
      "   </a>\n",
      "   .\n",
      "  </p>\n",
      "  <a name=\"HallOfFame\">\n",
      "   <h2>\n",
      "    Hall of Fame\n",
      "   </h2>\n",
      "  </a>\n",
      "  <p>\n",
      "   Over the years, Beautiful Soup has been used in hundreds of\n",
      "different projects. There's no way I can list them all, but I want to\n",
      "highlight a few high-profile projects. Beautiful Soup isn't what makes\n",
      "these projects interesting, but it did make their completion easier:\n",
      "  </p>\n",
      "  <ul>\n",
      "   <li>\n",
      "    <a href=\"http://www.nytimes.com/2007/10/25/arts/design/25vide.html\">\n",
      "     \"Movable\n",
      " Type\"\n",
      "    </a>\n",
      "    , a work of digital art on display in the lobby of the New\n",
      " York Times building, uses Beautiful Soup to scrape news feeds.\n",
      "   </li>\n",
      "   <li>\n",
      "    Jiabao Lin's\n",
      "    <a href=\"https://github.com/BlankerL/DXY-COVID-19-Crawler\">\n",
      "     DXY-COVID-19-Crawler\n",
      "    </a>\n",
      "    uses Beautiful Soup to scrape a Chinese medical site for information\n",
      "about COVID-19, making it easier for researchers to track the spread\n",
      "of the virus. (Source:\n",
      "    <a href=\"https://blog.tidelift.com/how-open-source-software-is-fighting-covid-19\">\n",
      "     \"How open source software is fighting COVID-19\"\n",
      "    </a>\n",
      "    )\n",
      "   </li>\n",
      "   <li>\n",
      "    Reddit uses Beautiful Soup to\n",
      "    <a href=\"https://github.com/reddit/reddit/blob/85f9cff3e2ab9bb8f19b96acd8da4ebacc079f04/r2/r2/lib/media.py\">\n",
      "     parse\n",
      "a page that's been linked to and find a representative image\n",
      "    </a>\n",
      "    .\n",
      "   </li>\n",
      "   <li>\n",
      "    Alexander Harrowell uses Beautiful Soup to\n",
      "    <a href=\"http://www.harrowell.org.uk/viktormap.html\">\n",
      "     track the business\n",
      " activities\n",
      "    </a>\n",
      "    of an arms merchant.\n",
      "   </li>\n",
      "   <li>\n",
      "    The developers of Python itself used Beautiful Soup to\n",
      "    <a href=\"http://svn.python.org/view/tracker/importer/\">\n",
      "     migrate the Python\n",
      "bug tracker from Sourceforge to Roundup\n",
      "    </a>\n",
      "    .\n",
      "   </li>\n",
      "   <li>\n",
      "    The\n",
      "    <a href=\"http://www2.ljworld.com/\">\n",
      "     Lawrence Journal-World\n",
      "    </a>\n",
      "    uses Beautiful Soup to\n",
      "    <a href=\"http://www.b-list.org/weblog/2010/nov/02/news-done-broke/\">\n",
      "     gather\n",
      "statewide election results\n",
      "    </a>\n",
      "    .\n",
      "   </li>\n",
      "   <li>\n",
      "    The\n",
      "    <a href=\"http://esrl.noaa.gov/gsd/fab/\">\n",
      "     NOAA's Forecast\n",
      "Applications Branch\n",
      "    </a>\n",
      "    uses Beautiful Soup in\n",
      "    <a href=\"http://laps.noaa.gov/topograbber/\">\n",
      "     TopoGrabber\n",
      "    </a>\n",
      "    , a script for\n",
      "downloading \"high resolution USGS datasets.\"\n",
      "   </li>\n",
      "  </ul>\n",
      "  <p>\n",
      "   If you've used Beautiful Soup in a project you'd like me to know\n",
      "about, please do send email to me or\n",
      "   <a href=\"http://groups.google.com/group/beautifulsoup/\">\n",
      "    the discussion\n",
      "group\n",
      "   </a>\n",
      "   .\n",
      "  </p>\n",
      "  <h2>\n",
      "   Development\n",
      "  </h2>\n",
      "  <p>\n",
      "   Development happens at\n",
      "   <a href=\"https://launchpad.net/beautifulsoup\">\n",
      "    Launchpad\n",
      "   </a>\n",
      "   . You can\n",
      "   <a href=\"https://code.launchpad.net/beautifulsoup/\">\n",
      "    get the source\n",
      "code\n",
      "   </a>\n",
      "   or\n",
      "   <a href=\"https://bugs.launchpad.net/beautifulsoup/\">\n",
      "    file\n",
      "bugs\n",
      "   </a>\n",
      "   .\n",
      "  </p>\n",
      "  <hr/>\n",
      "  <table>\n",
      "   <tr>\n",
      "    <td valign=\"top\">\n",
      "     <p>\n",
      "      This document (\n",
      "      <a href=\"/source/software/BeautifulSoup/index.bhtml\">\n",
      "       source\n",
      "      </a>\n",
      "      ) is part of Crummy, the webspace of\n",
      "      <a href=\"/self/\">\n",
      "       Leonard Richardson\n",
      "      </a>\n",
      "      (\n",
      "      <a href=\"/self/contact.html\">\n",
      "       contact information\n",
      "      </a>\n",
      "      ). It was last modified on Tuesday, January 31 2023, 18:01:14 Nowhere Standard Time and last built on Monday, February 27 2023, 11:00:01 Nowhere Standard Time.\n",
      "     </p>\n",
      "     <p>\n",
      "     </p>\n",
      "     <table class=\"licenseText\">\n",
      "      <tr>\n",
      "       <td>\n",
      "        <a href=\"http://creativecommons.org/licenses/by-sa/2.0/\">\n",
      "         <img border=\"0\" src=\"/nb//resources/img/somerights20.jpg\"/>\n",
      "        </a>\n",
      "       </td>\n",
      "       <td valign=\"top\">\n",
      "        Crummy is © 1996-2023 Leonard Richardson. Unless otherwise noted, all text licensed under a\n",
      "        <a href=\"http://creativecommons.org/licenses/by-sa/2.0/\">\n",
      "         Creative Commons License\n",
      "        </a>\n",
      "        .\n",
      "       </td>\n",
      "      </tr>\n",
      "     </table>\n",
      "     <!--<rdf:RDF xmlns=\"http://web.resource.org/cc/\" xmlns:dc=\"http://purl.org/dc/elements/1.1/\" xmlns:rdf=\"http://www.w3.org/1999/02/22-rdf-syntax-ns#\"><Work rdf:about=\"http://www.crummy.com/\"><dc:title>Crummy: The Site</dc:title><dc:rights><Agent><dc:title>Crummy: the Site</dc:title></Agent></dc:rights><dc:format>text/html</dc:format><license rdf:resource=http://creativecommons.org/licenses/by-sa/2.0//></Work><License rdf:about=\"http://creativecommons.org/licenses/by-sa/2.0/\"></License></rdf:RDF>-->\n",
      "    </td>\n",
      "    <td valign=\"top\">\n",
      "     <p>\n",
      "      <b>\n",
      "       Document tree:\n",
      "      </b>\n",
      "     </p>\n",
      "     <dl>\n",
      "      <dd>\n",
      "       <a href=\"http://www.crummy.com/\">\n",
      "        http://www.crummy.com/\n",
      "       </a>\n",
      "       <dl>\n",
      "        <dd>\n",
      "         <a href=\"http://www.crummy.com/software/\">\n",
      "          software/\n",
      "         </a>\n",
      "         <dl>\n",
      "          <dd>\n",
      "           <a href=\"http://www.crummy.com/software/BeautifulSoup/\">\n",
      "            BeautifulSoup/\n",
      "           </a>\n",
      "          </dd>\n",
      "         </dl>\n",
      "        </dd>\n",
      "       </dl>\n",
      "      </dd>\n",
      "     </dl>\n",
      "     Site Search:\n",
      "     <form action=\"/search/\" method=\"get\">\n",
      "      <input maxlength=\"255\" name=\"q\" type=\"text\" value=\"\"/>\n",
      "     </form>\n",
      "    </td>\n",
      "   </tr>\n",
      "  </table>\n",
      " </body>\n",
      "</html>\n",
      "\n"
     ]
    }
   ],
   "source": [
    "print(soup.prettify())"
   ]
  },
  {
   "cell_type": "code",
   "execution_count": 124,
   "metadata": {},
   "outputs": [
    {
     "data": {
      "text/plain": "<h1>Beautiful Soup</h1>"
     },
     "execution_count": 124,
     "metadata": {},
     "output_type": "execute_result"
    }
   ],
   "source": [
    "header = soup.find('h1') # or .find_all() to get a list of all h1 headers\n",
    "header"
   ]
  },
  {
   "cell_type": "code",
   "execution_count": 125,
   "metadata": {},
   "outputs": [
    {
     "data": {
      "text/plain": "'Beautiful Soup'"
     },
     "execution_count": 125,
     "metadata": {},
     "output_type": "execute_result"
    }
   ],
   "source": [
    "header.text"
   ]
  },
  {
   "cell_type": "markdown",
   "metadata": {},
   "source": [
    "<span style=\"color:red\">How would I extract just the first paragraph?</span>"
   ]
  },
  {
   "cell_type": "code",
   "execution_count": 126,
   "metadata": {},
   "outputs": [
    {
     "data": {
      "text/plain": "[<a href=\"#Download\">Download</a>,\n <a href=\"bs4/doc/\">Documentation</a>,\n <a href=\"#HallOfFame\">Hall of Fame</a>,\n <a href=\"enterprise.html\">For enterprise</a>,\n <a href=\"https://code.launchpad.net/beautifulsoup\">Source</a>,\n <a href=\"https://bazaar.launchpad.net/%7Eleonardr/beautifulsoup/bs4/view/head:/CHANGELOG\">Changelog</a>,\n <a href=\"https://groups.google.com/forum/?fromgroups#!forum/beautifulsoup\">Discussion group</a>,\n <a href=\"zine/\">Zine</a>,\n <a href=\"bs4/download/\"><h1>Beautiful Soup</h1></a>,\n <a href=\"http://lxml.de/\">lxml</a>,\n <a href=\"http://code.google.com/p/html5lib/\">html5lib</a>,\n <a href=\"bs4/doc/\">Read more.</a>,\n <a href=\"https://tidelift.com/subscription/pkg/pypi-beautifulsoup4?utm_source=pypi-beautifulsoup4&amp;utm_medium=referral&amp;utm_campaign=enterprise\" target=\"_blank\">\n <span class=\"cta\">\n   Beautiful Soup for enterprise available via Tidelift\n  </span>\n </a>,\n <a href=\"https://groups.google.com/forum/?fromgroups#!forum/beautifulsoup\">the discussion\n group</a>,\n <a href=\"https://bugs.launchpad.net/beautifulsoup/\">file it on Launchpad</a>,\n <a href=\"https://tidelift.com/security\">Tidelift</a>,\n <a href=\"https://tidelift.com/subscription/pkg/pypi-beautifulsoup4?utm_source=pypi-beautifulsoup4&amp;utm_medium=referral&amp;utm_campaign=website\">Tidelift subscription</a>,\n <a href=\"zine/\"><i>Tool Safety</i></a>,\n <a name=\"Download\"><h2>Download Beautiful Soup</h2></a>,\n <a href=\"bs4/download/\">Beautiful Soup\n 4.11.2</a>,\n <a href=\"http://www.crummy.com/software/BeautifulSoup/bs3/documentation.html\">Here's\n the Beautiful Soup 3 documentation.</a>,\n <a href=\"download/3.x/BeautifulSoup-3.2.2.tar.gz\">3.2.2</a>,\n <a href=\"https://tidelift.com/subscription/pkg/pypi-beautifulsoup?utm_source=pypi-beautifulsoup&amp;utm_medium=referral&amp;utm_campaign=website\">supported through Tidelift</a>,\n <a name=\"HallOfFame\"><h2>Hall of Fame</h2></a>,\n <a href=\"http://www.nytimes.com/2007/10/25/arts/design/25vide.html\">\"Movable\n  Type\"</a>,\n <a href=\"https://github.com/BlankerL/DXY-COVID-19-Crawler\">DXY-COVID-19-Crawler</a>,\n <a href=\"https://blog.tidelift.com/how-open-source-software-is-fighting-covid-19\">\"How open source software is fighting COVID-19\"</a>,\n <a href=\"https://github.com/reddit/reddit/blob/85f9cff3e2ab9bb8f19b96acd8da4ebacc079f04/r2/r2/lib/media.py\">parse\n a page that's been linked to and find a representative image</a>,\n <a href=\"http://www.harrowell.org.uk/viktormap.html\">track the business\n  activities</a>,\n <a href=\"http://svn.python.org/view/tracker/importer/\">migrate the Python\n bug tracker from Sourceforge to Roundup</a>,\n <a href=\"http://www2.ljworld.com/\">Lawrence Journal-World</a>,\n <a href=\"http://www.b-list.org/weblog/2010/nov/02/news-done-broke/\">gather\n statewide election results</a>,\n <a href=\"http://esrl.noaa.gov/gsd/fab/\">NOAA's Forecast\n Applications Branch</a>,\n <a href=\"http://laps.noaa.gov/topograbber/\">TopoGrabber</a>,\n <a href=\"http://groups.google.com/group/beautifulsoup/\">the discussion\n group</a>,\n <a href=\"https://launchpad.net/beautifulsoup\">Launchpad</a>,\n <a href=\"https://code.launchpad.net/beautifulsoup/\">get the source\n code</a>,\n <a href=\"https://bugs.launchpad.net/beautifulsoup/\">file\n bugs</a>,\n <a href=\"/source/software/BeautifulSoup/index.bhtml\">source</a>,\n <a href=\"/self/\">Leonard Richardson</a>,\n <a href=\"/self/contact.html\">contact information</a>,\n <a href=\"http://creativecommons.org/licenses/by-sa/2.0/\"><img border=\"0\" src=\"/nb//resources/img/somerights20.jpg\"/></a>,\n <a href=\"http://creativecommons.org/licenses/by-sa/2.0/\">Creative Commons License</a>,\n <a href=\"http://www.crummy.com/\">http://www.crummy.com/</a>,\n <a href=\"http://www.crummy.com/software/\">software/</a>,\n <a href=\"http://www.crummy.com/software/BeautifulSoup/\">BeautifulSoup/</a>]"
     },
     "execution_count": 126,
     "metadata": {},
     "output_type": "execute_result"
    }
   ],
   "source": [
    "# how to find all of a tag\n",
    "soup.findAll('a')"
   ]
  },
  {
   "cell_type": "code",
   "execution_count": 127,
   "metadata": {},
   "outputs": [
    {
     "name": "stdout",
     "output_type": "stream",
     "text": [
      "<a href=\"http://code.google.com/p/html5lib/\">html5lib</a>\n"
     ]
    },
    {
     "data": {
      "text/plain": "'http://code.google.com/p/html5lib/'"
     },
     "execution_count": 127,
     "metadata": {},
     "output_type": "execute_result"
    }
   ],
   "source": [
    "links = soup.find_all('a')\n",
    "a_link = links[10]\n",
    "print(a_link)\n",
    "a_link.get('href') # search within one tag for a specific attribute"
   ]
  },
  {
   "cell_type": "code",
   "execution_count": 128,
   "metadata": {},
   "outputs": [
    {
     "data": {
      "text/plain": "['#Download',\n 'bs4/doc/',\n '#HallOfFame',\n 'enterprise.html',\n 'https://code.launchpad.net/beautifulsoup',\n 'https://bazaar.launchpad.net/%7Eleonardr/beautifulsoup/bs4/view/head:/CHANGELOG',\n 'https://groups.google.com/forum/?fromgroups#!forum/beautifulsoup',\n 'zine/',\n 'bs4/download/',\n 'http://lxml.de/',\n 'http://code.google.com/p/html5lib/',\n 'bs4/doc/',\n 'https://tidelift.com/subscription/pkg/pypi-beautifulsoup4?utm_source=pypi-beautifulsoup4&utm_medium=referral&utm_campaign=enterprise',\n 'https://groups.google.com/forum/?fromgroups#!forum/beautifulsoup',\n 'https://bugs.launchpad.net/beautifulsoup/',\n 'https://tidelift.com/security',\n 'https://tidelift.com/subscription/pkg/pypi-beautifulsoup4?utm_source=pypi-beautifulsoup4&utm_medium=referral&utm_campaign=website',\n 'zine/',\n None,\n 'bs4/download/',\n 'http://www.crummy.com/software/BeautifulSoup/bs3/documentation.html',\n 'download/3.x/BeautifulSoup-3.2.2.tar.gz',\n 'https://tidelift.com/subscription/pkg/pypi-beautifulsoup?utm_source=pypi-beautifulsoup&utm_medium=referral&utm_campaign=website',\n None,\n 'http://www.nytimes.com/2007/10/25/arts/design/25vide.html',\n 'https://github.com/BlankerL/DXY-COVID-19-Crawler',\n 'https://blog.tidelift.com/how-open-source-software-is-fighting-covid-19',\n 'https://github.com/reddit/reddit/blob/85f9cff3e2ab9bb8f19b96acd8da4ebacc079f04/r2/r2/lib/media.py',\n 'http://www.harrowell.org.uk/viktormap.html',\n 'http://svn.python.org/view/tracker/importer/',\n 'http://www2.ljworld.com/',\n 'http://www.b-list.org/weblog/2010/nov/02/news-done-broke/',\n 'http://esrl.noaa.gov/gsd/fab/',\n 'http://laps.noaa.gov/topograbber/',\n 'http://groups.google.com/group/beautifulsoup/',\n 'https://launchpad.net/beautifulsoup',\n 'https://code.launchpad.net/beautifulsoup/',\n 'https://bugs.launchpad.net/beautifulsoup/',\n '/source/software/BeautifulSoup/index.bhtml',\n '/self/',\n '/self/contact.html',\n 'http://creativecommons.org/licenses/by-sa/2.0/',\n 'http://creativecommons.org/licenses/by-sa/2.0/',\n 'http://www.crummy.com/',\n 'http://www.crummy.com/software/',\n 'http://www.crummy.com/software/BeautifulSoup/']"
     },
     "execution_count": 128,
     "metadata": {},
     "output_type": "execute_result"
    }
   ],
   "source": [
    "# store all links on the page in a list\n",
    "link_list = [l.get('href') for l in soup.findAll('a')]\n",
    "link_list"
   ]
  },
  {
   "cell_type": "code",
   "execution_count": 129,
   "metadata": {},
   "outputs": [
    {
     "data": {
      "text/plain": "['https://code.launchpad.net/beautifulsoup',\n 'https://bazaar.launchpad.net/%7Eleonardr/beautifulsoup/bs4/view/head:/CHANGELOG',\n 'https://groups.google.com/forum/?fromgroups#!forum/beautifulsoup',\n 'http://lxml.de/',\n 'http://code.google.com/p/html5lib/',\n 'https://tidelift.com/subscription/pkg/pypi-beautifulsoup4?utm_source=pypi-beautifulsoup4&utm_medium=referral&utm_campaign=enterprise',\n 'https://groups.google.com/forum/?fromgroups#!forum/beautifulsoup',\n 'https://bugs.launchpad.net/beautifulsoup/',\n 'https://tidelift.com/security',\n 'https://tidelift.com/subscription/pkg/pypi-beautifulsoup4?utm_source=pypi-beautifulsoup4&utm_medium=referral&utm_campaign=website',\n 'http://www.crummy.com/software/BeautifulSoup/bs3/documentation.html',\n 'https://tidelift.com/subscription/pkg/pypi-beautifulsoup?utm_source=pypi-beautifulsoup&utm_medium=referral&utm_campaign=website',\n 'http://www.nytimes.com/2007/10/25/arts/design/25vide.html',\n 'https://github.com/BlankerL/DXY-COVID-19-Crawler',\n 'https://blog.tidelift.com/how-open-source-software-is-fighting-covid-19',\n 'https://github.com/reddit/reddit/blob/85f9cff3e2ab9bb8f19b96acd8da4ebacc079f04/r2/r2/lib/media.py',\n 'http://www.harrowell.org.uk/viktormap.html',\n 'http://svn.python.org/view/tracker/importer/',\n 'http://www2.ljworld.com/',\n 'http://www.b-list.org/weblog/2010/nov/02/news-done-broke/',\n 'http://esrl.noaa.gov/gsd/fab/',\n 'http://laps.noaa.gov/topograbber/',\n 'http://groups.google.com/group/beautifulsoup/',\n 'https://launchpad.net/beautifulsoup',\n 'https://code.launchpad.net/beautifulsoup/',\n 'https://bugs.launchpad.net/beautifulsoup/',\n 'http://creativecommons.org/licenses/by-sa/2.0/',\n 'http://creativecommons.org/licenses/by-sa/2.0/',\n 'http://www.crummy.com/',\n 'http://www.crummy.com/software/',\n 'http://www.crummy.com/software/BeautifulSoup/']"
     },
     "execution_count": 129,
     "metadata": {},
     "output_type": "execute_result"
    }
   ],
   "source": [
    "# extract all external links\n",
    "external_links = []\n",
    "\n",
    "# the loop filters out \"None\" and links that don't start with http\n",
    "for l in link_list:\n",
    "    if l is not None and l[:4] == 'http':\n",
    "        external_links.append(l)\n",
    "        \n",
    "external_links"
   ]
  },
  {
   "cell_type": "code",
   "execution_count": 130,
   "metadata": {},
   "outputs": [
    {
     "data": {
      "text/plain": "['https://code.launchpad.net/beautifulsoup',\n 'https://bazaar.launchpad.net/%7Eleonardr/beautifulsoup/bs4/view/head:/CHANGELOG',\n 'https://groups.google.com/forum/?fromgroups#!forum/beautifulsoup',\n 'http://lxml.de/',\n 'http://code.google.com/p/html5lib/',\n 'https://tidelift.com/subscription/pkg/pypi-beautifulsoup4?utm_source=pypi-beautifulsoup4&utm_medium=referral&utm_campaign=enterprise',\n 'https://groups.google.com/forum/?fromgroups#!forum/beautifulsoup',\n 'https://bugs.launchpad.net/beautifulsoup/',\n 'https://tidelift.com/security',\n 'https://tidelift.com/subscription/pkg/pypi-beautifulsoup4?utm_source=pypi-beautifulsoup4&utm_medium=referral&utm_campaign=website',\n 'http://www.crummy.com/software/BeautifulSoup/bs3/documentation.html',\n 'https://tidelift.com/subscription/pkg/pypi-beautifulsoup?utm_source=pypi-beautifulsoup&utm_medium=referral&utm_campaign=website',\n 'http://www.nytimes.com/2007/10/25/arts/design/25vide.html',\n 'https://github.com/BlankerL/DXY-COVID-19-Crawler',\n 'https://blog.tidelift.com/how-open-source-software-is-fighting-covid-19',\n 'https://github.com/reddit/reddit/blob/85f9cff3e2ab9bb8f19b96acd8da4ebacc079f04/r2/r2/lib/media.py',\n 'http://www.harrowell.org.uk/viktormap.html',\n 'http://svn.python.org/view/tracker/importer/',\n 'http://www2.ljworld.com/',\n 'http://www.b-list.org/weblog/2010/nov/02/news-done-broke/',\n 'http://esrl.noaa.gov/gsd/fab/',\n 'http://laps.noaa.gov/topograbber/',\n 'http://groups.google.com/group/beautifulsoup/',\n 'https://launchpad.net/beautifulsoup',\n 'https://code.launchpad.net/beautifulsoup/',\n 'https://bugs.launchpad.net/beautifulsoup/',\n 'http://creativecommons.org/licenses/by-sa/2.0/',\n 'http://creativecommons.org/licenses/by-sa/2.0/',\n 'http://www.crummy.com/',\n 'http://www.crummy.com/software/',\n 'http://www.crummy.com/software/BeautifulSoup/']"
     },
     "execution_count": 130,
     "metadata": {},
     "output_type": "execute_result"
    }
   ],
   "source": [
    "# the same this using list comprehension\n",
    "\n",
    "[l for l in link_list if l is not None and l.startswith('http')]"
   ]
  },
  {
   "cell_type": "markdown",
   "metadata": {},
   "source": [
    "### Scraping dynamic webpages using Selenium"
   ]
  },
  {
   "cell_type": "code",
   "execution_count": 131,
   "metadata": {},
   "outputs": [
    {
     "data": {
      "text/plain": "<IPython.core.display.HTML object>",
      "text/html": "<iframe src=https://www.worldometers.info/coronavirus/weekly-trends/ width=1000 height=400></iframe>"
     },
     "execution_count": 131,
     "metadata": {},
     "output_type": "execute_result"
    }
   ],
   "source": [
    "%%capture --no-display\n",
    "HTML('<iframe src=https://www.worldometers.info/coronavirus/weekly-trends/ width=1000 height=400></iframe>')"
   ]
  },
  {
   "cell_type": "markdown",
   "metadata": {},
   "source": [
    "What if we need information on the weekly case/death change? - Our robot must click on the Columns dropdown menu and select the required columns. We need another package called Selenium to this end."
   ]
  },
  {
   "cell_type": "code",
   "execution_count": 132,
   "metadata": {},
   "outputs": [
    {
     "name": "stdout",
     "output_type": "stream",
     "text": [
      "Defaulting to user installation because normal site-packages is not writeable\n",
      "Requirement already satisfied: selenium in c:\\users\\rahul\\appdata\\roaming\\python\\python39\\site-packages (4.2.0)\n",
      "Requirement already satisfied: trio-websocket~=0.9 in c:\\users\\rahul\\appdata\\roaming\\python\\python39\\site-packages (from selenium) (0.9.2)\n",
      "Requirement already satisfied: trio~=0.17 in c:\\users\\rahul\\appdata\\roaming\\python\\python39\\site-packages (from selenium) (0.20.0)\n",
      "Requirement already satisfied: urllib3[secure,socks]~=1.26 in c:\\programdata\\anaconda3\\lib\\site-packages (from selenium) (1.26.9)\n",
      "Requirement already satisfied: sortedcontainers in c:\\programdata\\anaconda3\\lib\\site-packages (from trio~=0.17->selenium) (2.4.0)\n",
      "Requirement already satisfied: outcome in c:\\users\\rahul\\appdata\\roaming\\python\\python39\\site-packages (from trio~=0.17->selenium) (1.1.0)\n",
      "Requirement already satisfied: cffi>=1.14 in c:\\programdata\\anaconda3\\lib\\site-packages (from trio~=0.17->selenium) (1.15.0)\n",
      "Requirement already satisfied: attrs>=19.2.0 in c:\\programdata\\anaconda3\\lib\\site-packages (from trio~=0.17->selenium) (21.4.0)\n",
      "Requirement already satisfied: sniffio in c:\\programdata\\anaconda3\\lib\\site-packages (from trio~=0.17->selenium) (1.2.0)\n",
      "Requirement already satisfied: async-generator>=1.9 in c:\\users\\rahul\\appdata\\roaming\\python\\python39\\site-packages (from trio~=0.17->selenium) (1.10)\n",
      "Requirement already satisfied: idna in c:\\programdata\\anaconda3\\lib\\site-packages (from trio~=0.17->selenium) (3.3)\n",
      "Requirement already satisfied: pycparser in c:\\programdata\\anaconda3\\lib\\site-packages (from cffi>=1.14->trio~=0.17->selenium) (2.21)\n",
      "Requirement already satisfied: wsproto>=0.14 in c:\\users\\rahul\\appdata\\roaming\\python\\python39\\site-packages (from trio-websocket~=0.9->selenium) (1.1.0)\n",
      "Requirement already satisfied: PySocks!=1.5.7,<2.0,>=1.5.6 in c:\\programdata\\anaconda3\\lib\\site-packages (from urllib3[secure,socks]~=1.26->selenium) (1.7.1)\n",
      "Requirement already satisfied: pyOpenSSL>=0.14 in c:\\programdata\\anaconda3\\lib\\site-packages (from urllib3[secure,socks]~=1.26->selenium) (21.0.0)\n",
      "Requirement already satisfied: cryptography>=1.3.4 in c:\\programdata\\anaconda3\\lib\\site-packages (from urllib3[secure,socks]~=1.26->selenium) (3.4.8)\n",
      "Requirement already satisfied: certifi in c:\\programdata\\anaconda3\\lib\\site-packages (from urllib3[secure,socks]~=1.26->selenium) (2022.9.24)\n",
      "Requirement already satisfied: six>=1.5.2 in c:\\programdata\\anaconda3\\lib\\site-packages (from pyOpenSSL>=0.14->urllib3[secure,socks]~=1.26->selenium) (1.16.0)\n",
      "Requirement already satisfied: h11<1,>=0.9.0 in c:\\users\\rahul\\appdata\\roaming\\python\\python39\\site-packages (from wsproto>=0.14->trio-websocket~=0.9->selenium) (0.13.0)\n"
     ]
    }
   ],
   "source": [
    "!pip install selenium"
   ]
  },
  {
   "cell_type": "code",
   "execution_count": 145,
   "metadata": {},
   "outputs": [],
   "source": [
    "import selenium\n",
    "from selenium import webdriver\n",
    "from bs4 import BeautifulSoup\n",
    "import time\n",
    "\n",
    "#from selenium.webdriver.chrome.options import Options\n",
    "#chrome_options = Options()\n",
    "#chrome_options.add_argument(\"--headless\")\n",
    "\n",
    "#from selenium.webdriver.common.by import By\n",
    "#from selenium.webdriver.support.ui import WebDriverWait\n",
    "#from selenium.webdriver.support import expected_conditions as EC"
   ]
  },
  {
   "cell_type": "markdown",
   "metadata": {},
   "source": [
    "1. Open the website"
   ]
  },
  {
   "cell_type": "code",
   "execution_count": 146,
   "metadata": {},
   "outputs": [
    {
     "name": "stdout",
     "output_type": "stream",
     "text": [
      "\n"
     ]
    },
    {
     "name": "stderr",
     "output_type": "stream",
     "text": [
      "[WDM] - ====== WebDriver manager ======\n",
      "[WDM] - Current google-chrome version is 110.0.5481\n",
      "[WDM] - Get LATEST chromedriver version for 110.0.5481 google-chrome\n",
      "[WDM] - Driver [C:\\Users\\rahul\\.wdm\\drivers\\chromedriver\\win32\\110.0.5481.77\\chromedriver.exe] found in cache\n"
     ]
    }
   ],
   "source": [
    "from selenium import webdriver\n",
    "from selenium.webdriver.chrome.service import Service\n",
    "from webdriver_manager.chrome import ChromeDriverManager\n",
    "\n",
    "driver = webdriver.Chrome(service=Service(ChromeDriverManager().install()))\n",
    "driver.get('https://www.worldometers.info/coronavirus/weekly-trends/')"
   ]
  },
  {
   "cell_type": "markdown",
   "metadata": {},
   "source": [
    "If this doesn't work for you, heres another way to open the website. You'll first have to install a Web Driver, for example Google Chrome:\n",
    "\n",
    "https://chromedriver.chromium.org/downloads \n",
    "\n",
    "Make sure to download the version that matches the current version of your chrome browser! Store the webdriver .exe file somewhere you can access it with a relative file path."
   ]
  },
  {
   "cell_type": "code",
   "execution_count": 147,
   "metadata": {},
   "outputs": [
    {
     "ename": "WebDriverException",
     "evalue": "Message: 'chromedriver' executable needs to be in PATH. Please see https://chromedriver.chromium.org/home\n",
     "output_type": "error",
     "traceback": [
      "\u001B[1;31m---------------------------------------------------------------------------\u001B[0m",
      "\u001B[1;31mFileNotFoundError\u001B[0m                         Traceback (most recent call last)",
      "\u001B[1;32m~\\AppData\\Roaming\\Python\\Python39\\site-packages\\selenium\\webdriver\\common\\service.py\u001B[0m in \u001B[0;36mstart\u001B[1;34m(self)\u001B[0m\n\u001B[0;32m     70\u001B[0m             \u001B[0mcmd\u001B[0m\u001B[1;33m.\u001B[0m\u001B[0mextend\u001B[0m\u001B[1;33m(\u001B[0m\u001B[0mself\u001B[0m\u001B[1;33m.\u001B[0m\u001B[0mcommand_line_args\u001B[0m\u001B[1;33m(\u001B[0m\u001B[1;33m)\u001B[0m\u001B[1;33m)\u001B[0m\u001B[1;33m\u001B[0m\u001B[1;33m\u001B[0m\u001B[0m\n\u001B[1;32m---> 71\u001B[1;33m             self.process = subprocess.Popen(cmd, env=self.env,\n\u001B[0m\u001B[0;32m     72\u001B[0m                                             \u001B[0mclose_fds\u001B[0m\u001B[1;33m=\u001B[0m\u001B[0msystem\u001B[0m\u001B[1;33m(\u001B[0m\u001B[1;33m)\u001B[0m \u001B[1;33m!=\u001B[0m \u001B[1;34m'Windows'\u001B[0m\u001B[1;33m,\u001B[0m\u001B[1;33m\u001B[0m\u001B[1;33m\u001B[0m\u001B[0m\n",
      "\u001B[1;32mC:\\ProgramData\\Anaconda3\\lib\\subprocess.py\u001B[0m in \u001B[0;36m__init__\u001B[1;34m(self, args, bufsize, executable, stdin, stdout, stderr, preexec_fn, close_fds, shell, cwd, env, universal_newlines, startupinfo, creationflags, restore_signals, start_new_session, pass_fds, user, group, extra_groups, encoding, errors, text, umask)\u001B[0m\n\u001B[0;32m    950\u001B[0m \u001B[1;33m\u001B[0m\u001B[0m\n\u001B[1;32m--> 951\u001B[1;33m             self._execute_child(args, executable, preexec_fn, close_fds,\n\u001B[0m\u001B[0;32m    952\u001B[0m                                 \u001B[0mpass_fds\u001B[0m\u001B[1;33m,\u001B[0m \u001B[0mcwd\u001B[0m\u001B[1;33m,\u001B[0m \u001B[0menv\u001B[0m\u001B[1;33m,\u001B[0m\u001B[1;33m\u001B[0m\u001B[1;33m\u001B[0m\u001B[0m\n",
      "\u001B[1;32mC:\\ProgramData\\Anaconda3\\lib\\subprocess.py\u001B[0m in \u001B[0;36m_execute_child\u001B[1;34m(self, args, executable, preexec_fn, close_fds, pass_fds, cwd, env, startupinfo, creationflags, shell, p2cread, p2cwrite, c2pread, c2pwrite, errread, errwrite, unused_restore_signals, unused_gid, unused_gids, unused_uid, unused_umask, unused_start_new_session)\u001B[0m\n\u001B[0;32m   1419\u001B[0m             \u001B[1;32mtry\u001B[0m\u001B[1;33m:\u001B[0m\u001B[1;33m\u001B[0m\u001B[1;33m\u001B[0m\u001B[0m\n\u001B[1;32m-> 1420\u001B[1;33m                 hp, ht, pid, tid = _winapi.CreateProcess(executable, args,\n\u001B[0m\u001B[0;32m   1421\u001B[0m                                          \u001B[1;31m# no special security\u001B[0m\u001B[1;33m\u001B[0m\u001B[1;33m\u001B[0m\u001B[0m\n",
      "\u001B[1;31mFileNotFoundError\u001B[0m: [WinError 2] The system cannot find the file specified",
      "\nDuring handling of the above exception, another exception occurred:\n",
      "\u001B[1;31mWebDriverException\u001B[0m                        Traceback (most recent call last)",
      "\u001B[1;32m~\\AppData\\Local\\Temp\\ipykernel_31740\\3730492576.py\u001B[0m in \u001B[0;36m<cell line: 1>\u001B[1;34m()\u001B[0m\n\u001B[1;32m----> 1\u001B[1;33m \u001B[0mdriver\u001B[0m \u001B[1;33m=\u001B[0m \u001B[0mwebdriver\u001B[0m\u001B[1;33m.\u001B[0m\u001B[0mChrome\u001B[0m\u001B[1;33m(\u001B[0m\u001B[1;34m'../Data/chromedriver/chromedriver'\u001B[0m\u001B[1;33m)\u001B[0m \u001B[1;31m# chromedriver is an .exe file, depending on your computer you may have to specify this file extension\u001B[0m\u001B[1;33m\u001B[0m\u001B[1;33m\u001B[0m\u001B[0m\n\u001B[0m\u001B[0;32m      2\u001B[0m \u001B[0mdriver\u001B[0m\u001B[1;33m.\u001B[0m\u001B[0mget\u001B[0m\u001B[1;33m(\u001B[0m\u001B[1;34m'https://www.worldometers.info/coronavirus/weekly-trends/'\u001B[0m\u001B[1;33m)\u001B[0m\u001B[1;33m\u001B[0m\u001B[1;33m\u001B[0m\u001B[0m\n",
      "\u001B[1;32m~\\AppData\\Roaming\\Python\\Python39\\site-packages\\selenium\\webdriver\\chrome\\webdriver.py\u001B[0m in \u001B[0;36m__init__\u001B[1;34m(self, executable_path, port, options, service_args, desired_capabilities, service_log_path, chrome_options, service, keep_alive)\u001B[0m\n\u001B[0;32m     68\u001B[0m             \u001B[0mservice\u001B[0m \u001B[1;33m=\u001B[0m \u001B[0mService\u001B[0m\u001B[1;33m(\u001B[0m\u001B[0mexecutable_path\u001B[0m\u001B[1;33m,\u001B[0m \u001B[0mport\u001B[0m\u001B[1;33m,\u001B[0m \u001B[0mservice_args\u001B[0m\u001B[1;33m,\u001B[0m \u001B[0mservice_log_path\u001B[0m\u001B[1;33m)\u001B[0m\u001B[1;33m\u001B[0m\u001B[1;33m\u001B[0m\u001B[0m\n\u001B[0;32m     69\u001B[0m \u001B[1;33m\u001B[0m\u001B[0m\n\u001B[1;32m---> 70\u001B[1;33m         super(WebDriver, self).__init__(DesiredCapabilities.CHROME['browserName'], \"goog\",\n\u001B[0m\u001B[0;32m     71\u001B[0m                                         \u001B[0mport\u001B[0m\u001B[1;33m,\u001B[0m \u001B[0moptions\u001B[0m\u001B[1;33m,\u001B[0m\u001B[1;33m\u001B[0m\u001B[1;33m\u001B[0m\u001B[0m\n\u001B[0;32m     72\u001B[0m                                         \u001B[0mservice_args\u001B[0m\u001B[1;33m,\u001B[0m \u001B[0mdesired_capabilities\u001B[0m\u001B[1;33m,\u001B[0m\u001B[1;33m\u001B[0m\u001B[1;33m\u001B[0m\u001B[0m\n",
      "\u001B[1;32m~\\AppData\\Roaming\\Python\\Python39\\site-packages\\selenium\\webdriver\\chromium\\webdriver.py\u001B[0m in \u001B[0;36m__init__\u001B[1;34m(self, browser_name, vendor_prefix, port, options, service_args, desired_capabilities, service_log_path, service, keep_alive)\u001B[0m\n\u001B[0;32m     87\u001B[0m \u001B[1;33m\u001B[0m\u001B[0m\n\u001B[0;32m     88\u001B[0m         \u001B[0mself\u001B[0m\u001B[1;33m.\u001B[0m\u001B[0mservice\u001B[0m \u001B[1;33m=\u001B[0m \u001B[0mservice\u001B[0m\u001B[1;33m\u001B[0m\u001B[1;33m\u001B[0m\u001B[0m\n\u001B[1;32m---> 89\u001B[1;33m         \u001B[0mself\u001B[0m\u001B[1;33m.\u001B[0m\u001B[0mservice\u001B[0m\u001B[1;33m.\u001B[0m\u001B[0mstart\u001B[0m\u001B[1;33m(\u001B[0m\u001B[1;33m)\u001B[0m\u001B[1;33m\u001B[0m\u001B[1;33m\u001B[0m\u001B[0m\n\u001B[0m\u001B[0;32m     90\u001B[0m \u001B[1;33m\u001B[0m\u001B[0m\n\u001B[0;32m     91\u001B[0m         \u001B[1;32mtry\u001B[0m\u001B[1;33m:\u001B[0m\u001B[1;33m\u001B[0m\u001B[1;33m\u001B[0m\u001B[0m\n",
      "\u001B[1;32m~\\AppData\\Roaming\\Python\\Python39\\site-packages\\selenium\\webdriver\\common\\service.py\u001B[0m in \u001B[0;36mstart\u001B[1;34m(self)\u001B[0m\n\u001B[0;32m     79\u001B[0m         \u001B[1;32mexcept\u001B[0m \u001B[0mOSError\u001B[0m \u001B[1;32mas\u001B[0m \u001B[0merr\u001B[0m\u001B[1;33m:\u001B[0m\u001B[1;33m\u001B[0m\u001B[1;33m\u001B[0m\u001B[0m\n\u001B[0;32m     80\u001B[0m             \u001B[1;32mif\u001B[0m \u001B[0merr\u001B[0m\u001B[1;33m.\u001B[0m\u001B[0merrno\u001B[0m \u001B[1;33m==\u001B[0m \u001B[0merrno\u001B[0m\u001B[1;33m.\u001B[0m\u001B[0mENOENT\u001B[0m\u001B[1;33m:\u001B[0m\u001B[1;33m\u001B[0m\u001B[1;33m\u001B[0m\u001B[0m\n\u001B[1;32m---> 81\u001B[1;33m                 raise WebDriverException(\n\u001B[0m\u001B[0;32m     82\u001B[0m                     \"'%s' executable needs to be in PATH. %s\" % (\n\u001B[0;32m     83\u001B[0m                         os.path.basename(self.path), self.start_error_message)\n",
      "\u001B[1;31mWebDriverException\u001B[0m: Message: 'chromedriver' executable needs to be in PATH. Please see https://chromedriver.chromium.org/home\n"
     ]
    }
   ],
   "source": [
    "%%capture --no-display\n",
    "driver = webdriver.Chrome('../Data/chromedriver/chromedriver') # chromedriver is an .exe file, depending on your computer you may have to specify this file extension\n",
    "driver.get('https://www.worldometers.info/coronavirus/weekly-trends/')"
   ]
  },
  {
   "cell_type": "markdown",
   "metadata": {},
   "source": [
    "2. Select the dropdown menu"
   ]
  },
  {
   "cell_type": "code",
   "execution_count": 148,
   "metadata": {},
   "outputs": [
    {
     "name": "stdout",
     "output_type": "stream",
     "text": [
      "Columns\n"
     ]
    }
   ],
   "source": [
    "from selenium.webdriver.common.by import By\n",
    "\n",
    "element = driver.find_element(By.CLASS_NAME,'dropdown-toggle')\n",
    "print(element.text) # '.text' identifies whats on the website so check to make sure it's right"
   ]
  },
  {
   "cell_type": "markdown",
   "metadata": {},
   "source": [
    "3. Click on the dropdown menu"
   ]
  },
  {
   "cell_type": "code",
   "execution_count": 151,
   "metadata": {},
   "outputs": [
    {
     "data": {
      "text/plain": "'Cases in the last 7 days\\nCases in the preceding 7 days\\nWeekly Case % Change\\nCases in the last 7 days/1M pop\\nDeaths in the last 7 days\\nDeaths in the preceding 7 days\\nWeekly Death % Change\\nDeaths in the last 7 days/1M pop\\nWeekly Case Change\\nWeekly Case Change/1M pop\\nWeekly Deaths Change\\nWeekly Deaths Change/1M pop\\nPopulation'"
     },
     "execution_count": 151,
     "metadata": {},
     "output_type": "execute_result"
    }
   ],
   "source": [
    "element = driver.find_element(By.CLASS_NAME,'dropdown-toggle')\n",
    "\n",
    "time.sleep(2) # pause to ensure that the website has fully opened, sometimes selenium is too fast\n",
    "element.click()\n",
    "time.sleep(2)\n",
    "\n",
    "element = driver.find_element(By.ID,'colsDrop')\n",
    "element.text"
   ]
  },
  {
   "cell_type": "code",
   "execution_count": 152,
   "metadata": {},
   "outputs": [
    {
     "data": {
      "text/plain": "'\\n\\n            <li><div class=\"checkbox\"><label for=\"column_2\"><input id=\"column_2\" checked=\"\" type=\"checkbox\" class=\"toggle-vis\" data-column=\"2\">Cases in the last 7 days</label></div></li><li><div class=\"checkbox\"><label for=\"column_3\"><input id=\"column_3\" checked=\"\" type=\"checkbox\" class=\"toggle-vis\" data-column=\"3\">Cases in the preceding  7 days</label></div></li><li><div class=\"checkbox\"><label for=\"column_4\"><input id=\"column_4\" checked=\"\" type=\"checkbox\" class=\"toggle-vis\" data-column=\"4\"><nobr>Weekly Case</nobr> <nobr>% Change</nobr></label></div></li><li><div class=\"checkbox\"><label for=\"column_5\"><input id=\"column_5\" checked=\"\" type=\"checkbox\" class=\"toggle-vis\" data-column=\"5\">Cases in the last <nobr>7 days</nobr>/1M pop</label></div></li><li><div class=\"checkbox\"><label for=\"column_6\"><input id=\"column_6\" checked=\"\" type=\"checkbox\" class=\"toggle-vis\" data-column=\"6\">Deaths in the last <nobr>7 days</nobr></label></div></li><li><div class=\"checkbox\"><label for=\"column_7\"><input id=\"column_7\" checked=\"\" type=\"checkbox\" class=\"toggle-vis\" data-column=\"7\">Deaths in the preceding <nobr>7 days</nobr></label></div></li><li><div class=\"checkbox\"><label for=\"column_8\"><input id=\"column_8\" checked=\"\" type=\"checkbox\" class=\"toggle-vis\" data-column=\"8\"><nobr>Weekly Death</nobr> <nobr>% Change</nobr></label></div></li><li><div class=\"checkbox\"><label for=\"column_9\"><input id=\"column_9\" checked=\"\" type=\"checkbox\" class=\"toggle-vis\" data-column=\"9\">Deaths in the last 7 days/1M pop</label></div></li><li><div class=\"checkbox\"><label for=\"column_10\"><input id=\"column_10\" type=\"checkbox\" class=\"toggle-vis\" data-column=\"10\">Weekly Case Change</label></div></li><li><div class=\"checkbox\"><label for=\"column_11\"><input id=\"column_11\" type=\"checkbox\" class=\"toggle-vis\" data-column=\"11\">Weekly Case Change/1M pop</label></div></li><li><div class=\"checkbox\"><label for=\"column_12\"><input id=\"column_12\" type=\"checkbox\" class=\"toggle-vis\" data-column=\"12\">Weekly Deaths Change</label></div></li><li><div class=\"checkbox\"><label for=\"column_13\"><input id=\"column_13\" type=\"checkbox\" class=\"toggle-vis\" data-column=\"13\">Weekly Deaths Change/1M pop</label></div></li><li><div class=\"checkbox\"><label for=\"column_14\"><input id=\"column_14\" checked=\"\" type=\"checkbox\" class=\"toggle-vis\" data-column=\"14\">Population</label></div></li>'"
     },
     "execution_count": 152,
     "metadata": {},
     "output_type": "execute_result"
    }
   ],
   "source": [
    "element.get_attribute('innerHTML')"
   ]
  },
  {
   "cell_type": "markdown",
   "metadata": {},
   "source": [
    "4. Click the checkboxes"
   ]
  },
  {
   "cell_type": "code",
   "execution_count": 153,
   "metadata": {},
   "outputs": [],
   "source": [
    "element1 = element.find_element(By.ID, 'column_11')\n",
    "element2 = element.find_element(By.ID, 'column_13')\n",
    "\n",
    "driver.execute_script(\"arguments[0].click();\", element1)\n",
    "driver.execute_script(\"arguments[0].click();\", element2)"
   ]
  },
  {
   "cell_type": "markdown",
   "metadata": {},
   "source": [
    "5. Download the source"
   ]
  },
  {
   "cell_type": "code",
   "execution_count": 155,
   "metadata": {},
   "outputs": [],
   "source": [
    "window_after = driver.window_handles[-1] #Change the current window to the latest one opened if necessary \n",
    "driver.switch_to.window(window_after)\n",
    "\n",
    "source = driver.page_source"
   ]
  },
  {
   "cell_type": "markdown",
   "metadata": {},
   "source": [
    "We need a pandas data frame with the countires and their weekly case change and death change. Let's process the html source / data with BeautifulSoup."
   ]
  },
  {
   "cell_type": "code",
   "execution_count": 156,
   "metadata": {},
   "outputs": [],
   "source": [
    "soup = BeautifulSoup(source)"
   ]
  },
  {
   "cell_type": "code",
   "execution_count": 157,
   "metadata": {},
   "outputs": [
    {
     "data": {
      "text/plain": "<bound method Tag.prettify of <html lang=\"en\"><!--<![endif]--><head><script src=\"https://m.addthis.com/live/red_lojson/300lo.json?si=63fc95f470861907&amp;bkl=0&amp;bl=1&amp;pdt=557&amp;sid=63fc95f470861907&amp;pub=ra-54615fa823b2af68&amp;rev=v8.28.8-wp&amp;ln=en&amp;pc=men&amp;cb=0&amp;ab=-&amp;dp=www.worldometers.info&amp;fp=coronavirus%2Fweekly-trends%2F&amp;fr=&amp;of=0&amp;pd=0&amp;irt=0&amp;vcl=0&amp;md=0&amp;ct=1&amp;tct=0&amp;abt=0&amp;cdn=0&amp;pi=1&amp;rb=0&amp;gen=100&amp;chr=UTF-8&amp;colc=1677497856495&amp;jsl=4097&amp;uvs=63fc95f4d2f5e967000&amp;skipb=1&amp;callback=addthis.cbs.jsonp__60031129107400320\" type=\"text/javascript\"></script><script src=\"https://v1.addthisedge.com/live/boost/ra-54615fa823b2af68/_ate.track.config_resp\" type=\"text/javascript\"></script><script src=\"https://pagead2.googlesyndication.com/pagead/managed/js/adsense/m202302130101/reactive_library_fy2021.js\"></script><script src=\"https://partner.googleadservices.com/gampad/cookie.js?domain=www.worldometers.info&amp;callback=_gfp_s_&amp;client=ca-pub-3701697624350410\"></script><script id=\"google_shimpl\" src=\"https://pagead2.googlesyndication.com/pagead/managed/js/adsense/m202302130101/show_ads_impl_with_ama_fy2021.js?client=ca-pub-3701697624350410&amp;plah=www.worldometers.info\"></script><script async=\"\" src=\"https://rules.quantcount.com/rules-p-Pd9JxUkvV0m7q.js\"></script><script async=\"\" src=\"https://www.google-analytics.com/analytics.js\" type=\"text/javascript\"></script><script src=\"https://z.moatads.com/addthismoatframe568911941483/moatframe.js\" type=\"text/javascript\"></script>\n<meta charset=\"utf-8\"/>\n<meta content=\"IE=edge\" http-equiv=\"X-UA-Compatible\"/>\n<meta content=\"width=device-width, initial-scale=1\" name=\"viewport\"/>\n<title>COVID-19 Weekly Trends by Country - Worldometer</title>\n<meta content=\"New cases and deaths in the last 7 days vs. the preceding week. Absolute and percentage change, weekly cases and deaths per million people in every country in the world\" name=\"description\"/>\n<!-- Favicon -->\n<link href=\"/favicon/favicon.ico\" rel=\"shortcut icon\" type=\"image/x-icon\"/>\n<link href=\"/favicon/apple-icon-57x57.png\" rel=\"apple-touch-icon\" sizes=\"57x57\"/>\n<link href=\"/favicon/apple-icon-60x60.png\" rel=\"apple-touch-icon\" sizes=\"60x60\"/>\n<link href=\"/favicon/apple-icon-72x72.png\" rel=\"apple-touch-icon\" sizes=\"72x72\"/>\n<link href=\"/favicon/apple-icon-76x76.png\" rel=\"apple-touch-icon\" sizes=\"76x76\"/>\n<link href=\"/favicon/apple-icon-114x114.png\" rel=\"apple-touch-icon\" sizes=\"114x114\"/>\n<link href=\"/favicon/apple-icon-120x120.png\" rel=\"apple-touch-icon\" sizes=\"120x120\"/>\n<link href=\"/favicon/apple-icon-144x144.png\" rel=\"apple-touch-icon\" sizes=\"144x144\"/>\n<link href=\"/favicon/apple-icon-152x152.png\" rel=\"apple-touch-icon\" sizes=\"152x152\"/>\n<link href=\"/favicon/apple-icon-180x180.png\" rel=\"apple-touch-icon\" sizes=\"180x180\"/>\n<link href=\"/favicon/android-icon-192x192.png\" rel=\"icon\" sizes=\"192x192\" type=\"image/png\"/>\n<link href=\"/favicon/favicon-32x32.png\" rel=\"icon\" sizes=\"32x32\" type=\"image/png\"/>\n<link href=\"/favicon/favicon-96x96.png\" rel=\"icon\" sizes=\"96x96\" type=\"image/png\"/>\n<link href=\"/favicon/favicon-16x16.png\" rel=\"icon\" sizes=\"16x16\" type=\"image/png\"/>\n<link href=\"/favicon/manifest.json\" rel=\"manifest\"/>\n<meta content=\"#ffffff\" name=\"msapplication-TileColor\"/>\n<meta content=\"/favicon/ms-icon-144x144.png\" name=\"msapplication-TileImage\"/>\n<meta content=\"#ffffff\" name=\"theme-color\"/>\n<!-- og image -->\n<meta content=\"http://www.worldometers.info/img/worldometers-fb.jpg\" property=\"og:image\"/>\n<!-- Bootstrap -->\n<link href=\"/css/bootstrap.min.css\" rel=\"stylesheet\"/>\n<link href=\"/wm16.css\" rel=\"stylesheet\"/>\n<!-- font awesome -->\n<link href=\"https://maxcdn.bootstrapcdn.com/font-awesome/4.4.0/css/font-awesome.min.css\" rel=\"stylesheet\"/>\n<!-- HTML5 shim and Respond.js for IE8 support of HTML5 elements and media queries -->\n<!--[if lt IE 9]>\n      <script src=\"https://oss.maxcdn.com/html5shiv/3.7.2/html5shiv.min.js\"></script>\n      <script src=\"https://oss.maxcdn.com/respond/1.4.2/respond.min.js\"></script>\n    <![endif]-->\n<!-- <script src=\"https://ajax.googleapis.com/ajax/libs/jquery/2.1.3/jquery.min.js\"></script>-->\n<script src=\"https://asset.pagefair.net/ads.min.js\"></script><script src=\"https://asset.pagefair.com/measure.min.js\"></script><script async=\"\" src=\"https://secure.quantserve.com/quant.js\" type=\"text/javascript\"></script><script async=\"\" src=\"//www.google-analytics.com/analytics.js\"></script><script async=\"\" src=\"https://a.pub.network/worldometers-info/pubfig.min.js\"></script><script src=\"/js/jquery.min.js\"></script>\n<!-- Include all compiled plugins (below), or include individual files as needed -->\n<script src=\"/js/bootstrap.min.js\"></script>\n<!-- IE10 viewport hack for Surface/desktop Windows 8 bug -->\n<script src=\"/js/ie10-viewport-bug-workaround.js\"></script>\n<!-- tables\n<link rel=\"stylesheet\" type=\"text/css\" href=\"https://cdn.datatables.net/s/bs-3.3.5/dt-1.10.10,fh-3.1.0,r-2.0.0/datatables.min.css\"/>\n<script type=\"text/javascript\" src=\"https://cdn.datatables.net/s/bs-3.3.5/dt-1.10.10,fh-3.1.0,r-2.0.0/datatables.min.js\"></script>\n\n\n<link rel=\"stylesheet\" type=\"text/css\" href=\"https://cdn.datatables.net/s/dt/dt-1.10.10,r-2.0.0/datatables.min.css\"/>\n \n<script type=\"text/javascript\" src=\"https://cdn.datatables.net/s/dt/dt-1.10.10,r-2.0.0/datatables.min.js\"></script>\n -->\n<link href=\"https://cdn.datatables.net/1.10.19/css/dataTables.bootstrap.min.css\" rel=\"stylesheet\" type=\"text/css\"/>\n<script src=\"https://cdn.datatables.net/1.10.19/js/jquery.dataTables.min.js\" type=\"text/javascript\"></script>\n<script src=\"https://cdn.datatables.net/1.10.19/js/dataTables.bootstrap.min.js\" type=\"text/javascript\"></script>\n<script class=\"init\" type=\"text/javascript\">\n\t\t$.extend( $.fn.dataTable.defaults, {\n    responsive: true\n} );\n\t\n\t$(document).ready(function() {\n    $('#example2').dataTable( {\n        \"scrollCollapse\": true,\n\t\t\"sDom\": '<\"bottom\"flp><\"clear\">',\n        \"paging\":         false\n    } );\n} );\n\t</script>\n<script class=\"init\" type=\"text/javascript\">\n\t\t$.extend( $.fn.dataTable.defaults, {\n    responsive: true\n} );\n\t\n\t$(document).ready(function() {\n    $('#table3').dataTable( {\n        \"scrollCollapse\": true,\n\t\t\t\t \"order\": [[ 1, 'desc' ]],\n\t\t\"sDom\": '<\"bottom\"flp><\"clear\">',\n        \"paging\":         false\n    } );\n} );\n\t</script>\n<script class=\"init\" type=\"text/javascript\">\n\t\t$.extend( $.fn.dataTable.defaults, {\n    responsive: true\n} );\n\t\n\t$(document).ready(function() {\n    $('#example').dataTable( {\n        \"scrollCollapse\": true,\n\t\t\"searching\": false,\n\n\t\t\"sDom\": '<\"top\">rt<\"bottom\"flp><\"clear\">',\n        \"paging\":         false\n    } );\n} );\n\t</script>\n<script class=\"init\" type=\"text/javascript\">\n$(document).ready(function() {\n\t$('#popbycountry').dataTable();\n} );\n\t</script>\n<!-- FREESTAR -->\n<script data-cfasync=\"false\" type=\"text/javascript\">\n  var freestar = freestar || {};\n  freestar.hitTime = Date.now();\n  freestar.queue = freestar.queue || [];\n  freestar.config = freestar.config || {};\n  freestar.debug = window.location.search.indexOf('fsdebug') === -1 ? false : true;\n  freestar.config.enabled_slots = [];\n  !function(a,b){var c=b.getElementsByTagName(\"script\")[0],d=b.createElement(\"script\"),e=\"https://a.pub.network/worldometers-info\";e+=freestar.debug?\"/qa/pubfig.min.js\":\"/pubfig.min.js\",d.async=!0,d.src=e,c.parentNode.insertBefore(d,c)}(window,document);\n</script>\n<style type=\"text/css\">.at-icon{fill:#fff;border:0}.at-icon-wrapper{display:inline-block;overflow:hidden}a .at-icon-wrapper{cursor:pointer}.at-rounded,.at-rounded-element .at-icon-wrapper{border-radius:12%}.at-circular,.at-circular-element .at-icon-wrapper{border-radius:50%}.addthis_32x32_style .at-icon{width:2pc;height:2pc}.addthis_24x24_style .at-icon{width:24px;height:24px}.addthis_20x20_style .at-icon{width:20px;height:20px}.addthis_16x16_style .at-icon{width:1pc;height:1pc}#at16lb{display:none;position:absolute;top:0;left:0;width:100%;height:100%;z-index:1001;background-color:#000;opacity:.001}#at_complete,#at_error,#at_share,#at_success{position:static!important}.at15dn{display:none}#at15s,#at16p,#at16p form input,#at16p label,#at16p textarea,#at_share .at_item{font-family:arial,helvetica,tahoma,verdana,sans-serif!important;font-size:9pt!important;outline-style:none;outline-width:0;line-height:1em}* html #at15s.mmborder{position:absolute!important}#at15s.mmborder{position:fixed!important;width:250px!important}#at15s{background:url(data:image/png;base64,iVBORw0KGgoAAAANSUhEUgAAAAoAAAAKCAYAAACNMs+9AAAAGXRFWHRTb2Z0d2FyZQBBZG9iZSBJbWFnZVJlYWR5ccllPAAAABtJREFUeNpiZGBgaGAgAjAxEAlGFVJHIUCAAQDcngCUgqGMqwAAAABJRU5ErkJggg==);float:none;line-height:1em;margin:0;overflow:visible;padding:5px;text-align:left;position:absolute}#at15s a,#at15s span{outline:0;direction:ltr;text-transform:none}#at15s .at-label{margin-left:5px}#at15s .at-icon-wrapper{width:1pc;height:1pc;vertical-align:middle}#at15s .at-icon{width:1pc;height:1pc}.at4-icon{display:inline-block;background-repeat:no-repeat;background-position:top left;margin:0;overflow:hidden;cursor:pointer}.addthis_16x16_style .at4-icon,.addthis_default_style .at4-icon,.at4-icon,.at-16x16{width:1pc;height:1pc;line-height:1pc;background-size:1pc!important}.addthis_32x32_style .at4-icon,.at-32x32{width:2pc;height:2pc;line-height:2pc;background-size:2pc!important}.addthis_24x24_style .at4-icon,.at-24x24{width:24px;height:24px;line-height:24px;background-size:24px!important}.addthis_20x20_style .at4-icon,.at-20x20{width:20px;height:20px;line-height:20px;background-size:20px!important}.at4-icon.circular,.circular .at4-icon,.circular.aticon{border-radius:50%}.at4-icon.rounded,.rounded .at4-icon{border-radius:4px}.at4-icon-left{float:left}#at15s .at4-icon{text-indent:20px;padding:0;overflow:visible;white-space:nowrap;background-size:1pc;width:1pc;height:1pc;background-position:top left;display:inline-block;line-height:1pc}.addthis_vertical_style .at4-icon,.at4-follow-container .at4-icon{margin-right:5px}html>body #at15s{width:250px!important}#at15s.atm{background:none!important;padding:0!important;width:10pc!important}#at15s_inner{background:#fff;border:1px solid #fff;margin:0}#at15s_head{position:relative;background:#f2f2f2;padding:4px;cursor:default;border-bottom:1px solid #e5e5e5}.at15s_head_success{background:#cafd99!important;border-bottom:1px solid #a9d582!important}.at15s_head_success a,.at15s_head_success span{color:#000!important;text-decoration:none}#at15s_brand,#at15sptx,#at16_brand{position:absolute}#at15s_brand{top:4px;right:4px}.at15s_brandx{right:20px!important}a#at15sptx{top:4px;right:4px;text-decoration:none;color:#4c4c4c;font-weight:700}#at15sptx:hover{text-decoration:underline}#at16_brand{top:5px;right:30px;cursor:default}#at_hover{padding:4px}#at_hover .at_item,#at_share .at_item{background:#fff!important;float:left!important;color:#4c4c4c!important}#at_share .at_item .at-icon-wrapper{margin-right:5px}#at_hover .at_bold{font-weight:700;color:#000!important}#at_hover .at_item{width:7pc!important;padding:2px 3px!important;margin:1px;text-decoration:none!important}#at_hover .at_item.athov,#at_hover .at_item:focus,#at_hover .at_item:hover{margin:0!important}#at_hover .at_item.athov,#at_hover .at_item:focus,#at_hover .at_item:hover,#at_share .at_item.athov,#at_share .at_item:hover{background:#f2f2f2!important;border:1px solid #e5e5e5;color:#000!important;text-decoration:none}.ipad #at_hover .at_item:focus{background:#fff!important;border:1px solid #fff}.at15t{display:block!important;height:1pc!important;line-height:1pc!important;padding-left:20px!important;background-position:0 0;text-align:left}.addthis_button,.at15t{cursor:pointer}.addthis_toolbox a.at300b,.addthis_toolbox a.at300m{width:auto}.addthis_toolbox a{margin-bottom:5px;line-height:initial}.addthis_toolbox.addthis_vertical_style{width:200px}.addthis_button_facebook_like .fb_iframe_widget{line-height:100%}.addthis_button_facebook_like iframe.fb_iframe_widget_lift{max-width:none}.addthis_toolbox a.addthis_button_counter,.addthis_toolbox a.addthis_button_facebook_like,.addthis_toolbox a.addthis_button_facebook_send,.addthis_toolbox a.addthis_button_facebook_share,.addthis_toolbox a.addthis_button_foursquare,.addthis_toolbox a.addthis_button_linkedin_counter,.addthis_toolbox a.addthis_button_pinterest_pinit,.addthis_toolbox a.addthis_button_tweet{display:inline-block}.addthis_toolbox span.addthis_follow_label{display:none}.addthis_toolbox.addthis_vertical_style span.addthis_follow_label{display:block;white-space:nowrap}.addthis_toolbox.addthis_vertical_style a{display:block}.addthis_toolbox.addthis_vertical_style.addthis_32x32_style a{line-height:2pc;height:2pc}.addthis_toolbox.addthis_vertical_style .at300bs{margin-right:4px;float:left}.addthis_toolbox.addthis_20x20_style span{line-height:20px}.addthis_toolbox.addthis_32x32_style span{line-height:2pc}.addthis_toolbox.addthis_pill_combo_style .addthis_button_compact .at15t_compact,.addthis_toolbox.addthis_pill_combo_style a{float:left}.addthis_toolbox.addthis_pill_combo_style a.addthis_button_tweet{margin-top:-2px}.addthis_toolbox.addthis_pill_combo_style .addthis_button_compact .at15t_compact{margin-right:4px}.addthis_default_style .addthis_separator{margin:0 5px;display:inline}div.atclear{clear:both}.addthis_default_style .addthis_separator,.addthis_default_style .at4-icon,.addthis_default_style .at300b,.addthis_default_style .at300bo,.addthis_default_style .at300bs,.addthis_default_style .at300m{float:left}.at300b img,.at300bo img{border:0}a.at300b .at4-icon,a.at300m .at4-icon{display:block}.addthis_default_style .at300b,.addthis_default_style .at300bo,.addthis_default_style .at300m{padding:0 2px}.at300b,.at300bo,.at300bs,.at300m{cursor:pointer}.addthis_button_facebook_like.at300b:hover,.addthis_button_facebook_like.at300bs:hover,.addthis_button_facebook_send.at300b:hover,.addthis_button_facebook_send.at300bs:hover{opacity:1}.addthis_20x20_style .at15t,.addthis_20x20_style .at300bs{overflow:hidden;display:block;height:20px!important;width:20px!important;line-height:20px!important}.addthis_32x32_style .at15t,.addthis_32x32_style .at300bs{overflow:hidden;display:block;height:2pc!important;width:2pc!important;line-height:2pc!important}.at300bs{overflow:hidden;display:block;background-position:0 0;height:1pc;width:1pc;line-height:1pc!important}.addthis_default_style .at15t_compact,.addthis_default_style .at15t_expanded{margin-right:4px}#at_share .at_item{width:123px!important;padding:4px;margin-right:2px;border:1px solid #fff}#at16p{background:url(data:image/png;base64,iVBORw0KGgoAAAANSUhEUgAAAAoAAAAKCAYAAACNMs+9AAAAGXRFWHRTb2Z0d2FyZQBBZG9iZSBJbWFnZVJlYWR5ccllPAAAABtJREFUeNpiZGBgaGAgAjAxEAlGFVJHIUCAAQDcngCUgqGMqwAAAABJRU5ErkJggg==);z-index:10000001;position:absolute;top:50%;left:50%;width:300px;padding:10px;margin:0 auto;margin-top:-185px;margin-left:-155px;font-family:arial,helvetica,tahoma,verdana,sans-serif;font-size:9pt;color:#5e5e5e}#at_share{margin:0;padding:0}#at16pt{position:relative;background:#f2f2f2;height:13px;padding:5px 10px}#at16pt a,#at16pt h4{font-weight:700}#at16pt h4{display:inline;margin:0;padding:0;font-size:9pt;color:#4c4c4c;cursor:default}#at16pt a{position:absolute;top:5px;right:10px;color:#4c4c4c;text-decoration:none;padding:2px}#at15sptx:focus,#at16pt a:focus{outline:thin dotted}#at15s #at16pf a{top:1px}#_atssh{width:1px!important;height:1px!important;border:0!important}.atm{width:10pc!important;padding:0;margin:0;line-height:9pt;letter-spacing:normal;font-family:arial,helvetica,tahoma,verdana,sans-serif;font-size:9pt;color:#444;background:url(data:image/png;base64,iVBORw0KGgoAAAANSUhEUgAAAAoAAAAKCAYAAACNMs+9AAAAGXRFWHRTb2Z0d2FyZQBBZG9iZSBJbWFnZVJlYWR5ccllPAAAABtJREFUeNpiZGBgaGAgAjAxEAlGFVJHIUCAAQDcngCUgqGMqwAAAABJRU5ErkJggg==);padding:4px}.atm-f{text-align:right;border-top:1px solid #ddd;padding:5px 8px}.atm-i{background:#fff;border:1px solid #d5d6d6;padding:0;margin:0;box-shadow:1px 1px 5px rgba(0,0,0,.15)}.atm-s{margin:0!important;padding:0!important}.atm-s a:focus{border:transparent;outline:0;transition:none}#at_hover.atm-s a,.atm-s a{display:block;text-decoration:none;padding:4px 10px;color:#235dab!important;font-weight:400;font-style:normal;transition:none}#at_hover.atm-s .at_bold{color:#235dab!important}#at_hover.atm-s a:hover,.atm-s a:hover{background:#2095f0;text-decoration:none;color:#fff!important}#at_hover.atm-s .at_bold{font-weight:700}#at_hover.atm-s a:hover .at_bold{color:#fff!important}.atm-s a .at-label{vertical-align:middle;margin-left:5px;direction:ltr}.at_PinItButton{display:block;width:40px;height:20px;padding:0;margin:0;background-image:url(//s7.addthis.com/static/t00/pinit00.png);background-repeat:no-repeat}.at_PinItButton:hover{background-position:0 -20px}.addthis_toolbox .addthis_button_pinterest_pinit{position:relative}.at-share-tbx-element .fb_iframe_widget span{vertical-align:baseline!important}#at16pf{height:auto;text-align:right;padding:4px 8px}.at-privacy-info{position:absolute;left:7px;bottom:7px;cursor:pointer;text-decoration:none;font-family:helvetica,arial,sans-serif;font-size:10px;line-height:9pt;letter-spacing:.2px;color:#666}.at-privacy-info:hover{color:#000}.body .wsb-social-share .wsb-social-share-button-vert{padding-top:0;padding-bottom:0}.body .wsb-social-share.addthis_counter_style .addthis_button_tweet.wsb-social-share-button{padding-top:40px}.body .wsb-social-share.addthis_counter_style .addthis_button_facebook_like.wsb-social-share-button{padding-top:21px}@media print{#at4-follow,#at4-share,#at4-thankyou,#at4-whatsnext,#at4m-mobile,#at15s,.at4,.at4-recommended{display:none!important}}@media screen and (max-width:400px){.at4win{width:100%}}@media screen and (max-height:700px) and (max-width:400px){.at4-thankyou-inner .at4-recommended-container{height:122px;overflow:hidden}.at4-thankyou-inner .at4-recommended .at4-recommended-item:first-child{border-bottom:1px solid #c5c5c5}}</style><style type=\"text/css\">.at-branding-logo{font-family:helvetica,arial,sans-serif;text-decoration:none;font-size:10px;display:inline-block;margin:2px 0;letter-spacing:.2px}.at-branding-logo .at-branding-icon{background-image:url(\"data:image/png;base64,iVBORw0KGgoAAAANSUhEUgAAAAoAAAAKCAMAAAC67D+PAAAAGXRFWHRTb2Z0d2FyZQBBZG9iZSBJbWFnZVJlYWR5ccllPAAAAAZQTFRF////+GlNUkcc1QAAAB1JREFUeNpiYIQDBjQmAwMmkwEM0JnY1WIxFyDAABGeAFEudiZsAAAAAElFTkSuQmCC\")}.at-branding-logo .at-branding-icon,.at-branding-logo .at-privacy-icon{display:inline-block;height:10px;width:10px;margin-left:4px;margin-right:3px;margin-bottom:-1px;background-repeat:no-repeat}.at-branding-logo .at-privacy-icon{background-image:url(\"data:image/png;base64,iVBORw0KGgoAAAANSUhEUgAAAAkAAAAKCAMAAABR24SMAAAAGXRFWHRTb2Z0d2FyZQBBZG9iZSBJbWFnZVJlYWR5ccllPAAAABhQTFRF8fr9ot/xXcfn2/P5AKva////////AKTWodjhjAAAAAd0Uk5T////////ABpLA0YAAAA6SURBVHjaJMzBDQAwCAJAQaj7b9xifV0kUKJ9ciWxlzWEWI5gMF65KUTv0VKkjVeTerqE/x7+9BVgAEXbAWI8QDcfAAAAAElFTkSuQmCC\")}.at-branding-logo span{text-decoration:none}.at-branding-logo .at-branding-addthis,.at-branding-logo .at-branding-powered-by{color:#666}.at-branding-logo .at-branding-addthis:hover{color:#333}.at-cv-with-image .at-branding-addthis,.at-cv-with-image .at-branding-addthis:hover{color:#fff}a.at-branding-logo:visited{color:initial}.at-branding-info{display:inline-block;padding:0 5px;color:#666;border:1px solid #666;border-radius:50%;font-size:10px;line-height:9pt;opacity:.7;transition:all .3s ease;text-decoration:none}.at-branding-info span{border:0;clip:rect(0 0 0 0);height:1px;margin:-1px;overflow:hidden;padding:0;position:absolute;width:1px}.at-branding-info:before{content:'i';font-family:Times New Roman}.at-branding-info:hover{color:#0780df;border-color:#0780df}</style><meta content=\"Az6AfRvI8mo7yiW5fLfj04W21t0ig6aMsGYpIqMTaX60H+b0DkO1uDr+7BrzMcimWzv/X7SXR8jI+uvbV0IJlwYAAACFeyJvcmlnaW4iOiJodHRwczovL2RvdWJsZWNsaWNrLm5ldDo0NDMiLCJmZWF0dXJlIjoiUHJpdmFjeVNhbmRib3hBZHNBUElzIiwiZXhwaXJ5IjoxNjgwNjUyNzk5LCJpc1N1YmRvbWFpbiI6dHJ1ZSwiaXNUaGlyZFBhcnR5Ijp0cnVlfQ==\" http-equiv=\"origin-trial\"/><meta content=\"A+USTya+tNvDPaxUgJooz+LaVk5hPoAxpLvSxjogX4Mk8awCTQ9iop6zJ9d5ldgU7WmHqBlnQB41LHHRFxoaBwoAAACLeyJvcmlnaW4iOiJodHRwczovL2dvb2dsZXN5bmRpY2F0aW9uLmNvbTo0NDMiLCJmZWF0dXJlIjoiUHJpdmFjeVNhbmRib3hBZHNBUElzIiwiZXhwaXJ5IjoxNjgwNjUyNzk5LCJpc1N1YmRvbWFpbiI6dHJ1ZSwiaXNUaGlyZFBhcnR5Ijp0cnVlfQ==\" http-equiv=\"origin-trial\"/><meta content=\"A7FovoGr67TUBYbnY+Z0IKoJbbmRmB8fCyirUGHavNDtD91CiGyHHSA2hDG9r9T3NjUKFi6egL3RbgTwhhcVDwUAAACLeyJvcmlnaW4iOiJodHRwczovL2dvb2dsZXRhZ3NlcnZpY2VzLmNvbTo0NDMiLCJmZWF0dXJlIjoiUHJpdmFjeVNhbmRib3hBZHNBUElzIiwiZXhwaXJ5IjoxNjgwNjUyNzk5LCJpc1N1YmRvbWFpbiI6dHJ1ZSwiaXNUaGlyZFBhcnR5Ijp0cnVlfQ==\" http-equiv=\"origin-trial\"/><link as=\"script\" href=\"https://adservice.google.hu/adsid/integrator.js?domain=www.worldometers.info\" rel=\"preload\"/><script src=\"https://adservice.google.hu/adsid/integrator.js?domain=www.worldometers.info\" type=\"text/javascript\"></script><link as=\"script\" href=\"https://adservice.google.com/adsid/integrator.js?domain=www.worldometers.info\" rel=\"preload\"/><script src=\"https://adservice.google.com/adsid/integrator.js?domain=www.worldometers.info\" type=\"text/javascript\"></script><link as=\"script\" href=\"https://adservice.google.hu/adsid/integrator.js?domain=www.worldometers.info\" rel=\"preload\"/><script src=\"https://adservice.google.hu/adsid/integrator.js?domain=www.worldometers.info\" type=\"text/javascript\"></script><link as=\"script\" href=\"https://adservice.google.com/adsid/integrator.js?domain=www.worldometers.info\" rel=\"preload\"/><script src=\"https://adservice.google.com/adsid/integrator.js?domain=www.worldometers.info\" type=\"text/javascript\"></script><style></style><script async=\"\" data-owner=\"freestar\" src=\"https://sb.scorecardresearch.com/beacon.js\" type=\"text/javascript\"></script></head>\n<body aria-hidden=\"false\" style=\"padding: 0px 0px 154px;\"><div aria-describedby=\"cookieconsent:desc\" aria-label=\"cookieconsent\" aria-live=\"polite\" class=\"cc-window cc-banner cc-type-info cc-theme-classic cc-bottom cc-color-override-1827372716\" role=\"dialog\" style=\"\"><!--googleoff: all--><span class=\"cc-message\" id=\"cookieconsent:desc\">This website uses cookies to ensure you get the best experience on our website. <a aria-label=\"learn more about cookies\" class=\"cc-link\" href=\"http://www.worldometers.info/policy/\" rel=\"noopener noreferrer nofollow\" role=\"button\" tabindex=\"0\" target=\"_blank\">Learn more</a></span><div class=\"cc-compliance\"><a aria-label=\"dismiss cookie message\" class=\"cc-btn cc-dismiss\" role=\"button\" tabindex=\"0\">Got it!</a></div><!--googleon: all--></div>\n<!-- Quantcast Choice. Consent Manager Tag v2.0 (for TCF 2.0) -->\n<!--\n<script type=\"text/javascript\" async=true>\n(function() {\n  var host = 'worldometers.info';\n  var element = document.createElement('script');\n  var firstScript = document.getElementsByTagName('script')[0];\n  var url = 'https://quantcast.mgr.consensu.org'\n    .concat('/choice/', 'Pd9JxUkvV0m7q', '/', host, '/choice.js');\n  var uspTries = 0;\n  var uspTriesLimit = 3;\n  element.async = true;\n  element.type = 'text/javascript';\n  element.src = url;\n\n  firstScript.parentNode.insertBefore(element, firstScript);\n\n  function makeStub() {\n    var TCF_LOCATOR_NAME = '__tcfapiLocator';\n    var queue = [];\n    var win = window;\n    var cmpFrame;\n\n    function addFrame() {\n      var doc = win.document;\n      var otherCMP = !!(win.frames[TCF_LOCATOR_NAME]);\n\n      if (!otherCMP) {\n        if (doc.body) {\n          var iframe = doc.createElement('iframe');\n\n          iframe.style.cssText = 'display:none';\n          iframe.name = TCF_LOCATOR_NAME;\n          doc.body.appendChild(iframe);\n        } else {\n          setTimeout(addFrame, 5);\n        }\n      }\n      return !otherCMP;\n    }\n\n    function tcfAPIHandler() {\n      var gdprApplies;\n      var args = arguments;\n\n      if (!args.length) {\n        return queue;\n      } else if (args[0] === 'setGdprApplies') {\n        if (\n          args.length > 3 &&\n          args[2] === 2 &&\n          typeof args[3] === 'boolean'\n        ) {\n          gdprApplies = args[3];\n          if (typeof args[2] === 'function') {\n            args[2]('set', true);\n          }\n        }\n      } else if (args[0] === 'ping') {\n        var retr = {\n          gdprApplies: gdprApplies,\n          cmpLoaded: false,\n          cmpStatus: 'stub'\n        };\n\n        if (typeof args[2] === 'function') {\n          args[2](retr);\n        }\n      } else {\n        queue.push(args);\n      }\n    }\n\n    function postMessageEventHandler(event) {\n      var msgIsString = typeof event.data === 'string';\n      var json = {};\n\n      try {\n        if (msgIsString) {\n          json = JSON.parse(event.data);\n        } else {\n          json = event.data;\n        }\n      } catch (ignore) {}\n\n      var payload = json.__tcfapiCall;\n\n      if (payload) {\n        window.__tcfapi(\n          payload.command,\n          payload.version,\n          function(retValue, success) {\n            var returnMsg = {\n              __tcfapiReturn: {\n                returnValue: retValue,\n                success: success,\n                callId: payload.callId\n              }\n            };\n            if (msgIsString) {\n              returnMsg = JSON.stringify(returnMsg);\n            }\n            event.source.postMessage(returnMsg, '*');\n          },\n          payload.parameter\n        );\n      }\n    }\n\n    while (win) {\n      try {\n        if (win.frames[TCF_LOCATOR_NAME]) {\n          cmpFrame = win;\n          break;\n        }\n      } catch (ignore) {}\n\n      if (win === window.top) {\n        break;\n      }\n      win = win.parent;\n    }\n    if (!cmpFrame) {\n      addFrame();\n      win.__tcfapi = tcfAPIHandler;\n      win.addEventListener('message', postMessageEventHandler, false);\n    }\n  };\n\n  makeStub();\n\n  var uspStubFunction = function() {\n    var arg = arguments;\n    if (typeof window.__uspapi !== uspStubFunction) {\n      setTimeout(function() {\n        if (typeof window.__uspapi !== 'undefined') {\n          window.__uspapi.apply(window.__uspapi, arg);\n        }\n      }, 500);\n    }\n  };\n\n  var checkIfUspIsReady = function() {\n    uspTries++;\n    if (window.__uspapi === uspStubFunction && uspTries < uspTriesLimit) {\n      console.warn('USP is not accessible');\n    } else {\n      clearInterval(uspInterval);\n    }\n  };\n\n  if (typeof window.__uspapi === 'undefined') {\n    window.__uspapi = uspStubFunction;\n    var uspInterval = setInterval(checkIfUspIsReady, 6000);\n  }\n})();\n</script>\n-->\n<!-- End Quantcast Choice. Consent Manager Tag v2.0 (for TCF 2.0) -->\n<script>\n  (function(i,s,o,g,r,a,m){i['GoogleAnalyticsObject']=r;i[r]=i[r]||function(){\n  (i[r].q=i[r].q||[]).push(arguments)},i[r].l=1*new Date();a=s.createElement(o),\n  m=s.getElementsByTagName(o)[0];a.async=1;a.src=g;m.parentNode.insertBefore(a,m)\n  })(window,document,'script','//www.google-analytics.com/analytics.js','ga');\n\n  ga('create', 'UA-1438574-2', 'auto');\n  ga('send', 'pageview');\n</script>\n<!-- GA wm old (info) -->\n<!-- Global site tag (gtag.js) - Google Analytics -->\n<script async=\"\" src=\"https://www.googletagmanager.com/gtag/js?id=UA-1438574-30\"></script>\n<script>\n  window.dataLayer = window.dataLayer || [];\n  function gtag(){dataLayer.push(arguments);}\n  gtag('js', new Date());\n\n  gtag('config', 'UA-1438574-30');\n</script>\n<!-- GDPR consent -->\n<link href=\"//cdnjs.cloudflare.com/ajax/libs/cookieconsent2/3.1.0/cookieconsent.min.css\" rel=\"stylesheet\" type=\"text/css\"/>\n<script src=\"//cdnjs.cloudflare.com/ajax/libs/cookieconsent2/3.1.0/cookieconsent.min.js\"></script>\n<script>\nwindow.addEventListener(\"load\", function(){\nwindow.cookieconsent.initialise({\n  \"palette\": {\n    \"popup\": {\n      \"background\": \"#efefef\",\n      \"text\": \"#404040\"\n    },\n    \"button\": {\n      \"background\": \"#8ec760\",\n      \"text\": \"#ffffff\"\n    }\n  },\n  \"theme\": \"classic\",\n  \"content\": {\n    \"href\": \"http://www.worldometers.info/policy/\"\n  }\n})});\n</script>\n<style type=\"text/css\">\n    .style1 {\n        color: #666666\n    }\n</style>\n<div class=\"navbar navbar-default\">\n<div class=\"container\">\n<div class=\"navbar-header\">\n<div class=\"logo\"><a class=\"navbar-brand\" href=\"/\"><img border=\"0\" src=\"/img/worldometers-logo.gif\" title=\"Worldometer\"/></a></div>\n<button class=\"navbar-toggle\" data-target=\"#navbar-main\" data-toggle=\"collapse\" type=\"button\">\n<span class=\"icon-bar\"></span>\n<span class=\"icon-bar\"></span>\n<span class=\"icon-bar\"></span>\n</button>\n</div>\n<div class=\"navbar-collapse collapse\" id=\"navbar-main\">\n<ul class=\"nav navbar-nav\">\n<li><a href=\"/coronavirus/\">Coronavirus</a></li>\n<li><a href=\"/population/\">Population</a></li>\n</ul>\n</div>\n</div>\n</div>\n<!-- MAIN -->\n<div class=\"container\" style=\"height: auto !important;\">\n<!-- TOP AD -->\n<div class=\"row\">\n<div style=\"margin-top:20px; margin-bottom:40px; text-align: left\">\n<!-- Tag ID: worldometers_728x90_970x90_320x50_Top -->\n<div align=\"left\" id=\"worldometers_728x90_970x90_320x50_Top\">\n<script data-cfasync=\"false\" type=\"text/javascript\">\n    freestar.config.enabled_slots.push({ placementName: \"worldometers_728x90_970x90_320x50_Top\", slotId: \"worldometers_728x90_970x90_320x50_Top\" });\n</script>\n</div>\n</div>\n</div>\n<!-- TOP AD -->\n<!-- MAIN  -->\n<!-- CENTER -->\n<div class=\"row\" style=\"height: auto !important;\"> <div class=\"col-md-8\" style=\"height: auto !important; min-height: 0px !important;\">\n<!-- *** CONTENT A *** -->\n<div class=\"content-inner\" style=\"height: auto !important; min-height: 0px !important;\">\n<style>\n    .number-table {\n        font-size: 20px;\n        font-weight: bold\n    }\n\n    .number-table-main {\n        font-size: 24px;\n        font-weight: bold\n    }\n</style>\n<!-- charts -->\n<script src=\"/js/highcharts.js\"></script>\n<style type=\"text/css\">\n    .source {}\n\n    .style2 {\n        color: #FF0000\n    }\n\n    .style4 {\n        color: #FF0000;\n        font-weight: bold;\n    }\n\n    .style6 {\n        font-size: 12px;\n        color: #bbb;\n        font-weight: bold;\n    }\n\n    .source1 {\n        font-size: 12px;\n        color: #bbb;\n    }\n\n    .source1 {\n        font-size: 12px;\n        color: #bbb;\n    }\n\n    .source11 {\n        font-size: 12px;\n        color: #bbb;\n    }\n\n    .source111 {}\n\n    .source1111 {\n        font-size: 12px;\n        color: #bbb;\n    }\n\n    .submaincounter-number {\n\n        font-size: 35px;\n\n    }\n</style>\n<div class=\"label-counter\" id=\"page-top\">COVID-19 Coronavirus Pandemic</div>\n<div style=\"font-size:13px; color:#999; margin-top:5px; text-align:center\">Last updated: February 27, 2023, 11:34 GMT</div>\n<div style=\"margin-top:20px; text-align:center; font-size:14px\"><a href=\"/coronavirus/\">Main (Cumulative and Daily)</a> - <a href=\"/coronavirus/worldwide-graphs/\">Graphs</a> - <a href=\"#countries\">Countries</a></div>\n<div id=\"maincounter-wrap\" style=\"margin-top:15px\">\n<h1>Weekly New Cases:</h1>\n<div class=\"maincounter-number\">\n<span style=\"color:#aaa\">837,630        </span>\n</div>\n<div class=\"submaincounter-number\">\n<span style=\"color:#aaa\">-242,541 (-22%)        </span>\n</div>\n</div>\n<div style=\"text-align:center \"><span style=\"font-size:14px;color: #ccc;\">\n        (vs preceding week)\n    </span> <a href=\"#countries\">View by Country</a></div>\n<div id=\"maincounter-wrap\" style=\"margin-top:15px\">\n<h1>Weekly New Deaths:</h1>\n<div class=\"maincounter-number\">\n<span>5,212</span>\n</div>\n<div class=\"submaincounter-number\">\n<span>-2,509 (-32%)        </span>\n</div>\n</div>\n<div id=\"maincounter-wrap\" style=\"margin-top:15px;\">\n<h1>Weekly Recovered:</h1>\n<div class=\"maincounter-number\" style=\"color:#8ACA2B\">\n<span>1,143,606</span>\n</div>\n<div class=\"submaincounter-number\" style=\"color:#CCC\">\n<span>-115,911 (-9%)        </span>\n</div>\n</div>\n<div style=\"margin-top:50px;\"></div>\n<!-- START -->\n<style>\n    .panel_flip {\n        position: relative;\n        height: 100%;\n    }\n\n    .panel_front {\n\n        height: inherit;\n        position: absolute;\n        top: 0;\n        -webkit-transform: rotateX(0deg) rotateY(0deg);\n        -moz-transform: rotateX(0deg) rotateY(0deg);\n        -webkit-transform-style: preserve-3d;\n        -moz-transform-style: preserve-3d;\n        -webkit-backface-visibility: hidden;\n        -moz-backface-visibility: hidden;\n        -webkit-transition: all .4s ease-in-out;\n        -moz-transition: all .4s ease-in-out;\n        -ms-transition: all .4s ease-in-out;\n        -o-transition: all .4s ease-in-out;\n        transition: all .4s ease-in-out;\n    }\n\n    .panel_back {\n\n        height: inherit;\n        position: absolute;\n        top: 0;\n        -webkit-transform: rotateY(-180deg);\n        -moz-transform: rotateY(-180deg);\n        -webkit-transform-style: preserve-3d;\n        -moz-transform-style: preserve-3d;\n        -webkit-backface-visibility: hidden;\n        -moz-backface-visibility: hidden;\n        -webkit-transition: all .4s ease-in-out;\n        -moz-transition: all .4s ease-in-out;\n        -ms-transition: all .4s ease-in-out;\n        -o-transition: all .4s ease-in-out;\n        transition: all .4s ease-in-out;\n    }\n\n    .panel_flip.flip .panel_front {\n\n        z-index: 900;\n        -webkit-transform: rotateY(180deg);\n        -moz-transform: rotateY(180deg);\n    }\n\n    .panel_flip.flip .panel_back {\n\n        z-index: 1000;\n        -webkit-transform: rotateX(0deg) rotateY(0deg);\n        -moz-transform: rotateX(0deg) rotateY(0deg);\n    }\n</style>\n<!-- -->\n<!-- -->\n<div style=\"margin-top:40px; margin-bottom:40px;\">\n<script async=\"\" src=\"https://pagead2.googlesyndication.com/pagead/js/adsbygoogle.js\"></script>\n<!-- wm_content_1 -->\n<ins class=\"adsbygoogle\" data-ad-client=\"ca-pub-3701697624350410\" data-ad-format=\"auto\" data-ad-slot=\"6385142158\" data-ad-status=\"filled\" data-adsbygoogle-status=\"done\" data-full-width-responsive=\"true\" style=\"display: block; height: 280px;\"><div aria-label=\"Advertisement\" id=\"aswift_0_host\" style=\"border: none; height: 280px; width: 617px; margin: 0px; padding: 0px; position: relative; visibility: visible; background-color: transparent; display: inline-block; overflow: visible;\" tabindex=\"0\" title=\"Advertisement\"><iframe allowtransparency=\"true\" data-google-container-id=\"a!1\" data-google-query-id=\"CP_41bjOtf0CFWo0wQodpFoGhw\" data-load-complete=\"true\" frameborder=\"0\" height=\"280\" hspace=\"0\" id=\"aswift_0\" marginheight=\"0\" marginwidth=\"0\" name=\"aswift_0\" sandbox=\"allow-forms allow-popups allow-popups-to-escape-sandbox allow-same-origin allow-scripts allow-top-navigation-by-user-activation\" scrolling=\"no\" src=\"https://googleads.g.doubleclick.net/pagead/ads?client=ca-pub-3701697624350410&amp;output=html&amp;h=280&amp;slotname=6385142158&amp;adk=404009915&amp;adf=4026498293&amp;pi=t.ma~as.6385142158&amp;w=617&amp;fwrn=4&amp;fwrnh=100&amp;lmt=1677497844&amp;rafmt=1&amp;format=617x280&amp;url=https%3A%2F%2Fwww.worldometers.info%2Fcoronavirus%2Fweekly-trends%2F&amp;fwr=0&amp;fwrattr=true&amp;rpe=1&amp;resp_fmts=3&amp;wgl=1&amp;uach=WyJXaW5kb3dzIiwiMTUuMC4wIiwieDg2IiwiIiwiMTEwLjAuNTQ4MS4xMDQiLFtdLGZhbHNlLG51bGwsIjY0IixbWyJDaHJvbWl1bSIsIjExMC4wLjU0ODEuMTA0Il0sWyJOb3QgQShCcmFuZCIsIjI0LjAuMC4wIl0sWyJHb29nbGUgQ2hyb21lIiwiMTEwLjAuNTQ4MS4xMDQiXV0sZmFsc2Vd&amp;dt=1677497844259&amp;bpp=41&amp;bdt=1154&amp;idt=227&amp;shv=r20230222&amp;mjsv=m202302130101&amp;ptt=9&amp;saldr=aa&amp;abxe=1&amp;correlator=1597269380089&amp;frm=20&amp;pv=2&amp;ga_vid=777601763.1677497844&amp;ga_sid=1677497845&amp;ga_hid=1479827152&amp;ga_fc=1&amp;u_tz=60&amp;u_his=2&amp;u_h=1003&amp;u_w=1504&amp;u_ah=955&amp;u_aw=1504&amp;u_cd=24&amp;u_sd=1.5&amp;dmc=8&amp;adx=40&amp;ady=920&amp;biw=1019&amp;bih=787&amp;scr_x=0&amp;scr_y=0&amp;eid=44759837%2C44777876%2C44759926%2C44759875%2C31072435%2C44774292&amp;oid=2&amp;pvsid=2260895162917914&amp;tmod=2045355057&amp;uas=0&amp;nvt=1&amp;fc=896&amp;brdim=10%2C10%2C10%2C10%2C1504%2C0%2C1050%2C936%2C1036%2C803&amp;vis=1&amp;rsz=%7C%7CEebr%7C&amp;abl=CS&amp;pfx=0&amp;fu=1152&amp;bc=31&amp;ifi=1&amp;uci=a!1&amp;btvi=1&amp;fsb=1&amp;xpc=kkmBd6Eckv&amp;p=https%3A//www.worldometers.info&amp;dtd=254\" style=\"left:0;position:absolute;top:0;border:0;width:617px;height:280px;\" vspace=\"0\" width=\"617\"></iframe></div></ins>\n<script>\n        (adsbygoogle = window.adsbygoogle || []).push({});\n    </script>\n</div>\n</div>\n</div>\n<!------------------------- ads here ---------------------->\n<div class=\"row\">\n<div class=\"col-md-8\">\n<div id=\"weekly_table\"></div>\n<h3 id=\"countries\">Weekly Trends</h3>\n<script src=\"/js/js.cookie.min.js\"></script>\n<script src=\"https://cdn.datatables.net/select/1.3.1/js/dataTables.select.min.js\"></script>\n<script>\n    var tabs = [\"today\"];\n    var cur_continent = 'All';\n    var cur_table = 'main_table_countries_today';\n\n    var tables = {};\n\n    \n    var columns = {\"Cases in the last 7 days\":2,\"Cases in the preceding  7 days\":3,\"<nobr>Weekly Case<\\/nobr> <nobr>% Change<\\/nobr>\":4,\"Cases in the last <nobr>7 days<\\/nobr>\\/1M pop\":5,\"Deaths in the last <nobr>7 days<\\/nobr>\":6,\"Deaths in the preceding <nobr>7 days<\\/nobr>\":7,\"<nobr>Weekly Death<\\/nobr> <nobr>% Change<\\/nobr>\":8,\"Deaths in the last 7 days\\/1M pop\":9,\"Weekly Case Change\":10,\"Weekly Case Change\\/1M pop\":11,\"Weekly Deaths Change\":12,\"Weekly Deaths Change\\/1M pop\":13,\"Population\":14};\n\n    $(document).ready(function() {\n\n        \n        tabs.forEach(function(val) {\n\n            $('#nav-' + val + '-tab a').click(function(e) {\n                e.preventDefault();\n                $(this).tab('show');\n            })\n\n\n            \n            tables[val] = $('#main_table_countries_' + val).DataTable({              \n                \n                \"scrollCollapse\": true,\n                \"scrollX\": true,\n                \"order\": [\n\n                    [2, 'desc']\n                ],\n                //\"dom\": '<\"top\"f><\"clear\">',\n                \"dom\": \"<'row pills_row'<'col-sm-9 col-md-9'><'col-sm-3 col-md-3'f>>\" +\n                    \"<'#ctabs-row.row'<'#continents-tab\" + val + \".w-100'>>\",\n\n                \"paging\": false,\n                columnDefs: [\n                    \n                    {\n                        \"searchable\": false,\n                        \"orderable\": false,\n                        \"targets\": 0\n                    },\n                    {\n\n                        orderSequence: [\"asc\", \"desc\"],\n                        \"targets\": [1]\n                    },\n                    {\n\n                        orderSequence: [\"desc\", \"asc\"],\n                        \"targets\": \"_all\"\n                    },\n                ],\n\n                initComplete: function(settings, json) {\n\n\n                    \n                    var ctabs = $('#ctabs').clone();\n\n                    ctabs.attr('id', 'ctabs' + val);\n                    ctabs.appendTo($('#continents-tab' + val));\n\n                    ctabs.find('a').on('click', function() {\n\n                        \n\n                        cur_continent = $(this).html();\n                        var cur_continent_original = cur_continent;\n                        if (cur_continent == 'Oceania') {\n\n                            cur_continent = 'Australia/Oceania';\n                        }\n                        if (cur_continent != 'All') {\n\n                            $('.total_row_body').hide();\n                        } else {\n                            $('.total_row_body').show();\n                        }\n                        cur_table = 'main_table_countries_' + val;\n\n                        // trigger yesterday\n                        \n                        tabs.forEach(function(tabs_val) {\n\n                           /* if (tabs_val == val) {\n                                return;\n                            }*/\n\n                            \n\n\n                            \n                            $('#ctabs' + tabs_val + ' li').removeClass('active');\n                            $('#ctabs' + tabs_val).find('a:contains(\"' + cur_continent_original + '\")').parent().addClass('active');\n\n                            $('#main_table_countries_' + tabs_val).find('.row_continent').hide();\n                            $('#main_table_countries_' + tabs_val).DataTable().draw();\n                            $('#main_table_countries_' + tabs_val).find('tr[data-continent=\"' + cur_continent + '\"]').show();\n                        });\n\n\n                        $('#main_table_countries_' + val).find('.row_continent').hide();\n                        $('#main_table_countries_' + val).DataTable().draw();\n                        $('#main_table_countries_' + val).find('tr[data-continent=\"' + cur_continent + '\"]').show();\n\n\n                    })\n\n                    ctabs.show();\n                    \n                    $('#main_table_controls_loading').hide();\n                    $('#main_table_controls').show();\n                    $('#main_table_countries_' + val).show();\n\n                    $('#main_table_countries_' + val).DataTable().draw();\n\n\n                }\n\n            });\n\n\n\n            $('#main_table_countries_' + val).on('order.dt search.dt', function() {\n\n                var $global_i = 1;\n                $('#main_table_countries_' + val).DataTable().column(0, {\n                    search: 'applied',\n                    order: 'applied'\n                }).nodes().each(function(cell, i) {\n\n\n                    if ($(cell).parent().hasClass(\"total_row_world\")) {\n\n                        cell.innerHTML = '';\n                    } else {\n                        cell.innerHTML = $global_i;\n                        $global_i++;\n                    }\n\n                    //console.log(cell);\n                });\n            }).DataTable().draw();\n\n            //$( '.main_table_countries th' ).stickybits();\n\n\n            console.log(Object.keys(columns).length+2);\n            $.fn.dataTable.ext.search.push(\n\n                function(settings, data, dataIndex) {\n\n                    // Don't filter on anything other than \"myTable\"                    \n                    /*   if (settings.nTable.id !== cur_table) {\n                           return true;\n                       }*/\n\n                    // Filtering for \"myTable\".\n                    if (cur_continent == 'All') {\n                        return true;\n                    }\n\n                    // show countries related to current continent\n                    if (\n                        data[ Object.keys(columns).length+2 ] == cur_continent\n                    ) {\n\n                        return true;\n                    } else {\n                        return false;\n                    }\n                }\n            );\n\n        });\n\n        \n\n\n\n        vcolumns = Cookies.get('vcolumns_weekly');\n\n        if (typeof vcolumns === 'undefined') {\n\n            vcolumns = {\n                10: false,\n                11: false,\n                12: false,\n                13: false\n            };\n        } else {\n            vcolumns = JSON.parse(vcolumns);\n\n            Object.keys(vcolumns).forEach(function(column_idx) {\n              \n                // 1 Case/death/test per X ppl\n                for (col_hide = 10; col_hide <= 13; col_hide++) {\n                    if (typeof vcolumns[col_hide] === 'undefined') {\n\n                        vcolumns[col_hide] = false;\n                    }\n                }\n\n            });\n        }\n\n\n\n        Object.keys(columns).forEach(function(column_name) {\n\n            var col_num = columns[column_name];\n            var checked = true;\n\n\n            if (col_num in vcolumns) {\n                if (vcolumns[col_num] === false) {\n\n                    checked = false;\n                }\n            }\n\n            // add checkbox to columns dropdown\n            $('#colsDrop').append('<li>' +\n                '<div class=\"checkbox\">' +\n                '<label for=\"column_' + col_num + '\">' +\n                '<input id=\"column_' + col_num + '\" ' + (checked ? 'checked' : '') +\n                ' type=\"checkbox\" class=\"toggle-vis\" data-column=\"' +\n                col_num + '\">' + column_name +\n                '</label>' +\n                '</div>' +\n                '</li>');\n\n            // hide columns saved in cookies\n            Object.keys(tables).forEach(function(day) {\n\n                var table = tables[day];\n                var column = table.column(col_num);\n\n                if (!checked) {\n                    $('.body_continents tr').each(function(tr) {\n\n\n                        $(this).children().eq(col_num).css('display', 'none');\n                    });\n\n                    $('.body_world').each(function(tr) {\n\n                        $(this).find('tr').children().eq(col_num).css('display', 'none');\n                    });\n\n                    try {\n                        column.visible(false);\n                    } \n                    catch(err) {\n                    }\n                                    }\n            })\n\n        })\n\n        //   show tables    \n        tabs.forEach(function(val) {\n\n            \n            $('#main_table_countries_' + val).show();\n        });\n\n\n        // show/hide columns\n        $(document).on('click', '.div_visible_columns .dropdown-menu', function(e) {\n            e.stopPropagation();\n        });\n\n        $(\".toggle-vis\").change(function(e) {\n\n            e.preventDefault();\n            //e.stopPropagation();\n\n            var t = this;\n            var column_num = $(this).attr('data-column');\n            // Get the column API object\n            Object.keys(tables).forEach(function(day) {\n\n                var table = tables[day];\n                var column = table.column(column_num);\n\n                try {\n                    if (t.checked) {\n\n\n                        $('.body_continents tr').each(function(tr) {\n\n                            $(this).children().eq(column_num).css('display', 'block');\n                        });\n\n                        $('.body_world').each(function(tr) {\n\n                            $(this).find('tr').children().eq(column_num).css('display', 'block');\n                        });\n\n\n                        vcolumns[column_num] = true;\n                        Cookies.set('vcolumns_weekly', JSON.stringify(vcolumns));\n\n                        column.visible(true);\n\n\n                    } else {\n\n                        $('.body_continents tr').each(function(tr) {\n\n\n                            $(this).children().eq(column_num).css('display', 'none');\n                        });\n\n                        $('.body_world').each(function(tr) {\n\n                            $(this).find('tr').children().eq(column_num).css('display', 'none');\n                        });\n\n\n\n                        vcolumns[column_num] = false;\n                        Cookies.set('vcolumns_weekly', JSON.stringify(vcolumns));\n\n                        column.visible(false);\n\n\n\n                    }\n                    // process child tbodies\n\n\n\n                }\n                catch(err) {\n                }\n\n            });\n\n        });\n\n        \n    });\n</script>\n<style type=\"text/css\">\n    .small_font_td {\n\n        font-size: 12px;\n    }\n\n    .total_row td {\n\n        font-weight: bold;\n        text-align: right;\n    }\n\n    .main_table_countries_div {\n        font-size: 15.5px;\n        text-align: left;\n        width: 100%;\n\n        overflow-x: unset !important;\n        overflow-y: unset !important;\n    }\n\n    .main_table_countries td {\n        border-color: #ccc !important;\n    }\n\n    .main_table_countries th {\n\n        font-size: 14px;\n        font-weight: bold;\n        border-color: #ccc !important;\n        color: #666666;\n        position: sticky !important;\n        position: -webkit-sticky !important;\n        -webkit-transform: translateZ(0) !important;\n        transform: translateZ(0) !important;\n        top: 0;\n        background: #fff;\n        box-shadow: 0 2px 2px -1px rgba(0, 0, 0, 0.4);\n    }\n\n    .main_table_countries th>* {\n\n        -webkit-transform: translateZ(0) !important;\n        transform: translateZ(0) !important;\n    }\n\n    .mt_a {\n        text-decoration: underline;\n    }\n\n    .mt_pills a {\n\n        padding: 0 !important;\n        padding-top: 4px !important;\n        padding-bottom: 4px !important;\n        padding-left: 14px !important;\n        padding-right: 14px !important;\n        text-decoration: none;\n    }\n\n    .mt_pills_c.active a {\n\n        background-color: #6C757D !important;\n        color: #fff !important;\n    }\n\n\n    .mt_buttons {\n\n        margin-bottom: 16px !important;\n\n    }\n\n\n    @media (min-width: 900px) {\n        .mt_buttons {\n\n            position: absolute;\n            top: 0px;\n        }\n\n    }\n\n\n    .total_row_world {\n\n        text-align: right !important;\n        background-color: #DFDFDF !important;\n        color: #363945 !important;\n        font-weight: normal !important;\n\n    }\n\n    .total_row_world td {\n\n        background-color: #DFDFDF;\n    }\n\n    #ctabs-row {\n        margin-left: 0;\n        margin-right: 0;\n    }\n\n    .nav-tabs {\n        border-bottom: none !important;\n\n    }\n\n    .nav-tabs a {\n        /*color: #fff !important;*/\n    }\n\n    #main_table_countries_today,\n    #main_table_countries_yesterday {\n        margin-top: 0px !important;\n    }\n\n    .pills_row {\n\n        margin-bottom: 16px !important;\n    }\n\n    #main_table_countries_today td:nth-child(1),\n    #main_table_countries_yesterday td:nth-child(1) {\n        padding-left: 3px !important;\n        padding-right: 3px !important;\n    }\n\n    /* fixed header fixes \n\n    table.dataTable {\n\n        margin-top: 0 !important;\n    }*/\n\n    .main_table_countries_div {\n        /*width: 900px;\n        margin: 0 auto;\n\n        overflow: auto !important;\n        position: relative;*/\n    }\n\n    .div_visible_columns {\n        float: right;\n        margin-left: 30px;\n    }\n\n    #colsDrop {\n\n        padding-left: 10px;\n        padding-right: 10px;\n\n\n    }\n\n    #colsDrop label {\n\n        /*font-size: 12px;*/\n    }\n\n    .lds-ellipsis {\n                margin: 0 auto;\n                display: none;\n                position: relative;\n                width: 74px;\n                height: 30px;\n\n\n    }\n\n\n    .lds-ellipsis div {\n        position: absolute;\n        top: 10px;\n        width: 13px;\n        height: 13px;\n        border-radius: 50%;\n        background: #777;\n        animation-timing-function: cubic-bezier(0, 1, 1, 0);\n    }\n\n\n    .lds-ellipsis div:nth-child(1) {\n        left: 8px;\n        animation: lds-ellipsis1 0.6s infinite;\n    }\n\n\n    .lds-ellipsis div:nth-child(2) {\n        left: 8px;\n        animation: lds-ellipsis2 0.6s infinite;\n    }\n\n\n    .lds-ellipsis div:nth-child(3) {\n        left: 32px;\n        animation: lds-ellipsis2 0.6s infinite;\n    }\n\n\n    .lds-ellipsis div:nth-child(4) {\n        left: 56px;\n        animation: lds-ellipsis3 0.6s infinite;\n    }\n\n\n    @keyframes lds-ellipsis1 {\n        0% {\n            transform: scale(0);\n        }\n\n\n        100% {\n            transform: scale(1);\n        }\n    }\n\n\n    @keyframes lds-ellipsis3 {\n        0% {\n            transform: scale(1);\n        }\n\n\n        100% {\n            transform: scale(0);\n        }\n    }\n\n\n    @keyframes lds-ellipsis2 {\n        0% {\n            transform: translate(0, 0);\n        }\n\n\n        100% {\n            transform: translate(24px, 0);\n        }\n    }\n\n</style>\n<div id=\"main_table_controls_loading\" style=\"width: 100px; display: none;\">\n<div style=\"width:100%;text-align:center; \">\n<div class=\"loading lds-ellipsis\" style=\"display:inline-block;\">\n<div></div>\n<div></div>\n<div></div>\n<div></div>\n</div>\n</div>\n</div>\n<div id=\"main_table_controls\" style=\"position: relative;\">\n<ul class=\"nav nav-pills mt_buttons\">\n<li class=\"mt_pills\" id=\"nav-main-table-tab\"><a href=\"/coronavirus/#main_table\">MAIN</a></li>\n<li aria-controls=\"nav-weekly-trends\" class=\"mt_pills active\" data-toggle=\"tab\" id=\"nav-weekly-trends\" role=\"tab\"><a href=\"#nav-today\">WEEKLY TRENDS</a></li>\n<div class=\"div_visible_columns open\">\n<button aria-expanded=\"true\" aria-haspopup=\"true\" class=\"btn btn-sm btn-secondary dropdown-toggle\" data-toggle=\"dropdown\" style=\"margin-top:-2px;font-size:14px;\" title=\"Click to hide/show columns\" type=\"button\">\n                Columns <b class=\"caret\"></b>\n</button>\n<ul class=\"dropdown-menu dropdown-menu-right\" id=\"colsDrop\">\n<li><div class=\"checkbox\"><label for=\"column_2\"><input checked=\"\" class=\"toggle-vis\" data-column=\"2\" id=\"column_2\" type=\"checkbox\"/>Cases in the last 7 days</label></div></li><li><div class=\"checkbox\"><label for=\"column_3\"><input checked=\"\" class=\"toggle-vis\" data-column=\"3\" id=\"column_3\" type=\"checkbox\"/>Cases in the preceding  7 days</label></div></li><li><div class=\"checkbox\"><label for=\"column_4\"><input checked=\"\" class=\"toggle-vis\" data-column=\"4\" id=\"column_4\" type=\"checkbox\"/><nobr>Weekly Case</nobr> <nobr>% Change</nobr></label></div></li><li><div class=\"checkbox\"><label for=\"column_5\"><input checked=\"\" class=\"toggle-vis\" data-column=\"5\" id=\"column_5\" type=\"checkbox\"/>Cases in the last <nobr>7 days</nobr>/1M pop</label></div></li><li><div class=\"checkbox\"><label for=\"column_6\"><input checked=\"\" class=\"toggle-vis\" data-column=\"6\" id=\"column_6\" type=\"checkbox\"/>Deaths in the last <nobr>7 days</nobr></label></div></li><li><div class=\"checkbox\"><label for=\"column_7\"><input checked=\"\" class=\"toggle-vis\" data-column=\"7\" id=\"column_7\" type=\"checkbox\"/>Deaths in the preceding <nobr>7 days</nobr></label></div></li><li><div class=\"checkbox\"><label for=\"column_8\"><input checked=\"\" class=\"toggle-vis\" data-column=\"8\" id=\"column_8\" type=\"checkbox\"/><nobr>Weekly Death</nobr> <nobr>% Change</nobr></label></div></li><li><div class=\"checkbox\"><label for=\"column_9\"><input checked=\"\" class=\"toggle-vis\" data-column=\"9\" id=\"column_9\" type=\"checkbox\"/>Deaths in the last 7 days/1M pop</label></div></li><li><div class=\"checkbox\"><label for=\"column_10\"><input class=\"toggle-vis\" data-column=\"10\" id=\"column_10\" type=\"checkbox\"/>Weekly Case Change</label></div></li><li><div class=\"checkbox\"><label for=\"column_11\"><input class=\"toggle-vis\" data-column=\"11\" id=\"column_11\" type=\"checkbox\"/>Weekly Case Change/1M pop</label></div></li><li><div class=\"checkbox\"><label for=\"column_12\"><input class=\"toggle-vis\" data-column=\"12\" id=\"column_12\" type=\"checkbox\"/>Weekly Deaths Change</label></div></li><li><div class=\"checkbox\"><label for=\"column_13\"><input class=\"toggle-vis\" data-column=\"13\" id=\"column_13\" type=\"checkbox\"/>Weekly Deaths Change/1M pop</label></div></li><li><div class=\"checkbox\"><label for=\"column_14\"><input checked=\"\" class=\"toggle-vis\" data-column=\"14\" id=\"column_14\" type=\"checkbox\"/>Population</label></div></li></ul>\n</div>\n</ul>\n<nav class=\"ctabs\" id=\"ctabs\" style=\"display:none\">\n<ul class=\"nav nav-tabs\" id=\"continents_buttons\">\n<li aria-controls=\"nav-all\" aria-selected=\"true\" class=\"mt_pills mt_pills_c active\" data-toggle=\"pill\" href=\"#nav-all\" id=\"nav-all-tab\" role=\"tab\"><a href='#c-all\"'>All</a></li>\n<li aria-controls=\"nav-all\" aria-selected=\"true\" class=\"mt_pills mt_pills_c\" data-toggle=\"pill\" href=\"#nav-europe\" id=\"nav-europe-tab\" role=\"tab\"><a href='#c-europe\"'>Europe</a></li>\n<li aria-controls=\"nav-all\" aria-selected=\"true\" class=\"mt_pills mt_pills_c\" data-toggle=\"pill\" href=\"#nav-na\" id=\"nav-na-tab\" role=\"tab\"><a href='#c-north-america\"'>North America</a></li>\n<li aria-controls=\"nav-all\" aria-selected=\"true\" class=\"mt_pills mt_pills_c\" data-toggle=\"pill\" href=\"#nav-asia\" id=\"nav-asia-tab\" role=\"tab\"><a href='#c-asia\"'>Asia</a></li>\n<li aria-controls=\"nav-all\" aria-selected=\"true\" class=\"mt_pills mt_pills_c\" data-toggle=\"pill\" href=\"#nav-sa\" id=\"nav-sa-tab\" role=\"tab\"><a href='#c-south-america\"'>South America</a></li>\n<li aria-controls=\"nav-all\" aria-selected=\"true\" class=\"mt_pills mt_pills_c\" data-toggle=\"pill\" href=\"#nav-africa\" id=\"nav-africa-tab\" role=\"tab\"><a href='#c-africa\"'>Africa</a></li>\n<li aria-controls=\"nav-all\" aria-selected=\"true\" class=\"mt_pills mt_pills_c\" data-toggle=\"pill\" href=\"#nav-oceania\" id=\"nav-oceania-tab\" role=\"tab\"><a href='#c-oceania\"'>Oceania</a></li>\n</ul>\n</nav>\n</div>\n<div class=\"tab-content\" id=\"nav-tabContent\">\n<div aria-labelledby=\"nav-today-tab\" class=\"tab-pane active\" id=\"nav-today\" role=\"tabpanel\">\n<div class=\"main_table_countries_div\">\n<div class=\"dataTables_wrapper form-inline dt-bootstrap no-footer\" id=\"main_table_countries_today_wrapper\"><div class=\"row pills_row\"><div class=\"col-sm-9 col-md-9\"></div><div class=\"col-sm-3 col-md-3\"><div class=\"dataTables_filter\" id=\"main_table_countries_today_filter\"><label>Search:<input aria-controls=\"main_table_countries_today\" class=\"form-control input-sm\" placeholder=\"\" type=\"search\"/></label></div></div></div><div class=\"row\" id=\"ctabs-row\"><div class=\"w-100\" id=\"continents-tabtoday\"><nav class=\"ctabs\" id=\"ctabstoday\" style=\"\">\n<ul class=\"nav nav-tabs\" id=\"continents_buttons\">\n<li aria-controls=\"nav-all\" aria-selected=\"true\" class=\"mt_pills mt_pills_c active\" data-toggle=\"pill\" href=\"#nav-all\" id=\"nav-all-tab\" role=\"tab\"><a href='#c-all\"'>All</a></li>\n<li aria-controls=\"nav-all\" aria-selected=\"true\" class=\"mt_pills mt_pills_c\" data-toggle=\"pill\" href=\"#nav-europe\" id=\"nav-europe-tab\" role=\"tab\"><a href='#c-europe\"'>Europe</a></li>\n<li aria-controls=\"nav-all\" aria-selected=\"true\" class=\"mt_pills mt_pills_c\" data-toggle=\"pill\" href=\"#nav-na\" id=\"nav-na-tab\" role=\"tab\"><a href='#c-north-america\"'>North America</a></li>\n<li aria-controls=\"nav-all\" aria-selected=\"true\" class=\"mt_pills mt_pills_c\" data-toggle=\"pill\" href=\"#nav-asia\" id=\"nav-asia-tab\" role=\"tab\"><a href='#c-asia\"'>Asia</a></li>\n<li aria-controls=\"nav-all\" aria-selected=\"true\" class=\"mt_pills mt_pills_c\" data-toggle=\"pill\" href=\"#nav-sa\" id=\"nav-sa-tab\" role=\"tab\"><a href='#c-south-america\"'>South America</a></li>\n<li aria-controls=\"nav-all\" aria-selected=\"true\" class=\"mt_pills mt_pills_c\" data-toggle=\"pill\" href=\"#nav-africa\" id=\"nav-africa-tab\" role=\"tab\"><a href='#c-africa\"'>Africa</a></li>\n<li aria-controls=\"nav-all\" aria-selected=\"true\" class=\"mt_pills mt_pills_c\" data-toggle=\"pill\" href=\"#nav-oceania\" id=\"nav-oceania-tab\" role=\"tab\"><a href='#c-oceania\"'>Oceania</a></li>\n</ul>\n</nav></div></div></div><table class=\"table table-bordered table-hover main_table_countries dataTable no-footer\" id=\"main_table_countries_today\" style=\"width: 100%; margin-top: 0px !important;\">\n<thead>\n<tr role=\"row\"><th aria-label=\"#\" class=\"sorting_disabled\" colspan=\"1\" rowspan=\"1\" style=\"width: 14.3333px;\" width=\"1%\">#</th><th aria-controls=\"main_table_countries_today\" aria-label=\"Country,Other: activate to sort column ascending\" class=\"sorting\" colspan=\"1\" rowspan=\"1\" style=\"width: 100.333px;\" tabindex=\"0\" width=\"100\">Country,<br/>Other</th><th aria-controls=\"main_table_countries_today\" aria-label=\"Cases in the last 7 days: activate to sort column ascending\" aria-sort=\"descending\" class=\"sorting_desc\" colspan=\"1\" rowspan=\"1\" style=\"width: 40.3333px;\" tabindex=\"0\" width=\"30\">Cases in the last 7 days</th><th aria-controls=\"main_table_countries_today\" aria-label=\"Cases in the preceding  7 days: activate to sort column descending\" class=\"sorting\" colspan=\"1\" rowspan=\"1\" style=\"width: 70.3333px;\" tabindex=\"0\" width=\"30\">Cases in the preceding  7 days</th><th aria-controls=\"main_table_countries_today\" aria-label=\"Weekly Case % Change: activate to sort column descending\" class=\"sorting\" colspan=\"1\" rowspan=\"1\" style=\"width: 87.3333px;\" tabindex=\"0\" width=\"30\"><nobr>Weekly Case</nobr> <nobr>% Change</nobr></th><th aria-controls=\"main_table_countries_today\" aria-label=\"Cases in the last 7 days/1M pop: activate to sort column descending\" class=\"sorting\" colspan=\"1\" rowspan=\"1\" style=\"width: 71.3333px;\" tabindex=\"0\" width=\"30\">Cases in the last <nobr>7 days</nobr>/1M pop</th><th aria-controls=\"main_table_countries_today\" aria-label=\"Deaths in the last 7 days: activate to sort column descending\" class=\"sorting\" colspan=\"1\" rowspan=\"1\" style=\"width: 49.3333px;\" tabindex=\"0\" width=\"30\">Deaths in the last <nobr>7 days</nobr></th><th aria-controls=\"main_table_countries_today\" aria-label=\"Deaths in the preceding 7 days: activate to sort column descending\" class=\"sorting\" colspan=\"1\" rowspan=\"1\" style=\"width: 70.3333px;\" tabindex=\"0\" width=\"30\">Deaths in the preceding <nobr>7 days</nobr></th><th aria-controls=\"main_table_countries_today\" aria-label=\"Weekly Death % Change: activate to sort column descending\" class=\"sorting\" colspan=\"1\" rowspan=\"1\" style=\"width: 97.3333px;\" tabindex=\"0\" width=\"30\"><nobr>Weekly Death</nobr> <nobr>% Change</nobr></th><th aria-controls=\"main_table_countries_today\" aria-label=\"Deaths in the last 7 days/1M pop: activate to sort column descending\" class=\"sorting\" colspan=\"1\" rowspan=\"1\" style=\"width: 59.3333px;\" tabindex=\"0\" width=\"30\">Deaths in the last 7 days/1M pop</th><th aria-controls=\"main_table_countries_today\" aria-label=\"Weekly Case Change/1M pop: activate to sort column descending\" class=\"sorting\" colspan=\"1\" rowspan=\"1\" style=\"width: 80.3333px;\" tabindex=\"0\" width=\"30\">Weekly Case Change/1M pop</th><th aria-controls=\"main_table_countries_today\" aria-label=\"Weekly Deaths Change/1M pop: activate to sort column descending\" class=\"sorting\" colspan=\"1\" rowspan=\"1\" style=\"width: 80.3333px;\" tabindex=\"0\" width=\"30\">Weekly Deaths Change/1M pop</th><th aria-controls=\"main_table_countries_today\" aria-label=\"Population: activate to sort column descending\" class=\"sorting\" colspan=\"1\" rowspan=\"1\" style=\"width: 80.3333px;\" tabindex=\"0\" width=\"30\">Population</th><th aria-controls=\"main_table_countries_today\" aria-label=\"Continent: activate to sort column descending\" class=\"sorting\" colspan=\"1\" rowspan=\"1\" style=\"display: none; width: 0px;\" tabindex=\"0\" width=\"30\">Continent</th></tr>\n</thead>\n<tbody>\n<tr class=\"total_row_world odd\" role=\"row\">\n<td></td>\n<td style=\"text-align:left;\">World</td>\n<td class=\"sorting_1\">837,630</td>\n<td>1,080,171</td>\n<td>-22%</td>\n<td></td>\n<td>5,212</td>\n<td>7,721</td>\n<td>-32%</td>\n<td></td>\n<td></td><td></td><td></td>\n<td data-continent=\"all\" style=\"display:none\">All</td>\n</tr><tr class=\"total_row_world row_continent even\" data-continent=\"Europe\" role=\"row\" style=\"display: none\">\n<td></td>\n<td style=\"text-align:left;\">\n<nobr>Europe</nobr>\n</td>\n<td class=\"sorting_1\">341,866</td>\n<td>358,856</td>\n<td>-5%</td>\n<td></td>\n<td>1,540</td>\n<td>2,466</td>\n<td>\n                                -38%                                </td>\n<td></td>\n<td></td><td></td><td></td>\n<td data-continent=\"Europe\" style=\"display:none;\">Europe</td>\n</tr><tr class=\"total_row_world row_continent odd\" data-continent=\"Asia\" role=\"row\" style=\"display: none\">\n<td></td>\n<td style=\"text-align:left;\">\n<nobr>Asia</nobr>\n</td>\n<td class=\"sorting_1\">284,108</td>\n<td>359,384</td>\n<td>-21%</td>\n<td></td>\n<td>1,257</td>\n<td>1,757</td>\n<td>\n                                -28%                                </td>\n<td></td>\n<td></td><td></td><td></td>\n<td data-continent=\"Asia\" style=\"display:none;\">Asia</td>\n</tr><tr class=\"total_row_world row_continent even\" data-continent=\"North America\" role=\"row\" style=\"display: none\">\n<td></td>\n<td style=\"text-align:left;\">\n<nobr>North America</nobr>\n</td>\n<td class=\"sorting_1\">132,257</td>\n<td>260,173</td>\n<td>-49%</td>\n<td></td>\n<td>1,202</td>\n<td>2,716</td>\n<td>\n                                -56%                                </td>\n<td></td>\n<td></td><td></td><td></td>\n<td data-continent=\"North America\" style=\"display:none;\">North America</td>\n</tr><tr class=\"odd\" role=\"row\" style=\"\">\n<td style=\"font-size:12px;color: grey;text-align:center;vertical-align:middle;\">1</td>\n<td style=\"font-weight: bold; font-size:15px; text-align:left;\"><a class=\"mt_a\" href=\"/coronavirus/country/us/\">USA</a></td>\n<td class=\"sorting_1\" style=\"font-weight: bold; text-align:right\">109,892</td>\n<td style=\"font-weight: bold; text-align:right\">212,456</td>\n<td style=\"font-weight: bold; text-align:right\">-48%</td>\n<td style=\"font-weight: bold; text-align:right\">328</td>\n<td style=\"font-weight: bold; text-align:right\">1,036</td>\n<td style=\"font-weight: bold; text-align:right\">2,207</td>\n<td style=\"font-weight: bold; text-align:right\">-53%</td>\n<td style=\"font-weight: bold; text-align:right\">3</td>\n<td style=\"font-weight: bold; text-align:right\">-306</td><td style=\"font-weight: bold; text-align:right\">-3</td><td style=\"font-weight: bold; text-align:right\">334,805,269</td>\n<td data-continent=\"North America\" style=\"display:none\">North America</td>\n</tr><tr class=\"even\" role=\"row\" style=\"\">\n<td style=\"font-size:12px;color: grey;text-align:center;vertical-align:middle;\">2</td>\n<td style=\"font-weight: bold; font-size:15px; text-align:left;\"><a class=\"mt_a\" href=\"/coronavirus/country/germany/\">Germany</a></td>\n<td class=\"sorting_1\" style=\"font-weight: bold; text-align:right\">108,452</td>\n<td style=\"font-weight: bold; text-align:right\">95,299</td>\n<td style=\"font-weight: bold; text-align:right\">+14%</td>\n<td style=\"font-weight: bold; text-align:right\">1,293</td>\n<td style=\"font-weight: bold; text-align:right\">523</td>\n<td style=\"font-weight: bold; text-align:right\">526</td>\n<td style=\"font-weight: bold; text-align:right\">-1%</td>\n<td style=\"font-weight: bold; text-align:right\">6</td>\n<td style=\"font-weight: bold; text-align:right\">+157</td><td style=\"font-weight: bold; text-align:right\">0.0</td><td style=\"font-weight: bold; text-align:right\">83,883,596</td>\n<td data-continent=\"Europe\" style=\"display:none\">Europe</td>\n</tr><tr class=\"odd\" role=\"row\" style=\"\">\n<td style=\"font-size:12px;color: grey;text-align:center;vertical-align:middle;\">3</td>\n<td style=\"font-weight: bold; font-size:15px; text-align:left;\"><a class=\"mt_a\" href=\"/coronavirus/country/taiwan/\">Taiwan</a></td>\n<td class=\"sorting_1\" style=\"font-weight: bold; text-align:right\">100,207</td>\n<td style=\"font-weight: bold; text-align:right\">116,058</td>\n<td style=\"font-weight: bold; text-align:right\">-14%</td>\n<td style=\"font-weight: bold; text-align:right\">4,195</td>\n<td style=\"font-weight: bold; text-align:right\">344</td>\n<td style=\"font-weight: bold; text-align:right\">417</td>\n<td style=\"font-weight: bold; text-align:right\">-18%</td>\n<td style=\"font-weight: bold; text-align:right\">14</td>\n<td style=\"font-weight: bold; text-align:right\">-664</td><td style=\"font-weight: bold; text-align:right\">-3</td><td style=\"font-weight: bold; text-align:right\">23,888,595</td>\n<td data-continent=\"Asia\" style=\"display:none\">Asia</td>\n</tr><tr class=\"even\" role=\"row\" style=\"\">\n<td style=\"font-size:12px;color: grey;text-align:center;vertical-align:middle;\">4</td>\n<td style=\"font-weight: bold; font-size:15px; text-align:left;\"><a class=\"mt_a\" href=\"/coronavirus/country/japan/\">Japan</a></td>\n<td class=\"sorting_1\" style=\"font-weight: bold; text-align:right\">94,034</td>\n<td style=\"font-weight: bold; text-align:right\">141,581</td>\n<td style=\"font-weight: bold; text-align:right\">-34%</td>\n<td style=\"font-weight: bold; text-align:right\">749</td>\n<td style=\"font-weight: bold; text-align:right\">582</td>\n<td style=\"font-weight: bold; text-align:right\">991</td>\n<td style=\"font-weight: bold; text-align:right\">-41%</td>\n<td style=\"font-weight: bold; text-align:right\">5</td>\n<td style=\"font-weight: bold; text-align:right\">-379</td><td style=\"font-weight: bold; text-align:right\">-3</td><td style=\"font-weight: bold; text-align:right\">125,584,838</td>\n<td data-continent=\"Asia\" style=\"display:none\">Asia</td>\n</tr><tr class=\"odd\" role=\"row\" style=\"\">\n<td style=\"font-size:12px;color: grey;text-align:center;vertical-align:middle;\">5</td>\n<td style=\"font-weight: bold; font-size:15px; text-align:left;\"><a class=\"mt_a\" href=\"/coronavirus/country/russia/\">Russia</a></td>\n<td class=\"sorting_1\" style=\"font-weight: bold; text-align:right\">86,502</td>\n<td style=\"font-weight: bold; text-align:right\">93,918</td>\n<td style=\"font-weight: bold; text-align:right\">-8%</td>\n<td style=\"font-weight: bold; text-align:right\">593</td>\n<td style=\"font-weight: bold; text-align:right\">236</td>\n<td style=\"font-weight: bold; text-align:right\">248</td>\n<td style=\"font-weight: bold; text-align:right\">-5%</td>\n<td style=\"font-weight: bold; text-align:right\">2</td>\n<td style=\"font-weight: bold; text-align:right\">-51</td><td style=\"font-weight: bold; text-align:right\">-0.1</td><td style=\"font-weight: bold; text-align:right\">145,805,947</td>\n<td data-continent=\"Europe\" style=\"display:none\">Europe</td>\n</tr><tr class=\"even\" role=\"row\" style=\"\">\n<td style=\"font-size:12px;color: grey;text-align:center;vertical-align:middle;\">6</td>\n<td style=\"font-weight: bold; font-size:15px; text-align:left;\"><a class=\"mt_a\" href=\"/coronavirus/country/south-korea/\">S. Korea</a></td>\n<td class=\"sorting_1\" style=\"font-weight: bold; text-align:right\">69,307</td>\n<td style=\"font-weight: bold; text-align:right\">79,372</td>\n<td style=\"font-weight: bold; text-align:right\">-13%</td>\n<td style=\"font-weight: bold; text-align:right\">1,350</td>\n<td style=\"font-weight: bold; text-align:right\">90</td>\n<td style=\"font-weight: bold; text-align:right\">120</td>\n<td style=\"font-weight: bold; text-align:right\">-25%</td>\n<td style=\"font-weight: bold; text-align:right\">2</td>\n<td style=\"font-weight: bold; text-align:right\">-196</td><td style=\"font-weight: bold; text-align:right\">-0.6</td><td style=\"font-weight: bold; text-align:right\">51,329,899</td>\n<td data-continent=\"Asia\" style=\"display:none\">Asia</td>\n</tr><tr class=\"total_row_world row_continent odd\" data-continent=\"South America\" role=\"row\" style=\"display: none\">\n<td></td>\n<td style=\"text-align:left;\">\n<nobr>South America</nobr>\n</td>\n<td class=\"sorting_1\">52,122</td>\n<td>72,603</td>\n<td>-28%</td>\n<td></td>\n<td>1,078</td>\n<td>577</td>\n<td>\n                                +87%                                </td>\n<td></td>\n<td></td><td></td><td></td>\n<td data-continent=\"South America\" style=\"display:none;\">South America</td>\n</tr><tr class=\"even\" role=\"row\" style=\"\">\n<td style=\"font-size:12px;color: grey;text-align:center;vertical-align:middle;\">7</td>\n<td style=\"font-weight: bold; font-size:15px; text-align:left;\"><a class=\"mt_a\" href=\"/coronavirus/country/austria/\">Austria</a></td>\n<td class=\"sorting_1\" style=\"font-weight: bold; text-align:right\">38,391</td>\n<td style=\"font-weight: bold; text-align:right\">33,884</td>\n<td style=\"font-weight: bold; text-align:right\">+13%</td>\n<td style=\"font-weight: bold; text-align:right\">4,234</td>\n<td style=\"font-weight: bold; text-align:right\">30</td>\n<td style=\"font-weight: bold; text-align:right\">31</td>\n<td style=\"font-weight: bold; text-align:right\">-3%</td>\n<td style=\"font-weight: bold; text-align:right\">3</td>\n<td style=\"font-weight: bold; text-align:right\">+497</td><td style=\"font-weight: bold; text-align:right\">-0.1</td><td style=\"font-weight: bold; text-align:right\">9,066,710</td>\n<td data-continent=\"Europe\" style=\"display:none\">Europe</td>\n</tr><tr class=\"odd\" role=\"row\" style=\"\">\n<td style=\"font-size:12px;color: grey;text-align:center;vertical-align:middle;\">8</td>\n<td style=\"font-weight: bold; font-size:15px; text-align:left;\"><a class=\"mt_a\" href=\"/coronavirus/country/brazil/\">Brazil</a></td>\n<td class=\"sorting_1\" style=\"font-weight: bold; text-align:right\">34,560</td>\n<td style=\"font-weight: bold; text-align:right\">57,027</td>\n<td style=\"font-weight: bold; text-align:right\">-39%</td>\n<td style=\"font-weight: bold; text-align:right\">160</td>\n<td style=\"font-weight: bold; text-align:right\">887</td>\n<td style=\"font-weight: bold; text-align:right\">373</td>\n<td style=\"font-weight: bold; text-align:right\">+138%</td>\n<td style=\"font-weight: bold; text-align:right\">4</td>\n<td style=\"font-weight: bold; text-align:right\">-104</td><td style=\"font-weight: bold; text-align:right\">+2</td><td style=\"font-weight: bold; text-align:right\">215,353,593</td>\n<td data-continent=\"South America\" style=\"display:none\">South America</td>\n</tr><tr class=\"even\" role=\"row\" style=\"\">\n<td style=\"font-size:12px;color: grey;text-align:center;vertical-align:middle;\">9</td>\n<td style=\"font-weight: bold; font-size:15px; text-align:left;\"><a class=\"mt_a\" href=\"/coronavirus/country/france/\">France</a></td>\n<td class=\"sorting_1\" style=\"font-weight: bold; text-align:right\">26,447</td>\n<td style=\"font-weight: bold; text-align:right\">24,509</td>\n<td style=\"font-weight: bold; text-align:right\">+8%</td>\n<td style=\"font-weight: bold; text-align:right\">403</td>\n<td style=\"font-weight: bold; text-align:right\">165</td>\n<td style=\"font-weight: bold; text-align:right\">175</td>\n<td style=\"font-weight: bold; text-align:right\">-6%</td>\n<td style=\"font-weight: bold; text-align:right\">3</td>\n<td style=\"font-weight: bold; text-align:right\">+30</td><td style=\"font-weight: bold; text-align:right\">-0.2</td><td style=\"font-weight: bold; text-align:right\">65,584,518</td>\n<td data-continent=\"Europe\" style=\"display:none\">Europe</td>\n</tr><tr class=\"total_row_world row_continent odd\" data-continent=\"Australia/Oceania\" role=\"row\" style=\"display: none\">\n<td></td>\n<td style=\"text-align:left;\">\n<nobr>Oceania</nobr>\n</td>\n<td class=\"sorting_1\">23,935</td>\n<td>25,635</td>\n<td>-7%</td>\n<td></td>\n<td>120</td>\n<td>193</td>\n<td>\n                                -38%                                </td>\n<td></td>\n<td></td><td></td><td></td>\n<td data-continent=\"Australia/Oceania\" style=\"display:none;\">Australia/Oceania</td>\n</tr><tr class=\"even\" role=\"row\" style=\"\">\n<td style=\"font-size:12px;color: grey;text-align:center;vertical-align:middle;\">10</td>\n<td style=\"font-weight: bold; font-size:15px; text-align:left;\"><a class=\"mt_a\" href=\"/coronavirus/country/italy/\">Italy</a></td>\n<td class=\"sorting_1\" style=\"font-weight: bold; text-align:right\">17,792</td>\n<td style=\"font-weight: bold; text-align:right\">29,388</td>\n<td style=\"font-weight: bold; text-align:right\">-39%</td>\n<td style=\"font-weight: bold; text-align:right\">295</td>\n<td style=\"font-weight: bold; text-align:right\">149</td>\n<td style=\"font-weight: bold; text-align:right\">315</td>\n<td style=\"font-weight: bold; text-align:right\">-53%</td>\n<td style=\"font-weight: bold; text-align:right\">2</td>\n<td style=\"font-weight: bold; text-align:right\">-192</td><td style=\"font-weight: bold; text-align:right\">-3</td><td style=\"font-weight: bold; text-align:right\">60,262,770</td>\n<td data-continent=\"Europe\" style=\"display:none\">Europe</td>\n</tr><tr class=\"odd\" role=\"row\" style=\"\">\n<td style=\"font-size:12px;color: grey;text-align:center;vertical-align:middle;\">11</td>\n<td style=\"font-weight: bold; font-size:15px; text-align:left;\"><a class=\"mt_a\" href=\"/coronavirus/country/poland/\">Poland</a></td>\n<td class=\"sorting_1\" style=\"font-weight: bold; text-align:right\">14,949</td>\n<td style=\"font-weight: bold; text-align:right\">10,590</td>\n<td style=\"font-weight: bold; text-align:right\">+41%</td>\n<td style=\"font-weight: bold; text-align:right\">396</td>\n<td style=\"font-weight: bold; text-align:right\">42</td>\n<td style=\"font-weight: bold; text-align:right\">47</td>\n<td style=\"font-weight: bold; text-align:right\">-11%</td>\n<td style=\"font-weight: bold; text-align:right\">1</td>\n<td style=\"font-weight: bold; text-align:right\">+116</td><td style=\"font-weight: bold; text-align:right\">-0.1</td><td style=\"font-weight: bold; text-align:right\">37,739,785</td>\n<td data-continent=\"Europe\" style=\"display:none\">Europe</td>\n</tr><tr class=\"even\" role=\"row\" style=\"\">\n<td style=\"font-size:12px;color: grey;text-align:center;vertical-align:middle;\">12</td>\n<td style=\"font-weight: bold; font-size:15px; text-align:left;\"><a class=\"mt_a\" href=\"/coronavirus/country/australia/\">Australia</a></td>\n<td class=\"sorting_1\" style=\"font-weight: bold; text-align:right\">14,804</td>\n<td style=\"font-weight: bold; text-align:right\">16,846</td>\n<td style=\"font-weight: bold; text-align:right\">-12%</td>\n<td style=\"font-weight: bold; text-align:right\">568</td>\n<td style=\"font-weight: bold; text-align:right\">82</td>\n<td style=\"font-weight: bold; text-align:right\">167</td>\n<td style=\"font-weight: bold; text-align:right\">-51%</td>\n<td style=\"font-weight: bold; text-align:right\">3</td>\n<td style=\"font-weight: bold; text-align:right\">-78</td><td style=\"font-weight: bold; text-align:right\">-3</td><td style=\"font-weight: bold; text-align:right\">26,068,792</td>\n<td data-continent=\"Australia/Oceania\" style=\"display:none\">Australia/Oceania</td>\n</tr><tr class=\"odd\" role=\"row\" style=\"\">\n<td style=\"font-size:12px;color: grey;text-align:center;vertical-align:middle;\">13</td>\n<td style=\"font-weight: bold; font-size:15px; text-align:left;\"><a class=\"mt_a\" href=\"/coronavirus/country/chile/\">Chile</a></td>\n<td class=\"sorting_1\" style=\"font-weight: bold; text-align:right\">14,015</td>\n<td style=\"font-weight: bold; text-align:right\">10,569</td>\n<td style=\"font-weight: bold; text-align:right\">+33%</td>\n<td style=\"font-weight: bold; text-align:right\">728</td>\n<td style=\"font-weight: bold; text-align:right\">81</td>\n<td style=\"font-weight: bold; text-align:right\">87</td>\n<td style=\"font-weight: bold; text-align:right\">-7%</td>\n<td style=\"font-weight: bold; text-align:right\">4</td>\n<td style=\"font-weight: bold; text-align:right\">+179</td><td style=\"font-weight: bold; text-align:right\">-0.3</td><td style=\"font-weight: bold; text-align:right\">19,250,195</td>\n<td data-continent=\"South America\" style=\"display:none\">South America</td>\n</tr><tr class=\"even\" role=\"row\" style=\"\">\n<td style=\"font-size:12px;color: grey;text-align:center;vertical-align:middle;\">14</td>\n<td style=\"font-weight: bold; font-size:15px; text-align:left;\"><a class=\"mt_a\" href=\"/coronavirus/country/mexico/\">Mexico</a></td>\n<td class=\"sorting_1\" style=\"font-weight: bold; text-align:right\">13,373</td>\n<td style=\"font-weight: bold; text-align:right\">28,930</td>\n<td style=\"font-weight: bold; text-align:right\">-54%</td>\n<td style=\"font-weight: bold; text-align:right\">102</td>\n<td style=\"font-weight: bold; text-align:right\">99</td>\n<td style=\"font-weight: bold; text-align:right\">259</td>\n<td style=\"font-weight: bold; text-align:right\">-62%</td>\n<td style=\"font-weight: bold; text-align:right\">0.8</td>\n<td style=\"font-weight: bold; text-align:right\">-118</td><td style=\"font-weight: bold; text-align:right\">-1</td><td style=\"font-weight: bold; text-align:right\">131,562,772</td>\n<td data-continent=\"North America\" style=\"display:none\">North America</td>\n</tr><tr class=\"odd\" role=\"row\" style=\"\">\n<td style=\"font-size:12px;color: grey;text-align:center;vertical-align:middle;\">15</td>\n<td style=\"font-weight: bold; font-size:15px; text-align:left;\"><a class=\"mt_a\" href=\"/coronavirus/country/new-zealand/\">New Zealand</a></td>\n<td class=\"sorting_1\" style=\"font-weight: bold; text-align:right\">8,951</td>\n<td style=\"font-weight: bold; text-align:right\">8,220</td>\n<td style=\"font-weight: bold; text-align:right\">+9%</td>\n<td style=\"font-weight: bold; text-align:right\">1,827</td>\n<td style=\"font-weight: bold; text-align:right\">38</td>\n<td style=\"font-weight: bold; text-align:right\">26</td>\n<td style=\"font-weight: bold; text-align:right\">+46%</td>\n<td style=\"font-weight: bold; text-align:right\">8</td>\n<td style=\"font-weight: bold; text-align:right\">+149</td><td style=\"font-weight: bold; text-align:right\">+2</td><td style=\"font-weight: bold; text-align:right\">4,898,203</td>\n<td data-continent=\"Australia/Oceania\" style=\"display:none\">Australia/Oceania</td>\n</tr><tr class=\"even\" role=\"row\" style=\"\">\n<td style=\"font-size:12px;color: grey;text-align:center;vertical-align:middle;\">16</td>\n<td style=\"font-weight: bold; font-size:15px; text-align:left;\"><a class=\"mt_a\" href=\"/coronavirus/country/greece/\">Greece</a></td>\n<td class=\"sorting_1\" style=\"font-weight: bold; text-align:right\">7,294</td>\n<td style=\"font-weight: bold; text-align:right\">7,991</td>\n<td style=\"font-weight: bold; text-align:right\">-9%</td>\n<td style=\"font-weight: bold; text-align:right\">707</td>\n<td style=\"font-weight: bold; text-align:right\">11</td>\n<td style=\"font-weight: bold; text-align:right\">78</td>\n<td style=\"font-weight: bold; text-align:right\">-86%</td>\n<td style=\"font-weight: bold; text-align:right\">1</td>\n<td style=\"font-weight: bold; text-align:right\">-68</td><td style=\"font-weight: bold; text-align:right\">-6</td><td style=\"font-weight: bold; text-align:right\">10,316,637</td>\n<td data-continent=\"Europe\" style=\"display:none\">Europe</td>\n</tr><tr class=\"odd\" role=\"row\" style=\"\">\n<td style=\"font-size:12px;color: grey;text-align:center;vertical-align:middle;\">17</td>\n<td style=\"font-weight: bold; font-size:15px; text-align:left;\"><a class=\"mt_a\" href=\"/coronavirus/country/czech-republic/\">Czechia</a></td>\n<td class=\"sorting_1\" style=\"font-weight: bold; text-align:right\">6,939</td>\n<td style=\"font-weight: bold; text-align:right\">5,716</td>\n<td style=\"font-weight: bold; text-align:right\">+21%</td>\n<td style=\"font-weight: bold; text-align:right\">646</td>\n<td style=\"font-weight: bold; text-align:right\">36</td>\n<td style=\"font-weight: bold; text-align:right\">34</td>\n<td style=\"font-weight: bold; text-align:right\">+6%</td>\n<td style=\"font-weight: bold; text-align:right\">3</td>\n<td style=\"font-weight: bold; text-align:right\">+114</td><td style=\"font-weight: bold; text-align:right\">+0.2</td><td style=\"font-weight: bold; text-align:right\">10,736,784</td>\n<td data-continent=\"Europe\" style=\"display:none\">Europe</td>\n</tr><tr class=\"even\" role=\"row\" style=\"\">\n<td style=\"font-size:12px;color: grey;text-align:center;vertical-align:middle;\">18</td>\n<td style=\"font-weight: bold; font-size:15px; text-align:left;\"><a class=\"mt_a\" href=\"/coronavirus/country/serbia/\">Serbia</a></td>\n<td class=\"sorting_1\" style=\"font-weight: bold; text-align:right\">5,955</td>\n<td style=\"font-weight: bold; text-align:right\">5,192</td>\n<td style=\"font-weight: bold; text-align:right\">+15%</td>\n<td style=\"font-weight: bold; text-align:right\">688</td>\n<td style=\"font-weight: bold; text-align:right\">45</td>\n<td style=\"font-weight: bold; text-align:right\">32</td>\n<td style=\"font-weight: bold; text-align:right\">+41%</td>\n<td style=\"font-weight: bold; text-align:right\">5</td>\n<td style=\"font-weight: bold; text-align:right\">+88</td><td style=\"font-weight: bold; text-align:right\">+2</td><td style=\"font-weight: bold; text-align:right\">8,653,016</td>\n<td data-continent=\"Europe\" style=\"display:none\">Europe</td>\n</tr><tr class=\"odd\" role=\"row\" style=\"\">\n<td style=\"font-size:12px;color: grey;text-align:center;vertical-align:middle;\">19</td>\n<td style=\"font-weight: bold; font-size:15px; text-align:left;\"><a class=\"mt_a\" href=\"/coronavirus/country/belgium/\">Belgium</a></td>\n<td class=\"sorting_1\" style=\"font-weight: bold; text-align:right\">5,361</td>\n<td style=\"font-weight: bold; text-align:right\">8,206</td>\n<td style=\"font-weight: bold; text-align:right\">-35%</td>\n<td style=\"font-weight: bold; text-align:right\">459</td>\n<td style=\"font-weight: bold; text-align:right\">31</td>\n<td style=\"font-weight: bold; text-align:right\">50</td>\n<td style=\"font-weight: bold; text-align:right\">-38%</td>\n<td style=\"font-weight: bold; text-align:right\">3</td>\n<td style=\"font-weight: bold; text-align:right\">-244</td><td style=\"font-weight: bold; text-align:right\">-2</td><td style=\"font-weight: bold; text-align:right\">11,668,278</td>\n<td data-continent=\"Europe\" style=\"display:none\">Europe</td>\n</tr><tr class=\"even\" role=\"row\" style=\"\">\n<td style=\"font-size:12px;color: grey;text-align:center;vertical-align:middle;\">20</td>\n<td style=\"font-weight: bold; font-size:15px; text-align:left;\"><a class=\"mt_a\" href=\"/coronavirus/country/spain/\">Spain</a></td>\n<td class=\"sorting_1\" style=\"font-weight: bold; text-align:right\">5,272</td>\n<td style=\"font-weight: bold; text-align:right\">7,136</td>\n<td style=\"font-weight: bold; text-align:right\">-26%</td>\n<td style=\"font-weight: bold; text-align:right\">113</td>\n<td style=\"font-weight: bold; text-align:right\">138</td>\n<td style=\"font-weight: bold; text-align:right\">206</td>\n<td style=\"font-weight: bold; text-align:right\">-33%</td>\n<td style=\"font-weight: bold; text-align:right\">3</td>\n<td style=\"font-weight: bold; text-align:right\">-40</td><td style=\"font-weight: bold; text-align:right\">-1</td><td style=\"font-weight: bold; text-align:right\">46,719,142</td>\n<td data-continent=\"Europe\" style=\"display:none\">Europe</td>\n</tr><tr class=\"odd\" role=\"row\" style=\"\">\n<td style=\"font-size:12px;color: grey;text-align:center;vertical-align:middle;\">21</td>\n<td style=\"font-weight: bold; font-size:15px; text-align:left;\"><a class=\"mt_a\" href=\"/coronavirus/country/costa-rica/\">Costa Rica</a></td>\n<td class=\"sorting_1\" style=\"font-weight: bold; text-align:right\">4,471</td>\n<td style=\"font-weight: bold; text-align:right\">4,207</td>\n<td style=\"font-weight: bold; text-align:right\">+6%</td>\n<td style=\"font-weight: bold; text-align:right\">863</td>\n<td style=\"font-weight: bold; text-align:right\">19</td>\n<td style=\"font-weight: bold; text-align:right\">14</td>\n<td style=\"font-weight: bold; text-align:right\">+36%</td>\n<td style=\"font-weight: bold; text-align:right\">4</td>\n<td style=\"font-weight: bold; text-align:right\">+51</td><td style=\"font-weight: bold; text-align:right\">+1.0</td><td style=\"font-weight: bold; text-align:right\">5,182,354</td>\n<td data-continent=\"North America\" style=\"display:none\">North America</td>\n</tr><tr class=\"even\" role=\"row\" style=\"\">\n<td style=\"font-size:12px;color: grey;text-align:center;vertical-align:middle;\">22</td>\n<td style=\"font-weight: bold; font-size:15px; text-align:left;\"><a class=\"mt_a\" href=\"/coronavirus/country/romania/\">Romania</a></td>\n<td class=\"sorting_1\" style=\"font-weight: bold; text-align:right\">4,126</td>\n<td style=\"font-weight: bold; text-align:right\">3,200</td>\n<td style=\"font-weight: bold; text-align:right\">+29%</td>\n<td style=\"font-weight: bold; text-align:right\">217</td>\n<td style=\"font-weight: bold; text-align:right\">25</td>\n<td style=\"font-weight: bold; text-align:right\">31</td>\n<td style=\"font-weight: bold; text-align:right\">-19%</td>\n<td style=\"font-weight: bold; text-align:right\">1</td>\n<td style=\"font-weight: bold; text-align:right\">+49</td><td style=\"font-weight: bold; text-align:right\">-0.3</td><td style=\"font-weight: bold; text-align:right\">19,031,335</td>\n<td data-continent=\"Europe\" style=\"display:none\">Europe</td>\n</tr><tr class=\"odd\" role=\"row\" style=\"\">\n<td style=\"font-size:12px;color: grey;text-align:center;vertical-align:middle;\">23</td>\n<td style=\"font-weight: bold; font-size:15px; text-align:left;\"><a class=\"mt_a\" href=\"/coronavirus/country/israel/\">Israel</a></td>\n<td class=\"sorting_1\" style=\"font-weight: bold; text-align:right\">3,393</td>\n<td style=\"font-weight: bold; text-align:right\">3,124</td>\n<td style=\"font-weight: bold; text-align:right\">+9%</td>\n<td style=\"font-weight: bold; text-align:right\">364</td>\n<td style=\"font-weight: bold; text-align:right\">19</td>\n<td style=\"font-weight: bold; text-align:right\">14</td>\n<td style=\"font-weight: bold; text-align:right\">+36%</td>\n<td style=\"font-weight: bold; text-align:right\">2</td>\n<td style=\"font-weight: bold; text-align:right\">+29</td><td style=\"font-weight: bold; text-align:right\">+0.5</td><td style=\"font-weight: bold; text-align:right\">9,326,000</td>\n<td data-continent=\"Asia\" style=\"display:none\">Asia</td>\n</tr><tr class=\"total_row_world row_continent even\" data-continent=\"Africa\" role=\"row\" style=\"display: none\">\n<td></td>\n<td style=\"text-align:left;\">\n<nobr>Africa</nobr>\n</td>\n<td class=\"sorting_1\">3,342</td>\n<td>3,520</td>\n<td>-5%</td>\n<td></td>\n<td>15</td>\n<td>12</td>\n<td>\n                                +25%                                </td>\n<td></td>\n<td></td><td></td><td></td>\n<td data-continent=\"Africa\" style=\"display:none;\">Africa</td>\n</tr><tr class=\"odd\" role=\"row\" style=\"\">\n<td style=\"font-size:12px;color: grey;text-align:center;vertical-align:middle;\">24</td>\n<td style=\"font-weight: bold; font-size:15px; text-align:left;\"><a class=\"mt_a\" href=\"/coronavirus/country/moldova/\">Moldova</a></td>\n<td class=\"sorting_1\" style=\"font-weight: bold; text-align:right\">2,834</td>\n<td style=\"font-weight: bold; text-align:right\">1,338</td>\n<td style=\"font-weight: bold; text-align:right\">+112%</td>\n<td style=\"font-weight: bold; text-align:right\">706</td>\n<td style=\"font-weight: bold; text-align:right\">10</td>\n<td style=\"font-weight: bold; text-align:right\">7</td>\n<td style=\"font-weight: bold; text-align:right\">+43%</td>\n<td style=\"font-weight: bold; text-align:right\">2</td>\n<td style=\"font-weight: bold; text-align:right\">+373</td><td style=\"font-weight: bold; text-align:right\">+0.7</td><td style=\"font-weight: bold; text-align:right\">4,013,171</td>\n<td data-continent=\"Europe\" style=\"display:none\">Europe</td>\n</tr><tr class=\"even\" role=\"row\" style=\"\">\n<td style=\"font-size:12px;color: grey;text-align:center;vertical-align:middle;\">25</td>\n<td style=\"font-weight: bold; font-size:15px; text-align:left;\"><a class=\"mt_a\" href=\"/coronavirus/country/lithuania/\">Lithuania</a></td>\n<td class=\"sorting_1\" style=\"font-weight: bold; text-align:right\">2,200</td>\n<td style=\"font-weight: bold; text-align:right\">1,891</td>\n<td style=\"font-weight: bold; text-align:right\">+16%</td>\n<td style=\"font-weight: bold; text-align:right\">827</td>\n<td style=\"font-weight: bold; text-align:right\">8</td>\n<td style=\"font-weight: bold; text-align:right\">18</td>\n<td style=\"font-weight: bold; text-align:right\">-56%</td>\n<td style=\"font-weight: bold; text-align:right\">3</td>\n<td style=\"font-weight: bold; text-align:right\">+116</td><td style=\"font-weight: bold; text-align:right\">-4</td><td style=\"font-weight: bold; text-align:right\">2,661,708</td>\n<td data-continent=\"Europe\" style=\"display:none\">Europe</td>\n</tr><tr class=\"odd\" role=\"row\" style=\"\">\n<td style=\"font-size:12px;color: grey;text-align:center;vertical-align:middle;\">26</td>\n<td style=\"font-weight: bold; font-size:15px; text-align:left;\"><a class=\"mt_a\" href=\"/coronavirus/country/cyprus/\">Cyprus</a></td>\n<td class=\"sorting_1\" style=\"font-weight: bold; text-align:right\">2,062</td>\n<td style=\"font-weight: bold; text-align:right\">1,516</td>\n<td style=\"font-weight: bold; text-align:right\">+36%</td>\n<td style=\"font-weight: bold; text-align:right\">1,685</td>\n<td style=\"font-weight: bold; text-align:right\">8</td>\n<td style=\"font-weight: bold; text-align:right\">4</td>\n<td style=\"font-weight: bold; text-align:right\">+100%</td>\n<td style=\"font-weight: bold; text-align:right\">7</td>\n<td style=\"font-weight: bold; text-align:right\">+446</td><td style=\"font-weight: bold; text-align:right\">+3</td><td style=\"font-weight: bold; text-align:right\">1,223,387</td>\n<td data-continent=\"Asia\" style=\"display:none\">Asia</td>\n</tr><tr class=\"even\" role=\"row\" style=\"\">\n<td style=\"font-size:12px;color: grey;text-align:center;vertical-align:middle;\">27</td>\n<td style=\"font-weight: bold; font-size:15px; text-align:left;\"><a class=\"mt_a\" href=\"/coronavirus/country/slovenia/\">Slovenia</a></td>\n<td class=\"sorting_1\" style=\"font-weight: bold; text-align:right\">2,011</td>\n<td style=\"font-weight: bold; text-align:right\">1,738</td>\n<td style=\"font-weight: bold; text-align:right\">+16%</td>\n<td style=\"font-weight: bold; text-align:right\">968</td>\n<td style=\"font-weight: bold; text-align:right\">4</td>\n<td style=\"font-weight: bold; text-align:right\">3</td>\n<td style=\"font-weight: bold; text-align:right\">+33%</td>\n<td style=\"font-weight: bold; text-align:right\">2</td>\n<td style=\"font-weight: bold; text-align:right\">+131</td><td style=\"font-weight: bold; text-align:right\">+0.5</td><td style=\"font-weight: bold; text-align:right\">2,078,034</td>\n<td data-continent=\"Europe\" style=\"display:none\">Europe</td>\n</tr><tr class=\"odd\" role=\"row\" style=\"\">\n<td style=\"font-size:12px;color: grey;text-align:center;vertical-align:middle;\">28</td>\n<td style=\"font-weight: bold; font-size:15px; text-align:left;\"><a class=\"mt_a\" href=\"/coronavirus/country/guatemala/\">Guatemala</a></td>\n<td class=\"sorting_1\" style=\"font-weight: bold; text-align:right\">1,925</td>\n<td style=\"font-weight: bold; text-align:right\">2,075</td>\n<td style=\"font-weight: bold; text-align:right\">-7%</td>\n<td style=\"font-weight: bold; text-align:right\">104</td>\n<td style=\"font-weight: bold; text-align:right\">11</td>\n<td style=\"font-weight: bold; text-align:right\">8</td>\n<td style=\"font-weight: bold; text-align:right\">+38%</td>\n<td style=\"font-weight: bold; text-align:right\">0.6</td>\n<td style=\"font-weight: bold; text-align:right\">-8</td><td style=\"font-weight: bold; text-align:right\">+0.2</td><td style=\"font-weight: bold; text-align:right\">18,584,039</td>\n<td data-continent=\"North America\" style=\"display:none\">North America</td>\n</tr><tr class=\"even\" role=\"row\" style=\"\">\n<td style=\"font-size:12px;color: grey;text-align:center;vertical-align:middle;\">29</td>\n<td style=\"font-weight: bold; font-size:15px; text-align:left;\"><a class=\"mt_a\" href=\"/coronavirus/country/bahrain/\">Bahrain</a></td>\n<td class=\"sorting_1\" style=\"font-weight: bold; text-align:right\">1,759</td>\n<td style=\"font-weight: bold; text-align:right\">3,656</td>\n<td style=\"font-weight: bold; text-align:right\">-52%</td>\n<td style=\"font-weight: bold; text-align:right\">986</td>\n<td style=\"font-weight: bold; text-align:right\">0</td>\n<td style=\"font-weight: bold; text-align:right\">4</td>\n<td style=\"font-weight: bold; text-align:right\">-100%</td>\n<td style=\"font-weight: bold; text-align:right\">0</td>\n<td style=\"font-weight: bold; text-align:right\">-1,063</td><td style=\"font-weight: bold; text-align:right\">-2</td><td style=\"font-weight: bold; text-align:right\">1,783,983</td>\n<td data-continent=\"Asia\" style=\"display:none\">Asia</td>\n</tr><tr class=\"odd\" role=\"row\" style=\"\">\n<td style=\"font-size:12px;color: grey;text-align:center;vertical-align:middle;\">30</td>\n<td style=\"font-weight: bold; font-size:15px; text-align:left;\"><a class=\"mt_a\" href=\"/coronavirus/country/canada/\">Canada</a></td>\n<td class=\"sorting_1\" style=\"font-weight: bold; text-align:right\">1,530</td>\n<td style=\"font-weight: bold; text-align:right\">10,622</td>\n<td style=\"font-weight: bold; text-align:right\">-86%</td>\n<td style=\"font-weight: bold; text-align:right\">40</td>\n<td style=\"font-weight: bold; text-align:right\">28</td>\n<td style=\"font-weight: bold; text-align:right\">203</td>\n<td style=\"font-weight: bold; text-align:right\">-86%</td>\n<td style=\"font-weight: bold; text-align:right\">0.7</td>\n<td style=\"font-weight: bold; text-align:right\">-237</td><td style=\"font-weight: bold; text-align:right\">-5</td><td style=\"font-weight: bold; text-align:right\">38,388,419</td>\n<td data-continent=\"North America\" style=\"display:none\">North America</td>\n</tr><tr class=\"even\" role=\"row\" style=\"\">\n<td style=\"font-size:12px;color: grey;text-align:center;vertical-align:middle;\">31</td>\n<td style=\"font-weight: bold; font-size:15px; text-align:left;\"><a class=\"mt_a\" href=\"/coronavirus/country/indonesia/\">Indonesia</a></td>\n<td class=\"sorting_1\" style=\"font-weight: bold; text-align:right\">1,413</td>\n<td style=\"font-weight: bold; text-align:right\">1,416</td>\n<td style=\"font-weight: bold; text-align:right\">-0.2%</td>\n<td style=\"font-weight: bold; text-align:right\">5</td>\n<td style=\"font-weight: bold; text-align:right\">22</td>\n<td style=\"font-weight: bold; text-align:right\">22</td>\n<td style=\"font-weight: bold; text-align:right\">0%</td>\n<td style=\"font-weight: bold; text-align:right\">0.1</td>\n<td style=\"font-weight: bold; text-align:right\">0.0</td><td style=\"font-weight: bold; text-align:right\">0</td><td style=\"font-weight: bold; text-align:right\">279,134,505</td>\n<td data-continent=\"Asia\" style=\"display:none\">Asia</td>\n</tr><tr class=\"odd\" role=\"row\" style=\"\">\n<td style=\"font-size:12px;color: grey;text-align:center;vertical-align:middle;\">32</td>\n<td style=\"font-weight: bold; font-size:15px; text-align:left;\"><a class=\"mt_a\" href=\"/coronavirus/country/malaysia/\">Malaysia</a></td>\n<td class=\"sorting_1\" style=\"font-weight: bold; text-align:right\">1,388</td>\n<td style=\"font-weight: bold; text-align:right\">1,521</td>\n<td style=\"font-weight: bold; text-align:right\">-9%</td>\n<td style=\"font-weight: bold; text-align:right\">42</td>\n<td style=\"font-weight: bold; text-align:right\">1</td>\n<td style=\"font-weight: bold; text-align:right\">5</td>\n<td style=\"font-weight: bold; text-align:right\">-80%</td>\n<td style=\"font-weight: bold; text-align:right\">0.0</td>\n<td style=\"font-weight: bold; text-align:right\">-4</td><td style=\"font-weight: bold; text-align:right\">-0.1</td><td style=\"font-weight: bold; text-align:right\">33,181,072</td>\n<td data-continent=\"Asia\" style=\"display:none\">Asia</td>\n</tr><tr class=\"even\" role=\"row\" style=\"\">\n<td style=\"font-size:12px;color: grey;text-align:center;vertical-align:middle;\">33</td>\n<td style=\"font-weight: bold; font-size:15px; text-align:left;\"><a class=\"mt_a\" href=\"/coronavirus/country/netherlands/\">Netherlands</a></td>\n<td class=\"sorting_1\" style=\"font-weight: bold; text-align:right\">1,319</td>\n<td style=\"font-weight: bold; text-align:right\">3,557</td>\n<td style=\"font-weight: bold; text-align:right\">-63%</td>\n<td style=\"font-weight: bold; text-align:right\">77</td>\n<td style=\"font-weight: bold; text-align:right\">0</td>\n<td style=\"font-weight: bold; text-align:right\">0</td>\n<td style=\"font-weight: bold; text-align:right\">0%</td>\n<td style=\"font-weight: bold; text-align:right\">0</td>\n<td style=\"font-weight: bold; text-align:right\">-130</td><td style=\"font-weight: bold; text-align:right\">0</td><td style=\"font-weight: bold; text-align:right\">17,211,447</td>\n<td data-continent=\"Europe\" style=\"display:none\">Europe</td>\n</tr><tr class=\"odd\" role=\"row\" style=\"\">\n<td style=\"font-size:12px;color: grey;text-align:center;vertical-align:middle;\">34</td>\n<td style=\"font-weight: bold; font-size:15px; text-align:left;\"><a class=\"mt_a\" href=\"/coronavirus/country/iran/\">Iran</a></td>\n<td class=\"sorting_1\" style=\"font-weight: bold; text-align:right\">1,232</td>\n<td style=\"font-weight: bold; text-align:right\">918</td>\n<td style=\"font-weight: bold; text-align:right\">+34%</td>\n<td style=\"font-weight: bold; text-align:right\">14</td>\n<td style=\"font-weight: bold; text-align:right\">38</td>\n<td style=\"font-weight: bold; text-align:right\">23</td>\n<td style=\"font-weight: bold; text-align:right\">+65%</td>\n<td style=\"font-weight: bold; text-align:right\">0.4</td>\n<td style=\"font-weight: bold; text-align:right\">+4</td><td style=\"font-weight: bold; text-align:right\">+0.2</td><td style=\"font-weight: bold; text-align:right\">86,022,837</td>\n<td data-continent=\"Asia\" style=\"display:none\">Asia</td>\n</tr><tr class=\"even\" role=\"row\" style=\"\">\n<td style=\"font-size:12px;color: grey;text-align:center;vertical-align:middle;\">35</td>\n<td style=\"font-weight: bold; font-size:15px; text-align:left;\"><a class=\"mt_a\" href=\"/coronavirus/country/switzerland/\">Switzerland</a></td>\n<td class=\"sorting_1\" style=\"font-weight: bold; text-align:right\">1,208</td>\n<td style=\"font-weight: bold; text-align:right\">0</td>\n<td style=\"font-weight: bold; text-align:right\">+120,800%</td>\n<td style=\"font-weight: bold; text-align:right\">138</td>\n<td style=\"font-weight: bold; text-align:right\">0</td>\n<td style=\"font-weight: bold; text-align:right\">0</td>\n<td style=\"font-weight: bold; text-align:right\">0%</td>\n<td style=\"font-weight: bold; text-align:right\">0</td>\n<td style=\"font-weight: bold; text-align:right\">+138</td><td style=\"font-weight: bold; text-align:right\">0</td><td style=\"font-weight: bold; text-align:right\">8,773,637</td>\n<td data-continent=\"Europe\" style=\"display:none\">Europe</td>\n</tr><tr class=\"odd\" role=\"row\" style=\"\">\n<td style=\"font-size:12px;color: grey;text-align:center;vertical-align:middle;\">36</td>\n<td style=\"font-weight: bold; font-size:15px; text-align:left;\"><a class=\"mt_a\" href=\"/coronavirus/country/india/\">India</a></td>\n<td class=\"sorting_1\" style=\"font-weight: bold; text-align:right\">1,165</td>\n<td style=\"font-weight: bold; text-align:right\">837</td>\n<td style=\"font-weight: bold; text-align:right\">+39%</td>\n<td style=\"font-weight: bold; text-align:right\">0.8</td>\n<td style=\"font-weight: bold; text-align:right\">9</td>\n<td style=\"font-weight: bold; text-align:right\">8</td>\n<td style=\"font-weight: bold; text-align:right\">+13%</td>\n<td style=\"font-weight: bold; text-align:right\">0.0</td>\n<td style=\"font-weight: bold; text-align:right\">+0.2</td><td style=\"font-weight: bold; text-align:right\">0.0</td><td style=\"font-weight: bold; text-align:right\">1,406,631,776</td>\n<td data-continent=\"Asia\" style=\"display:none\">Asia</td>\n</tr><tr class=\"even\" role=\"row\" style=\"\">\n<td style=\"font-size:12px;color: grey;text-align:center;vertical-align:middle;\">37</td>\n<td style=\"font-weight: bold; font-size:15px; text-align:left;\"><a class=\"mt_a\" href=\"/coronavirus/country/south-africa/\">South Africa</a></td>\n<td class=\"sorting_1\" style=\"font-weight: bold; text-align:right\">1,034</td>\n<td style=\"font-weight: bold; text-align:right\">1,437</td>\n<td style=\"font-weight: bold; text-align:right\">-28%</td>\n<td style=\"font-weight: bold; text-align:right\">17</td>\n<td style=\"font-weight: bold; text-align:right\">0</td>\n<td style=\"font-weight: bold; text-align:right\">0</td>\n<td style=\"font-weight: bold; text-align:right\">0%</td>\n<td style=\"font-weight: bold; text-align:right\">0</td>\n<td style=\"font-weight: bold; text-align:right\">-7</td><td style=\"font-weight: bold; text-align:right\">0</td><td style=\"font-weight: bold; text-align:right\">60,756,135</td>\n<td data-continent=\"Africa\" style=\"display:none\">Africa</td>\n</tr><tr class=\"odd\" role=\"row\" style=\"\">\n<td style=\"font-size:12px;color: grey;text-align:center;vertical-align:middle;\">38</td>\n<td style=\"font-weight: bold; font-size:15px; text-align:left;\"><a class=\"mt_a\" href=\"/coronavirus/country/lebanon/\">Lebanon</a></td>\n<td class=\"sorting_1\" style=\"font-weight: bold; text-align:right\">1,031</td>\n<td style=\"font-weight: bold; text-align:right\">541</td>\n<td style=\"font-weight: bold; text-align:right\">+91%</td>\n<td style=\"font-weight: bold; text-align:right\">154</td>\n<td style=\"font-weight: bold; text-align:right\">12</td>\n<td style=\"font-weight: bold; text-align:right\">10</td>\n<td style=\"font-weight: bold; text-align:right\">+20%</td>\n<td style=\"font-weight: bold; text-align:right\">2</td>\n<td style=\"font-weight: bold; text-align:right\">+73</td><td style=\"font-weight: bold; text-align:right\">+0.3</td><td style=\"font-weight: bold; text-align:right\">6,684,849</td>\n<td data-continent=\"Asia\" style=\"display:none\">Asia</td>\n</tr><tr class=\"even\" role=\"row\" style=\"\">\n<td style=\"font-size:12px;color: grey;text-align:center;vertical-align:middle;\">39</td>\n<td style=\"font-weight: bold; font-size:15px; text-align:left;\"><a class=\"mt_a\" href=\"/coronavirus/country/bolivia/\">Bolivia</a></td>\n<td class=\"sorting_1\" style=\"font-weight: bold; text-align:right\">996</td>\n<td style=\"font-weight: bold; text-align:right\">802</td>\n<td style=\"font-weight: bold; text-align:right\">+24%</td>\n<td style=\"font-weight: bold; text-align:right\">83</td>\n<td style=\"font-weight: bold; text-align:right\">6</td>\n<td style=\"font-weight: bold; text-align:right\">4</td>\n<td style=\"font-weight: bold; text-align:right\">+50%</td>\n<td style=\"font-weight: bold; text-align:right\">0.5</td>\n<td style=\"font-weight: bold; text-align:right\">+16</td><td style=\"font-weight: bold; text-align:right\">+0.2</td><td style=\"font-weight: bold; text-align:right\">11,992,656</td>\n<td data-continent=\"South America\" style=\"display:none\">South America</td>\n</tr><tr class=\"odd\" role=\"row\" style=\"\">\n<td style=\"font-size:12px;color: grey;text-align:center;vertical-align:middle;\">40</td>\n<td style=\"font-weight: bold; font-size:15px; text-align:left;\"><a class=\"mt_a\" href=\"/coronavirus/country/georgia/\">Georgia</a></td>\n<td class=\"sorting_1\" style=\"font-weight: bold; text-align:right\">976</td>\n<td style=\"font-weight: bold; text-align:right\">3,009</td>\n<td style=\"font-weight: bold; text-align:right\">-68%</td>\n<td style=\"font-weight: bold; text-align:right\">246</td>\n<td style=\"font-weight: bold; text-align:right\">5</td>\n<td style=\"font-weight: bold; text-align:right\">13</td>\n<td style=\"font-weight: bold; text-align:right\">-62%</td>\n<td style=\"font-weight: bold; text-align:right\">1</td>\n<td style=\"font-weight: bold; text-align:right\">-512</td><td style=\"font-weight: bold; text-align:right\">-2</td><td style=\"font-weight: bold; text-align:right\">3,968,738</td>\n<td data-continent=\"Asia\" style=\"display:none\">Asia</td>\n</tr><tr class=\"even\" role=\"row\" style=\"\">\n<td style=\"font-size:12px;color: grey;text-align:center;vertical-align:middle;\">41</td>\n<td style=\"font-weight: bold; font-size:15px; text-align:left;\"><a class=\"mt_a\" href=\"/coronavirus/country/paraguay/\">Paraguay</a></td>\n<td class=\"sorting_1\" style=\"font-weight: bold; text-align:right\">874</td>\n<td style=\"font-weight: bold; text-align:right\">663</td>\n<td style=\"font-weight: bold; text-align:right\">+32%</td>\n<td style=\"font-weight: bold; text-align:right\">120</td>\n<td style=\"font-weight: bold; text-align:right\">21</td>\n<td style=\"font-weight: bold; text-align:right\">6</td>\n<td style=\"font-weight: bold; text-align:right\">+250%</td>\n<td style=\"font-weight: bold; text-align:right\">3</td>\n<td style=\"font-weight: bold; text-align:right\">+29</td><td style=\"font-weight: bold; text-align:right\">+2</td><td style=\"font-weight: bold; text-align:right\">7,305,843</td>\n<td data-continent=\"South America\" style=\"display:none\">South America</td>\n</tr><tr class=\"odd\" role=\"row\" style=\"\">\n<td style=\"font-size:12px;color: grey;text-align:center;vertical-align:middle;\">42</td>\n<td style=\"font-weight: bold; font-size:15px; text-align:left;\"><a class=\"mt_a\" href=\"/coronavirus/country/china-hong-kong-sar/\">Hong Kong</a></td>\n<td class=\"sorting_1\" style=\"font-weight: bold; text-align:right\">869</td>\n<td style=\"font-weight: bold; text-align:right\">1,263</td>\n<td style=\"font-weight: bold; text-align:right\">-31%</td>\n<td style=\"font-weight: bold; text-align:right\">114</td>\n<td style=\"font-weight: bold; text-align:right\">11</td>\n<td style=\"font-weight: bold; text-align:right\">22</td>\n<td style=\"font-weight: bold; text-align:right\">-50%</td>\n<td style=\"font-weight: bold; text-align:right\">1</td>\n<td style=\"font-weight: bold; text-align:right\">-52</td><td style=\"font-weight: bold; text-align:right\">-1</td><td style=\"font-weight: bold; text-align:right\">7,604,299</td>\n<td data-continent=\"Asia\" style=\"display:none\">Asia</td>\n</tr><tr class=\"even\" role=\"row\" style=\"\">\n<td style=\"font-size:12px;color: grey;text-align:center;vertical-align:middle;\">43</td>\n<td style=\"font-weight: bold; font-size:15px; text-align:left;\"><a class=\"mt_a\" href=\"/coronavirus/country/hungary/\">Hungary</a></td>\n<td class=\"sorting_1\" style=\"font-weight: bold; text-align:right\">867</td>\n<td style=\"font-weight: bold; text-align:right\">830</td>\n<td style=\"font-weight: bold; text-align:right\">+4%</td>\n<td style=\"font-weight: bold; text-align:right\">90</td>\n<td style=\"font-weight: bold; text-align:right\">7</td>\n<td style=\"font-weight: bold; text-align:right\">31</td>\n<td style=\"font-weight: bold; text-align:right\">-77%</td>\n<td style=\"font-weight: bold; text-align:right\">0.7</td>\n<td style=\"font-weight: bold; text-align:right\">+4</td><td style=\"font-weight: bold; text-align:right\">-2</td><td style=\"font-weight: bold; text-align:right\">9,606,259</td>\n<td data-continent=\"Europe\" style=\"display:none\">Europe</td>\n</tr><tr class=\"odd\" role=\"row\" style=\"\">\n<td style=\"font-size:12px;color: grey;text-align:center;vertical-align:middle;\">44</td>\n<td style=\"font-weight: bold; font-size:15px; text-align:left;\"><a class=\"mt_a\" href=\"/coronavirus/country/philippines/\">Philippines</a></td>\n<td class=\"sorting_1\" style=\"font-weight: bold; text-align:right\">805</td>\n<td style=\"font-weight: bold; text-align:right\">692</td>\n<td style=\"font-weight: bold; text-align:right\">+16%</td>\n<td style=\"font-weight: bold; text-align:right\">7</td>\n<td style=\"font-weight: bold; text-align:right\">76</td>\n<td style=\"font-weight: bold; text-align:right\">72</td>\n<td style=\"font-weight: bold; text-align:right\">+6%</td>\n<td style=\"font-weight: bold; text-align:right\">0.7</td>\n<td style=\"font-weight: bold; text-align:right\">+1</td><td style=\"font-weight: bold; text-align:right\">0.0</td><td style=\"font-weight: bold; text-align:right\">112,508,994</td>\n<td data-continent=\"Asia\" style=\"display:none\">Asia</td>\n</tr><tr class=\"even\" role=\"row\" style=\"\">\n<td style=\"font-size:12px;color: grey;text-align:center;vertical-align:middle;\">45</td>\n<td style=\"font-weight: bold; font-size:15px; text-align:left;\"><a class=\"mt_a\" href=\"/coronavirus/country/united-arab-emirates/\">UAE</a></td>\n<td class=\"sorting_1\" style=\"font-weight: bold; text-align:right\">783</td>\n<td style=\"font-weight: bold; text-align:right\">677</td>\n<td style=\"font-weight: bold; text-align:right\">+16%</td>\n<td style=\"font-weight: bold; text-align:right\">78</td>\n<td style=\"font-weight: bold; text-align:right\">1</td>\n<td style=\"font-weight: bold; text-align:right\">0</td>\n<td style=\"font-weight: bold; text-align:right\">+100%</td>\n<td style=\"font-weight: bold; text-align:right\">0.1</td>\n<td style=\"font-weight: bold; text-align:right\">+11</td><td style=\"font-weight: bold; text-align:right\">+0.1</td><td style=\"font-weight: bold; text-align:right\">10,081,785</td>\n<td data-continent=\"Asia\" style=\"display:none\">Asia</td>\n</tr><tr class=\"odd\" role=\"row\" style=\"\">\n<td style=\"font-size:12px;color: grey;text-align:center;vertical-align:middle;\">46</td>\n<td style=\"font-weight: bold; font-size:15px; text-align:left;\"><a class=\"mt_a\" href=\"/coronavirus/country/colombia/\">Colombia</a></td>\n<td class=\"sorting_1\" style=\"font-weight: bold; text-align:right\">689</td>\n<td style=\"font-weight: bold; text-align:right\">707</td>\n<td style=\"font-weight: bold; text-align:right\">-3%</td>\n<td style=\"font-weight: bold; text-align:right\">13</td>\n<td style=\"font-weight: bold; text-align:right\">19</td>\n<td style=\"font-weight: bold; text-align:right\">20</td>\n<td style=\"font-weight: bold; text-align:right\">-5%</td>\n<td style=\"font-weight: bold; text-align:right\">0.4</td>\n<td style=\"font-weight: bold; text-align:right\">-0.3</td><td style=\"font-weight: bold; text-align:right\">0.0</td><td style=\"font-weight: bold; text-align:right\">51,512,762</td>\n<td data-continent=\"South America\" style=\"display:none\">South America</td>\n</tr><tr class=\"even\" role=\"row\" style=\"\">\n<td style=\"font-size:12px;color: grey;text-align:center;vertical-align:middle;\">47</td>\n<td style=\"font-weight: bold; font-size:15px; text-align:left;\"><a class=\"mt_a\" href=\"/coronavirus/country/montenegro/\">Montenegro</a></td>\n<td class=\"sorting_1\" style=\"font-weight: bold; text-align:right\">667</td>\n<td style=\"font-weight: bold; text-align:right\">554</td>\n<td style=\"font-weight: bold; text-align:right\">+20%</td>\n<td style=\"font-weight: bold; text-align:right\">1,062</td>\n<td style=\"font-weight: bold; text-align:right\">1</td>\n<td style=\"font-weight: bold; text-align:right\">1</td>\n<td style=\"font-weight: bold; text-align:right\">0%</td>\n<td style=\"font-weight: bold; text-align:right\">2</td>\n<td style=\"font-weight: bold; text-align:right\">+180</td><td style=\"font-weight: bold; text-align:right\">0</td><td style=\"font-weight: bold; text-align:right\">627,950</td>\n<td data-continent=\"Europe\" style=\"display:none\">Europe</td>\n</tr><tr class=\"odd\" role=\"row\" style=\"\">\n<td style=\"font-size:12px;color: grey;text-align:center;vertical-align:middle;\">48</td>\n<td style=\"font-weight: bold; font-size:15px; text-align:left;\"><a class=\"mt_a\" href=\"/coronavirus/country/peru/\">Peru</a></td>\n<td class=\"sorting_1\" style=\"font-weight: bold; text-align:right\">631</td>\n<td style=\"font-weight: bold; text-align:right\">1,032</td>\n<td style=\"font-weight: bold; text-align:right\">-39%</td>\n<td style=\"font-weight: bold; text-align:right\">19</td>\n<td style=\"font-weight: bold; text-align:right\">63</td>\n<td style=\"font-weight: bold; text-align:right\">72</td>\n<td style=\"font-weight: bold; text-align:right\">-13%</td>\n<td style=\"font-weight: bold; text-align:right\">2</td>\n<td style=\"font-weight: bold; text-align:right\">-12</td><td style=\"font-weight: bold; text-align:right\">-0.3</td><td style=\"font-weight: bold; text-align:right\">33,684,208</td>\n<td data-continent=\"South America\" style=\"display:none\">South America</td>\n</tr><tr class=\"even\" role=\"row\" style=\"\">\n<td style=\"font-size:12px;color: grey;text-align:center;vertical-align:middle;\">49</td>\n<td style=\"font-weight: bold; font-size:15px; text-align:left;\"><a class=\"mt_a\" href=\"/coronavirus/country/slovakia/\">Slovakia</a></td>\n<td class=\"sorting_1\" style=\"font-weight: bold; text-align:right\">620</td>\n<td style=\"font-weight: bold; text-align:right\">555</td>\n<td style=\"font-weight: bold; text-align:right\">+12%</td>\n<td style=\"font-weight: bold; text-align:right\">114</td>\n<td style=\"font-weight: bold; text-align:right\">21</td>\n<td style=\"font-weight: bold; text-align:right\">16</td>\n<td style=\"font-weight: bold; text-align:right\">+31%</td>\n<td style=\"font-weight: bold; text-align:right\">4</td>\n<td style=\"font-weight: bold; text-align:right\">+12</td><td style=\"font-weight: bold; text-align:right\">+0.9</td><td style=\"font-weight: bold; text-align:right\">5,460,193</td>\n<td data-continent=\"Europe\" style=\"display:none\">Europe</td>\n</tr><tr class=\"odd\" role=\"row\" style=\"\">\n<td style=\"font-size:12px;color: grey;text-align:center;vertical-align:middle;\">50</td>\n<td style=\"font-weight: bold; font-size:15px; text-align:left;\"><a class=\"mt_a\" href=\"/coronavirus/country/kuwait/\">Kuwait</a></td>\n<td class=\"sorting_1\" style=\"font-weight: bold; text-align:right\">598</td>\n<td style=\"font-weight: bold; text-align:right\">0</td>\n<td style=\"font-weight: bold; text-align:right\">+59,800%</td>\n<td style=\"font-weight: bold; text-align:right\">137</td>\n<td style=\"font-weight: bold; text-align:right\">0</td>\n<td style=\"font-weight: bold; text-align:right\">0</td>\n<td style=\"font-weight: bold; text-align:right\">0%</td>\n<td style=\"font-weight: bold; text-align:right\">0</td>\n<td style=\"font-weight: bold; text-align:right\">+137</td><td style=\"font-weight: bold; text-align:right\">0</td><td style=\"font-weight: bold; text-align:right\">4,380,326</td>\n<td data-continent=\"Asia\" style=\"display:none\">Asia</td>\n</tr><tr class=\"even\" role=\"row\" style=\"\">\n<td style=\"font-size:12px;color: grey;text-align:center;vertical-align:middle;\">51</td>\n<td style=\"font-weight: bold; font-size:15px; text-align:left;\"><a class=\"mt_a\" href=\"/coronavirus/country/qatar/\">Qatar</a></td>\n<td class=\"sorting_1\" style=\"font-weight: bold; text-align:right\">584</td>\n<td style=\"font-weight: bold; text-align:right\">386</td>\n<td style=\"font-weight: bold; text-align:right\">+51%</td>\n<td style=\"font-weight: bold; text-align:right\">196</td>\n<td style=\"font-weight: bold; text-align:right\">0</td>\n<td style=\"font-weight: bold; text-align:right\">0</td>\n<td style=\"font-weight: bold; text-align:right\">0%</td>\n<td style=\"font-weight: bold; text-align:right\">0</td>\n<td style=\"font-weight: bold; text-align:right\">+66</td><td style=\"font-weight: bold; text-align:right\">0</td><td style=\"font-weight: bold; text-align:right\">2,979,915</td>\n<td data-continent=\"Asia\" style=\"display:none\">Asia</td>\n</tr><tr class=\"odd\" role=\"row\" style=\"\">\n<td style=\"font-size:12px;color: grey;text-align:center;vertical-align:middle;\">52</td>\n<td style=\"font-weight: bold; font-size:15px; text-align:left;\"><a class=\"mt_a\" href=\"/coronavirus/country/brunei-darussalam/\">Brunei </a></td>\n<td class=\"sorting_1\" style=\"font-weight: bold; text-align:right\">551</td>\n<td style=\"font-weight: bold; text-align:right\">616</td>\n<td style=\"font-weight: bold; text-align:right\">-11%</td>\n<td style=\"font-weight: bold; text-align:right\">1,237</td>\n<td style=\"font-weight: bold; text-align:right\">0</td>\n<td style=\"font-weight: bold; text-align:right\">0</td>\n<td style=\"font-weight: bold; text-align:right\">0%</td>\n<td style=\"font-weight: bold; text-align:right\">0</td>\n<td style=\"font-weight: bold; text-align:right\">-146</td><td style=\"font-weight: bold; text-align:right\">0</td><td style=\"font-weight: bold; text-align:right\">445,431</td>\n<td data-continent=\"Asia\" style=\"display:none\">Asia</td>\n</tr><tr class=\"even\" role=\"row\" style=\"\">\n<td style=\"font-size:12px;color: grey;text-align:center;vertical-align:middle;\">53</td>\n<td style=\"font-weight: bold; font-size:15px; text-align:left;\"><a class=\"mt_a\" href=\"/coronavirus/country/zambia/\">Zambia</a></td>\n<td class=\"sorting_1\" style=\"font-weight: bold; text-align:right\">514</td>\n<td style=\"font-weight: bold; text-align:right\">29</td>\n<td style=\"font-weight: bold; text-align:right\">+1,672%</td>\n<td style=\"font-weight: bold; text-align:right\">26</td>\n<td style=\"font-weight: bold; text-align:right\">4</td>\n<td style=\"font-weight: bold; text-align:right\">0</td>\n<td style=\"font-weight: bold; text-align:right\">+400%</td>\n<td style=\"font-weight: bold; text-align:right\">0.2</td>\n<td style=\"font-weight: bold; text-align:right\">+25</td><td style=\"font-weight: bold; text-align:right\">+0.2</td><td style=\"font-weight: bold; text-align:right\">19,470,234</td>\n<td data-continent=\"Africa\" style=\"display:none\">Africa</td>\n</tr><tr class=\"odd\" role=\"row\" style=\"\">\n<td style=\"font-size:12px;color: grey;text-align:center;vertical-align:middle;\">54</td>\n<td style=\"font-weight: bold; font-size:15px; text-align:left;\"><a class=\"mt_a\" href=\"/coronavirus/country/armenia/\">Armenia</a></td>\n<td class=\"sorting_1\" style=\"font-weight: bold; text-align:right\">487</td>\n<td style=\"font-weight: bold; text-align:right\">0</td>\n<td style=\"font-weight: bold; text-align:right\">+48,700%</td>\n<td style=\"font-weight: bold; text-align:right\">164</td>\n<td style=\"font-weight: bold; text-align:right\">2</td>\n<td style=\"font-weight: bold; text-align:right\">0</td>\n<td style=\"font-weight: bold; text-align:right\">+200%</td>\n<td style=\"font-weight: bold; text-align:right\">0.7</td>\n<td style=\"font-weight: bold; text-align:right\">+164</td><td style=\"font-weight: bold; text-align:right\">+0.7</td><td style=\"font-weight: bold; text-align:right\">2,971,966</td>\n<td data-continent=\"Asia\" style=\"display:none\">Asia</td>\n</tr><tr class=\"even\" role=\"row\" style=\"\">\n<td style=\"font-size:12px;color: grey;text-align:center;vertical-align:middle;\">55</td>\n<td style=\"font-weight: bold; font-size:15px; text-align:left;\"><a class=\"mt_a\" href=\"/coronavirus/country/bulgaria/\">Bulgaria</a></td>\n<td class=\"sorting_1\" style=\"font-weight: bold; text-align:right\">468</td>\n<td style=\"font-weight: bold; text-align:right\">330</td>\n<td style=\"font-weight: bold; text-align:right\">+42%</td>\n<td style=\"font-weight: bold; text-align:right\">68</td>\n<td style=\"font-weight: bold; text-align:right\">7</td>\n<td style=\"font-weight: bold; text-align:right\">10</td>\n<td style=\"font-weight: bold; text-align:right\">-30%</td>\n<td style=\"font-weight: bold; text-align:right\">1</td>\n<td style=\"font-weight: bold; text-align:right\">+20</td><td style=\"font-weight: bold; text-align:right\">-0.4</td><td style=\"font-weight: bold; text-align:right\">6,844,597</td>\n<td data-continent=\"Europe\" style=\"display:none\">Europe</td>\n</tr><tr class=\"odd\" role=\"row\" style=\"\">\n<td style=\"font-size:12px;color: grey;text-align:center;vertical-align:middle;\">56</td>\n<td style=\"font-weight: bold; font-size:15px; text-align:left;\"><a class=\"mt_a\" href=\"/coronavirus/country/saudi-arabia/\">Saudi Arabia</a></td>\n<td class=\"sorting_1\" style=\"font-weight: bold; text-align:right\">370</td>\n<td style=\"font-weight: bold; text-align:right\">392</td>\n<td style=\"font-weight: bold; text-align:right\">-6%</td>\n<td style=\"font-weight: bold; text-align:right\">10</td>\n<td style=\"font-weight: bold; text-align:right\">12</td>\n<td style=\"font-weight: bold; text-align:right\">10</td>\n<td style=\"font-weight: bold; text-align:right\">+20%</td>\n<td style=\"font-weight: bold; text-align:right\">0.3</td>\n<td style=\"font-weight: bold; text-align:right\">-0.6</td><td style=\"font-weight: bold; text-align:right\">+0.1</td><td style=\"font-weight: bold; text-align:right\">35,844,909</td>\n<td data-continent=\"Asia\" style=\"display:none\">Asia</td>\n</tr><tr class=\"even\" role=\"row\" style=\"\">\n<td style=\"font-size:12px;color: grey;text-align:center;vertical-align:middle;\">57</td>\n<td style=\"font-weight: bold; font-size:15px; text-align:left;\"><a class=\"mt_a\" href=\"/coronavirus/country/sweden/\">Sweden</a></td>\n<td class=\"sorting_1\" style=\"font-weight: bold; text-align:right\">358</td>\n<td style=\"font-weight: bold; text-align:right\">813</td>\n<td style=\"font-weight: bold; text-align:right\">-56%</td>\n<td style=\"font-weight: bold; text-align:right\">35</td>\n<td style=\"font-weight: bold; text-align:right\">3</td>\n<td style=\"font-weight: bold; text-align:right\">18</td>\n<td style=\"font-weight: bold; text-align:right\">-83%</td>\n<td style=\"font-weight: bold; text-align:right\">0.3</td>\n<td style=\"font-weight: bold; text-align:right\">-45</td><td style=\"font-weight: bold; text-align:right\">-1</td><td style=\"font-weight: bold; text-align:right\">10,218,971</td>\n<td data-continent=\"Europe\" style=\"display:none\">Europe</td>\n</tr><tr class=\"odd\" role=\"row\" style=\"\">\n<td style=\"font-size:12px;color: grey;text-align:center;vertical-align:middle;\">58</td>\n<td style=\"font-weight: bold; font-size:15px; text-align:left;\"><a class=\"mt_a\" href=\"/coronavirus/country/panama/\">Panama</a></td>\n<td class=\"sorting_1\" style=\"font-weight: bold; text-align:right\">356</td>\n<td style=\"font-weight: bold; text-align:right\">444</td>\n<td style=\"font-weight: bold; text-align:right\">-20%</td>\n<td style=\"font-weight: bold; text-align:right\">80</td>\n<td style=\"font-weight: bold; text-align:right\">3</td>\n<td style=\"font-weight: bold; text-align:right\">1</td>\n<td style=\"font-weight: bold; text-align:right\">+200%</td>\n<td style=\"font-weight: bold; text-align:right\">0.7</td>\n<td style=\"font-weight: bold; text-align:right\">-20</td><td style=\"font-weight: bold; text-align:right\">+0.4</td><td style=\"font-weight: bold; text-align:right\">4,446,964</td>\n<td data-continent=\"North America\" style=\"display:none\">North America</td>\n</tr><tr class=\"even\" role=\"row\" style=\"\">\n<td style=\"font-size:12px;color: grey;text-align:center;vertical-align:middle;\">59</td>\n<td style=\"font-weight: bold; font-size:15px; text-align:left;\"><a class=\"mt_a\" href=\"/coronavirus/country/denmark/\">Denmark</a></td>\n<td class=\"sorting_1\" style=\"font-weight: bold; text-align:right\">349</td>\n<td style=\"font-weight: bold; text-align:right\">497</td>\n<td style=\"font-weight: bold; text-align:right\">-30%</td>\n<td style=\"font-weight: bold; text-align:right\">60</td>\n<td style=\"font-weight: bold; text-align:right\">10</td>\n<td style=\"font-weight: bold; text-align:right\">33</td>\n<td style=\"font-weight: bold; text-align:right\">-70%</td>\n<td style=\"font-weight: bold; text-align:right\">2</td>\n<td style=\"font-weight: bold; text-align:right\">-25</td><td style=\"font-weight: bold; text-align:right\">-4</td><td style=\"font-weight: bold; text-align:right\">5,834,950</td>\n<td data-continent=\"Europe\" style=\"display:none\">Europe</td>\n</tr><tr class=\"odd\" role=\"row\" style=\"\">\n<td style=\"font-size:12px;color: grey;text-align:center;vertical-align:middle;\">60</td>\n<td style=\"font-weight: bold; font-size:15px; text-align:left;\"><a class=\"mt_a\" href=\"/coronavirus/country/cameroon/\">Cameroon</a></td>\n<td class=\"sorting_1\" style=\"font-weight: bold; text-align:right\">335</td>\n<td style=\"font-weight: bold; text-align:right\">0</td>\n<td style=\"font-weight: bold; text-align:right\">+33,500%</td>\n<td style=\"font-weight: bold; text-align:right\">12</td>\n<td style=\"font-weight: bold; text-align:right\">0</td>\n<td style=\"font-weight: bold; text-align:right\">0</td>\n<td style=\"font-weight: bold; text-align:right\">0%</td>\n<td style=\"font-weight: bold; text-align:right\">0</td>\n<td style=\"font-weight: bold; text-align:right\">+12</td><td style=\"font-weight: bold; text-align:right\">0</td><td style=\"font-weight: bold; text-align:right\">27,911,548</td>\n<td data-continent=\"Africa\" style=\"display:none\">Africa</td>\n</tr><tr class=\"even\" role=\"row\" style=\"\">\n<td style=\"font-size:12px;color: grey;text-align:center;vertical-align:middle;\">61</td>\n<td style=\"font-weight: bold; font-size:15px; text-align:left;\"><a class=\"mt_a\" href=\"/coronavirus/country/estonia/\">Estonia</a></td>\n<td class=\"sorting_1\" style=\"font-weight: bold; text-align:right\">322</td>\n<td style=\"font-weight: bold; text-align:right\">328</td>\n<td style=\"font-weight: bold; text-align:right\">-2%</td>\n<td style=\"font-weight: bold; text-align:right\">244</td>\n<td style=\"font-weight: bold; text-align:right\">8</td>\n<td style=\"font-weight: bold; text-align:right\">7</td>\n<td style=\"font-weight: bold; text-align:right\">+14%</td>\n<td style=\"font-weight: bold; text-align:right\">6</td>\n<td style=\"font-weight: bold; text-align:right\">-5</td><td style=\"font-weight: bold; text-align:right\">+0.8</td><td style=\"font-weight: bold; text-align:right\">1,321,910</td>\n<td data-continent=\"Europe\" style=\"display:none\">Europe</td>\n</tr><tr class=\"odd\" role=\"row\" style=\"\">\n<td style=\"font-size:12px;color: grey;text-align:center;vertical-align:middle;\">62</td>\n<td style=\"font-weight: bold; font-size:15px; text-align:left;\"><a class=\"mt_a\" href=\"/coronavirus/country/uruguay/\">Uruguay</a></td>\n<td class=\"sorting_1\" style=\"font-weight: bold; text-align:right\">280</td>\n<td style=\"font-weight: bold; text-align:right\">501</td>\n<td style=\"font-weight: bold; text-align:right\">-44%</td>\n<td style=\"font-weight: bold; text-align:right\">80</td>\n<td style=\"font-weight: bold; text-align:right\">0</td>\n<td style=\"font-weight: bold; text-align:right\">3</td>\n<td style=\"font-weight: bold; text-align:right\">-100%</td>\n<td style=\"font-weight: bold; text-align:right\">0</td>\n<td style=\"font-weight: bold; text-align:right\">-63</td><td style=\"font-weight: bold; text-align:right\">-0.9</td><td style=\"font-weight: bold; text-align:right\">3,496,016</td>\n<td data-continent=\"South America\" style=\"display:none\">South America</td>\n</tr><tr class=\"even\" role=\"row\" style=\"\">\n<td style=\"font-size:12px;color: grey;text-align:center;vertical-align:middle;\">63</td>\n<td style=\"font-weight: bold; font-size:15px; text-align:left;\"><a class=\"mt_a\" href=\"/coronavirus/country/mozambique/\">Mozambique</a></td>\n<td class=\"sorting_1\" style=\"font-weight: bold; text-align:right\">279</td>\n<td style=\"font-weight: bold; text-align:right\">0</td>\n<td style=\"font-weight: bold; text-align:right\">+27,900%</td>\n<td style=\"font-weight: bold; text-align:right\">8</td>\n<td style=\"font-weight: bold; text-align:right\">5</td>\n<td style=\"font-weight: bold; text-align:right\">0</td>\n<td style=\"font-weight: bold; text-align:right\">+500%</td>\n<td style=\"font-weight: bold; text-align:right\">0.2</td>\n<td style=\"font-weight: bold; text-align:right\">+8</td><td style=\"font-weight: bold; text-align:right\">+0.2</td><td style=\"font-weight: bold; text-align:right\">33,089,461</td>\n<td data-continent=\"Africa\" style=\"display:none\">Africa</td>\n</tr><tr class=\"odd\" role=\"row\" style=\"\">\n<td style=\"font-size:12px;color: grey;text-align:center;vertical-align:middle;\">64</td>\n<td style=\"font-weight: bold; font-size:15px; text-align:left;\"><a class=\"mt_a\" href=\"/coronavirus/country/zimbabwe/\">Zimbabwe</a></td>\n<td class=\"sorting_1\" style=\"font-weight: bold; text-align:right\">279</td>\n<td style=\"font-weight: bold; text-align:right\">559</td>\n<td style=\"font-weight: bold; text-align:right\">-50%</td>\n<td style=\"font-weight: bold; text-align:right\">18</td>\n<td style=\"font-weight: bold; text-align:right\">1</td>\n<td style=\"font-weight: bold; text-align:right\">3</td>\n<td style=\"font-weight: bold; text-align:right\">-67%</td>\n<td style=\"font-weight: bold; text-align:right\">0.1</td>\n<td style=\"font-weight: bold; text-align:right\">-18</td><td style=\"font-weight: bold; text-align:right\">-0.1</td><td style=\"font-weight: bold; text-align:right\">15,331,428</td>\n<td data-continent=\"Africa\" style=\"display:none\">Africa</td>\n</tr><tr class=\"even\" role=\"row\" style=\"\">\n<td style=\"font-size:12px;color: grey;text-align:center;vertical-align:middle;\">65</td>\n<td style=\"font-weight: bold; font-size:15px; text-align:left;\"><a class=\"mt_a\" href=\"/coronavirus/country/norway/\">Norway</a></td>\n<td class=\"sorting_1\" style=\"font-weight: bold; text-align:right\">273</td>\n<td style=\"font-weight: bold; text-align:right\">306</td>\n<td style=\"font-weight: bold; text-align:right\">-11%</td>\n<td style=\"font-weight: bold; text-align:right\">50</td>\n<td style=\"font-weight: bold; text-align:right\">0</td>\n<td style=\"font-weight: bold; text-align:right\">0</td>\n<td style=\"font-weight: bold; text-align:right\">0%</td>\n<td style=\"font-weight: bold; text-align:right\">0</td>\n<td style=\"font-weight: bold; text-align:right\">-6</td><td style=\"font-weight: bold; text-align:right\">0</td><td style=\"font-weight: bold; text-align:right\">5,511,370</td>\n<td data-continent=\"Europe\" style=\"display:none\">Europe</td>\n</tr><tr class=\"odd\" role=\"row\" style=\"\">\n<td style=\"font-size:12px;color: grey;text-align:center;vertical-align:middle;\">66</td>\n<td style=\"font-weight: bold; font-size:15px; text-align:left;\"><a class=\"mt_a\" href=\"/coronavirus/country/pakistan/\">Pakistan</a></td>\n<td class=\"sorting_1\" style=\"font-weight: bold; text-align:right\">228</td>\n<td style=\"font-weight: bold; text-align:right\">171</td>\n<td style=\"font-weight: bold; text-align:right\">+33%</td>\n<td style=\"font-weight: bold; text-align:right\">1.0</td>\n<td style=\"font-weight: bold; text-align:right\">2</td>\n<td style=\"font-weight: bold; text-align:right\">1</td>\n<td style=\"font-weight: bold; text-align:right\">+100%</td>\n<td style=\"font-weight: bold; text-align:right\">0.0</td>\n<td style=\"font-weight: bold; text-align:right\">+0.2</td><td style=\"font-weight: bold; text-align:right\">0.0</td><td style=\"font-weight: bold; text-align:right\">229,488,994</td>\n<td data-continent=\"Asia\" style=\"display:none\">Asia</td>\n</tr><tr class=\"even\" role=\"row\" style=\"\">\n<td style=\"font-size:12px;color: grey;text-align:center;vertical-align:middle;\">67</td>\n<td style=\"font-weight: bold; font-size:15px; text-align:left;\"><a class=\"mt_a\" href=\"/coronavirus/country/trinidad-and-tobago/\">Trinidad and Tobago</a></td>\n<td class=\"sorting_1\" style=\"font-weight: bold; text-align:right\">226</td>\n<td style=\"font-weight: bold; text-align:right\">312</td>\n<td style=\"font-weight: bold; text-align:right\">-28%</td>\n<td style=\"font-weight: bold; text-align:right\">161</td>\n<td style=\"font-weight: bold; text-align:right\">3</td>\n<td style=\"font-weight: bold; text-align:right\">5</td>\n<td style=\"font-weight: bold; text-align:right\">-40%</td>\n<td style=\"font-weight: bold; text-align:right\">2</td>\n<td style=\"font-weight: bold; text-align:right\">-61</td><td style=\"font-weight: bold; text-align:right\">-1</td><td style=\"font-weight: bold; text-align:right\">1,406,585</td>\n<td data-continent=\"North America\" style=\"display:none\">North America</td>\n</tr><tr class=\"odd\" role=\"row\" style=\"\">\n<td style=\"font-size:12px;color: grey;text-align:center;vertical-align:middle;\">68</td>\n<td style=\"font-weight: bold; font-size:15px; text-align:left;\"><a class=\"mt_a\" href=\"/coronavirus/country/barbados/\">Barbados</a></td>\n<td class=\"sorting_1\" style=\"font-weight: bold; text-align:right\">211</td>\n<td style=\"font-weight: bold; text-align:right\">0</td>\n<td style=\"font-weight: bold; text-align:right\">+21,100%</td>\n<td style=\"font-weight: bold; text-align:right\">733</td>\n<td style=\"font-weight: bold; text-align:right\">2</td>\n<td style=\"font-weight: bold; text-align:right\">0</td>\n<td style=\"font-weight: bold; text-align:right\">+200%</td>\n<td style=\"font-weight: bold; text-align:right\">7</td>\n<td style=\"font-weight: bold; text-align:right\">+733</td><td style=\"font-weight: bold; text-align:right\">+7</td><td style=\"font-weight: bold; text-align:right\">288,023</td>\n<td data-continent=\"North America\" style=\"display:none\">North America</td>\n</tr><tr class=\"even\" role=\"row\" style=\"\">\n<td style=\"font-size:12px;color: grey;text-align:center;vertical-align:middle;\">69</td>\n<td style=\"font-weight: bold; font-size:15px; text-align:left;\"><a class=\"mt_a\" href=\"/coronavirus/country/finland/\">Finland</a></td>\n<td class=\"sorting_1\" style=\"font-weight: bold; text-align:right\">210</td>\n<td style=\"font-weight: bold; text-align:right\">527</td>\n<td style=\"font-weight: bold; text-align:right\">-60%</td>\n<td style=\"font-weight: bold; text-align:right\">38</td>\n<td style=\"font-weight: bold; text-align:right\">0</td>\n<td style=\"font-weight: bold; text-align:right\">4</td>\n<td style=\"font-weight: bold; text-align:right\">-100%</td>\n<td style=\"font-weight: bold; text-align:right\">0</td>\n<td style=\"font-weight: bold; text-align:right\">-57</td><td style=\"font-weight: bold; text-align:right\">-0.7</td><td style=\"font-weight: bold; text-align:right\">5,554,960</td>\n<td data-continent=\"Europe\" style=\"display:none\">Europe</td>\n</tr><tr class=\"odd\" role=\"row\" style=\"\">\n<td style=\"font-size:12px;color: grey;text-align:center;vertical-align:middle;\">70</td>\n<td style=\"font-weight: bold; font-size:15px; text-align:left;\"><a class=\"mt_a\" href=\"/coronavirus/country/thailand/\">Thailand</a></td>\n<td class=\"sorting_1\" style=\"font-weight: bold; text-align:right\">203</td>\n<td style=\"font-weight: bold; text-align:right\">392</td>\n<td style=\"font-weight: bold; text-align:right\">-48%</td>\n<td style=\"font-weight: bold; text-align:right\">3</td>\n<td style=\"font-weight: bold; text-align:right\">8</td>\n<td style=\"font-weight: bold; text-align:right\">12</td>\n<td style=\"font-weight: bold; text-align:right\">-33%</td>\n<td style=\"font-weight: bold; text-align:right\">0.1</td>\n<td style=\"font-weight: bold; text-align:right\">-3</td><td style=\"font-weight: bold; text-align:right\">-0.1</td><td style=\"font-weight: bold; text-align:right\">70,078,203</td>\n<td data-continent=\"Asia\" style=\"display:none\">Asia</td>\n</tr><tr class=\"even\" role=\"row\" style=\"\">\n<td style=\"font-size:12px;color: grey;text-align:center;vertical-align:middle;\">71</td>\n<td style=\"font-weight: bold; font-size:15px; text-align:left;\"><a class=\"mt_a\" href=\"/coronavirus/country/tunisia/\">Tunisia</a></td>\n<td class=\"sorting_1\" style=\"font-weight: bold; text-align:right\">187</td>\n<td style=\"font-weight: bold; text-align:right\">129</td>\n<td style=\"font-weight: bold; text-align:right\">+45%</td>\n<td style=\"font-weight: bold; text-align:right\">16</td>\n<td style=\"font-weight: bold; text-align:right\">4</td>\n<td style=\"font-weight: bold; text-align:right\">3</td>\n<td style=\"font-weight: bold; text-align:right\">+33%</td>\n<td style=\"font-weight: bold; text-align:right\">0.3</td>\n<td style=\"font-weight: bold; text-align:right\">+5</td><td style=\"font-weight: bold; text-align:right\">+0.1</td><td style=\"font-weight: bold; text-align:right\">12,046,656</td>\n<td data-continent=\"Africa\" style=\"display:none\">Africa</td>\n</tr><tr class=\"odd\" role=\"row\" style=\"\">\n<td style=\"font-size:12px;color: grey;text-align:center;vertical-align:middle;\">72</td>\n<td style=\"font-weight: bold; font-size:15px; text-align:left;\"><a class=\"mt_a\" href=\"/coronavirus/country/azerbaijan/\">Azerbaijan</a></td>\n<td class=\"sorting_1\" style=\"font-weight: bold; text-align:right\">160</td>\n<td style=\"font-weight: bold; text-align:right\">123</td>\n<td style=\"font-weight: bold; text-align:right\">+30%</td>\n<td style=\"font-weight: bold; text-align:right\">16</td>\n<td style=\"font-weight: bold; text-align:right\">14</td>\n<td style=\"font-weight: bold; text-align:right\">5</td>\n<td style=\"font-weight: bold; text-align:right\">+180%</td>\n<td style=\"font-weight: bold; text-align:right\">1</td>\n<td style=\"font-weight: bold; text-align:right\">+4</td><td style=\"font-weight: bold; text-align:right\">+0.9</td><td style=\"font-weight: bold; text-align:right\">10,300,205</td>\n<td data-continent=\"Asia\" style=\"display:none\">Asia</td>\n</tr><tr class=\"even\" role=\"row\" style=\"\">\n<td style=\"font-size:12px;color: grey;text-align:center;vertical-align:middle;\">73</td>\n<td style=\"font-weight: bold; font-size:15px; text-align:left;\"><a class=\"mt_a\" href=\"/coronavirus/country/guadeloupe/\">Guadeloupe</a></td>\n<td class=\"sorting_1\" style=\"font-weight: bold; text-align:right\">148</td>\n<td style=\"font-weight: bold; text-align:right\">0</td>\n<td style=\"font-weight: bold; text-align:right\">+14,800%</td>\n<td style=\"font-weight: bold; text-align:right\">370</td>\n<td style=\"font-weight: bold; text-align:right\">0</td>\n<td style=\"font-weight: bold; text-align:right\">0</td>\n<td style=\"font-weight: bold; text-align:right\">0%</td>\n<td style=\"font-weight: bold; text-align:right\">0</td>\n<td style=\"font-weight: bold; text-align:right\">+370</td><td style=\"font-weight: bold; text-align:right\">0</td><td style=\"font-weight: bold; text-align:right\">399,794</td>\n<td data-continent=\"North America\" style=\"display:none\">North America</td>\n</tr><tr class=\"odd\" role=\"row\" style=\"\">\n<td style=\"font-size:12px;color: grey;text-align:center;vertical-align:middle;\">74</td>\n<td style=\"font-weight: bold; font-size:15px; text-align:left;\"><a class=\"mt_a\" href=\"/coronavirus/country/afghanistan/\">Afghanistan</a></td>\n<td class=\"sorting_1\" style=\"font-weight: bold; text-align:right\">135</td>\n<td style=\"font-weight: bold; text-align:right\">139</td>\n<td style=\"font-weight: bold; text-align:right\">-3%</td>\n<td style=\"font-weight: bold; text-align:right\">3</td>\n<td style=\"font-weight: bold; text-align:right\">0</td>\n<td style=\"font-weight: bold; text-align:right\">0</td>\n<td style=\"font-weight: bold; text-align:right\">0%</td>\n<td style=\"font-weight: bold; text-align:right\">0</td>\n<td style=\"font-weight: bold; text-align:right\">-0.1</td><td style=\"font-weight: bold; text-align:right\">0</td><td style=\"font-weight: bold; text-align:right\">40,754,388</td>\n<td data-continent=\"Asia\" style=\"display:none\">Asia</td>\n</tr><tr class=\"even\" role=\"row\" style=\"\">\n<td style=\"font-size:12px;color: grey;text-align:center;vertical-align:middle;\">75</td>\n<td style=\"font-weight: bold; font-size:15px; text-align:left;\"><a class=\"mt_a\" href=\"/coronavirus/country/nauru/\">Nauru</a></td>\n<td class=\"sorting_1\" style=\"font-weight: bold; text-align:right\">126</td>\n<td style=\"font-weight: bold; text-align:right\">306</td>\n<td style=\"font-weight: bold; text-align:right\">-59%</td>\n<td style=\"font-weight: bold; text-align:right\">11,556</td>\n<td style=\"font-weight: bold; text-align:right\">0</td>\n<td style=\"font-weight: bold; text-align:right\">0</td>\n<td style=\"font-weight: bold; text-align:right\">0%</td>\n<td style=\"font-weight: bold; text-align:right\">0</td>\n<td style=\"font-weight: bold; text-align:right\">-16,509</td><td style=\"font-weight: bold; text-align:right\">0</td><td style=\"font-weight: bold; text-align:right\">10,903</td>\n<td data-continent=\"Australia/Oceania\" style=\"display:none\">Australia/Oceania</td>\n</tr><tr class=\"odd\" role=\"row\" style=\"\">\n<td style=\"font-size:12px;color: grey;text-align:center;vertical-align:middle;\">76</td>\n<td style=\"font-weight: bold; font-size:15px; text-align:left;\"><a class=\"mt_a\" href=\"/coronavirus/country/macedonia/\">North Macedonia</a></td>\n<td class=\"sorting_1\" style=\"font-weight: bold; text-align:right\">119</td>\n<td style=\"font-weight: bold; text-align:right\">0</td>\n<td style=\"font-weight: bold; text-align:right\">+11,900%</td>\n<td style=\"font-weight: bold; text-align:right\">57</td>\n<td style=\"font-weight: bold; text-align:right\">9</td>\n<td style=\"font-weight: bold; text-align:right\">0</td>\n<td style=\"font-weight: bold; text-align:right\">+900%</td>\n<td style=\"font-weight: bold; text-align:right\">4</td>\n<td style=\"font-weight: bold; text-align:right\">+57</td><td style=\"font-weight: bold; text-align:right\">+4</td><td style=\"font-weight: bold; text-align:right\">2,081,304</td>\n<td data-continent=\"Europe\" style=\"display:none\">Europe</td>\n</tr><tr class=\"even\" role=\"row\" style=\"\">\n<td style=\"font-size:12px;color: grey;text-align:center;vertical-align:middle;\">77</td>\n<td style=\"font-weight: bold; font-size:15px; text-align:left;\"><a class=\"mt_a\" href=\"/coronavirus/country/latvia/\">Latvia</a></td>\n<td class=\"sorting_1\" style=\"font-weight: bold; text-align:right\">118</td>\n<td style=\"font-weight: bold; text-align:right\">171</td>\n<td style=\"font-weight: bold; text-align:right\">-31%</td>\n<td style=\"font-weight: bold; text-align:right\">64</td>\n<td style=\"font-weight: bold; text-align:right\">4</td>\n<td style=\"font-weight: bold; text-align:right\">8</td>\n<td style=\"font-weight: bold; text-align:right\">-50%</td>\n<td style=\"font-weight: bold; text-align:right\">2</td>\n<td style=\"font-weight: bold; text-align:right\">-29</td><td style=\"font-weight: bold; text-align:right\">-2</td><td style=\"font-weight: bold; text-align:right\">1,848,837</td>\n<td data-continent=\"Europe\" style=\"display:none\">Europe</td>\n</tr><tr class=\"odd\" role=\"row\" style=\"\">\n<td style=\"font-size:12px;color: grey;text-align:center;vertical-align:middle;\">78</td>\n<td style=\"font-weight: bold; font-size:15px; text-align:left;\"><a class=\"mt_a\" href=\"/coronavirus/country/kazakhstan/\">Kazakhstan</a></td>\n<td class=\"sorting_1\" style=\"font-weight: bold; text-align:right\">110</td>\n<td style=\"font-weight: bold; text-align:right\">559</td>\n<td style=\"font-weight: bold; text-align:right\">-80%</td>\n<td style=\"font-weight: bold; text-align:right\">6</td>\n<td style=\"font-weight: bold; text-align:right\">0</td>\n<td style=\"font-weight: bold; text-align:right\">3</td>\n<td style=\"font-weight: bold; text-align:right\">-100%</td>\n<td style=\"font-weight: bold; text-align:right\">0</td>\n<td style=\"font-weight: bold; text-align:right\">-23</td><td style=\"font-weight: bold; text-align:right\">-0.2</td><td style=\"font-weight: bold; text-align:right\">19,205,043</td>\n<td data-continent=\"Asia\" style=\"display:none\">Asia</td>\n</tr><tr class=\"even\" role=\"row\" style=\"\">\n<td style=\"font-size:12px;color: grey;text-align:center;vertical-align:middle;\">79</td>\n<td style=\"font-weight: bold; font-size:15px; text-align:left;\"><a class=\"mt_a\" href=\"/coronavirus/country/ethiopia/\">Ethiopia</a></td>\n<td class=\"sorting_1\" style=\"font-weight: bold; text-align:right\">94</td>\n<td style=\"font-weight: bold; text-align:right\">100</td>\n<td style=\"font-weight: bold; text-align:right\">-6%</td>\n<td style=\"font-weight: bold; text-align:right\">0.8</td>\n<td style=\"font-weight: bold; text-align:right\">0</td>\n<td style=\"font-weight: bold; text-align:right\">0</td>\n<td style=\"font-weight: bold; text-align:right\">0%</td>\n<td style=\"font-weight: bold; text-align:right\">0</td>\n<td style=\"font-weight: bold; text-align:right\">0.0</td><td style=\"font-weight: bold; text-align:right\">0</td><td style=\"font-weight: bold; text-align:right\">120,812,698</td>\n<td data-continent=\"Africa\" style=\"display:none\">Africa</td>\n</tr><tr class=\"odd\" role=\"row\" style=\"\">\n<td style=\"font-size:12px;color: grey;text-align:center;vertical-align:middle;\">80</td>\n<td style=\"font-weight: bold; font-size:15px; text-align:left;\"><a class=\"mt_a\" href=\"/coronavirus/country/viet-nam/\">Vietnam</a></td>\n<td class=\"sorting_1\" style=\"font-weight: bold; text-align:right\">91</td>\n<td style=\"font-weight: bold; text-align:right\">118</td>\n<td style=\"font-weight: bold; text-align:right\">-23%</td>\n<td style=\"font-weight: bold; text-align:right\">0.9</td>\n<td style=\"font-weight: bold; text-align:right\">0</td>\n<td style=\"font-weight: bold; text-align:right\">0</td>\n<td style=\"font-weight: bold; text-align:right\">0%</td>\n<td style=\"font-weight: bold; text-align:right\">0</td>\n<td style=\"font-weight: bold; text-align:right\">-0.3</td><td style=\"font-weight: bold; text-align:right\">0</td><td style=\"font-weight: bold; text-align:right\">98,953,541</td>\n<td data-continent=\"Asia\" style=\"display:none\">Asia</td>\n</tr><tr class=\"even\" role=\"row\" style=\"\">\n<td style=\"font-size:12px;color: grey;text-align:center;vertical-align:middle;\">81</td>\n<td style=\"font-weight: bold; font-size:15px; text-align:left;\"><a class=\"mt_a\" href=\"/coronavirus/country/malta/\">Malta</a></td>\n<td class=\"sorting_1\" style=\"font-weight: bold; text-align:right\">90</td>\n<td style=\"font-weight: bold; text-align:right\">82</td>\n<td style=\"font-weight: bold; text-align:right\">+10%</td>\n<td style=\"font-weight: bold; text-align:right\">203</td>\n<td style=\"font-weight: bold; text-align:right\">1</td>\n<td style=\"font-weight: bold; text-align:right\">0</td>\n<td style=\"font-weight: bold; text-align:right\">+100%</td>\n<td style=\"font-weight: bold; text-align:right\">2</td>\n<td style=\"font-weight: bold; text-align:right\">+18</td><td style=\"font-weight: bold; text-align:right\">+2</td><td style=\"font-weight: bold; text-align:right\">444,033</td>\n<td data-continent=\"Europe\" style=\"display:none\">Europe</td>\n</tr><tr class=\"odd\" role=\"row\" style=\"\">\n<td style=\"font-size:12px;color: grey;text-align:center;vertical-align:middle;\">82</td>\n<td style=\"font-weight: bold; font-size:15px; text-align:left;\"><a class=\"mt_a\" href=\"/coronavirus/country/mali/\">Mali</a></td>\n<td class=\"sorting_1\" style=\"font-weight: bold; text-align:right\">84</td>\n<td style=\"font-weight: bold; text-align:right\">81</td>\n<td style=\"font-weight: bold; text-align:right\">+4%</td>\n<td style=\"font-weight: bold; text-align:right\">4</td>\n<td style=\"font-weight: bold; text-align:right\">0</td>\n<td style=\"font-weight: bold; text-align:right\">0</td>\n<td style=\"font-weight: bold; text-align:right\">0%</td>\n<td style=\"font-weight: bold; text-align:right\">0</td>\n<td style=\"font-weight: bold; text-align:right\">+0.1</td><td style=\"font-weight: bold; text-align:right\">0</td><td style=\"font-weight: bold; text-align:right\">21,473,764</td>\n<td data-continent=\"Africa\" style=\"display:none\">Africa</td>\n</tr><tr class=\"even\" role=\"row\" style=\"\">\n<td style=\"font-size:12px;color: grey;text-align:center;vertical-align:middle;\">83</td>\n<td style=\"font-weight: bold; font-size:15px; text-align:left;\"><a class=\"mt_a\" href=\"/coronavirus/country/iceland/\">Iceland</a></td>\n<td class=\"sorting_1\" style=\"font-weight: bold; text-align:right\">78</td>\n<td style=\"font-weight: bold; text-align:right\">82</td>\n<td style=\"font-weight: bold; text-align:right\">-5%</td>\n<td style=\"font-weight: bold; text-align:right\">226</td>\n<td style=\"font-weight: bold; text-align:right\">0</td>\n<td style=\"font-weight: bold; text-align:right\">0</td>\n<td style=\"font-weight: bold; text-align:right\">0%</td>\n<td style=\"font-weight: bold; text-align:right\">0</td>\n<td style=\"font-weight: bold; text-align:right\">-12</td><td style=\"font-weight: bold; text-align:right\">0</td><td style=\"font-weight: bold; text-align:right\">345,393</td>\n<td data-continent=\"Europe\" style=\"display:none\">Europe</td>\n</tr><tr class=\"odd\" role=\"row\" style=\"\">\n<td style=\"font-size:12px;color: grey;text-align:center;vertical-align:middle;\">84</td>\n<td style=\"font-weight: bold; font-size:15px; text-align:left;\"><a class=\"mt_a\" href=\"/coronavirus/country/cote-d-ivoire/\">Ivory Coast</a></td>\n<td class=\"sorting_1\" style=\"font-weight: bold; text-align:right\">73</td>\n<td style=\"font-weight: bold; text-align:right\">46</td>\n<td style=\"font-weight: bold; text-align:right\">+59%</td>\n<td style=\"font-weight: bold; text-align:right\">3</td>\n<td style=\"font-weight: bold; text-align:right\">0</td>\n<td style=\"font-weight: bold; text-align:right\">0</td>\n<td style=\"font-weight: bold; text-align:right\">0%</td>\n<td style=\"font-weight: bold; text-align:right\">0</td>\n<td style=\"font-weight: bold; text-align:right\">+1.0</td><td style=\"font-weight: bold; text-align:right\">0</td><td style=\"font-weight: bold; text-align:right\">27,742,298</td>\n<td data-continent=\"Africa\" style=\"display:none\">Africa</td>\n</tr><tr class=\"even\" role=\"row\" style=\"\">\n<td style=\"font-size:12px;color: grey;text-align:center;vertical-align:middle;\">85</td>\n<td style=\"font-weight: bold; font-size:15px; text-align:left;\"><a class=\"mt_a\" href=\"/coronavirus/country/croatia/\">Croatia</a></td>\n<td class=\"sorting_1\" style=\"font-weight: bold; text-align:right\">71</td>\n<td style=\"font-weight: bold; text-align:right\">371</td>\n<td style=\"font-weight: bold; text-align:right\">-81%</td>\n<td style=\"font-weight: bold; text-align:right\">17</td>\n<td style=\"font-weight: bold; text-align:right\">5</td>\n<td style=\"font-weight: bold; text-align:right\">22</td>\n<td style=\"font-weight: bold; text-align:right\">-77%</td>\n<td style=\"font-weight: bold; text-align:right\">1</td>\n<td style=\"font-weight: bold; text-align:right\">-74</td><td style=\"font-weight: bold; text-align:right\">-4</td><td style=\"font-weight: bold; text-align:right\">4,059,286</td>\n<td data-continent=\"Europe\" style=\"display:none\">Europe</td>\n</tr><tr class=\"odd\" role=\"row\" style=\"\">\n<td style=\"font-size:12px;color: grey;text-align:center;vertical-align:middle;\">86</td>\n<td style=\"font-weight: bold; font-size:15px; text-align:left;\"><a class=\"mt_a\" href=\"/coronavirus/country/botswana/\">Botswana</a></td>\n<td class=\"sorting_1\" style=\"font-weight: bold; text-align:right\">67</td>\n<td style=\"font-weight: bold; text-align:right\">101</td>\n<td style=\"font-weight: bold; text-align:right\">-34%</td>\n<td style=\"font-weight: bold; text-align:right\">27</td>\n<td style=\"font-weight: bold; text-align:right\">0</td>\n<td style=\"font-weight: bold; text-align:right\">0</td>\n<td style=\"font-weight: bold; text-align:right\">0%</td>\n<td style=\"font-weight: bold; text-align:right\">0</td>\n<td style=\"font-weight: bold; text-align:right\">-14</td><td style=\"font-weight: bold; text-align:right\">0</td><td style=\"font-weight: bold; text-align:right\">2,441,162</td>\n<td data-continent=\"Africa\" style=\"display:none\">Africa</td>\n</tr><tr class=\"even\" role=\"row\" style=\"\">\n<td style=\"font-size:12px;color: grey;text-align:center;vertical-align:middle;\">87</td>\n<td style=\"font-weight: bold; font-size:15px; text-align:left;\"><a class=\"mt_a\" href=\"/coronavirus/country/albania/\">Albania</a></td>\n<td class=\"sorting_1\" style=\"font-weight: bold; text-align:right\">64</td>\n<td style=\"font-weight: bold; text-align:right\">59</td>\n<td style=\"font-weight: bold; text-align:right\">+8%</td>\n<td style=\"font-weight: bold; text-align:right\">22</td>\n<td style=\"font-weight: bold; text-align:right\">0</td>\n<td style=\"font-weight: bold; text-align:right\">1</td>\n<td style=\"font-weight: bold; text-align:right\">-100%</td>\n<td style=\"font-weight: bold; text-align:right\">0</td>\n<td style=\"font-weight: bold; text-align:right\">+2</td><td style=\"font-weight: bold; text-align:right\">-0.3</td><td style=\"font-weight: bold; text-align:right\">2,866,374</td>\n<td data-continent=\"Europe\" style=\"display:none\">Europe</td>\n</tr><tr class=\"odd\" role=\"row\" style=\"\">\n<td style=\"font-size:12px;color: grey;text-align:center;vertical-align:middle;\">88</td>\n<td style=\"font-weight: bold; font-size:15px; text-align:left;\"><a class=\"mt_a\" href=\"/coronavirus/country/venezuela/\">Venezuela</a></td>\n<td class=\"sorting_1\" style=\"font-weight: bold; text-align:right\">63</td>\n<td style=\"font-weight: bold; text-align:right\">110</td>\n<td style=\"font-weight: bold; text-align:right\">-43%</td>\n<td style=\"font-weight: bold; text-align:right\">2</td>\n<td style=\"font-weight: bold; text-align:right\">1</td>\n<td style=\"font-weight: bold; text-align:right\">1</td>\n<td style=\"font-weight: bold; text-align:right\">0%</td>\n<td style=\"font-weight: bold; text-align:right\">0.0</td>\n<td style=\"font-weight: bold; text-align:right\">-2</td><td style=\"font-weight: bold; text-align:right\">0</td><td style=\"font-weight: bold; text-align:right\">29,266,991</td>\n<td data-continent=\"South America\" style=\"display:none\">South America</td>\n</tr><tr class=\"even\" role=\"row\" style=\"\">\n<td style=\"font-size:12px;color: grey;text-align:center;vertical-align:middle;\">89</td>\n<td style=\"font-weight: bold; font-size:15px; text-align:left;\"><a class=\"mt_a\" href=\"/coronavirus/country/channel-islands/\">Channel Islands</a></td>\n<td class=\"sorting_1\" style=\"font-weight: bold; text-align:right\">62</td>\n<td style=\"font-weight: bold; text-align:right\">53</td>\n<td style=\"font-weight: bold; text-align:right\">+17%</td>\n<td style=\"font-weight: bold; text-align:right\">351</td>\n<td style=\"font-weight: bold; text-align:right\">0</td>\n<td style=\"font-weight: bold; text-align:right\">0</td>\n<td style=\"font-weight: bold; text-align:right\">0%</td>\n<td style=\"font-weight: bold; text-align:right\">0</td>\n<td style=\"font-weight: bold; text-align:right\">+51</td><td style=\"font-weight: bold; text-align:right\">0</td><td style=\"font-weight: bold; text-align:right\">176,463</td>\n<td data-continent=\"Europe\" style=\"display:none\">Europe</td>\n</tr><tr class=\"odd\" role=\"row\" style=\"\">\n<td style=\"font-size:12px;color: grey;text-align:center;vertical-align:middle;\">90</td>\n<td style=\"font-weight: bold; font-size:15px; text-align:left;\"><a class=\"mt_a\" href=\"/coronavirus/country/morocco/\">Morocco</a></td>\n<td class=\"sorting_1\" style=\"font-weight: bold; text-align:right\">62</td>\n<td style=\"font-weight: bold; text-align:right\">48</td>\n<td style=\"font-weight: bold; text-align:right\">+29%</td>\n<td style=\"font-weight: bold; text-align:right\">2</td>\n<td style=\"font-weight: bold; text-align:right\">0</td>\n<td style=\"font-weight: bold; text-align:right\">0</td>\n<td style=\"font-weight: bold; text-align:right\">0%</td>\n<td style=\"font-weight: bold; text-align:right\">0</td>\n<td style=\"font-weight: bold; text-align:right\">+0.4</td><td style=\"font-weight: bold; text-align:right\">0</td><td style=\"font-weight: bold; text-align:right\">37,772,756</td>\n<td data-continent=\"Africa\" style=\"display:none\">Africa</td>\n</tr><tr class=\"even\" role=\"row\" style=\"\">\n<td style=\"font-size:12px;color: grey;text-align:center;vertical-align:middle;\">91</td>\n<td style=\"font-weight: bold; font-size:15px; text-align:left;\"><a class=\"mt_a\" href=\"/coronavirus/country/namibia/\">Namibia</a></td>\n<td class=\"sorting_1\" style=\"font-weight: bold; text-align:right\">62</td>\n<td style=\"font-weight: bold; text-align:right\">318</td>\n<td style=\"font-weight: bold; text-align:right\">-81%</td>\n<td style=\"font-weight: bold; text-align:right\">24</td>\n<td style=\"font-weight: bold; text-align:right\">0</td>\n<td style=\"font-weight: bold; text-align:right\">2</td>\n<td style=\"font-weight: bold; text-align:right\">-100%</td>\n<td style=\"font-weight: bold; text-align:right\">0</td>\n<td style=\"font-weight: bold; text-align:right\">-97</td><td style=\"font-weight: bold; text-align:right\">-0.8</td><td style=\"font-weight: bold; text-align:right\">2,633,874</td>\n<td data-continent=\"Africa\" style=\"display:none\">Africa</td>\n</tr><tr class=\"odd\" role=\"row\" style=\"\">\n<td style=\"font-size:12px;color: grey;text-align:center;vertical-align:middle;\">92</td>\n<td style=\"font-weight: bold; font-size:15px; text-align:left;\"><a class=\"mt_a\" href=\"/coronavirus/country/uzbekistan/\">Uzbekistan</a></td>\n<td class=\"sorting_1\" style=\"font-weight: bold; text-align:right\">59</td>\n<td style=\"font-weight: bold; text-align:right\">130</td>\n<td style=\"font-weight: bold; text-align:right\">-55%</td>\n<td style=\"font-weight: bold; text-align:right\">2</td>\n<td style=\"font-weight: bold; text-align:right\">0</td>\n<td style=\"font-weight: bold; text-align:right\">0</td>\n<td style=\"font-weight: bold; text-align:right\">0%</td>\n<td style=\"font-weight: bold; text-align:right\">0</td>\n<td style=\"font-weight: bold; text-align:right\">-2</td><td style=\"font-weight: bold; text-align:right\">0</td><td style=\"font-weight: bold; text-align:right\">34,382,084</td>\n<td data-continent=\"Asia\" style=\"display:none\">Asia</td>\n</tr><tr class=\"even\" role=\"row\" style=\"\">\n<td style=\"font-size:12px;color: grey;text-align:center;vertical-align:middle;\">93</td>\n<td style=\"font-weight: bold; font-size:15px; text-align:left;\"><a class=\"mt_a\" href=\"/coronavirus/country/bosnia-and-herzegovina/\">Bosnia and Herzegovina</a></td>\n<td class=\"sorting_1\" style=\"font-weight: bold; text-align:right\">48</td>\n<td style=\"font-weight: bold; text-align:right\">55</td>\n<td style=\"font-weight: bold; text-align:right\">-13%</td>\n<td style=\"font-weight: bold; text-align:right\">15</td>\n<td style=\"font-weight: bold; text-align:right\">11</td>\n<td style=\"font-weight: bold; text-align:right\">6</td>\n<td style=\"font-weight: bold; text-align:right\">+83%</td>\n<td style=\"font-weight: bold; text-align:right\">3</td>\n<td style=\"font-weight: bold; text-align:right\">-2</td><td style=\"font-weight: bold; text-align:right\">+2</td><td style=\"font-weight: bold; text-align:right\">3,249,317</td>\n<td data-continent=\"Europe\" style=\"display:none\">Europe</td>\n</tr><tr class=\"odd\" role=\"row\" style=\"\">\n<td style=\"font-size:12px;color: grey;text-align:center;vertical-align:middle;\">94</td>\n<td style=\"font-weight: bold; font-size:15px; text-align:left;\"><a class=\"mt_a\" href=\"/coronavirus/country/tanzania/\">Tanzania</a></td>\n<td class=\"sorting_1\" style=\"font-weight: bold; text-align:right\">48</td>\n<td style=\"font-weight: bold; text-align:right\">58</td>\n<td style=\"font-weight: bold; text-align:right\">-17%</td>\n<td style=\"font-weight: bold; text-align:right\">0.8</td>\n<td style=\"font-weight: bold; text-align:right\">0</td>\n<td style=\"font-weight: bold; text-align:right\">0</td>\n<td style=\"font-weight: bold; text-align:right\">0%</td>\n<td style=\"font-weight: bold; text-align:right\">0</td>\n<td style=\"font-weight: bold; text-align:right\">-0.2</td><td style=\"font-weight: bold; text-align:right\">0</td><td style=\"font-weight: bold; text-align:right\">63,298,550</td>\n<td data-continent=\"Africa\" style=\"display:none\">Africa</td>\n</tr><tr class=\"even\" role=\"row\" style=\"\">\n<td style=\"font-size:12px;color: grey;text-align:center;vertical-align:middle;\">95</td>\n<td style=\"font-weight: bold; font-size:15px; text-align:left;\"><a class=\"mt_a\" href=\"/coronavirus/country/dominican-republic/\">Dominican Republic</a></td>\n<td class=\"sorting_1\" style=\"font-weight: bold; text-align:right\">41</td>\n<td style=\"font-weight: bold; text-align:right\">80</td>\n<td style=\"font-weight: bold; text-align:right\">-49%</td>\n<td style=\"font-weight: bold; text-align:right\">4</td>\n<td style=\"font-weight: bold; text-align:right\">0</td>\n<td style=\"font-weight: bold; text-align:right\">0</td>\n<td style=\"font-weight: bold; text-align:right\">0%</td>\n<td style=\"font-weight: bold; text-align:right\">0</td>\n<td style=\"font-weight: bold; text-align:right\">-4</td><td style=\"font-weight: bold; text-align:right\">0</td><td style=\"font-weight: bold; text-align:right\">11,056,370</td>\n<td data-continent=\"North America\" style=\"display:none\">North America</td>\n</tr><tr class=\"odd\" role=\"row\" style=\"\">\n<td style=\"font-size:12px;color: grey;text-align:center;vertical-align:middle;\">96</td>\n<td style=\"font-weight: bold; font-size:15px; text-align:left;\"><a class=\"mt_a\" href=\"/coronavirus/country/malawi/\">Malawi</a></td>\n<td class=\"sorting_1\" style=\"font-weight: bold; text-align:right\">41</td>\n<td style=\"font-weight: bold; text-align:right\">81</td>\n<td style=\"font-weight: bold; text-align:right\">-49%</td>\n<td style=\"font-weight: bold; text-align:right\">2</td>\n<td style=\"font-weight: bold; text-align:right\">0</td>\n<td style=\"font-weight: bold; text-align:right\">0</td>\n<td style=\"font-weight: bold; text-align:right\">0%</td>\n<td style=\"font-weight: bold; text-align:right\">0</td>\n<td style=\"font-weight: bold; text-align:right\">-2</td><td style=\"font-weight: bold; text-align:right\">0</td><td style=\"font-weight: bold; text-align:right\">20,180,839</td>\n<td data-continent=\"Africa\" style=\"display:none\">Africa</td>\n</tr><tr class=\"even\" role=\"row\" style=\"\">\n<td style=\"font-size:12px;color: grey;text-align:center;vertical-align:middle;\">97</td>\n<td style=\"font-weight: bold; font-size:15px; text-align:left;\"><a class=\"mt_a\" href=\"/coronavirus/country/bangladesh/\">Bangladesh</a></td>\n<td class=\"sorting_1\" style=\"font-weight: bold; text-align:right\">35</td>\n<td style=\"font-weight: bold; text-align:right\">59</td>\n<td style=\"font-weight: bold; text-align:right\">-41%</td>\n<td style=\"font-weight: bold; text-align:right\">0.2</td>\n<td style=\"font-weight: bold; text-align:right\">0</td>\n<td style=\"font-weight: bold; text-align:right\">1</td>\n<td style=\"font-weight: bold; text-align:right\">-100%</td>\n<td style=\"font-weight: bold; text-align:right\">0</td>\n<td style=\"font-weight: bold; text-align:right\">-0.1</td><td style=\"font-weight: bold; text-align:right\">0.0</td><td style=\"font-weight: bold; text-align:right\">167,885,689</td>\n<td data-continent=\"Asia\" style=\"display:none\">Asia</td>\n</tr><tr class=\"odd\" role=\"row\" style=\"\">\n<td style=\"font-size:12px;color: grey;text-align:center;vertical-align:middle;\">98</td>\n<td style=\"font-weight: bold; font-size:15px; text-align:left;\"><a class=\"mt_a\" href=\"/coronavirus/country/cuba/\">Cuba</a></td>\n<td class=\"sorting_1\" style=\"font-weight: bold; text-align:right\">35</td>\n<td style=\"font-weight: bold; text-align:right\">32</td>\n<td style=\"font-weight: bold; text-align:right\">+9%</td>\n<td style=\"font-weight: bold; text-align:right\">3</td>\n<td style=\"font-weight: bold; text-align:right\">0</td>\n<td style=\"font-weight: bold; text-align:right\">0</td>\n<td style=\"font-weight: bold; text-align:right\">0%</td>\n<td style=\"font-weight: bold; text-align:right\">0</td>\n<td style=\"font-weight: bold; text-align:right\">+0.3</td><td style=\"font-weight: bold; text-align:right\">0</td><td style=\"font-weight: bold; text-align:right\">11,305,652</td>\n<td data-continent=\"North America\" style=\"display:none\">North America</td>\n</tr><tr class=\"even\" role=\"row\" style=\"\">\n<td style=\"font-size:12px;color: grey;text-align:center;vertical-align:middle;\">99</td>\n<td style=\"font-weight: bold; font-size:15px; text-align:left;\"><a class=\"mt_a\" href=\"/coronavirus/country/kenya/\">Kenya</a></td>\n<td class=\"sorting_1\" style=\"font-weight: bold; text-align:right\">26</td>\n<td style=\"font-weight: bold; text-align:right\">57</td>\n<td style=\"font-weight: bold; text-align:right\">-54%</td>\n<td style=\"font-weight: bold; text-align:right\">0.5</td>\n<td style=\"font-weight: bold; text-align:right\">0</td>\n<td style=\"font-weight: bold; text-align:right\">0</td>\n<td style=\"font-weight: bold; text-align:right\">0%</td>\n<td style=\"font-weight: bold; text-align:right\">0</td>\n<td style=\"font-weight: bold; text-align:right\">-0.6</td><td style=\"font-weight: bold; text-align:right\">0</td><td style=\"font-weight: bold; text-align:right\">56,215,221</td>\n<td data-continent=\"Africa\" style=\"display:none\">Africa</td>\n</tr><tr class=\"odd\" role=\"row\" style=\"\">\n<td style=\"font-size:12px;color: grey;text-align:center;vertical-align:middle;\">100</td>\n<td style=\"font-weight: bold; font-size:15px; text-align:left;\"><a class=\"mt_a\" href=\"/coronavirus/country/kyrgyzstan/\">Kyrgyzstan</a></td>\n<td class=\"sorting_1\" style=\"font-weight: bold; text-align:right\">22</td>\n<td style=\"font-weight: bold; text-align:right\">12</td>\n<td style=\"font-weight: bold; text-align:right\">+83%</td>\n<td style=\"font-weight: bold; text-align:right\">3</td>\n<td style=\"font-weight: bold; text-align:right\">0</td>\n<td style=\"font-weight: bold; text-align:right\">0</td>\n<td style=\"font-weight: bold; text-align:right\">0%</td>\n<td style=\"font-weight: bold; text-align:right\">0</td>\n<td style=\"font-weight: bold; text-align:right\">+1</td><td style=\"font-weight: bold; text-align:right\">0</td><td style=\"font-weight: bold; text-align:right\">6,728,271</td>\n<td data-continent=\"Asia\" style=\"display:none\">Asia</td>\n</tr><tr class=\"even\" role=\"row\" style=\"\">\n<td style=\"font-size:12px;color: grey;text-align:center;vertical-align:middle;\">101</td>\n<td style=\"font-weight: bold; font-size:15px; text-align:left;\"><a class=\"mt_a\" href=\"/coronavirus/country/angola/\">Angola</a></td>\n<td class=\"sorting_1\" style=\"font-weight: bold; text-align:right\">21</td>\n<td style=\"font-weight: bold; text-align:right\">0</td>\n<td style=\"font-weight: bold; text-align:right\">+2,100%</td>\n<td style=\"font-weight: bold; text-align:right\">0.6</td>\n<td style=\"font-weight: bold; text-align:right\">0</td>\n<td style=\"font-weight: bold; text-align:right\">0</td>\n<td style=\"font-weight: bold; text-align:right\">0%</td>\n<td style=\"font-weight: bold; text-align:right\">0</td>\n<td style=\"font-weight: bold; text-align:right\">+0.6</td><td style=\"font-weight: bold; text-align:right\">0</td><td style=\"font-weight: bold; text-align:right\">35,027,343</td>\n<td data-continent=\"Africa\" style=\"display:none\">Africa</td>\n</tr><tr class=\"odd\" role=\"row\" style=\"\">\n<td style=\"font-size:12px;color: grey;text-align:center;vertical-align:middle;\">102</td>\n<td style=\"font-weight: bold; font-size:15px; text-align:left;\"><a class=\"mt_a\" href=\"/coronavirus/country/belize/\">Belize</a></td>\n<td class=\"sorting_1\" style=\"font-weight: bold; text-align:right\">19</td>\n<td style=\"font-weight: bold; text-align:right\">24</td>\n<td style=\"font-weight: bold; text-align:right\">-21%</td>\n<td style=\"font-weight: bold; text-align:right\">46</td>\n<td style=\"font-weight: bold; text-align:right\">0</td>\n<td style=\"font-weight: bold; text-align:right\">0</td>\n<td style=\"font-weight: bold; text-align:right\">0%</td>\n<td style=\"font-weight: bold; text-align:right\">0</td>\n<td style=\"font-weight: bold; text-align:right\">-12</td><td style=\"font-weight: bold; text-align:right\">0</td><td style=\"font-weight: bold; text-align:right\">412,190</td>\n<td data-continent=\"North America\" style=\"display:none\">North America</td>\n</tr><tr class=\"even\" role=\"row\" style=\"\">\n<td style=\"font-size:12px;color: grey;text-align:center;vertical-align:middle;\">103</td>\n<td style=\"font-weight: bold; font-size:15px; text-align:left;\"><a class=\"mt_a\" href=\"/coronavirus/country/mauritius/\">Mauritius</a></td>\n<td class=\"sorting_1\" style=\"font-weight: bold; text-align:right\">19</td>\n<td style=\"font-weight: bold; text-align:right\">21</td>\n<td style=\"font-weight: bold; text-align:right\">-10%</td>\n<td style=\"font-weight: bold; text-align:right\">15</td>\n<td style=\"font-weight: bold; text-align:right\">0</td>\n<td style=\"font-weight: bold; text-align:right\">0</td>\n<td style=\"font-weight: bold; text-align:right\">0%</td>\n<td style=\"font-weight: bold; text-align:right\">0</td>\n<td style=\"font-weight: bold; text-align:right\">-2</td><td style=\"font-weight: bold; text-align:right\">0</td><td style=\"font-weight: bold; text-align:right\">1,274,727</td>\n<td data-continent=\"Africa\" style=\"display:none\">Africa</td>\n</tr><tr class=\"odd\" role=\"row\" style=\"\">\n<td style=\"font-size:12px;color: grey;text-align:center;vertical-align:middle;\">104</td>\n<td style=\"font-weight: bold; font-size:15px; text-align:left;\"><a class=\"mt_a\" href=\"/coronavirus/country/niue/\">Niue</a></td>\n<td class=\"sorting_1\" style=\"font-weight: bold; text-align:right\">17</td>\n<td style=\"font-weight: bold; text-align:right\">22</td>\n<td style=\"font-weight: bold; text-align:right\">-23%</td>\n<td style=\"font-weight: bold; text-align:right\">10,481</td>\n<td style=\"font-weight: bold; text-align:right\">0</td>\n<td style=\"font-weight: bold; text-align:right\">0</td>\n<td style=\"font-weight: bold; text-align:right\">0%</td>\n<td style=\"font-weight: bold; text-align:right\">0</td>\n<td style=\"font-weight: bold; text-align:right\">-3,083</td><td style=\"font-weight: bold; text-align:right\">0</td><td style=\"font-weight: bold; text-align:right\">1,622</td>\n<td data-continent=\"Australia/Oceania\" style=\"display:none\">Australia/Oceania</td>\n</tr><tr class=\"even\" role=\"row\" style=\"\">\n<td style=\"font-size:12px;color: grey;text-align:center;vertical-align:middle;\">105</td>\n<td style=\"font-weight: bold; font-size:15px; text-align:left;\"><a class=\"mt_a\" href=\"/coronavirus/country/algeria/\">Algeria</a></td>\n<td class=\"sorting_1\" style=\"font-weight: bold; text-align:right\">15</td>\n<td style=\"font-weight: bold; text-align:right\">16</td>\n<td style=\"font-weight: bold; text-align:right\">-6%</td>\n<td style=\"font-weight: bold; text-align:right\">0.3</td>\n<td style=\"font-weight: bold; text-align:right\">0</td>\n<td style=\"font-weight: bold; text-align:right\">0</td>\n<td style=\"font-weight: bold; text-align:right\">0%</td>\n<td style=\"font-weight: bold; text-align:right\">0</td>\n<td style=\"font-weight: bold; text-align:right\">0.0</td><td style=\"font-weight: bold; text-align:right\">0</td><td style=\"font-weight: bold; text-align:right\">45,350,148</td>\n<td data-continent=\"Africa\" style=\"display:none\">Africa</td>\n</tr><tr class=\"odd\" role=\"row\" style=\"\">\n<td style=\"font-size:12px;color: grey;text-align:center;vertical-align:middle;\">106</td>\n<td style=\"font-weight: bold; font-size:15px; text-align:left;\"><a class=\"mt_a\" href=\"/coronavirus/country/equatorial-guinea/\">Equatorial Guinea</a></td>\n<td class=\"sorting_1\" style=\"font-weight: bold; text-align:right\">15</td>\n<td style=\"font-weight: bold; text-align:right\">2</td>\n<td style=\"font-weight: bold; text-align:right\">+650%</td>\n<td style=\"font-weight: bold; text-align:right\">10</td>\n<td style=\"font-weight: bold; text-align:right\">0</td>\n<td style=\"font-weight: bold; text-align:right\">0</td>\n<td style=\"font-weight: bold; text-align:right\">0%</td>\n<td style=\"font-weight: bold; text-align:right\">0</td>\n<td style=\"font-weight: bold; text-align:right\">+9</td><td style=\"font-weight: bold; text-align:right\">0</td><td style=\"font-weight: bold; text-align:right\">1,496,662</td>\n<td data-continent=\"Africa\" style=\"display:none\">Africa</td>\n</tr><tr class=\"even\" role=\"row\" style=\"\">\n<td style=\"font-size:12px;color: grey;text-align:center;vertical-align:middle;\">107</td>\n<td style=\"font-weight: bold; font-size:15px; text-align:left;\"><a class=\"mt_a\" href=\"/coronavirus/country/chad/\">Chad</a></td>\n<td class=\"sorting_1\" style=\"font-weight: bold; text-align:right\">14</td>\n<td style=\"font-weight: bold; text-align:right\">9</td>\n<td style=\"font-weight: bold; text-align:right\">+56%</td>\n<td style=\"font-weight: bold; text-align:right\">0.8</td>\n<td style=\"font-weight: bold; text-align:right\">0</td>\n<td style=\"font-weight: bold; text-align:right\">0</td>\n<td style=\"font-weight: bold; text-align:right\">0%</td>\n<td style=\"font-weight: bold; text-align:right\">0</td>\n<td style=\"font-weight: bold; text-align:right\">+0.3</td><td style=\"font-weight: bold; text-align:right\">0</td><td style=\"font-weight: bold; text-align:right\">17,413,580</td>\n<td data-continent=\"Africa\" style=\"display:none\">Africa</td>\n</tr><tr class=\"odd\" role=\"row\" style=\"\">\n<td style=\"font-size:12px;color: grey;text-align:center;vertical-align:middle;\">108</td>\n<td style=\"font-weight: bold; font-size:15px; text-align:left;\"><a class=\"mt_a\" href=\"/coronavirus/country/guyana/\">Guyana</a></td>\n<td class=\"sorting_1\" style=\"font-weight: bold; text-align:right\">14</td>\n<td style=\"font-weight: bold; text-align:right\">20</td>\n<td style=\"font-weight: bold; text-align:right\">-30%</td>\n<td style=\"font-weight: bold; text-align:right\">18</td>\n<td style=\"font-weight: bold; text-align:right\">0</td>\n<td style=\"font-weight: bold; text-align:right\">1</td>\n<td style=\"font-weight: bold; text-align:right\">-100%</td>\n<td style=\"font-weight: bold; text-align:right\">0</td>\n<td style=\"font-weight: bold; text-align:right\">-8</td><td style=\"font-weight: bold; text-align:right\">-1</td><td style=\"font-weight: bold; text-align:right\">794,045</td>\n<td data-continent=\"South America\" style=\"display:none\">South America</td>\n</tr><tr class=\"even\" role=\"row\" style=\"\">\n<td style=\"font-size:12px;color: grey;text-align:center;vertical-align:middle;\">109</td>\n<td style=\"font-weight: bold; font-size:15px; text-align:left;\"><a class=\"mt_a\" href=\"/coronavirus/country/uganda/\">Uganda</a></td>\n<td class=\"sorting_1\" style=\"font-weight: bold; text-align:right\">14</td>\n<td style=\"font-weight: bold; text-align:right\">64</td>\n<td style=\"font-weight: bold; text-align:right\">-78%</td>\n<td style=\"font-weight: bold; text-align:right\">0.3</td>\n<td style=\"font-weight: bold; text-align:right\">0</td>\n<td style=\"font-weight: bold; text-align:right\">0</td>\n<td style=\"font-weight: bold; text-align:right\">0%</td>\n<td style=\"font-weight: bold; text-align:right\">0</td>\n<td style=\"font-weight: bold; text-align:right\">-1</td><td style=\"font-weight: bold; text-align:right\">0</td><td style=\"font-weight: bold; text-align:right\">48,432,863</td>\n<td data-continent=\"Africa\" style=\"display:none\">Africa</td>\n</tr><tr class=\"odd\" role=\"row\" style=\"\">\n<td style=\"font-size:12px;color: grey;text-align:center;vertical-align:middle;\">110</td>\n<td style=\"font-weight: bold; font-size:15px; text-align:left;\"><a class=\"mt_a\" href=\"/coronavirus/country/fiji/\">Fiji</a></td>\n<td class=\"sorting_1\" style=\"font-weight: bold; text-align:right\">13</td>\n<td style=\"font-weight: bold; text-align:right\">12</td>\n<td style=\"font-weight: bold; text-align:right\">+8%</td>\n<td style=\"font-weight: bold; text-align:right\">14</td>\n<td style=\"font-weight: bold; text-align:right\">0</td>\n<td style=\"font-weight: bold; text-align:right\">0</td>\n<td style=\"font-weight: bold; text-align:right\">0%</td>\n<td style=\"font-weight: bold; text-align:right\">0</td>\n<td style=\"font-weight: bold; text-align:right\">+1</td><td style=\"font-weight: bold; text-align:right\">0</td><td style=\"font-weight: bold; text-align:right\">909,466</td>\n<td data-continent=\"Australia/Oceania\" style=\"display:none\">Australia/Oceania</td>\n</tr><tr class=\"even\" role=\"row\" style=\"\">\n<td style=\"font-size:12px;color: grey;text-align:center;vertical-align:middle;\">111</td>\n<td style=\"font-weight: bold; font-size:15px; text-align:left;\"><a class=\"mt_a\" href=\"/coronavirus/country/madagascar/\">Madagascar</a></td>\n<td class=\"sorting_1\" style=\"font-weight: bold; text-align:right\">13</td>\n<td style=\"font-weight: bold; text-align:right\">3</td>\n<td style=\"font-weight: bold; text-align:right\">+333%</td>\n<td style=\"font-weight: bold; text-align:right\">0.4</td>\n<td style=\"font-weight: bold; text-align:right\">1</td>\n<td style=\"font-weight: bold; text-align:right\">0</td>\n<td style=\"font-weight: bold; text-align:right\">+100%</td>\n<td style=\"font-weight: bold; text-align:right\">0.0</td>\n<td style=\"font-weight: bold; text-align:right\">+0.3</td><td style=\"font-weight: bold; text-align:right\">0.0</td><td style=\"font-weight: bold; text-align:right\">29,178,077</td>\n<td data-continent=\"Africa\" style=\"display:none\">Africa</td>\n</tr><tr class=\"odd\" role=\"row\" style=\"\">\n<td style=\"font-size:12px;color: grey;text-align:center;vertical-align:middle;\">112</td>\n<td style=\"font-weight: bold; font-size:15px; text-align:left;\"><a class=\"mt_a\" href=\"/coronavirus/country/samoa/\">Samoa</a></td>\n<td class=\"sorting_1\" style=\"font-weight: bold; text-align:right\">13</td>\n<td style=\"font-weight: bold; text-align:right\">192</td>\n<td style=\"font-weight: bold; text-align:right\">-93%</td>\n<td style=\"font-weight: bold; text-align:right\">64</td>\n<td style=\"font-weight: bold; text-align:right\">0</td>\n<td style=\"font-weight: bold; text-align:right\">0</td>\n<td style=\"font-weight: bold; text-align:right\">0%</td>\n<td style=\"font-weight: bold; text-align:right\">0</td>\n<td style=\"font-weight: bold; text-align:right\">-885</td><td style=\"font-weight: bold; text-align:right\">0</td><td style=\"font-weight: bold; text-align:right\">202,239</td>\n<td data-continent=\"Australia/Oceania\" style=\"display:none\">Australia/Oceania</td>\n</tr><tr class=\"even\" role=\"row\" style=\"\">\n<td style=\"font-size:12px;color: grey;text-align:center;vertical-align:middle;\">113</td>\n<td style=\"font-weight: bold; font-size:15px; text-align:left;\"><a class=\"mt_a\" href=\"/coronavirus/country/ghana/\">Ghana</a></td>\n<td class=\"sorting_1\" style=\"font-weight: bold; text-align:right\">12</td>\n<td style=\"font-weight: bold; text-align:right\">8</td>\n<td style=\"font-weight: bold; text-align:right\">+50%</td>\n<td style=\"font-weight: bold; text-align:right\">0.4</td>\n<td style=\"font-weight: bold; text-align:right\">0</td>\n<td style=\"font-weight: bold; text-align:right\">0</td>\n<td style=\"font-weight: bold; text-align:right\">0%</td>\n<td style=\"font-weight: bold; text-align:right\">0</td>\n<td style=\"font-weight: bold; text-align:right\">+0.1</td><td style=\"font-weight: bold; text-align:right\">0</td><td style=\"font-weight: bold; text-align:right\">32,395,450</td>\n<td data-continent=\"Africa\" style=\"display:none\">Africa</td>\n</tr><tr class=\"odd\" role=\"row\" style=\"\">\n<td style=\"font-size:12px;color: grey;text-align:center;vertical-align:middle;\">114</td>\n<td style=\"font-weight: bold; font-size:15px; text-align:left;\"><a class=\"mt_a\" href=\"/coronavirus/country/sudan/\">Sudan</a></td>\n<td class=\"sorting_1\" style=\"font-weight: bold; text-align:right\">12</td>\n<td style=\"font-weight: bold; text-align:right\">16</td>\n<td style=\"font-weight: bold; text-align:right\">-25%</td>\n<td style=\"font-weight: bold; text-align:right\">0.3</td>\n<td style=\"font-weight: bold; text-align:right\">0</td>\n<td style=\"font-weight: bold; text-align:right\">3</td>\n<td style=\"font-weight: bold; text-align:right\">-100%</td>\n<td style=\"font-weight: bold; text-align:right\">0</td>\n<td style=\"font-weight: bold; text-align:right\">-0.1</td><td style=\"font-weight: bold; text-align:right\">-0.1</td><td style=\"font-weight: bold; text-align:right\">45,992,020</td>\n<td data-continent=\"Africa\" style=\"display:none\">Africa</td>\n</tr><tr class=\"even\" role=\"row\" style=\"\">\n<td style=\"font-size:12px;color: grey;text-align:center;vertical-align:middle;\">115</td>\n<td style=\"font-weight: bold; font-size:15px; text-align:left;\"><a class=\"mt_a\" href=\"/coronavirus/country/myanmar/\">Myanmar</a></td>\n<td class=\"sorting_1\" style=\"font-weight: bold; text-align:right\">10</td>\n<td style=\"font-weight: bold; text-align:right\">35</td>\n<td style=\"font-weight: bold; text-align:right\">-71%</td>\n<td style=\"font-weight: bold; text-align:right\">0.2</td>\n<td style=\"font-weight: bold; text-align:right\">0</td>\n<td style=\"font-weight: bold; text-align:right\">0</td>\n<td style=\"font-weight: bold; text-align:right\">0%</td>\n<td style=\"font-weight: bold; text-align:right\">0</td>\n<td style=\"font-weight: bold; text-align:right\">-0.5</td><td style=\"font-weight: bold; text-align:right\">0</td><td style=\"font-weight: bold; text-align:right\">55,227,143</td>\n<td data-continent=\"Asia\" style=\"display:none\">Asia</td>\n</tr><tr class=\"odd\" role=\"row\" style=\"\">\n<td style=\"font-size:12px;color: grey;text-align:center;vertical-align:middle;\">116</td>\n<td style=\"font-weight: bold; font-size:15px; text-align:left;\"><a class=\"mt_a\" href=\"/coronavirus/country/new-caledonia/\">New Caledonia</a></td>\n<td class=\"sorting_1\" style=\"font-weight: bold; text-align:right\">10</td>\n<td style=\"font-weight: bold; text-align:right\">0</td>\n<td style=\"font-weight: bold; text-align:right\">+1,000%</td>\n<td style=\"font-weight: bold; text-align:right\">34</td>\n<td style=\"font-weight: bold; text-align:right\">0</td>\n<td style=\"font-weight: bold; text-align:right\">0</td>\n<td style=\"font-weight: bold; text-align:right\">0%</td>\n<td style=\"font-weight: bold; text-align:right\">0</td>\n<td style=\"font-weight: bold; text-align:right\">+34</td><td style=\"font-weight: bold; text-align:right\">0</td><td style=\"font-weight: bold; text-align:right\">290,915</td>\n<td data-continent=\"Australia/Oceania\" style=\"display:none\">Australia/Oceania</td>\n</tr><tr class=\"even\" role=\"row\" style=\"\">\n<td style=\"font-size:12px;color: grey;text-align:center;vertical-align:middle;\">117</td>\n<td style=\"font-weight: bold; font-size:15px; text-align:left;\"><a class=\"mt_a\" href=\"/coronavirus/country/saint-martin/\">Saint Martin</a></td>\n<td class=\"sorting_1\" style=\"font-weight: bold; text-align:right\">10</td>\n<td style=\"font-weight: bold; text-align:right\">0</td>\n<td style=\"font-weight: bold; text-align:right\">+1,000%</td>\n<td style=\"font-weight: bold; text-align:right\">252</td>\n<td style=\"font-weight: bold; text-align:right\">0</td>\n<td style=\"font-weight: bold; text-align:right\">0</td>\n<td style=\"font-weight: bold; text-align:right\">0%</td>\n<td style=\"font-weight: bold; text-align:right\">0</td>\n<td style=\"font-weight: bold; text-align:right\">+252</td><td style=\"font-weight: bold; text-align:right\">0</td><td style=\"font-weight: bold; text-align:right\">39,730</td>\n<td data-continent=\"North America\" style=\"display:none\">North America</td>\n</tr><tr class=\"odd\" role=\"row\" style=\"\">\n<td style=\"font-size:12px;color: grey;text-align:center;vertical-align:middle;\">118</td>\n<td style=\"font-weight: bold; font-size:15px; text-align:left;\"><a class=\"mt_a\" href=\"/coronavirus/country/san-marino/\">San Marino</a></td>\n<td class=\"sorting_1\" style=\"font-weight: bold; text-align:right\">10</td>\n<td style=\"font-weight: bold; text-align:right\">99</td>\n<td style=\"font-weight: bold; text-align:right\">-90%</td>\n<td style=\"font-weight: bold; text-align:right\">293</td>\n<td style=\"font-weight: bold; text-align:right\">0</td>\n<td style=\"font-weight: bold; text-align:right\">0</td>\n<td style=\"font-weight: bold; text-align:right\">0%</td>\n<td style=\"font-weight: bold; text-align:right\">0</td>\n<td style=\"font-weight: bold; text-align:right\">-2,611</td><td style=\"font-weight: bold; text-align:right\">0</td><td style=\"font-weight: bold; text-align:right\">34,085</td>\n<td data-continent=\"Europe\" style=\"display:none\">Europe</td>\n</tr><tr class=\"even\" role=\"row\" style=\"\">\n<td style=\"font-size:12px;color: grey;text-align:center;vertical-align:middle;\">119</td>\n<td style=\"font-weight: bold; font-size:15px; text-align:left;\"><a class=\"mt_a\" href=\"/coronavirus/country/togo/\">Togo</a></td>\n<td class=\"sorting_1\" style=\"font-weight: bold; text-align:right\">10</td>\n<td style=\"font-weight: bold; text-align:right\">2</td>\n<td style=\"font-weight: bold; text-align:right\">+400%</td>\n<td style=\"font-weight: bold; text-align:right\">1</td>\n<td style=\"font-weight: bold; text-align:right\">0</td>\n<td style=\"font-weight: bold; text-align:right\">0</td>\n<td style=\"font-weight: bold; text-align:right\">0%</td>\n<td style=\"font-weight: bold; text-align:right\">0</td>\n<td style=\"font-weight: bold; text-align:right\">+0.9</td><td style=\"font-weight: bold; text-align:right\">0</td><td style=\"font-weight: bold; text-align:right\">8,680,837</td>\n<td data-continent=\"Africa\" style=\"display:none\">Africa</td>\n</tr><tr class=\"odd\" role=\"row\" style=\"\">\n<td style=\"font-size:12px;color: grey;text-align:center;vertical-align:middle;\">120</td>\n<td style=\"font-weight: bold; font-size:15px; text-align:left;\"><a class=\"mt_a\" href=\"/coronavirus/country/gibraltar/\">Gibraltar</a></td>\n<td class=\"sorting_1\" style=\"font-weight: bold; text-align:right\">9</td>\n<td style=\"font-weight: bold; text-align:right\">15</td>\n<td style=\"font-weight: bold; text-align:right\">-40%</td>\n<td style=\"font-weight: bold; text-align:right\">267</td>\n<td style=\"font-weight: bold; text-align:right\">0</td>\n<td style=\"font-weight: bold; text-align:right\">0</td>\n<td style=\"font-weight: bold; text-align:right\">0%</td>\n<td style=\"font-weight: bold; text-align:right\">0</td>\n<td style=\"font-weight: bold; text-align:right\">-178</td><td style=\"font-weight: bold; text-align:right\">0</td><td style=\"font-weight: bold; text-align:right\">33,704</td>\n<td data-continent=\"Europe\" style=\"display:none\">Europe</td>\n</tr><tr class=\"even\" role=\"row\" style=\"\">\n<td style=\"font-size:12px;color: grey;text-align:center;vertical-align:middle;\">121</td>\n<td style=\"font-weight: bold; font-size:15px; text-align:left;\"><a class=\"mt_a\" href=\"/coronavirus/country/liechtenstein/\">Liechtenstein</a></td>\n<td class=\"sorting_1\" style=\"font-weight: bold; text-align:right\">9</td>\n<td style=\"font-weight: bold; text-align:right\">17</td>\n<td style=\"font-weight: bold; text-align:right\">-47%</td>\n<td style=\"font-weight: bold; text-align:right\">234</td>\n<td style=\"font-weight: bold; text-align:right\">0</td>\n<td style=\"font-weight: bold; text-align:right\">0</td>\n<td style=\"font-weight: bold; text-align:right\">0%</td>\n<td style=\"font-weight: bold; text-align:right\">0</td>\n<td style=\"font-weight: bold; text-align:right\">-208</td><td style=\"font-weight: bold; text-align:right\">0</td><td style=\"font-weight: bold; text-align:right\">38,387</td>\n<td data-continent=\"Europe\" style=\"display:none\">Europe</td>\n</tr><tr class=\"odd\" role=\"row\" style=\"\">\n<td style=\"font-size:12px;color: grey;text-align:center;vertical-align:middle;\">122</td>\n<td style=\"font-weight: bold; font-size:15px; text-align:left;\"><a class=\"mt_a\" href=\"/coronavirus/country/bermuda/\">Bermuda</a></td>\n<td class=\"sorting_1\" style=\"font-weight: bold; text-align:right\">8</td>\n<td style=\"font-weight: bold; text-align:right\">6</td>\n<td style=\"font-weight: bold; text-align:right\">+33%</td>\n<td style=\"font-weight: bold; text-align:right\">129</td>\n<td style=\"font-weight: bold; text-align:right\">1</td>\n<td style=\"font-weight: bold; text-align:right\">1</td>\n<td style=\"font-weight: bold; text-align:right\">0%</td>\n<td style=\"font-weight: bold; text-align:right\">16</td>\n<td style=\"font-weight: bold; text-align:right\">+32</td><td style=\"font-weight: bold; text-align:right\">0</td><td style=\"font-weight: bold; text-align:right\">61,939</td>\n<td data-continent=\"North America\" style=\"display:none\">North America</td>\n</tr><tr class=\"even\" role=\"row\" style=\"\">\n<td style=\"font-size:12px;color: grey;text-align:center;vertical-align:middle;\">123</td>\n<td style=\"font-weight: bold; font-size:15px; text-align:left;\"><a class=\"mt_a\" href=\"/coronavirus/country/saint-barthelemy/\">St. Barth</a></td>\n<td class=\"sorting_1\" style=\"font-weight: bold; text-align:right\">8</td>\n<td style=\"font-weight: bold; text-align:right\">0</td>\n<td style=\"font-weight: bold; text-align:right\">+800%</td>\n<td style=\"font-weight: bold; text-align:right\">804</td>\n<td style=\"font-weight: bold; text-align:right\">0</td>\n<td style=\"font-weight: bold; text-align:right\">0</td>\n<td style=\"font-weight: bold; text-align:right\">0%</td>\n<td style=\"font-weight: bold; text-align:right\">0</td>\n<td style=\"font-weight: bold; text-align:right\">+804</td><td style=\"font-weight: bold; text-align:right\">0</td><td style=\"font-weight: bold; text-align:right\">9,945</td>\n<td data-continent=\"North America\" style=\"display:none\">North America</td>\n</tr><tr class=\"odd\" role=\"row\" style=\"\">\n<td style=\"font-size:12px;color: grey;text-align:center;vertical-align:middle;\">124</td>\n<td style=\"font-weight: bold; font-size:15px; text-align:left;\"><a class=\"mt_a\" href=\"/coronavirus/country/nepal/\">Nepal</a></td>\n<td class=\"sorting_1\" style=\"font-weight: bold; text-align:right\">7</td>\n<td style=\"font-weight: bold; text-align:right\">18</td>\n<td style=\"font-weight: bold; text-align:right\">-61%</td>\n<td style=\"font-weight: bold; text-align:right\">0.2</td>\n<td style=\"font-weight: bold; text-align:right\">0</td>\n<td style=\"font-weight: bold; text-align:right\">0</td>\n<td style=\"font-weight: bold; text-align:right\">0%</td>\n<td style=\"font-weight: bold; text-align:right\">0</td>\n<td style=\"font-weight: bold; text-align:right\">-0.4</td><td style=\"font-weight: bold; text-align:right\">0</td><td style=\"font-weight: bold; text-align:right\">30,225,582</td>\n<td data-continent=\"Asia\" style=\"display:none\">Asia</td>\n</tr><tr class=\"even\" role=\"row\" style=\"\">\n<td style=\"font-size:12px;color: grey;text-align:center;vertical-align:middle;\">125</td>\n<td style=\"font-weight: bold; font-size:15px; text-align:left;\"><a class=\"mt_a\" href=\"/coronavirus/country/senegal/\">Senegal</a></td>\n<td class=\"sorting_1\" style=\"font-weight: bold; text-align:right\">7</td>\n<td style=\"font-weight: bold; text-align:right\">8</td>\n<td style=\"font-weight: bold; text-align:right\">-13%</td>\n<td style=\"font-weight: bold; text-align:right\">0.4</td>\n<td style=\"font-weight: bold; text-align:right\">0</td>\n<td style=\"font-weight: bold; text-align:right\">0</td>\n<td style=\"font-weight: bold; text-align:right\">0%</td>\n<td style=\"font-weight: bold; text-align:right\">0</td>\n<td style=\"font-weight: bold; text-align:right\">-0.1</td><td style=\"font-weight: bold; text-align:right\">0</td><td style=\"font-weight: bold; text-align:right\">17,653,671</td>\n<td data-continent=\"Africa\" style=\"display:none\">Africa</td>\n</tr><tr class=\"odd\" role=\"row\" style=\"\">\n<td style=\"font-size:12px;color: grey;text-align:center;vertical-align:middle;\">126</td>\n<td style=\"font-weight: bold; font-size:15px; text-align:left;\"><a class=\"mt_a\" href=\"/coronavirus/country/cambodia/\">Cambodia</a></td>\n<td class=\"sorting_1\" style=\"font-weight: bold; text-align:right\">6</td>\n<td style=\"font-weight: bold; text-align:right\">4</td>\n<td style=\"font-weight: bold; text-align:right\">+50%</td>\n<td style=\"font-weight: bold; text-align:right\">0.3</td>\n<td style=\"font-weight: bold; text-align:right\">0</td>\n<td style=\"font-weight: bold; text-align:right\">0</td>\n<td style=\"font-weight: bold; text-align:right\">0%</td>\n<td style=\"font-weight: bold; text-align:right\">0</td>\n<td style=\"font-weight: bold; text-align:right\">+0.1</td><td style=\"font-weight: bold; text-align:right\">0</td><td style=\"font-weight: bold; text-align:right\">17,168,639</td>\n<td data-continent=\"Asia\" style=\"display:none\">Asia</td>\n</tr><tr class=\"even\" role=\"row\" style=\"\">\n<td style=\"font-size:12px;color: grey;text-align:center;vertical-align:middle;\">127</td>\n<td style=\"font-weight: bold; font-size:15px; text-align:left;\"><a class=\"mt_a\" href=\"/coronavirus/country/sri-lanka/\">Sri Lanka</a></td>\n<td class=\"sorting_1\" style=\"font-weight: bold; text-align:right\">6</td>\n<td style=\"font-weight: bold; text-align:right\">12</td>\n<td style=\"font-weight: bold; text-align:right\">-50%</td>\n<td style=\"font-weight: bold; text-align:right\">0.3</td>\n<td style=\"font-weight: bold; text-align:right\">1</td>\n<td style=\"font-weight: bold; text-align:right\">0</td>\n<td style=\"font-weight: bold; text-align:right\">+100%</td>\n<td style=\"font-weight: bold; text-align:right\">0.0</td>\n<td style=\"font-weight: bold; text-align:right\">-0.3</td><td style=\"font-weight: bold; text-align:right\">0.0</td><td style=\"font-weight: bold; text-align:right\">21,575,842</td>\n<td data-continent=\"Asia\" style=\"display:none\">Asia</td>\n</tr><tr class=\"odd\" role=\"row\" style=\"\">\n<td style=\"font-size:12px;color: grey;text-align:center;vertical-align:middle;\">128</td>\n<td style=\"font-weight: bold; font-size:15px; text-align:left;\"><a class=\"mt_a\" href=\"/coronavirus/country/laos/\">Laos</a></td>\n<td class=\"sorting_1\" style=\"font-weight: bold; text-align:right\">6</td>\n<td style=\"font-weight: bold; text-align:right\">11</td>\n<td style=\"font-weight: bold; text-align:right\">-45%</td>\n<td style=\"font-weight: bold; text-align:right\">0.8</td>\n<td style=\"font-weight: bold; text-align:right\">0</td>\n<td style=\"font-weight: bold; text-align:right\">0</td>\n<td style=\"font-weight: bold; text-align:right\">0%</td>\n<td style=\"font-weight: bold; text-align:right\">0</td>\n<td style=\"font-weight: bold; text-align:right\">-0.7</td><td style=\"font-weight: bold; text-align:right\">0</td><td style=\"font-weight: bold; text-align:right\">7,481,023</td>\n<td data-continent=\"Asia\" style=\"display:none\">Asia</td>\n</tr><tr class=\"even\" role=\"row\" style=\"\">\n<td style=\"font-size:12px;color: grey;text-align:center;vertical-align:middle;\">129</td>\n<td style=\"font-weight: bold; font-size:15px; text-align:left;\"><a class=\"mt_a\" href=\"/coronavirus/country/maldives/\">Maldives</a></td>\n<td class=\"sorting_1\" style=\"font-weight: bold; text-align:right\">6</td>\n<td style=\"font-weight: bold; text-align:right\">2</td>\n<td style=\"font-weight: bold; text-align:right\">+200%</td>\n<td style=\"font-weight: bold; text-align:right\">11</td>\n<td style=\"font-weight: bold; text-align:right\">0</td>\n<td style=\"font-weight: bold; text-align:right\">0</td>\n<td style=\"font-weight: bold; text-align:right\">0%</td>\n<td style=\"font-weight: bold; text-align:right\">0</td>\n<td style=\"font-weight: bold; text-align:right\">+7</td><td style=\"font-weight: bold; text-align:right\">0</td><td style=\"font-weight: bold; text-align:right\">540,985</td>\n<td data-continent=\"Asia\" style=\"display:none\">Asia</td>\n</tr><tr class=\"odd\" role=\"row\" style=\"\">\n<td style=\"font-size:12px;color: grey;text-align:center;vertical-align:middle;\">130</td>\n<td style=\"font-weight: bold; font-size:15px; text-align:left;\"><a class=\"mt_a\" href=\"/coronavirus/country/bhutan/\">Bhutan</a></td>\n<td class=\"sorting_1\" style=\"font-weight: bold; text-align:right\">4</td>\n<td style=\"font-weight: bold; text-align:right\">3</td>\n<td style=\"font-weight: bold; text-align:right\">+33%</td>\n<td style=\"font-weight: bold; text-align:right\">5</td>\n<td style=\"font-weight: bold; text-align:right\">0</td>\n<td style=\"font-weight: bold; text-align:right\">0</td>\n<td style=\"font-weight: bold; text-align:right\">0%</td>\n<td style=\"font-weight: bold; text-align:right\">0</td>\n<td style=\"font-weight: bold; text-align:right\">+1</td><td style=\"font-weight: bold; text-align:right\">0</td><td style=\"font-weight: bold; text-align:right\">787,941</td>\n<td data-continent=\"Asia\" style=\"display:none\">Asia</td>\n</tr><tr class=\"even\" role=\"row\" style=\"\">\n<td style=\"font-size:12px;color: grey;text-align:center;vertical-align:middle;\">131</td>\n<td style=\"font-weight: bold; font-size:15px; text-align:left;\"><a class=\"mt_a\" href=\"/coronavirus/country/caribbean-netherlands/\">Caribbean Netherlands</a></td>\n<td class=\"sorting_1\" style=\"font-weight: bold; text-align:right\">4</td>\n<td style=\"font-weight: bold; text-align:right\">2</td>\n<td style=\"font-weight: bold; text-align:right\">+100%</td>\n<td style=\"font-weight: bold; text-align:right\">150</td>\n<td style=\"font-weight: bold; text-align:right\">0</td>\n<td style=\"font-weight: bold; text-align:right\">0</td>\n<td style=\"font-weight: bold; text-align:right\">0%</td>\n<td style=\"font-weight: bold; text-align:right\">0</td>\n<td style=\"font-weight: bold; text-align:right\">+75</td><td style=\"font-weight: bold; text-align:right\">0</td><td style=\"font-weight: bold; text-align:right\">26,647</td>\n<td data-continent=\"North America\" style=\"display:none\">North America</td>\n</tr><tr class=\"odd\" role=\"row\" style=\"\">\n<td style=\"font-size:12px;color: grey;text-align:center;vertical-align:middle;\">132</td>\n<td style=\"font-weight: bold; font-size:15px; text-align:left;\"><a class=\"mt_a\" href=\"/coronavirus/country/china-macao-sar/\">Macao</a></td>\n<td class=\"sorting_1\" style=\"font-weight: bold; text-align:right\">3</td>\n<td style=\"font-weight: bold; text-align:right\">4</td>\n<td style=\"font-weight: bold; text-align:right\">-25%</td>\n<td style=\"font-weight: bold; text-align:right\">4</td>\n<td style=\"font-weight: bold; text-align:right\">0</td>\n<td style=\"font-weight: bold; text-align:right\">0</td>\n<td style=\"font-weight: bold; text-align:right\">0%</td>\n<td style=\"font-weight: bold; text-align:right\">0</td>\n<td style=\"font-weight: bold; text-align:right\">-1</td><td style=\"font-weight: bold; text-align:right\">0</td><td style=\"font-weight: bold; text-align:right\">667,490</td>\n<td data-continent=\"Asia\" style=\"display:none\">Asia</td>\n</tr><tr class=\"even\" role=\"row\" style=\"\">\n<td style=\"font-size:12px;color: grey;text-align:center;vertical-align:middle;\">133</td>\n<td style=\"font-weight: bold; font-size:15px; text-align:left;\"><a class=\"mt_a\" href=\"/coronavirus/country/cabo-verde/\">Cabo Verde</a></td>\n<td class=\"sorting_1\" style=\"font-weight: bold; text-align:right\">2</td>\n<td style=\"font-weight: bold; text-align:right\">3</td>\n<td style=\"font-weight: bold; text-align:right\">-33%</td>\n<td style=\"font-weight: bold; text-align:right\">4</td>\n<td style=\"font-weight: bold; text-align:right\">0</td>\n<td style=\"font-weight: bold; text-align:right\">0</td>\n<td style=\"font-weight: bold; text-align:right\">0%</td>\n<td style=\"font-weight: bold; text-align:right\">0</td>\n<td style=\"font-weight: bold; text-align:right\">-2</td><td style=\"font-weight: bold; text-align:right\">0</td><td style=\"font-weight: bold; text-align:right\">567,678</td>\n<td data-continent=\"Africa\" style=\"display:none\">Africa</td>\n</tr><tr class=\"odd\" role=\"row\" style=\"\">\n<td style=\"font-size:12px;color: grey;text-align:center;vertical-align:middle;\">134</td>\n<td style=\"font-weight: bold; font-size:15px; text-align:left;\"><a class=\"mt_a\" href=\"/coronavirus/country/monaco/\">Monaco</a></td>\n<td class=\"sorting_1\" style=\"font-weight: bold; text-align:right\">2</td>\n<td style=\"font-weight: bold; text-align:right\">9</td>\n<td style=\"font-weight: bold; text-align:right\">-78%</td>\n<td style=\"font-weight: bold; text-align:right\">50</td>\n<td style=\"font-weight: bold; text-align:right\">0</td>\n<td style=\"font-weight: bold; text-align:right\">0</td>\n<td style=\"font-weight: bold; text-align:right\">0%</td>\n<td style=\"font-weight: bold; text-align:right\">0</td>\n<td style=\"font-weight: bold; text-align:right\">-176</td><td style=\"font-weight: bold; text-align:right\">0</td><td style=\"font-weight: bold; text-align:right\">39,783</td>\n<td data-continent=\"Europe\" style=\"display:none\">Europe</td>\n</tr><tr class=\"even\" role=\"row\" style=\"\">\n<td style=\"font-size:12px;color: grey;text-align:center;vertical-align:middle;\">135</td>\n<td style=\"font-weight: bold; font-size:15px; text-align:left;\"><a class=\"mt_a\" href=\"/coronavirus/country/syria/\">Syria</a></td>\n<td class=\"sorting_1\" style=\"font-weight: bold; text-align:right\">2</td>\n<td style=\"font-weight: bold; text-align:right\">8</td>\n<td style=\"font-weight: bold; text-align:right\">-75%</td>\n<td style=\"font-weight: bold; text-align:right\">0.1</td>\n<td style=\"font-weight: bold; text-align:right\">0</td>\n<td style=\"font-weight: bold; text-align:right\">0</td>\n<td style=\"font-weight: bold; text-align:right\">0%</td>\n<td style=\"font-weight: bold; text-align:right\">0</td>\n<td style=\"font-weight: bold; text-align:right\">-0.3</td><td style=\"font-weight: bold; text-align:right\">0</td><td style=\"font-weight: bold; text-align:right\">19,364,809</td>\n<td data-continent=\"Asia\" style=\"display:none\">Asia</td>\n</tr><tr class=\"odd\" role=\"row\" style=\"\">\n<td style=\"font-size:12px;color: grey;text-align:center;vertical-align:middle;\">136</td>\n<td style=\"font-weight: bold; font-size:15px; text-align:left;\"><a class=\"mt_a\" href=\"/coronavirus/country/comoros/\">Comoros</a></td>\n<td class=\"sorting_1\" style=\"font-weight: bold; text-align:right\">1</td>\n<td style=\"font-weight: bold; text-align:right\">5</td>\n<td style=\"font-weight: bold; text-align:right\">-80%</td>\n<td style=\"font-weight: bold; text-align:right\">1</td>\n<td style=\"font-weight: bold; text-align:right\">0</td>\n<td style=\"font-weight: bold; text-align:right\">0</td>\n<td style=\"font-weight: bold; text-align:right\">0%</td>\n<td style=\"font-weight: bold; text-align:right\">0</td>\n<td style=\"font-weight: bold; text-align:right\">-4</td><td style=\"font-weight: bold; text-align:right\">0</td><td style=\"font-weight: bold; text-align:right\">907,419</td>\n<td data-continent=\"Africa\" style=\"display:none\">Africa</td>\n</tr><tr class=\"even\" role=\"row\" style=\"\">\n<td style=\"font-size:12px;color: grey;text-align:center;vertical-align:middle;\">137</td>\n<td style=\"font-weight: bold; font-size:15px; text-align:left;\"><a class=\"mt_a\" href=\"/coronavirus/country/kiribati/\">Kiribati</a></td>\n<td class=\"sorting_1\" style=\"font-weight: bold; text-align:right\">1</td>\n<td style=\"font-weight: bold; text-align:right\">4</td>\n<td style=\"font-weight: bold; text-align:right\">-75%</td>\n<td style=\"font-weight: bold; text-align:right\">8</td>\n<td style=\"font-weight: bold; text-align:right\">0</td>\n<td style=\"font-weight: bold; text-align:right\">0</td>\n<td style=\"font-weight: bold; text-align:right\">0%</td>\n<td style=\"font-weight: bold; text-align:right\">0</td>\n<td style=\"font-weight: bold; text-align:right\">-24</td><td style=\"font-weight: bold; text-align:right\">0</td><td style=\"font-weight: bold; text-align:right\">123,419</td>\n<td data-continent=\"Australia/Oceania\" style=\"display:none\">Australia/Oceania</td>\n</tr><tr class=\"odd\" role=\"row\" style=\"\">\n<td style=\"font-size:12px;color: grey;text-align:center;vertical-align:middle;\">138</td>\n<td style=\"font-weight: bold; font-size:15px; text-align:left;\"><a class=\"mt_a\" href=\"/coronavirus/country/libya/\">Libya</a></td>\n<td class=\"sorting_1\" style=\"font-weight: bold; text-align:right\">1</td>\n<td style=\"font-weight: bold; text-align:right\">4</td>\n<td style=\"font-weight: bold; text-align:right\">-75%</td>\n<td style=\"font-weight: bold; text-align:right\">0.1</td>\n<td style=\"font-weight: bold; text-align:right\">0</td>\n<td style=\"font-weight: bold; text-align:right\">0</td>\n<td style=\"font-weight: bold; text-align:right\">0%</td>\n<td style=\"font-weight: bold; text-align:right\">0</td>\n<td style=\"font-weight: bold; text-align:right\">-0.4</td><td style=\"font-weight: bold; text-align:right\">0</td><td style=\"font-weight: bold; text-align:right\">7,040,745</td>\n<td data-continent=\"Africa\" style=\"display:none\">Africa</td>\n</tr><tr class=\"even\" role=\"row\" style=\"\">\n<td style=\"font-size:12px;color: grey;text-align:center;vertical-align:middle;\">139</td>\n<td style=\"font-weight: bold; font-size:15px; text-align:left;\"><a class=\"mt_a\" href=\"/coronavirus/country/mongolia/\">Mongolia</a></td>\n<td class=\"sorting_1\" style=\"font-weight: bold; text-align:right\">1</td>\n<td style=\"font-weight: bold; text-align:right\">7</td>\n<td style=\"font-weight: bold; text-align:right\">-86%</td>\n<td style=\"font-weight: bold; text-align:right\">0.3</td>\n<td style=\"font-weight: bold; text-align:right\">0</td>\n<td style=\"font-weight: bold; text-align:right\">0</td>\n<td style=\"font-weight: bold; text-align:right\">0%</td>\n<td style=\"font-weight: bold; text-align:right\">0</td>\n<td style=\"font-weight: bold; text-align:right\">-2</td><td style=\"font-weight: bold; text-align:right\">0</td><td style=\"font-weight: bold; text-align:right\">3,378,078</td>\n<td data-continent=\"Asia\" style=\"display:none\">Asia</td>\n</tr><tr class=\"odd\" role=\"row\" style=\"\">\n<td style=\"font-size:12px;color: grey;text-align:center;vertical-align:middle;\">140</td>\n<td style=\"font-weight: bold; font-size:15px; text-align:left;\"><a class=\"mt_a\" href=\"/coronavirus/country/sao-tome-and-principe/\">Sao Tome and Principe</a></td>\n<td class=\"sorting_1\" style=\"font-weight: bold; text-align:right\">1</td>\n<td style=\"font-weight: bold; text-align:right\">0</td>\n<td style=\"font-weight: bold; text-align:right\">+100%</td>\n<td style=\"font-weight: bold; text-align:right\">4</td>\n<td style=\"font-weight: bold; text-align:right\">0</td>\n<td style=\"font-weight: bold; text-align:right\">0</td>\n<td style=\"font-weight: bold; text-align:right\">0%</td>\n<td style=\"font-weight: bold; text-align:right\">0</td>\n<td style=\"font-weight: bold; text-align:right\">+4</td><td style=\"font-weight: bold; text-align:right\">0</td><td style=\"font-weight: bold; text-align:right\">227,679</td>\n<td data-continent=\"Africa\" style=\"display:none\">Africa</td>\n</tr><tr class=\"even\" role=\"row\" style=\"\">\n<td style=\"font-size:12px;color: grey;text-align:center;vertical-align:middle;\">141</td>\n<td style=\"font-weight: bold; font-size:15px; text-align:left;\"><a class=\"mt_a\" href=\"/coronavirus/country/uk/\">UK</a></td>\n<td class=\"sorting_1\" style=\"font-weight: bold; text-align:right\">0</td>\n<td style=\"font-weight: bold; text-align:right\">12,781</td>\n<td style=\"font-weight: bold; text-align:right\">-100%</td>\n<td style=\"font-weight: bold; text-align:right\">0</td>\n<td style=\"font-weight: bold; text-align:right\">0</td>\n<td style=\"font-weight: bold; text-align:right\">403</td>\n<td style=\"font-weight: bold; text-align:right\">-100%</td>\n<td style=\"font-weight: bold; text-align:right\">0</td>\n<td style=\"font-weight: bold; text-align:right\">-187</td><td style=\"font-weight: bold; text-align:right\">-6</td><td style=\"font-weight: bold; text-align:right\">68,497,907</td>\n<td data-continent=\"Europe\" style=\"display:none\">Europe</td>\n</tr><tr class=\"odd\" role=\"row\" style=\"\">\n<td style=\"font-size:12px;color: grey;text-align:center;vertical-align:middle;\">142</td>\n<td style=\"font-weight: bold; font-size:15px; text-align:left;\"><a class=\"mt_a\" href=\"/coronavirus/country/andorra/\">Andorra</a></td>\n<td class=\"sorting_1\" style=\"font-weight: bold; text-align:right\">0</td>\n<td style=\"font-weight: bold; text-align:right\">6</td>\n<td style=\"font-weight: bold; text-align:right\">-100%</td>\n<td style=\"font-weight: bold; text-align:right\">0</td>\n<td style=\"font-weight: bold; text-align:right\">0</td>\n<td style=\"font-weight: bold; text-align:right\">0</td>\n<td style=\"font-weight: bold; text-align:right\">0%</td>\n<td style=\"font-weight: bold; text-align:right\">0</td>\n<td style=\"font-weight: bold; text-align:right\">-77</td><td style=\"font-weight: bold; text-align:right\">0</td><td style=\"font-weight: bold; text-align:right\">77,463</td>\n<td data-continent=\"Europe\" style=\"display:none\">Europe</td>\n</tr><tr class=\"even\" role=\"row\" style=\"\">\n<td style=\"font-size:12px;color: grey;text-align:center;vertical-align:middle;\">143</td>\n<td style=\"font-weight: bold; font-size:15px; text-align:left;\"><a class=\"mt_a\" href=\"/coronavirus/country/argentina/\">Argentina</a></td>\n<td class=\"sorting_1\" style=\"font-weight: bold; text-align:right\">0</td>\n<td style=\"font-weight: bold; text-align:right\">1,172</td>\n<td style=\"font-weight: bold; text-align:right\">-100%</td>\n<td style=\"font-weight: bold; text-align:right\">0</td>\n<td style=\"font-weight: bold; text-align:right\">0</td>\n<td style=\"font-weight: bold; text-align:right\">10</td>\n<td style=\"font-weight: bold; text-align:right\">-100%</td>\n<td style=\"font-weight: bold; text-align:right\">0</td>\n<td style=\"font-weight: bold; text-align:right\">-25</td><td style=\"font-weight: bold; text-align:right\">-0.2</td><td style=\"font-weight: bold; text-align:right\">46,010,234</td>\n<td data-continent=\"South America\" style=\"display:none\">South America</td>\n</tr><tr class=\"odd\" role=\"row\" style=\"\">\n<td style=\"font-size:12px;color: grey;text-align:center;vertical-align:middle;\">144</td>\n<td style=\"font-weight: bold; font-size:15px; text-align:left;\"><a class=\"mt_a\" href=\"/coronavirus/country/burkina-faso/\">Burkina Faso</a></td>\n<td class=\"sorting_1\" style=\"font-weight: bold; text-align:right\">0</td>\n<td style=\"font-weight: bold; text-align:right\">31</td>\n<td style=\"font-weight: bold; text-align:right\">-100%</td>\n<td style=\"font-weight: bold; text-align:right\">0</td>\n<td style=\"font-weight: bold; text-align:right\">0</td>\n<td style=\"font-weight: bold; text-align:right\">0</td>\n<td style=\"font-weight: bold; text-align:right\">0%</td>\n<td style=\"font-weight: bold; text-align:right\">0</td>\n<td style=\"font-weight: bold; text-align:right\">-1</td><td style=\"font-weight: bold; text-align:right\">0</td><td style=\"font-weight: bold; text-align:right\">22,102,838</td>\n<td data-continent=\"Africa\" style=\"display:none\">Africa</td>\n</tr><tr class=\"even\" role=\"row\" style=\"\">\n<td style=\"font-size:12px;color: grey;text-align:center;vertical-align:middle;\">145</td>\n<td style=\"font-weight: bold; font-size:15px; text-align:left;\"><a class=\"mt_a\" href=\"/coronavirus/country/burundi/\">Burundi</a></td>\n<td class=\"sorting_1\" style=\"font-weight: bold; text-align:right\">0</td>\n<td style=\"font-weight: bold; text-align:right\">35</td>\n<td style=\"font-weight: bold; text-align:right\">-100%</td>\n<td style=\"font-weight: bold; text-align:right\">0</td>\n<td style=\"font-weight: bold; text-align:right\">0</td>\n<td style=\"font-weight: bold; text-align:right\">0</td>\n<td style=\"font-weight: bold; text-align:right\">0%</td>\n<td style=\"font-weight: bold; text-align:right\">0</td>\n<td style=\"font-weight: bold; text-align:right\">-3</td><td style=\"font-weight: bold; text-align:right\">0</td><td style=\"font-weight: bold; text-align:right\">12,624,840</td>\n<td data-continent=\"Africa\" style=\"display:none\">Africa</td>\n</tr><tr class=\"odd\" role=\"row\" style=\"\">\n<td style=\"font-size:12px;color: grey;text-align:center;vertical-align:middle;\">146</td>\n<td style=\"font-weight: bold; font-size:15px; text-align:left;\"><a class=\"mt_a\" href=\"/coronavirus/country/cook-islands/\">Cook Islands</a></td>\n<td class=\"sorting_1\" style=\"font-weight: bold; text-align:right\">0</td>\n<td style=\"font-weight: bold; text-align:right\">3</td>\n<td style=\"font-weight: bold; text-align:right\">-100%</td>\n<td style=\"font-weight: bold; text-align:right\">0</td>\n<td style=\"font-weight: bold; text-align:right\">0</td>\n<td style=\"font-weight: bold; text-align:right\">0</td>\n<td style=\"font-weight: bold; text-align:right\">0%</td>\n<td style=\"font-weight: bold; text-align:right\">0</td>\n<td style=\"font-weight: bold; text-align:right\">-171</td><td style=\"font-weight: bold; text-align:right\">0</td><td style=\"font-weight: bold; text-align:right\">17,571</td>\n<td data-continent=\"Australia/Oceania\" style=\"display:none\">Australia/Oceania</td>\n</tr><tr class=\"even\" role=\"row\" style=\"\">\n<td style=\"font-size:12px;color: grey;text-align:center;vertical-align:middle;\">147</td>\n<td style=\"font-weight: bold; font-size:15px; text-align:left;\"><a class=\"mt_a\" href=\"/coronavirus/country/democratic-republic-of-the-congo/\">DRC</a></td>\n<td class=\"sorting_1\" style=\"font-weight: bold; text-align:right\">0</td>\n<td style=\"font-weight: bold; text-align:right\">61</td>\n<td style=\"font-weight: bold; text-align:right\">-100%</td>\n<td style=\"font-weight: bold; text-align:right\">0</td>\n<td style=\"font-weight: bold; text-align:right\">0</td>\n<td style=\"font-weight: bold; text-align:right\">1</td>\n<td style=\"font-weight: bold; text-align:right\">-100%</td>\n<td style=\"font-weight: bold; text-align:right\">0</td>\n<td style=\"font-weight: bold; text-align:right\">-0.6</td><td style=\"font-weight: bold; text-align:right\">0.0</td><td style=\"font-weight: bold; text-align:right\">95,240,792</td>\n<td data-continent=\"Africa\" style=\"display:none\">Africa</td>\n</tr><tr class=\"odd\" role=\"row\" style=\"\">\n<td style=\"font-size:12px;color: grey;text-align:center;vertical-align:middle;\">148</td>\n<td style=\"font-weight: bold; font-size:15px; text-align:left;\"><a class=\"mt_a\" href=\"/coronavirus/country/egypt/\">Egypt</a></td>\n<td class=\"sorting_1\" style=\"font-weight: bold; text-align:right\">0</td>\n<td style=\"font-weight: bold; text-align:right\">32</td>\n<td style=\"font-weight: bold; text-align:right\">-100%</td>\n<td style=\"font-weight: bold; text-align:right\">0</td>\n<td style=\"font-weight: bold; text-align:right\">0</td>\n<td style=\"font-weight: bold; text-align:right\">0</td>\n<td style=\"font-weight: bold; text-align:right\">0%</td>\n<td style=\"font-weight: bold; text-align:right\">0</td>\n<td style=\"font-weight: bold; text-align:right\">-0.3</td><td style=\"font-weight: bold; text-align:right\">0</td><td style=\"font-weight: bold; text-align:right\">106,156,692</td>\n<td data-continent=\"Africa\" style=\"display:none\">Africa</td>\n</tr><tr class=\"even\" role=\"row\" style=\"\">\n<td style=\"font-size:12px;color: grey;text-align:center;vertical-align:middle;\">149</td>\n<td style=\"font-weight: bold; font-size:15px; text-align:left;\"><a class=\"mt_a\" href=\"/coronavirus/country/guinea/\">Guinea</a></td>\n<td class=\"sorting_1\" style=\"font-weight: bold; text-align:right\">0</td>\n<td style=\"font-weight: bold; text-align:right\">27</td>\n<td style=\"font-weight: bold; text-align:right\">-100%</td>\n<td style=\"font-weight: bold; text-align:right\">0</td>\n<td style=\"font-weight: bold; text-align:right\">0</td>\n<td style=\"font-weight: bold; text-align:right\">0</td>\n<td style=\"font-weight: bold; text-align:right\">0%</td>\n<td style=\"font-weight: bold; text-align:right\">0</td>\n<td style=\"font-weight: bold; text-align:right\">-2</td><td style=\"font-weight: bold; text-align:right\">0</td><td style=\"font-weight: bold; text-align:right\">13,865,691</td>\n<td data-continent=\"Africa\" style=\"display:none\">Africa</td>\n</tr><tr class=\"odd\" role=\"row\" style=\"\">\n<td style=\"font-size:12px;color: grey;text-align:center;vertical-align:middle;\">150</td>\n<td style=\"font-weight: bold; font-size:15px; text-align:left;\"><a class=\"mt_a\" href=\"/coronavirus/country/guinea-bissau/\">Guinea-Bissau</a></td>\n<td class=\"sorting_1\" style=\"font-weight: bold; text-align:right\">0</td>\n<td style=\"font-weight: bold; text-align:right\">6</td>\n<td style=\"font-weight: bold; text-align:right\">-100%</td>\n<td style=\"font-weight: bold; text-align:right\">0</td>\n<td style=\"font-weight: bold; text-align:right\">0</td>\n<td style=\"font-weight: bold; text-align:right\">0</td>\n<td style=\"font-weight: bold; text-align:right\">0%</td>\n<td style=\"font-weight: bold; text-align:right\">0</td>\n<td style=\"font-weight: bold; text-align:right\">-3</td><td style=\"font-weight: bold; text-align:right\">0</td><td style=\"font-weight: bold; text-align:right\">2,063,367</td>\n<td data-continent=\"Africa\" style=\"display:none\">Africa</td>\n</tr><tr class=\"even\" role=\"row\" style=\"\">\n<td style=\"font-size:12px;color: grey;text-align:center;vertical-align:middle;\">151</td>\n<td style=\"font-weight: bold; font-size:15px; text-align:left;\"><a class=\"mt_a\" href=\"/coronavirus/country/haiti/\">Haiti</a></td>\n<td class=\"sorting_1\" style=\"font-weight: bold; text-align:right\">0</td>\n<td style=\"font-weight: bold; text-align:right\">67</td>\n<td style=\"font-weight: bold; text-align:right\">-100%</td>\n<td style=\"font-weight: bold; text-align:right\">0</td>\n<td style=\"font-weight: bold; text-align:right\">0</td>\n<td style=\"font-weight: bold; text-align:right\">0</td>\n<td style=\"font-weight: bold; text-align:right\">0%</td>\n<td style=\"font-weight: bold; text-align:right\">0</td>\n<td style=\"font-weight: bold; text-align:right\">-6</td><td style=\"font-weight: bold; text-align:right\">0</td><td style=\"font-weight: bold; text-align:right\">11,680,283</td>\n<td data-continent=\"North America\" style=\"display:none\">North America</td>\n</tr><tr class=\"odd\" role=\"row\" style=\"\">\n<td style=\"font-size:12px;color: grey;text-align:center;vertical-align:middle;\">152</td>\n<td style=\"font-weight: bold; font-size:15px; text-align:left;\"><a class=\"mt_a\" href=\"/coronavirus/country/honduras/\">Honduras</a></td>\n<td class=\"sorting_1\" style=\"font-weight: bold; text-align:right\">0</td>\n<td style=\"font-weight: bold; text-align:right\">617</td>\n<td style=\"font-weight: bold; text-align:right\">-100%</td>\n<td style=\"font-weight: bold; text-align:right\">0</td>\n<td style=\"font-weight: bold; text-align:right\">0</td>\n<td style=\"font-weight: bold; text-align:right\">5</td>\n<td style=\"font-weight: bold; text-align:right\">-100%</td>\n<td style=\"font-weight: bold; text-align:right\">0</td>\n<td style=\"font-weight: bold; text-align:right\">-60</td><td style=\"font-weight: bold; text-align:right\">-0.5</td><td style=\"font-weight: bold; text-align:right\">10,221,247</td>\n<td data-continent=\"North America\" style=\"display:none\">North America</td>\n</tr><tr class=\"even\" role=\"row\" style=\"\">\n<td style=\"font-size:12px;color: grey;text-align:center;vertical-align:middle;\">153</td>\n<td style=\"font-weight: bold; font-size:15px; text-align:left;\"><a class=\"mt_a\" href=\"/coronavirus/country/ireland/\">Ireland</a></td>\n<td class=\"sorting_1\" style=\"font-weight: bold; text-align:right\">0</td>\n<td style=\"font-weight: bold; text-align:right\">251</td>\n<td style=\"font-weight: bold; text-align:right\">-100%</td>\n<td style=\"font-weight: bold; text-align:right\">0</td>\n<td style=\"font-weight: bold; text-align:right\">0</td>\n<td style=\"font-weight: bold; text-align:right\">3</td>\n<td style=\"font-weight: bold; text-align:right\">-100%</td>\n<td style=\"font-weight: bold; text-align:right\">0</td>\n<td style=\"font-weight: bold; text-align:right\">-50</td><td style=\"font-weight: bold; text-align:right\">-0.6</td><td style=\"font-weight: bold; text-align:right\">5,020,199</td>\n<td data-continent=\"Europe\" style=\"display:none\">Europe</td>\n</tr><tr class=\"odd\" role=\"row\" style=\"\">\n<td style=\"font-size:12px;color: grey;text-align:center;vertical-align:middle;\">154</td>\n<td style=\"font-weight: bold; font-size:15px; text-align:left;\"><a class=\"mt_a\" href=\"/coronavirus/country/jamaica/\">Jamaica</a></td>\n<td class=\"sorting_1\" style=\"font-weight: bold; text-align:right\">0</td>\n<td style=\"font-weight: bold; text-align:right\">160</td>\n<td style=\"font-weight: bold; text-align:right\">-100%</td>\n<td style=\"font-weight: bold; text-align:right\">0</td>\n<td style=\"font-weight: bold; text-align:right\">0</td>\n<td style=\"font-weight: bold; text-align:right\">12</td>\n<td style=\"font-weight: bold; text-align:right\">-100%</td>\n<td style=\"font-weight: bold; text-align:right\">0</td>\n<td style=\"font-weight: bold; text-align:right\">-54</td><td style=\"font-weight: bold; text-align:right\">-4</td><td style=\"font-weight: bold; text-align:right\">2,985,094</td>\n<td data-continent=\"North America\" style=\"display:none\">North America</td>\n</tr><tr class=\"even\" role=\"row\" style=\"\">\n<td style=\"font-size:12px;color: grey;text-align:center;vertical-align:middle;\">155</td>\n<td style=\"font-weight: bold; font-size:15px; text-align:left;\"><a class=\"mt_a\" href=\"/coronavirus/country/marshall-islands/\">Marshall Islands</a></td>\n<td class=\"sorting_1\" style=\"font-weight: bold; text-align:right\">0</td>\n<td style=\"font-weight: bold; text-align:right\">8</td>\n<td style=\"font-weight: bold; text-align:right\">-100%</td>\n<td style=\"font-weight: bold; text-align:right\">0</td>\n<td style=\"font-weight: bold; text-align:right\">0</td>\n<td style=\"font-weight: bold; text-align:right\">0</td>\n<td style=\"font-weight: bold; text-align:right\">0%</td>\n<td style=\"font-weight: bold; text-align:right\">0</td>\n<td style=\"font-weight: bold; text-align:right\">-133</td><td style=\"font-weight: bold; text-align:right\">0</td><td style=\"font-weight: bold; text-align:right\">60,057</td>\n<td data-continent=\"Australia/Oceania\" style=\"display:none\">Australia/Oceania</td>\n</tr><tr class=\"odd\" role=\"row\" style=\"\">\n<td style=\"font-size:12px;color: grey;text-align:center;vertical-align:middle;\">156</td>\n<td style=\"font-weight: bold; font-size:15px; text-align:left;\"><a class=\"mt_a\" href=\"/coronavirus/country/martinique/\">Martinique</a></td>\n<td class=\"sorting_1\" style=\"font-weight: bold; text-align:right\">0</td>\n<td style=\"font-weight: bold; text-align:right\">120</td>\n<td style=\"font-weight: bold; text-align:right\">-100%</td>\n<td style=\"font-weight: bold; text-align:right\">0</td>\n<td style=\"font-weight: bold; text-align:right\">0</td>\n<td style=\"font-weight: bold; text-align:right\">1</td>\n<td style=\"font-weight: bold; text-align:right\">-100%</td>\n<td style=\"font-weight: bold; text-align:right\">0</td>\n<td style=\"font-weight: bold; text-align:right\">-321</td><td style=\"font-weight: bold; text-align:right\">-3</td><td style=\"font-weight: bold; text-align:right\">374,087</td>\n<td data-continent=\"North America\" style=\"display:none\">North America</td>\n</tr><tr class=\"even\" role=\"row\" style=\"\">\n<td style=\"font-size:12px;color: grey;text-align:center;vertical-align:middle;\">157</td>\n<td style=\"font-weight: bold; font-size:15px; text-align:left;\"><a class=\"mt_a\" href=\"/coronavirus/country/papua-new-guinea/\">Papua New Guinea</a></td>\n<td class=\"sorting_1\" style=\"font-weight: bold; text-align:right\">0</td>\n<td style=\"font-weight: bold; text-align:right\">16</td>\n<td style=\"font-weight: bold; text-align:right\">-100%</td>\n<td style=\"font-weight: bold; text-align:right\">0</td>\n<td style=\"font-weight: bold; text-align:right\">0</td>\n<td style=\"font-weight: bold; text-align:right\">0</td>\n<td style=\"font-weight: bold; text-align:right\">0%</td>\n<td style=\"font-weight: bold; text-align:right\">0</td>\n<td style=\"font-weight: bold; text-align:right\">-2</td><td style=\"font-weight: bold; text-align:right\">0</td><td style=\"font-weight: bold; text-align:right\">9,292,169</td>\n<td data-continent=\"Australia/Oceania\" style=\"display:none\">Australia/Oceania</td>\n</tr><tr class=\"odd\" role=\"row\" style=\"\">\n<td style=\"font-size:12px;color: grey;text-align:center;vertical-align:middle;\">158</td>\n<td style=\"font-weight: bold; font-size:15px; text-align:left;\"><a class=\"mt_a\" href=\"/coronavirus/country/portugal/\">Portugal</a></td>\n<td class=\"sorting_1\" style=\"font-weight: bold; text-align:right\">0</td>\n<td style=\"font-weight: bold; text-align:right\">1,229</td>\n<td style=\"font-weight: bold; text-align:right\">-100%</td>\n<td style=\"font-weight: bold; text-align:right\">0</td>\n<td style=\"font-weight: bold; text-align:right\">0</td>\n<td style=\"font-weight: bold; text-align:right\">58</td>\n<td style=\"font-weight: bold; text-align:right\">-100%</td>\n<td style=\"font-weight: bold; text-align:right\">0</td>\n<td style=\"font-weight: bold; text-align:right\">-121</td><td style=\"font-weight: bold; text-align:right\">-6</td><td style=\"font-weight: bold; text-align:right\">10,140,570</td>\n<td data-continent=\"Europe\" style=\"display:none\">Europe</td>\n</tr><tr class=\"even\" role=\"row\" style=\"\">\n<td style=\"font-size:12px;color: grey;text-align:center;vertical-align:middle;\">159</td>\n<td style=\"font-weight: bold; font-size:15px; text-align:left;\"><a class=\"mt_a\" href=\"/coronavirus/country/rwanda/\">Rwanda</a></td>\n<td class=\"sorting_1\" style=\"font-weight: bold; text-align:right\">0</td>\n<td style=\"font-weight: bold; text-align:right\">80</td>\n<td style=\"font-weight: bold; text-align:right\">-100%</td>\n<td style=\"font-weight: bold; text-align:right\">0</td>\n<td style=\"font-weight: bold; text-align:right\">0</td>\n<td style=\"font-weight: bold; text-align:right\">0</td>\n<td style=\"font-weight: bold; text-align:right\">0%</td>\n<td style=\"font-weight: bold; text-align:right\">0</td>\n<td style=\"font-weight: bold; text-align:right\">-6</td><td style=\"font-weight: bold; text-align:right\">0</td><td style=\"font-weight: bold; text-align:right\">13,600,464</td>\n<td data-continent=\"Africa\" style=\"display:none\">Africa</td>\n</tr><tr class=\"odd\" role=\"row\" style=\"\">\n<td style=\"font-size:12px;color: grey;text-align:center;vertical-align:middle;\">160</td>\n<td style=\"font-weight: bold; font-size:15px; text-align:left;\"><a class=\"mt_a\" href=\"/coronavirus/country/saint-kitts-and-nevis/\">Saint Kitts and Nevis</a></td>\n<td class=\"sorting_1\" style=\"font-weight: bold; text-align:right\">0</td>\n<td style=\"font-weight: bold; text-align:right\">3</td>\n<td style=\"font-weight: bold; text-align:right\">-100%</td>\n<td style=\"font-weight: bold; text-align:right\">0</td>\n<td style=\"font-weight: bold; text-align:right\">0</td>\n<td style=\"font-weight: bold; text-align:right\">0</td>\n<td style=\"font-weight: bold; text-align:right\">0%</td>\n<td style=\"font-weight: bold; text-align:right\">0</td>\n<td style=\"font-weight: bold; text-align:right\">-56</td><td style=\"font-weight: bold; text-align:right\">0</td><td style=\"font-weight: bold; text-align:right\">53,871</td>\n<td data-continent=\"North America\" style=\"display:none\">North America</td>\n</tr><tr class=\"even\" role=\"row\" style=\"\">\n<td style=\"font-size:12px;color: grey;text-align:center;vertical-align:middle;\">161</td>\n<td style=\"font-weight: bold; font-size:15px; text-align:left;\"><a class=\"mt_a\" href=\"/coronavirus/country/saint-vincent-and-the-grenadines/\">St. Vincent Grenadines</a></td>\n<td class=\"sorting_1\" style=\"font-weight: bold; text-align:right\">0</td>\n<td style=\"font-weight: bold; text-align:right\">2</td>\n<td style=\"font-weight: bold; text-align:right\">-100%</td>\n<td style=\"font-weight: bold; text-align:right\">0</td>\n<td style=\"font-weight: bold; text-align:right\">0</td>\n<td style=\"font-weight: bold; text-align:right\">0</td>\n<td style=\"font-weight: bold; text-align:right\">0%</td>\n<td style=\"font-weight: bold; text-align:right\">0</td>\n<td style=\"font-weight: bold; text-align:right\">-18</td><td style=\"font-weight: bold; text-align:right\">0</td><td style=\"font-weight: bold; text-align:right\">111,551</td>\n<td data-continent=\"North America\" style=\"display:none\">North America</td>\n</tr><tr class=\"odd\" role=\"row\" style=\"\">\n<td style=\"font-size:12px;color: grey;text-align:center;vertical-align:middle;\">162</td>\n<td style=\"font-weight: bold; font-size:15px; text-align:left;\"><a class=\"mt_a\" href=\"/coronavirus/country/somalia/\">Somalia</a></td>\n<td class=\"sorting_1\" style=\"font-weight: bold; text-align:right\">0</td>\n<td style=\"font-weight: bold; text-align:right\">2</td>\n<td style=\"font-weight: bold; text-align:right\">-100%</td>\n<td style=\"font-weight: bold; text-align:right\">0</td>\n<td style=\"font-weight: bold; text-align:right\">0</td>\n<td style=\"font-weight: bold; text-align:right\">0</td>\n<td style=\"font-weight: bold; text-align:right\">0%</td>\n<td style=\"font-weight: bold; text-align:right\">0</td>\n<td style=\"font-weight: bold; text-align:right\">-0.1</td><td style=\"font-weight: bold; text-align:right\">0</td><td style=\"font-weight: bold; text-align:right\">16,841,795</td>\n<td data-continent=\"Africa\" style=\"display:none\">Africa</td>\n</tr><tr class=\"even\" role=\"row\" style=\"\">\n<td style=\"font-size:12px;color: grey;text-align:center;vertical-align:middle;\">163</td>\n<td style=\"font-weight: bold; font-size:15px; text-align:left;\"><a class=\"mt_a\" href=\"/coronavirus/country/swaziland/\">Eswatini</a></td>\n<td class=\"sorting_1\" style=\"font-weight: bold; text-align:right\">0</td>\n<td style=\"font-weight: bold; text-align:right\">41</td>\n<td style=\"font-weight: bold; text-align:right\">-100%</td>\n<td style=\"font-weight: bold; text-align:right\">0</td>\n<td style=\"font-weight: bold; text-align:right\">0</td>\n<td style=\"font-weight: bold; text-align:right\">0</td>\n<td style=\"font-weight: bold; text-align:right\">0%</td>\n<td style=\"font-weight: bold; text-align:right\">0</td>\n<td style=\"font-weight: bold; text-align:right\">-35</td><td style=\"font-weight: bold; text-align:right\">0</td><td style=\"font-weight: bold; text-align:right\">1,184,817</td>\n<td data-continent=\"Africa\" style=\"display:none\">Africa</td>\n</tr><tr class=\"odd\" role=\"row\" style=\"\">\n<td style=\"font-size:12px;color: grey;text-align:center;vertical-align:middle;\">164</td>\n<td style=\"font-weight: bold; font-size:15px; text-align:left;\"><a class=\"mt_a\" href=\"/coronavirus/country/timor-leste/\">Timor-Leste</a></td>\n<td class=\"sorting_1\" style=\"font-weight: bold; text-align:right\">0</td>\n<td style=\"font-weight: bold; text-align:right\">2</td>\n<td style=\"font-weight: bold; text-align:right\">-100%</td>\n<td style=\"font-weight: bold; text-align:right\">0</td>\n<td style=\"font-weight: bold; text-align:right\">0</td>\n<td style=\"font-weight: bold; text-align:right\">0</td>\n<td style=\"font-weight: bold; text-align:right\">0%</td>\n<td style=\"font-weight: bold; text-align:right\">0</td>\n<td style=\"font-weight: bold; text-align:right\">-1</td><td style=\"font-weight: bold; text-align:right\">0</td><td style=\"font-weight: bold; text-align:right\">1,369,429</td>\n<td data-continent=\"Asia\" style=\"display:none\">Asia</td>\n</tr><tr class=\"even\" role=\"row\" style=\"\">\n<td style=\"font-size:12px;color: grey;text-align:center;vertical-align:middle;\">165</td>\n<td style=\"font-weight: bold; font-size:15px; text-align:left;\"><a class=\"mt_a\" href=\"/coronavirus/country/tonga/\">Tonga</a></td>\n<td class=\"sorting_1\" style=\"font-weight: bold; text-align:right\">0</td>\n<td style=\"font-weight: bold; text-align:right\">6</td>\n<td style=\"font-weight: bold; text-align:right\">-100%</td>\n<td style=\"font-weight: bold; text-align:right\">0</td>\n<td style=\"font-weight: bold; text-align:right\">0</td>\n<td style=\"font-weight: bold; text-align:right\">0</td>\n<td style=\"font-weight: bold; text-align:right\">0%</td>\n<td style=\"font-weight: bold; text-align:right\">0</td>\n<td style=\"font-weight: bold; text-align:right\">-56</td><td style=\"font-weight: bold; text-align:right\">0</td><td style=\"font-weight: bold; text-align:right\">107,749</td>\n<td data-continent=\"Australia/Oceania\" style=\"display:none\">Australia/Oceania</td>\n</tr><tr class=\"odd\" role=\"row\" style=\"\">\n<td style=\"font-size:12px;color: grey;text-align:center;vertical-align:middle;\">166</td>\n<td style=\"font-weight: bold; font-size:15px; text-align:left;\"><a class=\"mt_a\" href=\"/coronavirus/country/turks-and-caicos-islands/\">Turks and Caicos</a></td>\n<td class=\"sorting_1\" style=\"font-weight: bold; text-align:right\">0</td>\n<td style=\"font-weight: bold; text-align:right\">14</td>\n<td style=\"font-weight: bold; text-align:right\">-100%</td>\n<td style=\"font-weight: bold; text-align:right\">0</td>\n<td style=\"font-weight: bold; text-align:right\">0</td>\n<td style=\"font-weight: bold; text-align:right\">0</td>\n<td style=\"font-weight: bold; text-align:right\">0%</td>\n<td style=\"font-weight: bold; text-align:right\">0</td>\n<td style=\"font-weight: bold; text-align:right\">-352</td><td style=\"font-weight: bold; text-align:right\">0</td><td style=\"font-weight: bold; text-align:right\">39,741</td>\n<td data-continent=\"North America\" style=\"display:none\">North America</td>\n</tr><tr class=\"even\" role=\"row\" style=\"\">\n<td style=\"font-size:12px;color: grey;text-align:center;vertical-align:middle;\">167</td>\n<td style=\"font-weight: bold; font-size:15px; text-align:left;\"><a class=\"mt_a\" href=\"/coronavirus/country/ukraine/\">Ukraine</a></td>\n<td class=\"sorting_1\" style=\"font-weight: bold; text-align:right\">0</td>\n<td style=\"font-weight: bold; text-align:right\">5,283</td>\n<td style=\"font-weight: bold; text-align:right\">-100%</td>\n<td style=\"font-weight: bold; text-align:right\">0</td>\n<td style=\"font-weight: bold; text-align:right\">0</td>\n<td style=\"font-weight: bold; text-align:right\">44</td>\n<td style=\"font-weight: bold; text-align:right\">-100%</td>\n<td style=\"font-weight: bold; text-align:right\">0</td>\n<td style=\"font-weight: bold; text-align:right\">-122</td><td style=\"font-weight: bold; text-align:right\">-1</td><td style=\"font-weight: bold; text-align:right\">43,192,122</td>\n<td data-continent=\"Europe\" style=\"display:none\">Europe</td>\n</tr></tbody>\n<tbody class=\"body_continents\">\n<tr class=\"total_row_world row_continent\" data-continent=\"Asia\" style=\"display: none\">\n<td></td>\n<td style=\"text-align:left;\">\n<nobr>Asia</nobr>\n</td>\n<td>284,108</td>\n<td>359,384</td>\n<td>-21%</td>\n<td></td>\n<td>1,257</td>\n<td>1,757</td>\n<td>\n                                    -28%                                    </td>\n<td></td>\n<td style=\"display: none;\">-75,276</td>\n<td style=\"display: block;\"></td>\n<td style=\"display: none;\">-500</td>\n<td style=\"display: block;\"></td>\n<td></td>\n<td data-continent=\"Asia\" style=\"display:none;\">Asia</td>\n</tr>\n<tr class=\"total_row_world row_continent\" data-continent=\"Australia/Oceania\" style=\"display: none\">\n<td></td>\n<td style=\"text-align:left;\">\n<nobr>Oceania</nobr>\n</td>\n<td>23,935</td>\n<td>25,635</td>\n<td>-7%</td>\n<td></td>\n<td>120</td>\n<td>193</td>\n<td>\n                                    -38%                                    </td>\n<td></td>\n<td style=\"display: none;\">-1,700</td>\n<td style=\"display: block;\"></td>\n<td style=\"display: none;\">-73</td>\n<td style=\"display: block;\"></td>\n<td></td>\n<td data-continent=\"Australia/Oceania\" style=\"display:none;\">Australia/Oceania</td>\n</tr>\n<tr class=\"total_row_world row_continent\" data-continent=\"North America\" style=\"display: none\">\n<td></td>\n<td style=\"text-align:left;\">\n<nobr>North America</nobr>\n</td>\n<td>132,257</td>\n<td>260,173</td>\n<td>-49%</td>\n<td></td>\n<td>1,202</td>\n<td>2,716</td>\n<td>\n                                    -56%                                    </td>\n<td></td>\n<td style=\"display: none;\">-127,916</td>\n<td style=\"display: block;\"></td>\n<td style=\"display: none;\">-1,514</td>\n<td style=\"display: block;\"></td>\n<td></td>\n<td data-continent=\"North America\" style=\"display:none;\">North America</td>\n</tr>\n<tr class=\"total_row_world row_continent\" data-continent=\"Europe\" style=\"display: none\">\n<td></td>\n<td style=\"text-align:left;\">\n<nobr>Europe</nobr>\n</td>\n<td>341,866</td>\n<td>358,856</td>\n<td>-5%</td>\n<td></td>\n<td>1,540</td>\n<td>2,466</td>\n<td>\n                                    -38%                                    </td>\n<td></td>\n<td style=\"display: none;\">-16,990</td>\n<td style=\"display: block;\"></td>\n<td style=\"display: none;\">-926</td>\n<td style=\"display: block;\"></td>\n<td></td>\n<td data-continent=\"Europe\" style=\"display:none;\">Europe</td>\n</tr>\n<tr class=\"total_row_world row_continent\" data-continent=\"Africa\" style=\"display: none\">\n<td></td>\n<td style=\"text-align:left;\">\n<nobr>Africa</nobr>\n</td>\n<td>3,342</td>\n<td>3,520</td>\n<td>-5%</td>\n<td></td>\n<td>15</td>\n<td>12</td>\n<td>\n                                    +25%                                    </td>\n<td></td>\n<td style=\"display: none;\">-178</td>\n<td style=\"display: block;\"></td>\n<td style=\"display: none;\">+3</td>\n<td style=\"display: block;\"></td>\n<td></td>\n<td data-continent=\"Africa\" style=\"display:none;\">Africa</td>\n</tr>\n<tr class=\"total_row_world row_continent\" data-continent=\"South America\" style=\"display: none\">\n<td></td>\n<td style=\"text-align:left;\">\n<nobr>South America</nobr>\n</td>\n<td>52,122</td>\n<td>72,603</td>\n<td>-28%</td>\n<td></td>\n<td>1,078</td>\n<td>577</td>\n<td>\n                                    +87%                                    </td>\n<td></td>\n<td style=\"display: none;\">-20,481</td>\n<td style=\"display: block;\"></td>\n<td style=\"display: none;\">+501</td>\n<td style=\"display: block;\"></td>\n<td></td>\n<td data-continent=\"South America\" style=\"display:none;\">South America</td>\n</tr>\n</tbody>\n<tbody class=\"total_row_body body_world\">\n<tr class=\"total_row\">\n<td></td>\n<td style=\"text-align:left;\">World</td>\n<td>837,630</td>\n<td>1,080,171</td>\n<td>-22%</td>\n<td></td>\n<td>5,212</td>\n<td>7,721</td>\n<td>-32%</td>\n<td></td>\n<td style=\"display: none;\">-242,541</td>\n<td style=\"display: block;\"></td>\n<td style=\"display: none;\">-2,509</td>\n<td style=\"display: block;\"></td>\n<td></td>\n<td data-continent=\"all\" style=\"display:none\">All</td>\n</tr>\n</tbody>\n</table>\n</div>\n</div>\n</div>\n<div style=\"clear:both; font-size:13px; margin-top:25px; padding-bottom:45px; line-height: 13px!important;\">\n<!-- ITALY-->\n</div>\n<p align=\"center\">[<a href=\"#page-top\">back to top ↑</a>]</p>\n</div>\n</div>\n<div class=\"row\">\n<div class=\"col-md-8\">\n<div id=\"innercontent\">\n<div style=\"margin-top:40px; margin-bottom:40px; text-align:center\">\n<!-- Tag ID: worldometers_300x250_Mobile_2 -->\n<div align=\"center\" id=\"worldometers_300x250_Mobile_2\">\n<script data-cfasync=\"false\" type=\"text/javascript\">\n                        freestar.config.enabled_slots.push({\n                            placementName: \"worldometers_300x250_Mobile_2\",\n                            slotId: \"worldometers_300x250_Mobile_2\"\n                        });\n                    </script>\n</div>\n</div> </div>\n<!-- *** CONTENT A *** -->\n<!-- RIGHT -->\n</div><div class=\"col-md-4 adright\">\n<div style=\"margin-top:40px; margin-bottom:40px;\">\n<!-- Tag ID: worldometers_300x250_300x600_right_4 -->\n<div align=\"center\" id=\"worldometers_300x250_300x600_right_4\">\n<script data-cfasync=\"false\" type=\"text/javascript\">\n    freestar.config.enabled_slots.push({ placementName: \"worldometers_300x250_300x600_right_4\", slotId: \"worldometers_300x250_300x600_right_4\" });\n</script>\n</div>\n</div>\n<div style=\"margin-top:40px; margin-bottom:40px;\">\n<!-- Tag ID: worldometers_300x250_300x600_right_5 -->\n<div align=\"center\" id=\"worldometers_300x250_300x600_right_5\">\n<script data-cfasync=\"false\" type=\"text/javascript\">\n    freestar.config.enabled_slots.push({ placementName: \"worldometers_300x250_300x600_right_5\", slotId: \"worldometers_300x250_300x600_right_5\" });\n</script>\n</div>\n</div>\n<div style=\"margin-top:40px; margin-bottom:40px;\">\n<!-- Tag ID: worldometers_300x250_300x600_right_6 -->\n<div align=\"center\" id=\"worldometers_300x250_300x600_right_6\">\n<script data-cfasync=\"false\" type=\"text/javascript\">\n    freestar.config.enabled_slots.push({ placementName: \"worldometers_300x250_300x600_right_6\", slotId: \"worldometers_300x250_300x600_right_6\" });\n</script>\n</div>\n</div>\n<div style=\"margin-top:40px; margin-bottom:40px\">\n<!-- Tag ID: worldometers_300x250_300x600_right_7 -->\n<div align=\"center\" id=\"worldometers_300x250_300x600_right_7\">\n<script data-cfasync=\"false\" type=\"text/javascript\">\n    freestar.config.enabled_slots.push({ placementName: \"worldometers_300x250_300x600_right_7\", slotId: \"worldometers_300x250_300x600_right_7\" });\n</script>\n</div>\n</div>\n<div style=\"margin-top:40px; margin-bottom:40px\">\n<!-- Tag ID: worldometers_300x250_300x600_right_8 -->\n<div align=\"center\" id=\"worldometers_300x250_300x600_right_8\">\n<script data-cfasync=\"false\" type=\"text/javascript\">\n    freestar.config.enabled_slots.push({ placementName: \"worldometers_300x250_300x600_right_8\", slotId: \"worldometers_300x250_300x600_right_8\" });\n</script>\n</div>\n</div>\n</div></div>\n<!-- RIGHT -->\n<div style=\"padding-top:30px; margin-top:50px; border-top:1px solid #ccc\">\n<!-- Tag ID: worldometers_300x250_336x280_Bottom_1 -->\n<div align=\"center\" id=\"worldometers_300x250_336x280_Bottom_1\">\n<script data-cfasync=\"false\" type=\"text/javascript\">\n    freestar.config.enabled_slots.push({ placementName: \"worldometers_300x250_336x280_Bottom_1\", slotId: \"worldometers_300x250_336x280_Bottom_1\" });\n</script>\n</div>\n<div style=\"margin-top:40px\"></div>\n<!-- Tag ID: worldometers_728x90_970x90_300x250_Bottom_2 -->\n<div align=\"center\" id=\"worldometers_728x90_970x90_300x250_Bottom_2\">\n<script data-cfasync=\"false\" type=\"text/javascript\">\n    freestar.config.enabled_slots.push({ placementName: \"worldometers_728x90_970x90_300x250_Bottom_2\", slotId: \"worldometers_728x90_970x90_300x250_Bottom_2\" });\n</script>\n</div>\n</div>\n</div>\n<!--=== Closed TOP Content Container ===-->\n<footer>\n<div class=\"footerlinks\">\n<div style=\"margin-bottom:20px\"><a href=\"/\"><img border=\"0\" class=\"img-footer\" src=\"/img/worldometers-logo-footer.png\"/></a></div>\n<a href=\"/about/\">about</a> | <a href=\"/faq/\">faq</a> | <a href=\"/languages/\">languages</a> | <a href=\"/contact/\">contact</a>\n</div>\n<ul class=\"list-inline text-center socialbuttons\">\n<li><a data-placement=\"bottom\" data-toggle=\"tooltip\" href=\"/newsletter-subscribe/\" title=\"Newsletter\"><i class=\"fa fa-bullhorn fa-round\"></i></a></li>\n<li><a href=\"https://twitter.com/Worldometers\"><i class=\"fa fa-twitter fa-round\"></i></a></li>\n<li><a href=\"https://www.facebook.com/Worldometers.info\"><i class=\"fa fa-facebook fa-round\"></i></a></li>\n</ul>\n<div class=\"copy\">© Copyright Worldometers.info  - All rights reserved - <a href=\"/disclaimer/\">Disclaimer &amp; Privacy Policy</a></div>\n</footer>\n<!-- ADDTHIS-->\n<script async=\"async\" src=\"//s7.addthis.com/js/300/addthis_widget.js#pubid=ra-54615fa823b2af68\" type=\"text/javascript\"></script>\n<!-- PAGEFAIR -->\n<script type=\"text/javascript\">\n    (function() {\n        function async_load(script_url){\n            var protocol = ('https:' == document.location.protocol ? 'https://' : 'http://');\n            var s = document.createElement('script'); s.src = protocol + script_url;\n            var x = document.getElementsByTagName('script')[0]; x.parentNode.insertBefore(s, x);\n        }\n        bm_website_code = '7849CD9451D34931';\n        jQuery(document).ready(function(){async_load('asset.pagefair.com/measure.min.js')});\n        jQuery(document).ready(function(){async_load('asset.pagefair.net/ads.min.js')});\n    })();\n</script>\n<!-- PAGEFAIR -->\n<!-- Quantcast Tag -->\n<script type=\"text/javascript\">\nvar _qevents = _qevents || [];\n\n(function() {\nvar elem = document.createElement('script');\nelem.src = (document.location.protocol == \"https:\" ? \"https://secure\" : \"http://edge\") + \".quantserve.com/quant.js\";\nelem.async = true;\nelem.type = \"text/javascript\";\nvar scpt = document.getElementsByTagName('script')[0];\nscpt.parentNode.insertBefore(elem, scpt);\n})();\n\n_qevents.push({\nqacct:\"p-Pd9JxUkvV0m7q\"\n});\n</script>\n<noscript>\n<div style=\"display:none;\">\n<img alt=\"Quantcast\" border=\"0\" height=\"1\" src=\"//pixel.quantserve.com/pixel/p-Pd9JxUkvV0m7q.gif\" width=\"1\"/>\n</div>\n</noscript>\n<!-- End Quantcast tag -->\n<script type=\"text/javascript\">\nfreestar.queue.push(function() {\n  freestar.newAdSlots(freestar.config.enabled_slots);\n});\n</script>\n</div><div id=\"_atssh\" style=\"visibility: hidden; height: 1px; width: 1px; position: absolute; top: -9999px; z-index: 100000;\"><iframe id=\"_atssh517\" src=\"https://s7.addthis.com/static/sh.f48a1a04fe8dbf021b4cda1d.html#rand=0.02875841644761712&amp;iit=1677497856490&amp;tmr=load%3D1677497844113%26core%3D1677497844151%26main%3D1677497856487%26ifr%3D1677497856493&amp;cb=0&amp;cdn=0&amp;md=0&amp;kw=&amp;ab=-&amp;dh=www.worldometers.info&amp;dr=&amp;du=https%3A%2F%2Fwww.worldometers.info%2Fcoronavirus%2Fweekly-trends%2F&amp;href=https%3A%2F%2Fwww.worldometers.info%2Fcoronavirus%2Fweekly-trends%2F&amp;dt=COVID-19%20Weekly%20Trends%20by%20Country%20-%20Worldometer&amp;dbg=0&amp;cap=tc%3D0%26ab%3D0&amp;inst=1&amp;jsl=4097&amp;prod=undefined&amp;lng=en&amp;ogt=image&amp;pc=men&amp;pub=ra-54615fa823b2af68&amp;ssl=1&amp;sid=63fc95f470861907&amp;srf=0.01&amp;ver=300&amp;xck=0&amp;xtr=0&amp;og=image%3Dhttp%253A%252F%252Fwww.worldometers.info%252Fimg%252Fworldometers-fb.jpg&amp;csi=undefined&amp;rev=v8.28.8-wp&amp;ct=1&amp;xld=1&amp;xd=1\" style=\"height: 1px; width: 1px; position: absolute; top: 0px; z-index: 100000; border: 0px; left: 0px;\" title=\"AddThis utility frame\"></iframe></div><style id=\"service-icons-0\"></style><ins class=\"adsbygoogle adsbygoogle-noablate\" data-ad-status=\"unfilled\" data-adsbygoogle-status=\"done\" style=\"display: none !important;\"><div aria-label=\"Advertisement\" id=\"aswift_1_host\" style=\"border: none; height: 0px; width: 0px; margin: 0px; padding: 0px; position: relative; visibility: visible; background-color: transparent; display: inline-block;\" tabindex=\"0\" title=\"Advertisement\"><iframe allowtransparency=\"true\" data-google-container-id=\"a!2\" data-load-complete=\"true\" frameborder=\"0\" hspace=\"0\" id=\"aswift_1\" marginheight=\"0\" marginwidth=\"0\" name=\"aswift_1\" sandbox=\"allow-forms allow-popups allow-popups-to-escape-sandbox allow-same-origin allow-scripts allow-top-navigation-by-user-activation\" scrolling=\"no\" src=\"https://googleads.g.doubleclick.net/pagead/ads?client=ca-pub-3701697624350410&amp;output=html&amp;adk=1812271804&amp;adf=3025194257&amp;lmt=1677497844&amp;plat=3%3A65536%2C4%3A65536%2C9%3A32776%2C16%3A8388608%2C17%3A32%2C24%3A32%2C25%3A32%2C30%3A1048576%2C32%3A32%2C41%3A32%2C42%3A32&amp;format=0x0&amp;url=https%3A%2F%2Fwww.worldometers.info%2Fcoronavirus%2Fweekly-trends%2F&amp;ea=0&amp;pra=7&amp;wgl=1&amp;uach=WyJXaW5kb3dzIiwiMTUuMC4wIiwieDg2IiwiIiwiMTEwLjAuNTQ4MS4xMDQiLFtdLGZhbHNlLG51bGwsIjY0IixbWyJDaHJvbWl1bSIsIjExMC4wLjU0ODEuMTA0Il0sWyJOb3QgQShCcmFuZCIsIjI0LjAuMC4wIl0sWyJHb29nbGUgQ2hyb21lIiwiMTEwLjAuNTQ4MS4xMDQiXV0sZmFsc2Vd&amp;dt=1677497844314&amp;bpp=2&amp;bdt=1209&amp;idt=210&amp;shv=r20230222&amp;mjsv=m202302130101&amp;ptt=9&amp;saldr=aa&amp;abxe=1&amp;prev_fmts=617x280&amp;nras=1&amp;correlator=1597269380089&amp;frm=20&amp;pv=1&amp;ga_vid=777601763.1677497844&amp;ga_sid=1677497845&amp;ga_hid=1479827152&amp;ga_fc=1&amp;u_tz=60&amp;u_his=2&amp;u_h=1003&amp;u_w=1504&amp;u_ah=955&amp;u_aw=1504&amp;u_cd=24&amp;u_sd=1.5&amp;dmc=8&amp;adx=-12245933&amp;ady=-12245933&amp;biw=1019&amp;bih=787&amp;scr_x=0&amp;scr_y=0&amp;eid=44759837%2C44777876%2C44759926%2C44759875%2C31072435%2C44774292&amp;oid=2&amp;pvsid=2260895162917914&amp;tmod=2045355057&amp;uas=0&amp;nvt=1&amp;fc=896&amp;brdim=10%2C10%2C10%2C10%2C1504%2C0%2C1050%2C936%2C1036%2C803&amp;vis=1&amp;rsz=%7C%7Cs%7C&amp;abl=NS&amp;fu=33792&amp;bc=31&amp;ifi=2&amp;uci=a!2&amp;fsb=1&amp;dtd=219\" style=\"left:0;position:absolute;top:0;border:0;width:undefinedpx;height:undefinedpx;\" vspace=\"0\"></iframe></div></ins><ins class=\"adsbygoogle adsbygoogle-noablate\" data-ad-status=\"filled\" data-adsbygoogle-status=\"done\" data-anchor-shown=\"true\" data-anchor-status=\"displayed\" style=\"display: block; width: 1036px !important; height: 129px !important; bottom: 0px; clear: none !important; float: none !important; left: 0px; margin: 0px !important; max-height: none !important; max-width: none !important; opacity: 1; overflow: visible !important; padding: 0px !important; position: fixed; right: auto !important; top: auto !important; vertical-align: baseline !important; visibility: visible !important; z-index: 2147483647; background: rgb(250, 250, 250) !important;\"><div class=\"grippy-host\"></div><div aria-label=\"Advertisement\" id=\"aswift_3_host\" style=\"border: none !important; height: 124px !important; width: 100% !important; margin: 0px !important; padding: 0px !important; position: relative !important; visibility: visible !important; background-color: transparent !important; display: inline-block !important; inset: auto !important; clear: none !important; float: none !important; max-height: none !important; max-width: none !important; opacity: 1 !important; overflow: visible !important; vertical-align: baseline !important; z-index: auto !important;\" tabindex=\"0\" title=\"Advertisement\"><iframe allowtransparency=\"true\" data-google-container-id=\"a!4\" data-google-query-id=\"CJn507jOtf0CFdfG7QodC_cL-w\" data-load-complete=\"true\" frameborder=\"0\" height=\"124\" hspace=\"0\" id=\"aswift_3\" marginheight=\"0\" marginwidth=\"0\" name=\"aswift_3\" sandbox=\"allow-forms allow-popups allow-popups-to-escape-sandbox allow-same-origin allow-scripts allow-top-navigation-by-user-activation\" scrolling=\"no\" src=\"https://googleads.g.doubleclick.net/pagead/html/r20230222/r20110914/zrt_lookup.html?fsb=1#RS-1-&amp;adk=1812271801&amp;client=ca-pub-3701697624350410&amp;fa=1&amp;ifi=4&amp;uci=a!4&amp;btvi=2&amp;xpc=SuqxSZYg6x&amp;p=https%3A//www.worldometers.info\" style=\"width: 1005px !important; height: 124px !important; display: block; margin: 0px auto;\" vspace=\"0\" width=\"1005\"></iframe></div></ins><iframe height=\"0\" src=\"https://www.google.com/recaptcha/api2/aframe\" style=\"display: none;\" width=\"0\"></iframe></body><iframe id=\"google_esf\" name=\"google_esf\" src=\"https://googleads.g.doubleclick.net/pagead/html/r20230222/r20190131/zrt_lookup.html\" style=\"display: none;\"></iframe><ins aria-hidden=\"true\" class=\"adsbygoogle adsbygoogle-noablate\" data-ad-status=\"filled\" data-adsbygoogle-status=\"done\" data-vignette-loaded=\"true\" style=\"display: none !important; width: 100vw !important; height: 100vh !important; inset: 0px auto auto 0px !important; clear: none !important; float: none !important; margin: 0px !important; max-height: none !important; max-width: none !important; opacity: 1 !important; overflow: visible !important; padding: 0px !important; position: fixed !important; vertical-align: baseline !important; visibility: visible !important; z-index: 2147483647 !important; background: transparent !important;\"><div aria-label=\"Advertisement\" id=\"aswift_2_host\" style=\"border: none !important; height: 100vh !important; width: 100vw !important; margin: 0px !important; padding: 0px !important; position: relative !important; visibility: visible !important; background-color: transparent !important; display: inline-block !important; inset: auto !important; clear: none !important; float: none !important; max-height: none !important; max-width: none !important; opacity: 1 !important; overflow: visible !important; vertical-align: baseline !important; z-index: auto !important;\" tabindex=\"0\" title=\"Advertisement\"><iframe allowtransparency=\"true\" data-google-container-id=\"a!3\" data-google-query-id=\"CJj507jOtf0CFdfG7QodC_cL-w\" data-load-complete=\"true\" frameborder=\"0\" height=\"\" hspace=\"0\" id=\"aswift_2\" marginheight=\"0\" marginwidth=\"0\" name=\"aswift_2\" sandbox=\"allow-forms allow-popups allow-popups-to-escape-sandbox allow-same-origin allow-scripts allow-top-navigation-by-user-activation\" scrolling=\"no\" src=\"https://googleads.g.doubleclick.net/pagead/html/r20230222/r20110914/zrt_lookup.html?fsb=1#RS-0-&amp;adk=1812271808&amp;client=ca-pub-3701697624350410&amp;fa=8&amp;ifi=3&amp;uci=a!3&amp;xpc=lhGd4wWcyP&amp;p=https%3A//www.worldometers.info\" style=\"width: 100vw !important; height: 100vh !important; inset: 0px auto auto 0px !important; position: absolute !important; clear: none !important; display: inline !important; float: none !important; margin: 0px !important; max-height: none !important; max-width: none !important; opacity: 1 !important; overflow: visible !important; padding: 0px !important; vertical-align: baseline !important; visibility: visible !important; z-index: auto !important;\" vspace=\"0\" width=\"\"></iframe></div></ins></html>>"
     },
     "execution_count": 157,
     "metadata": {},
     "output_type": "execute_result"
    }
   ],
   "source": [
    "soup.prettify"
   ]
  },
  {
   "cell_type": "code",
   "execution_count": 158,
   "metadata": {},
   "outputs": [
    {
     "data": {
      "text/plain": "<table class=\"table table-bordered table-hover main_table_countries dataTable no-footer\" id=\"main_table_countries_today\" style=\"width: 100%; margin-top: 0px !important;\">\n<thead>\n<tr role=\"row\"><th aria-label=\"#\" class=\"sorting_disabled\" colspan=\"1\" rowspan=\"1\" style=\"width: 14.3333px;\" width=\"1%\">#</th><th aria-controls=\"main_table_countries_today\" aria-label=\"Country,Other: activate to sort column ascending\" class=\"sorting\" colspan=\"1\" rowspan=\"1\" style=\"width: 100.333px;\" tabindex=\"0\" width=\"100\">Country,<br/>Other</th><th aria-controls=\"main_table_countries_today\" aria-label=\"Cases in the last 7 days: activate to sort column ascending\" aria-sort=\"descending\" class=\"sorting_desc\" colspan=\"1\" rowspan=\"1\" style=\"width: 40.3333px;\" tabindex=\"0\" width=\"30\">Cases in the last 7 days</th><th aria-controls=\"main_table_countries_today\" aria-label=\"Cases in the preceding  7 days: activate to sort column descending\" class=\"sorting\" colspan=\"1\" rowspan=\"1\" style=\"width: 70.3333px;\" tabindex=\"0\" width=\"30\">Cases in the preceding  7 days</th><th aria-controls=\"main_table_countries_today\" aria-label=\"Weekly Case % Change: activate to sort column descending\" class=\"sorting\" colspan=\"1\" rowspan=\"1\" style=\"width: 87.3333px;\" tabindex=\"0\" width=\"30\"><nobr>Weekly Case</nobr> <nobr>% Change</nobr></th><th aria-controls=\"main_table_countries_today\" aria-label=\"Cases in the last 7 days/1M pop: activate to sort column descending\" class=\"sorting\" colspan=\"1\" rowspan=\"1\" style=\"width: 71.3333px;\" tabindex=\"0\" width=\"30\">Cases in the last <nobr>7 days</nobr>/1M pop</th><th aria-controls=\"main_table_countries_today\" aria-label=\"Deaths in the last 7 days: activate to sort column descending\" class=\"sorting\" colspan=\"1\" rowspan=\"1\" style=\"width: 49.3333px;\" tabindex=\"0\" width=\"30\">Deaths in the last <nobr>7 days</nobr></th><th aria-controls=\"main_table_countries_today\" aria-label=\"Deaths in the preceding 7 days: activate to sort column descending\" class=\"sorting\" colspan=\"1\" rowspan=\"1\" style=\"width: 70.3333px;\" tabindex=\"0\" width=\"30\">Deaths in the preceding <nobr>7 days</nobr></th><th aria-controls=\"main_table_countries_today\" aria-label=\"Weekly Death % Change: activate to sort column descending\" class=\"sorting\" colspan=\"1\" rowspan=\"1\" style=\"width: 97.3333px;\" tabindex=\"0\" width=\"30\"><nobr>Weekly Death</nobr> <nobr>% Change</nobr></th><th aria-controls=\"main_table_countries_today\" aria-label=\"Deaths in the last 7 days/1M pop: activate to sort column descending\" class=\"sorting\" colspan=\"1\" rowspan=\"1\" style=\"width: 59.3333px;\" tabindex=\"0\" width=\"30\">Deaths in the last 7 days/1M pop</th><th aria-controls=\"main_table_countries_today\" aria-label=\"Weekly Case Change/1M pop: activate to sort column descending\" class=\"sorting\" colspan=\"1\" rowspan=\"1\" style=\"width: 80.3333px;\" tabindex=\"0\" width=\"30\">Weekly Case Change/1M pop</th><th aria-controls=\"main_table_countries_today\" aria-label=\"Weekly Deaths Change/1M pop: activate to sort column descending\" class=\"sorting\" colspan=\"1\" rowspan=\"1\" style=\"width: 80.3333px;\" tabindex=\"0\" width=\"30\">Weekly Deaths Change/1M pop</th><th aria-controls=\"main_table_countries_today\" aria-label=\"Population: activate to sort column descending\" class=\"sorting\" colspan=\"1\" rowspan=\"1\" style=\"width: 80.3333px;\" tabindex=\"0\" width=\"30\">Population</th><th aria-controls=\"main_table_countries_today\" aria-label=\"Continent: activate to sort column descending\" class=\"sorting\" colspan=\"1\" rowspan=\"1\" style=\"display: none; width: 0px;\" tabindex=\"0\" width=\"30\">Continent</th></tr>\n</thead>\n<tbody>\n<tr class=\"total_row_world odd\" role=\"row\">\n<td></td>\n<td style=\"text-align:left;\">World</td>\n<td class=\"sorting_1\">837,630</td>\n<td>1,080,171</td>\n<td>-22%</td>\n<td></td>\n<td>5,212</td>\n<td>7,721</td>\n<td>-32%</td>\n<td></td>\n<td></td><td></td><td></td>\n<td data-continent=\"all\" style=\"display:none\">All</td>\n</tr><tr class=\"total_row_world row_continent even\" data-continent=\"Europe\" role=\"row\" style=\"display: none\">\n<td></td>\n<td style=\"text-align:left;\">\n<nobr>Europe</nobr>\n</td>\n<td class=\"sorting_1\">341,866</td>\n<td>358,856</td>\n<td>-5%</td>\n<td></td>\n<td>1,540</td>\n<td>2,466</td>\n<td>\n                                -38%                                </td>\n<td></td>\n<td></td><td></td><td></td>\n<td data-continent=\"Europe\" style=\"display:none;\">Europe</td>\n</tr><tr class=\"total_row_world row_continent odd\" data-continent=\"Asia\" role=\"row\" style=\"display: none\">\n<td></td>\n<td style=\"text-align:left;\">\n<nobr>Asia</nobr>\n</td>\n<td class=\"sorting_1\">284,108</td>\n<td>359,384</td>\n<td>-21%</td>\n<td></td>\n<td>1,257</td>\n<td>1,757</td>\n<td>\n                                -28%                                </td>\n<td></td>\n<td></td><td></td><td></td>\n<td data-continent=\"Asia\" style=\"display:none;\">Asia</td>\n</tr><tr class=\"total_row_world row_continent even\" data-continent=\"North America\" role=\"row\" style=\"display: none\">\n<td></td>\n<td style=\"text-align:left;\">\n<nobr>North America</nobr>\n</td>\n<td class=\"sorting_1\">132,257</td>\n<td>260,173</td>\n<td>-49%</td>\n<td></td>\n<td>1,202</td>\n<td>2,716</td>\n<td>\n                                -56%                                </td>\n<td></td>\n<td></td><td></td><td></td>\n<td data-continent=\"North America\" style=\"display:none;\">North America</td>\n</tr><tr class=\"odd\" role=\"row\" style=\"\">\n<td style=\"font-size:12px;color: grey;text-align:center;vertical-align:middle;\">1</td>\n<td style=\"font-weight: bold; font-size:15px; text-align:left;\"><a class=\"mt_a\" href=\"/coronavirus/country/us/\">USA</a></td>\n<td class=\"sorting_1\" style=\"font-weight: bold; text-align:right\">109,892</td>\n<td style=\"font-weight: bold; text-align:right\">212,456</td>\n<td style=\"font-weight: bold; text-align:right\">-48%</td>\n<td style=\"font-weight: bold; text-align:right\">328</td>\n<td style=\"font-weight: bold; text-align:right\">1,036</td>\n<td style=\"font-weight: bold; text-align:right\">2,207</td>\n<td style=\"font-weight: bold; text-align:right\">-53%</td>\n<td style=\"font-weight: bold; text-align:right\">3</td>\n<td style=\"font-weight: bold; text-align:right\">-306</td><td style=\"font-weight: bold; text-align:right\">-3</td><td style=\"font-weight: bold; text-align:right\">334,805,269</td>\n<td data-continent=\"North America\" style=\"display:none\">North America</td>\n</tr><tr class=\"even\" role=\"row\" style=\"\">\n<td style=\"font-size:12px;color: grey;text-align:center;vertical-align:middle;\">2</td>\n<td style=\"font-weight: bold; font-size:15px; text-align:left;\"><a class=\"mt_a\" href=\"/coronavirus/country/germany/\">Germany</a></td>\n<td class=\"sorting_1\" style=\"font-weight: bold; text-align:right\">108,452</td>\n<td style=\"font-weight: bold; text-align:right\">95,299</td>\n<td style=\"font-weight: bold; text-align:right\">+14%</td>\n<td style=\"font-weight: bold; text-align:right\">1,293</td>\n<td style=\"font-weight: bold; text-align:right\">523</td>\n<td style=\"font-weight: bold; text-align:right\">526</td>\n<td style=\"font-weight: bold; text-align:right\">-1%</td>\n<td style=\"font-weight: bold; text-align:right\">6</td>\n<td style=\"font-weight: bold; text-align:right\">+157</td><td style=\"font-weight: bold; text-align:right\">0.0</td><td style=\"font-weight: bold; text-align:right\">83,883,596</td>\n<td data-continent=\"Europe\" style=\"display:none\">Europe</td>\n</tr><tr class=\"odd\" role=\"row\" style=\"\">\n<td style=\"font-size:12px;color: grey;text-align:center;vertical-align:middle;\">3</td>\n<td style=\"font-weight: bold; font-size:15px; text-align:left;\"><a class=\"mt_a\" href=\"/coronavirus/country/taiwan/\">Taiwan</a></td>\n<td class=\"sorting_1\" style=\"font-weight: bold; text-align:right\">100,207</td>\n<td style=\"font-weight: bold; text-align:right\">116,058</td>\n<td style=\"font-weight: bold; text-align:right\">-14%</td>\n<td style=\"font-weight: bold; text-align:right\">4,195</td>\n<td style=\"font-weight: bold; text-align:right\">344</td>\n<td style=\"font-weight: bold; text-align:right\">417</td>\n<td style=\"font-weight: bold; text-align:right\">-18%</td>\n<td style=\"font-weight: bold; text-align:right\">14</td>\n<td style=\"font-weight: bold; text-align:right\">-664</td><td style=\"font-weight: bold; text-align:right\">-3</td><td style=\"font-weight: bold; text-align:right\">23,888,595</td>\n<td data-continent=\"Asia\" style=\"display:none\">Asia</td>\n</tr><tr class=\"even\" role=\"row\" style=\"\">\n<td style=\"font-size:12px;color: grey;text-align:center;vertical-align:middle;\">4</td>\n<td style=\"font-weight: bold; font-size:15px; text-align:left;\"><a class=\"mt_a\" href=\"/coronavirus/country/japan/\">Japan</a></td>\n<td class=\"sorting_1\" style=\"font-weight: bold; text-align:right\">94,034</td>\n<td style=\"font-weight: bold; text-align:right\">141,581</td>\n<td style=\"font-weight: bold; text-align:right\">-34%</td>\n<td style=\"font-weight: bold; text-align:right\">749</td>\n<td style=\"font-weight: bold; text-align:right\">582</td>\n<td style=\"font-weight: bold; text-align:right\">991</td>\n<td style=\"font-weight: bold; text-align:right\">-41%</td>\n<td style=\"font-weight: bold; text-align:right\">5</td>\n<td style=\"font-weight: bold; text-align:right\">-379</td><td style=\"font-weight: bold; text-align:right\">-3</td><td style=\"font-weight: bold; text-align:right\">125,584,838</td>\n<td data-continent=\"Asia\" style=\"display:none\">Asia</td>\n</tr><tr class=\"odd\" role=\"row\" style=\"\">\n<td style=\"font-size:12px;color: grey;text-align:center;vertical-align:middle;\">5</td>\n<td style=\"font-weight: bold; font-size:15px; text-align:left;\"><a class=\"mt_a\" href=\"/coronavirus/country/russia/\">Russia</a></td>\n<td class=\"sorting_1\" style=\"font-weight: bold; text-align:right\">86,502</td>\n<td style=\"font-weight: bold; text-align:right\">93,918</td>\n<td style=\"font-weight: bold; text-align:right\">-8%</td>\n<td style=\"font-weight: bold; text-align:right\">593</td>\n<td style=\"font-weight: bold; text-align:right\">236</td>\n<td style=\"font-weight: bold; text-align:right\">248</td>\n<td style=\"font-weight: bold; text-align:right\">-5%</td>\n<td style=\"font-weight: bold; text-align:right\">2</td>\n<td style=\"font-weight: bold; text-align:right\">-51</td><td style=\"font-weight: bold; text-align:right\">-0.1</td><td style=\"font-weight: bold; text-align:right\">145,805,947</td>\n<td data-continent=\"Europe\" style=\"display:none\">Europe</td>\n</tr><tr class=\"even\" role=\"row\" style=\"\">\n<td style=\"font-size:12px;color: grey;text-align:center;vertical-align:middle;\">6</td>\n<td style=\"font-weight: bold; font-size:15px; text-align:left;\"><a class=\"mt_a\" href=\"/coronavirus/country/south-korea/\">S. Korea</a></td>\n<td class=\"sorting_1\" style=\"font-weight: bold; text-align:right\">69,307</td>\n<td style=\"font-weight: bold; text-align:right\">79,372</td>\n<td style=\"font-weight: bold; text-align:right\">-13%</td>\n<td style=\"font-weight: bold; text-align:right\">1,350</td>\n<td style=\"font-weight: bold; text-align:right\">90</td>\n<td style=\"font-weight: bold; text-align:right\">120</td>\n<td style=\"font-weight: bold; text-align:right\">-25%</td>\n<td style=\"font-weight: bold; text-align:right\">2</td>\n<td style=\"font-weight: bold; text-align:right\">-196</td><td style=\"font-weight: bold; text-align:right\">-0.6</td><td style=\"font-weight: bold; text-align:right\">51,329,899</td>\n<td data-continent=\"Asia\" style=\"display:none\">Asia</td>\n</tr><tr class=\"total_row_world row_continent odd\" data-continent=\"South America\" role=\"row\" style=\"display: none\">\n<td></td>\n<td style=\"text-align:left;\">\n<nobr>South America</nobr>\n</td>\n<td class=\"sorting_1\">52,122</td>\n<td>72,603</td>\n<td>-28%</td>\n<td></td>\n<td>1,078</td>\n<td>577</td>\n<td>\n                                +87%                                </td>\n<td></td>\n<td></td><td></td><td></td>\n<td data-continent=\"South America\" style=\"display:none;\">South America</td>\n</tr><tr class=\"even\" role=\"row\" style=\"\">\n<td style=\"font-size:12px;color: grey;text-align:center;vertical-align:middle;\">7</td>\n<td style=\"font-weight: bold; font-size:15px; text-align:left;\"><a class=\"mt_a\" href=\"/coronavirus/country/austria/\">Austria</a></td>\n<td class=\"sorting_1\" style=\"font-weight: bold; text-align:right\">38,391</td>\n<td style=\"font-weight: bold; text-align:right\">33,884</td>\n<td style=\"font-weight: bold; text-align:right\">+13%</td>\n<td style=\"font-weight: bold; text-align:right\">4,234</td>\n<td style=\"font-weight: bold; text-align:right\">30</td>\n<td style=\"font-weight: bold; text-align:right\">31</td>\n<td style=\"font-weight: bold; text-align:right\">-3%</td>\n<td style=\"font-weight: bold; text-align:right\">3</td>\n<td style=\"font-weight: bold; text-align:right\">+497</td><td style=\"font-weight: bold; text-align:right\">-0.1</td><td style=\"font-weight: bold; text-align:right\">9,066,710</td>\n<td data-continent=\"Europe\" style=\"display:none\">Europe</td>\n</tr><tr class=\"odd\" role=\"row\" style=\"\">\n<td style=\"font-size:12px;color: grey;text-align:center;vertical-align:middle;\">8</td>\n<td style=\"font-weight: bold; font-size:15px; text-align:left;\"><a class=\"mt_a\" href=\"/coronavirus/country/brazil/\">Brazil</a></td>\n<td class=\"sorting_1\" style=\"font-weight: bold; text-align:right\">34,560</td>\n<td style=\"font-weight: bold; text-align:right\">57,027</td>\n<td style=\"font-weight: bold; text-align:right\">-39%</td>\n<td style=\"font-weight: bold; text-align:right\">160</td>\n<td style=\"font-weight: bold; text-align:right\">887</td>\n<td style=\"font-weight: bold; text-align:right\">373</td>\n<td style=\"font-weight: bold; text-align:right\">+138%</td>\n<td style=\"font-weight: bold; text-align:right\">4</td>\n<td style=\"font-weight: bold; text-align:right\">-104</td><td style=\"font-weight: bold; text-align:right\">+2</td><td style=\"font-weight: bold; text-align:right\">215,353,593</td>\n<td data-continent=\"South America\" style=\"display:none\">South America</td>\n</tr><tr class=\"even\" role=\"row\" style=\"\">\n<td style=\"font-size:12px;color: grey;text-align:center;vertical-align:middle;\">9</td>\n<td style=\"font-weight: bold; font-size:15px; text-align:left;\"><a class=\"mt_a\" href=\"/coronavirus/country/france/\">France</a></td>\n<td class=\"sorting_1\" style=\"font-weight: bold; text-align:right\">26,447</td>\n<td style=\"font-weight: bold; text-align:right\">24,509</td>\n<td style=\"font-weight: bold; text-align:right\">+8%</td>\n<td style=\"font-weight: bold; text-align:right\">403</td>\n<td style=\"font-weight: bold; text-align:right\">165</td>\n<td style=\"font-weight: bold; text-align:right\">175</td>\n<td style=\"font-weight: bold; text-align:right\">-6%</td>\n<td style=\"font-weight: bold; text-align:right\">3</td>\n<td style=\"font-weight: bold; text-align:right\">+30</td><td style=\"font-weight: bold; text-align:right\">-0.2</td><td style=\"font-weight: bold; text-align:right\">65,584,518</td>\n<td data-continent=\"Europe\" style=\"display:none\">Europe</td>\n</tr><tr class=\"total_row_world row_continent odd\" data-continent=\"Australia/Oceania\" role=\"row\" style=\"display: none\">\n<td></td>\n<td style=\"text-align:left;\">\n<nobr>Oceania</nobr>\n</td>\n<td class=\"sorting_1\">23,935</td>\n<td>25,635</td>\n<td>-7%</td>\n<td></td>\n<td>120</td>\n<td>193</td>\n<td>\n                                -38%                                </td>\n<td></td>\n<td></td><td></td><td></td>\n<td data-continent=\"Australia/Oceania\" style=\"display:none;\">Australia/Oceania</td>\n</tr><tr class=\"even\" role=\"row\" style=\"\">\n<td style=\"font-size:12px;color: grey;text-align:center;vertical-align:middle;\">10</td>\n<td style=\"font-weight: bold; font-size:15px; text-align:left;\"><a class=\"mt_a\" href=\"/coronavirus/country/italy/\">Italy</a></td>\n<td class=\"sorting_1\" style=\"font-weight: bold; text-align:right\">17,792</td>\n<td style=\"font-weight: bold; text-align:right\">29,388</td>\n<td style=\"font-weight: bold; text-align:right\">-39%</td>\n<td style=\"font-weight: bold; text-align:right\">295</td>\n<td style=\"font-weight: bold; text-align:right\">149</td>\n<td style=\"font-weight: bold; text-align:right\">315</td>\n<td style=\"font-weight: bold; text-align:right\">-53%</td>\n<td style=\"font-weight: bold; text-align:right\">2</td>\n<td style=\"font-weight: bold; text-align:right\">-192</td><td style=\"font-weight: bold; text-align:right\">-3</td><td style=\"font-weight: bold; text-align:right\">60,262,770</td>\n<td data-continent=\"Europe\" style=\"display:none\">Europe</td>\n</tr><tr class=\"odd\" role=\"row\" style=\"\">\n<td style=\"font-size:12px;color: grey;text-align:center;vertical-align:middle;\">11</td>\n<td style=\"font-weight: bold; font-size:15px; text-align:left;\"><a class=\"mt_a\" href=\"/coronavirus/country/poland/\">Poland</a></td>\n<td class=\"sorting_1\" style=\"font-weight: bold; text-align:right\">14,949</td>\n<td style=\"font-weight: bold; text-align:right\">10,590</td>\n<td style=\"font-weight: bold; text-align:right\">+41%</td>\n<td style=\"font-weight: bold; text-align:right\">396</td>\n<td style=\"font-weight: bold; text-align:right\">42</td>\n<td style=\"font-weight: bold; text-align:right\">47</td>\n<td style=\"font-weight: bold; text-align:right\">-11%</td>\n<td style=\"font-weight: bold; text-align:right\">1</td>\n<td style=\"font-weight: bold; text-align:right\">+116</td><td style=\"font-weight: bold; text-align:right\">-0.1</td><td style=\"font-weight: bold; text-align:right\">37,739,785</td>\n<td data-continent=\"Europe\" style=\"display:none\">Europe</td>\n</tr><tr class=\"even\" role=\"row\" style=\"\">\n<td style=\"font-size:12px;color: grey;text-align:center;vertical-align:middle;\">12</td>\n<td style=\"font-weight: bold; font-size:15px; text-align:left;\"><a class=\"mt_a\" href=\"/coronavirus/country/australia/\">Australia</a></td>\n<td class=\"sorting_1\" style=\"font-weight: bold; text-align:right\">14,804</td>\n<td style=\"font-weight: bold; text-align:right\">16,846</td>\n<td style=\"font-weight: bold; text-align:right\">-12%</td>\n<td style=\"font-weight: bold; text-align:right\">568</td>\n<td style=\"font-weight: bold; text-align:right\">82</td>\n<td style=\"font-weight: bold; text-align:right\">167</td>\n<td style=\"font-weight: bold; text-align:right\">-51%</td>\n<td style=\"font-weight: bold; text-align:right\">3</td>\n<td style=\"font-weight: bold; text-align:right\">-78</td><td style=\"font-weight: bold; text-align:right\">-3</td><td style=\"font-weight: bold; text-align:right\">26,068,792</td>\n<td data-continent=\"Australia/Oceania\" style=\"display:none\">Australia/Oceania</td>\n</tr><tr class=\"odd\" role=\"row\" style=\"\">\n<td style=\"font-size:12px;color: grey;text-align:center;vertical-align:middle;\">13</td>\n<td style=\"font-weight: bold; font-size:15px; text-align:left;\"><a class=\"mt_a\" href=\"/coronavirus/country/chile/\">Chile</a></td>\n<td class=\"sorting_1\" style=\"font-weight: bold; text-align:right\">14,015</td>\n<td style=\"font-weight: bold; text-align:right\">10,569</td>\n<td style=\"font-weight: bold; text-align:right\">+33%</td>\n<td style=\"font-weight: bold; text-align:right\">728</td>\n<td style=\"font-weight: bold; text-align:right\">81</td>\n<td style=\"font-weight: bold; text-align:right\">87</td>\n<td style=\"font-weight: bold; text-align:right\">-7%</td>\n<td style=\"font-weight: bold; text-align:right\">4</td>\n<td style=\"font-weight: bold; text-align:right\">+179</td><td style=\"font-weight: bold; text-align:right\">-0.3</td><td style=\"font-weight: bold; text-align:right\">19,250,195</td>\n<td data-continent=\"South America\" style=\"display:none\">South America</td>\n</tr><tr class=\"even\" role=\"row\" style=\"\">\n<td style=\"font-size:12px;color: grey;text-align:center;vertical-align:middle;\">14</td>\n<td style=\"font-weight: bold; font-size:15px; text-align:left;\"><a class=\"mt_a\" href=\"/coronavirus/country/mexico/\">Mexico</a></td>\n<td class=\"sorting_1\" style=\"font-weight: bold; text-align:right\">13,373</td>\n<td style=\"font-weight: bold; text-align:right\">28,930</td>\n<td style=\"font-weight: bold; text-align:right\">-54%</td>\n<td style=\"font-weight: bold; text-align:right\">102</td>\n<td style=\"font-weight: bold; text-align:right\">99</td>\n<td style=\"font-weight: bold; text-align:right\">259</td>\n<td style=\"font-weight: bold; text-align:right\">-62%</td>\n<td style=\"font-weight: bold; text-align:right\">0.8</td>\n<td style=\"font-weight: bold; text-align:right\">-118</td><td style=\"font-weight: bold; text-align:right\">-1</td><td style=\"font-weight: bold; text-align:right\">131,562,772</td>\n<td data-continent=\"North America\" style=\"display:none\">North America</td>\n</tr><tr class=\"odd\" role=\"row\" style=\"\">\n<td style=\"font-size:12px;color: grey;text-align:center;vertical-align:middle;\">15</td>\n<td style=\"font-weight: bold; font-size:15px; text-align:left;\"><a class=\"mt_a\" href=\"/coronavirus/country/new-zealand/\">New Zealand</a></td>\n<td class=\"sorting_1\" style=\"font-weight: bold; text-align:right\">8,951</td>\n<td style=\"font-weight: bold; text-align:right\">8,220</td>\n<td style=\"font-weight: bold; text-align:right\">+9%</td>\n<td style=\"font-weight: bold; text-align:right\">1,827</td>\n<td style=\"font-weight: bold; text-align:right\">38</td>\n<td style=\"font-weight: bold; text-align:right\">26</td>\n<td style=\"font-weight: bold; text-align:right\">+46%</td>\n<td style=\"font-weight: bold; text-align:right\">8</td>\n<td style=\"font-weight: bold; text-align:right\">+149</td><td style=\"font-weight: bold; text-align:right\">+2</td><td style=\"font-weight: bold; text-align:right\">4,898,203</td>\n<td data-continent=\"Australia/Oceania\" style=\"display:none\">Australia/Oceania</td>\n</tr><tr class=\"even\" role=\"row\" style=\"\">\n<td style=\"font-size:12px;color: grey;text-align:center;vertical-align:middle;\">16</td>\n<td style=\"font-weight: bold; font-size:15px; text-align:left;\"><a class=\"mt_a\" href=\"/coronavirus/country/greece/\">Greece</a></td>\n<td class=\"sorting_1\" style=\"font-weight: bold; text-align:right\">7,294</td>\n<td style=\"font-weight: bold; text-align:right\">7,991</td>\n<td style=\"font-weight: bold; text-align:right\">-9%</td>\n<td style=\"font-weight: bold; text-align:right\">707</td>\n<td style=\"font-weight: bold; text-align:right\">11</td>\n<td style=\"font-weight: bold; text-align:right\">78</td>\n<td style=\"font-weight: bold; text-align:right\">-86%</td>\n<td style=\"font-weight: bold; text-align:right\">1</td>\n<td style=\"font-weight: bold; text-align:right\">-68</td><td style=\"font-weight: bold; text-align:right\">-6</td><td style=\"font-weight: bold; text-align:right\">10,316,637</td>\n<td data-continent=\"Europe\" style=\"display:none\">Europe</td>\n</tr><tr class=\"odd\" role=\"row\" style=\"\">\n<td style=\"font-size:12px;color: grey;text-align:center;vertical-align:middle;\">17</td>\n<td style=\"font-weight: bold; font-size:15px; text-align:left;\"><a class=\"mt_a\" href=\"/coronavirus/country/czech-republic/\">Czechia</a></td>\n<td class=\"sorting_1\" style=\"font-weight: bold; text-align:right\">6,939</td>\n<td style=\"font-weight: bold; text-align:right\">5,716</td>\n<td style=\"font-weight: bold; text-align:right\">+21%</td>\n<td style=\"font-weight: bold; text-align:right\">646</td>\n<td style=\"font-weight: bold; text-align:right\">36</td>\n<td style=\"font-weight: bold; text-align:right\">34</td>\n<td style=\"font-weight: bold; text-align:right\">+6%</td>\n<td style=\"font-weight: bold; text-align:right\">3</td>\n<td style=\"font-weight: bold; text-align:right\">+114</td><td style=\"font-weight: bold; text-align:right\">+0.2</td><td style=\"font-weight: bold; text-align:right\">10,736,784</td>\n<td data-continent=\"Europe\" style=\"display:none\">Europe</td>\n</tr><tr class=\"even\" role=\"row\" style=\"\">\n<td style=\"font-size:12px;color: grey;text-align:center;vertical-align:middle;\">18</td>\n<td style=\"font-weight: bold; font-size:15px; text-align:left;\"><a class=\"mt_a\" href=\"/coronavirus/country/serbia/\">Serbia</a></td>\n<td class=\"sorting_1\" style=\"font-weight: bold; text-align:right\">5,955</td>\n<td style=\"font-weight: bold; text-align:right\">5,192</td>\n<td style=\"font-weight: bold; text-align:right\">+15%</td>\n<td style=\"font-weight: bold; text-align:right\">688</td>\n<td style=\"font-weight: bold; text-align:right\">45</td>\n<td style=\"font-weight: bold; text-align:right\">32</td>\n<td style=\"font-weight: bold; text-align:right\">+41%</td>\n<td style=\"font-weight: bold; text-align:right\">5</td>\n<td style=\"font-weight: bold; text-align:right\">+88</td><td style=\"font-weight: bold; text-align:right\">+2</td><td style=\"font-weight: bold; text-align:right\">8,653,016</td>\n<td data-continent=\"Europe\" style=\"display:none\">Europe</td>\n</tr><tr class=\"odd\" role=\"row\" style=\"\">\n<td style=\"font-size:12px;color: grey;text-align:center;vertical-align:middle;\">19</td>\n<td style=\"font-weight: bold; font-size:15px; text-align:left;\"><a class=\"mt_a\" href=\"/coronavirus/country/belgium/\">Belgium</a></td>\n<td class=\"sorting_1\" style=\"font-weight: bold; text-align:right\">5,361</td>\n<td style=\"font-weight: bold; text-align:right\">8,206</td>\n<td style=\"font-weight: bold; text-align:right\">-35%</td>\n<td style=\"font-weight: bold; text-align:right\">459</td>\n<td style=\"font-weight: bold; text-align:right\">31</td>\n<td style=\"font-weight: bold; text-align:right\">50</td>\n<td style=\"font-weight: bold; text-align:right\">-38%</td>\n<td style=\"font-weight: bold; text-align:right\">3</td>\n<td style=\"font-weight: bold; text-align:right\">-244</td><td style=\"font-weight: bold; text-align:right\">-2</td><td style=\"font-weight: bold; text-align:right\">11,668,278</td>\n<td data-continent=\"Europe\" style=\"display:none\">Europe</td>\n</tr><tr class=\"even\" role=\"row\" style=\"\">\n<td style=\"font-size:12px;color: grey;text-align:center;vertical-align:middle;\">20</td>\n<td style=\"font-weight: bold; font-size:15px; text-align:left;\"><a class=\"mt_a\" href=\"/coronavirus/country/spain/\">Spain</a></td>\n<td class=\"sorting_1\" style=\"font-weight: bold; text-align:right\">5,272</td>\n<td style=\"font-weight: bold; text-align:right\">7,136</td>\n<td style=\"font-weight: bold; text-align:right\">-26%</td>\n<td style=\"font-weight: bold; text-align:right\">113</td>\n<td style=\"font-weight: bold; text-align:right\">138</td>\n<td style=\"font-weight: bold; text-align:right\">206</td>\n<td style=\"font-weight: bold; text-align:right\">-33%</td>\n<td style=\"font-weight: bold; text-align:right\">3</td>\n<td style=\"font-weight: bold; text-align:right\">-40</td><td style=\"font-weight: bold; text-align:right\">-1</td><td style=\"font-weight: bold; text-align:right\">46,719,142</td>\n<td data-continent=\"Europe\" style=\"display:none\">Europe</td>\n</tr><tr class=\"odd\" role=\"row\" style=\"\">\n<td style=\"font-size:12px;color: grey;text-align:center;vertical-align:middle;\">21</td>\n<td style=\"font-weight: bold; font-size:15px; text-align:left;\"><a class=\"mt_a\" href=\"/coronavirus/country/costa-rica/\">Costa Rica</a></td>\n<td class=\"sorting_1\" style=\"font-weight: bold; text-align:right\">4,471</td>\n<td style=\"font-weight: bold; text-align:right\">4,207</td>\n<td style=\"font-weight: bold; text-align:right\">+6%</td>\n<td style=\"font-weight: bold; text-align:right\">863</td>\n<td style=\"font-weight: bold; text-align:right\">19</td>\n<td style=\"font-weight: bold; text-align:right\">14</td>\n<td style=\"font-weight: bold; text-align:right\">+36%</td>\n<td style=\"font-weight: bold; text-align:right\">4</td>\n<td style=\"font-weight: bold; text-align:right\">+51</td><td style=\"font-weight: bold; text-align:right\">+1.0</td><td style=\"font-weight: bold; text-align:right\">5,182,354</td>\n<td data-continent=\"North America\" style=\"display:none\">North America</td>\n</tr><tr class=\"even\" role=\"row\" style=\"\">\n<td style=\"font-size:12px;color: grey;text-align:center;vertical-align:middle;\">22</td>\n<td style=\"font-weight: bold; font-size:15px; text-align:left;\"><a class=\"mt_a\" href=\"/coronavirus/country/romania/\">Romania</a></td>\n<td class=\"sorting_1\" style=\"font-weight: bold; text-align:right\">4,126</td>\n<td style=\"font-weight: bold; text-align:right\">3,200</td>\n<td style=\"font-weight: bold; text-align:right\">+29%</td>\n<td style=\"font-weight: bold; text-align:right\">217</td>\n<td style=\"font-weight: bold; text-align:right\">25</td>\n<td style=\"font-weight: bold; text-align:right\">31</td>\n<td style=\"font-weight: bold; text-align:right\">-19%</td>\n<td style=\"font-weight: bold; text-align:right\">1</td>\n<td style=\"font-weight: bold; text-align:right\">+49</td><td style=\"font-weight: bold; text-align:right\">-0.3</td><td style=\"font-weight: bold; text-align:right\">19,031,335</td>\n<td data-continent=\"Europe\" style=\"display:none\">Europe</td>\n</tr><tr class=\"odd\" role=\"row\" style=\"\">\n<td style=\"font-size:12px;color: grey;text-align:center;vertical-align:middle;\">23</td>\n<td style=\"font-weight: bold; font-size:15px; text-align:left;\"><a class=\"mt_a\" href=\"/coronavirus/country/israel/\">Israel</a></td>\n<td class=\"sorting_1\" style=\"font-weight: bold; text-align:right\">3,393</td>\n<td style=\"font-weight: bold; text-align:right\">3,124</td>\n<td style=\"font-weight: bold; text-align:right\">+9%</td>\n<td style=\"font-weight: bold; text-align:right\">364</td>\n<td style=\"font-weight: bold; text-align:right\">19</td>\n<td style=\"font-weight: bold; text-align:right\">14</td>\n<td style=\"font-weight: bold; text-align:right\">+36%</td>\n<td style=\"font-weight: bold; text-align:right\">2</td>\n<td style=\"font-weight: bold; text-align:right\">+29</td><td style=\"font-weight: bold; text-align:right\">+0.5</td><td style=\"font-weight: bold; text-align:right\">9,326,000</td>\n<td data-continent=\"Asia\" style=\"display:none\">Asia</td>\n</tr><tr class=\"total_row_world row_continent even\" data-continent=\"Africa\" role=\"row\" style=\"display: none\">\n<td></td>\n<td style=\"text-align:left;\">\n<nobr>Africa</nobr>\n</td>\n<td class=\"sorting_1\">3,342</td>\n<td>3,520</td>\n<td>-5%</td>\n<td></td>\n<td>15</td>\n<td>12</td>\n<td>\n                                +25%                                </td>\n<td></td>\n<td></td><td></td><td></td>\n<td data-continent=\"Africa\" style=\"display:none;\">Africa</td>\n</tr><tr class=\"odd\" role=\"row\" style=\"\">\n<td style=\"font-size:12px;color: grey;text-align:center;vertical-align:middle;\">24</td>\n<td style=\"font-weight: bold; font-size:15px; text-align:left;\"><a class=\"mt_a\" href=\"/coronavirus/country/moldova/\">Moldova</a></td>\n<td class=\"sorting_1\" style=\"font-weight: bold; text-align:right\">2,834</td>\n<td style=\"font-weight: bold; text-align:right\">1,338</td>\n<td style=\"font-weight: bold; text-align:right\">+112%</td>\n<td style=\"font-weight: bold; text-align:right\">706</td>\n<td style=\"font-weight: bold; text-align:right\">10</td>\n<td style=\"font-weight: bold; text-align:right\">7</td>\n<td style=\"font-weight: bold; text-align:right\">+43%</td>\n<td style=\"font-weight: bold; text-align:right\">2</td>\n<td style=\"font-weight: bold; text-align:right\">+373</td><td style=\"font-weight: bold; text-align:right\">+0.7</td><td style=\"font-weight: bold; text-align:right\">4,013,171</td>\n<td data-continent=\"Europe\" style=\"display:none\">Europe</td>\n</tr><tr class=\"even\" role=\"row\" style=\"\">\n<td style=\"font-size:12px;color: grey;text-align:center;vertical-align:middle;\">25</td>\n<td style=\"font-weight: bold; font-size:15px; text-align:left;\"><a class=\"mt_a\" href=\"/coronavirus/country/lithuania/\">Lithuania</a></td>\n<td class=\"sorting_1\" style=\"font-weight: bold; text-align:right\">2,200</td>\n<td style=\"font-weight: bold; text-align:right\">1,891</td>\n<td style=\"font-weight: bold; text-align:right\">+16%</td>\n<td style=\"font-weight: bold; text-align:right\">827</td>\n<td style=\"font-weight: bold; text-align:right\">8</td>\n<td style=\"font-weight: bold; text-align:right\">18</td>\n<td style=\"font-weight: bold; text-align:right\">-56%</td>\n<td style=\"font-weight: bold; text-align:right\">3</td>\n<td style=\"font-weight: bold; text-align:right\">+116</td><td style=\"font-weight: bold; text-align:right\">-4</td><td style=\"font-weight: bold; text-align:right\">2,661,708</td>\n<td data-continent=\"Europe\" style=\"display:none\">Europe</td>\n</tr><tr class=\"odd\" role=\"row\" style=\"\">\n<td style=\"font-size:12px;color: grey;text-align:center;vertical-align:middle;\">26</td>\n<td style=\"font-weight: bold; font-size:15px; text-align:left;\"><a class=\"mt_a\" href=\"/coronavirus/country/cyprus/\">Cyprus</a></td>\n<td class=\"sorting_1\" style=\"font-weight: bold; text-align:right\">2,062</td>\n<td style=\"font-weight: bold; text-align:right\">1,516</td>\n<td style=\"font-weight: bold; text-align:right\">+36%</td>\n<td style=\"font-weight: bold; text-align:right\">1,685</td>\n<td style=\"font-weight: bold; text-align:right\">8</td>\n<td style=\"font-weight: bold; text-align:right\">4</td>\n<td style=\"font-weight: bold; text-align:right\">+100%</td>\n<td style=\"font-weight: bold; text-align:right\">7</td>\n<td style=\"font-weight: bold; text-align:right\">+446</td><td style=\"font-weight: bold; text-align:right\">+3</td><td style=\"font-weight: bold; text-align:right\">1,223,387</td>\n<td data-continent=\"Asia\" style=\"display:none\">Asia</td>\n</tr><tr class=\"even\" role=\"row\" style=\"\">\n<td style=\"font-size:12px;color: grey;text-align:center;vertical-align:middle;\">27</td>\n<td style=\"font-weight: bold; font-size:15px; text-align:left;\"><a class=\"mt_a\" href=\"/coronavirus/country/slovenia/\">Slovenia</a></td>\n<td class=\"sorting_1\" style=\"font-weight: bold; text-align:right\">2,011</td>\n<td style=\"font-weight: bold; text-align:right\">1,738</td>\n<td style=\"font-weight: bold; text-align:right\">+16%</td>\n<td style=\"font-weight: bold; text-align:right\">968</td>\n<td style=\"font-weight: bold; text-align:right\">4</td>\n<td style=\"font-weight: bold; text-align:right\">3</td>\n<td style=\"font-weight: bold; text-align:right\">+33%</td>\n<td style=\"font-weight: bold; text-align:right\">2</td>\n<td style=\"font-weight: bold; text-align:right\">+131</td><td style=\"font-weight: bold; text-align:right\">+0.5</td><td style=\"font-weight: bold; text-align:right\">2,078,034</td>\n<td data-continent=\"Europe\" style=\"display:none\">Europe</td>\n</tr><tr class=\"odd\" role=\"row\" style=\"\">\n<td style=\"font-size:12px;color: grey;text-align:center;vertical-align:middle;\">28</td>\n<td style=\"font-weight: bold; font-size:15px; text-align:left;\"><a class=\"mt_a\" href=\"/coronavirus/country/guatemala/\">Guatemala</a></td>\n<td class=\"sorting_1\" style=\"font-weight: bold; text-align:right\">1,925</td>\n<td style=\"font-weight: bold; text-align:right\">2,075</td>\n<td style=\"font-weight: bold; text-align:right\">-7%</td>\n<td style=\"font-weight: bold; text-align:right\">104</td>\n<td style=\"font-weight: bold; text-align:right\">11</td>\n<td style=\"font-weight: bold; text-align:right\">8</td>\n<td style=\"font-weight: bold; text-align:right\">+38%</td>\n<td style=\"font-weight: bold; text-align:right\">0.6</td>\n<td style=\"font-weight: bold; text-align:right\">-8</td><td style=\"font-weight: bold; text-align:right\">+0.2</td><td style=\"font-weight: bold; text-align:right\">18,584,039</td>\n<td data-continent=\"North America\" style=\"display:none\">North America</td>\n</tr><tr class=\"even\" role=\"row\" style=\"\">\n<td style=\"font-size:12px;color: grey;text-align:center;vertical-align:middle;\">29</td>\n<td style=\"font-weight: bold; font-size:15px; text-align:left;\"><a class=\"mt_a\" href=\"/coronavirus/country/bahrain/\">Bahrain</a></td>\n<td class=\"sorting_1\" style=\"font-weight: bold; text-align:right\">1,759</td>\n<td style=\"font-weight: bold; text-align:right\">3,656</td>\n<td style=\"font-weight: bold; text-align:right\">-52%</td>\n<td style=\"font-weight: bold; text-align:right\">986</td>\n<td style=\"font-weight: bold; text-align:right\">0</td>\n<td style=\"font-weight: bold; text-align:right\">4</td>\n<td style=\"font-weight: bold; text-align:right\">-100%</td>\n<td style=\"font-weight: bold; text-align:right\">0</td>\n<td style=\"font-weight: bold; text-align:right\">-1,063</td><td style=\"font-weight: bold; text-align:right\">-2</td><td style=\"font-weight: bold; text-align:right\">1,783,983</td>\n<td data-continent=\"Asia\" style=\"display:none\">Asia</td>\n</tr><tr class=\"odd\" role=\"row\" style=\"\">\n<td style=\"font-size:12px;color: grey;text-align:center;vertical-align:middle;\">30</td>\n<td style=\"font-weight: bold; font-size:15px; text-align:left;\"><a class=\"mt_a\" href=\"/coronavirus/country/canada/\">Canada</a></td>\n<td class=\"sorting_1\" style=\"font-weight: bold; text-align:right\">1,530</td>\n<td style=\"font-weight: bold; text-align:right\">10,622</td>\n<td style=\"font-weight: bold; text-align:right\">-86%</td>\n<td style=\"font-weight: bold; text-align:right\">40</td>\n<td style=\"font-weight: bold; text-align:right\">28</td>\n<td style=\"font-weight: bold; text-align:right\">203</td>\n<td style=\"font-weight: bold; text-align:right\">-86%</td>\n<td style=\"font-weight: bold; text-align:right\">0.7</td>\n<td style=\"font-weight: bold; text-align:right\">-237</td><td style=\"font-weight: bold; text-align:right\">-5</td><td style=\"font-weight: bold; text-align:right\">38,388,419</td>\n<td data-continent=\"North America\" style=\"display:none\">North America</td>\n</tr><tr class=\"even\" role=\"row\" style=\"\">\n<td style=\"font-size:12px;color: grey;text-align:center;vertical-align:middle;\">31</td>\n<td style=\"font-weight: bold; font-size:15px; text-align:left;\"><a class=\"mt_a\" href=\"/coronavirus/country/indonesia/\">Indonesia</a></td>\n<td class=\"sorting_1\" style=\"font-weight: bold; text-align:right\">1,413</td>\n<td style=\"font-weight: bold; text-align:right\">1,416</td>\n<td style=\"font-weight: bold; text-align:right\">-0.2%</td>\n<td style=\"font-weight: bold; text-align:right\">5</td>\n<td style=\"font-weight: bold; text-align:right\">22</td>\n<td style=\"font-weight: bold; text-align:right\">22</td>\n<td style=\"font-weight: bold; text-align:right\">0%</td>\n<td style=\"font-weight: bold; text-align:right\">0.1</td>\n<td style=\"font-weight: bold; text-align:right\">0.0</td><td style=\"font-weight: bold; text-align:right\">0</td><td style=\"font-weight: bold; text-align:right\">279,134,505</td>\n<td data-continent=\"Asia\" style=\"display:none\">Asia</td>\n</tr><tr class=\"odd\" role=\"row\" style=\"\">\n<td style=\"font-size:12px;color: grey;text-align:center;vertical-align:middle;\">32</td>\n<td style=\"font-weight: bold; font-size:15px; text-align:left;\"><a class=\"mt_a\" href=\"/coronavirus/country/malaysia/\">Malaysia</a></td>\n<td class=\"sorting_1\" style=\"font-weight: bold; text-align:right\">1,388</td>\n<td style=\"font-weight: bold; text-align:right\">1,521</td>\n<td style=\"font-weight: bold; text-align:right\">-9%</td>\n<td style=\"font-weight: bold; text-align:right\">42</td>\n<td style=\"font-weight: bold; text-align:right\">1</td>\n<td style=\"font-weight: bold; text-align:right\">5</td>\n<td style=\"font-weight: bold; text-align:right\">-80%</td>\n<td style=\"font-weight: bold; text-align:right\">0.0</td>\n<td style=\"font-weight: bold; text-align:right\">-4</td><td style=\"font-weight: bold; text-align:right\">-0.1</td><td style=\"font-weight: bold; text-align:right\">33,181,072</td>\n<td data-continent=\"Asia\" style=\"display:none\">Asia</td>\n</tr><tr class=\"even\" role=\"row\" style=\"\">\n<td style=\"font-size:12px;color: grey;text-align:center;vertical-align:middle;\">33</td>\n<td style=\"font-weight: bold; font-size:15px; text-align:left;\"><a class=\"mt_a\" href=\"/coronavirus/country/netherlands/\">Netherlands</a></td>\n<td class=\"sorting_1\" style=\"font-weight: bold; text-align:right\">1,319</td>\n<td style=\"font-weight: bold; text-align:right\">3,557</td>\n<td style=\"font-weight: bold; text-align:right\">-63%</td>\n<td style=\"font-weight: bold; text-align:right\">77</td>\n<td style=\"font-weight: bold; text-align:right\">0</td>\n<td style=\"font-weight: bold; text-align:right\">0</td>\n<td style=\"font-weight: bold; text-align:right\">0%</td>\n<td style=\"font-weight: bold; text-align:right\">0</td>\n<td style=\"font-weight: bold; text-align:right\">-130</td><td style=\"font-weight: bold; text-align:right\">0</td><td style=\"font-weight: bold; text-align:right\">17,211,447</td>\n<td data-continent=\"Europe\" style=\"display:none\">Europe</td>\n</tr><tr class=\"odd\" role=\"row\" style=\"\">\n<td style=\"font-size:12px;color: grey;text-align:center;vertical-align:middle;\">34</td>\n<td style=\"font-weight: bold; font-size:15px; text-align:left;\"><a class=\"mt_a\" href=\"/coronavirus/country/iran/\">Iran</a></td>\n<td class=\"sorting_1\" style=\"font-weight: bold; text-align:right\">1,232</td>\n<td style=\"font-weight: bold; text-align:right\">918</td>\n<td style=\"font-weight: bold; text-align:right\">+34%</td>\n<td style=\"font-weight: bold; text-align:right\">14</td>\n<td style=\"font-weight: bold; text-align:right\">38</td>\n<td style=\"font-weight: bold; text-align:right\">23</td>\n<td style=\"font-weight: bold; text-align:right\">+65%</td>\n<td style=\"font-weight: bold; text-align:right\">0.4</td>\n<td style=\"font-weight: bold; text-align:right\">+4</td><td style=\"font-weight: bold; text-align:right\">+0.2</td><td style=\"font-weight: bold; text-align:right\">86,022,837</td>\n<td data-continent=\"Asia\" style=\"display:none\">Asia</td>\n</tr><tr class=\"even\" role=\"row\" style=\"\">\n<td style=\"font-size:12px;color: grey;text-align:center;vertical-align:middle;\">35</td>\n<td style=\"font-weight: bold; font-size:15px; text-align:left;\"><a class=\"mt_a\" href=\"/coronavirus/country/switzerland/\">Switzerland</a></td>\n<td class=\"sorting_1\" style=\"font-weight: bold; text-align:right\">1,208</td>\n<td style=\"font-weight: bold; text-align:right\">0</td>\n<td style=\"font-weight: bold; text-align:right\">+120,800%</td>\n<td style=\"font-weight: bold; text-align:right\">138</td>\n<td style=\"font-weight: bold; text-align:right\">0</td>\n<td style=\"font-weight: bold; text-align:right\">0</td>\n<td style=\"font-weight: bold; text-align:right\">0%</td>\n<td style=\"font-weight: bold; text-align:right\">0</td>\n<td style=\"font-weight: bold; text-align:right\">+138</td><td style=\"font-weight: bold; text-align:right\">0</td><td style=\"font-weight: bold; text-align:right\">8,773,637</td>\n<td data-continent=\"Europe\" style=\"display:none\">Europe</td>\n</tr><tr class=\"odd\" role=\"row\" style=\"\">\n<td style=\"font-size:12px;color: grey;text-align:center;vertical-align:middle;\">36</td>\n<td style=\"font-weight: bold; font-size:15px; text-align:left;\"><a class=\"mt_a\" href=\"/coronavirus/country/india/\">India</a></td>\n<td class=\"sorting_1\" style=\"font-weight: bold; text-align:right\">1,165</td>\n<td style=\"font-weight: bold; text-align:right\">837</td>\n<td style=\"font-weight: bold; text-align:right\">+39%</td>\n<td style=\"font-weight: bold; text-align:right\">0.8</td>\n<td style=\"font-weight: bold; text-align:right\">9</td>\n<td style=\"font-weight: bold; text-align:right\">8</td>\n<td style=\"font-weight: bold; text-align:right\">+13%</td>\n<td style=\"font-weight: bold; text-align:right\">0.0</td>\n<td style=\"font-weight: bold; text-align:right\">+0.2</td><td style=\"font-weight: bold; text-align:right\">0.0</td><td style=\"font-weight: bold; text-align:right\">1,406,631,776</td>\n<td data-continent=\"Asia\" style=\"display:none\">Asia</td>\n</tr><tr class=\"even\" role=\"row\" style=\"\">\n<td style=\"font-size:12px;color: grey;text-align:center;vertical-align:middle;\">37</td>\n<td style=\"font-weight: bold; font-size:15px; text-align:left;\"><a class=\"mt_a\" href=\"/coronavirus/country/south-africa/\">South Africa</a></td>\n<td class=\"sorting_1\" style=\"font-weight: bold; text-align:right\">1,034</td>\n<td style=\"font-weight: bold; text-align:right\">1,437</td>\n<td style=\"font-weight: bold; text-align:right\">-28%</td>\n<td style=\"font-weight: bold; text-align:right\">17</td>\n<td style=\"font-weight: bold; text-align:right\">0</td>\n<td style=\"font-weight: bold; text-align:right\">0</td>\n<td style=\"font-weight: bold; text-align:right\">0%</td>\n<td style=\"font-weight: bold; text-align:right\">0</td>\n<td style=\"font-weight: bold; text-align:right\">-7</td><td style=\"font-weight: bold; text-align:right\">0</td><td style=\"font-weight: bold; text-align:right\">60,756,135</td>\n<td data-continent=\"Africa\" style=\"display:none\">Africa</td>\n</tr><tr class=\"odd\" role=\"row\" style=\"\">\n<td style=\"font-size:12px;color: grey;text-align:center;vertical-align:middle;\">38</td>\n<td style=\"font-weight: bold; font-size:15px; text-align:left;\"><a class=\"mt_a\" href=\"/coronavirus/country/lebanon/\">Lebanon</a></td>\n<td class=\"sorting_1\" style=\"font-weight: bold; text-align:right\">1,031</td>\n<td style=\"font-weight: bold; text-align:right\">541</td>\n<td style=\"font-weight: bold; text-align:right\">+91%</td>\n<td style=\"font-weight: bold; text-align:right\">154</td>\n<td style=\"font-weight: bold; text-align:right\">12</td>\n<td style=\"font-weight: bold; text-align:right\">10</td>\n<td style=\"font-weight: bold; text-align:right\">+20%</td>\n<td style=\"font-weight: bold; text-align:right\">2</td>\n<td style=\"font-weight: bold; text-align:right\">+73</td><td style=\"font-weight: bold; text-align:right\">+0.3</td><td style=\"font-weight: bold; text-align:right\">6,684,849</td>\n<td data-continent=\"Asia\" style=\"display:none\">Asia</td>\n</tr><tr class=\"even\" role=\"row\" style=\"\">\n<td style=\"font-size:12px;color: grey;text-align:center;vertical-align:middle;\">39</td>\n<td style=\"font-weight: bold; font-size:15px; text-align:left;\"><a class=\"mt_a\" href=\"/coronavirus/country/bolivia/\">Bolivia</a></td>\n<td class=\"sorting_1\" style=\"font-weight: bold; text-align:right\">996</td>\n<td style=\"font-weight: bold; text-align:right\">802</td>\n<td style=\"font-weight: bold; text-align:right\">+24%</td>\n<td style=\"font-weight: bold; text-align:right\">83</td>\n<td style=\"font-weight: bold; text-align:right\">6</td>\n<td style=\"font-weight: bold; text-align:right\">4</td>\n<td style=\"font-weight: bold; text-align:right\">+50%</td>\n<td style=\"font-weight: bold; text-align:right\">0.5</td>\n<td style=\"font-weight: bold; text-align:right\">+16</td><td style=\"font-weight: bold; text-align:right\">+0.2</td><td style=\"font-weight: bold; text-align:right\">11,992,656</td>\n<td data-continent=\"South America\" style=\"display:none\">South America</td>\n</tr><tr class=\"odd\" role=\"row\" style=\"\">\n<td style=\"font-size:12px;color: grey;text-align:center;vertical-align:middle;\">40</td>\n<td style=\"font-weight: bold; font-size:15px; text-align:left;\"><a class=\"mt_a\" href=\"/coronavirus/country/georgia/\">Georgia</a></td>\n<td class=\"sorting_1\" style=\"font-weight: bold; text-align:right\">976</td>\n<td style=\"font-weight: bold; text-align:right\">3,009</td>\n<td style=\"font-weight: bold; text-align:right\">-68%</td>\n<td style=\"font-weight: bold; text-align:right\">246</td>\n<td style=\"font-weight: bold; text-align:right\">5</td>\n<td style=\"font-weight: bold; text-align:right\">13</td>\n<td style=\"font-weight: bold; text-align:right\">-62%</td>\n<td style=\"font-weight: bold; text-align:right\">1</td>\n<td style=\"font-weight: bold; text-align:right\">-512</td><td style=\"font-weight: bold; text-align:right\">-2</td><td style=\"font-weight: bold; text-align:right\">3,968,738</td>\n<td data-continent=\"Asia\" style=\"display:none\">Asia</td>\n</tr><tr class=\"even\" role=\"row\" style=\"\">\n<td style=\"font-size:12px;color: grey;text-align:center;vertical-align:middle;\">41</td>\n<td style=\"font-weight: bold; font-size:15px; text-align:left;\"><a class=\"mt_a\" href=\"/coronavirus/country/paraguay/\">Paraguay</a></td>\n<td class=\"sorting_1\" style=\"font-weight: bold; text-align:right\">874</td>\n<td style=\"font-weight: bold; text-align:right\">663</td>\n<td style=\"font-weight: bold; text-align:right\">+32%</td>\n<td style=\"font-weight: bold; text-align:right\">120</td>\n<td style=\"font-weight: bold; text-align:right\">21</td>\n<td style=\"font-weight: bold; text-align:right\">6</td>\n<td style=\"font-weight: bold; text-align:right\">+250%</td>\n<td style=\"font-weight: bold; text-align:right\">3</td>\n<td style=\"font-weight: bold; text-align:right\">+29</td><td style=\"font-weight: bold; text-align:right\">+2</td><td style=\"font-weight: bold; text-align:right\">7,305,843</td>\n<td data-continent=\"South America\" style=\"display:none\">South America</td>\n</tr><tr class=\"odd\" role=\"row\" style=\"\">\n<td style=\"font-size:12px;color: grey;text-align:center;vertical-align:middle;\">42</td>\n<td style=\"font-weight: bold; font-size:15px; text-align:left;\"><a class=\"mt_a\" href=\"/coronavirus/country/china-hong-kong-sar/\">Hong Kong</a></td>\n<td class=\"sorting_1\" style=\"font-weight: bold; text-align:right\">869</td>\n<td style=\"font-weight: bold; text-align:right\">1,263</td>\n<td style=\"font-weight: bold; text-align:right\">-31%</td>\n<td style=\"font-weight: bold; text-align:right\">114</td>\n<td style=\"font-weight: bold; text-align:right\">11</td>\n<td style=\"font-weight: bold; text-align:right\">22</td>\n<td style=\"font-weight: bold; text-align:right\">-50%</td>\n<td style=\"font-weight: bold; text-align:right\">1</td>\n<td style=\"font-weight: bold; text-align:right\">-52</td><td style=\"font-weight: bold; text-align:right\">-1</td><td style=\"font-weight: bold; text-align:right\">7,604,299</td>\n<td data-continent=\"Asia\" style=\"display:none\">Asia</td>\n</tr><tr class=\"even\" role=\"row\" style=\"\">\n<td style=\"font-size:12px;color: grey;text-align:center;vertical-align:middle;\">43</td>\n<td style=\"font-weight: bold; font-size:15px; text-align:left;\"><a class=\"mt_a\" href=\"/coronavirus/country/hungary/\">Hungary</a></td>\n<td class=\"sorting_1\" style=\"font-weight: bold; text-align:right\">867</td>\n<td style=\"font-weight: bold; text-align:right\">830</td>\n<td style=\"font-weight: bold; text-align:right\">+4%</td>\n<td style=\"font-weight: bold; text-align:right\">90</td>\n<td style=\"font-weight: bold; text-align:right\">7</td>\n<td style=\"font-weight: bold; text-align:right\">31</td>\n<td style=\"font-weight: bold; text-align:right\">-77%</td>\n<td style=\"font-weight: bold; text-align:right\">0.7</td>\n<td style=\"font-weight: bold; text-align:right\">+4</td><td style=\"font-weight: bold; text-align:right\">-2</td><td style=\"font-weight: bold; text-align:right\">9,606,259</td>\n<td data-continent=\"Europe\" style=\"display:none\">Europe</td>\n</tr><tr class=\"odd\" role=\"row\" style=\"\">\n<td style=\"font-size:12px;color: grey;text-align:center;vertical-align:middle;\">44</td>\n<td style=\"font-weight: bold; font-size:15px; text-align:left;\"><a class=\"mt_a\" href=\"/coronavirus/country/philippines/\">Philippines</a></td>\n<td class=\"sorting_1\" style=\"font-weight: bold; text-align:right\">805</td>\n<td style=\"font-weight: bold; text-align:right\">692</td>\n<td style=\"font-weight: bold; text-align:right\">+16%</td>\n<td style=\"font-weight: bold; text-align:right\">7</td>\n<td style=\"font-weight: bold; text-align:right\">76</td>\n<td style=\"font-weight: bold; text-align:right\">72</td>\n<td style=\"font-weight: bold; text-align:right\">+6%</td>\n<td style=\"font-weight: bold; text-align:right\">0.7</td>\n<td style=\"font-weight: bold; text-align:right\">+1</td><td style=\"font-weight: bold; text-align:right\">0.0</td><td style=\"font-weight: bold; text-align:right\">112,508,994</td>\n<td data-continent=\"Asia\" style=\"display:none\">Asia</td>\n</tr><tr class=\"even\" role=\"row\" style=\"\">\n<td style=\"font-size:12px;color: grey;text-align:center;vertical-align:middle;\">45</td>\n<td style=\"font-weight: bold; font-size:15px; text-align:left;\"><a class=\"mt_a\" href=\"/coronavirus/country/united-arab-emirates/\">UAE</a></td>\n<td class=\"sorting_1\" style=\"font-weight: bold; text-align:right\">783</td>\n<td style=\"font-weight: bold; text-align:right\">677</td>\n<td style=\"font-weight: bold; text-align:right\">+16%</td>\n<td style=\"font-weight: bold; text-align:right\">78</td>\n<td style=\"font-weight: bold; text-align:right\">1</td>\n<td style=\"font-weight: bold; text-align:right\">0</td>\n<td style=\"font-weight: bold; text-align:right\">+100%</td>\n<td style=\"font-weight: bold; text-align:right\">0.1</td>\n<td style=\"font-weight: bold; text-align:right\">+11</td><td style=\"font-weight: bold; text-align:right\">+0.1</td><td style=\"font-weight: bold; text-align:right\">10,081,785</td>\n<td data-continent=\"Asia\" style=\"display:none\">Asia</td>\n</tr><tr class=\"odd\" role=\"row\" style=\"\">\n<td style=\"font-size:12px;color: grey;text-align:center;vertical-align:middle;\">46</td>\n<td style=\"font-weight: bold; font-size:15px; text-align:left;\"><a class=\"mt_a\" href=\"/coronavirus/country/colombia/\">Colombia</a></td>\n<td class=\"sorting_1\" style=\"font-weight: bold; text-align:right\">689</td>\n<td style=\"font-weight: bold; text-align:right\">707</td>\n<td style=\"font-weight: bold; text-align:right\">-3%</td>\n<td style=\"font-weight: bold; text-align:right\">13</td>\n<td style=\"font-weight: bold; text-align:right\">19</td>\n<td style=\"font-weight: bold; text-align:right\">20</td>\n<td style=\"font-weight: bold; text-align:right\">-5%</td>\n<td style=\"font-weight: bold; text-align:right\">0.4</td>\n<td style=\"font-weight: bold; text-align:right\">-0.3</td><td style=\"font-weight: bold; text-align:right\">0.0</td><td style=\"font-weight: bold; text-align:right\">51,512,762</td>\n<td data-continent=\"South America\" style=\"display:none\">South America</td>\n</tr><tr class=\"even\" role=\"row\" style=\"\">\n<td style=\"font-size:12px;color: grey;text-align:center;vertical-align:middle;\">47</td>\n<td style=\"font-weight: bold; font-size:15px; text-align:left;\"><a class=\"mt_a\" href=\"/coronavirus/country/montenegro/\">Montenegro</a></td>\n<td class=\"sorting_1\" style=\"font-weight: bold; text-align:right\">667</td>\n<td style=\"font-weight: bold; text-align:right\">554</td>\n<td style=\"font-weight: bold; text-align:right\">+20%</td>\n<td style=\"font-weight: bold; text-align:right\">1,062</td>\n<td style=\"font-weight: bold; text-align:right\">1</td>\n<td style=\"font-weight: bold; text-align:right\">1</td>\n<td style=\"font-weight: bold; text-align:right\">0%</td>\n<td style=\"font-weight: bold; text-align:right\">2</td>\n<td style=\"font-weight: bold; text-align:right\">+180</td><td style=\"font-weight: bold; text-align:right\">0</td><td style=\"font-weight: bold; text-align:right\">627,950</td>\n<td data-continent=\"Europe\" style=\"display:none\">Europe</td>\n</tr><tr class=\"odd\" role=\"row\" style=\"\">\n<td style=\"font-size:12px;color: grey;text-align:center;vertical-align:middle;\">48</td>\n<td style=\"font-weight: bold; font-size:15px; text-align:left;\"><a class=\"mt_a\" href=\"/coronavirus/country/peru/\">Peru</a></td>\n<td class=\"sorting_1\" style=\"font-weight: bold; text-align:right\">631</td>\n<td style=\"font-weight: bold; text-align:right\">1,032</td>\n<td style=\"font-weight: bold; text-align:right\">-39%</td>\n<td style=\"font-weight: bold; text-align:right\">19</td>\n<td style=\"font-weight: bold; text-align:right\">63</td>\n<td style=\"font-weight: bold; text-align:right\">72</td>\n<td style=\"font-weight: bold; text-align:right\">-13%</td>\n<td style=\"font-weight: bold; text-align:right\">2</td>\n<td style=\"font-weight: bold; text-align:right\">-12</td><td style=\"font-weight: bold; text-align:right\">-0.3</td><td style=\"font-weight: bold; text-align:right\">33,684,208</td>\n<td data-continent=\"South America\" style=\"display:none\">South America</td>\n</tr><tr class=\"even\" role=\"row\" style=\"\">\n<td style=\"font-size:12px;color: grey;text-align:center;vertical-align:middle;\">49</td>\n<td style=\"font-weight: bold; font-size:15px; text-align:left;\"><a class=\"mt_a\" href=\"/coronavirus/country/slovakia/\">Slovakia</a></td>\n<td class=\"sorting_1\" style=\"font-weight: bold; text-align:right\">620</td>\n<td style=\"font-weight: bold; text-align:right\">555</td>\n<td style=\"font-weight: bold; text-align:right\">+12%</td>\n<td style=\"font-weight: bold; text-align:right\">114</td>\n<td style=\"font-weight: bold; text-align:right\">21</td>\n<td style=\"font-weight: bold; text-align:right\">16</td>\n<td style=\"font-weight: bold; text-align:right\">+31%</td>\n<td style=\"font-weight: bold; text-align:right\">4</td>\n<td style=\"font-weight: bold; text-align:right\">+12</td><td style=\"font-weight: bold; text-align:right\">+0.9</td><td style=\"font-weight: bold; text-align:right\">5,460,193</td>\n<td data-continent=\"Europe\" style=\"display:none\">Europe</td>\n</tr><tr class=\"odd\" role=\"row\" style=\"\">\n<td style=\"font-size:12px;color: grey;text-align:center;vertical-align:middle;\">50</td>\n<td style=\"font-weight: bold; font-size:15px; text-align:left;\"><a class=\"mt_a\" href=\"/coronavirus/country/kuwait/\">Kuwait</a></td>\n<td class=\"sorting_1\" style=\"font-weight: bold; text-align:right\">598</td>\n<td style=\"font-weight: bold; text-align:right\">0</td>\n<td style=\"font-weight: bold; text-align:right\">+59,800%</td>\n<td style=\"font-weight: bold; text-align:right\">137</td>\n<td style=\"font-weight: bold; text-align:right\">0</td>\n<td style=\"font-weight: bold; text-align:right\">0</td>\n<td style=\"font-weight: bold; text-align:right\">0%</td>\n<td style=\"font-weight: bold; text-align:right\">0</td>\n<td style=\"font-weight: bold; text-align:right\">+137</td><td style=\"font-weight: bold; text-align:right\">0</td><td style=\"font-weight: bold; text-align:right\">4,380,326</td>\n<td data-continent=\"Asia\" style=\"display:none\">Asia</td>\n</tr><tr class=\"even\" role=\"row\" style=\"\">\n<td style=\"font-size:12px;color: grey;text-align:center;vertical-align:middle;\">51</td>\n<td style=\"font-weight: bold; font-size:15px; text-align:left;\"><a class=\"mt_a\" href=\"/coronavirus/country/qatar/\">Qatar</a></td>\n<td class=\"sorting_1\" style=\"font-weight: bold; text-align:right\">584</td>\n<td style=\"font-weight: bold; text-align:right\">386</td>\n<td style=\"font-weight: bold; text-align:right\">+51%</td>\n<td style=\"font-weight: bold; text-align:right\">196</td>\n<td style=\"font-weight: bold; text-align:right\">0</td>\n<td style=\"font-weight: bold; text-align:right\">0</td>\n<td style=\"font-weight: bold; text-align:right\">0%</td>\n<td style=\"font-weight: bold; text-align:right\">0</td>\n<td style=\"font-weight: bold; text-align:right\">+66</td><td style=\"font-weight: bold; text-align:right\">0</td><td style=\"font-weight: bold; text-align:right\">2,979,915</td>\n<td data-continent=\"Asia\" style=\"display:none\">Asia</td>\n</tr><tr class=\"odd\" role=\"row\" style=\"\">\n<td style=\"font-size:12px;color: grey;text-align:center;vertical-align:middle;\">52</td>\n<td style=\"font-weight: bold; font-size:15px; text-align:left;\"><a class=\"mt_a\" href=\"/coronavirus/country/brunei-darussalam/\">Brunei </a></td>\n<td class=\"sorting_1\" style=\"font-weight: bold; text-align:right\">551</td>\n<td style=\"font-weight: bold; text-align:right\">616</td>\n<td style=\"font-weight: bold; text-align:right\">-11%</td>\n<td style=\"font-weight: bold; text-align:right\">1,237</td>\n<td style=\"font-weight: bold; text-align:right\">0</td>\n<td style=\"font-weight: bold; text-align:right\">0</td>\n<td style=\"font-weight: bold; text-align:right\">0%</td>\n<td style=\"font-weight: bold; text-align:right\">0</td>\n<td style=\"font-weight: bold; text-align:right\">-146</td><td style=\"font-weight: bold; text-align:right\">0</td><td style=\"font-weight: bold; text-align:right\">445,431</td>\n<td data-continent=\"Asia\" style=\"display:none\">Asia</td>\n</tr><tr class=\"even\" role=\"row\" style=\"\">\n<td style=\"font-size:12px;color: grey;text-align:center;vertical-align:middle;\">53</td>\n<td style=\"font-weight: bold; font-size:15px; text-align:left;\"><a class=\"mt_a\" href=\"/coronavirus/country/zambia/\">Zambia</a></td>\n<td class=\"sorting_1\" style=\"font-weight: bold; text-align:right\">514</td>\n<td style=\"font-weight: bold; text-align:right\">29</td>\n<td style=\"font-weight: bold; text-align:right\">+1,672%</td>\n<td style=\"font-weight: bold; text-align:right\">26</td>\n<td style=\"font-weight: bold; text-align:right\">4</td>\n<td style=\"font-weight: bold; text-align:right\">0</td>\n<td style=\"font-weight: bold; text-align:right\">+400%</td>\n<td style=\"font-weight: bold; text-align:right\">0.2</td>\n<td style=\"font-weight: bold; text-align:right\">+25</td><td style=\"font-weight: bold; text-align:right\">+0.2</td><td style=\"font-weight: bold; text-align:right\">19,470,234</td>\n<td data-continent=\"Africa\" style=\"display:none\">Africa</td>\n</tr><tr class=\"odd\" role=\"row\" style=\"\">\n<td style=\"font-size:12px;color: grey;text-align:center;vertical-align:middle;\">54</td>\n<td style=\"font-weight: bold; font-size:15px; text-align:left;\"><a class=\"mt_a\" href=\"/coronavirus/country/armenia/\">Armenia</a></td>\n<td class=\"sorting_1\" style=\"font-weight: bold; text-align:right\">487</td>\n<td style=\"font-weight: bold; text-align:right\">0</td>\n<td style=\"font-weight: bold; text-align:right\">+48,700%</td>\n<td style=\"font-weight: bold; text-align:right\">164</td>\n<td style=\"font-weight: bold; text-align:right\">2</td>\n<td style=\"font-weight: bold; text-align:right\">0</td>\n<td style=\"font-weight: bold; text-align:right\">+200%</td>\n<td style=\"font-weight: bold; text-align:right\">0.7</td>\n<td style=\"font-weight: bold; text-align:right\">+164</td><td style=\"font-weight: bold; text-align:right\">+0.7</td><td style=\"font-weight: bold; text-align:right\">2,971,966</td>\n<td data-continent=\"Asia\" style=\"display:none\">Asia</td>\n</tr><tr class=\"even\" role=\"row\" style=\"\">\n<td style=\"font-size:12px;color: grey;text-align:center;vertical-align:middle;\">55</td>\n<td style=\"font-weight: bold; font-size:15px; text-align:left;\"><a class=\"mt_a\" href=\"/coronavirus/country/bulgaria/\">Bulgaria</a></td>\n<td class=\"sorting_1\" style=\"font-weight: bold; text-align:right\">468</td>\n<td style=\"font-weight: bold; text-align:right\">330</td>\n<td style=\"font-weight: bold; text-align:right\">+42%</td>\n<td style=\"font-weight: bold; text-align:right\">68</td>\n<td style=\"font-weight: bold; text-align:right\">7</td>\n<td style=\"font-weight: bold; text-align:right\">10</td>\n<td style=\"font-weight: bold; text-align:right\">-30%</td>\n<td style=\"font-weight: bold; text-align:right\">1</td>\n<td style=\"font-weight: bold; text-align:right\">+20</td><td style=\"font-weight: bold; text-align:right\">-0.4</td><td style=\"font-weight: bold; text-align:right\">6,844,597</td>\n<td data-continent=\"Europe\" style=\"display:none\">Europe</td>\n</tr><tr class=\"odd\" role=\"row\" style=\"\">\n<td style=\"font-size:12px;color: grey;text-align:center;vertical-align:middle;\">56</td>\n<td style=\"font-weight: bold; font-size:15px; text-align:left;\"><a class=\"mt_a\" href=\"/coronavirus/country/saudi-arabia/\">Saudi Arabia</a></td>\n<td class=\"sorting_1\" style=\"font-weight: bold; text-align:right\">370</td>\n<td style=\"font-weight: bold; text-align:right\">392</td>\n<td style=\"font-weight: bold; text-align:right\">-6%</td>\n<td style=\"font-weight: bold; text-align:right\">10</td>\n<td style=\"font-weight: bold; text-align:right\">12</td>\n<td style=\"font-weight: bold; text-align:right\">10</td>\n<td style=\"font-weight: bold; text-align:right\">+20%</td>\n<td style=\"font-weight: bold; text-align:right\">0.3</td>\n<td style=\"font-weight: bold; text-align:right\">-0.6</td><td style=\"font-weight: bold; text-align:right\">+0.1</td><td style=\"font-weight: bold; text-align:right\">35,844,909</td>\n<td data-continent=\"Asia\" style=\"display:none\">Asia</td>\n</tr><tr class=\"even\" role=\"row\" style=\"\">\n<td style=\"font-size:12px;color: grey;text-align:center;vertical-align:middle;\">57</td>\n<td style=\"font-weight: bold; font-size:15px; text-align:left;\"><a class=\"mt_a\" href=\"/coronavirus/country/sweden/\">Sweden</a></td>\n<td class=\"sorting_1\" style=\"font-weight: bold; text-align:right\">358</td>\n<td style=\"font-weight: bold; text-align:right\">813</td>\n<td style=\"font-weight: bold; text-align:right\">-56%</td>\n<td style=\"font-weight: bold; text-align:right\">35</td>\n<td style=\"font-weight: bold; text-align:right\">3</td>\n<td style=\"font-weight: bold; text-align:right\">18</td>\n<td style=\"font-weight: bold; text-align:right\">-83%</td>\n<td style=\"font-weight: bold; text-align:right\">0.3</td>\n<td style=\"font-weight: bold; text-align:right\">-45</td><td style=\"font-weight: bold; text-align:right\">-1</td><td style=\"font-weight: bold; text-align:right\">10,218,971</td>\n<td data-continent=\"Europe\" style=\"display:none\">Europe</td>\n</tr><tr class=\"odd\" role=\"row\" style=\"\">\n<td style=\"font-size:12px;color: grey;text-align:center;vertical-align:middle;\">58</td>\n<td style=\"font-weight: bold; font-size:15px; text-align:left;\"><a class=\"mt_a\" href=\"/coronavirus/country/panama/\">Panama</a></td>\n<td class=\"sorting_1\" style=\"font-weight: bold; text-align:right\">356</td>\n<td style=\"font-weight: bold; text-align:right\">444</td>\n<td style=\"font-weight: bold; text-align:right\">-20%</td>\n<td style=\"font-weight: bold; text-align:right\">80</td>\n<td style=\"font-weight: bold; text-align:right\">3</td>\n<td style=\"font-weight: bold; text-align:right\">1</td>\n<td style=\"font-weight: bold; text-align:right\">+200%</td>\n<td style=\"font-weight: bold; text-align:right\">0.7</td>\n<td style=\"font-weight: bold; text-align:right\">-20</td><td style=\"font-weight: bold; text-align:right\">+0.4</td><td style=\"font-weight: bold; text-align:right\">4,446,964</td>\n<td data-continent=\"North America\" style=\"display:none\">North America</td>\n</tr><tr class=\"even\" role=\"row\" style=\"\">\n<td style=\"font-size:12px;color: grey;text-align:center;vertical-align:middle;\">59</td>\n<td style=\"font-weight: bold; font-size:15px; text-align:left;\"><a class=\"mt_a\" href=\"/coronavirus/country/denmark/\">Denmark</a></td>\n<td class=\"sorting_1\" style=\"font-weight: bold; text-align:right\">349</td>\n<td style=\"font-weight: bold; text-align:right\">497</td>\n<td style=\"font-weight: bold; text-align:right\">-30%</td>\n<td style=\"font-weight: bold; text-align:right\">60</td>\n<td style=\"font-weight: bold; text-align:right\">10</td>\n<td style=\"font-weight: bold; text-align:right\">33</td>\n<td style=\"font-weight: bold; text-align:right\">-70%</td>\n<td style=\"font-weight: bold; text-align:right\">2</td>\n<td style=\"font-weight: bold; text-align:right\">-25</td><td style=\"font-weight: bold; text-align:right\">-4</td><td style=\"font-weight: bold; text-align:right\">5,834,950</td>\n<td data-continent=\"Europe\" style=\"display:none\">Europe</td>\n</tr><tr class=\"odd\" role=\"row\" style=\"\">\n<td style=\"font-size:12px;color: grey;text-align:center;vertical-align:middle;\">60</td>\n<td style=\"font-weight: bold; font-size:15px; text-align:left;\"><a class=\"mt_a\" href=\"/coronavirus/country/cameroon/\">Cameroon</a></td>\n<td class=\"sorting_1\" style=\"font-weight: bold; text-align:right\">335</td>\n<td style=\"font-weight: bold; text-align:right\">0</td>\n<td style=\"font-weight: bold; text-align:right\">+33,500%</td>\n<td style=\"font-weight: bold; text-align:right\">12</td>\n<td style=\"font-weight: bold; text-align:right\">0</td>\n<td style=\"font-weight: bold; text-align:right\">0</td>\n<td style=\"font-weight: bold; text-align:right\">0%</td>\n<td style=\"font-weight: bold; text-align:right\">0</td>\n<td style=\"font-weight: bold; text-align:right\">+12</td><td style=\"font-weight: bold; text-align:right\">0</td><td style=\"font-weight: bold; text-align:right\">27,911,548</td>\n<td data-continent=\"Africa\" style=\"display:none\">Africa</td>\n</tr><tr class=\"even\" role=\"row\" style=\"\">\n<td style=\"font-size:12px;color: grey;text-align:center;vertical-align:middle;\">61</td>\n<td style=\"font-weight: bold; font-size:15px; text-align:left;\"><a class=\"mt_a\" href=\"/coronavirus/country/estonia/\">Estonia</a></td>\n<td class=\"sorting_1\" style=\"font-weight: bold; text-align:right\">322</td>\n<td style=\"font-weight: bold; text-align:right\">328</td>\n<td style=\"font-weight: bold; text-align:right\">-2%</td>\n<td style=\"font-weight: bold; text-align:right\">244</td>\n<td style=\"font-weight: bold; text-align:right\">8</td>\n<td style=\"font-weight: bold; text-align:right\">7</td>\n<td style=\"font-weight: bold; text-align:right\">+14%</td>\n<td style=\"font-weight: bold; text-align:right\">6</td>\n<td style=\"font-weight: bold; text-align:right\">-5</td><td style=\"font-weight: bold; text-align:right\">+0.8</td><td style=\"font-weight: bold; text-align:right\">1,321,910</td>\n<td data-continent=\"Europe\" style=\"display:none\">Europe</td>\n</tr><tr class=\"odd\" role=\"row\" style=\"\">\n<td style=\"font-size:12px;color: grey;text-align:center;vertical-align:middle;\">62</td>\n<td style=\"font-weight: bold; font-size:15px; text-align:left;\"><a class=\"mt_a\" href=\"/coronavirus/country/uruguay/\">Uruguay</a></td>\n<td class=\"sorting_1\" style=\"font-weight: bold; text-align:right\">280</td>\n<td style=\"font-weight: bold; text-align:right\">501</td>\n<td style=\"font-weight: bold; text-align:right\">-44%</td>\n<td style=\"font-weight: bold; text-align:right\">80</td>\n<td style=\"font-weight: bold; text-align:right\">0</td>\n<td style=\"font-weight: bold; text-align:right\">3</td>\n<td style=\"font-weight: bold; text-align:right\">-100%</td>\n<td style=\"font-weight: bold; text-align:right\">0</td>\n<td style=\"font-weight: bold; text-align:right\">-63</td><td style=\"font-weight: bold; text-align:right\">-0.9</td><td style=\"font-weight: bold; text-align:right\">3,496,016</td>\n<td data-continent=\"South America\" style=\"display:none\">South America</td>\n</tr><tr class=\"even\" role=\"row\" style=\"\">\n<td style=\"font-size:12px;color: grey;text-align:center;vertical-align:middle;\">63</td>\n<td style=\"font-weight: bold; font-size:15px; text-align:left;\"><a class=\"mt_a\" href=\"/coronavirus/country/mozambique/\">Mozambique</a></td>\n<td class=\"sorting_1\" style=\"font-weight: bold; text-align:right\">279</td>\n<td style=\"font-weight: bold; text-align:right\">0</td>\n<td style=\"font-weight: bold; text-align:right\">+27,900%</td>\n<td style=\"font-weight: bold; text-align:right\">8</td>\n<td style=\"font-weight: bold; text-align:right\">5</td>\n<td style=\"font-weight: bold; text-align:right\">0</td>\n<td style=\"font-weight: bold; text-align:right\">+500%</td>\n<td style=\"font-weight: bold; text-align:right\">0.2</td>\n<td style=\"font-weight: bold; text-align:right\">+8</td><td style=\"font-weight: bold; text-align:right\">+0.2</td><td style=\"font-weight: bold; text-align:right\">33,089,461</td>\n<td data-continent=\"Africa\" style=\"display:none\">Africa</td>\n</tr><tr class=\"odd\" role=\"row\" style=\"\">\n<td style=\"font-size:12px;color: grey;text-align:center;vertical-align:middle;\">64</td>\n<td style=\"font-weight: bold; font-size:15px; text-align:left;\"><a class=\"mt_a\" href=\"/coronavirus/country/zimbabwe/\">Zimbabwe</a></td>\n<td class=\"sorting_1\" style=\"font-weight: bold; text-align:right\">279</td>\n<td style=\"font-weight: bold; text-align:right\">559</td>\n<td style=\"font-weight: bold; text-align:right\">-50%</td>\n<td style=\"font-weight: bold; text-align:right\">18</td>\n<td style=\"font-weight: bold; text-align:right\">1</td>\n<td style=\"font-weight: bold; text-align:right\">3</td>\n<td style=\"font-weight: bold; text-align:right\">-67%</td>\n<td style=\"font-weight: bold; text-align:right\">0.1</td>\n<td style=\"font-weight: bold; text-align:right\">-18</td><td style=\"font-weight: bold; text-align:right\">-0.1</td><td style=\"font-weight: bold; text-align:right\">15,331,428</td>\n<td data-continent=\"Africa\" style=\"display:none\">Africa</td>\n</tr><tr class=\"even\" role=\"row\" style=\"\">\n<td style=\"font-size:12px;color: grey;text-align:center;vertical-align:middle;\">65</td>\n<td style=\"font-weight: bold; font-size:15px; text-align:left;\"><a class=\"mt_a\" href=\"/coronavirus/country/norway/\">Norway</a></td>\n<td class=\"sorting_1\" style=\"font-weight: bold; text-align:right\">273</td>\n<td style=\"font-weight: bold; text-align:right\">306</td>\n<td style=\"font-weight: bold; text-align:right\">-11%</td>\n<td style=\"font-weight: bold; text-align:right\">50</td>\n<td style=\"font-weight: bold; text-align:right\">0</td>\n<td style=\"font-weight: bold; text-align:right\">0</td>\n<td style=\"font-weight: bold; text-align:right\">0%</td>\n<td style=\"font-weight: bold; text-align:right\">0</td>\n<td style=\"font-weight: bold; text-align:right\">-6</td><td style=\"font-weight: bold; text-align:right\">0</td><td style=\"font-weight: bold; text-align:right\">5,511,370</td>\n<td data-continent=\"Europe\" style=\"display:none\">Europe</td>\n</tr><tr class=\"odd\" role=\"row\" style=\"\">\n<td style=\"font-size:12px;color: grey;text-align:center;vertical-align:middle;\">66</td>\n<td style=\"font-weight: bold; font-size:15px; text-align:left;\"><a class=\"mt_a\" href=\"/coronavirus/country/pakistan/\">Pakistan</a></td>\n<td class=\"sorting_1\" style=\"font-weight: bold; text-align:right\">228</td>\n<td style=\"font-weight: bold; text-align:right\">171</td>\n<td style=\"font-weight: bold; text-align:right\">+33%</td>\n<td style=\"font-weight: bold; text-align:right\">1.0</td>\n<td style=\"font-weight: bold; text-align:right\">2</td>\n<td style=\"font-weight: bold; text-align:right\">1</td>\n<td style=\"font-weight: bold; text-align:right\">+100%</td>\n<td style=\"font-weight: bold; text-align:right\">0.0</td>\n<td style=\"font-weight: bold; text-align:right\">+0.2</td><td style=\"font-weight: bold; text-align:right\">0.0</td><td style=\"font-weight: bold; text-align:right\">229,488,994</td>\n<td data-continent=\"Asia\" style=\"display:none\">Asia</td>\n</tr><tr class=\"even\" role=\"row\" style=\"\">\n<td style=\"font-size:12px;color: grey;text-align:center;vertical-align:middle;\">67</td>\n<td style=\"font-weight: bold; font-size:15px; text-align:left;\"><a class=\"mt_a\" href=\"/coronavirus/country/trinidad-and-tobago/\">Trinidad and Tobago</a></td>\n<td class=\"sorting_1\" style=\"font-weight: bold; text-align:right\">226</td>\n<td style=\"font-weight: bold; text-align:right\">312</td>\n<td style=\"font-weight: bold; text-align:right\">-28%</td>\n<td style=\"font-weight: bold; text-align:right\">161</td>\n<td style=\"font-weight: bold; text-align:right\">3</td>\n<td style=\"font-weight: bold; text-align:right\">5</td>\n<td style=\"font-weight: bold; text-align:right\">-40%</td>\n<td style=\"font-weight: bold; text-align:right\">2</td>\n<td style=\"font-weight: bold; text-align:right\">-61</td><td style=\"font-weight: bold; text-align:right\">-1</td><td style=\"font-weight: bold; text-align:right\">1,406,585</td>\n<td data-continent=\"North America\" style=\"display:none\">North America</td>\n</tr><tr class=\"odd\" role=\"row\" style=\"\">\n<td style=\"font-size:12px;color: grey;text-align:center;vertical-align:middle;\">68</td>\n<td style=\"font-weight: bold; font-size:15px; text-align:left;\"><a class=\"mt_a\" href=\"/coronavirus/country/barbados/\">Barbados</a></td>\n<td class=\"sorting_1\" style=\"font-weight: bold; text-align:right\">211</td>\n<td style=\"font-weight: bold; text-align:right\">0</td>\n<td style=\"font-weight: bold; text-align:right\">+21,100%</td>\n<td style=\"font-weight: bold; text-align:right\">733</td>\n<td style=\"font-weight: bold; text-align:right\">2</td>\n<td style=\"font-weight: bold; text-align:right\">0</td>\n<td style=\"font-weight: bold; text-align:right\">+200%</td>\n<td style=\"font-weight: bold; text-align:right\">7</td>\n<td style=\"font-weight: bold; text-align:right\">+733</td><td style=\"font-weight: bold; text-align:right\">+7</td><td style=\"font-weight: bold; text-align:right\">288,023</td>\n<td data-continent=\"North America\" style=\"display:none\">North America</td>\n</tr><tr class=\"even\" role=\"row\" style=\"\">\n<td style=\"font-size:12px;color: grey;text-align:center;vertical-align:middle;\">69</td>\n<td style=\"font-weight: bold; font-size:15px; text-align:left;\"><a class=\"mt_a\" href=\"/coronavirus/country/finland/\">Finland</a></td>\n<td class=\"sorting_1\" style=\"font-weight: bold; text-align:right\">210</td>\n<td style=\"font-weight: bold; text-align:right\">527</td>\n<td style=\"font-weight: bold; text-align:right\">-60%</td>\n<td style=\"font-weight: bold; text-align:right\">38</td>\n<td style=\"font-weight: bold; text-align:right\">0</td>\n<td style=\"font-weight: bold; text-align:right\">4</td>\n<td style=\"font-weight: bold; text-align:right\">-100%</td>\n<td style=\"font-weight: bold; text-align:right\">0</td>\n<td style=\"font-weight: bold; text-align:right\">-57</td><td style=\"font-weight: bold; text-align:right\">-0.7</td><td style=\"font-weight: bold; text-align:right\">5,554,960</td>\n<td data-continent=\"Europe\" style=\"display:none\">Europe</td>\n</tr><tr class=\"odd\" role=\"row\" style=\"\">\n<td style=\"font-size:12px;color: grey;text-align:center;vertical-align:middle;\">70</td>\n<td style=\"font-weight: bold; font-size:15px; text-align:left;\"><a class=\"mt_a\" href=\"/coronavirus/country/thailand/\">Thailand</a></td>\n<td class=\"sorting_1\" style=\"font-weight: bold; text-align:right\">203</td>\n<td style=\"font-weight: bold; text-align:right\">392</td>\n<td style=\"font-weight: bold; text-align:right\">-48%</td>\n<td style=\"font-weight: bold; text-align:right\">3</td>\n<td style=\"font-weight: bold; text-align:right\">8</td>\n<td style=\"font-weight: bold; text-align:right\">12</td>\n<td style=\"font-weight: bold; text-align:right\">-33%</td>\n<td style=\"font-weight: bold; text-align:right\">0.1</td>\n<td style=\"font-weight: bold; text-align:right\">-3</td><td style=\"font-weight: bold; text-align:right\">-0.1</td><td style=\"font-weight: bold; text-align:right\">70,078,203</td>\n<td data-continent=\"Asia\" style=\"display:none\">Asia</td>\n</tr><tr class=\"even\" role=\"row\" style=\"\">\n<td style=\"font-size:12px;color: grey;text-align:center;vertical-align:middle;\">71</td>\n<td style=\"font-weight: bold; font-size:15px; text-align:left;\"><a class=\"mt_a\" href=\"/coronavirus/country/tunisia/\">Tunisia</a></td>\n<td class=\"sorting_1\" style=\"font-weight: bold; text-align:right\">187</td>\n<td style=\"font-weight: bold; text-align:right\">129</td>\n<td style=\"font-weight: bold; text-align:right\">+45%</td>\n<td style=\"font-weight: bold; text-align:right\">16</td>\n<td style=\"font-weight: bold; text-align:right\">4</td>\n<td style=\"font-weight: bold; text-align:right\">3</td>\n<td style=\"font-weight: bold; text-align:right\">+33%</td>\n<td style=\"font-weight: bold; text-align:right\">0.3</td>\n<td style=\"font-weight: bold; text-align:right\">+5</td><td style=\"font-weight: bold; text-align:right\">+0.1</td><td style=\"font-weight: bold; text-align:right\">12,046,656</td>\n<td data-continent=\"Africa\" style=\"display:none\">Africa</td>\n</tr><tr class=\"odd\" role=\"row\" style=\"\">\n<td style=\"font-size:12px;color: grey;text-align:center;vertical-align:middle;\">72</td>\n<td style=\"font-weight: bold; font-size:15px; text-align:left;\"><a class=\"mt_a\" href=\"/coronavirus/country/azerbaijan/\">Azerbaijan</a></td>\n<td class=\"sorting_1\" style=\"font-weight: bold; text-align:right\">160</td>\n<td style=\"font-weight: bold; text-align:right\">123</td>\n<td style=\"font-weight: bold; text-align:right\">+30%</td>\n<td style=\"font-weight: bold; text-align:right\">16</td>\n<td style=\"font-weight: bold; text-align:right\">14</td>\n<td style=\"font-weight: bold; text-align:right\">5</td>\n<td style=\"font-weight: bold; text-align:right\">+180%</td>\n<td style=\"font-weight: bold; text-align:right\">1</td>\n<td style=\"font-weight: bold; text-align:right\">+4</td><td style=\"font-weight: bold; text-align:right\">+0.9</td><td style=\"font-weight: bold; text-align:right\">10,300,205</td>\n<td data-continent=\"Asia\" style=\"display:none\">Asia</td>\n</tr><tr class=\"even\" role=\"row\" style=\"\">\n<td style=\"font-size:12px;color: grey;text-align:center;vertical-align:middle;\">73</td>\n<td style=\"font-weight: bold; font-size:15px; text-align:left;\"><a class=\"mt_a\" href=\"/coronavirus/country/guadeloupe/\">Guadeloupe</a></td>\n<td class=\"sorting_1\" style=\"font-weight: bold; text-align:right\">148</td>\n<td style=\"font-weight: bold; text-align:right\">0</td>\n<td style=\"font-weight: bold; text-align:right\">+14,800%</td>\n<td style=\"font-weight: bold; text-align:right\">370</td>\n<td style=\"font-weight: bold; text-align:right\">0</td>\n<td style=\"font-weight: bold; text-align:right\">0</td>\n<td style=\"font-weight: bold; text-align:right\">0%</td>\n<td style=\"font-weight: bold; text-align:right\">0</td>\n<td style=\"font-weight: bold; text-align:right\">+370</td><td style=\"font-weight: bold; text-align:right\">0</td><td style=\"font-weight: bold; text-align:right\">399,794</td>\n<td data-continent=\"North America\" style=\"display:none\">North America</td>\n</tr><tr class=\"odd\" role=\"row\" style=\"\">\n<td style=\"font-size:12px;color: grey;text-align:center;vertical-align:middle;\">74</td>\n<td style=\"font-weight: bold; font-size:15px; text-align:left;\"><a class=\"mt_a\" href=\"/coronavirus/country/afghanistan/\">Afghanistan</a></td>\n<td class=\"sorting_1\" style=\"font-weight: bold; text-align:right\">135</td>\n<td style=\"font-weight: bold; text-align:right\">139</td>\n<td style=\"font-weight: bold; text-align:right\">-3%</td>\n<td style=\"font-weight: bold; text-align:right\">3</td>\n<td style=\"font-weight: bold; text-align:right\">0</td>\n<td style=\"font-weight: bold; text-align:right\">0</td>\n<td style=\"font-weight: bold; text-align:right\">0%</td>\n<td style=\"font-weight: bold; text-align:right\">0</td>\n<td style=\"font-weight: bold; text-align:right\">-0.1</td><td style=\"font-weight: bold; text-align:right\">0</td><td style=\"font-weight: bold; text-align:right\">40,754,388</td>\n<td data-continent=\"Asia\" style=\"display:none\">Asia</td>\n</tr><tr class=\"even\" role=\"row\" style=\"\">\n<td style=\"font-size:12px;color: grey;text-align:center;vertical-align:middle;\">75</td>\n<td style=\"font-weight: bold; font-size:15px; text-align:left;\"><a class=\"mt_a\" href=\"/coronavirus/country/nauru/\">Nauru</a></td>\n<td class=\"sorting_1\" style=\"font-weight: bold; text-align:right\">126</td>\n<td style=\"font-weight: bold; text-align:right\">306</td>\n<td style=\"font-weight: bold; text-align:right\">-59%</td>\n<td style=\"font-weight: bold; text-align:right\">11,556</td>\n<td style=\"font-weight: bold; text-align:right\">0</td>\n<td style=\"font-weight: bold; text-align:right\">0</td>\n<td style=\"font-weight: bold; text-align:right\">0%</td>\n<td style=\"font-weight: bold; text-align:right\">0</td>\n<td style=\"font-weight: bold; text-align:right\">-16,509</td><td style=\"font-weight: bold; text-align:right\">0</td><td style=\"font-weight: bold; text-align:right\">10,903</td>\n<td data-continent=\"Australia/Oceania\" style=\"display:none\">Australia/Oceania</td>\n</tr><tr class=\"odd\" role=\"row\" style=\"\">\n<td style=\"font-size:12px;color: grey;text-align:center;vertical-align:middle;\">76</td>\n<td style=\"font-weight: bold; font-size:15px; text-align:left;\"><a class=\"mt_a\" href=\"/coronavirus/country/macedonia/\">North Macedonia</a></td>\n<td class=\"sorting_1\" style=\"font-weight: bold; text-align:right\">119</td>\n<td style=\"font-weight: bold; text-align:right\">0</td>\n<td style=\"font-weight: bold; text-align:right\">+11,900%</td>\n<td style=\"font-weight: bold; text-align:right\">57</td>\n<td style=\"font-weight: bold; text-align:right\">9</td>\n<td style=\"font-weight: bold; text-align:right\">0</td>\n<td style=\"font-weight: bold; text-align:right\">+900%</td>\n<td style=\"font-weight: bold; text-align:right\">4</td>\n<td style=\"font-weight: bold; text-align:right\">+57</td><td style=\"font-weight: bold; text-align:right\">+4</td><td style=\"font-weight: bold; text-align:right\">2,081,304</td>\n<td data-continent=\"Europe\" style=\"display:none\">Europe</td>\n</tr><tr class=\"even\" role=\"row\" style=\"\">\n<td style=\"font-size:12px;color: grey;text-align:center;vertical-align:middle;\">77</td>\n<td style=\"font-weight: bold; font-size:15px; text-align:left;\"><a class=\"mt_a\" href=\"/coronavirus/country/latvia/\">Latvia</a></td>\n<td class=\"sorting_1\" style=\"font-weight: bold; text-align:right\">118</td>\n<td style=\"font-weight: bold; text-align:right\">171</td>\n<td style=\"font-weight: bold; text-align:right\">-31%</td>\n<td style=\"font-weight: bold; text-align:right\">64</td>\n<td style=\"font-weight: bold; text-align:right\">4</td>\n<td style=\"font-weight: bold; text-align:right\">8</td>\n<td style=\"font-weight: bold; text-align:right\">-50%</td>\n<td style=\"font-weight: bold; text-align:right\">2</td>\n<td style=\"font-weight: bold; text-align:right\">-29</td><td style=\"font-weight: bold; text-align:right\">-2</td><td style=\"font-weight: bold; text-align:right\">1,848,837</td>\n<td data-continent=\"Europe\" style=\"display:none\">Europe</td>\n</tr><tr class=\"odd\" role=\"row\" style=\"\">\n<td style=\"font-size:12px;color: grey;text-align:center;vertical-align:middle;\">78</td>\n<td style=\"font-weight: bold; font-size:15px; text-align:left;\"><a class=\"mt_a\" href=\"/coronavirus/country/kazakhstan/\">Kazakhstan</a></td>\n<td class=\"sorting_1\" style=\"font-weight: bold; text-align:right\">110</td>\n<td style=\"font-weight: bold; text-align:right\">559</td>\n<td style=\"font-weight: bold; text-align:right\">-80%</td>\n<td style=\"font-weight: bold; text-align:right\">6</td>\n<td style=\"font-weight: bold; text-align:right\">0</td>\n<td style=\"font-weight: bold; text-align:right\">3</td>\n<td style=\"font-weight: bold; text-align:right\">-100%</td>\n<td style=\"font-weight: bold; text-align:right\">0</td>\n<td style=\"font-weight: bold; text-align:right\">-23</td><td style=\"font-weight: bold; text-align:right\">-0.2</td><td style=\"font-weight: bold; text-align:right\">19,205,043</td>\n<td data-continent=\"Asia\" style=\"display:none\">Asia</td>\n</tr><tr class=\"even\" role=\"row\" style=\"\">\n<td style=\"font-size:12px;color: grey;text-align:center;vertical-align:middle;\">79</td>\n<td style=\"font-weight: bold; font-size:15px; text-align:left;\"><a class=\"mt_a\" href=\"/coronavirus/country/ethiopia/\">Ethiopia</a></td>\n<td class=\"sorting_1\" style=\"font-weight: bold; text-align:right\">94</td>\n<td style=\"font-weight: bold; text-align:right\">100</td>\n<td style=\"font-weight: bold; text-align:right\">-6%</td>\n<td style=\"font-weight: bold; text-align:right\">0.8</td>\n<td style=\"font-weight: bold; text-align:right\">0</td>\n<td style=\"font-weight: bold; text-align:right\">0</td>\n<td style=\"font-weight: bold; text-align:right\">0%</td>\n<td style=\"font-weight: bold; text-align:right\">0</td>\n<td style=\"font-weight: bold; text-align:right\">0.0</td><td style=\"font-weight: bold; text-align:right\">0</td><td style=\"font-weight: bold; text-align:right\">120,812,698</td>\n<td data-continent=\"Africa\" style=\"display:none\">Africa</td>\n</tr><tr class=\"odd\" role=\"row\" style=\"\">\n<td style=\"font-size:12px;color: grey;text-align:center;vertical-align:middle;\">80</td>\n<td style=\"font-weight: bold; font-size:15px; text-align:left;\"><a class=\"mt_a\" href=\"/coronavirus/country/viet-nam/\">Vietnam</a></td>\n<td class=\"sorting_1\" style=\"font-weight: bold; text-align:right\">91</td>\n<td style=\"font-weight: bold; text-align:right\">118</td>\n<td style=\"font-weight: bold; text-align:right\">-23%</td>\n<td style=\"font-weight: bold; text-align:right\">0.9</td>\n<td style=\"font-weight: bold; text-align:right\">0</td>\n<td style=\"font-weight: bold; text-align:right\">0</td>\n<td style=\"font-weight: bold; text-align:right\">0%</td>\n<td style=\"font-weight: bold; text-align:right\">0</td>\n<td style=\"font-weight: bold; text-align:right\">-0.3</td><td style=\"font-weight: bold; text-align:right\">0</td><td style=\"font-weight: bold; text-align:right\">98,953,541</td>\n<td data-continent=\"Asia\" style=\"display:none\">Asia</td>\n</tr><tr class=\"even\" role=\"row\" style=\"\">\n<td style=\"font-size:12px;color: grey;text-align:center;vertical-align:middle;\">81</td>\n<td style=\"font-weight: bold; font-size:15px; text-align:left;\"><a class=\"mt_a\" href=\"/coronavirus/country/malta/\">Malta</a></td>\n<td class=\"sorting_1\" style=\"font-weight: bold; text-align:right\">90</td>\n<td style=\"font-weight: bold; text-align:right\">82</td>\n<td style=\"font-weight: bold; text-align:right\">+10%</td>\n<td style=\"font-weight: bold; text-align:right\">203</td>\n<td style=\"font-weight: bold; text-align:right\">1</td>\n<td style=\"font-weight: bold; text-align:right\">0</td>\n<td style=\"font-weight: bold; text-align:right\">+100%</td>\n<td style=\"font-weight: bold; text-align:right\">2</td>\n<td style=\"font-weight: bold; text-align:right\">+18</td><td style=\"font-weight: bold; text-align:right\">+2</td><td style=\"font-weight: bold; text-align:right\">444,033</td>\n<td data-continent=\"Europe\" style=\"display:none\">Europe</td>\n</tr><tr class=\"odd\" role=\"row\" style=\"\">\n<td style=\"font-size:12px;color: grey;text-align:center;vertical-align:middle;\">82</td>\n<td style=\"font-weight: bold; font-size:15px; text-align:left;\"><a class=\"mt_a\" href=\"/coronavirus/country/mali/\">Mali</a></td>\n<td class=\"sorting_1\" style=\"font-weight: bold; text-align:right\">84</td>\n<td style=\"font-weight: bold; text-align:right\">81</td>\n<td style=\"font-weight: bold; text-align:right\">+4%</td>\n<td style=\"font-weight: bold; text-align:right\">4</td>\n<td style=\"font-weight: bold; text-align:right\">0</td>\n<td style=\"font-weight: bold; text-align:right\">0</td>\n<td style=\"font-weight: bold; text-align:right\">0%</td>\n<td style=\"font-weight: bold; text-align:right\">0</td>\n<td style=\"font-weight: bold; text-align:right\">+0.1</td><td style=\"font-weight: bold; text-align:right\">0</td><td style=\"font-weight: bold; text-align:right\">21,473,764</td>\n<td data-continent=\"Africa\" style=\"display:none\">Africa</td>\n</tr><tr class=\"even\" role=\"row\" style=\"\">\n<td style=\"font-size:12px;color: grey;text-align:center;vertical-align:middle;\">83</td>\n<td style=\"font-weight: bold; font-size:15px; text-align:left;\"><a class=\"mt_a\" href=\"/coronavirus/country/iceland/\">Iceland</a></td>\n<td class=\"sorting_1\" style=\"font-weight: bold; text-align:right\">78</td>\n<td style=\"font-weight: bold; text-align:right\">82</td>\n<td style=\"font-weight: bold; text-align:right\">-5%</td>\n<td style=\"font-weight: bold; text-align:right\">226</td>\n<td style=\"font-weight: bold; text-align:right\">0</td>\n<td style=\"font-weight: bold; text-align:right\">0</td>\n<td style=\"font-weight: bold; text-align:right\">0%</td>\n<td style=\"font-weight: bold; text-align:right\">0</td>\n<td style=\"font-weight: bold; text-align:right\">-12</td><td style=\"font-weight: bold; text-align:right\">0</td><td style=\"font-weight: bold; text-align:right\">345,393</td>\n<td data-continent=\"Europe\" style=\"display:none\">Europe</td>\n</tr><tr class=\"odd\" role=\"row\" style=\"\">\n<td style=\"font-size:12px;color: grey;text-align:center;vertical-align:middle;\">84</td>\n<td style=\"font-weight: bold; font-size:15px; text-align:left;\"><a class=\"mt_a\" href=\"/coronavirus/country/cote-d-ivoire/\">Ivory Coast</a></td>\n<td class=\"sorting_1\" style=\"font-weight: bold; text-align:right\">73</td>\n<td style=\"font-weight: bold; text-align:right\">46</td>\n<td style=\"font-weight: bold; text-align:right\">+59%</td>\n<td style=\"font-weight: bold; text-align:right\">3</td>\n<td style=\"font-weight: bold; text-align:right\">0</td>\n<td style=\"font-weight: bold; text-align:right\">0</td>\n<td style=\"font-weight: bold; text-align:right\">0%</td>\n<td style=\"font-weight: bold; text-align:right\">0</td>\n<td style=\"font-weight: bold; text-align:right\">+1.0</td><td style=\"font-weight: bold; text-align:right\">0</td><td style=\"font-weight: bold; text-align:right\">27,742,298</td>\n<td data-continent=\"Africa\" style=\"display:none\">Africa</td>\n</tr><tr class=\"even\" role=\"row\" style=\"\">\n<td style=\"font-size:12px;color: grey;text-align:center;vertical-align:middle;\">85</td>\n<td style=\"font-weight: bold; font-size:15px; text-align:left;\"><a class=\"mt_a\" href=\"/coronavirus/country/croatia/\">Croatia</a></td>\n<td class=\"sorting_1\" style=\"font-weight: bold; text-align:right\">71</td>\n<td style=\"font-weight: bold; text-align:right\">371</td>\n<td style=\"font-weight: bold; text-align:right\">-81%</td>\n<td style=\"font-weight: bold; text-align:right\">17</td>\n<td style=\"font-weight: bold; text-align:right\">5</td>\n<td style=\"font-weight: bold; text-align:right\">22</td>\n<td style=\"font-weight: bold; text-align:right\">-77%</td>\n<td style=\"font-weight: bold; text-align:right\">1</td>\n<td style=\"font-weight: bold; text-align:right\">-74</td><td style=\"font-weight: bold; text-align:right\">-4</td><td style=\"font-weight: bold; text-align:right\">4,059,286</td>\n<td data-continent=\"Europe\" style=\"display:none\">Europe</td>\n</tr><tr class=\"odd\" role=\"row\" style=\"\">\n<td style=\"font-size:12px;color: grey;text-align:center;vertical-align:middle;\">86</td>\n<td style=\"font-weight: bold; font-size:15px; text-align:left;\"><a class=\"mt_a\" href=\"/coronavirus/country/botswana/\">Botswana</a></td>\n<td class=\"sorting_1\" style=\"font-weight: bold; text-align:right\">67</td>\n<td style=\"font-weight: bold; text-align:right\">101</td>\n<td style=\"font-weight: bold; text-align:right\">-34%</td>\n<td style=\"font-weight: bold; text-align:right\">27</td>\n<td style=\"font-weight: bold; text-align:right\">0</td>\n<td style=\"font-weight: bold; text-align:right\">0</td>\n<td style=\"font-weight: bold; text-align:right\">0%</td>\n<td style=\"font-weight: bold; text-align:right\">0</td>\n<td style=\"font-weight: bold; text-align:right\">-14</td><td style=\"font-weight: bold; text-align:right\">0</td><td style=\"font-weight: bold; text-align:right\">2,441,162</td>\n<td data-continent=\"Africa\" style=\"display:none\">Africa</td>\n</tr><tr class=\"even\" role=\"row\" style=\"\">\n<td style=\"font-size:12px;color: grey;text-align:center;vertical-align:middle;\">87</td>\n<td style=\"font-weight: bold; font-size:15px; text-align:left;\"><a class=\"mt_a\" href=\"/coronavirus/country/albania/\">Albania</a></td>\n<td class=\"sorting_1\" style=\"font-weight: bold; text-align:right\">64</td>\n<td style=\"font-weight: bold; text-align:right\">59</td>\n<td style=\"font-weight: bold; text-align:right\">+8%</td>\n<td style=\"font-weight: bold; text-align:right\">22</td>\n<td style=\"font-weight: bold; text-align:right\">0</td>\n<td style=\"font-weight: bold; text-align:right\">1</td>\n<td style=\"font-weight: bold; text-align:right\">-100%</td>\n<td style=\"font-weight: bold; text-align:right\">0</td>\n<td style=\"font-weight: bold; text-align:right\">+2</td><td style=\"font-weight: bold; text-align:right\">-0.3</td><td style=\"font-weight: bold; text-align:right\">2,866,374</td>\n<td data-continent=\"Europe\" style=\"display:none\">Europe</td>\n</tr><tr class=\"odd\" role=\"row\" style=\"\">\n<td style=\"font-size:12px;color: grey;text-align:center;vertical-align:middle;\">88</td>\n<td style=\"font-weight: bold; font-size:15px; text-align:left;\"><a class=\"mt_a\" href=\"/coronavirus/country/venezuela/\">Venezuela</a></td>\n<td class=\"sorting_1\" style=\"font-weight: bold; text-align:right\">63</td>\n<td style=\"font-weight: bold; text-align:right\">110</td>\n<td style=\"font-weight: bold; text-align:right\">-43%</td>\n<td style=\"font-weight: bold; text-align:right\">2</td>\n<td style=\"font-weight: bold; text-align:right\">1</td>\n<td style=\"font-weight: bold; text-align:right\">1</td>\n<td style=\"font-weight: bold; text-align:right\">0%</td>\n<td style=\"font-weight: bold; text-align:right\">0.0</td>\n<td style=\"font-weight: bold; text-align:right\">-2</td><td style=\"font-weight: bold; text-align:right\">0</td><td style=\"font-weight: bold; text-align:right\">29,266,991</td>\n<td data-continent=\"South America\" style=\"display:none\">South America</td>\n</tr><tr class=\"even\" role=\"row\" style=\"\">\n<td style=\"font-size:12px;color: grey;text-align:center;vertical-align:middle;\">89</td>\n<td style=\"font-weight: bold; font-size:15px; text-align:left;\"><a class=\"mt_a\" href=\"/coronavirus/country/channel-islands/\">Channel Islands</a></td>\n<td class=\"sorting_1\" style=\"font-weight: bold; text-align:right\">62</td>\n<td style=\"font-weight: bold; text-align:right\">53</td>\n<td style=\"font-weight: bold; text-align:right\">+17%</td>\n<td style=\"font-weight: bold; text-align:right\">351</td>\n<td style=\"font-weight: bold; text-align:right\">0</td>\n<td style=\"font-weight: bold; text-align:right\">0</td>\n<td style=\"font-weight: bold; text-align:right\">0%</td>\n<td style=\"font-weight: bold; text-align:right\">0</td>\n<td style=\"font-weight: bold; text-align:right\">+51</td><td style=\"font-weight: bold; text-align:right\">0</td><td style=\"font-weight: bold; text-align:right\">176,463</td>\n<td data-continent=\"Europe\" style=\"display:none\">Europe</td>\n</tr><tr class=\"odd\" role=\"row\" style=\"\">\n<td style=\"font-size:12px;color: grey;text-align:center;vertical-align:middle;\">90</td>\n<td style=\"font-weight: bold; font-size:15px; text-align:left;\"><a class=\"mt_a\" href=\"/coronavirus/country/morocco/\">Morocco</a></td>\n<td class=\"sorting_1\" style=\"font-weight: bold; text-align:right\">62</td>\n<td style=\"font-weight: bold; text-align:right\">48</td>\n<td style=\"font-weight: bold; text-align:right\">+29%</td>\n<td style=\"font-weight: bold; text-align:right\">2</td>\n<td style=\"font-weight: bold; text-align:right\">0</td>\n<td style=\"font-weight: bold; text-align:right\">0</td>\n<td style=\"font-weight: bold; text-align:right\">0%</td>\n<td style=\"font-weight: bold; text-align:right\">0</td>\n<td style=\"font-weight: bold; text-align:right\">+0.4</td><td style=\"font-weight: bold; text-align:right\">0</td><td style=\"font-weight: bold; text-align:right\">37,772,756</td>\n<td data-continent=\"Africa\" style=\"display:none\">Africa</td>\n</tr><tr class=\"even\" role=\"row\" style=\"\">\n<td style=\"font-size:12px;color: grey;text-align:center;vertical-align:middle;\">91</td>\n<td style=\"font-weight: bold; font-size:15px; text-align:left;\"><a class=\"mt_a\" href=\"/coronavirus/country/namibia/\">Namibia</a></td>\n<td class=\"sorting_1\" style=\"font-weight: bold; text-align:right\">62</td>\n<td style=\"font-weight: bold; text-align:right\">318</td>\n<td style=\"font-weight: bold; text-align:right\">-81%</td>\n<td style=\"font-weight: bold; text-align:right\">24</td>\n<td style=\"font-weight: bold; text-align:right\">0</td>\n<td style=\"font-weight: bold; text-align:right\">2</td>\n<td style=\"font-weight: bold; text-align:right\">-100%</td>\n<td style=\"font-weight: bold; text-align:right\">0</td>\n<td style=\"font-weight: bold; text-align:right\">-97</td><td style=\"font-weight: bold; text-align:right\">-0.8</td><td style=\"font-weight: bold; text-align:right\">2,633,874</td>\n<td data-continent=\"Africa\" style=\"display:none\">Africa</td>\n</tr><tr class=\"odd\" role=\"row\" style=\"\">\n<td style=\"font-size:12px;color: grey;text-align:center;vertical-align:middle;\">92</td>\n<td style=\"font-weight: bold; font-size:15px; text-align:left;\"><a class=\"mt_a\" href=\"/coronavirus/country/uzbekistan/\">Uzbekistan</a></td>\n<td class=\"sorting_1\" style=\"font-weight: bold; text-align:right\">59</td>\n<td style=\"font-weight: bold; text-align:right\">130</td>\n<td style=\"font-weight: bold; text-align:right\">-55%</td>\n<td style=\"font-weight: bold; text-align:right\">2</td>\n<td style=\"font-weight: bold; text-align:right\">0</td>\n<td style=\"font-weight: bold; text-align:right\">0</td>\n<td style=\"font-weight: bold; text-align:right\">0%</td>\n<td style=\"font-weight: bold; text-align:right\">0</td>\n<td style=\"font-weight: bold; text-align:right\">-2</td><td style=\"font-weight: bold; text-align:right\">0</td><td style=\"font-weight: bold; text-align:right\">34,382,084</td>\n<td data-continent=\"Asia\" style=\"display:none\">Asia</td>\n</tr><tr class=\"even\" role=\"row\" style=\"\">\n<td style=\"font-size:12px;color: grey;text-align:center;vertical-align:middle;\">93</td>\n<td style=\"font-weight: bold; font-size:15px; text-align:left;\"><a class=\"mt_a\" href=\"/coronavirus/country/bosnia-and-herzegovina/\">Bosnia and Herzegovina</a></td>\n<td class=\"sorting_1\" style=\"font-weight: bold; text-align:right\">48</td>\n<td style=\"font-weight: bold; text-align:right\">55</td>\n<td style=\"font-weight: bold; text-align:right\">-13%</td>\n<td style=\"font-weight: bold; text-align:right\">15</td>\n<td style=\"font-weight: bold; text-align:right\">11</td>\n<td style=\"font-weight: bold; text-align:right\">6</td>\n<td style=\"font-weight: bold; text-align:right\">+83%</td>\n<td style=\"font-weight: bold; text-align:right\">3</td>\n<td style=\"font-weight: bold; text-align:right\">-2</td><td style=\"font-weight: bold; text-align:right\">+2</td><td style=\"font-weight: bold; text-align:right\">3,249,317</td>\n<td data-continent=\"Europe\" style=\"display:none\">Europe</td>\n</tr><tr class=\"odd\" role=\"row\" style=\"\">\n<td style=\"font-size:12px;color: grey;text-align:center;vertical-align:middle;\">94</td>\n<td style=\"font-weight: bold; font-size:15px; text-align:left;\"><a class=\"mt_a\" href=\"/coronavirus/country/tanzania/\">Tanzania</a></td>\n<td class=\"sorting_1\" style=\"font-weight: bold; text-align:right\">48</td>\n<td style=\"font-weight: bold; text-align:right\">58</td>\n<td style=\"font-weight: bold; text-align:right\">-17%</td>\n<td style=\"font-weight: bold; text-align:right\">0.8</td>\n<td style=\"font-weight: bold; text-align:right\">0</td>\n<td style=\"font-weight: bold; text-align:right\">0</td>\n<td style=\"font-weight: bold; text-align:right\">0%</td>\n<td style=\"font-weight: bold; text-align:right\">0</td>\n<td style=\"font-weight: bold; text-align:right\">-0.2</td><td style=\"font-weight: bold; text-align:right\">0</td><td style=\"font-weight: bold; text-align:right\">63,298,550</td>\n<td data-continent=\"Africa\" style=\"display:none\">Africa</td>\n</tr><tr class=\"even\" role=\"row\" style=\"\">\n<td style=\"font-size:12px;color: grey;text-align:center;vertical-align:middle;\">95</td>\n<td style=\"font-weight: bold; font-size:15px; text-align:left;\"><a class=\"mt_a\" href=\"/coronavirus/country/dominican-republic/\">Dominican Republic</a></td>\n<td class=\"sorting_1\" style=\"font-weight: bold; text-align:right\">41</td>\n<td style=\"font-weight: bold; text-align:right\">80</td>\n<td style=\"font-weight: bold; text-align:right\">-49%</td>\n<td style=\"font-weight: bold; text-align:right\">4</td>\n<td style=\"font-weight: bold; text-align:right\">0</td>\n<td style=\"font-weight: bold; text-align:right\">0</td>\n<td style=\"font-weight: bold; text-align:right\">0%</td>\n<td style=\"font-weight: bold; text-align:right\">0</td>\n<td style=\"font-weight: bold; text-align:right\">-4</td><td style=\"font-weight: bold; text-align:right\">0</td><td style=\"font-weight: bold; text-align:right\">11,056,370</td>\n<td data-continent=\"North America\" style=\"display:none\">North America</td>\n</tr><tr class=\"odd\" role=\"row\" style=\"\">\n<td style=\"font-size:12px;color: grey;text-align:center;vertical-align:middle;\">96</td>\n<td style=\"font-weight: bold; font-size:15px; text-align:left;\"><a class=\"mt_a\" href=\"/coronavirus/country/malawi/\">Malawi</a></td>\n<td class=\"sorting_1\" style=\"font-weight: bold; text-align:right\">41</td>\n<td style=\"font-weight: bold; text-align:right\">81</td>\n<td style=\"font-weight: bold; text-align:right\">-49%</td>\n<td style=\"font-weight: bold; text-align:right\">2</td>\n<td style=\"font-weight: bold; text-align:right\">0</td>\n<td style=\"font-weight: bold; text-align:right\">0</td>\n<td style=\"font-weight: bold; text-align:right\">0%</td>\n<td style=\"font-weight: bold; text-align:right\">0</td>\n<td style=\"font-weight: bold; text-align:right\">-2</td><td style=\"font-weight: bold; text-align:right\">0</td><td style=\"font-weight: bold; text-align:right\">20,180,839</td>\n<td data-continent=\"Africa\" style=\"display:none\">Africa</td>\n</tr><tr class=\"even\" role=\"row\" style=\"\">\n<td style=\"font-size:12px;color: grey;text-align:center;vertical-align:middle;\">97</td>\n<td style=\"font-weight: bold; font-size:15px; text-align:left;\"><a class=\"mt_a\" href=\"/coronavirus/country/bangladesh/\">Bangladesh</a></td>\n<td class=\"sorting_1\" style=\"font-weight: bold; text-align:right\">35</td>\n<td style=\"font-weight: bold; text-align:right\">59</td>\n<td style=\"font-weight: bold; text-align:right\">-41%</td>\n<td style=\"font-weight: bold; text-align:right\">0.2</td>\n<td style=\"font-weight: bold; text-align:right\">0</td>\n<td style=\"font-weight: bold; text-align:right\">1</td>\n<td style=\"font-weight: bold; text-align:right\">-100%</td>\n<td style=\"font-weight: bold; text-align:right\">0</td>\n<td style=\"font-weight: bold; text-align:right\">-0.1</td><td style=\"font-weight: bold; text-align:right\">0.0</td><td style=\"font-weight: bold; text-align:right\">167,885,689</td>\n<td data-continent=\"Asia\" style=\"display:none\">Asia</td>\n</tr><tr class=\"odd\" role=\"row\" style=\"\">\n<td style=\"font-size:12px;color: grey;text-align:center;vertical-align:middle;\">98</td>\n<td style=\"font-weight: bold; font-size:15px; text-align:left;\"><a class=\"mt_a\" href=\"/coronavirus/country/cuba/\">Cuba</a></td>\n<td class=\"sorting_1\" style=\"font-weight: bold; text-align:right\">35</td>\n<td style=\"font-weight: bold; text-align:right\">32</td>\n<td style=\"font-weight: bold; text-align:right\">+9%</td>\n<td style=\"font-weight: bold; text-align:right\">3</td>\n<td style=\"font-weight: bold; text-align:right\">0</td>\n<td style=\"font-weight: bold; text-align:right\">0</td>\n<td style=\"font-weight: bold; text-align:right\">0%</td>\n<td style=\"font-weight: bold; text-align:right\">0</td>\n<td style=\"font-weight: bold; text-align:right\">+0.3</td><td style=\"font-weight: bold; text-align:right\">0</td><td style=\"font-weight: bold; text-align:right\">11,305,652</td>\n<td data-continent=\"North America\" style=\"display:none\">North America</td>\n</tr><tr class=\"even\" role=\"row\" style=\"\">\n<td style=\"font-size:12px;color: grey;text-align:center;vertical-align:middle;\">99</td>\n<td style=\"font-weight: bold; font-size:15px; text-align:left;\"><a class=\"mt_a\" href=\"/coronavirus/country/kenya/\">Kenya</a></td>\n<td class=\"sorting_1\" style=\"font-weight: bold; text-align:right\">26</td>\n<td style=\"font-weight: bold; text-align:right\">57</td>\n<td style=\"font-weight: bold; text-align:right\">-54%</td>\n<td style=\"font-weight: bold; text-align:right\">0.5</td>\n<td style=\"font-weight: bold; text-align:right\">0</td>\n<td style=\"font-weight: bold; text-align:right\">0</td>\n<td style=\"font-weight: bold; text-align:right\">0%</td>\n<td style=\"font-weight: bold; text-align:right\">0</td>\n<td style=\"font-weight: bold; text-align:right\">-0.6</td><td style=\"font-weight: bold; text-align:right\">0</td><td style=\"font-weight: bold; text-align:right\">56,215,221</td>\n<td data-continent=\"Africa\" style=\"display:none\">Africa</td>\n</tr><tr class=\"odd\" role=\"row\" style=\"\">\n<td style=\"font-size:12px;color: grey;text-align:center;vertical-align:middle;\">100</td>\n<td style=\"font-weight: bold; font-size:15px; text-align:left;\"><a class=\"mt_a\" href=\"/coronavirus/country/kyrgyzstan/\">Kyrgyzstan</a></td>\n<td class=\"sorting_1\" style=\"font-weight: bold; text-align:right\">22</td>\n<td style=\"font-weight: bold; text-align:right\">12</td>\n<td style=\"font-weight: bold; text-align:right\">+83%</td>\n<td style=\"font-weight: bold; text-align:right\">3</td>\n<td style=\"font-weight: bold; text-align:right\">0</td>\n<td style=\"font-weight: bold; text-align:right\">0</td>\n<td style=\"font-weight: bold; text-align:right\">0%</td>\n<td style=\"font-weight: bold; text-align:right\">0</td>\n<td style=\"font-weight: bold; text-align:right\">+1</td><td style=\"font-weight: bold; text-align:right\">0</td><td style=\"font-weight: bold; text-align:right\">6,728,271</td>\n<td data-continent=\"Asia\" style=\"display:none\">Asia</td>\n</tr><tr class=\"even\" role=\"row\" style=\"\">\n<td style=\"font-size:12px;color: grey;text-align:center;vertical-align:middle;\">101</td>\n<td style=\"font-weight: bold; font-size:15px; text-align:left;\"><a class=\"mt_a\" href=\"/coronavirus/country/angola/\">Angola</a></td>\n<td class=\"sorting_1\" style=\"font-weight: bold; text-align:right\">21</td>\n<td style=\"font-weight: bold; text-align:right\">0</td>\n<td style=\"font-weight: bold; text-align:right\">+2,100%</td>\n<td style=\"font-weight: bold; text-align:right\">0.6</td>\n<td style=\"font-weight: bold; text-align:right\">0</td>\n<td style=\"font-weight: bold; text-align:right\">0</td>\n<td style=\"font-weight: bold; text-align:right\">0%</td>\n<td style=\"font-weight: bold; text-align:right\">0</td>\n<td style=\"font-weight: bold; text-align:right\">+0.6</td><td style=\"font-weight: bold; text-align:right\">0</td><td style=\"font-weight: bold; text-align:right\">35,027,343</td>\n<td data-continent=\"Africa\" style=\"display:none\">Africa</td>\n</tr><tr class=\"odd\" role=\"row\" style=\"\">\n<td style=\"font-size:12px;color: grey;text-align:center;vertical-align:middle;\">102</td>\n<td style=\"font-weight: bold; font-size:15px; text-align:left;\"><a class=\"mt_a\" href=\"/coronavirus/country/belize/\">Belize</a></td>\n<td class=\"sorting_1\" style=\"font-weight: bold; text-align:right\">19</td>\n<td style=\"font-weight: bold; text-align:right\">24</td>\n<td style=\"font-weight: bold; text-align:right\">-21%</td>\n<td style=\"font-weight: bold; text-align:right\">46</td>\n<td style=\"font-weight: bold; text-align:right\">0</td>\n<td style=\"font-weight: bold; text-align:right\">0</td>\n<td style=\"font-weight: bold; text-align:right\">0%</td>\n<td style=\"font-weight: bold; text-align:right\">0</td>\n<td style=\"font-weight: bold; text-align:right\">-12</td><td style=\"font-weight: bold; text-align:right\">0</td><td style=\"font-weight: bold; text-align:right\">412,190</td>\n<td data-continent=\"North America\" style=\"display:none\">North America</td>\n</tr><tr class=\"even\" role=\"row\" style=\"\">\n<td style=\"font-size:12px;color: grey;text-align:center;vertical-align:middle;\">103</td>\n<td style=\"font-weight: bold; font-size:15px; text-align:left;\"><a class=\"mt_a\" href=\"/coronavirus/country/mauritius/\">Mauritius</a></td>\n<td class=\"sorting_1\" style=\"font-weight: bold; text-align:right\">19</td>\n<td style=\"font-weight: bold; text-align:right\">21</td>\n<td style=\"font-weight: bold; text-align:right\">-10%</td>\n<td style=\"font-weight: bold; text-align:right\">15</td>\n<td style=\"font-weight: bold; text-align:right\">0</td>\n<td style=\"font-weight: bold; text-align:right\">0</td>\n<td style=\"font-weight: bold; text-align:right\">0%</td>\n<td style=\"font-weight: bold; text-align:right\">0</td>\n<td style=\"font-weight: bold; text-align:right\">-2</td><td style=\"font-weight: bold; text-align:right\">0</td><td style=\"font-weight: bold; text-align:right\">1,274,727</td>\n<td data-continent=\"Africa\" style=\"display:none\">Africa</td>\n</tr><tr class=\"odd\" role=\"row\" style=\"\">\n<td style=\"font-size:12px;color: grey;text-align:center;vertical-align:middle;\">104</td>\n<td style=\"font-weight: bold; font-size:15px; text-align:left;\"><a class=\"mt_a\" href=\"/coronavirus/country/niue/\">Niue</a></td>\n<td class=\"sorting_1\" style=\"font-weight: bold; text-align:right\">17</td>\n<td style=\"font-weight: bold; text-align:right\">22</td>\n<td style=\"font-weight: bold; text-align:right\">-23%</td>\n<td style=\"font-weight: bold; text-align:right\">10,481</td>\n<td style=\"font-weight: bold; text-align:right\">0</td>\n<td style=\"font-weight: bold; text-align:right\">0</td>\n<td style=\"font-weight: bold; text-align:right\">0%</td>\n<td style=\"font-weight: bold; text-align:right\">0</td>\n<td style=\"font-weight: bold; text-align:right\">-3,083</td><td style=\"font-weight: bold; text-align:right\">0</td><td style=\"font-weight: bold; text-align:right\">1,622</td>\n<td data-continent=\"Australia/Oceania\" style=\"display:none\">Australia/Oceania</td>\n</tr><tr class=\"even\" role=\"row\" style=\"\">\n<td style=\"font-size:12px;color: grey;text-align:center;vertical-align:middle;\">105</td>\n<td style=\"font-weight: bold; font-size:15px; text-align:left;\"><a class=\"mt_a\" href=\"/coronavirus/country/algeria/\">Algeria</a></td>\n<td class=\"sorting_1\" style=\"font-weight: bold; text-align:right\">15</td>\n<td style=\"font-weight: bold; text-align:right\">16</td>\n<td style=\"font-weight: bold; text-align:right\">-6%</td>\n<td style=\"font-weight: bold; text-align:right\">0.3</td>\n<td style=\"font-weight: bold; text-align:right\">0</td>\n<td style=\"font-weight: bold; text-align:right\">0</td>\n<td style=\"font-weight: bold; text-align:right\">0%</td>\n<td style=\"font-weight: bold; text-align:right\">0</td>\n<td style=\"font-weight: bold; text-align:right\">0.0</td><td style=\"font-weight: bold; text-align:right\">0</td><td style=\"font-weight: bold; text-align:right\">45,350,148</td>\n<td data-continent=\"Africa\" style=\"display:none\">Africa</td>\n</tr><tr class=\"odd\" role=\"row\" style=\"\">\n<td style=\"font-size:12px;color: grey;text-align:center;vertical-align:middle;\">106</td>\n<td style=\"font-weight: bold; font-size:15px; text-align:left;\"><a class=\"mt_a\" href=\"/coronavirus/country/equatorial-guinea/\">Equatorial Guinea</a></td>\n<td class=\"sorting_1\" style=\"font-weight: bold; text-align:right\">15</td>\n<td style=\"font-weight: bold; text-align:right\">2</td>\n<td style=\"font-weight: bold; text-align:right\">+650%</td>\n<td style=\"font-weight: bold; text-align:right\">10</td>\n<td style=\"font-weight: bold; text-align:right\">0</td>\n<td style=\"font-weight: bold; text-align:right\">0</td>\n<td style=\"font-weight: bold; text-align:right\">0%</td>\n<td style=\"font-weight: bold; text-align:right\">0</td>\n<td style=\"font-weight: bold; text-align:right\">+9</td><td style=\"font-weight: bold; text-align:right\">0</td><td style=\"font-weight: bold; text-align:right\">1,496,662</td>\n<td data-continent=\"Africa\" style=\"display:none\">Africa</td>\n</tr><tr class=\"even\" role=\"row\" style=\"\">\n<td style=\"font-size:12px;color: grey;text-align:center;vertical-align:middle;\">107</td>\n<td style=\"font-weight: bold; font-size:15px; text-align:left;\"><a class=\"mt_a\" href=\"/coronavirus/country/chad/\">Chad</a></td>\n<td class=\"sorting_1\" style=\"font-weight: bold; text-align:right\">14</td>\n<td style=\"font-weight: bold; text-align:right\">9</td>\n<td style=\"font-weight: bold; text-align:right\">+56%</td>\n<td style=\"font-weight: bold; text-align:right\">0.8</td>\n<td style=\"font-weight: bold; text-align:right\">0</td>\n<td style=\"font-weight: bold; text-align:right\">0</td>\n<td style=\"font-weight: bold; text-align:right\">0%</td>\n<td style=\"font-weight: bold; text-align:right\">0</td>\n<td style=\"font-weight: bold; text-align:right\">+0.3</td><td style=\"font-weight: bold; text-align:right\">0</td><td style=\"font-weight: bold; text-align:right\">17,413,580</td>\n<td data-continent=\"Africa\" style=\"display:none\">Africa</td>\n</tr><tr class=\"odd\" role=\"row\" style=\"\">\n<td style=\"font-size:12px;color: grey;text-align:center;vertical-align:middle;\">108</td>\n<td style=\"font-weight: bold; font-size:15px; text-align:left;\"><a class=\"mt_a\" href=\"/coronavirus/country/guyana/\">Guyana</a></td>\n<td class=\"sorting_1\" style=\"font-weight: bold; text-align:right\">14</td>\n<td style=\"font-weight: bold; text-align:right\">20</td>\n<td style=\"font-weight: bold; text-align:right\">-30%</td>\n<td style=\"font-weight: bold; text-align:right\">18</td>\n<td style=\"font-weight: bold; text-align:right\">0</td>\n<td style=\"font-weight: bold; text-align:right\">1</td>\n<td style=\"font-weight: bold; text-align:right\">-100%</td>\n<td style=\"font-weight: bold; text-align:right\">0</td>\n<td style=\"font-weight: bold; text-align:right\">-8</td><td style=\"font-weight: bold; text-align:right\">-1</td><td style=\"font-weight: bold; text-align:right\">794,045</td>\n<td data-continent=\"South America\" style=\"display:none\">South America</td>\n</tr><tr class=\"even\" role=\"row\" style=\"\">\n<td style=\"font-size:12px;color: grey;text-align:center;vertical-align:middle;\">109</td>\n<td style=\"font-weight: bold; font-size:15px; text-align:left;\"><a class=\"mt_a\" href=\"/coronavirus/country/uganda/\">Uganda</a></td>\n<td class=\"sorting_1\" style=\"font-weight: bold; text-align:right\">14</td>\n<td style=\"font-weight: bold; text-align:right\">64</td>\n<td style=\"font-weight: bold; text-align:right\">-78%</td>\n<td style=\"font-weight: bold; text-align:right\">0.3</td>\n<td style=\"font-weight: bold; text-align:right\">0</td>\n<td style=\"font-weight: bold; text-align:right\">0</td>\n<td style=\"font-weight: bold; text-align:right\">0%</td>\n<td style=\"font-weight: bold; text-align:right\">0</td>\n<td style=\"font-weight: bold; text-align:right\">-1</td><td style=\"font-weight: bold; text-align:right\">0</td><td style=\"font-weight: bold; text-align:right\">48,432,863</td>\n<td data-continent=\"Africa\" style=\"display:none\">Africa</td>\n</tr><tr class=\"odd\" role=\"row\" style=\"\">\n<td style=\"font-size:12px;color: grey;text-align:center;vertical-align:middle;\">110</td>\n<td style=\"font-weight: bold; font-size:15px; text-align:left;\"><a class=\"mt_a\" href=\"/coronavirus/country/fiji/\">Fiji</a></td>\n<td class=\"sorting_1\" style=\"font-weight: bold; text-align:right\">13</td>\n<td style=\"font-weight: bold; text-align:right\">12</td>\n<td style=\"font-weight: bold; text-align:right\">+8%</td>\n<td style=\"font-weight: bold; text-align:right\">14</td>\n<td style=\"font-weight: bold; text-align:right\">0</td>\n<td style=\"font-weight: bold; text-align:right\">0</td>\n<td style=\"font-weight: bold; text-align:right\">0%</td>\n<td style=\"font-weight: bold; text-align:right\">0</td>\n<td style=\"font-weight: bold; text-align:right\">+1</td><td style=\"font-weight: bold; text-align:right\">0</td><td style=\"font-weight: bold; text-align:right\">909,466</td>\n<td data-continent=\"Australia/Oceania\" style=\"display:none\">Australia/Oceania</td>\n</tr><tr class=\"even\" role=\"row\" style=\"\">\n<td style=\"font-size:12px;color: grey;text-align:center;vertical-align:middle;\">111</td>\n<td style=\"font-weight: bold; font-size:15px; text-align:left;\"><a class=\"mt_a\" href=\"/coronavirus/country/madagascar/\">Madagascar</a></td>\n<td class=\"sorting_1\" style=\"font-weight: bold; text-align:right\">13</td>\n<td style=\"font-weight: bold; text-align:right\">3</td>\n<td style=\"font-weight: bold; text-align:right\">+333%</td>\n<td style=\"font-weight: bold; text-align:right\">0.4</td>\n<td style=\"font-weight: bold; text-align:right\">1</td>\n<td style=\"font-weight: bold; text-align:right\">0</td>\n<td style=\"font-weight: bold; text-align:right\">+100%</td>\n<td style=\"font-weight: bold; text-align:right\">0.0</td>\n<td style=\"font-weight: bold; text-align:right\">+0.3</td><td style=\"font-weight: bold; text-align:right\">0.0</td><td style=\"font-weight: bold; text-align:right\">29,178,077</td>\n<td data-continent=\"Africa\" style=\"display:none\">Africa</td>\n</tr><tr class=\"odd\" role=\"row\" style=\"\">\n<td style=\"font-size:12px;color: grey;text-align:center;vertical-align:middle;\">112</td>\n<td style=\"font-weight: bold; font-size:15px; text-align:left;\"><a class=\"mt_a\" href=\"/coronavirus/country/samoa/\">Samoa</a></td>\n<td class=\"sorting_1\" style=\"font-weight: bold; text-align:right\">13</td>\n<td style=\"font-weight: bold; text-align:right\">192</td>\n<td style=\"font-weight: bold; text-align:right\">-93%</td>\n<td style=\"font-weight: bold; text-align:right\">64</td>\n<td style=\"font-weight: bold; text-align:right\">0</td>\n<td style=\"font-weight: bold; text-align:right\">0</td>\n<td style=\"font-weight: bold; text-align:right\">0%</td>\n<td style=\"font-weight: bold; text-align:right\">0</td>\n<td style=\"font-weight: bold; text-align:right\">-885</td><td style=\"font-weight: bold; text-align:right\">0</td><td style=\"font-weight: bold; text-align:right\">202,239</td>\n<td data-continent=\"Australia/Oceania\" style=\"display:none\">Australia/Oceania</td>\n</tr><tr class=\"even\" role=\"row\" style=\"\">\n<td style=\"font-size:12px;color: grey;text-align:center;vertical-align:middle;\">113</td>\n<td style=\"font-weight: bold; font-size:15px; text-align:left;\"><a class=\"mt_a\" href=\"/coronavirus/country/ghana/\">Ghana</a></td>\n<td class=\"sorting_1\" style=\"font-weight: bold; text-align:right\">12</td>\n<td style=\"font-weight: bold; text-align:right\">8</td>\n<td style=\"font-weight: bold; text-align:right\">+50%</td>\n<td style=\"font-weight: bold; text-align:right\">0.4</td>\n<td style=\"font-weight: bold; text-align:right\">0</td>\n<td style=\"font-weight: bold; text-align:right\">0</td>\n<td style=\"font-weight: bold; text-align:right\">0%</td>\n<td style=\"font-weight: bold; text-align:right\">0</td>\n<td style=\"font-weight: bold; text-align:right\">+0.1</td><td style=\"font-weight: bold; text-align:right\">0</td><td style=\"font-weight: bold; text-align:right\">32,395,450</td>\n<td data-continent=\"Africa\" style=\"display:none\">Africa</td>\n</tr><tr class=\"odd\" role=\"row\" style=\"\">\n<td style=\"font-size:12px;color: grey;text-align:center;vertical-align:middle;\">114</td>\n<td style=\"font-weight: bold; font-size:15px; text-align:left;\"><a class=\"mt_a\" href=\"/coronavirus/country/sudan/\">Sudan</a></td>\n<td class=\"sorting_1\" style=\"font-weight: bold; text-align:right\">12</td>\n<td style=\"font-weight: bold; text-align:right\">16</td>\n<td style=\"font-weight: bold; text-align:right\">-25%</td>\n<td style=\"font-weight: bold; text-align:right\">0.3</td>\n<td style=\"font-weight: bold; text-align:right\">0</td>\n<td style=\"font-weight: bold; text-align:right\">3</td>\n<td style=\"font-weight: bold; text-align:right\">-100%</td>\n<td style=\"font-weight: bold; text-align:right\">0</td>\n<td style=\"font-weight: bold; text-align:right\">-0.1</td><td style=\"font-weight: bold; text-align:right\">-0.1</td><td style=\"font-weight: bold; text-align:right\">45,992,020</td>\n<td data-continent=\"Africa\" style=\"display:none\">Africa</td>\n</tr><tr class=\"even\" role=\"row\" style=\"\">\n<td style=\"font-size:12px;color: grey;text-align:center;vertical-align:middle;\">115</td>\n<td style=\"font-weight: bold; font-size:15px; text-align:left;\"><a class=\"mt_a\" href=\"/coronavirus/country/myanmar/\">Myanmar</a></td>\n<td class=\"sorting_1\" style=\"font-weight: bold; text-align:right\">10</td>\n<td style=\"font-weight: bold; text-align:right\">35</td>\n<td style=\"font-weight: bold; text-align:right\">-71%</td>\n<td style=\"font-weight: bold; text-align:right\">0.2</td>\n<td style=\"font-weight: bold; text-align:right\">0</td>\n<td style=\"font-weight: bold; text-align:right\">0</td>\n<td style=\"font-weight: bold; text-align:right\">0%</td>\n<td style=\"font-weight: bold; text-align:right\">0</td>\n<td style=\"font-weight: bold; text-align:right\">-0.5</td><td style=\"font-weight: bold; text-align:right\">0</td><td style=\"font-weight: bold; text-align:right\">55,227,143</td>\n<td data-continent=\"Asia\" style=\"display:none\">Asia</td>\n</tr><tr class=\"odd\" role=\"row\" style=\"\">\n<td style=\"font-size:12px;color: grey;text-align:center;vertical-align:middle;\">116</td>\n<td style=\"font-weight: bold; font-size:15px; text-align:left;\"><a class=\"mt_a\" href=\"/coronavirus/country/new-caledonia/\">New Caledonia</a></td>\n<td class=\"sorting_1\" style=\"font-weight: bold; text-align:right\">10</td>\n<td style=\"font-weight: bold; text-align:right\">0</td>\n<td style=\"font-weight: bold; text-align:right\">+1,000%</td>\n<td style=\"font-weight: bold; text-align:right\">34</td>\n<td style=\"font-weight: bold; text-align:right\">0</td>\n<td style=\"font-weight: bold; text-align:right\">0</td>\n<td style=\"font-weight: bold; text-align:right\">0%</td>\n<td style=\"font-weight: bold; text-align:right\">0</td>\n<td style=\"font-weight: bold; text-align:right\">+34</td><td style=\"font-weight: bold; text-align:right\">0</td><td style=\"font-weight: bold; text-align:right\">290,915</td>\n<td data-continent=\"Australia/Oceania\" style=\"display:none\">Australia/Oceania</td>\n</tr><tr class=\"even\" role=\"row\" style=\"\">\n<td style=\"font-size:12px;color: grey;text-align:center;vertical-align:middle;\">117</td>\n<td style=\"font-weight: bold; font-size:15px; text-align:left;\"><a class=\"mt_a\" href=\"/coronavirus/country/saint-martin/\">Saint Martin</a></td>\n<td class=\"sorting_1\" style=\"font-weight: bold; text-align:right\">10</td>\n<td style=\"font-weight: bold; text-align:right\">0</td>\n<td style=\"font-weight: bold; text-align:right\">+1,000%</td>\n<td style=\"font-weight: bold; text-align:right\">252</td>\n<td style=\"font-weight: bold; text-align:right\">0</td>\n<td style=\"font-weight: bold; text-align:right\">0</td>\n<td style=\"font-weight: bold; text-align:right\">0%</td>\n<td style=\"font-weight: bold; text-align:right\">0</td>\n<td style=\"font-weight: bold; text-align:right\">+252</td><td style=\"font-weight: bold; text-align:right\">0</td><td style=\"font-weight: bold; text-align:right\">39,730</td>\n<td data-continent=\"North America\" style=\"display:none\">North America</td>\n</tr><tr class=\"odd\" role=\"row\" style=\"\">\n<td style=\"font-size:12px;color: grey;text-align:center;vertical-align:middle;\">118</td>\n<td style=\"font-weight: bold; font-size:15px; text-align:left;\"><a class=\"mt_a\" href=\"/coronavirus/country/san-marino/\">San Marino</a></td>\n<td class=\"sorting_1\" style=\"font-weight: bold; text-align:right\">10</td>\n<td style=\"font-weight: bold; text-align:right\">99</td>\n<td style=\"font-weight: bold; text-align:right\">-90%</td>\n<td style=\"font-weight: bold; text-align:right\">293</td>\n<td style=\"font-weight: bold; text-align:right\">0</td>\n<td style=\"font-weight: bold; text-align:right\">0</td>\n<td style=\"font-weight: bold; text-align:right\">0%</td>\n<td style=\"font-weight: bold; text-align:right\">0</td>\n<td style=\"font-weight: bold; text-align:right\">-2,611</td><td style=\"font-weight: bold; text-align:right\">0</td><td style=\"font-weight: bold; text-align:right\">34,085</td>\n<td data-continent=\"Europe\" style=\"display:none\">Europe</td>\n</tr><tr class=\"even\" role=\"row\" style=\"\">\n<td style=\"font-size:12px;color: grey;text-align:center;vertical-align:middle;\">119</td>\n<td style=\"font-weight: bold; font-size:15px; text-align:left;\"><a class=\"mt_a\" href=\"/coronavirus/country/togo/\">Togo</a></td>\n<td class=\"sorting_1\" style=\"font-weight: bold; text-align:right\">10</td>\n<td style=\"font-weight: bold; text-align:right\">2</td>\n<td style=\"font-weight: bold; text-align:right\">+400%</td>\n<td style=\"font-weight: bold; text-align:right\">1</td>\n<td style=\"font-weight: bold; text-align:right\">0</td>\n<td style=\"font-weight: bold; text-align:right\">0</td>\n<td style=\"font-weight: bold; text-align:right\">0%</td>\n<td style=\"font-weight: bold; text-align:right\">0</td>\n<td style=\"font-weight: bold; text-align:right\">+0.9</td><td style=\"font-weight: bold; text-align:right\">0</td><td style=\"font-weight: bold; text-align:right\">8,680,837</td>\n<td data-continent=\"Africa\" style=\"display:none\">Africa</td>\n</tr><tr class=\"odd\" role=\"row\" style=\"\">\n<td style=\"font-size:12px;color: grey;text-align:center;vertical-align:middle;\">120</td>\n<td style=\"font-weight: bold; font-size:15px; text-align:left;\"><a class=\"mt_a\" href=\"/coronavirus/country/gibraltar/\">Gibraltar</a></td>\n<td class=\"sorting_1\" style=\"font-weight: bold; text-align:right\">9</td>\n<td style=\"font-weight: bold; text-align:right\">15</td>\n<td style=\"font-weight: bold; text-align:right\">-40%</td>\n<td style=\"font-weight: bold; text-align:right\">267</td>\n<td style=\"font-weight: bold; text-align:right\">0</td>\n<td style=\"font-weight: bold; text-align:right\">0</td>\n<td style=\"font-weight: bold; text-align:right\">0%</td>\n<td style=\"font-weight: bold; text-align:right\">0</td>\n<td style=\"font-weight: bold; text-align:right\">-178</td><td style=\"font-weight: bold; text-align:right\">0</td><td style=\"font-weight: bold; text-align:right\">33,704</td>\n<td data-continent=\"Europe\" style=\"display:none\">Europe</td>\n</tr><tr class=\"even\" role=\"row\" style=\"\">\n<td style=\"font-size:12px;color: grey;text-align:center;vertical-align:middle;\">121</td>\n<td style=\"font-weight: bold; font-size:15px; text-align:left;\"><a class=\"mt_a\" href=\"/coronavirus/country/liechtenstein/\">Liechtenstein</a></td>\n<td class=\"sorting_1\" style=\"font-weight: bold; text-align:right\">9</td>\n<td style=\"font-weight: bold; text-align:right\">17</td>\n<td style=\"font-weight: bold; text-align:right\">-47%</td>\n<td style=\"font-weight: bold; text-align:right\">234</td>\n<td style=\"font-weight: bold; text-align:right\">0</td>\n<td style=\"font-weight: bold; text-align:right\">0</td>\n<td style=\"font-weight: bold; text-align:right\">0%</td>\n<td style=\"font-weight: bold; text-align:right\">0</td>\n<td style=\"font-weight: bold; text-align:right\">-208</td><td style=\"font-weight: bold; text-align:right\">0</td><td style=\"font-weight: bold; text-align:right\">38,387</td>\n<td data-continent=\"Europe\" style=\"display:none\">Europe</td>\n</tr><tr class=\"odd\" role=\"row\" style=\"\">\n<td style=\"font-size:12px;color: grey;text-align:center;vertical-align:middle;\">122</td>\n<td style=\"font-weight: bold; font-size:15px; text-align:left;\"><a class=\"mt_a\" href=\"/coronavirus/country/bermuda/\">Bermuda</a></td>\n<td class=\"sorting_1\" style=\"font-weight: bold; text-align:right\">8</td>\n<td style=\"font-weight: bold; text-align:right\">6</td>\n<td style=\"font-weight: bold; text-align:right\">+33%</td>\n<td style=\"font-weight: bold; text-align:right\">129</td>\n<td style=\"font-weight: bold; text-align:right\">1</td>\n<td style=\"font-weight: bold; text-align:right\">1</td>\n<td style=\"font-weight: bold; text-align:right\">0%</td>\n<td style=\"font-weight: bold; text-align:right\">16</td>\n<td style=\"font-weight: bold; text-align:right\">+32</td><td style=\"font-weight: bold; text-align:right\">0</td><td style=\"font-weight: bold; text-align:right\">61,939</td>\n<td data-continent=\"North America\" style=\"display:none\">North America</td>\n</tr><tr class=\"even\" role=\"row\" style=\"\">\n<td style=\"font-size:12px;color: grey;text-align:center;vertical-align:middle;\">123</td>\n<td style=\"font-weight: bold; font-size:15px; text-align:left;\"><a class=\"mt_a\" href=\"/coronavirus/country/saint-barthelemy/\">St. Barth</a></td>\n<td class=\"sorting_1\" style=\"font-weight: bold; text-align:right\">8</td>\n<td style=\"font-weight: bold; text-align:right\">0</td>\n<td style=\"font-weight: bold; text-align:right\">+800%</td>\n<td style=\"font-weight: bold; text-align:right\">804</td>\n<td style=\"font-weight: bold; text-align:right\">0</td>\n<td style=\"font-weight: bold; text-align:right\">0</td>\n<td style=\"font-weight: bold; text-align:right\">0%</td>\n<td style=\"font-weight: bold; text-align:right\">0</td>\n<td style=\"font-weight: bold; text-align:right\">+804</td><td style=\"font-weight: bold; text-align:right\">0</td><td style=\"font-weight: bold; text-align:right\">9,945</td>\n<td data-continent=\"North America\" style=\"display:none\">North America</td>\n</tr><tr class=\"odd\" role=\"row\" style=\"\">\n<td style=\"font-size:12px;color: grey;text-align:center;vertical-align:middle;\">124</td>\n<td style=\"font-weight: bold; font-size:15px; text-align:left;\"><a class=\"mt_a\" href=\"/coronavirus/country/nepal/\">Nepal</a></td>\n<td class=\"sorting_1\" style=\"font-weight: bold; text-align:right\">7</td>\n<td style=\"font-weight: bold; text-align:right\">18</td>\n<td style=\"font-weight: bold; text-align:right\">-61%</td>\n<td style=\"font-weight: bold; text-align:right\">0.2</td>\n<td style=\"font-weight: bold; text-align:right\">0</td>\n<td style=\"font-weight: bold; text-align:right\">0</td>\n<td style=\"font-weight: bold; text-align:right\">0%</td>\n<td style=\"font-weight: bold; text-align:right\">0</td>\n<td style=\"font-weight: bold; text-align:right\">-0.4</td><td style=\"font-weight: bold; text-align:right\">0</td><td style=\"font-weight: bold; text-align:right\">30,225,582</td>\n<td data-continent=\"Asia\" style=\"display:none\">Asia</td>\n</tr><tr class=\"even\" role=\"row\" style=\"\">\n<td style=\"font-size:12px;color: grey;text-align:center;vertical-align:middle;\">125</td>\n<td style=\"font-weight: bold; font-size:15px; text-align:left;\"><a class=\"mt_a\" href=\"/coronavirus/country/senegal/\">Senegal</a></td>\n<td class=\"sorting_1\" style=\"font-weight: bold; text-align:right\">7</td>\n<td style=\"font-weight: bold; text-align:right\">8</td>\n<td style=\"font-weight: bold; text-align:right\">-13%</td>\n<td style=\"font-weight: bold; text-align:right\">0.4</td>\n<td style=\"font-weight: bold; text-align:right\">0</td>\n<td style=\"font-weight: bold; text-align:right\">0</td>\n<td style=\"font-weight: bold; text-align:right\">0%</td>\n<td style=\"font-weight: bold; text-align:right\">0</td>\n<td style=\"font-weight: bold; text-align:right\">-0.1</td><td style=\"font-weight: bold; text-align:right\">0</td><td style=\"font-weight: bold; text-align:right\">17,653,671</td>\n<td data-continent=\"Africa\" style=\"display:none\">Africa</td>\n</tr><tr class=\"odd\" role=\"row\" style=\"\">\n<td style=\"font-size:12px;color: grey;text-align:center;vertical-align:middle;\">126</td>\n<td style=\"font-weight: bold; font-size:15px; text-align:left;\"><a class=\"mt_a\" href=\"/coronavirus/country/cambodia/\">Cambodia</a></td>\n<td class=\"sorting_1\" style=\"font-weight: bold; text-align:right\">6</td>\n<td style=\"font-weight: bold; text-align:right\">4</td>\n<td style=\"font-weight: bold; text-align:right\">+50%</td>\n<td style=\"font-weight: bold; text-align:right\">0.3</td>\n<td style=\"font-weight: bold; text-align:right\">0</td>\n<td style=\"font-weight: bold; text-align:right\">0</td>\n<td style=\"font-weight: bold; text-align:right\">0%</td>\n<td style=\"font-weight: bold; text-align:right\">0</td>\n<td style=\"font-weight: bold; text-align:right\">+0.1</td><td style=\"font-weight: bold; text-align:right\">0</td><td style=\"font-weight: bold; text-align:right\">17,168,639</td>\n<td data-continent=\"Asia\" style=\"display:none\">Asia</td>\n</tr><tr class=\"even\" role=\"row\" style=\"\">\n<td style=\"font-size:12px;color: grey;text-align:center;vertical-align:middle;\">127</td>\n<td style=\"font-weight: bold; font-size:15px; text-align:left;\"><a class=\"mt_a\" href=\"/coronavirus/country/sri-lanka/\">Sri Lanka</a></td>\n<td class=\"sorting_1\" style=\"font-weight: bold; text-align:right\">6</td>\n<td style=\"font-weight: bold; text-align:right\">12</td>\n<td style=\"font-weight: bold; text-align:right\">-50%</td>\n<td style=\"font-weight: bold; text-align:right\">0.3</td>\n<td style=\"font-weight: bold; text-align:right\">1</td>\n<td style=\"font-weight: bold; text-align:right\">0</td>\n<td style=\"font-weight: bold; text-align:right\">+100%</td>\n<td style=\"font-weight: bold; text-align:right\">0.0</td>\n<td style=\"font-weight: bold; text-align:right\">-0.3</td><td style=\"font-weight: bold; text-align:right\">0.0</td><td style=\"font-weight: bold; text-align:right\">21,575,842</td>\n<td data-continent=\"Asia\" style=\"display:none\">Asia</td>\n</tr><tr class=\"odd\" role=\"row\" style=\"\">\n<td style=\"font-size:12px;color: grey;text-align:center;vertical-align:middle;\">128</td>\n<td style=\"font-weight: bold; font-size:15px; text-align:left;\"><a class=\"mt_a\" href=\"/coronavirus/country/laos/\">Laos</a></td>\n<td class=\"sorting_1\" style=\"font-weight: bold; text-align:right\">6</td>\n<td style=\"font-weight: bold; text-align:right\">11</td>\n<td style=\"font-weight: bold; text-align:right\">-45%</td>\n<td style=\"font-weight: bold; text-align:right\">0.8</td>\n<td style=\"font-weight: bold; text-align:right\">0</td>\n<td style=\"font-weight: bold; text-align:right\">0</td>\n<td style=\"font-weight: bold; text-align:right\">0%</td>\n<td style=\"font-weight: bold; text-align:right\">0</td>\n<td style=\"font-weight: bold; text-align:right\">-0.7</td><td style=\"font-weight: bold; text-align:right\">0</td><td style=\"font-weight: bold; text-align:right\">7,481,023</td>\n<td data-continent=\"Asia\" style=\"display:none\">Asia</td>\n</tr><tr class=\"even\" role=\"row\" style=\"\">\n<td style=\"font-size:12px;color: grey;text-align:center;vertical-align:middle;\">129</td>\n<td style=\"font-weight: bold; font-size:15px; text-align:left;\"><a class=\"mt_a\" href=\"/coronavirus/country/maldives/\">Maldives</a></td>\n<td class=\"sorting_1\" style=\"font-weight: bold; text-align:right\">6</td>\n<td style=\"font-weight: bold; text-align:right\">2</td>\n<td style=\"font-weight: bold; text-align:right\">+200%</td>\n<td style=\"font-weight: bold; text-align:right\">11</td>\n<td style=\"font-weight: bold; text-align:right\">0</td>\n<td style=\"font-weight: bold; text-align:right\">0</td>\n<td style=\"font-weight: bold; text-align:right\">0%</td>\n<td style=\"font-weight: bold; text-align:right\">0</td>\n<td style=\"font-weight: bold; text-align:right\">+7</td><td style=\"font-weight: bold; text-align:right\">0</td><td style=\"font-weight: bold; text-align:right\">540,985</td>\n<td data-continent=\"Asia\" style=\"display:none\">Asia</td>\n</tr><tr class=\"odd\" role=\"row\" style=\"\">\n<td style=\"font-size:12px;color: grey;text-align:center;vertical-align:middle;\">130</td>\n<td style=\"font-weight: bold; font-size:15px; text-align:left;\"><a class=\"mt_a\" href=\"/coronavirus/country/bhutan/\">Bhutan</a></td>\n<td class=\"sorting_1\" style=\"font-weight: bold; text-align:right\">4</td>\n<td style=\"font-weight: bold; text-align:right\">3</td>\n<td style=\"font-weight: bold; text-align:right\">+33%</td>\n<td style=\"font-weight: bold; text-align:right\">5</td>\n<td style=\"font-weight: bold; text-align:right\">0</td>\n<td style=\"font-weight: bold; text-align:right\">0</td>\n<td style=\"font-weight: bold; text-align:right\">0%</td>\n<td style=\"font-weight: bold; text-align:right\">0</td>\n<td style=\"font-weight: bold; text-align:right\">+1</td><td style=\"font-weight: bold; text-align:right\">0</td><td style=\"font-weight: bold; text-align:right\">787,941</td>\n<td data-continent=\"Asia\" style=\"display:none\">Asia</td>\n</tr><tr class=\"even\" role=\"row\" style=\"\">\n<td style=\"font-size:12px;color: grey;text-align:center;vertical-align:middle;\">131</td>\n<td style=\"font-weight: bold; font-size:15px; text-align:left;\"><a class=\"mt_a\" href=\"/coronavirus/country/caribbean-netherlands/\">Caribbean Netherlands</a></td>\n<td class=\"sorting_1\" style=\"font-weight: bold; text-align:right\">4</td>\n<td style=\"font-weight: bold; text-align:right\">2</td>\n<td style=\"font-weight: bold; text-align:right\">+100%</td>\n<td style=\"font-weight: bold; text-align:right\">150</td>\n<td style=\"font-weight: bold; text-align:right\">0</td>\n<td style=\"font-weight: bold; text-align:right\">0</td>\n<td style=\"font-weight: bold; text-align:right\">0%</td>\n<td style=\"font-weight: bold; text-align:right\">0</td>\n<td style=\"font-weight: bold; text-align:right\">+75</td><td style=\"font-weight: bold; text-align:right\">0</td><td style=\"font-weight: bold; text-align:right\">26,647</td>\n<td data-continent=\"North America\" style=\"display:none\">North America</td>\n</tr><tr class=\"odd\" role=\"row\" style=\"\">\n<td style=\"font-size:12px;color: grey;text-align:center;vertical-align:middle;\">132</td>\n<td style=\"font-weight: bold; font-size:15px; text-align:left;\"><a class=\"mt_a\" href=\"/coronavirus/country/china-macao-sar/\">Macao</a></td>\n<td class=\"sorting_1\" style=\"font-weight: bold; text-align:right\">3</td>\n<td style=\"font-weight: bold; text-align:right\">4</td>\n<td style=\"font-weight: bold; text-align:right\">-25%</td>\n<td style=\"font-weight: bold; text-align:right\">4</td>\n<td style=\"font-weight: bold; text-align:right\">0</td>\n<td style=\"font-weight: bold; text-align:right\">0</td>\n<td style=\"font-weight: bold; text-align:right\">0%</td>\n<td style=\"font-weight: bold; text-align:right\">0</td>\n<td style=\"font-weight: bold; text-align:right\">-1</td><td style=\"font-weight: bold; text-align:right\">0</td><td style=\"font-weight: bold; text-align:right\">667,490</td>\n<td data-continent=\"Asia\" style=\"display:none\">Asia</td>\n</tr><tr class=\"even\" role=\"row\" style=\"\">\n<td style=\"font-size:12px;color: grey;text-align:center;vertical-align:middle;\">133</td>\n<td style=\"font-weight: bold; font-size:15px; text-align:left;\"><a class=\"mt_a\" href=\"/coronavirus/country/cabo-verde/\">Cabo Verde</a></td>\n<td class=\"sorting_1\" style=\"font-weight: bold; text-align:right\">2</td>\n<td style=\"font-weight: bold; text-align:right\">3</td>\n<td style=\"font-weight: bold; text-align:right\">-33%</td>\n<td style=\"font-weight: bold; text-align:right\">4</td>\n<td style=\"font-weight: bold; text-align:right\">0</td>\n<td style=\"font-weight: bold; text-align:right\">0</td>\n<td style=\"font-weight: bold; text-align:right\">0%</td>\n<td style=\"font-weight: bold; text-align:right\">0</td>\n<td style=\"font-weight: bold; text-align:right\">-2</td><td style=\"font-weight: bold; text-align:right\">0</td><td style=\"font-weight: bold; text-align:right\">567,678</td>\n<td data-continent=\"Africa\" style=\"display:none\">Africa</td>\n</tr><tr class=\"odd\" role=\"row\" style=\"\">\n<td style=\"font-size:12px;color: grey;text-align:center;vertical-align:middle;\">134</td>\n<td style=\"font-weight: bold; font-size:15px; text-align:left;\"><a class=\"mt_a\" href=\"/coronavirus/country/monaco/\">Monaco</a></td>\n<td class=\"sorting_1\" style=\"font-weight: bold; text-align:right\">2</td>\n<td style=\"font-weight: bold; text-align:right\">9</td>\n<td style=\"font-weight: bold; text-align:right\">-78%</td>\n<td style=\"font-weight: bold; text-align:right\">50</td>\n<td style=\"font-weight: bold; text-align:right\">0</td>\n<td style=\"font-weight: bold; text-align:right\">0</td>\n<td style=\"font-weight: bold; text-align:right\">0%</td>\n<td style=\"font-weight: bold; text-align:right\">0</td>\n<td style=\"font-weight: bold; text-align:right\">-176</td><td style=\"font-weight: bold; text-align:right\">0</td><td style=\"font-weight: bold; text-align:right\">39,783</td>\n<td data-continent=\"Europe\" style=\"display:none\">Europe</td>\n</tr><tr class=\"even\" role=\"row\" style=\"\">\n<td style=\"font-size:12px;color: grey;text-align:center;vertical-align:middle;\">135</td>\n<td style=\"font-weight: bold; font-size:15px; text-align:left;\"><a class=\"mt_a\" href=\"/coronavirus/country/syria/\">Syria</a></td>\n<td class=\"sorting_1\" style=\"font-weight: bold; text-align:right\">2</td>\n<td style=\"font-weight: bold; text-align:right\">8</td>\n<td style=\"font-weight: bold; text-align:right\">-75%</td>\n<td style=\"font-weight: bold; text-align:right\">0.1</td>\n<td style=\"font-weight: bold; text-align:right\">0</td>\n<td style=\"font-weight: bold; text-align:right\">0</td>\n<td style=\"font-weight: bold; text-align:right\">0%</td>\n<td style=\"font-weight: bold; text-align:right\">0</td>\n<td style=\"font-weight: bold; text-align:right\">-0.3</td><td style=\"font-weight: bold; text-align:right\">0</td><td style=\"font-weight: bold; text-align:right\">19,364,809</td>\n<td data-continent=\"Asia\" style=\"display:none\">Asia</td>\n</tr><tr class=\"odd\" role=\"row\" style=\"\">\n<td style=\"font-size:12px;color: grey;text-align:center;vertical-align:middle;\">136</td>\n<td style=\"font-weight: bold; font-size:15px; text-align:left;\"><a class=\"mt_a\" href=\"/coronavirus/country/comoros/\">Comoros</a></td>\n<td class=\"sorting_1\" style=\"font-weight: bold; text-align:right\">1</td>\n<td style=\"font-weight: bold; text-align:right\">5</td>\n<td style=\"font-weight: bold; text-align:right\">-80%</td>\n<td style=\"font-weight: bold; text-align:right\">1</td>\n<td style=\"font-weight: bold; text-align:right\">0</td>\n<td style=\"font-weight: bold; text-align:right\">0</td>\n<td style=\"font-weight: bold; text-align:right\">0%</td>\n<td style=\"font-weight: bold; text-align:right\">0</td>\n<td style=\"font-weight: bold; text-align:right\">-4</td><td style=\"font-weight: bold; text-align:right\">0</td><td style=\"font-weight: bold; text-align:right\">907,419</td>\n<td data-continent=\"Africa\" style=\"display:none\">Africa</td>\n</tr><tr class=\"even\" role=\"row\" style=\"\">\n<td style=\"font-size:12px;color: grey;text-align:center;vertical-align:middle;\">137</td>\n<td style=\"font-weight: bold; font-size:15px; text-align:left;\"><a class=\"mt_a\" href=\"/coronavirus/country/kiribati/\">Kiribati</a></td>\n<td class=\"sorting_1\" style=\"font-weight: bold; text-align:right\">1</td>\n<td style=\"font-weight: bold; text-align:right\">4</td>\n<td style=\"font-weight: bold; text-align:right\">-75%</td>\n<td style=\"font-weight: bold; text-align:right\">8</td>\n<td style=\"font-weight: bold; text-align:right\">0</td>\n<td style=\"font-weight: bold; text-align:right\">0</td>\n<td style=\"font-weight: bold; text-align:right\">0%</td>\n<td style=\"font-weight: bold; text-align:right\">0</td>\n<td style=\"font-weight: bold; text-align:right\">-24</td><td style=\"font-weight: bold; text-align:right\">0</td><td style=\"font-weight: bold; text-align:right\">123,419</td>\n<td data-continent=\"Australia/Oceania\" style=\"display:none\">Australia/Oceania</td>\n</tr><tr class=\"odd\" role=\"row\" style=\"\">\n<td style=\"font-size:12px;color: grey;text-align:center;vertical-align:middle;\">138</td>\n<td style=\"font-weight: bold; font-size:15px; text-align:left;\"><a class=\"mt_a\" href=\"/coronavirus/country/libya/\">Libya</a></td>\n<td class=\"sorting_1\" style=\"font-weight: bold; text-align:right\">1</td>\n<td style=\"font-weight: bold; text-align:right\">4</td>\n<td style=\"font-weight: bold; text-align:right\">-75%</td>\n<td style=\"font-weight: bold; text-align:right\">0.1</td>\n<td style=\"font-weight: bold; text-align:right\">0</td>\n<td style=\"font-weight: bold; text-align:right\">0</td>\n<td style=\"font-weight: bold; text-align:right\">0%</td>\n<td style=\"font-weight: bold; text-align:right\">0</td>\n<td style=\"font-weight: bold; text-align:right\">-0.4</td><td style=\"font-weight: bold; text-align:right\">0</td><td style=\"font-weight: bold; text-align:right\">7,040,745</td>\n<td data-continent=\"Africa\" style=\"display:none\">Africa</td>\n</tr><tr class=\"even\" role=\"row\" style=\"\">\n<td style=\"font-size:12px;color: grey;text-align:center;vertical-align:middle;\">139</td>\n<td style=\"font-weight: bold; font-size:15px; text-align:left;\"><a class=\"mt_a\" href=\"/coronavirus/country/mongolia/\">Mongolia</a></td>\n<td class=\"sorting_1\" style=\"font-weight: bold; text-align:right\">1</td>\n<td style=\"font-weight: bold; text-align:right\">7</td>\n<td style=\"font-weight: bold; text-align:right\">-86%</td>\n<td style=\"font-weight: bold; text-align:right\">0.3</td>\n<td style=\"font-weight: bold; text-align:right\">0</td>\n<td style=\"font-weight: bold; text-align:right\">0</td>\n<td style=\"font-weight: bold; text-align:right\">0%</td>\n<td style=\"font-weight: bold; text-align:right\">0</td>\n<td style=\"font-weight: bold; text-align:right\">-2</td><td style=\"font-weight: bold; text-align:right\">0</td><td style=\"font-weight: bold; text-align:right\">3,378,078</td>\n<td data-continent=\"Asia\" style=\"display:none\">Asia</td>\n</tr><tr class=\"odd\" role=\"row\" style=\"\">\n<td style=\"font-size:12px;color: grey;text-align:center;vertical-align:middle;\">140</td>\n<td style=\"font-weight: bold; font-size:15px; text-align:left;\"><a class=\"mt_a\" href=\"/coronavirus/country/sao-tome-and-principe/\">Sao Tome and Principe</a></td>\n<td class=\"sorting_1\" style=\"font-weight: bold; text-align:right\">1</td>\n<td style=\"font-weight: bold; text-align:right\">0</td>\n<td style=\"font-weight: bold; text-align:right\">+100%</td>\n<td style=\"font-weight: bold; text-align:right\">4</td>\n<td style=\"font-weight: bold; text-align:right\">0</td>\n<td style=\"font-weight: bold; text-align:right\">0</td>\n<td style=\"font-weight: bold; text-align:right\">0%</td>\n<td style=\"font-weight: bold; text-align:right\">0</td>\n<td style=\"font-weight: bold; text-align:right\">+4</td><td style=\"font-weight: bold; text-align:right\">0</td><td style=\"font-weight: bold; text-align:right\">227,679</td>\n<td data-continent=\"Africa\" style=\"display:none\">Africa</td>\n</tr><tr class=\"even\" role=\"row\" style=\"\">\n<td style=\"font-size:12px;color: grey;text-align:center;vertical-align:middle;\">141</td>\n<td style=\"font-weight: bold; font-size:15px; text-align:left;\"><a class=\"mt_a\" href=\"/coronavirus/country/uk/\">UK</a></td>\n<td class=\"sorting_1\" style=\"font-weight: bold; text-align:right\">0</td>\n<td style=\"font-weight: bold; text-align:right\">12,781</td>\n<td style=\"font-weight: bold; text-align:right\">-100%</td>\n<td style=\"font-weight: bold; text-align:right\">0</td>\n<td style=\"font-weight: bold; text-align:right\">0</td>\n<td style=\"font-weight: bold; text-align:right\">403</td>\n<td style=\"font-weight: bold; text-align:right\">-100%</td>\n<td style=\"font-weight: bold; text-align:right\">0</td>\n<td style=\"font-weight: bold; text-align:right\">-187</td><td style=\"font-weight: bold; text-align:right\">-6</td><td style=\"font-weight: bold; text-align:right\">68,497,907</td>\n<td data-continent=\"Europe\" style=\"display:none\">Europe</td>\n</tr><tr class=\"odd\" role=\"row\" style=\"\">\n<td style=\"font-size:12px;color: grey;text-align:center;vertical-align:middle;\">142</td>\n<td style=\"font-weight: bold; font-size:15px; text-align:left;\"><a class=\"mt_a\" href=\"/coronavirus/country/andorra/\">Andorra</a></td>\n<td class=\"sorting_1\" style=\"font-weight: bold; text-align:right\">0</td>\n<td style=\"font-weight: bold; text-align:right\">6</td>\n<td style=\"font-weight: bold; text-align:right\">-100%</td>\n<td style=\"font-weight: bold; text-align:right\">0</td>\n<td style=\"font-weight: bold; text-align:right\">0</td>\n<td style=\"font-weight: bold; text-align:right\">0</td>\n<td style=\"font-weight: bold; text-align:right\">0%</td>\n<td style=\"font-weight: bold; text-align:right\">0</td>\n<td style=\"font-weight: bold; text-align:right\">-77</td><td style=\"font-weight: bold; text-align:right\">0</td><td style=\"font-weight: bold; text-align:right\">77,463</td>\n<td data-continent=\"Europe\" style=\"display:none\">Europe</td>\n</tr><tr class=\"even\" role=\"row\" style=\"\">\n<td style=\"font-size:12px;color: grey;text-align:center;vertical-align:middle;\">143</td>\n<td style=\"font-weight: bold; font-size:15px; text-align:left;\"><a class=\"mt_a\" href=\"/coronavirus/country/argentina/\">Argentina</a></td>\n<td class=\"sorting_1\" style=\"font-weight: bold; text-align:right\">0</td>\n<td style=\"font-weight: bold; text-align:right\">1,172</td>\n<td style=\"font-weight: bold; text-align:right\">-100%</td>\n<td style=\"font-weight: bold; text-align:right\">0</td>\n<td style=\"font-weight: bold; text-align:right\">0</td>\n<td style=\"font-weight: bold; text-align:right\">10</td>\n<td style=\"font-weight: bold; text-align:right\">-100%</td>\n<td style=\"font-weight: bold; text-align:right\">0</td>\n<td style=\"font-weight: bold; text-align:right\">-25</td><td style=\"font-weight: bold; text-align:right\">-0.2</td><td style=\"font-weight: bold; text-align:right\">46,010,234</td>\n<td data-continent=\"South America\" style=\"display:none\">South America</td>\n</tr><tr class=\"odd\" role=\"row\" style=\"\">\n<td style=\"font-size:12px;color: grey;text-align:center;vertical-align:middle;\">144</td>\n<td style=\"font-weight: bold; font-size:15px; text-align:left;\"><a class=\"mt_a\" href=\"/coronavirus/country/burkina-faso/\">Burkina Faso</a></td>\n<td class=\"sorting_1\" style=\"font-weight: bold; text-align:right\">0</td>\n<td style=\"font-weight: bold; text-align:right\">31</td>\n<td style=\"font-weight: bold; text-align:right\">-100%</td>\n<td style=\"font-weight: bold; text-align:right\">0</td>\n<td style=\"font-weight: bold; text-align:right\">0</td>\n<td style=\"font-weight: bold; text-align:right\">0</td>\n<td style=\"font-weight: bold; text-align:right\">0%</td>\n<td style=\"font-weight: bold; text-align:right\">0</td>\n<td style=\"font-weight: bold; text-align:right\">-1</td><td style=\"font-weight: bold; text-align:right\">0</td><td style=\"font-weight: bold; text-align:right\">22,102,838</td>\n<td data-continent=\"Africa\" style=\"display:none\">Africa</td>\n</tr><tr class=\"even\" role=\"row\" style=\"\">\n<td style=\"font-size:12px;color: grey;text-align:center;vertical-align:middle;\">145</td>\n<td style=\"font-weight: bold; font-size:15px; text-align:left;\"><a class=\"mt_a\" href=\"/coronavirus/country/burundi/\">Burundi</a></td>\n<td class=\"sorting_1\" style=\"font-weight: bold; text-align:right\">0</td>\n<td style=\"font-weight: bold; text-align:right\">35</td>\n<td style=\"font-weight: bold; text-align:right\">-100%</td>\n<td style=\"font-weight: bold; text-align:right\">0</td>\n<td style=\"font-weight: bold; text-align:right\">0</td>\n<td style=\"font-weight: bold; text-align:right\">0</td>\n<td style=\"font-weight: bold; text-align:right\">0%</td>\n<td style=\"font-weight: bold; text-align:right\">0</td>\n<td style=\"font-weight: bold; text-align:right\">-3</td><td style=\"font-weight: bold; text-align:right\">0</td><td style=\"font-weight: bold; text-align:right\">12,624,840</td>\n<td data-continent=\"Africa\" style=\"display:none\">Africa</td>\n</tr><tr class=\"odd\" role=\"row\" style=\"\">\n<td style=\"font-size:12px;color: grey;text-align:center;vertical-align:middle;\">146</td>\n<td style=\"font-weight: bold; font-size:15px; text-align:left;\"><a class=\"mt_a\" href=\"/coronavirus/country/cook-islands/\">Cook Islands</a></td>\n<td class=\"sorting_1\" style=\"font-weight: bold; text-align:right\">0</td>\n<td style=\"font-weight: bold; text-align:right\">3</td>\n<td style=\"font-weight: bold; text-align:right\">-100%</td>\n<td style=\"font-weight: bold; text-align:right\">0</td>\n<td style=\"font-weight: bold; text-align:right\">0</td>\n<td style=\"font-weight: bold; text-align:right\">0</td>\n<td style=\"font-weight: bold; text-align:right\">0%</td>\n<td style=\"font-weight: bold; text-align:right\">0</td>\n<td style=\"font-weight: bold; text-align:right\">-171</td><td style=\"font-weight: bold; text-align:right\">0</td><td style=\"font-weight: bold; text-align:right\">17,571</td>\n<td data-continent=\"Australia/Oceania\" style=\"display:none\">Australia/Oceania</td>\n</tr><tr class=\"even\" role=\"row\" style=\"\">\n<td style=\"font-size:12px;color: grey;text-align:center;vertical-align:middle;\">147</td>\n<td style=\"font-weight: bold; font-size:15px; text-align:left;\"><a class=\"mt_a\" href=\"/coronavirus/country/democratic-republic-of-the-congo/\">DRC</a></td>\n<td class=\"sorting_1\" style=\"font-weight: bold; text-align:right\">0</td>\n<td style=\"font-weight: bold; text-align:right\">61</td>\n<td style=\"font-weight: bold; text-align:right\">-100%</td>\n<td style=\"font-weight: bold; text-align:right\">0</td>\n<td style=\"font-weight: bold; text-align:right\">0</td>\n<td style=\"font-weight: bold; text-align:right\">1</td>\n<td style=\"font-weight: bold; text-align:right\">-100%</td>\n<td style=\"font-weight: bold; text-align:right\">0</td>\n<td style=\"font-weight: bold; text-align:right\">-0.6</td><td style=\"font-weight: bold; text-align:right\">0.0</td><td style=\"font-weight: bold; text-align:right\">95,240,792</td>\n<td data-continent=\"Africa\" style=\"display:none\">Africa</td>\n</tr><tr class=\"odd\" role=\"row\" style=\"\">\n<td style=\"font-size:12px;color: grey;text-align:center;vertical-align:middle;\">148</td>\n<td style=\"font-weight: bold; font-size:15px; text-align:left;\"><a class=\"mt_a\" href=\"/coronavirus/country/egypt/\">Egypt</a></td>\n<td class=\"sorting_1\" style=\"font-weight: bold; text-align:right\">0</td>\n<td style=\"font-weight: bold; text-align:right\">32</td>\n<td style=\"font-weight: bold; text-align:right\">-100%</td>\n<td style=\"font-weight: bold; text-align:right\">0</td>\n<td style=\"font-weight: bold; text-align:right\">0</td>\n<td style=\"font-weight: bold; text-align:right\">0</td>\n<td style=\"font-weight: bold; text-align:right\">0%</td>\n<td style=\"font-weight: bold; text-align:right\">0</td>\n<td style=\"font-weight: bold; text-align:right\">-0.3</td><td style=\"font-weight: bold; text-align:right\">0</td><td style=\"font-weight: bold; text-align:right\">106,156,692</td>\n<td data-continent=\"Africa\" style=\"display:none\">Africa</td>\n</tr><tr class=\"even\" role=\"row\" style=\"\">\n<td style=\"font-size:12px;color: grey;text-align:center;vertical-align:middle;\">149</td>\n<td style=\"font-weight: bold; font-size:15px; text-align:left;\"><a class=\"mt_a\" href=\"/coronavirus/country/guinea/\">Guinea</a></td>\n<td class=\"sorting_1\" style=\"font-weight: bold; text-align:right\">0</td>\n<td style=\"font-weight: bold; text-align:right\">27</td>\n<td style=\"font-weight: bold; text-align:right\">-100%</td>\n<td style=\"font-weight: bold; text-align:right\">0</td>\n<td style=\"font-weight: bold; text-align:right\">0</td>\n<td style=\"font-weight: bold; text-align:right\">0</td>\n<td style=\"font-weight: bold; text-align:right\">0%</td>\n<td style=\"font-weight: bold; text-align:right\">0</td>\n<td style=\"font-weight: bold; text-align:right\">-2</td><td style=\"font-weight: bold; text-align:right\">0</td><td style=\"font-weight: bold; text-align:right\">13,865,691</td>\n<td data-continent=\"Africa\" style=\"display:none\">Africa</td>\n</tr><tr class=\"odd\" role=\"row\" style=\"\">\n<td style=\"font-size:12px;color: grey;text-align:center;vertical-align:middle;\">150</td>\n<td style=\"font-weight: bold; font-size:15px; text-align:left;\"><a class=\"mt_a\" href=\"/coronavirus/country/guinea-bissau/\">Guinea-Bissau</a></td>\n<td class=\"sorting_1\" style=\"font-weight: bold; text-align:right\">0</td>\n<td style=\"font-weight: bold; text-align:right\">6</td>\n<td style=\"font-weight: bold; text-align:right\">-100%</td>\n<td style=\"font-weight: bold; text-align:right\">0</td>\n<td style=\"font-weight: bold; text-align:right\">0</td>\n<td style=\"font-weight: bold; text-align:right\">0</td>\n<td style=\"font-weight: bold; text-align:right\">0%</td>\n<td style=\"font-weight: bold; text-align:right\">0</td>\n<td style=\"font-weight: bold; text-align:right\">-3</td><td style=\"font-weight: bold; text-align:right\">0</td><td style=\"font-weight: bold; text-align:right\">2,063,367</td>\n<td data-continent=\"Africa\" style=\"display:none\">Africa</td>\n</tr><tr class=\"even\" role=\"row\" style=\"\">\n<td style=\"font-size:12px;color: grey;text-align:center;vertical-align:middle;\">151</td>\n<td style=\"font-weight: bold; font-size:15px; text-align:left;\"><a class=\"mt_a\" href=\"/coronavirus/country/haiti/\">Haiti</a></td>\n<td class=\"sorting_1\" style=\"font-weight: bold; text-align:right\">0</td>\n<td style=\"font-weight: bold; text-align:right\">67</td>\n<td style=\"font-weight: bold; text-align:right\">-100%</td>\n<td style=\"font-weight: bold; text-align:right\">0</td>\n<td style=\"font-weight: bold; text-align:right\">0</td>\n<td style=\"font-weight: bold; text-align:right\">0</td>\n<td style=\"font-weight: bold; text-align:right\">0%</td>\n<td style=\"font-weight: bold; text-align:right\">0</td>\n<td style=\"font-weight: bold; text-align:right\">-6</td><td style=\"font-weight: bold; text-align:right\">0</td><td style=\"font-weight: bold; text-align:right\">11,680,283</td>\n<td data-continent=\"North America\" style=\"display:none\">North America</td>\n</tr><tr class=\"odd\" role=\"row\" style=\"\">\n<td style=\"font-size:12px;color: grey;text-align:center;vertical-align:middle;\">152</td>\n<td style=\"font-weight: bold; font-size:15px; text-align:left;\"><a class=\"mt_a\" href=\"/coronavirus/country/honduras/\">Honduras</a></td>\n<td class=\"sorting_1\" style=\"font-weight: bold; text-align:right\">0</td>\n<td style=\"font-weight: bold; text-align:right\">617</td>\n<td style=\"font-weight: bold; text-align:right\">-100%</td>\n<td style=\"font-weight: bold; text-align:right\">0</td>\n<td style=\"font-weight: bold; text-align:right\">0</td>\n<td style=\"font-weight: bold; text-align:right\">5</td>\n<td style=\"font-weight: bold; text-align:right\">-100%</td>\n<td style=\"font-weight: bold; text-align:right\">0</td>\n<td style=\"font-weight: bold; text-align:right\">-60</td><td style=\"font-weight: bold; text-align:right\">-0.5</td><td style=\"font-weight: bold; text-align:right\">10,221,247</td>\n<td data-continent=\"North America\" style=\"display:none\">North America</td>\n</tr><tr class=\"even\" role=\"row\" style=\"\">\n<td style=\"font-size:12px;color: grey;text-align:center;vertical-align:middle;\">153</td>\n<td style=\"font-weight: bold; font-size:15px; text-align:left;\"><a class=\"mt_a\" href=\"/coronavirus/country/ireland/\">Ireland</a></td>\n<td class=\"sorting_1\" style=\"font-weight: bold; text-align:right\">0</td>\n<td style=\"font-weight: bold; text-align:right\">251</td>\n<td style=\"font-weight: bold; text-align:right\">-100%</td>\n<td style=\"font-weight: bold; text-align:right\">0</td>\n<td style=\"font-weight: bold; text-align:right\">0</td>\n<td style=\"font-weight: bold; text-align:right\">3</td>\n<td style=\"font-weight: bold; text-align:right\">-100%</td>\n<td style=\"font-weight: bold; text-align:right\">0</td>\n<td style=\"font-weight: bold; text-align:right\">-50</td><td style=\"font-weight: bold; text-align:right\">-0.6</td><td style=\"font-weight: bold; text-align:right\">5,020,199</td>\n<td data-continent=\"Europe\" style=\"display:none\">Europe</td>\n</tr><tr class=\"odd\" role=\"row\" style=\"\">\n<td style=\"font-size:12px;color: grey;text-align:center;vertical-align:middle;\">154</td>\n<td style=\"font-weight: bold; font-size:15px; text-align:left;\"><a class=\"mt_a\" href=\"/coronavirus/country/jamaica/\">Jamaica</a></td>\n<td class=\"sorting_1\" style=\"font-weight: bold; text-align:right\">0</td>\n<td style=\"font-weight: bold; text-align:right\">160</td>\n<td style=\"font-weight: bold; text-align:right\">-100%</td>\n<td style=\"font-weight: bold; text-align:right\">0</td>\n<td style=\"font-weight: bold; text-align:right\">0</td>\n<td style=\"font-weight: bold; text-align:right\">12</td>\n<td style=\"font-weight: bold; text-align:right\">-100%</td>\n<td style=\"font-weight: bold; text-align:right\">0</td>\n<td style=\"font-weight: bold; text-align:right\">-54</td><td style=\"font-weight: bold; text-align:right\">-4</td><td style=\"font-weight: bold; text-align:right\">2,985,094</td>\n<td data-continent=\"North America\" style=\"display:none\">North America</td>\n</tr><tr class=\"even\" role=\"row\" style=\"\">\n<td style=\"font-size:12px;color: grey;text-align:center;vertical-align:middle;\">155</td>\n<td style=\"font-weight: bold; font-size:15px; text-align:left;\"><a class=\"mt_a\" href=\"/coronavirus/country/marshall-islands/\">Marshall Islands</a></td>\n<td class=\"sorting_1\" style=\"font-weight: bold; text-align:right\">0</td>\n<td style=\"font-weight: bold; text-align:right\">8</td>\n<td style=\"font-weight: bold; text-align:right\">-100%</td>\n<td style=\"font-weight: bold; text-align:right\">0</td>\n<td style=\"font-weight: bold; text-align:right\">0</td>\n<td style=\"font-weight: bold; text-align:right\">0</td>\n<td style=\"font-weight: bold; text-align:right\">0%</td>\n<td style=\"font-weight: bold; text-align:right\">0</td>\n<td style=\"font-weight: bold; text-align:right\">-133</td><td style=\"font-weight: bold; text-align:right\">0</td><td style=\"font-weight: bold; text-align:right\">60,057</td>\n<td data-continent=\"Australia/Oceania\" style=\"display:none\">Australia/Oceania</td>\n</tr><tr class=\"odd\" role=\"row\" style=\"\">\n<td style=\"font-size:12px;color: grey;text-align:center;vertical-align:middle;\">156</td>\n<td style=\"font-weight: bold; font-size:15px; text-align:left;\"><a class=\"mt_a\" href=\"/coronavirus/country/martinique/\">Martinique</a></td>\n<td class=\"sorting_1\" style=\"font-weight: bold; text-align:right\">0</td>\n<td style=\"font-weight: bold; text-align:right\">120</td>\n<td style=\"font-weight: bold; text-align:right\">-100%</td>\n<td style=\"font-weight: bold; text-align:right\">0</td>\n<td style=\"font-weight: bold; text-align:right\">0</td>\n<td style=\"font-weight: bold; text-align:right\">1</td>\n<td style=\"font-weight: bold; text-align:right\">-100%</td>\n<td style=\"font-weight: bold; text-align:right\">0</td>\n<td style=\"font-weight: bold; text-align:right\">-321</td><td style=\"font-weight: bold; text-align:right\">-3</td><td style=\"font-weight: bold; text-align:right\">374,087</td>\n<td data-continent=\"North America\" style=\"display:none\">North America</td>\n</tr><tr class=\"even\" role=\"row\" style=\"\">\n<td style=\"font-size:12px;color: grey;text-align:center;vertical-align:middle;\">157</td>\n<td style=\"font-weight: bold; font-size:15px; text-align:left;\"><a class=\"mt_a\" href=\"/coronavirus/country/papua-new-guinea/\">Papua New Guinea</a></td>\n<td class=\"sorting_1\" style=\"font-weight: bold; text-align:right\">0</td>\n<td style=\"font-weight: bold; text-align:right\">16</td>\n<td style=\"font-weight: bold; text-align:right\">-100%</td>\n<td style=\"font-weight: bold; text-align:right\">0</td>\n<td style=\"font-weight: bold; text-align:right\">0</td>\n<td style=\"font-weight: bold; text-align:right\">0</td>\n<td style=\"font-weight: bold; text-align:right\">0%</td>\n<td style=\"font-weight: bold; text-align:right\">0</td>\n<td style=\"font-weight: bold; text-align:right\">-2</td><td style=\"font-weight: bold; text-align:right\">0</td><td style=\"font-weight: bold; text-align:right\">9,292,169</td>\n<td data-continent=\"Australia/Oceania\" style=\"display:none\">Australia/Oceania</td>\n</tr><tr class=\"odd\" role=\"row\" style=\"\">\n<td style=\"font-size:12px;color: grey;text-align:center;vertical-align:middle;\">158</td>\n<td style=\"font-weight: bold; font-size:15px; text-align:left;\"><a class=\"mt_a\" href=\"/coronavirus/country/portugal/\">Portugal</a></td>\n<td class=\"sorting_1\" style=\"font-weight: bold; text-align:right\">0</td>\n<td style=\"font-weight: bold; text-align:right\">1,229</td>\n<td style=\"font-weight: bold; text-align:right\">-100%</td>\n<td style=\"font-weight: bold; text-align:right\">0</td>\n<td style=\"font-weight: bold; text-align:right\">0</td>\n<td style=\"font-weight: bold; text-align:right\">58</td>\n<td style=\"font-weight: bold; text-align:right\">-100%</td>\n<td style=\"font-weight: bold; text-align:right\">0</td>\n<td style=\"font-weight: bold; text-align:right\">-121</td><td style=\"font-weight: bold; text-align:right\">-6</td><td style=\"font-weight: bold; text-align:right\">10,140,570</td>\n<td data-continent=\"Europe\" style=\"display:none\">Europe</td>\n</tr><tr class=\"even\" role=\"row\" style=\"\">\n<td style=\"font-size:12px;color: grey;text-align:center;vertical-align:middle;\">159</td>\n<td style=\"font-weight: bold; font-size:15px; text-align:left;\"><a class=\"mt_a\" href=\"/coronavirus/country/rwanda/\">Rwanda</a></td>\n<td class=\"sorting_1\" style=\"font-weight: bold; text-align:right\">0</td>\n<td style=\"font-weight: bold; text-align:right\">80</td>\n<td style=\"font-weight: bold; text-align:right\">-100%</td>\n<td style=\"font-weight: bold; text-align:right\">0</td>\n<td style=\"font-weight: bold; text-align:right\">0</td>\n<td style=\"font-weight: bold; text-align:right\">0</td>\n<td style=\"font-weight: bold; text-align:right\">0%</td>\n<td style=\"font-weight: bold; text-align:right\">0</td>\n<td style=\"font-weight: bold; text-align:right\">-6</td><td style=\"font-weight: bold; text-align:right\">0</td><td style=\"font-weight: bold; text-align:right\">13,600,464</td>\n<td data-continent=\"Africa\" style=\"display:none\">Africa</td>\n</tr><tr class=\"odd\" role=\"row\" style=\"\">\n<td style=\"font-size:12px;color: grey;text-align:center;vertical-align:middle;\">160</td>\n<td style=\"font-weight: bold; font-size:15px; text-align:left;\"><a class=\"mt_a\" href=\"/coronavirus/country/saint-kitts-and-nevis/\">Saint Kitts and Nevis</a></td>\n<td class=\"sorting_1\" style=\"font-weight: bold; text-align:right\">0</td>\n<td style=\"font-weight: bold; text-align:right\">3</td>\n<td style=\"font-weight: bold; text-align:right\">-100%</td>\n<td style=\"font-weight: bold; text-align:right\">0</td>\n<td style=\"font-weight: bold; text-align:right\">0</td>\n<td style=\"font-weight: bold; text-align:right\">0</td>\n<td style=\"font-weight: bold; text-align:right\">0%</td>\n<td style=\"font-weight: bold; text-align:right\">0</td>\n<td style=\"font-weight: bold; text-align:right\">-56</td><td style=\"font-weight: bold; text-align:right\">0</td><td style=\"font-weight: bold; text-align:right\">53,871</td>\n<td data-continent=\"North America\" style=\"display:none\">North America</td>\n</tr><tr class=\"even\" role=\"row\" style=\"\">\n<td style=\"font-size:12px;color: grey;text-align:center;vertical-align:middle;\">161</td>\n<td style=\"font-weight: bold; font-size:15px; text-align:left;\"><a class=\"mt_a\" href=\"/coronavirus/country/saint-vincent-and-the-grenadines/\">St. Vincent Grenadines</a></td>\n<td class=\"sorting_1\" style=\"font-weight: bold; text-align:right\">0</td>\n<td style=\"font-weight: bold; text-align:right\">2</td>\n<td style=\"font-weight: bold; text-align:right\">-100%</td>\n<td style=\"font-weight: bold; text-align:right\">0</td>\n<td style=\"font-weight: bold; text-align:right\">0</td>\n<td style=\"font-weight: bold; text-align:right\">0</td>\n<td style=\"font-weight: bold; text-align:right\">0%</td>\n<td style=\"font-weight: bold; text-align:right\">0</td>\n<td style=\"font-weight: bold; text-align:right\">-18</td><td style=\"font-weight: bold; text-align:right\">0</td><td style=\"font-weight: bold; text-align:right\">111,551</td>\n<td data-continent=\"North America\" style=\"display:none\">North America</td>\n</tr><tr class=\"odd\" role=\"row\" style=\"\">\n<td style=\"font-size:12px;color: grey;text-align:center;vertical-align:middle;\">162</td>\n<td style=\"font-weight: bold; font-size:15px; text-align:left;\"><a class=\"mt_a\" href=\"/coronavirus/country/somalia/\">Somalia</a></td>\n<td class=\"sorting_1\" style=\"font-weight: bold; text-align:right\">0</td>\n<td style=\"font-weight: bold; text-align:right\">2</td>\n<td style=\"font-weight: bold; text-align:right\">-100%</td>\n<td style=\"font-weight: bold; text-align:right\">0</td>\n<td style=\"font-weight: bold; text-align:right\">0</td>\n<td style=\"font-weight: bold; text-align:right\">0</td>\n<td style=\"font-weight: bold; text-align:right\">0%</td>\n<td style=\"font-weight: bold; text-align:right\">0</td>\n<td style=\"font-weight: bold; text-align:right\">-0.1</td><td style=\"font-weight: bold; text-align:right\">0</td><td style=\"font-weight: bold; text-align:right\">16,841,795</td>\n<td data-continent=\"Africa\" style=\"display:none\">Africa</td>\n</tr><tr class=\"even\" role=\"row\" style=\"\">\n<td style=\"font-size:12px;color: grey;text-align:center;vertical-align:middle;\">163</td>\n<td style=\"font-weight: bold; font-size:15px; text-align:left;\"><a class=\"mt_a\" href=\"/coronavirus/country/swaziland/\">Eswatini</a></td>\n<td class=\"sorting_1\" style=\"font-weight: bold; text-align:right\">0</td>\n<td style=\"font-weight: bold; text-align:right\">41</td>\n<td style=\"font-weight: bold; text-align:right\">-100%</td>\n<td style=\"font-weight: bold; text-align:right\">0</td>\n<td style=\"font-weight: bold; text-align:right\">0</td>\n<td style=\"font-weight: bold; text-align:right\">0</td>\n<td style=\"font-weight: bold; text-align:right\">0%</td>\n<td style=\"font-weight: bold; text-align:right\">0</td>\n<td style=\"font-weight: bold; text-align:right\">-35</td><td style=\"font-weight: bold; text-align:right\">0</td><td style=\"font-weight: bold; text-align:right\">1,184,817</td>\n<td data-continent=\"Africa\" style=\"display:none\">Africa</td>\n</tr><tr class=\"odd\" role=\"row\" style=\"\">\n<td style=\"font-size:12px;color: grey;text-align:center;vertical-align:middle;\">164</td>\n<td style=\"font-weight: bold; font-size:15px; text-align:left;\"><a class=\"mt_a\" href=\"/coronavirus/country/timor-leste/\">Timor-Leste</a></td>\n<td class=\"sorting_1\" style=\"font-weight: bold; text-align:right\">0</td>\n<td style=\"font-weight: bold; text-align:right\">2</td>\n<td style=\"font-weight: bold; text-align:right\">-100%</td>\n<td style=\"font-weight: bold; text-align:right\">0</td>\n<td style=\"font-weight: bold; text-align:right\">0</td>\n<td style=\"font-weight: bold; text-align:right\">0</td>\n<td style=\"font-weight: bold; text-align:right\">0%</td>\n<td style=\"font-weight: bold; text-align:right\">0</td>\n<td style=\"font-weight: bold; text-align:right\">-1</td><td style=\"font-weight: bold; text-align:right\">0</td><td style=\"font-weight: bold; text-align:right\">1,369,429</td>\n<td data-continent=\"Asia\" style=\"display:none\">Asia</td>\n</tr><tr class=\"even\" role=\"row\" style=\"\">\n<td style=\"font-size:12px;color: grey;text-align:center;vertical-align:middle;\">165</td>\n<td style=\"font-weight: bold; font-size:15px; text-align:left;\"><a class=\"mt_a\" href=\"/coronavirus/country/tonga/\">Tonga</a></td>\n<td class=\"sorting_1\" style=\"font-weight: bold; text-align:right\">0</td>\n<td style=\"font-weight: bold; text-align:right\">6</td>\n<td style=\"font-weight: bold; text-align:right\">-100%</td>\n<td style=\"font-weight: bold; text-align:right\">0</td>\n<td style=\"font-weight: bold; text-align:right\">0</td>\n<td style=\"font-weight: bold; text-align:right\">0</td>\n<td style=\"font-weight: bold; text-align:right\">0%</td>\n<td style=\"font-weight: bold; text-align:right\">0</td>\n<td style=\"font-weight: bold; text-align:right\">-56</td><td style=\"font-weight: bold; text-align:right\">0</td><td style=\"font-weight: bold; text-align:right\">107,749</td>\n<td data-continent=\"Australia/Oceania\" style=\"display:none\">Australia/Oceania</td>\n</tr><tr class=\"odd\" role=\"row\" style=\"\">\n<td style=\"font-size:12px;color: grey;text-align:center;vertical-align:middle;\">166</td>\n<td style=\"font-weight: bold; font-size:15px; text-align:left;\"><a class=\"mt_a\" href=\"/coronavirus/country/turks-and-caicos-islands/\">Turks and Caicos</a></td>\n<td class=\"sorting_1\" style=\"font-weight: bold; text-align:right\">0</td>\n<td style=\"font-weight: bold; text-align:right\">14</td>\n<td style=\"font-weight: bold; text-align:right\">-100%</td>\n<td style=\"font-weight: bold; text-align:right\">0</td>\n<td style=\"font-weight: bold; text-align:right\">0</td>\n<td style=\"font-weight: bold; text-align:right\">0</td>\n<td style=\"font-weight: bold; text-align:right\">0%</td>\n<td style=\"font-weight: bold; text-align:right\">0</td>\n<td style=\"font-weight: bold; text-align:right\">-352</td><td style=\"font-weight: bold; text-align:right\">0</td><td style=\"font-weight: bold; text-align:right\">39,741</td>\n<td data-continent=\"North America\" style=\"display:none\">North America</td>\n</tr><tr class=\"even\" role=\"row\" style=\"\">\n<td style=\"font-size:12px;color: grey;text-align:center;vertical-align:middle;\">167</td>\n<td style=\"font-weight: bold; font-size:15px; text-align:left;\"><a class=\"mt_a\" href=\"/coronavirus/country/ukraine/\">Ukraine</a></td>\n<td class=\"sorting_1\" style=\"font-weight: bold; text-align:right\">0</td>\n<td style=\"font-weight: bold; text-align:right\">5,283</td>\n<td style=\"font-weight: bold; text-align:right\">-100%</td>\n<td style=\"font-weight: bold; text-align:right\">0</td>\n<td style=\"font-weight: bold; text-align:right\">0</td>\n<td style=\"font-weight: bold; text-align:right\">44</td>\n<td style=\"font-weight: bold; text-align:right\">-100%</td>\n<td style=\"font-weight: bold; text-align:right\">0</td>\n<td style=\"font-weight: bold; text-align:right\">-122</td><td style=\"font-weight: bold; text-align:right\">-1</td><td style=\"font-weight: bold; text-align:right\">43,192,122</td>\n<td data-continent=\"Europe\" style=\"display:none\">Europe</td>\n</tr></tbody>\n<tbody class=\"body_continents\">\n<tr class=\"total_row_world row_continent\" data-continent=\"Asia\" style=\"display: none\">\n<td></td>\n<td style=\"text-align:left;\">\n<nobr>Asia</nobr>\n</td>\n<td>284,108</td>\n<td>359,384</td>\n<td>-21%</td>\n<td></td>\n<td>1,257</td>\n<td>1,757</td>\n<td>\n                                    -28%                                    </td>\n<td></td>\n<td style=\"display: none;\">-75,276</td>\n<td style=\"display: block;\"></td>\n<td style=\"display: none;\">-500</td>\n<td style=\"display: block;\"></td>\n<td></td>\n<td data-continent=\"Asia\" style=\"display:none;\">Asia</td>\n</tr>\n<tr class=\"total_row_world row_continent\" data-continent=\"Australia/Oceania\" style=\"display: none\">\n<td></td>\n<td style=\"text-align:left;\">\n<nobr>Oceania</nobr>\n</td>\n<td>23,935</td>\n<td>25,635</td>\n<td>-7%</td>\n<td></td>\n<td>120</td>\n<td>193</td>\n<td>\n                                    -38%                                    </td>\n<td></td>\n<td style=\"display: none;\">-1,700</td>\n<td style=\"display: block;\"></td>\n<td style=\"display: none;\">-73</td>\n<td style=\"display: block;\"></td>\n<td></td>\n<td data-continent=\"Australia/Oceania\" style=\"display:none;\">Australia/Oceania</td>\n</tr>\n<tr class=\"total_row_world row_continent\" data-continent=\"North America\" style=\"display: none\">\n<td></td>\n<td style=\"text-align:left;\">\n<nobr>North America</nobr>\n</td>\n<td>132,257</td>\n<td>260,173</td>\n<td>-49%</td>\n<td></td>\n<td>1,202</td>\n<td>2,716</td>\n<td>\n                                    -56%                                    </td>\n<td></td>\n<td style=\"display: none;\">-127,916</td>\n<td style=\"display: block;\"></td>\n<td style=\"display: none;\">-1,514</td>\n<td style=\"display: block;\"></td>\n<td></td>\n<td data-continent=\"North America\" style=\"display:none;\">North America</td>\n</tr>\n<tr class=\"total_row_world row_continent\" data-continent=\"Europe\" style=\"display: none\">\n<td></td>\n<td style=\"text-align:left;\">\n<nobr>Europe</nobr>\n</td>\n<td>341,866</td>\n<td>358,856</td>\n<td>-5%</td>\n<td></td>\n<td>1,540</td>\n<td>2,466</td>\n<td>\n                                    -38%                                    </td>\n<td></td>\n<td style=\"display: none;\">-16,990</td>\n<td style=\"display: block;\"></td>\n<td style=\"display: none;\">-926</td>\n<td style=\"display: block;\"></td>\n<td></td>\n<td data-continent=\"Europe\" style=\"display:none;\">Europe</td>\n</tr>\n<tr class=\"total_row_world row_continent\" data-continent=\"Africa\" style=\"display: none\">\n<td></td>\n<td style=\"text-align:left;\">\n<nobr>Africa</nobr>\n</td>\n<td>3,342</td>\n<td>3,520</td>\n<td>-5%</td>\n<td></td>\n<td>15</td>\n<td>12</td>\n<td>\n                                    +25%                                    </td>\n<td></td>\n<td style=\"display: none;\">-178</td>\n<td style=\"display: block;\"></td>\n<td style=\"display: none;\">+3</td>\n<td style=\"display: block;\"></td>\n<td></td>\n<td data-continent=\"Africa\" style=\"display:none;\">Africa</td>\n</tr>\n<tr class=\"total_row_world row_continent\" data-continent=\"South America\" style=\"display: none\">\n<td></td>\n<td style=\"text-align:left;\">\n<nobr>South America</nobr>\n</td>\n<td>52,122</td>\n<td>72,603</td>\n<td>-28%</td>\n<td></td>\n<td>1,078</td>\n<td>577</td>\n<td>\n                                    +87%                                    </td>\n<td></td>\n<td style=\"display: none;\">-20,481</td>\n<td style=\"display: block;\"></td>\n<td style=\"display: none;\">+501</td>\n<td style=\"display: block;\"></td>\n<td></td>\n<td data-continent=\"South America\" style=\"display:none;\">South America</td>\n</tr>\n</tbody>\n<tbody class=\"total_row_body body_world\">\n<tr class=\"total_row\">\n<td></td>\n<td style=\"text-align:left;\">World</td>\n<td>837,630</td>\n<td>1,080,171</td>\n<td>-22%</td>\n<td></td>\n<td>5,212</td>\n<td>7,721</td>\n<td>-32%</td>\n<td></td>\n<td style=\"display: none;\">-242,541</td>\n<td style=\"display: block;\"></td>\n<td style=\"display: none;\">-2,509</td>\n<td style=\"display: block;\"></td>\n<td></td>\n<td data-continent=\"all\" style=\"display:none\">All</td>\n</tr>\n</tbody>\n</table>"
     },
     "execution_count": 158,
     "metadata": {},
     "output_type": "execute_result"
    }
   ],
   "source": [
    "# arguments: tag, {attribute: value}\n",
    "table = soup.find('table', {'id':'main_table_countries_today'})\n",
    "table"
   ]
  },
  {
   "cell_type": "code",
   "execution_count": 159,
   "metadata": {},
   "outputs": [
    {
     "data": {
      "text/plain": "<tr role=\"row\"><th aria-label=\"#\" class=\"sorting_disabled\" colspan=\"1\" rowspan=\"1\" style=\"width: 14.3333px;\" width=\"1%\">#</th><th aria-controls=\"main_table_countries_today\" aria-label=\"Country,Other: activate to sort column ascending\" class=\"sorting\" colspan=\"1\" rowspan=\"1\" style=\"width: 100.333px;\" tabindex=\"0\" width=\"100\">Country,<br/>Other</th><th aria-controls=\"main_table_countries_today\" aria-label=\"Cases in the last 7 days: activate to sort column ascending\" aria-sort=\"descending\" class=\"sorting_desc\" colspan=\"1\" rowspan=\"1\" style=\"width: 40.3333px;\" tabindex=\"0\" width=\"30\">Cases in the last 7 days</th><th aria-controls=\"main_table_countries_today\" aria-label=\"Cases in the preceding  7 days: activate to sort column descending\" class=\"sorting\" colspan=\"1\" rowspan=\"1\" style=\"width: 70.3333px;\" tabindex=\"0\" width=\"30\">Cases in the preceding  7 days</th><th aria-controls=\"main_table_countries_today\" aria-label=\"Weekly Case % Change: activate to sort column descending\" class=\"sorting\" colspan=\"1\" rowspan=\"1\" style=\"width: 87.3333px;\" tabindex=\"0\" width=\"30\"><nobr>Weekly Case</nobr> <nobr>% Change</nobr></th><th aria-controls=\"main_table_countries_today\" aria-label=\"Cases in the last 7 days/1M pop: activate to sort column descending\" class=\"sorting\" colspan=\"1\" rowspan=\"1\" style=\"width: 71.3333px;\" tabindex=\"0\" width=\"30\">Cases in the last <nobr>7 days</nobr>/1M pop</th><th aria-controls=\"main_table_countries_today\" aria-label=\"Deaths in the last 7 days: activate to sort column descending\" class=\"sorting\" colspan=\"1\" rowspan=\"1\" style=\"width: 49.3333px;\" tabindex=\"0\" width=\"30\">Deaths in the last <nobr>7 days</nobr></th><th aria-controls=\"main_table_countries_today\" aria-label=\"Deaths in the preceding 7 days: activate to sort column descending\" class=\"sorting\" colspan=\"1\" rowspan=\"1\" style=\"width: 70.3333px;\" tabindex=\"0\" width=\"30\">Deaths in the preceding <nobr>7 days</nobr></th><th aria-controls=\"main_table_countries_today\" aria-label=\"Weekly Death % Change: activate to sort column descending\" class=\"sorting\" colspan=\"1\" rowspan=\"1\" style=\"width: 97.3333px;\" tabindex=\"0\" width=\"30\"><nobr>Weekly Death</nobr> <nobr>% Change</nobr></th><th aria-controls=\"main_table_countries_today\" aria-label=\"Deaths in the last 7 days/1M pop: activate to sort column descending\" class=\"sorting\" colspan=\"1\" rowspan=\"1\" style=\"width: 59.3333px;\" tabindex=\"0\" width=\"30\">Deaths in the last 7 days/1M pop</th><th aria-controls=\"main_table_countries_today\" aria-label=\"Weekly Case Change/1M pop: activate to sort column descending\" class=\"sorting\" colspan=\"1\" rowspan=\"1\" style=\"width: 80.3333px;\" tabindex=\"0\" width=\"30\">Weekly Case Change/1M pop</th><th aria-controls=\"main_table_countries_today\" aria-label=\"Weekly Deaths Change/1M pop: activate to sort column descending\" class=\"sorting\" colspan=\"1\" rowspan=\"1\" style=\"width: 80.3333px;\" tabindex=\"0\" width=\"30\">Weekly Deaths Change/1M pop</th><th aria-controls=\"main_table_countries_today\" aria-label=\"Population: activate to sort column descending\" class=\"sorting\" colspan=\"1\" rowspan=\"1\" style=\"width: 80.3333px;\" tabindex=\"0\" width=\"30\">Population</th><th aria-controls=\"main_table_countries_today\" aria-label=\"Continent: activate to sort column descending\" class=\"sorting\" colspan=\"1\" rowspan=\"1\" style=\"display: none; width: 0px;\" tabindex=\"0\" width=\"30\">Continent</th></tr>"
     },
     "execution_count": 159,
     "metadata": {},
     "output_type": "execute_result"
    }
   ],
   "source": [
    "rows = table.find_all('tr', {'role':'row'})\n",
    "rows[0] # use .text to understand what part of the site it is"
   ]
  },
  {
   "cell_type": "code",
   "execution_count": 160,
   "metadata": {},
   "outputs": [
    {
     "data": {
      "text/plain": "<tr class=\"even\" role=\"row\" style=\"\">\n<td style=\"font-size:12px;color: grey;text-align:center;vertical-align:middle;\">93</td>\n<td style=\"font-weight: bold; font-size:15px; text-align:left;\"><a class=\"mt_a\" href=\"/coronavirus/country/bosnia-and-herzegovina/\">Bosnia and Herzegovina</a></td>\n<td class=\"sorting_1\" style=\"font-weight: bold; text-align:right\">48</td>\n<td style=\"font-weight: bold; text-align:right\">55</td>\n<td style=\"font-weight: bold; text-align:right\">-13%</td>\n<td style=\"font-weight: bold; text-align:right\">15</td>\n<td style=\"font-weight: bold; text-align:right\">11</td>\n<td style=\"font-weight: bold; text-align:right\">6</td>\n<td style=\"font-weight: bold; text-align:right\">+83%</td>\n<td style=\"font-weight: bold; text-align:right\">3</td>\n<td style=\"font-weight: bold; text-align:right\">-2</td><td style=\"font-weight: bold; text-align:right\">+2</td><td style=\"font-weight: bold; text-align:right\">3,249,317</td>\n<td data-continent=\"Europe\" style=\"display:none\">Europe</td>\n</tr>"
     },
     "execution_count": 160,
     "metadata": {},
     "output_type": "execute_result"
    }
   ],
   "source": [
    "rows[100]"
   ]
  },
  {
   "cell_type": "code",
   "execution_count": 161,
   "metadata": {},
   "outputs": [
    {
     "data": {
      "text/plain": "[None,\n None,\n None,\n None,\n None,\n <a class=\"mt_a\" href=\"/coronavirus/country/us/\">USA</a>,\n <a class=\"mt_a\" href=\"/coronavirus/country/germany/\">Germany</a>,\n <a class=\"mt_a\" href=\"/coronavirus/country/taiwan/\">Taiwan</a>,\n <a class=\"mt_a\" href=\"/coronavirus/country/japan/\">Japan</a>,\n <a class=\"mt_a\" href=\"/coronavirus/country/russia/\">Russia</a>,\n <a class=\"mt_a\" href=\"/coronavirus/country/south-korea/\">S. Korea</a>,\n None,\n <a class=\"mt_a\" href=\"/coronavirus/country/austria/\">Austria</a>,\n <a class=\"mt_a\" href=\"/coronavirus/country/brazil/\">Brazil</a>,\n <a class=\"mt_a\" href=\"/coronavirus/country/france/\">France</a>,\n None,\n <a class=\"mt_a\" href=\"/coronavirus/country/italy/\">Italy</a>,\n <a class=\"mt_a\" href=\"/coronavirus/country/poland/\">Poland</a>,\n <a class=\"mt_a\" href=\"/coronavirus/country/australia/\">Australia</a>,\n <a class=\"mt_a\" href=\"/coronavirus/country/chile/\">Chile</a>,\n <a class=\"mt_a\" href=\"/coronavirus/country/mexico/\">Mexico</a>,\n <a class=\"mt_a\" href=\"/coronavirus/country/new-zealand/\">New Zealand</a>,\n <a class=\"mt_a\" href=\"/coronavirus/country/greece/\">Greece</a>,\n <a class=\"mt_a\" href=\"/coronavirus/country/czech-republic/\">Czechia</a>,\n <a class=\"mt_a\" href=\"/coronavirus/country/serbia/\">Serbia</a>,\n <a class=\"mt_a\" href=\"/coronavirus/country/belgium/\">Belgium</a>,\n <a class=\"mt_a\" href=\"/coronavirus/country/spain/\">Spain</a>,\n <a class=\"mt_a\" href=\"/coronavirus/country/costa-rica/\">Costa Rica</a>,\n <a class=\"mt_a\" href=\"/coronavirus/country/romania/\">Romania</a>,\n <a class=\"mt_a\" href=\"/coronavirus/country/israel/\">Israel</a>,\n None,\n <a class=\"mt_a\" href=\"/coronavirus/country/moldova/\">Moldova</a>,\n <a class=\"mt_a\" href=\"/coronavirus/country/lithuania/\">Lithuania</a>,\n <a class=\"mt_a\" href=\"/coronavirus/country/cyprus/\">Cyprus</a>,\n <a class=\"mt_a\" href=\"/coronavirus/country/slovenia/\">Slovenia</a>,\n <a class=\"mt_a\" href=\"/coronavirus/country/guatemala/\">Guatemala</a>,\n <a class=\"mt_a\" href=\"/coronavirus/country/bahrain/\">Bahrain</a>,\n <a class=\"mt_a\" href=\"/coronavirus/country/canada/\">Canada</a>,\n <a class=\"mt_a\" href=\"/coronavirus/country/indonesia/\">Indonesia</a>,\n <a class=\"mt_a\" href=\"/coronavirus/country/malaysia/\">Malaysia</a>,\n <a class=\"mt_a\" href=\"/coronavirus/country/netherlands/\">Netherlands</a>,\n <a class=\"mt_a\" href=\"/coronavirus/country/iran/\">Iran</a>,\n <a class=\"mt_a\" href=\"/coronavirus/country/switzerland/\">Switzerland</a>,\n <a class=\"mt_a\" href=\"/coronavirus/country/india/\">India</a>,\n <a class=\"mt_a\" href=\"/coronavirus/country/south-africa/\">South Africa</a>,\n <a class=\"mt_a\" href=\"/coronavirus/country/lebanon/\">Lebanon</a>,\n <a class=\"mt_a\" href=\"/coronavirus/country/bolivia/\">Bolivia</a>,\n <a class=\"mt_a\" href=\"/coronavirus/country/georgia/\">Georgia</a>,\n <a class=\"mt_a\" href=\"/coronavirus/country/paraguay/\">Paraguay</a>,\n <a class=\"mt_a\" href=\"/coronavirus/country/china-hong-kong-sar/\">Hong Kong</a>,\n <a class=\"mt_a\" href=\"/coronavirus/country/hungary/\">Hungary</a>,\n <a class=\"mt_a\" href=\"/coronavirus/country/philippines/\">Philippines</a>,\n <a class=\"mt_a\" href=\"/coronavirus/country/united-arab-emirates/\">UAE</a>,\n <a class=\"mt_a\" href=\"/coronavirus/country/colombia/\">Colombia</a>,\n <a class=\"mt_a\" href=\"/coronavirus/country/montenegro/\">Montenegro</a>,\n <a class=\"mt_a\" href=\"/coronavirus/country/peru/\">Peru</a>,\n <a class=\"mt_a\" href=\"/coronavirus/country/slovakia/\">Slovakia</a>,\n <a class=\"mt_a\" href=\"/coronavirus/country/kuwait/\">Kuwait</a>,\n <a class=\"mt_a\" href=\"/coronavirus/country/qatar/\">Qatar</a>,\n <a class=\"mt_a\" href=\"/coronavirus/country/brunei-darussalam/\">Brunei </a>,\n <a class=\"mt_a\" href=\"/coronavirus/country/zambia/\">Zambia</a>,\n <a class=\"mt_a\" href=\"/coronavirus/country/armenia/\">Armenia</a>,\n <a class=\"mt_a\" href=\"/coronavirus/country/bulgaria/\">Bulgaria</a>,\n <a class=\"mt_a\" href=\"/coronavirus/country/saudi-arabia/\">Saudi Arabia</a>,\n <a class=\"mt_a\" href=\"/coronavirus/country/sweden/\">Sweden</a>,\n <a class=\"mt_a\" href=\"/coronavirus/country/panama/\">Panama</a>,\n <a class=\"mt_a\" href=\"/coronavirus/country/denmark/\">Denmark</a>,\n <a class=\"mt_a\" href=\"/coronavirus/country/cameroon/\">Cameroon</a>,\n <a class=\"mt_a\" href=\"/coronavirus/country/estonia/\">Estonia</a>,\n <a class=\"mt_a\" href=\"/coronavirus/country/uruguay/\">Uruguay</a>,\n <a class=\"mt_a\" href=\"/coronavirus/country/mozambique/\">Mozambique</a>,\n <a class=\"mt_a\" href=\"/coronavirus/country/zimbabwe/\">Zimbabwe</a>,\n <a class=\"mt_a\" href=\"/coronavirus/country/norway/\">Norway</a>,\n <a class=\"mt_a\" href=\"/coronavirus/country/pakistan/\">Pakistan</a>,\n <a class=\"mt_a\" href=\"/coronavirus/country/trinidad-and-tobago/\">Trinidad and Tobago</a>,\n <a class=\"mt_a\" href=\"/coronavirus/country/barbados/\">Barbados</a>,\n <a class=\"mt_a\" href=\"/coronavirus/country/finland/\">Finland</a>,\n <a class=\"mt_a\" href=\"/coronavirus/country/thailand/\">Thailand</a>,\n <a class=\"mt_a\" href=\"/coronavirus/country/tunisia/\">Tunisia</a>,\n <a class=\"mt_a\" href=\"/coronavirus/country/azerbaijan/\">Azerbaijan</a>,\n <a class=\"mt_a\" href=\"/coronavirus/country/guadeloupe/\">Guadeloupe</a>,\n <a class=\"mt_a\" href=\"/coronavirus/country/afghanistan/\">Afghanistan</a>,\n <a class=\"mt_a\" href=\"/coronavirus/country/nauru/\">Nauru</a>,\n <a class=\"mt_a\" href=\"/coronavirus/country/macedonia/\">North Macedonia</a>,\n <a class=\"mt_a\" href=\"/coronavirus/country/latvia/\">Latvia</a>,\n <a class=\"mt_a\" href=\"/coronavirus/country/kazakhstan/\">Kazakhstan</a>,\n <a class=\"mt_a\" href=\"/coronavirus/country/ethiopia/\">Ethiopia</a>,\n <a class=\"mt_a\" href=\"/coronavirus/country/viet-nam/\">Vietnam</a>,\n <a class=\"mt_a\" href=\"/coronavirus/country/malta/\">Malta</a>,\n <a class=\"mt_a\" href=\"/coronavirus/country/mali/\">Mali</a>,\n <a class=\"mt_a\" href=\"/coronavirus/country/iceland/\">Iceland</a>,\n <a class=\"mt_a\" href=\"/coronavirus/country/cote-d-ivoire/\">Ivory Coast</a>,\n <a class=\"mt_a\" href=\"/coronavirus/country/croatia/\">Croatia</a>,\n <a class=\"mt_a\" href=\"/coronavirus/country/botswana/\">Botswana</a>,\n <a class=\"mt_a\" href=\"/coronavirus/country/albania/\">Albania</a>,\n <a class=\"mt_a\" href=\"/coronavirus/country/venezuela/\">Venezuela</a>,\n <a class=\"mt_a\" href=\"/coronavirus/country/channel-islands/\">Channel Islands</a>,\n <a class=\"mt_a\" href=\"/coronavirus/country/morocco/\">Morocco</a>,\n <a class=\"mt_a\" href=\"/coronavirus/country/namibia/\">Namibia</a>,\n <a class=\"mt_a\" href=\"/coronavirus/country/uzbekistan/\">Uzbekistan</a>,\n <a class=\"mt_a\" href=\"/coronavirus/country/bosnia-and-herzegovina/\">Bosnia and Herzegovina</a>,\n <a class=\"mt_a\" href=\"/coronavirus/country/tanzania/\">Tanzania</a>,\n <a class=\"mt_a\" href=\"/coronavirus/country/dominican-republic/\">Dominican Republic</a>,\n <a class=\"mt_a\" href=\"/coronavirus/country/malawi/\">Malawi</a>,\n <a class=\"mt_a\" href=\"/coronavirus/country/bangladesh/\">Bangladesh</a>,\n <a class=\"mt_a\" href=\"/coronavirus/country/cuba/\">Cuba</a>,\n <a class=\"mt_a\" href=\"/coronavirus/country/kenya/\">Kenya</a>,\n <a class=\"mt_a\" href=\"/coronavirus/country/kyrgyzstan/\">Kyrgyzstan</a>,\n <a class=\"mt_a\" href=\"/coronavirus/country/angola/\">Angola</a>,\n <a class=\"mt_a\" href=\"/coronavirus/country/belize/\">Belize</a>,\n <a class=\"mt_a\" href=\"/coronavirus/country/mauritius/\">Mauritius</a>,\n <a class=\"mt_a\" href=\"/coronavirus/country/niue/\">Niue</a>,\n <a class=\"mt_a\" href=\"/coronavirus/country/algeria/\">Algeria</a>,\n <a class=\"mt_a\" href=\"/coronavirus/country/equatorial-guinea/\">Equatorial Guinea</a>,\n <a class=\"mt_a\" href=\"/coronavirus/country/chad/\">Chad</a>,\n <a class=\"mt_a\" href=\"/coronavirus/country/guyana/\">Guyana</a>,\n <a class=\"mt_a\" href=\"/coronavirus/country/uganda/\">Uganda</a>,\n <a class=\"mt_a\" href=\"/coronavirus/country/fiji/\">Fiji</a>,\n <a class=\"mt_a\" href=\"/coronavirus/country/madagascar/\">Madagascar</a>,\n <a class=\"mt_a\" href=\"/coronavirus/country/samoa/\">Samoa</a>,\n <a class=\"mt_a\" href=\"/coronavirus/country/ghana/\">Ghana</a>,\n <a class=\"mt_a\" href=\"/coronavirus/country/sudan/\">Sudan</a>,\n <a class=\"mt_a\" href=\"/coronavirus/country/myanmar/\">Myanmar</a>,\n <a class=\"mt_a\" href=\"/coronavirus/country/new-caledonia/\">New Caledonia</a>,\n <a class=\"mt_a\" href=\"/coronavirus/country/saint-martin/\">Saint Martin</a>,\n <a class=\"mt_a\" href=\"/coronavirus/country/san-marino/\">San Marino</a>,\n <a class=\"mt_a\" href=\"/coronavirus/country/togo/\">Togo</a>,\n <a class=\"mt_a\" href=\"/coronavirus/country/gibraltar/\">Gibraltar</a>,\n <a class=\"mt_a\" href=\"/coronavirus/country/liechtenstein/\">Liechtenstein</a>,\n <a class=\"mt_a\" href=\"/coronavirus/country/bermuda/\">Bermuda</a>,\n <a class=\"mt_a\" href=\"/coronavirus/country/saint-barthelemy/\">St. Barth</a>,\n <a class=\"mt_a\" href=\"/coronavirus/country/nepal/\">Nepal</a>,\n <a class=\"mt_a\" href=\"/coronavirus/country/senegal/\">Senegal</a>,\n <a class=\"mt_a\" href=\"/coronavirus/country/cambodia/\">Cambodia</a>,\n <a class=\"mt_a\" href=\"/coronavirus/country/sri-lanka/\">Sri Lanka</a>,\n <a class=\"mt_a\" href=\"/coronavirus/country/laos/\">Laos</a>,\n <a class=\"mt_a\" href=\"/coronavirus/country/maldives/\">Maldives</a>,\n <a class=\"mt_a\" href=\"/coronavirus/country/bhutan/\">Bhutan</a>,\n <a class=\"mt_a\" href=\"/coronavirus/country/caribbean-netherlands/\">Caribbean Netherlands</a>,\n <a class=\"mt_a\" href=\"/coronavirus/country/china-macao-sar/\">Macao</a>,\n <a class=\"mt_a\" href=\"/coronavirus/country/cabo-verde/\">Cabo Verde</a>,\n <a class=\"mt_a\" href=\"/coronavirus/country/monaco/\">Monaco</a>,\n <a class=\"mt_a\" href=\"/coronavirus/country/syria/\">Syria</a>,\n <a class=\"mt_a\" href=\"/coronavirus/country/comoros/\">Comoros</a>,\n <a class=\"mt_a\" href=\"/coronavirus/country/kiribati/\">Kiribati</a>,\n <a class=\"mt_a\" href=\"/coronavirus/country/libya/\">Libya</a>,\n <a class=\"mt_a\" href=\"/coronavirus/country/mongolia/\">Mongolia</a>,\n <a class=\"mt_a\" href=\"/coronavirus/country/sao-tome-and-principe/\">Sao Tome and Principe</a>,\n <a class=\"mt_a\" href=\"/coronavirus/country/uk/\">UK</a>,\n <a class=\"mt_a\" href=\"/coronavirus/country/andorra/\">Andorra</a>,\n <a class=\"mt_a\" href=\"/coronavirus/country/argentina/\">Argentina</a>,\n <a class=\"mt_a\" href=\"/coronavirus/country/burkina-faso/\">Burkina Faso</a>,\n <a class=\"mt_a\" href=\"/coronavirus/country/burundi/\">Burundi</a>,\n <a class=\"mt_a\" href=\"/coronavirus/country/cook-islands/\">Cook Islands</a>,\n <a class=\"mt_a\" href=\"/coronavirus/country/democratic-republic-of-the-congo/\">DRC</a>,\n <a class=\"mt_a\" href=\"/coronavirus/country/egypt/\">Egypt</a>,\n <a class=\"mt_a\" href=\"/coronavirus/country/guinea/\">Guinea</a>,\n <a class=\"mt_a\" href=\"/coronavirus/country/guinea-bissau/\">Guinea-Bissau</a>,\n <a class=\"mt_a\" href=\"/coronavirus/country/haiti/\">Haiti</a>,\n <a class=\"mt_a\" href=\"/coronavirus/country/honduras/\">Honduras</a>,\n <a class=\"mt_a\" href=\"/coronavirus/country/ireland/\">Ireland</a>,\n <a class=\"mt_a\" href=\"/coronavirus/country/jamaica/\">Jamaica</a>,\n <a class=\"mt_a\" href=\"/coronavirus/country/marshall-islands/\">Marshall Islands</a>,\n <a class=\"mt_a\" href=\"/coronavirus/country/martinique/\">Martinique</a>,\n <a class=\"mt_a\" href=\"/coronavirus/country/papua-new-guinea/\">Papua New Guinea</a>,\n <a class=\"mt_a\" href=\"/coronavirus/country/portugal/\">Portugal</a>,\n <a class=\"mt_a\" href=\"/coronavirus/country/rwanda/\">Rwanda</a>,\n <a class=\"mt_a\" href=\"/coronavirus/country/saint-kitts-and-nevis/\">Saint Kitts and Nevis</a>,\n <a class=\"mt_a\" href=\"/coronavirus/country/saint-vincent-and-the-grenadines/\">St. Vincent Grenadines</a>,\n <a class=\"mt_a\" href=\"/coronavirus/country/somalia/\">Somalia</a>,\n <a class=\"mt_a\" href=\"/coronavirus/country/swaziland/\">Eswatini</a>,\n <a class=\"mt_a\" href=\"/coronavirus/country/timor-leste/\">Timor-Leste</a>,\n <a class=\"mt_a\" href=\"/coronavirus/country/tonga/\">Tonga</a>,\n <a class=\"mt_a\" href=\"/coronavirus/country/turks-and-caicos-islands/\">Turks and Caicos</a>,\n <a class=\"mt_a\" href=\"/coronavirus/country/ukraine/\">Ukraine</a>]"
     },
     "execution_count": 161,
     "metadata": {},
     "output_type": "execute_result"
    }
   ],
   "source": [
    "countries=[]\n",
    "\n",
    "for row in rows:\n",
    "    countries.append(row.find('a', {'class':'mt_a'}))\n",
    "    \n",
    "countries"
   ]
  },
  {
   "cell_type": "code",
   "execution_count": 162,
   "metadata": {},
   "outputs": [
    {
     "data": {
      "text/plain": "[<a class=\"mt_a\" href=\"/coronavirus/country/us/\">USA</a>,\n <a class=\"mt_a\" href=\"/coronavirus/country/germany/\">Germany</a>,\n <a class=\"mt_a\" href=\"/coronavirus/country/taiwan/\">Taiwan</a>,\n <a class=\"mt_a\" href=\"/coronavirus/country/japan/\">Japan</a>,\n <a class=\"mt_a\" href=\"/coronavirus/country/russia/\">Russia</a>,\n <a class=\"mt_a\" href=\"/coronavirus/country/south-korea/\">S. Korea</a>,\n <a class=\"mt_a\" href=\"/coronavirus/country/austria/\">Austria</a>,\n <a class=\"mt_a\" href=\"/coronavirus/country/brazil/\">Brazil</a>,\n <a class=\"mt_a\" href=\"/coronavirus/country/france/\">France</a>,\n <a class=\"mt_a\" href=\"/coronavirus/country/italy/\">Italy</a>,\n <a class=\"mt_a\" href=\"/coronavirus/country/poland/\">Poland</a>,\n <a class=\"mt_a\" href=\"/coronavirus/country/australia/\">Australia</a>,\n <a class=\"mt_a\" href=\"/coronavirus/country/chile/\">Chile</a>,\n <a class=\"mt_a\" href=\"/coronavirus/country/mexico/\">Mexico</a>,\n <a class=\"mt_a\" href=\"/coronavirus/country/new-zealand/\">New Zealand</a>,\n <a class=\"mt_a\" href=\"/coronavirus/country/greece/\">Greece</a>,\n <a class=\"mt_a\" href=\"/coronavirus/country/czech-republic/\">Czechia</a>,\n <a class=\"mt_a\" href=\"/coronavirus/country/serbia/\">Serbia</a>,\n <a class=\"mt_a\" href=\"/coronavirus/country/belgium/\">Belgium</a>,\n <a class=\"mt_a\" href=\"/coronavirus/country/spain/\">Spain</a>,\n <a class=\"mt_a\" href=\"/coronavirus/country/costa-rica/\">Costa Rica</a>,\n <a class=\"mt_a\" href=\"/coronavirus/country/romania/\">Romania</a>,\n <a class=\"mt_a\" href=\"/coronavirus/country/israel/\">Israel</a>,\n <a class=\"mt_a\" href=\"/coronavirus/country/moldova/\">Moldova</a>,\n <a class=\"mt_a\" href=\"/coronavirus/country/lithuania/\">Lithuania</a>,\n <a class=\"mt_a\" href=\"/coronavirus/country/cyprus/\">Cyprus</a>,\n <a class=\"mt_a\" href=\"/coronavirus/country/slovenia/\">Slovenia</a>,\n <a class=\"mt_a\" href=\"/coronavirus/country/guatemala/\">Guatemala</a>,\n <a class=\"mt_a\" href=\"/coronavirus/country/bahrain/\">Bahrain</a>,\n <a class=\"mt_a\" href=\"/coronavirus/country/canada/\">Canada</a>,\n <a class=\"mt_a\" href=\"/coronavirus/country/indonesia/\">Indonesia</a>,\n <a class=\"mt_a\" href=\"/coronavirus/country/malaysia/\">Malaysia</a>,\n <a class=\"mt_a\" href=\"/coronavirus/country/netherlands/\">Netherlands</a>,\n <a class=\"mt_a\" href=\"/coronavirus/country/iran/\">Iran</a>,\n <a class=\"mt_a\" href=\"/coronavirus/country/switzerland/\">Switzerland</a>,\n <a class=\"mt_a\" href=\"/coronavirus/country/india/\">India</a>,\n <a class=\"mt_a\" href=\"/coronavirus/country/south-africa/\">South Africa</a>,\n <a class=\"mt_a\" href=\"/coronavirus/country/lebanon/\">Lebanon</a>,\n <a class=\"mt_a\" href=\"/coronavirus/country/bolivia/\">Bolivia</a>,\n <a class=\"mt_a\" href=\"/coronavirus/country/georgia/\">Georgia</a>,\n <a class=\"mt_a\" href=\"/coronavirus/country/paraguay/\">Paraguay</a>,\n <a class=\"mt_a\" href=\"/coronavirus/country/china-hong-kong-sar/\">Hong Kong</a>,\n <a class=\"mt_a\" href=\"/coronavirus/country/hungary/\">Hungary</a>,\n <a class=\"mt_a\" href=\"/coronavirus/country/philippines/\">Philippines</a>,\n <a class=\"mt_a\" href=\"/coronavirus/country/united-arab-emirates/\">UAE</a>,\n <a class=\"mt_a\" href=\"/coronavirus/country/colombia/\">Colombia</a>,\n <a class=\"mt_a\" href=\"/coronavirus/country/montenegro/\">Montenegro</a>,\n <a class=\"mt_a\" href=\"/coronavirus/country/peru/\">Peru</a>,\n <a class=\"mt_a\" href=\"/coronavirus/country/slovakia/\">Slovakia</a>,\n <a class=\"mt_a\" href=\"/coronavirus/country/kuwait/\">Kuwait</a>,\n <a class=\"mt_a\" href=\"/coronavirus/country/qatar/\">Qatar</a>,\n <a class=\"mt_a\" href=\"/coronavirus/country/brunei-darussalam/\">Brunei </a>,\n <a class=\"mt_a\" href=\"/coronavirus/country/zambia/\">Zambia</a>,\n <a class=\"mt_a\" href=\"/coronavirus/country/armenia/\">Armenia</a>,\n <a class=\"mt_a\" href=\"/coronavirus/country/bulgaria/\">Bulgaria</a>,\n <a class=\"mt_a\" href=\"/coronavirus/country/saudi-arabia/\">Saudi Arabia</a>,\n <a class=\"mt_a\" href=\"/coronavirus/country/sweden/\">Sweden</a>,\n <a class=\"mt_a\" href=\"/coronavirus/country/panama/\">Panama</a>,\n <a class=\"mt_a\" href=\"/coronavirus/country/denmark/\">Denmark</a>,\n <a class=\"mt_a\" href=\"/coronavirus/country/cameroon/\">Cameroon</a>,\n <a class=\"mt_a\" href=\"/coronavirus/country/estonia/\">Estonia</a>,\n <a class=\"mt_a\" href=\"/coronavirus/country/uruguay/\">Uruguay</a>,\n <a class=\"mt_a\" href=\"/coronavirus/country/mozambique/\">Mozambique</a>,\n <a class=\"mt_a\" href=\"/coronavirus/country/zimbabwe/\">Zimbabwe</a>,\n <a class=\"mt_a\" href=\"/coronavirus/country/norway/\">Norway</a>,\n <a class=\"mt_a\" href=\"/coronavirus/country/pakistan/\">Pakistan</a>,\n <a class=\"mt_a\" href=\"/coronavirus/country/trinidad-and-tobago/\">Trinidad and Tobago</a>,\n <a class=\"mt_a\" href=\"/coronavirus/country/barbados/\">Barbados</a>,\n <a class=\"mt_a\" href=\"/coronavirus/country/finland/\">Finland</a>,\n <a class=\"mt_a\" href=\"/coronavirus/country/thailand/\">Thailand</a>,\n <a class=\"mt_a\" href=\"/coronavirus/country/tunisia/\">Tunisia</a>,\n <a class=\"mt_a\" href=\"/coronavirus/country/azerbaijan/\">Azerbaijan</a>,\n <a class=\"mt_a\" href=\"/coronavirus/country/guadeloupe/\">Guadeloupe</a>,\n <a class=\"mt_a\" href=\"/coronavirus/country/afghanistan/\">Afghanistan</a>,\n <a class=\"mt_a\" href=\"/coronavirus/country/nauru/\">Nauru</a>,\n <a class=\"mt_a\" href=\"/coronavirus/country/macedonia/\">North Macedonia</a>,\n <a class=\"mt_a\" href=\"/coronavirus/country/latvia/\">Latvia</a>,\n <a class=\"mt_a\" href=\"/coronavirus/country/kazakhstan/\">Kazakhstan</a>,\n <a class=\"mt_a\" href=\"/coronavirus/country/ethiopia/\">Ethiopia</a>,\n <a class=\"mt_a\" href=\"/coronavirus/country/viet-nam/\">Vietnam</a>,\n <a class=\"mt_a\" href=\"/coronavirus/country/malta/\">Malta</a>,\n <a class=\"mt_a\" href=\"/coronavirus/country/mali/\">Mali</a>,\n <a class=\"mt_a\" href=\"/coronavirus/country/iceland/\">Iceland</a>,\n <a class=\"mt_a\" href=\"/coronavirus/country/cote-d-ivoire/\">Ivory Coast</a>,\n <a class=\"mt_a\" href=\"/coronavirus/country/croatia/\">Croatia</a>,\n <a class=\"mt_a\" href=\"/coronavirus/country/botswana/\">Botswana</a>,\n <a class=\"mt_a\" href=\"/coronavirus/country/albania/\">Albania</a>,\n <a class=\"mt_a\" href=\"/coronavirus/country/venezuela/\">Venezuela</a>,\n <a class=\"mt_a\" href=\"/coronavirus/country/channel-islands/\">Channel Islands</a>,\n <a class=\"mt_a\" href=\"/coronavirus/country/morocco/\">Morocco</a>,\n <a class=\"mt_a\" href=\"/coronavirus/country/namibia/\">Namibia</a>,\n <a class=\"mt_a\" href=\"/coronavirus/country/uzbekistan/\">Uzbekistan</a>,\n <a class=\"mt_a\" href=\"/coronavirus/country/bosnia-and-herzegovina/\">Bosnia and Herzegovina</a>,\n <a class=\"mt_a\" href=\"/coronavirus/country/tanzania/\">Tanzania</a>,\n <a class=\"mt_a\" href=\"/coronavirus/country/dominican-republic/\">Dominican Republic</a>,\n <a class=\"mt_a\" href=\"/coronavirus/country/malawi/\">Malawi</a>,\n <a class=\"mt_a\" href=\"/coronavirus/country/bangladesh/\">Bangladesh</a>,\n <a class=\"mt_a\" href=\"/coronavirus/country/cuba/\">Cuba</a>,\n <a class=\"mt_a\" href=\"/coronavirus/country/kenya/\">Kenya</a>,\n <a class=\"mt_a\" href=\"/coronavirus/country/kyrgyzstan/\">Kyrgyzstan</a>,\n <a class=\"mt_a\" href=\"/coronavirus/country/angola/\">Angola</a>,\n <a class=\"mt_a\" href=\"/coronavirus/country/belize/\">Belize</a>,\n <a class=\"mt_a\" href=\"/coronavirus/country/mauritius/\">Mauritius</a>,\n <a class=\"mt_a\" href=\"/coronavirus/country/niue/\">Niue</a>,\n <a class=\"mt_a\" href=\"/coronavirus/country/algeria/\">Algeria</a>,\n <a class=\"mt_a\" href=\"/coronavirus/country/equatorial-guinea/\">Equatorial Guinea</a>,\n <a class=\"mt_a\" href=\"/coronavirus/country/chad/\">Chad</a>,\n <a class=\"mt_a\" href=\"/coronavirus/country/guyana/\">Guyana</a>,\n <a class=\"mt_a\" href=\"/coronavirus/country/uganda/\">Uganda</a>,\n <a class=\"mt_a\" href=\"/coronavirus/country/fiji/\">Fiji</a>,\n <a class=\"mt_a\" href=\"/coronavirus/country/madagascar/\">Madagascar</a>,\n <a class=\"mt_a\" href=\"/coronavirus/country/samoa/\">Samoa</a>,\n <a class=\"mt_a\" href=\"/coronavirus/country/ghana/\">Ghana</a>,\n <a class=\"mt_a\" href=\"/coronavirus/country/sudan/\">Sudan</a>,\n <a class=\"mt_a\" href=\"/coronavirus/country/myanmar/\">Myanmar</a>,\n <a class=\"mt_a\" href=\"/coronavirus/country/new-caledonia/\">New Caledonia</a>,\n <a class=\"mt_a\" href=\"/coronavirus/country/saint-martin/\">Saint Martin</a>,\n <a class=\"mt_a\" href=\"/coronavirus/country/san-marino/\">San Marino</a>,\n <a class=\"mt_a\" href=\"/coronavirus/country/togo/\">Togo</a>,\n <a class=\"mt_a\" href=\"/coronavirus/country/gibraltar/\">Gibraltar</a>,\n <a class=\"mt_a\" href=\"/coronavirus/country/liechtenstein/\">Liechtenstein</a>,\n <a class=\"mt_a\" href=\"/coronavirus/country/bermuda/\">Bermuda</a>,\n <a class=\"mt_a\" href=\"/coronavirus/country/saint-barthelemy/\">St. Barth</a>,\n <a class=\"mt_a\" href=\"/coronavirus/country/nepal/\">Nepal</a>,\n <a class=\"mt_a\" href=\"/coronavirus/country/senegal/\">Senegal</a>,\n <a class=\"mt_a\" href=\"/coronavirus/country/cambodia/\">Cambodia</a>,\n <a class=\"mt_a\" href=\"/coronavirus/country/sri-lanka/\">Sri Lanka</a>,\n <a class=\"mt_a\" href=\"/coronavirus/country/laos/\">Laos</a>,\n <a class=\"mt_a\" href=\"/coronavirus/country/maldives/\">Maldives</a>,\n <a class=\"mt_a\" href=\"/coronavirus/country/bhutan/\">Bhutan</a>,\n <a class=\"mt_a\" href=\"/coronavirus/country/caribbean-netherlands/\">Caribbean Netherlands</a>,\n <a class=\"mt_a\" href=\"/coronavirus/country/china-macao-sar/\">Macao</a>,\n <a class=\"mt_a\" href=\"/coronavirus/country/cabo-verde/\">Cabo Verde</a>,\n <a class=\"mt_a\" href=\"/coronavirus/country/monaco/\">Monaco</a>,\n <a class=\"mt_a\" href=\"/coronavirus/country/syria/\">Syria</a>,\n <a class=\"mt_a\" href=\"/coronavirus/country/comoros/\">Comoros</a>,\n <a class=\"mt_a\" href=\"/coronavirus/country/kiribati/\">Kiribati</a>,\n <a class=\"mt_a\" href=\"/coronavirus/country/libya/\">Libya</a>,\n <a class=\"mt_a\" href=\"/coronavirus/country/mongolia/\">Mongolia</a>,\n <a class=\"mt_a\" href=\"/coronavirus/country/sao-tome-and-principe/\">Sao Tome and Principe</a>,\n <a class=\"mt_a\" href=\"/coronavirus/country/uk/\">UK</a>,\n <a class=\"mt_a\" href=\"/coronavirus/country/andorra/\">Andorra</a>,\n <a class=\"mt_a\" href=\"/coronavirus/country/argentina/\">Argentina</a>,\n <a class=\"mt_a\" href=\"/coronavirus/country/burkina-faso/\">Burkina Faso</a>,\n <a class=\"mt_a\" href=\"/coronavirus/country/burundi/\">Burundi</a>,\n <a class=\"mt_a\" href=\"/coronavirus/country/cook-islands/\">Cook Islands</a>,\n <a class=\"mt_a\" href=\"/coronavirus/country/democratic-republic-of-the-congo/\">DRC</a>,\n <a class=\"mt_a\" href=\"/coronavirus/country/egypt/\">Egypt</a>,\n <a class=\"mt_a\" href=\"/coronavirus/country/guinea/\">Guinea</a>,\n <a class=\"mt_a\" href=\"/coronavirus/country/guinea-bissau/\">Guinea-Bissau</a>,\n <a class=\"mt_a\" href=\"/coronavirus/country/haiti/\">Haiti</a>,\n <a class=\"mt_a\" href=\"/coronavirus/country/honduras/\">Honduras</a>,\n <a class=\"mt_a\" href=\"/coronavirus/country/ireland/\">Ireland</a>,\n <a class=\"mt_a\" href=\"/coronavirus/country/jamaica/\">Jamaica</a>,\n <a class=\"mt_a\" href=\"/coronavirus/country/marshall-islands/\">Marshall Islands</a>,\n <a class=\"mt_a\" href=\"/coronavirus/country/martinique/\">Martinique</a>,\n <a class=\"mt_a\" href=\"/coronavirus/country/papua-new-guinea/\">Papua New Guinea</a>,\n <a class=\"mt_a\" href=\"/coronavirus/country/portugal/\">Portugal</a>,\n <a class=\"mt_a\" href=\"/coronavirus/country/rwanda/\">Rwanda</a>,\n <a class=\"mt_a\" href=\"/coronavirus/country/saint-kitts-and-nevis/\">Saint Kitts and Nevis</a>,\n <a class=\"mt_a\" href=\"/coronavirus/country/saint-vincent-and-the-grenadines/\">St. Vincent Grenadines</a>,\n <a class=\"mt_a\" href=\"/coronavirus/country/somalia/\">Somalia</a>,\n <a class=\"mt_a\" href=\"/coronavirus/country/swaziland/\">Eswatini</a>,\n <a class=\"mt_a\" href=\"/coronavirus/country/timor-leste/\">Timor-Leste</a>,\n <a class=\"mt_a\" href=\"/coronavirus/country/tonga/\">Tonga</a>,\n <a class=\"mt_a\" href=\"/coronavirus/country/turks-and-caicos-islands/\">Turks and Caicos</a>,\n <a class=\"mt_a\" href=\"/coronavirus/country/ukraine/\">Ukraine</a>]"
     },
     "execution_count": 162,
     "metadata": {},
     "output_type": "execute_result"
    }
   ],
   "source": [
    "countries=list(filter(lambda x: x != None, countries))\n",
    "countries"
   ]
  },
  {
   "cell_type": "code",
   "execution_count": 163,
   "metadata": {},
   "outputs": [
    {
     "data": {
      "text/plain": "['USA',\n 'Germany',\n 'Taiwan',\n 'Japan',\n 'Russia',\n 'S. Korea',\n 'Austria',\n 'Brazil',\n 'France',\n 'Italy',\n 'Poland',\n 'Australia',\n 'Chile',\n 'Mexico',\n 'New Zealand',\n 'Greece',\n 'Czechia',\n 'Serbia',\n 'Belgium',\n 'Spain',\n 'Costa Rica',\n 'Romania',\n 'Israel',\n 'Moldova',\n 'Lithuania',\n 'Cyprus',\n 'Slovenia',\n 'Guatemala',\n 'Bahrain',\n 'Canada',\n 'Indonesia',\n 'Malaysia',\n 'Netherlands',\n 'Iran',\n 'Switzerland',\n 'India',\n 'South Africa',\n 'Lebanon',\n 'Bolivia',\n 'Georgia',\n 'Paraguay',\n 'Hong Kong',\n 'Hungary',\n 'Philippines',\n 'UAE',\n 'Colombia',\n 'Montenegro',\n 'Peru',\n 'Slovakia',\n 'Kuwait',\n 'Qatar',\n 'Brunei ',\n 'Zambia',\n 'Armenia',\n 'Bulgaria',\n 'Saudi Arabia',\n 'Sweden',\n 'Panama',\n 'Denmark',\n 'Cameroon',\n 'Estonia',\n 'Uruguay',\n 'Mozambique',\n 'Zimbabwe',\n 'Norway',\n 'Pakistan',\n 'Trinidad and Tobago',\n 'Barbados',\n 'Finland',\n 'Thailand',\n 'Tunisia',\n 'Azerbaijan',\n 'Guadeloupe',\n 'Afghanistan',\n 'Nauru',\n 'North Macedonia',\n 'Latvia',\n 'Kazakhstan',\n 'Ethiopia',\n 'Vietnam',\n 'Malta',\n 'Mali',\n 'Iceland',\n 'Ivory Coast',\n 'Croatia',\n 'Botswana',\n 'Albania',\n 'Venezuela',\n 'Channel Islands',\n 'Morocco',\n 'Namibia',\n 'Uzbekistan',\n 'Bosnia and Herzegovina',\n 'Tanzania',\n 'Dominican Republic',\n 'Malawi',\n 'Bangladesh',\n 'Cuba',\n 'Kenya',\n 'Kyrgyzstan',\n 'Angola',\n 'Belize',\n 'Mauritius',\n 'Niue',\n 'Algeria',\n 'Equatorial Guinea',\n 'Chad',\n 'Guyana',\n 'Uganda',\n 'Fiji',\n 'Madagascar',\n 'Samoa',\n 'Ghana',\n 'Sudan',\n 'Myanmar',\n 'New Caledonia',\n 'Saint Martin',\n 'San Marino',\n 'Togo',\n 'Gibraltar',\n 'Liechtenstein',\n 'Bermuda',\n 'St. Barth',\n 'Nepal',\n 'Senegal',\n 'Cambodia',\n 'Sri Lanka',\n 'Laos',\n 'Maldives',\n 'Bhutan',\n 'Caribbean Netherlands',\n 'Macao',\n 'Cabo Verde',\n 'Monaco',\n 'Syria',\n 'Comoros',\n 'Kiribati',\n 'Libya',\n 'Mongolia',\n 'Sao Tome and Principe',\n 'UK',\n 'Andorra',\n 'Argentina',\n 'Burkina Faso',\n 'Burundi',\n 'Cook Islands',\n 'DRC',\n 'Egypt',\n 'Guinea',\n 'Guinea-Bissau',\n 'Haiti',\n 'Honduras',\n 'Ireland',\n 'Jamaica',\n 'Marshall Islands',\n 'Martinique',\n 'Papua New Guinea',\n 'Portugal',\n 'Rwanda',\n 'Saint Kitts and Nevis',\n 'St. Vincent Grenadines',\n 'Somalia',\n 'Eswatini',\n 'Timor-Leste',\n 'Tonga',\n 'Turks and Caicos',\n 'Ukraine']"
     },
     "execution_count": 163,
     "metadata": {},
     "output_type": "execute_result"
    }
   ],
   "source": [
    "for row in range(len(countries)):\n",
    "    countries[row] = countries[row].text\n",
    "    \n",
    "countries"
   ]
  },
  {
   "cell_type": "markdown",
   "metadata": {},
   "source": [
    "Which other columns do we need?"
   ]
  },
  {
   "cell_type": "code",
   "execution_count": 164,
   "metadata": {},
   "outputs": [
    {
     "data": {
      "text/plain": "['#',\n 'Country,Other',\n 'Cases in the last 7 days',\n 'Cases in the preceding  7 days',\n 'Weekly Case % Change',\n 'Cases in the last 7 days/1M pop',\n 'Deaths in the last 7 days',\n 'Deaths in the preceding 7 days',\n 'Weekly Death % Change',\n 'Deaths in the last 7 days/1M pop',\n 'Weekly Case Change/1M pop',\n 'Weekly Deaths Change/1M pop',\n 'Population',\n 'Continent']"
     },
     "execution_count": 164,
     "metadata": {},
     "output_type": "execute_result"
    }
   ],
   "source": [
    "list(map(lambda x: x.text, rows[0].find_all('th'))) # map() applies a function to each element of an iterable"
   ]
  },
  {
   "cell_type": "code",
   "execution_count": null,
   "metadata": {},
   "outputs": [],
   "source": [
    "rows=table.find_all('tr', {'role':'row'})\n",
    "countries=[]\n",
    "weekly_case_change=[]\n",
    "weekly_death_change=[]\n",
    "\n",
    "for row in rows:\n",
    "    try:\n",
    "        countries.append(row.find('a', {'class':'mt_a'}).text)\n",
    "        weekly_case_change.append(row.find_all('td')[-4].text)\n",
    "        weekly_death_change.append(row.find_all('td')[-3].text)\n",
    "    except:\n",
    "        continue"
   ]
  },
  {
   "cell_type": "code",
   "execution_count": null,
   "metadata": {},
   "outputs": [],
   "source": [
    "import pandas as pd\n",
    "\n",
    "df = pd.DataFrame({'Countries':countries, 'Weekly_Case_Change':weekly_case_change, 'Weekly_Death_Change':weekly_death_change})\n",
    "df"
   ]
  },
  {
   "cell_type": "code",
   "execution_count": null,
   "metadata": {},
   "outputs": [],
   "source": [
    "df['Weekly_Case_Change']=df['Weekly_Case_Change'].apply(lambda x: float(x.replace(',','')))"
   ]
  },
  {
   "cell_type": "code",
   "execution_count": null,
   "metadata": {},
   "outputs": [],
   "source": [
    "df['Weekly_Death_Change']=df['Weekly_Death_Change'].apply(lambda x: float(x.replace(',','')))"
   ]
  },
  {
   "cell_type": "markdown",
   "metadata": {},
   "source": [
    "IMPORTANT: Don't scrape the data from the website over and over (server overload), instead save a datafile to your personal computer"
   ]
  },
  {
   "cell_type": "code",
   "execution_count": null,
   "metadata": {},
   "outputs": [],
   "source": [
    "df.to_csv('../Data/covid_scrape.csv')"
   ]
  },
  {
   "cell_type": "code",
   "execution_count": null,
   "metadata": {},
   "outputs": [],
   "source": [
    "df = pd.read_csv('../Data/covid_scrape.csv')\n",
    "df.drop(labels=['Unnamed: 0.1','Unnamed: 0'],axis=1,inplace=True)\n",
    "df.head()"
   ]
  },
  {
   "cell_type": "markdown",
   "metadata": {},
   "source": [
    "### Some plotting"
   ]
  },
  {
   "cell_type": "code",
   "execution_count": null,
   "metadata": {},
   "outputs": [],
   "source": [
    "import matplotlib.pyplot as plt"
   ]
  },
  {
   "cell_type": "code",
   "execution_count": null,
   "metadata": {},
   "outputs": [],
   "source": [
    "df = df.sort_values(by='Weekly_Case_Change', ascending=False)\n",
    "df.head()"
   ]
  },
  {
   "cell_type": "code",
   "execution_count": null,
   "metadata": {},
   "outputs": [],
   "source": [
    "plt.figure(dpi=100)\n",
    "plt.barh(df.Countries[0:5], df.Weekly_Case_Change[0:5])\n",
    "plt.xlabel('Weekly_Case_Change')\n",
    "plt.show()"
   ]
  },
  {
   "cell_type": "code",
   "execution_count": null,
   "metadata": {},
   "outputs": [],
   "source": [
    "df = df.sort_values(by='Weekly_Death_Change', ascending=False)\n",
    "df.head()"
   ]
  },
  {
   "cell_type": "code",
   "execution_count": null,
   "metadata": {},
   "outputs": [],
   "source": [
    "plt.figure(dpi=100)\n",
    "plt.barh(df.head().Countries, df.head().Weekly_Death_Change)\n",
    "plt.xlabel('Weekly_Death_Change')\n",
    "plt.show()"
   ]
  },
  {
   "cell_type": "code",
   "execution_count": null,
   "metadata": {},
   "outputs": [],
   "source": [
    "plt.figure(dpi=100)\n",
    "plt.scatter(df.Weekly_Case_Change, df.Weekly_Death_Change)\n",
    "plt.xlabel('Weekly Case Change')\n",
    "plt.ylabel('Weekly Death Change')\n",
    "plt.show()"
   ]
  },
  {
   "cell_type": "code",
   "execution_count": null,
   "metadata": {},
   "outputs": [],
   "source": [
    "plt.figure(dpi=100)\n",
    "plt.scatter(df.Weekly_Case_Change, df.Weekly_Death_Change)\n",
    "plt.xlabel('Weekly Case Change')\n",
    "plt.ylabel('Weekly Death Change')\n",
    "plt.xlim([-1000, 1000])\n",
    "plt.ylim([-50, 50])\n",
    "plt.show()"
   ]
  },
  {
   "cell_type": "code",
   "execution_count": null,
   "outputs": [],
   "source": [],
   "metadata": {
    "collapsed": false,
    "pycharm": {
     "is_executing": true
    }
   }
  },
  {
   "cell_type": "code",
   "execution_count": null,
   "outputs": [],
   "source": [],
   "metadata": {
    "collapsed": false
   }
  }
 ],
 "metadata": {
  "kernelspec": {
   "display_name": "Python 3 (ipykernel)",
   "language": "python",
   "name": "python3"
  },
  "language_info": {
   "codemirror_mode": {
    "name": "ipython",
    "version": 3
   },
   "file_extension": ".py",
   "mimetype": "text/x-python",
   "name": "python",
   "nbconvert_exporter": "python",
   "pygments_lexer": "ipython3",
   "version": "3.10.9"
  }
 },
 "nbformat": 4,
 "nbformat_minor": 2
}
